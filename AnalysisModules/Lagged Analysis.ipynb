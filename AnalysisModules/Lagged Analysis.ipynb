{
 "cells": [
  {
   "cell_type": "code",
   "execution_count": 49,
   "metadata": {
    "collapsed": true
   },
   "outputs": [],
   "source": [
    "import pandas as pd\n",
    "import numpy as np\n",
    "%matplotlib inline"
   ]
  },
  {
   "cell_type": "code",
   "execution_count": 53,
   "metadata": {
    "collapsed": false
   },
   "outputs": [],
   "source": [
    "df = pd.read_csv('c:\\Research_data\\lagged_analysis_2_ds.csv')\n",
    "df.patientID = df.patientID.astype('category')\n",
    "df.ds_lag_18_bin = df.ds_lag_18_bin.astype('category')\n"
   ]
  },
  {
   "cell_type": "code",
   "execution_count": 51,
   "metadata": {
    "collapsed": false
   },
   "outputs": [
    {
     "data": {
      "text/html": [
       "<div>\n",
       "<table border=\"1\" class=\"dataframe\">\n",
       "  <thead>\n",
       "    <tr style=\"text-align: right;\">\n",
       "      <th></th>\n",
       "      <th>start_time</th>\n",
       "      <th>analysis.ds</th>\n",
       "      <th>breath_number</th>\n",
       "      <th>patientID</th>\n",
       "      <th>vent_settings.FiO2</th>\n",
       "      <th>vent_settings.PEEP</th>\n",
       "      <th>vent_settings.compliance</th>\n",
       "      <th>vent_settings.p_peak</th>\n",
       "      <th>vent_settings.set_VT</th>\n",
       "      <th>NMB</th>\n",
       "      <th>...</th>\n",
       "      <th>NMB_lag18</th>\n",
       "      <th>ds_lag_24</th>\n",
       "      <th>FiO2_diff_lag_24</th>\n",
       "      <th>PEEP_diff_lag_24</th>\n",
       "      <th>p_peak_diff_lag_24</th>\n",
       "      <th>set_VT_diff_lag_24</th>\n",
       "      <th>NMB_lag24</th>\n",
       "      <th>ds_lag_12_bin</th>\n",
       "      <th>ds_lag_18_bin</th>\n",
       "      <th>ds_lag_24_bin</th>\n",
       "    </tr>\n",
       "  </thead>\n",
       "  <tbody>\n",
       "    <tr>\n",
       "      <th>0</th>\n",
       "      <td>2014-04-21 12:00:00</td>\n",
       "      <td>NaN</td>\n",
       "      <td>5.0</td>\n",
       "      <td>P100</td>\n",
       "      <td>40.000000</td>\n",
       "      <td>5.0</td>\n",
       "      <td>28.600000</td>\n",
       "      <td>25.600000</td>\n",
       "      <td>510.0</td>\n",
       "      <td>NaN</td>\n",
       "      <td>...</td>\n",
       "      <td>NaN</td>\n",
       "      <td>NaN</td>\n",
       "      <td>NaN</td>\n",
       "      <td>NaN</td>\n",
       "      <td>NaN</td>\n",
       "      <td>NaN</td>\n",
       "      <td>NaN</td>\n",
       "      <td>NaN</td>\n",
       "      <td>NaN</td>\n",
       "      <td>NaN</td>\n",
       "    </tr>\n",
       "    <tr>\n",
       "      <th>1</th>\n",
       "      <td>2014-04-21 16:00:00</td>\n",
       "      <td>1.0</td>\n",
       "      <td>72.0</td>\n",
       "      <td>P100</td>\n",
       "      <td>40.000000</td>\n",
       "      <td>5.0</td>\n",
       "      <td>30.763889</td>\n",
       "      <td>23.000000</td>\n",
       "      <td>510.0</td>\n",
       "      <td>NaN</td>\n",
       "      <td>...</td>\n",
       "      <td>NaN</td>\n",
       "      <td>NaN</td>\n",
       "      <td>NaN</td>\n",
       "      <td>NaN</td>\n",
       "      <td>NaN</td>\n",
       "      <td>NaN</td>\n",
       "      <td>NaN</td>\n",
       "      <td>NaN</td>\n",
       "      <td>NaN</td>\n",
       "      <td>NaN</td>\n",
       "    </tr>\n",
       "    <tr>\n",
       "      <th>2</th>\n",
       "      <td>2014-04-22 12:00:00</td>\n",
       "      <td>13.0</td>\n",
       "      <td>146.0</td>\n",
       "      <td>P100</td>\n",
       "      <td>40.000000</td>\n",
       "      <td>5.0</td>\n",
       "      <td>84.789855</td>\n",
       "      <td>15.904110</td>\n",
       "      <td>NaN</td>\n",
       "      <td>NaN</td>\n",
       "      <td>...</td>\n",
       "      <td>NaN</td>\n",
       "      <td>NaN</td>\n",
       "      <td>NaN</td>\n",
       "      <td>NaN</td>\n",
       "      <td>NaN</td>\n",
       "      <td>NaN</td>\n",
       "      <td>NaN</td>\n",
       "      <td>NaN</td>\n",
       "      <td>NaN</td>\n",
       "      <td>NaN</td>\n",
       "    </tr>\n",
       "    <tr>\n",
       "      <th>3</th>\n",
       "      <td>2014-04-22 18:00:00</td>\n",
       "      <td>540.0</td>\n",
       "      <td>2144.0</td>\n",
       "      <td>P101</td>\n",
       "      <td>50.000000</td>\n",
       "      <td>10.0</td>\n",
       "      <td>70.057297</td>\n",
       "      <td>20.664179</td>\n",
       "      <td>410.0</td>\n",
       "      <td>NaN</td>\n",
       "      <td>...</td>\n",
       "      <td>NaN</td>\n",
       "      <td>NaN</td>\n",
       "      <td>NaN</td>\n",
       "      <td>NaN</td>\n",
       "      <td>NaN</td>\n",
       "      <td>NaN</td>\n",
       "      <td>NaN</td>\n",
       "      <td>NaN</td>\n",
       "      <td>NaN</td>\n",
       "      <td>NaN</td>\n",
       "    </tr>\n",
       "    <tr>\n",
       "      <th>4</th>\n",
       "      <td>2014-04-22 20:00:00</td>\n",
       "      <td>304.0</td>\n",
       "      <td>1371.0</td>\n",
       "      <td>P101</td>\n",
       "      <td>72.808169</td>\n",
       "      <td>10.0</td>\n",
       "      <td>61.686869</td>\n",
       "      <td>22.427425</td>\n",
       "      <td>410.0</td>\n",
       "      <td>NaN</td>\n",
       "      <td>...</td>\n",
       "      <td>NaN</td>\n",
       "      <td>NaN</td>\n",
       "      <td>NaN</td>\n",
       "      <td>NaN</td>\n",
       "      <td>NaN</td>\n",
       "      <td>NaN</td>\n",
       "      <td>NaN</td>\n",
       "      <td>NaN</td>\n",
       "      <td>NaN</td>\n",
       "      <td>NaN</td>\n",
       "    </tr>\n",
       "  </tbody>\n",
       "</table>\n",
       "<p>5 rows × 33 columns</p>\n",
       "</div>"
      ],
      "text/plain": [
       "            start_time  analysis.ds  breath_number patientID  \\\n",
       "0  2014-04-21 12:00:00          NaN            5.0      P100   \n",
       "1  2014-04-21 16:00:00          1.0           72.0      P100   \n",
       "2  2014-04-22 12:00:00         13.0          146.0      P100   \n",
       "3  2014-04-22 18:00:00        540.0         2144.0      P101   \n",
       "4  2014-04-22 20:00:00        304.0         1371.0      P101   \n",
       "\n",
       "   vent_settings.FiO2  vent_settings.PEEP  vent_settings.compliance  \\\n",
       "0           40.000000                 5.0                 28.600000   \n",
       "1           40.000000                 5.0                 30.763889   \n",
       "2           40.000000                 5.0                 84.789855   \n",
       "3           50.000000                10.0                 70.057297   \n",
       "4           72.808169                10.0                 61.686869   \n",
       "\n",
       "   vent_settings.p_peak  vent_settings.set_VT  NMB      ...        NMB_lag18  \\\n",
       "0             25.600000                 510.0  NaN      ...              NaN   \n",
       "1             23.000000                 510.0  NaN      ...              NaN   \n",
       "2             15.904110                   NaN  NaN      ...              NaN   \n",
       "3             20.664179                 410.0  NaN      ...              NaN   \n",
       "4             22.427425                 410.0  NaN      ...              NaN   \n",
       "\n",
       "   ds_lag_24  FiO2_diff_lag_24  PEEP_diff_lag_24  p_peak_diff_lag_24  \\\n",
       "0        NaN               NaN               NaN                 NaN   \n",
       "1        NaN               NaN               NaN                 NaN   \n",
       "2        NaN               NaN               NaN                 NaN   \n",
       "3        NaN               NaN               NaN                 NaN   \n",
       "4        NaN               NaN               NaN                 NaN   \n",
       "\n",
       "   set_VT_diff_lag_24  NMB_lag24  ds_lag_12_bin  ds_lag_18_bin  ds_lag_24_bin  \n",
       "0                 NaN        NaN            NaN            NaN            NaN  \n",
       "1                 NaN        NaN            NaN            NaN            NaN  \n",
       "2                 NaN        NaN            NaN            NaN            NaN  \n",
       "3                 NaN        NaN            NaN            NaN            NaN  \n",
       "4                 NaN        NaN            NaN            NaN            NaN  \n",
       "\n",
       "[5 rows x 33 columns]"
      ]
     },
     "execution_count": 51,
     "metadata": {},
     "output_type": "execute_result"
    }
   ],
   "source": [
    "df.head()"
   ]
  },
  {
   "cell_type": "code",
   "execution_count": 23,
   "metadata": {
    "collapsed": false
   },
   "outputs": [],
   "source": [
    "\n",
    "df.dropna(subset=['ds_lag_18_bin'], axis=0, inplace=True)"
   ]
  },
  {
   "cell_type": "code",
   "execution_count": 29,
   "metadata": {
    "collapsed": false
   },
   "outputs": [],
   "source": [
    "gp = df.groupby(['ds_lag_18_bin', 'patientID',])"
   ]
  },
  {
   "cell_type": "code",
   "execution_count": 45,
   "metadata": {
    "collapsed": false
   },
   "outputs": [
    {
     "data": {
      "text/plain": [
       "Index(['start_time', 'analysis.ds', 'breath_number', 'patientID',\n",
       "       'vent_settings.FiO2', 'vent_settings.PEEP', 'vent_settings.compliance',\n",
       "       'vent_settings.p_peak', 'vent_settings.set_VT', 'NMB', 'NMB_sum',\n",
       "       'ds_freq', 'ds_lag_12', 'FiO2_diff_lag_12', 'PEEP_diff_lag_12',\n",
       "       'p_peak_diff_lag_12', 'set_VT_diff_lag_12', 'NMB_lag12', 'ds_lag_18',\n",
       "       'FiO2_diff_lag_18', 'PEEP_diff_lag_18', 'p_peak_diff_lag_18',\n",
       "       'set_VT_diff_lag_18', 'NMB_lag18', 'ds_lag_24', 'FiO2_diff_lag_24',\n",
       "       'PEEP_diff_lag_24', 'p_peak_diff_lag_24', 'set_VT_diff_lag_24',\n",
       "       'NMB_lag24', 'ds_lag_12_bin', 'ds_lag_18_bin', 'ds_lag_24_bin'],\n",
       "      dtype='object')"
      ]
     },
     "execution_count": 45,
     "metadata": {},
     "output_type": "execute_result"
    }
   ],
   "source": [
    "df.columns"
   ]
  },
  {
   "cell_type": "code",
   "execution_count": 31,
   "metadata": {
    "collapsed": false,
    "scrolled": true
   },
   "outputs": [
    {
     "data": {
      "text/plain": [
       "ds_lag_18_bin  patientID  ds_lag_18_bin\n",
       "0.0            P103       0.0               2\n",
       "               P105       0.0               4\n",
       "               P106       0.0               3\n",
       "               P110       0.0              11\n",
       "               P113       0.0              21\n",
       "               P114       0.0               4\n",
       "               P117       0.0              11\n",
       "               P119       0.0              35\n",
       "               P120       0.0               7\n",
       "               P121       0.0               5\n",
       "               P122       0.0              48\n",
       "               P124       0.0               7\n",
       "               P125       0.0              18\n",
       "               P126       0.0               3\n",
       "               P127       0.0               5\n",
       "               P129       0.0              36\n",
       "1.0            P101       1.0               7\n",
       "               P105       1.0               1\n",
       "               P110       1.0              21\n",
       "               P119       1.0               9\n",
       "               P120       1.0               3\n",
       "               P121       1.0               1\n",
       "               P124       1.0               9\n",
       "               P125       1.0               1\n",
       "               P126       1.0               2\n",
       "               P127       1.0               1\n",
       "dtype: int64"
      ]
     },
     "execution_count": 31,
     "metadata": {},
     "output_type": "execute_result"
    }
   ],
   "source": [
    "gp['ds_lag_18_bin'].value_counts()"
   ]
  },
  {
   "cell_type": "code",
   "execution_count": 32,
   "metadata": {
    "collapsed": false
   },
   "outputs": [
    {
     "data": {
      "text/plain": [
       "<matplotlib.axes._subplots.AxesSubplot at 0xace58d0>"
      ]
     },
     "execution_count": 32,
     "metadata": {},
     "output_type": "execute_result"
    },
    {
     "data": {
      "image/png": "[encoded data removed]",
      "text/plain": [
       "<matplotlib.figure.Figure at 0xad50eb8>"
      ]
     },
     "metadata": {},
     "output_type": "display_data"
    }
   ],
   "source": [
    "gp.FiO2_diff_lag_18.mean().plot(kind='bar')"
   ]
  },
  {
   "cell_type": "code",
   "execution_count": 42,
   "metadata": {
    "collapsed": false
   },
   "outputs": [
    {
     "data": {
      "text/plain": [
       "<matplotlib.axes._subplots.AxesSubplot at 0xadc6be0>"
      ]
     },
     "execution_count": 42,
     "metadata": {},
     "output_type": "execute_result"
    },
    {
     "data": {
      "image/png": "[encoded data removed]",
      "text/plain": [
       "<matplotlib.figure.Figure at 0xadbb9e8>"
      ]
     },
     "metadata": {},
     "output_type": "display_data"
    }
   ],
   "source": [
    "gp.PEEP_diff_lag_18.mean().plot(kind='bar')"
   ]
  },
  {
   "cell_type": "code",
   "execution_count": 48,
   "metadata": {
    "collapsed": false
   },
   "outputs": [
    {
     "data": {
      "text/html": [
       "<div>\n",
       "<table border=\"1\" class=\"dataframe\">\n",
       "  <thead>\n",
       "    <tr style=\"text-align: right;\">\n",
       "      <th></th>\n",
       "      <th></th>\n",
       "      <th>FiO2_diff_lag_18</th>\n",
       "      <th>PEEP_diff_lag_18</th>\n",
       "    </tr>\n",
       "    <tr>\n",
       "      <th>ds_lag_18_bin</th>\n",
       "      <th>patientID</th>\n",
       "      <th></th>\n",
       "      <th></th>\n",
       "    </tr>\n",
       "  </thead>\n",
       "  <tbody>\n",
       "    <tr>\n",
       "      <th rowspan=\"16\" valign=\"top\">0.0</th>\n",
       "      <th>P103</th>\n",
       "      <td>NaN</td>\n",
       "      <td>NaN</td>\n",
       "    </tr>\n",
       "    <tr>\n",
       "      <th>P105</th>\n",
       "      <td>NaN</td>\n",
       "      <td>NaN</td>\n",
       "    </tr>\n",
       "    <tr>\n",
       "      <th>P106</th>\n",
       "      <td>NaN</td>\n",
       "      <td>NaN</td>\n",
       "    </tr>\n",
       "    <tr>\n",
       "      <th>P110</th>\n",
       "      <td>0.705308</td>\n",
       "      <td>0.867515</td>\n",
       "    </tr>\n",
       "    <tr>\n",
       "      <th>P113</th>\n",
       "      <td>-7.671200</td>\n",
       "      <td>-0.624138</td>\n",
       "    </tr>\n",
       "    <tr>\n",
       "      <th>P114</th>\n",
       "      <td>-18.965418</td>\n",
       "      <td>-3.990171</td>\n",
       "    </tr>\n",
       "    <tr>\n",
       "      <th>P117</th>\n",
       "      <td>-10.000000</td>\n",
       "      <td>NaN</td>\n",
       "    </tr>\n",
       "    <tr>\n",
       "      <th>P119</th>\n",
       "      <td>-8.757572</td>\n",
       "      <td>-0.910140</td>\n",
       "    </tr>\n",
       "    <tr>\n",
       "      <th>P120</th>\n",
       "      <td>21.410527</td>\n",
       "      <td>1.816590</td>\n",
       "    </tr>\n",
       "    <tr>\n",
       "      <th>P121</th>\n",
       "      <td>NaN</td>\n",
       "      <td>-0.259197</td>\n",
       "    </tr>\n",
       "    <tr>\n",
       "      <th>P122</th>\n",
       "      <td>-6.808678</td>\n",
       "      <td>-0.659062</td>\n",
       "    </tr>\n",
       "    <tr>\n",
       "      <th>P124</th>\n",
       "      <td>12.190972</td>\n",
       "      <td>2.000000</td>\n",
       "    </tr>\n",
       "    <tr>\n",
       "      <th>P125</th>\n",
       "      <td>-12.334837</td>\n",
       "      <td>-3.725028</td>\n",
       "    </tr>\n",
       "    <tr>\n",
       "      <th>P126</th>\n",
       "      <td>6.177352</td>\n",
       "      <td>0.415646</td>\n",
       "    </tr>\n",
       "    <tr>\n",
       "      <th>P127</th>\n",
       "      <td>-25.749552</td>\n",
       "      <td>-2.706808</td>\n",
       "    </tr>\n",
       "    <tr>\n",
       "      <th>P129</th>\n",
       "      <td>-12.476158</td>\n",
       "      <td>-0.700274</td>\n",
       "    </tr>\n",
       "    <tr>\n",
       "      <th rowspan=\"10\" valign=\"top\">1.0</th>\n",
       "      <th>P101</th>\n",
       "      <td>-2.516866</td>\n",
       "      <td>-1.767185</td>\n",
       "    </tr>\n",
       "    <tr>\n",
       "      <th>P105</th>\n",
       "      <td>NaN</td>\n",
       "      <td>NaN</td>\n",
       "    </tr>\n",
       "    <tr>\n",
       "      <th>P110</th>\n",
       "      <td>8.636591</td>\n",
       "      <td>2.649409</td>\n",
       "    </tr>\n",
       "    <tr>\n",
       "      <th>P119</th>\n",
       "      <td>-10.000000</td>\n",
       "      <td>0.256366</td>\n",
       "    </tr>\n",
       "    <tr>\n",
       "      <th>P120</th>\n",
       "      <td>46.276068</td>\n",
       "      <td>3.322038</td>\n",
       "    </tr>\n",
       "    <tr>\n",
       "      <th>P121</th>\n",
       "      <td>NaN</td>\n",
       "      <td>NaN</td>\n",
       "    </tr>\n",
       "    <tr>\n",
       "      <th>P124</th>\n",
       "      <td>8.957783</td>\n",
       "      <td>2.481333</td>\n",
       "    </tr>\n",
       "    <tr>\n",
       "      <th>P125</th>\n",
       "      <td>-0.396601</td>\n",
       "      <td>-0.080737</td>\n",
       "    </tr>\n",
       "    <tr>\n",
       "      <th>P126</th>\n",
       "      <td>10.000000</td>\n",
       "      <td>NaN</td>\n",
       "    </tr>\n",
       "    <tr>\n",
       "      <th>P127</th>\n",
       "      <td>-30.000000</td>\n",
       "      <td>-4.000000</td>\n",
       "    </tr>\n",
       "  </tbody>\n",
       "</table>\n",
       "</div>"
      ],
      "text/plain": [
       "                         FiO2_diff_lag_18  PEEP_diff_lag_18\n",
       "ds_lag_18_bin patientID                                    \n",
       "0.0           P103                    NaN               NaN\n",
       "              P105                    NaN               NaN\n",
       "              P106                    NaN               NaN\n",
       "              P110               0.705308          0.867515\n",
       "              P113              -7.671200         -0.624138\n",
       "              P114             -18.965418         -3.990171\n",
       "              P117             -10.000000               NaN\n",
       "              P119              -8.757572         -0.910140\n",
       "              P120              21.410527          1.816590\n",
       "              P121                    NaN         -0.259197\n",
       "              P122              -6.808678         -0.659062\n",
       "              P124              12.190972          2.000000\n",
       "              P125             -12.334837         -3.725028\n",
       "              P126               6.177352          0.415646\n",
       "              P127             -25.749552         -2.706808\n",
       "              P129             -12.476158         -0.700274\n",
       "1.0           P101              -2.516866         -1.767185\n",
       "              P105                    NaN               NaN\n",
       "              P110               8.636591          2.649409\n",
       "              P119             -10.000000          0.256366\n",
       "              P120              46.276068          3.322038\n",
       "              P121                    NaN               NaN\n",
       "              P124               8.957783          2.481333\n",
       "              P125              -0.396601         -0.080737\n",
       "              P126              10.000000               NaN\n",
       "              P127             -30.000000         -4.000000"
      ]
     },
     "execution_count": 48,
     "metadata": {},
     "output_type": "execute_result"
    }
   ],
   "source": [
    "\n",
    "gp.agg({'FiO2_diff_lag_18':np.mean, 'PEEP_diff_lag_18':np.mean})"
   ]
  },
  {
   "cell_type": "code",
   "execution_count": null,
   "metadata": {
    "collapsed": true
   },
   "outputs": [],
   "source": []
  }
 ],
 "metadata": {
  "kernelspec": {
   "display_name": "Python 3",
   "language": "python",
   "name": "python3"
  },
  "language_info": {
   "codemirror_mode": {
    "name": "ipython",
    "version": 3
   },
   "file_extension": ".py",
   "mimetype": "text/x-python",
   "name": "python",
   "nbconvert_exporter": "python",
   "pygments_lexer": "ipython3",
   "version": "3.5.1"
  }
 },
 "nbformat": 4,
 "nbformat_minor": 0
}
