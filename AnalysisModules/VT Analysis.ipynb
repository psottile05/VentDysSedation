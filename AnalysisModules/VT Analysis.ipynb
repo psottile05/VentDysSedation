{
 "cells": [
  {
   "cell_type": "code",
   "execution_count": 1,
   "metadata": {
    "collapsed": true
   },
   "outputs": [],
   "source": [
    "import pymongo\n",
    "import pandas as pd\n",
    "import numpy as np\n",
    "import matplotlib.pyplot as plt\n",
    "import sklearn.preprocessing as skl\n",
    "\n",
    "client = pymongo.MongoClient()\n",
    "db = client.VentDyssynchrony_db\n",
    "ventSettings = db.VentSettings_collection\n",
    "breathData = db.BreathData_collection\n",
    "RT = db.RTData_collection\n",
    "RN = db.RNData_collection\n",
    "patient = db. PatientData_collection\n",
    "\n",
    "%matplotlib inline"
   ]
  },
  {
   "cell_type": "code",
   "execution_count": 2,
   "metadata": {
    "collapsed": false
   },
   "outputs": [],
   "source": [
    "def find_norms(x):\n",
    "    if x['analysis.ds'] == False and x['analysis.pl'] == False and \\\n",
    "        x['analysis.pvt'] == False and x['analysis.ie'] == False:\n",
    "            return True\n",
    "    else: return False\n",
    "    \n",
    "def find_true_ds(x, ds_type):\n",
    "    if x['analysis.'+ ds_type] == True and x['norms'] == False:\n",
    "        return 1\n",
    "    elif x['analysis.'+ ds_type] == False and x['norms'] == False:\n",
    "        return np.nan\n",
    "    elif x['analysis.'+ ds_type] == False and x['norms'] == True:\n",
    "        return 0"
   ]
  },
  {
   "cell_type": "code",
   "execution_count": 3,
   "metadata": {
    "collapsed": false
   },
   "outputs": [
    {
     "data": {
      "text/html": [
       "<div>\n",
       "<table border=\"1\" class=\"dataframe\">\n",
       "  <thead>\n",
       "    <tr style=\"text-align: right;\">\n",
       "      <th></th>\n",
       "      <th>PBW</th>\n",
       "    </tr>\n",
       "    <tr>\n",
       "      <th>Study ID</th>\n",
       "      <th></th>\n",
       "    </tr>\n",
       "  </thead>\n",
       "  <tbody>\n",
       "    <tr>\n",
       "      <th>100</th>\n",
       "      <td>84.5</td>\n",
       "    </tr>\n",
       "    <tr>\n",
       "      <th>101</th>\n",
       "      <td>68.4</td>\n",
       "    </tr>\n",
       "    <tr>\n",
       "      <th>102</th>\n",
       "      <td>52.4</td>\n",
       "    </tr>\n",
       "    <tr>\n",
       "      <th>103</th>\n",
       "      <td>47.8</td>\n",
       "    </tr>\n",
       "    <tr>\n",
       "      <th>104</th>\n",
       "      <td>79.9</td>\n",
       "    </tr>\n",
       "    <tr>\n",
       "      <th>105</th>\n",
       "      <td>68.4</td>\n",
       "    </tr>\n",
       "    <tr>\n",
       "      <th>106</th>\n",
       "      <td>61.6</td>\n",
       "    </tr>\n",
       "    <tr>\n",
       "      <th>107</th>\n",
       "      <td>45.5</td>\n",
       "    </tr>\n",
       "    <tr>\n",
       "      <th>108</th>\n",
       "      <td>54.7</td>\n",
       "    </tr>\n",
       "    <tr>\n",
       "      <th>109</th>\n",
       "      <td>61.6</td>\n",
       "    </tr>\n",
       "    <tr>\n",
       "      <th>110</th>\n",
       "      <td>70.7</td>\n",
       "    </tr>\n",
       "    <tr>\n",
       "      <th>112</th>\n",
       "      <td>75.3</td>\n",
       "    </tr>\n",
       "    <tr>\n",
       "      <th>113</th>\n",
       "      <td>59.2</td>\n",
       "    </tr>\n",
       "    <tr>\n",
       "      <th>114</th>\n",
       "      <td>52.4</td>\n",
       "    </tr>\n",
       "    <tr>\n",
       "      <th>115</th>\n",
       "      <td>52.4</td>\n",
       "    </tr>\n",
       "  </tbody>\n",
       "</table>\n",
       "</div>"
      ],
      "text/plain": [
       "           PBW\n",
       "Study ID      \n",
       "100       84.5\n",
       "101       68.4\n",
       "102       52.4\n",
       "103       47.8\n",
       "104       79.9\n",
       "105       68.4\n",
       "106       61.6\n",
       "107       45.5\n",
       "108       54.7\n",
       "109       61.6\n",
       "110       70.7\n",
       "112       75.3\n",
       "113       59.2\n",
       "114       52.4\n",
       "115       52.4"
      ]
     },
     "execution_count": 3,
     "metadata": {},
     "output_type": "execute_result"
    }
   ],
   "source": [
    "patient_df = pd.read_csv('C:\\Research_data\\Demographic Data v2.csv', engine = 'c',\n",
    "                             usecols = ['Study ID', 'PBW'])\n",
    "patient_df.set_index(['Study ID'], inplace = True)\n",
    "patient_df.head(15)"
   ]
  },
  {
   "cell_type": "code",
   "execution_count": 73,
   "metadata": {
    "collapsed": true
   },
   "outputs": [],
   "source": [
    "data = breathData.find({},\n",
    "                           {'patientID': 1, 'start_time': 1, 'breath_number': 1, 'characteristics.max_vol': 1,\n",
    "                            'analysis':1, '_id': 0})"
   ]
  },
  {
   "cell_type": "code",
   "execution_count": 74,
   "metadata": {
    "collapsed": false,
    "scrolled": true
   },
   "outputs": [],
   "source": [
    "df = pd.io.json.json_normalize(data)\n",
    "df['start_time'] = pd.to_datetime(df['start_time'])\n",
    "df['norms'] = df.apply(find_norms, axis=1)\n",
    "\n",
    "for items in ['ds', 'pl', 'pvt', 'ie']:\n",
    "    df['true_'+items] = df.apply(find_true_ds, ds_type=items, axis=1)\n",
    "    df.drop(labels='analysis.'+items, axis=1, inplace=True)\n",
    "    \n",
    "df.drop(labels=['analysis.fl', 'analysis.pds'], axis=1, inplace=True)"
   ]
  },
  {
   "cell_type": "code",
   "execution_count": 75,
   "metadata": {
    "collapsed": false
   },
   "outputs": [
    {
     "data": {
      "text/plain": [
       "Index(['analysis.validation', 'breath_number', 'characteristics.max_vol',\n",
       "       'patientID', 'start_time', 'norms', 'true_ds', 'true_pl', 'true_pvt',\n",
       "       'true_ie'],\n",
       "      dtype='object')"
      ]
     },
     "execution_count": 75,
     "metadata": {},
     "output_type": "execute_result"
    }
   ],
   "source": [
    "df.columns"
   ]
  },
  {
   "cell_type": "code",
   "execution_count": 134,
   "metadata": {
    "collapsed": false
   },
   "outputs": [],
   "source": [
    "df['PBW'] = np.nan\n",
    "df.patientID = df.patientID.str.strip('P')\n",
    "\n",
    "for rows in patient_df.iterrows():\n",
    "    PBW = rows[1].ix[0]\n",
    "    patientID = rows[0]\n",
    "    \n",
    "    df.loc[df.patientID == str(patientID), 'PBW'] = PBW\n",
    "    \n",
    "df['VT_PBW'] = df['characteristics.max_vol'] / df.PBW"
   ]
  },
  {
   "cell_type": "code",
   "execution_count": 135,
   "metadata": {
    "collapsed": false
   },
   "outputs": [
    {
     "data": {
      "text/html": [
       "<div>\n",
       "<table border=\"1\" class=\"dataframe\">\n",
       "  <thead>\n",
       "    <tr style=\"text-align: right;\">\n",
       "      <th></th>\n",
       "      <th>VT_PBW</th>\n",
       "      <th>characteristics.max_vol</th>\n",
       "    </tr>\n",
       "  </thead>\n",
       "  <tbody>\n",
       "    <tr>\n",
       "      <th>count</th>\n",
       "      <td>1784994.000000</td>\n",
       "      <td>1817239.000000</td>\n",
       "    </tr>\n",
       "    <tr>\n",
       "      <th>mean</th>\n",
       "      <td>6.540054</td>\n",
       "      <td>419.044139</td>\n",
       "    </tr>\n",
       "    <tr>\n",
       "      <th>std</th>\n",
       "      <td>2.144918</td>\n",
       "      <td>153.008430</td>\n",
       "    </tr>\n",
       "    <tr>\n",
       "      <th>min</th>\n",
       "      <td>-7.945205</td>\n",
       "      <td>-1075.000000</td>\n",
       "    </tr>\n",
       "    <tr>\n",
       "      <th>25%</th>\n",
       "      <td>5.508475</td>\n",
       "      <td>355.000000</td>\n",
       "    </tr>\n",
       "    <tr>\n",
       "      <th>50%</th>\n",
       "      <td>6.378866</td>\n",
       "      <td>410.000000</td>\n",
       "    </tr>\n",
       "    <tr>\n",
       "      <th>75%</th>\n",
       "      <td>7.322176</td>\n",
       "      <td>460.000000</td>\n",
       "    </tr>\n",
       "    <tr>\n",
       "      <th>max</th>\n",
       "      <td>82.467532</td>\n",
       "      <td>5117.500000</td>\n",
       "    </tr>\n",
       "  </tbody>\n",
       "</table>\n",
       "</div>"
      ],
      "text/plain": [
       "               VT_PBW  characteristics.max_vol\n",
       "count  1784994.000000           1817239.000000\n",
       "mean         6.540054               419.044139\n",
       "std          2.144918               153.008430\n",
       "min         -7.945205             -1075.000000\n",
       "25%          5.508475               355.000000\n",
       "50%          6.378866               410.000000\n",
       "75%          7.322176               460.000000\n",
       "max         82.467532              5117.500000"
      ]
     },
     "execution_count": 135,
     "metadata": {},
     "output_type": "execute_result"
    }
   ],
   "source": [
    "df[['VT_PBW', 'characteristics.max_vol']].describe()"
   ]
  },
  {
   "cell_type": "code",
   "execution_count": 136,
   "metadata": {
    "collapsed": true
   },
   "outputs": [],
   "source": [
    "df.to_csv('c:\\Research_data\\VT_analysis.csv')"
   ]
  },
  {
   "cell_type": "code",
   "execution_count": null,
   "metadata": {
    "collapsed": true
   },
   "outputs": [],
   "source": [
    ""
   ]
  },
  {
   "cell_type": "code",
   "execution_count": null,
   "metadata": {
    "collapsed": true
   },
   "outputs": [],
   "source": [
    ""
   ]
  }
 ],
 "metadata": {
  "kernelspec": {
   "display_name": "Python 3",
   "language": "python",
   "name": "python3"
  },
  "language_info": {
   "codemirror_mode": {
    "name": "ipython",
    "version": 3.0
   },
   "file_extension": ".py",
   "mimetype": "text/x-python",
   "name": "python",
   "nbconvert_exporter": "python",
   "pygments_lexer": "ipython3",
   "version": "3.5.1"
  }
 },
 "nbformat": 4,
 "nbformat_minor": 0
}