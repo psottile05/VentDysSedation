{
 "cells": [
  {
   "cell_type": "code",
   "execution_count": 1,
   "metadata": {
    "collapsed": false
   },
   "outputs": [],
   "source": [
    "import pymongo\n",
    "import pandas as pd\n",
    "import numpy as np\n",
    "from datetime import datetime\n",
    "import matplotlib.pyplot as plt\n",
    "import seaborn as sb\n",
    "import dask.dataframe as ddf\n",
    "\n",
    "client = pymongo.MongoClient()\n",
    "db = client.VentDB\n",
    "breathData = db.breath_collection\n",
    "RN = db.RN_collection\n",
    "\n",
    "%matplotlib inline"
   ]
  },
  {
   "cell_type": "code",
   "execution_count": 2,
   "metadata": {
    "collapsed": false
   },
   "outputs": [],
   "source": [
    "def bin_samples(x):\n",
    "    if x <= 0.05:\n",
    "        return 0\n",
    "    elif x == np.nan:\n",
    "        return np.nan\n",
    "    elif x > 0.05:\n",
    "        return 1"
   ]
  },
  {
   "cell_type": "code",
   "execution_count": 3,
   "metadata": {
    "collapsed": false
   },
   "outputs": [],
   "source": [
    "#breathData.find().count()"
   ]
  },
  {
   "cell_type": "code",
   "execution_count": 4,
   "metadata": {
    "collapsed": false,
    "scrolled": true
   },
   "outputs": [],
   "source": [
    "patient_df = pd.read_csv('C:\\Research_data\\Demographic Data v3.csv', engine = 'c',\n",
    "                             usecols = ['Study ID', 'Age', 'Gender', 'P/F Ratio', 'NMB', 'Start_End_NMB', 'End MV Date/Time', 'Hospital Discharge Date/Time', 'Discharge Location'])\n",
    "patient_df.set_index(['Study ID'], inplace = True, drop=False)\n",
    "patient_df.head(15)\n",
    "patient_df.to_hdf('c:\\Research_data\\Analysis\\Lagged_DS\\ds_patient_test.h5', key='patient', format='table', append=False)"
   ]
  },
  {
   "cell_type": "code",
   "execution_count": 5,
   "metadata": {
    "collapsed": false
   },
   "outputs": [],
   "source": [
    "\n",
    "patient_df['End MV Date/Time'] = pd.to_datetime(patient_df['End MV Date/Time'])"
   ]
  },
  {
   "cell_type": "code",
   "execution_count": 6,
   "metadata": {
    "collapsed": false
   },
   "outputs": [
    {
     "data": {
      "text/html": [
       "<div>\n",
       "<table border=\"1\" class=\"dataframe\">\n",
       "  <thead>\n",
       "    <tr style=\"text-align: right;\">\n",
       "      <th></th>\n",
       "      <th>Study ID</th>\n",
       "      <th>Age</th>\n",
       "      <th>Gender</th>\n",
       "      <th>Hospital Discharge Date/Time</th>\n",
       "      <th>End MV Date/Time</th>\n",
       "      <th>NMB</th>\n",
       "      <th>Start_End_NMB</th>\n",
       "      <th>P/F Ratio</th>\n",
       "      <th>Discharge Location</th>\n",
       "    </tr>\n",
       "    <tr>\n",
       "      <th>Study ID</th>\n",
       "      <th></th>\n",
       "      <th></th>\n",
       "      <th></th>\n",
       "      <th></th>\n",
       "      <th></th>\n",
       "      <th></th>\n",
       "      <th></th>\n",
       "      <th></th>\n",
       "      <th></th>\n",
       "    </tr>\n",
       "  </thead>\n",
       "  <tbody>\n",
       "    <tr>\n",
       "      <th>100</th>\n",
       "      <td>100</td>\n",
       "      <td>25</td>\n",
       "      <td>0</td>\n",
       "      <td>4/25/2014 15:37</td>\n",
       "      <td>2014-04-22 14:02:00</td>\n",
       "      <td>0</td>\n",
       "      <td>NaN</td>\n",
       "      <td>225.000000</td>\n",
       "      <td>1</td>\n",
       "    </tr>\n",
       "    <tr>\n",
       "      <th>101</th>\n",
       "      <td>101</td>\n",
       "      <td>65</td>\n",
       "      <td>0</td>\n",
       "      <td>5/2/2014 14:40</td>\n",
       "      <td>2014-04-27 10:45:00</td>\n",
       "      <td>0</td>\n",
       "      <td>NaN</td>\n",
       "      <td>75.555556</td>\n",
       "      <td>0</td>\n",
       "    </tr>\n",
       "    <tr>\n",
       "      <th>102</th>\n",
       "      <td>102</td>\n",
       "      <td>49</td>\n",
       "      <td>1</td>\n",
       "      <td>5/19/2014 13:17</td>\n",
       "      <td>2014-05-12 11:29:00</td>\n",
       "      <td>0</td>\n",
       "      <td>NaN</td>\n",
       "      <td>101.000000</td>\n",
       "      <td>1</td>\n",
       "    </tr>\n",
       "    <tr>\n",
       "      <th>103</th>\n",
       "      <td>103</td>\n",
       "      <td>58</td>\n",
       "      <td>1</td>\n",
       "      <td>6/3/2014 16:02</td>\n",
       "      <td>2014-05-29 15:56:00</td>\n",
       "      <td>0</td>\n",
       "      <td>NaN</td>\n",
       "      <td>195.000000</td>\n",
       "      <td>1</td>\n",
       "    </tr>\n",
       "    <tr>\n",
       "      <th>104</th>\n",
       "      <td>104</td>\n",
       "      <td>42</td>\n",
       "      <td>0</td>\n",
       "      <td>7/19/2014 14:10</td>\n",
       "      <td>2014-07-17 16:20:00</td>\n",
       "      <td>1</td>\n",
       "      <td>7/6/14 17:00, 7/7/14 21:00</td>\n",
       "      <td>142.857143</td>\n",
       "      <td>1</td>\n",
       "    </tr>\n",
       "  </tbody>\n",
       "</table>\n",
       "</div>"
      ],
      "text/plain": [
       "          Study ID  Age  Gender Hospital Discharge Date/Time  \\\n",
       "Study ID                                                       \n",
       "100            100   25       0              4/25/2014 15:37   \n",
       "101            101   65       0               5/2/2014 14:40   \n",
       "102            102   49       1              5/19/2014 13:17   \n",
       "103            103   58       1               6/3/2014 16:02   \n",
       "104            104   42       0              7/19/2014 14:10   \n",
       "\n",
       "            End MV Date/Time  NMB               Start_End_NMB   P/F Ratio  \\\n",
       "Study ID                                                                    \n",
       "100      2014-04-22 14:02:00    0                         NaN  225.000000   \n",
       "101      2014-04-27 10:45:00    0                         NaN   75.555556   \n",
       "102      2014-05-12 11:29:00    0                         NaN  101.000000   \n",
       "103      2014-05-29 15:56:00    0                         NaN  195.000000   \n",
       "104      2014-07-17 16:20:00    1  7/6/14 17:00, 7/7/14 21:00  142.857143   \n",
       "\n",
       "          Discharge Location  \n",
       "Study ID                      \n",
       "100                        1  \n",
       "101                        0  \n",
       "102                        1  \n",
       "103                        1  \n",
       "104                        1  "
      ]
     },
     "execution_count": 6,
     "metadata": {},
     "output_type": "execute_result"
    }
   ],
   "source": [
    "patient_df.head()"
   ]
  },
  {
   "cell_type": "code",
   "execution_count": 7,
   "metadata": {
    "collapsed": false
   },
   "outputs": [],
   "source": [
    "#data = breathData.find({},\n",
    "#                       {'patient_id': 1, 'date_time': 1, 'breath_num': 1, 'breath_settings.peep': 1,\n",
    "#                        'breath_settings.fio2': 1, 'breath_settings.set_VT': 1, 'breath_character.elapse_time':1, \n",
    "#                        'breath_character.peak_vol':1, 'breath_settings.peak_paw': 1, 'label.' + ds_types: 1, '_id': 1})\n",
    "\n",
    "\n",
    "#rn = RN.find({'$or': [{'FiO2': {'$exists': 1}}, {'PEEP': {'$exists': 1}}]},\n",
    "#             {'patientID': 1, 'date_time': 1, 'FiO2': 1, 'PEEP': 1, 'SpO2': 1, 'Set Vt': 1, 'Plat':1,\n",
    "#              '_id': 0})"
   ]
  },
  {
   "cell_type": "code",
   "execution_count": 8,
   "metadata": {
    "collapsed": false
   },
   "outputs": [],
   "source": [
    "#df = pd.io.json.json_normalize(data)\n",
    "#rn_df = pd.io.json.json_normalize(list(rn))"
   ]
  },
  {
   "cell_type": "code",
   "execution_count": 9,
   "metadata": {
    "collapsed": false
   },
   "outputs": [
    {
     "data": {
      "text/plain": [
       "\"\\ndf['date_time'] = pd.to_datetime(df['date_time'], unit='s').dt.tz_localize('UTC').dt.tz_convert('US/Mountain').dt.tz_localize(None)\\ndf.dropna(axis=0, how='all', subset=['breath_settings.fio2', 'breath_settings.peep'], inplace=True)\\ndf.drop_duplicates(subset = 'date_time', keep = 'last', inplace = True)\\ndf.set_index(['patient_id'], inplace = True, drop = False)\\ndf.sort_index(inplace = True)\\ndf['breath_settings.peep'] = df['breath_settings.peep'].astype(np.float64)\\ndf['breath_num'] = df['breath_num'].astype(np.float64)\\ndf['label.' + ds_types] = df['label.' + ds_types].astype(np.float64)\\n\\ndf.rename(columns={'breath_settings.fio2':'fio2', 'breath_settings.peep': 'peep',\\n                        'breath_settings.set_VT': 'set_vt', 'breath_character.elapse_time': 'elapse_time', \\n                        'breath_character.peak_vol': 'peak_vol', 'breath_settings.peak_paw': 'peak_paw'}, inplace=True)\\n\\ndf = df[(df['elapse_time'] < 10000) &         (df['peak_vol'] < 1000) & (df['peak_vol'] > 100)]\\n\""
      ]
     },
     "execution_count": 9,
     "metadata": {},
     "output_type": "execute_result"
    }
   ],
   "source": [
    "'''\n",
    "df['date_time'] = pd.to_datetime(df['date_time'], unit='s').dt.tz_localize('UTC').dt.tz_convert('US/Mountain').dt.tz_localize(None)\n",
    "df.dropna(axis=0, how='all', subset=['breath_settings.fio2', 'breath_settings.peep'], inplace=True)\n",
    "df.drop_duplicates(subset = 'date_time', keep = 'last', inplace = True)\n",
    "df.set_index(['patient_id'], inplace = True, drop = False)\n",
    "df.sort_index(inplace = True)\n",
    "df['breath_settings.peep'] = df['breath_settings.peep'].astype(np.float64)\n",
    "df['breath_num'] = df['breath_num'].astype(np.float64)\n",
    "df['label.' + ds_types] = df['label.' + ds_types].astype(np.float64)\n",
    "\n",
    "df.rename(columns={'breath_settings.fio2':'fio2', 'breath_settings.peep': 'peep',\n",
    "                        'breath_settings.set_VT': 'set_vt', 'breath_character.elapse_time': 'elapse_time', \n",
    "                        'breath_character.peak_vol': 'peak_vol', 'breath_settings.peak_paw': 'peak_paw'}, inplace=True)\n",
    "\n",
    "df = df[(df['elapse_time'] < 10000) & \\\n",
    "        (df['peak_vol'] < 1000) & (df['peak_vol'] > 100)]\n",
    "'''"
   ]
  },
  {
   "cell_type": "code",
   "execution_count": 10,
   "metadata": {
    "collapsed": false
   },
   "outputs": [],
   "source": [
    "#rn_df['date_time'] = pd.to_datetime(rn_df['date_time'], format='%m/%d/%Y %H:%M:%S')\n",
    "#rn_df.rename(columns={'patientID':'patient_id', 'FiO2':'fio2', 'PEEP':'peep', 'Set Vt': 'set_vt', 'SpO2':'spo2', 'Plat':'plat'}, inplace=True)\n",
    "#rn_df.dropna(axis=0, how='all', subset=['fio2', 'peep'], inplace=True)\n",
    "#rn_df.drop_duplicates(subset = 'date_time', keep = 'last', inplace = True)\n",
    "#rn_df.set_index(['patient_id', 'date_time'], inplace = True, drop=False)"
   ]
  },
  {
   "cell_type": "code",
   "execution_count": 11,
   "metadata": {
    "collapsed": true
   },
   "outputs": [],
   "source": [
    "#df.set_index(['patient_id', 'date_time'], inplace=True, drop=False)\n",
    "#df.sort_index(inplace=True)\n",
    "#df.set_index(['patient_id'], inplace=True, drop=False)"
   ]
  },
  {
   "cell_type": "code",
   "execution_count": 12,
   "metadata": {
    "collapsed": false
   },
   "outputs": [],
   "source": [
    "#df.to_hdf('c:\\Research_data\\Analysis\\Lagged_DS\\ds_breath_data.h5', key='breath', format='table', append=False)\n",
    "#rn_df.reset_index(inplace=True, drop=True)\n",
    "#rn_df.to_hdf('c:\\Research_data\\Analysis\\Lagged_DS\\ds_rn_data.h5', key='rn', format='table', append=False)\n",
    "#rn_df.set_index(['patient_id', 'date_time'], inplace = True, drop=False)"
   ]
  },
  {
   "cell_type": "code",
   "execution_count": 13,
   "metadata": {
    "collapsed": false
   },
   "outputs": [],
   "source": [
    "df = pd.read_hdf('c:\\Research_data\\Analysis\\pandas_breath_dump_5_1_16.h5', \n",
    "                 columns=['patient_id', 'date_time', 'breath_num', 'breath_settings.peep','breath_settings.fio2',\n",
    "                          'breath_settings.set_VT', 'breath_character.elapse_time', 'breath_character.peak_vol', \n",
    "                          'breath_settings.peak_paw', 'ds_predict', 'pfl_predict', 'pvt_predict', 'ie_predict',\n",
    "                          'breath_character.mean_insp_flow', 'breath_character.mean_exp_flow'])\n",
    "rn_df = pd.read_hdf('c:\\Research_data\\Analysis\\pandas_rn_dump_5_1_16.h5',\n",
    "                   columns=['patientID', 'date_time', 'FiO2', 'PEEP', 'SpO2', 'Set Vt', 'Plat', 'RASS'])\n"
   ]
  },
  {
   "cell_type": "code",
   "execution_count": 14,
   "metadata": {
    "collapsed": true
   },
   "outputs": [],
   "source": [
    "df.rename(columns={'breath_settings.fio2':'fio2', 'breath_settings.peep': 'peep',\n",
    "                        'breath_settings.set_VT': 'set_vt', 'breath_character.elapse_time': 'elapse_time', \n",
    "                        'breath_character.peak_vol': 'peak_vol', 'breath_settings.peak_paw': 'peak_paw'}, inplace=True)\n",
    "rn_df.rename(columns={'patientID':'patient_id', 'FiO2':'fio2', 'PEEP':'peep', 'Set Vt': 'set_vt', 'SpO2':'spo2', \n",
    "                      'Plat':'plat'}, inplace=True)"
   ]
  },
  {
   "cell_type": "code",
   "execution_count": 15,
   "metadata": {
    "collapsed": false
   },
   "outputs": [
    {
     "data": {
      "text/plain": [
       "patient_id                                  int64\n",
       "date_time                          datetime64[ns]\n",
       "breath_num                                  int64\n",
       "peep                                      float64\n",
       "fio2                                      float64\n",
       "set_vt                                    float64\n",
       "elapse_time                                 int64\n",
       "peak_vol                                  float64\n",
       "peak_paw                                  float64\n",
       "ds_predict                                float64\n",
       "pfl_predict                               float64\n",
       "pvt_predict                               float64\n",
       "ie_predict                                float64\n",
       "breath_character.mean_insp_flow           float64\n",
       "breath_character.mean_exp_flow            float64\n",
       "dtype: object"
      ]
     },
     "execution_count": 15,
     "metadata": {},
     "output_type": "execute_result"
    }
   ],
   "source": [
    "df.dtypes"
   ]
  },
  {
   "cell_type": "code",
   "execution_count": 16,
   "metadata": {
    "collapsed": false
   },
   "outputs": [
    {
     "data": {
      "text/plain": [
       "patient_id             int64\n",
       "date_time     datetime64[ns]\n",
       "fio2                 float64\n",
       "peep                 float64\n",
       "spo2                 float64\n",
       "set_vt               float64\n",
       "plat                 float64\n",
       "RASS                 float64\n",
       "dtype: object"
      ]
     },
     "execution_count": 16,
     "metadata": {},
     "output_type": "execute_result"
    }
   ],
   "source": [
    "rn_df.dtypes"
   ]
  },
  {
   "cell_type": "code",
   "execution_count": 17,
   "metadata": {
    "collapsed": false
   },
   "outputs": [
    {
     "data": {
      "text/plain": [
       "patient_id                         1904166\n",
       "date_time                          1904166\n",
       "breath_num                         1904166\n",
       "peep                               1869720\n",
       "fio2                               1869402\n",
       "set_vt                             1497097\n",
       "elapse_time                        1904166\n",
       "peak_vol                           1904166\n",
       "peak_paw                           1869369\n",
       "ds_predict                         1903815\n",
       "pfl_predict                        1903067\n",
       "pvt_predict                        1903067\n",
       "ie_predict                         1903057\n",
       "breath_character.mean_insp_flow    1903978\n",
       "breath_character.mean_exp_flow     1904098\n",
       "dtype: int64"
      ]
     },
     "execution_count": 17,
     "metadata": {},
     "output_type": "execute_result"
    }
   ],
   "source": [
    "df.count()"
   ]
  },
  {
   "cell_type": "code",
   "execution_count": 18,
   "metadata": {
    "collapsed": false
   },
   "outputs": [
    {
     "data": {
      "text/plain": [
       "patient_id    13979\n",
       "date_time     13979\n",
       "fio2           2710\n",
       "peep           2582\n",
       "spo2          11761\n",
       "set_vt         1739\n",
       "plat            589\n",
       "RASS           2288\n",
       "dtype: int64"
      ]
     },
     "execution_count": 18,
     "metadata": {},
     "output_type": "execute_result"
    }
   ],
   "source": [
    "rn_df.count()"
   ]
  },
  {
   "cell_type": "code",
   "execution_count": 19,
   "metadata": {
    "collapsed": false
   },
   "outputs": [
    {
     "data": {
      "text/plain": [
       "Timestamp('2005-07-01 14:55:27')"
      ]
     },
     "execution_count": 19,
     "metadata": {},
     "output_type": "execute_result"
    }
   ],
   "source": [
    "df.date_time.min()"
   ]
  },
  {
   "cell_type": "code",
   "execution_count": 20,
   "metadata": {
    "collapsed": false
   },
   "outputs": [
    {
     "data": {
      "text/plain": [
       "Timestamp('2015-11-10 06:09:52')"
      ]
     },
     "execution_count": 20,
     "metadata": {},
     "output_type": "execute_result"
    }
   ],
   "source": [
    "df.date_time.max()"
   ]
  },
  {
   "cell_type": "code",
   "execution_count": 21,
   "metadata": {
    "collapsed": false
   },
   "outputs": [
    {
     "data": {
      "text/plain": [
       "Timestamp('2014-04-11 19:43:00')"
      ]
     },
     "execution_count": 21,
     "metadata": {},
     "output_type": "execute_result"
    }
   ],
   "source": [
    "rn_df.date_time.min()"
   ]
  },
  {
   "cell_type": "code",
   "execution_count": 22,
   "metadata": {
    "collapsed": false
   },
   "outputs": [
    {
     "data": {
      "text/plain": [
       "Timestamp('2015-11-17 15:51:00')"
      ]
     },
     "execution_count": 22,
     "metadata": {},
     "output_type": "execute_result"
    }
   ],
   "source": [
    "rn_df.date_time.max()"
   ]
  },
  {
   "cell_type": "code",
   "execution_count": 23,
   "metadata": {
    "collapsed": false
   },
   "outputs": [
    {
     "data": {
      "text/plain": [
       "(1904166, 15)"
      ]
     },
     "execution_count": 23,
     "metadata": {},
     "output_type": "execute_result"
    }
   ],
   "source": [
    "df.shape"
   ]
  },
  {
   "cell_type": "code",
   "execution_count": 24,
   "metadata": {
    "collapsed": false
   },
   "outputs": [],
   "source": [
    "df = df[(df['elapse_time'] < 10000) & (df['peak_vol'] < 1000) & (df['peak_vol'] > 100)]\n",
    "df.dropna(subset=['ds_predict', 'pfl_predict','pvt_predict', 'ie_predict'], how='all', inplace=True, axis=0)\n",
    "df = df[df['breath_character.mean_insp_flow'] > df['breath_character.mean_exp_flow']]\n",
    "df.drop(['breath_character.mean_insp_flow', 'breath_character.mean_exp_flow'], inplace=True, axis=1)"
   ]
  },
  {
   "cell_type": "code",
   "execution_count": 25,
   "metadata": {
    "collapsed": false
   },
   "outputs": [
    {
     "data": {
      "text/plain": [
       "(1885313, 13)"
      ]
     },
     "execution_count": 25,
     "metadata": {},
     "output_type": "execute_result"
    }
   ],
   "source": [
    "df.shape"
   ]
  },
  {
   "cell_type": "code",
   "execution_count": 26,
   "metadata": {
    "collapsed": false
   },
   "outputs": [
    {
     "data": {
      "text/plain": [
       "patient_id     1885313\n",
       "date_time      1885313\n",
       "breath_num     1885313\n",
       "peep           1851639\n",
       "fio2           1851331\n",
       "set_vt         1489302\n",
       "elapse_time    1885313\n",
       "peak_vol       1885313\n",
       "peak_paw       1851301\n",
       "ds_predict     1885043\n",
       "pfl_predict    1884576\n",
       "pvt_predict    1884576\n",
       "ie_predict     1884575\n",
       "dtype: int64"
      ]
     },
     "execution_count": 26,
     "metadata": {},
     "output_type": "execute_result"
    }
   ],
   "source": [
    "df.count()"
   ]
  },
  {
   "cell_type": "code",
   "execution_count": 41,
   "metadata": {
    "collapsed": false,
    "scrolled": true
   },
   "outputs": [
    {
     "name": "stdout",
     "output_type": "stream",
     "text": [
      "patient_id  100\n",
      "patient_id  101\n",
      "patient_id  102\n",
      "patient_id  103\n",
      "patient_id  104\n",
      "patient_id  105\n",
      "patient_id  106\n",
      "patient_id  107\n",
      "patient_id  108\n",
      "patient_id  109\n",
      "patient_id  110\n",
      "patient_id  112\n",
      "patient_id  113\n",
      "patient_id  114\n",
      "patient_id  115\n",
      "patient_id  116\n",
      "patient_id  117\n",
      "patient_id  118\n",
      "patient_id  119\n",
      "patient_id  120\n",
      "patient_id  121\n",
      "patient_id  122\n",
      "patient_id  124\n",
      "patient_id  125\n",
      "patient_id  126\n",
      "patient_id  127\n",
      "patient_id  128\n",
      "patient_id  129\n",
      "patient_id  130\n",
      "patient_id  131\n",
      "patient_id  132\n"
     ]
    }
   ],
   "source": [
    "import numba\n",
    "\n",
    "lag_list = 6        #needs to be 36/resmaple_freq\n",
    "resample_freq = '6H'   #hours to resample to\n",
    "\n",
    "@numba.vectorize(nopython=True)\n",
    "def link_groups(rowx, rowy):\n",
    "    if np.isnan(rowx):\n",
    "        return rowy\n",
    "    else:\n",
    "        return rowx\n",
    "\n",
    "grouped_df = df.groupby('patient_id')\n",
    "grouped_rn_df = rn_df.dropna(subset=['fio2', 'peep', 'set_vt'], how='all', axis=0).groupby('patient_id')\n",
    "\n",
    "resampled_df = pd.DataFrame()\n",
    "\n",
    "for name, group in grouped_df:\n",
    "    print('patient_id ', name)\n",
    "    patient_info = patient_df.ix[name]\n",
    "   \n",
    "    try:\n",
    "        rn_group = grouped_rn_df.get_group(name)\n",
    "        group = pd.merge(group, rn_group, left_on='date_time', right_on='date_time', how='outer', indicator=True)\n",
    "\n",
    "        for items in ['fio2', 'peep', 'set_vt', 'patient_id']:\n",
    "            group[items] = link_groups(group[items+'_x'].values, group[items+'_y'].values)\n",
    "            group.drop([items+'_x', items+'_y'], inplace=True, axis=1)\n",
    "        #print(group['_merge'].value_counts())    \n",
    "    except KeyError as e:\n",
    "        print(name, 'RN is missing ', e)  \n",
    "\n",
    "    group.drop_duplicates(subset='date_time', keep='first', inplace=True)\n",
    "    group.set_index(['date_time'], inplace = True, drop = False, verify_integrity=True)\n",
    "    group.sort_index(inplace=True)\n",
    "    group = group[group.index < patient_info['End MV Date/Time']]\n",
    "    \n",
    "    group = group.resample(resample_freq).agg({'ds_predict':np.sum, 'pfl_predict':np.sum, 'pvt_predict':np.sum, 'ie_predict':np.sum,\n",
    "                                                   'breath_num':np.count_nonzero, 'patient_id': np.max, \n",
    "                                                   'elapse_time':np.mean, 'fio2': [np.mean, np.max, np.min, np.std], \n",
    "                                                   'peep': [np.mean, np.max, np.min, np.std], \n",
    "                                                   'peak_paw':[np.mean, np.max, np.min, np.std], \n",
    "                                                   'set_vt':[np.mean, np.max, np.min, np.std], \n",
    "                                                   'peak_vol':[np.mean, np.max, np.min, np.std],\n",
    "                                                   'RASS':[np.mean, np.max, np.min, np.std]}, axis=1)\n",
    "    group['NMB'] = 0\n",
    "\n",
    "    start = group.index.min()\n",
    "    end = group.index.max()\n",
    "\n",
    "    periods = (end - start) / pd.to_timedelta(resample_freq)\n",
    "    periods = periods + lag_list + 1\n",
    "\n",
    "    group = group.reindex(pd.date_range(start, periods = periods, freq=resample_freq), copy=True)    \n",
    "    group.reset_index(drop=False, inplace=True)\n",
    "    group.rename(columns={'index':'date_time'}, inplace=True)\n",
    "    group.set_index(['date_time'], drop=False, inplace=True, verify_integrity=True)\n",
    "\n",
    "    #linear extrapolation\n",
    "    #for items in ['fio2', 'peep', 'set_vt', 'peak_paw']:\n",
    "    #    group[items].interpolate(method='linear', limit=lag_list, limit_direction='forward', inplace=True)\n",
    "    #group.patient_id = name\n",
    "    \n",
    "    #mortality extrapolation\n",
    "    #try:   \n",
    "    #    if patient_info['Discharge Location'] == 0:\n",
    "    #        print('dead')\n",
    "    #        group.loc[group.index > end, ('fio2', 'mean')] = 100\n",
    "    #        group.loc[group.index > end, ('peep', 'mean')] = 18\n",
    "    #    else:\n",
    "    #        if group.index.max() > patient_info['End MV Date/Time']:\n",
    "    #            group.loc[group.index > end, ('fio2', 'mean')] = 25\n",
    "    #            group.loc[group.index > end, ('peep', 'mean')] = 2\n",
    "    #except Exception as e:\n",
    "    #    print('error ', e)\n",
    "            \n",
    "    try:\n",
    "        patient_info = patient_df.ix[name]\n",
    "        if patient_info['NMB'] == 'Yes':\n",
    "            start_stop = patient_info['Start_End_NMB'].strip('[]').split(';')\n",
    "\n",
    "            for items in start_stop:\n",
    "                start, stop = items.strip('()').split(',')\n",
    "                start = pd.to_datetime(start)\n",
    "                stop = pd.to_datetime(stop)\n",
    "\n",
    "                if start < stop:\n",
    "                    group.loc[(group.index >= start) & (group.index <= stop), 'NMB'] = 1\n",
    "                else:\n",
    "                    rn_df.loc[(group.index >= stop) & (group.index <= start), 'NMB'] = 1\n",
    "        group['NMB_sum'] = group['NMB'].rolling(window=lag_list, center=False).sum() \n",
    "    except KeyError:\n",
    "        print(name, ' is missing from patient data')  \n",
    "    \n",
    "    for ds_types in ['ds', 'pfl', 'pvt', 'ie']:\n",
    "        try:\n",
    "            group[ds_types+'_freq'] = group[ds_types +'_predict']['sum'] / group['breath_num']['count_nonzero']\n",
    "        except ZeroDivisionError:\n",
    "            print(group[ds_types+'_predict', 'breath_num'])\n",
    "\n",
    "    for lags in [4,6,8]:\n",
    "        for items in ['ds', 'fio2', 'peep', 'peak_paw', 'set_vt']:\n",
    "            if items == 'ds':\n",
    "                for ds_types in ['ds', 'pfl', 'pvt', 'ie']:\n",
    "                    group[ds_types + '_lag_' + str(lags)] = np.nan\n",
    "                    group[ds_types + '_lag_' + str(lags)] = group[ds_types+'_freq'].shift(lags)\n",
    "                    group[ds_types + '_lag_' + str(lags)] = group[ds_types+ '_lag_' + str(lags)].astype(np.float64)\n",
    "            else:\n",
    "                for sub_items in ['mean', 'amax', 'amin', 'std']:\n",
    "                    group[items + '_lag_' + str(lags)+'_'+sub_items] = group[items][sub_items].shift(lags)                \n",
    "                    group[items + '_diff_lag_' + str(lags)+'_'+sub_items] = group[items][sub_items] - group[items + '_lag_' + str(lags)+'_'+sub_items]\n",
    "\n",
    "        try:\n",
    "            group['NMB_lag'+str(lags)] = 0\n",
    "            group['NMB_lag'+str(lags)] = group['NMB_sum'].shift(lags)\n",
    "        except KeyError:\n",
    "            pass\n",
    "\n",
    "    resampled_df = pd.concat([resampled_df, group])"
   ]
  },
  {
   "cell_type": "code",
   "execution_count": 42,
   "metadata": {
    "collapsed": false
   },
   "outputs": [
    {
     "data": {
      "text/html": [
       "<div>\n",
       "<table border=\"1\" class=\"dataframe\">\n",
       "  <thead>\n",
       "    <tr>\n",
       "      <th></th>\n",
       "      <th colspan=\"4\" halign=\"left\">peak_paw</th>\n",
       "      <th>ds_predict</th>\n",
       "      <th>patient_id</th>\n",
       "      <th colspan=\"4\" halign=\"left\">fio2</th>\n",
       "      <th>...</th>\n",
       "      <th>peak_paw_diff_lag_8_std</th>\n",
       "      <th>set_vt_lag_8_mean</th>\n",
       "      <th>set_vt_diff_lag_8_mean</th>\n",
       "      <th>set_vt_lag_8_amax</th>\n",
       "      <th>set_vt_diff_lag_8_amax</th>\n",
       "      <th>set_vt_lag_8_amin</th>\n",
       "      <th>set_vt_diff_lag_8_amin</th>\n",
       "      <th>set_vt_lag_8_std</th>\n",
       "      <th>set_vt_diff_lag_8_std</th>\n",
       "      <th>NMB_lag8</th>\n",
       "    </tr>\n",
       "    <tr>\n",
       "      <th></th>\n",
       "      <th>mean</th>\n",
       "      <th>amax</th>\n",
       "      <th>amin</th>\n",
       "      <th>std</th>\n",
       "      <th>sum</th>\n",
       "      <th>amax</th>\n",
       "      <th>mean</th>\n",
       "      <th>amax</th>\n",
       "      <th>amin</th>\n",
       "      <th>std</th>\n",
       "      <th>...</th>\n",
       "      <th></th>\n",
       "      <th></th>\n",
       "      <th></th>\n",
       "      <th></th>\n",
       "      <th></th>\n",
       "      <th></th>\n",
       "      <th></th>\n",
       "      <th></th>\n",
       "      <th></th>\n",
       "      <th></th>\n",
       "    </tr>\n",
       "  </thead>\n",
       "  <tbody>\n",
       "    <tr>\n",
       "      <th>count</th>\n",
       "      <td>309.000000</td>\n",
       "      <td>309.000000</td>\n",
       "      <td>309.000000</td>\n",
       "      <td>308.000000</td>\n",
       "      <td>315.000000</td>\n",
       "      <td>651.000000</td>\n",
       "      <td>648.000000</td>\n",
       "      <td>648.000000</td>\n",
       "      <td>648.000000</td>\n",
       "      <td>609.000000</td>\n",
       "      <td>...</td>\n",
       "      <td>118.000000</td>\n",
       "      <td>488.000000</td>\n",
       "      <td>286.000000</td>\n",
       "      <td>488.000000</td>\n",
       "      <td>286.000000</td>\n",
       "      <td>488.000000</td>\n",
       "      <td>286.000000</td>\n",
       "      <td>441.000000</td>\n",
       "      <td>231.000000</td>\n",
       "      <td>13647.0</td>\n",
       "    </tr>\n",
       "    <tr>\n",
       "      <th>mean</th>\n",
       "      <td>23.287200</td>\n",
       "      <td>36.618123</td>\n",
       "      <td>12.653722</td>\n",
       "      <td>2.290043</td>\n",
       "      <td>161.961905</td>\n",
       "      <td>117.193548</td>\n",
       "      <td>51.545515</td>\n",
       "      <td>55.333333</td>\n",
       "      <td>49.337963</td>\n",
       "      <td>1.741225</td>\n",
       "      <td>...</td>\n",
       "      <td>-0.231349</td>\n",
       "      <td>430.063525</td>\n",
       "      <td>-5.038983</td>\n",
       "      <td>433.514344</td>\n",
       "      <td>-6.993007</td>\n",
       "      <td>427.081967</td>\n",
       "      <td>-5.314685</td>\n",
       "      <td>2.208919</td>\n",
       "      <td>0.293764</td>\n",
       "      <td>0.0</td>\n",
       "    </tr>\n",
       "    <tr>\n",
       "      <th>std</th>\n",
       "      <td>6.477138</td>\n",
       "      <td>8.388098</td>\n",
       "      <td>8.766441</td>\n",
       "      <td>1.222191</td>\n",
       "      <td>262.085363</td>\n",
       "      <td>9.219846</td>\n",
       "      <td>17.009372</td>\n",
       "      <td>20.366958</td>\n",
       "      <td>15.721543</td>\n",
       "      <td>4.022133</td>\n",
       "      <td>...</td>\n",
       "      <td>1.593109</td>\n",
       "      <td>79.868632</td>\n",
       "      <td>41.697564</td>\n",
       "      <td>79.841963</td>\n",
       "      <td>42.460053</td>\n",
       "      <td>81.693833</td>\n",
       "      <td>53.742521</td>\n",
       "      <td>14.388847</td>\n",
       "      <td>21.033510</td>\n",
       "      <td>0.0</td>\n",
       "    </tr>\n",
       "    <tr>\n",
       "      <th>min</th>\n",
       "      <td>10.666667</td>\n",
       "      <td>12.000000</td>\n",
       "      <td>0.000000</td>\n",
       "      <td>0.057307</td>\n",
       "      <td>0.000000</td>\n",
       "      <td>100.000000</td>\n",
       "      <td>30.000000</td>\n",
       "      <td>30.000000</td>\n",
       "      <td>1.000000</td>\n",
       "      <td>0.000000</td>\n",
       "      <td>...</td>\n",
       "      <td>-4.496810</td>\n",
       "      <td>270.000000</td>\n",
       "      <td>-165.000000</td>\n",
       "      <td>270.000000</td>\n",
       "      <td>-200.000000</td>\n",
       "      <td>140.000000</td>\n",
       "      <td>-330.000000</td>\n",
       "      <td>0.000000</td>\n",
       "      <td>-134.164079</td>\n",
       "      <td>0.0</td>\n",
       "    </tr>\n",
       "    <tr>\n",
       "      <th>25%</th>\n",
       "      <td>18.192574</td>\n",
       "      <td>32.000000</td>\n",
       "      <td>7.000000</td>\n",
       "      <td>1.331854</td>\n",
       "      <td>17.500000</td>\n",
       "      <td>110.000000</td>\n",
       "      <td>40.000000</td>\n",
       "      <td>40.000000</td>\n",
       "      <td>40.000000</td>\n",
       "      <td>0.000000</td>\n",
       "      <td>...</td>\n",
       "      <td>-1.337656</td>\n",
       "      <td>400.000000</td>\n",
       "      <td>0.000000</td>\n",
       "      <td>400.000000</td>\n",
       "      <td>0.000000</td>\n",
       "      <td>380.000000</td>\n",
       "      <td>0.000000</td>\n",
       "      <td>0.000000</td>\n",
       "      <td>0.000000</td>\n",
       "      <td>0.0</td>\n",
       "    </tr>\n",
       "    <tr>\n",
       "      <th>50%</th>\n",
       "      <td>23.222892</td>\n",
       "      <td>37.000000</td>\n",
       "      <td>11.000000</td>\n",
       "      <td>2.121312</td>\n",
       "      <td>56.000000</td>\n",
       "      <td>119.000000</td>\n",
       "      <td>45.206592</td>\n",
       "      <td>50.000000</td>\n",
       "      <td>40.000000</td>\n",
       "      <td>0.000000</td>\n",
       "      <td>...</td>\n",
       "      <td>-0.194296</td>\n",
       "      <td>450.000000</td>\n",
       "      <td>0.000000</td>\n",
       "      <td>470.000000</td>\n",
       "      <td>0.000000</td>\n",
       "      <td>450.000000</td>\n",
       "      <td>0.000000</td>\n",
       "      <td>0.000000</td>\n",
       "      <td>0.000000</td>\n",
       "      <td>0.0</td>\n",
       "    </tr>\n",
       "    <tr>\n",
       "      <th>75%</th>\n",
       "      <td>28.271747</td>\n",
       "      <td>42.000000</td>\n",
       "      <td>19.000000</td>\n",
       "      <td>3.073619</td>\n",
       "      <td>164.000000</td>\n",
       "      <td>125.000000</td>\n",
       "      <td>60.000000</td>\n",
       "      <td>70.000000</td>\n",
       "      <td>60.000000</td>\n",
       "      <td>0.752495</td>\n",
       "      <td>...</td>\n",
       "      <td>0.865435</td>\n",
       "      <td>480.000000</td>\n",
       "      <td>0.000000</td>\n",
       "      <td>490.000000</td>\n",
       "      <td>0.000000</td>\n",
       "      <td>480.000000</td>\n",
       "      <td>0.000000</td>\n",
       "      <td>0.000000</td>\n",
       "      <td>0.000000</td>\n",
       "      <td>0.0</td>\n",
       "    </tr>\n",
       "    <tr>\n",
       "      <th>max</th>\n",
       "      <td>40.143186</td>\n",
       "      <td>62.000000</td>\n",
       "      <td>33.000000</td>\n",
       "      <td>7.966672</td>\n",
       "      <td>1693.000000</td>\n",
       "      <td>132.000000</td>\n",
       "      <td>100.000000</td>\n",
       "      <td>100.000000</td>\n",
       "      <td>100.000000</td>\n",
       "      <td>29.754844</td>\n",
       "      <td>...</td>\n",
       "      <td>3.758764</td>\n",
       "      <td>630.000000</td>\n",
       "      <td>160.000000</td>\n",
       "      <td>630.000000</td>\n",
       "      <td>160.000000</td>\n",
       "      <td>630.000000</td>\n",
       "      <td>300.000000</td>\n",
       "      <td>233.345238</td>\n",
       "      <td>233.345238</td>\n",
       "      <td>0.0</td>\n",
       "    </tr>\n",
       "  </tbody>\n",
       "</table>\n",
       "<p>8 rows × 148 columns</p>\n",
       "</div>"
      ],
      "text/plain": [
       "         peak_paw                                       ds_predict  \\\n",
       "             mean        amax        amin         std          sum   \n",
       "count  309.000000  309.000000  309.000000  308.000000   315.000000   \n",
       "mean    23.287200   36.618123   12.653722    2.290043   161.961905   \n",
       "std      6.477138    8.388098    8.766441    1.222191   262.085363   \n",
       "min     10.666667   12.000000    0.000000    0.057307     0.000000   \n",
       "25%     18.192574   32.000000    7.000000    1.331854    17.500000   \n",
       "50%     23.222892   37.000000   11.000000    2.121312    56.000000   \n",
       "75%     28.271747   42.000000   19.000000    3.073619   164.000000   \n",
       "max     40.143186   62.000000   33.000000    7.966672  1693.000000   \n",
       "\n",
       "       patient_id        fio2                                       ...     \\\n",
       "             amax        mean        amax        amin         std   ...      \n",
       "count  651.000000  648.000000  648.000000  648.000000  609.000000   ...      \n",
       "mean   117.193548   51.545515   55.333333   49.337963    1.741225   ...      \n",
       "std      9.219846   17.009372   20.366958   15.721543    4.022133   ...      \n",
       "min    100.000000   30.000000   30.000000    1.000000    0.000000   ...      \n",
       "25%    110.000000   40.000000   40.000000   40.000000    0.000000   ...      \n",
       "50%    119.000000   45.206592   50.000000   40.000000    0.000000   ...      \n",
       "75%    125.000000   60.000000   70.000000   60.000000    0.752495   ...      \n",
       "max    132.000000  100.000000  100.000000  100.000000   29.754844   ...      \n",
       "\n",
       "      peak_paw_diff_lag_8_std set_vt_lag_8_mean set_vt_diff_lag_8_mean  \\\n",
       "                                                                         \n",
       "count              118.000000        488.000000             286.000000   \n",
       "mean                -0.231349        430.063525              -5.038983   \n",
       "std                  1.593109         79.868632              41.697564   \n",
       "min                 -4.496810        270.000000            -165.000000   \n",
       "25%                 -1.337656        400.000000               0.000000   \n",
       "50%                 -0.194296        450.000000               0.000000   \n",
       "75%                  0.865435        480.000000               0.000000   \n",
       "max                  3.758764        630.000000             160.000000   \n",
       "\n",
       "      set_vt_lag_8_amax set_vt_diff_lag_8_amax set_vt_lag_8_amin  \\\n",
       "                                                                   \n",
       "count        488.000000             286.000000        488.000000   \n",
       "mean         433.514344              -6.993007        427.081967   \n",
       "std           79.841963              42.460053         81.693833   \n",
       "min          270.000000            -200.000000        140.000000   \n",
       "25%          400.000000               0.000000        380.000000   \n",
       "50%          470.000000               0.000000        450.000000   \n",
       "75%          490.000000               0.000000        480.000000   \n",
       "max          630.000000             160.000000        630.000000   \n",
       "\n",
       "      set_vt_diff_lag_8_amin set_vt_lag_8_std set_vt_diff_lag_8_std NMB_lag8  \n",
       "                                                                              \n",
       "count             286.000000       441.000000            231.000000  13647.0  \n",
       "mean               -5.314685         2.208919              0.293764      0.0  \n",
       "std                53.742521        14.388847             21.033510      0.0  \n",
       "min              -330.000000         0.000000           -134.164079      0.0  \n",
       "25%                 0.000000         0.000000              0.000000      0.0  \n",
       "50%                 0.000000         0.000000              0.000000      0.0  \n",
       "75%                 0.000000         0.000000              0.000000      0.0  \n",
       "max               300.000000       233.345238            233.345238      0.0  \n",
       "\n",
       "[8 rows x 148 columns]"
      ]
     },
     "execution_count": 42,
     "metadata": {},
     "output_type": "execute_result"
    }
   ],
   "source": [
    "resampled_df.describe()"
   ]
  },
  {
   "cell_type": "code",
   "execution_count": 43,
   "metadata": {
    "collapsed": false
   },
   "outputs": [],
   "source": [
    "for lag_list in [4,6,8]:\n",
    "    for sub_items in ['mean', 'amax', 'amin', 'std']:\n",
    "        resampled_df['peep_diff_lag_'+str(lag_list)+'_'+sub_items] = resampled_df['peep'][sub_items] - resampled_df['peep_lag_'+str(lag_list)+'_'+sub_items]\n",
    "        resampled_df['fio2_diff_lag_'+str(lag_list)+'_'+sub_items] = resampled_df['fio2'][sub_items] - resampled_df['fio2_lag_'+str(lag_list)+'_'+sub_items]\n",
    "        resampled_df['set_vt_diff_lag_'+str(lag_list)+'_'+sub_items] = resampled_df['set_vt'][sub_items] - resampled_df['set_vt_lag_'+str(lag_list)+'_'+sub_items]\n",
    "        resampled_df['peak_paw_diff_lag_'+str(lag_list)+'_'+sub_items] = resampled_df['peak_paw'][sub_items] - resampled_df['peak_paw_lag_'+str(lag_list)+'_'+sub_items]"
   ]
  },
  {
   "cell_type": "code",
   "execution_count": 44,
   "metadata": {
    "collapsed": false
   },
   "outputs": [],
   "source": [
    "for times in ['4','6','8']:\n",
    "    for ds_types in ['ds', 'pfl', 'pvt', 'ie']:\n",
    "        resampled_df[ds_types+'_lag_' + times + '_bin'] = resampled_df[ds_types+'_lag_' + times].apply(bin_samples)\n",
    "\n",
    "resampled_df.to_csv('c:\\\\Research_data\\\\Analysis\\\\Lagged_DS\\\\5-1-16_data\\\\No_Extrap\\\\lagged_analysis_'+resample_freq+'.csv')\n",
    "resampled_df.to_hdf('c:\\\\Research_data\\\\Analysis\\\\Lagged_DS\\\\5-1-16_data\\\\No_Extrap\\\\lagged_analysis_'+resample_freq+'.h5', 'table', append=False)"
   ]
  },
  {
   "cell_type": "code",
   "execution_count": null,
   "metadata": {
    "collapsed": false
   },
   "outputs": [],
   "source": []
  },
  {
   "cell_type": "code",
   "execution_count": null,
   "metadata": {
    "collapsed": true
   },
   "outputs": [],
   "source": []
  },
  {
   "cell_type": "code",
   "execution_count": null,
   "metadata": {
    "collapsed": true
   },
   "outputs": [],
   "source": []
  }
 ],
 "metadata": {
  "kernelspec": {
   "display_name": "Python 3",
   "language": "python",
   "name": "python3"
  },
  "language_info": {
   "codemirror_mode": {
    "name": "ipython",
    "version": 3
   },
   "file_extension": ".py",
   "mimetype": "text/x-python",
   "name": "python",
   "nbconvert_exporter": "python",
   "pygments_lexer": "ipython3",
   "version": "3.5.1"
  }
 },
 "nbformat": 4,
 "nbformat_minor": 0
}
