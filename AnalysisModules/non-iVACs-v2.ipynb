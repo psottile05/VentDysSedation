{
 "cells": [
  {
   "cell_type": "code",
   "execution_count": 1,
   "metadata": {
    "collapsed": false
   },
   "outputs": [],
   "source": [
    "import pymongo\n",
    "import pandas as pd\n",
    "import numpy as np\n",
    "from datetime import datetime\n",
    "import matplotlib.pyplot as plt\n",
    "import seaborn as sb\n",
    "import dask.dataframe as ddf\n",
    "\n",
    "client = pymongo.MongoClient()\n",
    "db = client.VentDB\n",
    "breathData = db.breath_collection\n",
    "RN = db.RN_collection\n",
    "\n",
    "%matplotlib inline"
   ]
  },
  {
   "cell_type": "code",
   "execution_count": 2,
   "metadata": {
    "collapsed": false
   },
   "outputs": [],
   "source": [
    "def bin_samples(x):\n",
    "    if x <= 0.05:\n",
    "        return 0\n",
    "    elif x == np.nan:\n",
    "        return np.nan\n",
    "    elif x > 0.05:\n",
    "        return 1"
   ]
  },
  {
   "cell_type": "code",
   "execution_count": 3,
   "metadata": {
    "collapsed": false
   },
   "outputs": [
    {
     "data": {
      "text/plain": [
       "1964338"
      ]
     },
     "execution_count": 3,
     "metadata": {},
     "output_type": "execute_result"
    }
   ],
   "source": [
    "breathData.find().count()"
   ]
  },
  {
   "cell_type": "code",
   "execution_count": 4,
   "metadata": {
    "collapsed": true
   },
   "outputs": [],
   "source": [
    "ds_types = 'ds'"
   ]
  },
  {
   "cell_type": "code",
   "execution_count": 5,
   "metadata": {
    "collapsed": false,
    "scrolled": true
   },
   "outputs": [],
   "source": [
    "patient_df = pd.read_csv('C:\\Research_data\\Demographic Data v2.csv', engine = 'c',\n",
    "                             usecols = ['Study ID', 'Age', 'Gender', 'P/F Ratio', 'NMB', 'Start_End_NMB', 'Hospital Discharge Date/Time', 'Discharge Location'])\n",
    "patient_df.set_index(['Study ID'], inplace = True, drop=False)\n",
    "patient_df.head(15)\n",
    "patient_df.to_hdf('c:\\Research_data\\Analysis\\Lagged_DS\\ds_patient_test.h5', key='patient', format='table', append=False)"
   ]
  },
  {
   "cell_type": "code",
   "execution_count": 6,
   "metadata": {
    "collapsed": false
   },
   "outputs": [],
   "source": [
    "data = breathData.find({},\n",
    "                       {'patient_id': 1, 'date_time': 1, 'breath_num': 1, 'breath_settings.peep': 1,\n",
    "                        'breath_settings.fio2': 1, 'breath_settings.set_VT': 1, 'breath_character.elapse_time':1, \n",
    "                        'breath_character.peak_vol':1, 'breath_settings.peak_paw': 1, 'label.' + ds_types: 1, '_id': 1})\n",
    "\n",
    "\n",
    "rn = RN.find({'$or': [{'FiO2': {'$exists': 1}}, {'PEEP': {'$exists': 1}}]},\n",
    "             {'patientID': 1, 'date_time': 1, 'FiO2': 1, 'PEEP': 1, 'SpO2': 1, 'Set Vt': 1, 'Plat':1,\n",
    "              '_id': 0})"
   ]
  },
  {
   "cell_type": "code",
   "execution_count": 7,
   "metadata": {
    "collapsed": false
   },
   "outputs": [],
   "source": [
    "df = pd.io.json.json_normalize(data)\n",
    "rn_df = pd.io.json.json_normalize(list(rn))"
   ]
  },
  {
   "cell_type": "code",
   "execution_count": 8,
   "metadata": {
    "collapsed": false
   },
   "outputs": [],
   "source": [
    "df['date_time'] = pd.to_datetime(df['date_time'], unit='s').dt.tz_localize('UTC').dt.tz_convert('US/Mountain').dt.tz_localize(None)\n",
    "df.dropna(axis=0, how='all', subset=['breath_settings.fio2', 'breath_settings.peep'], inplace=True)\n",
    "df.drop_duplicates(subset = 'date_time', keep = 'last', inplace = True)\n",
    "df.set_index(['patient_id'], inplace = True, drop = False)\n",
    "df.sort_index(inplace = True)\n",
    "df['breath_settings.peep'] = df['breath_settings.peep'].astype(np.float64)\n",
    "df['breath_num'] = df['breath_num'].astype(np.float64)\n",
    "df['label.' + ds_types] = df['label.' + ds_types].astype(np.float64)\n",
    "\n",
    "df.rename(columns={'breath_settings.fio2':'fio2', 'breath_settings.peep': 'peep',\n",
    "                        'breath_settings.set_VT': 'set_vt', 'breath_character.elapse_time': 'elapse_time', \n",
    "                        'breath_character.peak_vol': 'peak_vol', 'breath_settings.peak_paw': 'peak_paw'}, inplace=True)\n",
    "\n",
    "df = df[(df['elapse_time'] < 10000) & \\\n",
    "        (df['peak_vol'] < 1000) & (df['peak_vol'] > 100)]"
   ]
  },
  {
   "cell_type": "code",
   "execution_count": 9,
   "metadata": {
    "collapsed": false
   },
   "outputs": [],
   "source": [
    "rn_df['date_time'] = pd.to_datetime(rn_df['date_time'], format='%m/%d/%Y %H:%M:%S')\n",
    "rn_df.rename(columns={'patientID':'patient_id', 'FiO2':'fio2', 'PEEP':'peep', 'Set Vt': 'set_vt', 'SpO2':'spo2', 'Plat':'plat'}, inplace=True)\n",
    "rn_df.dropna(axis=0, how='all', subset=['fio2', 'peep'], inplace=True)\n",
    "rn_df.drop_duplicates(subset = 'date_time', keep = 'last', inplace = True)\n",
    "rn_df.set_index(['patient_id', 'date_time'], inplace = True, drop=False)"
   ]
  },
  {
   "cell_type": "code",
   "execution_count": 10,
   "metadata": {
    "collapsed": true
   },
   "outputs": [],
   "source": [
    "df.set_index(['patient_id', 'date_time'], inplace=True, drop=False)\n",
    "df.sort_index(inplace=True)\n",
    "df.set_index(['patient_id'], inplace=True, drop=False)"
   ]
  },
  {
   "cell_type": "code",
   "execution_count": 11,
   "metadata": {
    "collapsed": false
   },
   "outputs": [],
   "source": [
    "df.to_hdf('c:\\Research_data\\Analysis\\Lagged_DS\\ds_breath_data.h5', key='breath', format='table', append=False)\n",
    "rn_df.reset_index(inplace=True, drop=True)\n",
    "rn_df.to_hdf('c:\\Research_data\\Analysis\\Lagged_DS\\ds_rn_data.h5', key='rn', format='table', append=False)\n",
    "rn_df.set_index(['patient_id', 'date_time'], inplace = True, drop=False)"
   ]
  },
  {
   "cell_type": "code",
   "execution_count": 12,
   "metadata": {
    "collapsed": true
   },
   "outputs": [],
   "source": [
    "#df = pd.read_hdf('c:\\Research_data\\Analysis\\Lagged_DS\\ds_breath_data.h5')\n",
    "#rn_df = pd.read_hdf('c:\\Research_data\\Analysis\\Lagged_DS\\ds_rn_data.h5')"
   ]
  },
  {
   "cell_type": "code",
   "execution_count": 13,
   "metadata": {
    "collapsed": false
   },
   "outputs": [
    {
     "data": {
      "text/plain": [
       "_id                    object\n",
       "elapse_time             int64\n",
       "peak_vol              float64\n",
       "breath_num            float64\n",
       "fio2                  float64\n",
       "peak_paw              float64\n",
       "peep                  float64\n",
       "set_vt                float64\n",
       "date_time      datetime64[ns]\n",
       "label.ds              float64\n",
       "patient_id              int64\n",
       "dtype: object"
      ]
     },
     "execution_count": 13,
     "metadata": {},
     "output_type": "execute_result"
    }
   ],
   "source": [
    "df.dtypes"
   ]
  },
  {
   "cell_type": "code",
   "execution_count": 14,
   "metadata": {
    "collapsed": false
   },
   "outputs": [
    {
     "data": {
      "text/plain": [
       "fio2                 float64\n",
       "peep                 float64\n",
       "plat                 float64\n",
       "set_vt               float64\n",
       "spo2                 float64\n",
       "date_time     datetime64[ns]\n",
       "patient_id             int64\n",
       "dtype: object"
      ]
     },
     "execution_count": 14,
     "metadata": {},
     "output_type": "execute_result"
    }
   ],
   "source": [
    "rn_df.dtypes"
   ]
  },
  {
   "cell_type": "code",
   "execution_count": 15,
   "metadata": {
    "collapsed": false
   },
   "outputs": [
    {
     "data": {
      "text/plain": [
       "_id            1867910\n",
       "elapse_time    1867910\n",
       "peak_vol       1867910\n",
       "breath_num     1867910\n",
       "fio2           1867596\n",
       "peak_paw       1867566\n",
       "peep           1867910\n",
       "set_vt         1494849\n",
       "date_time      1867910\n",
       "label.ds       1867605\n",
       "patient_id     1867910\n",
       "dtype: int64"
      ]
     },
     "execution_count": 15,
     "metadata": {},
     "output_type": "execute_result"
    }
   ],
   "source": [
    "df.count()"
   ]
  },
  {
   "cell_type": "code",
   "execution_count": 16,
   "metadata": {
    "collapsed": false
   },
   "outputs": [
    {
     "data": {
      "text/plain": [
       "Timestamp('2014-04-21 13:01:33')"
      ]
     },
     "execution_count": 16,
     "metadata": {},
     "output_type": "execute_result"
    }
   ],
   "source": [
    "df.date_time.min()"
   ]
  },
  {
   "cell_type": "code",
   "execution_count": 17,
   "metadata": {
    "collapsed": false
   },
   "outputs": [
    {
     "data": {
      "text/plain": [
       "Timestamp('2015-11-10 13:09:52')"
      ]
     },
     "execution_count": 17,
     "metadata": {},
     "output_type": "execute_result"
    }
   ],
   "source": [
    "df.date_time.max()"
   ]
  },
  {
   "cell_type": "code",
   "execution_count": 18,
   "metadata": {
    "collapsed": false
   },
   "outputs": [
    {
     "data": {
      "text/plain": [
       "fio2          2054\n",
       "peep          1915\n",
       "plat           518\n",
       "set_vt        1335\n",
       "spo2          1787\n",
       "date_time     2204\n",
       "patient_id    2204\n",
       "dtype: int64"
      ]
     },
     "execution_count": 18,
     "metadata": {},
     "output_type": "execute_result"
    }
   ],
   "source": [
    "rn_df.count()"
   ]
  },
  {
   "cell_type": "code",
   "execution_count": 19,
   "metadata": {
    "collapsed": false
   },
   "outputs": [
    {
     "data": {
      "text/plain": [
       "Timestamp('2014-04-21 03:26:00')"
      ]
     },
     "execution_count": 19,
     "metadata": {},
     "output_type": "execute_result"
    }
   ],
   "source": [
    "rn_df.date_time.min()"
   ]
  },
  {
   "cell_type": "code",
   "execution_count": 22,
   "metadata": {
    "collapsed": false
   },
   "outputs": [
    {
     "data": {
      "text/plain": [
       "Timestamp('2015-11-12 16:00:00')"
      ]
     },
     "execution_count": 22,
     "metadata": {},
     "output_type": "execute_result"
    }
   ],
   "source": [
    "rn_df.date_time.max()"
   ]
  },
  {
   "cell_type": "code",
   "execution_count": null,
   "metadata": {
    "collapsed": true
   },
   "outputs": [],
   "source": []
  },
  {
   "cell_type": "code",
   "execution_count": 28,
   "metadata": {
    "collapsed": false,
    "scrolled": true
   },
   "outputs": [
    {
     "name": "stdout",
     "output_type": "stream",
     "text": [
      "left_only     208\n",
      "right_only     19\n",
      "both            0\n",
      "dtype: int64\n",
      "100\n",
      "left_only     44058\n",
      "right_only      103\n",
      "both              8\n",
      "dtype: int64\n",
      "101\n",
      "left_only     836\n",
      "right_only     61\n",
      "both            1\n",
      "dtype: int64\n",
      "102\n",
      "left_only     36288\n",
      "right_only       16\n",
      "both              6\n",
      "dtype: int64\n",
      "103\n",
      "left_only     41255\n",
      "right_only       95\n",
      "both              4\n",
      "dtype: int64\n",
      "105\n",
      "left_only     49755\n",
      "right_only       17\n",
      "both              7\n",
      "dtype: int64\n",
      "106\n",
      "left_only     5841\n",
      "right_only       8\n",
      "both             1\n",
      "dtype: int64\n",
      "107\n",
      "left_only     4594\n",
      "right_only      41\n",
      "both             1\n",
      "dtype: int64\n",
      "108\n",
      "left_only     28153\n",
      "right_only       12\n",
      "both              9\n",
      "dtype: int64\n",
      "109\n",
      "left_only     132865\n",
      "right_only       120\n",
      "both              29\n",
      "dtype: int64\n",
      "110\n",
      "left_only     47945\n",
      "both              7\n",
      "right_only        7\n",
      "dtype: int64\n",
      "112\n",
      "left_only     161676\n",
      "right_only        57\n",
      "both              22\n",
      "dtype: int64\n",
      "113\n",
      "left_only     49009\n",
      "right_only       43\n",
      "both             11\n",
      "dtype: int64\n",
      "114\n",
      "left_only     49904\n",
      "right_only       67\n",
      "both              8\n",
      "dtype: int64\n",
      "115\n",
      "left_only     28423\n",
      "both              1\n",
      "right_only        1\n",
      "dtype: int64\n",
      "116\n",
      "left_only     74400\n",
      "right_only       53\n",
      "both              9\n",
      "dtype: int64\n",
      "117\n",
      "left_only     17493\n",
      "right_only       22\n",
      "both              2\n",
      "dtype: int64\n",
      "118\n",
      "left_only     146497\n",
      "right_only       197\n",
      "both              24\n",
      "dtype: int64\n",
      "119\n",
      "left_only     77489\n",
      "right_only       21\n",
      "both             15\n",
      "dtype: int64\n",
      "120\n",
      "left_only     42711\n",
      "right_only       22\n",
      "both              7\n",
      "dtype: int64\n",
      "121\n",
      "left_only     208546\n",
      "right_only       138\n",
      "both              33\n",
      "dtype: int64\n",
      "122\n",
      "left_only     43815\n",
      "right_only      101\n",
      "both              7\n",
      "dtype: int64\n",
      "124\n",
      "left_only     139730\n",
      "right_only       138\n",
      "both              22\n",
      "dtype: int64\n",
      "125\n",
      "left_only     36328\n",
      "right_only       21\n",
      "both              5\n",
      "dtype: int64\n",
      "126\n",
      "left_only     59607\n",
      "right_only      137\n",
      "both              6\n",
      "dtype: int64\n",
      "127\n",
      "left_only     5313\n",
      "right_only       6\n",
      "both             2\n",
      "dtype: int64\n",
      "128\n",
      "left_only     174564\n",
      "right_only        51\n",
      "both              23\n",
      "dtype: int64\n",
      "129\n",
      "left_only     20958\n",
      "right_only       13\n",
      "both              2\n",
      "dtype: int64\n",
      "130\n",
      "left_only     94445\n",
      "right_only       83\n",
      "both             20\n",
      "dtype: int64\n",
      "131\n",
      "left_only     44904\n",
      "right_only       86\n",
      "both              8\n",
      "dtype: int64\n",
      "132\n"
     ]
    }
   ],
   "source": [
    "import numba\n",
    "\n",
    "lag_list = 6        #needs to be 36/resmaple_freq\n",
    "resample_freq = '6H'   #hours to resample to\n",
    "\n",
    "numba.jit()\n",
    "def link_groups(row, items):\n",
    "    if np.isnan(row[items+'_x']):\n",
    "        return row[items+'_y']\n",
    "    else: \n",
    "        return row[items+'_x']\n",
    "\n",
    "grouped_df = df.groupby('patient_id')\n",
    "grouped_rn_df = rn_df.groupby('patient_id')\n",
    "\n",
    "resampled_df = pd.DataFrame()\n",
    "\n",
    "for name, group in grouped_df:  \n",
    "    try:\n",
    "        rn_group = grouped_rn_df.get_group(name)\n",
    "        group = pd.merge(group, rn_group, left_on='date_time', right_on='date_time', how='outer', indicator=True)\n",
    "        \n",
    "        for items in ['fio2', 'peep', 'set_vt', 'patient_id']:\n",
    "            group[items] = group.apply(link_groups, items=items, axis=1)\n",
    "            group.drop([items+'_x', items+'_y'], inplace=True, axis=1)\n",
    "        \n",
    "        print(group['_merge'].value_counts())\n",
    "        \n",
    "    except KeyError:\n",
    "        print(name, ' is missing')  \n",
    "        \n",
    "    print(name)\n",
    "    group.drop_duplicates(subset='date_time', keep='first', inplace=True)\n",
    "    group.set_index(['date_time'], inplace = True, drop = False, verify_integrity=True)\n",
    "    \n",
    "    group.sort_index(inplace=True)\n",
    "    group = group.resample(resample_freq).agg({'label.ds':'sum', 'breath_num':'count', 'patient_id': 'max', 'elapse_time':'mean', \n",
    "                                      'fio2': 'mean', 'peep':'mean', 'peak_paw':'mean', 'set_vt':'mean', 'peak_vol':'mean'})\n",
    "    group['NMB'] = 0\n",
    "   \n",
    "    start = group.index.min()\n",
    "    end = group.index.max()\n",
    "    \n",
    "    periods = (end - start) / pd.to_timedelta(resample_freq)\n",
    "    periods = periods + lag_list + 1\n",
    "        \n",
    "    group = group.reindex(pd.date_range(start, periods = periods, freq=resample_freq), copy=True)    \n",
    "    group.reset_index(drop=False, inplace=True)\n",
    "    group.rename(columns={'index':'date_time'}, inplace=True)\n",
    "    group.set_index(['date_time'], drop=False, inplace=True, verify_integrity=True)\n",
    "    \n",
    "    for items in ['fio2', 'peep', 'set_vt', 'peak_paw']:\n",
    "        group[items].interpolate(method='linear', limit=lag_list, limit_direction='forward', inplace=True)\n",
    "        #group[['fio2', 'peep', 'set_vt', 'peak_paw']].fillna(method='ffill', limit=lag_list, inplace=True)\n",
    "    \n",
    "    group.patient_id = name\n",
    "    \n",
    "    try:\n",
    "        patient_info = patient_df.ix[name]\n",
    "        if patient_info['NMB'] == 'Yes':\n",
    "            start_stop = patient_info['Start_End_NMB'].strip('[]').split(';')\n",
    "\n",
    "            for items in start_stop:\n",
    "                start, stop = items.strip('()').split(',')\n",
    "                start = pd.to_datetime(start)\n",
    "                stop = pd.to_datetime(stop)\n",
    "\n",
    "                if start < stop:\n",
    "                    group.loc[(group.index >= start) & (group.index <= stop), 'NMB'] = 1\n",
    "                else:\n",
    "                    rn_df.loc[(group.index >= stop) & (group.index <= start), 'NMB'] = 1\n",
    "        group['NMB_sum'] = group['NMB'].rolling(window=lag_list, center=False).sum() \n",
    "    except KeyError:\n",
    "        print(name, ' is missing from patient data')  \n",
    "\n",
    "    try:\n",
    "        group['ds_freq'] = group['label.' + ds_types] / group['breath_num']\n",
    "    except ZeroDivisionError:\n",
    "        print(group['label.' + ds_types, 'breath_num'])\n",
    "\n",
    "    for lags in [4,6,8]:\n",
    "        for items in ['ds', 'fio2', 'peep', 'peak_paw', 'set_vt']:\n",
    "            if items == 'ds':\n",
    "                group[items + '_lag_' + str(lags)] = np.nan\n",
    "                group[items + '_lag_' + str(lags)] = group['ds_freq'].shift(lags)\n",
    "                group[items + '_lag_' + str(lags)] = group[items + '_lag_' + str(lags)].astype(np.float64)\n",
    "            else:\n",
    "                group[items + '_lag_' + str(lags)] = group[items].shift(lags)                \n",
    "                group[items + '_diff_lag_' + str(lags)] = group[items] - group[items + '_lag_' + str(lags)]\n",
    "\n",
    "        try:\n",
    "            group['NMB_lag'+str(lags)] = 0\n",
    "            group['NMB_lag'+str(lags)] = group['NMB_sum'].shift(lags)\n",
    "        except KeyError:\n",
    "            pass\n",
    "\n",
    "    resampled_df = pd.concat([resampled_df, group])"
   ]
  },
  {
   "cell_type": "code",
   "execution_count": 29,
   "metadata": {
    "collapsed": false
   },
   "outputs": [
    {
     "data": {
      "text/html": [
       "<div>\n",
       "<table border=\"1\" class=\"dataframe\">\n",
       "  <thead>\n",
       "    <tr style=\"text-align: right;\">\n",
       "      <th></th>\n",
       "      <th>breath_num</th>\n",
       "      <th>label.ds</th>\n",
       "      <th>elapse_time</th>\n",
       "      <th>peep</th>\n",
       "      <th>patient_id</th>\n",
       "      <th>set_vt</th>\n",
       "      <th>peak_paw</th>\n",
       "      <th>fio2</th>\n",
       "      <th>peak_vol</th>\n",
       "      <th>NMB</th>\n",
       "      <th>...</th>\n",
       "      <th>ds_lag_8</th>\n",
       "      <th>fio2_lag_8</th>\n",
       "      <th>fio2_diff_lag_8</th>\n",
       "      <th>peep_lag_8</th>\n",
       "      <th>peep_diff_lag_8</th>\n",
       "      <th>peak_paw_lag_8</th>\n",
       "      <th>peak_paw_diff_lag_8</th>\n",
       "      <th>set_vt_lag_8</th>\n",
       "      <th>set_vt_diff_lag_8</th>\n",
       "      <th>NMB_lag8</th>\n",
       "    </tr>\n",
       "  </thead>\n",
       "  <tbody>\n",
       "    <tr>\n",
       "      <th>count</th>\n",
       "      <td>729.000000</td>\n",
       "      <td>319.000000</td>\n",
       "      <td>319.000000</td>\n",
       "      <td>888.000000</td>\n",
       "      <td>909.000000</td>\n",
       "      <td>781.000000</td>\n",
       "      <td>546.000000</td>\n",
       "      <td>897.000000</td>\n",
       "      <td>319.000000</td>\n",
       "      <td>729.000000</td>\n",
       "      <td>...</td>\n",
       "      <td>288.000000</td>\n",
       "      <td>657.000000</td>\n",
       "      <td>647.000000</td>\n",
       "      <td>653.000000</td>\n",
       "      <td>636.000000</td>\n",
       "      <td>406.000000</td>\n",
       "      <td>307.000000</td>\n",
       "      <td>604.000000</td>\n",
       "      <td>524.00000</td>\n",
       "      <td>530.000000</td>\n",
       "    </tr>\n",
       "    <tr>\n",
       "      <th>mean</th>\n",
       "      <td>2562.290809</td>\n",
       "      <td>165.849530</td>\n",
       "      <td>2762.994912</td>\n",
       "      <td>7.605947</td>\n",
       "      <td>117.599560</td>\n",
       "      <td>426.804306</td>\n",
       "      <td>22.869072</td>\n",
       "      <td>52.472266</td>\n",
       "      <td>438.819626</td>\n",
       "      <td>0.078189</td>\n",
       "      <td>...</td>\n",
       "      <td>0.033330</td>\n",
       "      <td>51.124466</td>\n",
       "      <td>-2.280003</td>\n",
       "      <td>7.640314</td>\n",
       "      <td>-0.560834</td>\n",
       "      <td>23.133767</td>\n",
       "      <td>-1.357022</td>\n",
       "      <td>428.841361</td>\n",
       "      <td>0.01299</td>\n",
       "      <td>0.484906</td>\n",
       "    </tr>\n",
       "    <tr>\n",
       "      <th>std</th>\n",
       "      <td>3587.663474</td>\n",
       "      <td>263.369165</td>\n",
       "      <td>791.998355</td>\n",
       "      <td>3.012644</td>\n",
       "      <td>9.175734</td>\n",
       "      <td>71.809886</td>\n",
       "      <td>7.224132</td>\n",
       "      <td>18.947549</td>\n",
       "      <td>115.544632</td>\n",
       "      <td>0.268654</td>\n",
       "      <td>...</td>\n",
       "      <td>0.052077</td>\n",
       "      <td>16.291534</td>\n",
       "      <td>14.177748</td>\n",
       "      <td>2.765006</td>\n",
       "      <td>2.219853</td>\n",
       "      <td>6.168366</td>\n",
       "      <td>4.874400</td>\n",
       "      <td>75.824296</td>\n",
       "      <td>42.94687</td>\n",
       "      <td>1.464372</td>\n",
       "    </tr>\n",
       "    <tr>\n",
       "      <th>min</th>\n",
       "      <td>0.000000</td>\n",
       "      <td>0.000000</td>\n",
       "      <td>1528.110243</td>\n",
       "      <td>1.666667</td>\n",
       "      <td>100.000000</td>\n",
       "      <td>270.000000</td>\n",
       "      <td>10.666667</td>\n",
       "      <td>30.000000</td>\n",
       "      <td>237.125064</td>\n",
       "      <td>0.000000</td>\n",
       "      <td>...</td>\n",
       "      <td>0.000000</td>\n",
       "      <td>30.000000</td>\n",
       "      <td>-70.000000</td>\n",
       "      <td>1.666667</td>\n",
       "      <td>-15.005917</td>\n",
       "      <td>10.666667</td>\n",
       "      <td>-14.701162</td>\n",
       "      <td>270.000000</td>\n",
       "      <td>-165.00000</td>\n",
       "      <td>0.000000</td>\n",
       "    </tr>\n",
       "    <tr>\n",
       "      <th>25%</th>\n",
       "      <td>0.000000</td>\n",
       "      <td>17.000000</td>\n",
       "      <td>2130.600919</td>\n",
       "      <td>5.000000</td>\n",
       "      <td>110.000000</td>\n",
       "      <td>400.000000</td>\n",
       "      <td>17.146631</td>\n",
       "      <td>40.000000</td>\n",
       "      <td>387.716426</td>\n",
       "      <td>0.000000</td>\n",
       "      <td>...</td>\n",
       "      <td>0.003199</td>\n",
       "      <td>40.000000</td>\n",
       "      <td>-8.343605</td>\n",
       "      <td>5.000000</td>\n",
       "      <td>-1.500000</td>\n",
       "      <td>18.197592</td>\n",
       "      <td>-4.396171</td>\n",
       "      <td>400.000000</td>\n",
       "      <td>0.00000</td>\n",
       "      <td>0.000000</td>\n",
       "    </tr>\n",
       "    <tr>\n",
       "      <th>50%</th>\n",
       "      <td>0.000000</td>\n",
       "      <td>56.000000</td>\n",
       "      <td>2659.770502</td>\n",
       "      <td>7.332418</td>\n",
       "      <td>119.000000</td>\n",
       "      <td>440.000000</td>\n",
       "      <td>22.877358</td>\n",
       "      <td>41.095274</td>\n",
       "      <td>421.327695</td>\n",
       "      <td>0.000000</td>\n",
       "      <td>...</td>\n",
       "      <td>0.009213</td>\n",
       "      <td>43.333333</td>\n",
       "      <td>0.000000</td>\n",
       "      <td>8.000000</td>\n",
       "      <td>0.000000</td>\n",
       "      <td>22.987097</td>\n",
       "      <td>-1.169389</td>\n",
       "      <td>440.000000</td>\n",
       "      <td>0.00000</td>\n",
       "      <td>0.000000</td>\n",
       "    </tr>\n",
       "    <tr>\n",
       "      <th>75%</th>\n",
       "      <td>5621.000000</td>\n",
       "      <td>197.000000</td>\n",
       "      <td>3191.749467</td>\n",
       "      <td>10.000000</td>\n",
       "      <td>125.000000</td>\n",
       "      <td>480.000000</td>\n",
       "      <td>28.865878</td>\n",
       "      <td>60.000000</td>\n",
       "      <td>475.211700</td>\n",
       "      <td>0.000000</td>\n",
       "      <td>...</td>\n",
       "      <td>0.040499</td>\n",
       "      <td>60.000000</td>\n",
       "      <td>0.000000</td>\n",
       "      <td>10.000000</td>\n",
       "      <td>0.000000</td>\n",
       "      <td>28.254411</td>\n",
       "      <td>1.388666</td>\n",
       "      <td>480.000000</td>\n",
       "      <td>0.00000</td>\n",
       "      <td>0.000000</td>\n",
       "    </tr>\n",
       "    <tr>\n",
       "      <th>max</th>\n",
       "      <td>12243.000000</td>\n",
       "      <td>1511.000000</td>\n",
       "      <td>6978.331512</td>\n",
       "      <td>20.005917</td>\n",
       "      <td>132.000000</td>\n",
       "      <td>630.000000</td>\n",
       "      <td>40.143186</td>\n",
       "      <td>100.000000</td>\n",
       "      <td>930.680628</td>\n",
       "      <td>1.000000</td>\n",
       "      <td>...</td>\n",
       "      <td>0.361323</td>\n",
       "      <td>100.000000</td>\n",
       "      <td>56.757455</td>\n",
       "      <td>20.005917</td>\n",
       "      <td>8.000000</td>\n",
       "      <td>40.143186</td>\n",
       "      <td>14.824436</td>\n",
       "      <td>630.000000</td>\n",
       "      <td>165.00000</td>\n",
       "      <td>6.000000</td>\n",
       "    </tr>\n",
       "  </tbody>\n",
       "</table>\n",
       "<p>8 rows × 42 columns</p>\n",
       "</div>"
      ],
      "text/plain": [
       "         breath_num     label.ds  elapse_time        peep  patient_id  \\\n",
       "count    729.000000   319.000000   319.000000  888.000000  909.000000   \n",
       "mean    2562.290809   165.849530  2762.994912    7.605947  117.599560   \n",
       "std     3587.663474   263.369165   791.998355    3.012644    9.175734   \n",
       "min        0.000000     0.000000  1528.110243    1.666667  100.000000   \n",
       "25%        0.000000    17.000000  2130.600919    5.000000  110.000000   \n",
       "50%        0.000000    56.000000  2659.770502    7.332418  119.000000   \n",
       "75%     5621.000000   197.000000  3191.749467   10.000000  125.000000   \n",
       "max    12243.000000  1511.000000  6978.331512   20.005917  132.000000   \n",
       "\n",
       "           set_vt    peak_paw        fio2    peak_vol         NMB     ...      \\\n",
       "count  781.000000  546.000000  897.000000  319.000000  729.000000     ...       \n",
       "mean   426.804306   22.869072   52.472266  438.819626    0.078189     ...       \n",
       "std     71.809886    7.224132   18.947549  115.544632    0.268654     ...       \n",
       "min    270.000000   10.666667   30.000000  237.125064    0.000000     ...       \n",
       "25%    400.000000   17.146631   40.000000  387.716426    0.000000     ...       \n",
       "50%    440.000000   22.877358   41.095274  421.327695    0.000000     ...       \n",
       "75%    480.000000   28.865878   60.000000  475.211700    0.000000     ...       \n",
       "max    630.000000   40.143186  100.000000  930.680628    1.000000     ...       \n",
       "\n",
       "         ds_lag_8  fio2_lag_8  fio2_diff_lag_8  peep_lag_8  peep_diff_lag_8  \\\n",
       "count  288.000000  657.000000       647.000000  653.000000       636.000000   \n",
       "mean     0.033330   51.124466        -2.280003    7.640314        -0.560834   \n",
       "std      0.052077   16.291534        14.177748    2.765006         2.219853   \n",
       "min      0.000000   30.000000       -70.000000    1.666667       -15.005917   \n",
       "25%      0.003199   40.000000        -8.343605    5.000000        -1.500000   \n",
       "50%      0.009213   43.333333         0.000000    8.000000         0.000000   \n",
       "75%      0.040499   60.000000         0.000000   10.000000         0.000000   \n",
       "max      0.361323  100.000000        56.757455   20.005917         8.000000   \n",
       "\n",
       "       peak_paw_lag_8  peak_paw_diff_lag_8  set_vt_lag_8  set_vt_diff_lag_8  \\\n",
       "count      406.000000           307.000000    604.000000          524.00000   \n",
       "mean        23.133767            -1.357022    428.841361            0.01299   \n",
       "std          6.168366             4.874400     75.824296           42.94687   \n",
       "min         10.666667           -14.701162    270.000000         -165.00000   \n",
       "25%         18.197592            -4.396171    400.000000            0.00000   \n",
       "50%         22.987097            -1.169389    440.000000            0.00000   \n",
       "75%         28.254411             1.388666    480.000000            0.00000   \n",
       "max         40.143186            14.824436    630.000000          165.00000   \n",
       "\n",
       "         NMB_lag8  \n",
       "count  530.000000  \n",
       "mean     0.484906  \n",
       "std      1.464372  \n",
       "min      0.000000  \n",
       "25%      0.000000  \n",
       "50%      0.000000  \n",
       "75%      0.000000  \n",
       "max      6.000000  \n",
       "\n",
       "[8 rows x 42 columns]"
      ]
     },
     "execution_count": 29,
     "metadata": {},
     "output_type": "execute_result"
    }
   ],
   "source": [
    "resampled_df.describe()"
   ]
  },
  {
   "cell_type": "code",
   "execution_count": 30,
   "metadata": {
    "collapsed": false
   },
   "outputs": [],
   "source": [
    "for lag_list in [4,6,8]:\n",
    "    resampled_df['peep_diff_lag_'+str(lag_list)] = resampled_df['peep'] - resampled_df['peep_lag_'+str(lag_list)]\n",
    "    resampled_df['fio2_diff_lag_'+str(lag_list)] = resampled_df['fio2'] - resampled_df['fio2_lag_'+str(lag_list)]\n",
    "    resampled_df['set_vt_diff_lag_'+str(lag_list)] = resampled_df['set_vt'] - resampled_df['set_vt_lag_'+str(lag_list)]\n",
    "    resampled_df['peak_paw_diff_lag_'+str(lag_list)] = resampled_df['peak_paw'] - resampled_df['peak_paw_lag_'+str(lag_list)]"
   ]
  },
  {
   "cell_type": "code",
   "execution_count": 31,
   "metadata": {
    "collapsed": false
   },
   "outputs": [
    {
     "ename": "KeyError",
     "evalue": "'ds_lag_12'",
     "output_type": "error",
     "traceback": [
      "\u001b[1;31m---------------------------------------------------------------------------\u001b[0m",
      "\u001b[1;31mKeyError\u001b[0m                                  Traceback (most recent call last)",
      "\u001b[1;32mC:\\Users\\sottilep\\AppData\\Local\\Continuum\\Anaconda3\\lib\\site-packages\\pandas\\indexes\\base.py\u001b[0m in \u001b[0;36mget_loc\u001b[1;34m(self, key, method, tolerance)\u001b[0m\n\u001b[0;32m   1875\u001b[0m             \u001b[1;32mtry\u001b[0m\u001b[1;33m:\u001b[0m\u001b[1;33m\u001b[0m\u001b[0m\n\u001b[1;32m-> 1876\u001b[1;33m                 \u001b[1;32mreturn\u001b[0m \u001b[0mself\u001b[0m\u001b[1;33m.\u001b[0m\u001b[0m_engine\u001b[0m\u001b[1;33m.\u001b[0m\u001b[0mget_loc\u001b[0m\u001b[1;33m(\u001b[0m\u001b[0mkey\u001b[0m\u001b[1;33m)\u001b[0m\u001b[1;33m\u001b[0m\u001b[0m\n\u001b[0m\u001b[0;32m   1877\u001b[0m             \u001b[1;32mexcept\u001b[0m \u001b[0mKeyError\u001b[0m\u001b[1;33m:\u001b[0m\u001b[1;33m\u001b[0m\u001b[0m\n",
      "\u001b[1;32mpandas\\index.pyx\u001b[0m in \u001b[0;36mpandas.index.IndexEngine.get_loc (pandas\\index.c:4027)\u001b[1;34m()\u001b[0m\n",
      "\u001b[1;32mpandas\\index.pyx\u001b[0m in \u001b[0;36mpandas.index.IndexEngine.get_loc (pandas\\index.c:3891)\u001b[1;34m()\u001b[0m\n",
      "\u001b[1;32mpandas\\hashtable.pyx\u001b[0m in \u001b[0;36mpandas.hashtable.PyObjectHashTable.get_item (pandas\\hashtable.c:12408)\u001b[1;34m()\u001b[0m\n",
      "\u001b[1;32mpandas\\hashtable.pyx\u001b[0m in \u001b[0;36mpandas.hashtable.PyObjectHashTable.get_item (pandas\\hashtable.c:12359)\u001b[1;34m()\u001b[0m\n",
      "\u001b[1;31mKeyError\u001b[0m: 'ds_lag_12'",
      "\nDuring handling of the above exception, another exception occurred:\n",
      "\u001b[1;31mKeyError\u001b[0m                                  Traceback (most recent call last)",
      "\u001b[1;32m<ipython-input-31-f1ad95806ea2>\u001b[0m in \u001b[0;36m<module>\u001b[1;34m()\u001b[0m\n\u001b[0;32m      3\u001b[0m \u001b[1;33m\u001b[0m\u001b[0m\n\u001b[0;32m      4\u001b[0m \u001b[1;32mfor\u001b[0m \u001b[0mtimes\u001b[0m \u001b[1;32min\u001b[0m \u001b[1;33m[\u001b[0m\u001b[1;34m'6'\u001b[0m\u001b[1;33m,\u001b[0m\u001b[1;34m'12'\u001b[0m\u001b[1;33m,\u001b[0m\u001b[1;34m'18'\u001b[0m\u001b[1;33m,\u001b[0m\u001b[1;34m'24'\u001b[0m\u001b[1;33m]\u001b[0m\u001b[1;33m:\u001b[0m\u001b[1;33m\u001b[0m\u001b[0m\n\u001b[1;32m----> 5\u001b[1;33m     \u001b[0mresampled_df\u001b[0m\u001b[1;33m[\u001b[0m\u001b[1;34m'ds_lag_'\u001b[0m \u001b[1;33m+\u001b[0m \u001b[0mtimes\u001b[0m \u001b[1;33m+\u001b[0m \u001b[1;34m'_bin'\u001b[0m\u001b[1;33m]\u001b[0m \u001b[1;33m=\u001b[0m \u001b[0mresampled_df\u001b[0m\u001b[1;33m[\u001b[0m\u001b[1;34m'ds_lag_'\u001b[0m \u001b[1;33m+\u001b[0m \u001b[0mtimes\u001b[0m\u001b[1;33m]\u001b[0m\u001b[1;33m.\u001b[0m\u001b[0mapply\u001b[0m\u001b[1;33m(\u001b[0m\u001b[0mbin_samples\u001b[0m\u001b[1;33m)\u001b[0m\u001b[1;33m\u001b[0m\u001b[0m\n\u001b[0m\u001b[0;32m      6\u001b[0m \u001b[1;33m\u001b[0m\u001b[0m\n\u001b[0;32m      7\u001b[0m \u001b[0mresampled_df\u001b[0m\u001b[1;33m.\u001b[0m\u001b[0mto_csv\u001b[0m\u001b[1;33m(\u001b[0m\u001b[1;34m'c:\\Research_data\\Analysis\\Lagged_DS\\lagged_analysis_'\u001b[0m \u001b[1;33m+\u001b[0m \u001b[0mds_types\u001b[0m \u001b[1;33m+\u001b[0m \u001b[0mresample_freq\u001b[0m \u001b[1;33m+\u001b[0m \u001b[1;34m'no_extrap.csv'\u001b[0m\u001b[1;33m)\u001b[0m\u001b[1;33m\u001b[0m\u001b[0m\n",
      "\u001b[1;32mC:\\Users\\sottilep\\AppData\\Local\\Continuum\\Anaconda3\\lib\\site-packages\\pandas\\core\\frame.py\u001b[0m in \u001b[0;36m__getitem__\u001b[1;34m(self, key)\u001b[0m\n\u001b[0;32m   1990\u001b[0m             \u001b[1;32mreturn\u001b[0m \u001b[0mself\u001b[0m\u001b[1;33m.\u001b[0m\u001b[0m_getitem_multilevel\u001b[0m\u001b[1;33m(\u001b[0m\u001b[0mkey\u001b[0m\u001b[1;33m)\u001b[0m\u001b[1;33m\u001b[0m\u001b[0m\n\u001b[0;32m   1991\u001b[0m         \u001b[1;32melse\u001b[0m\u001b[1;33m:\u001b[0m\u001b[1;33m\u001b[0m\u001b[0m\n\u001b[1;32m-> 1992\u001b[1;33m             \u001b[1;32mreturn\u001b[0m \u001b[0mself\u001b[0m\u001b[1;33m.\u001b[0m\u001b[0m_getitem_column\u001b[0m\u001b[1;33m(\u001b[0m\u001b[0mkey\u001b[0m\u001b[1;33m)\u001b[0m\u001b[1;33m\u001b[0m\u001b[0m\n\u001b[0m\u001b[0;32m   1993\u001b[0m \u001b[1;33m\u001b[0m\u001b[0m\n\u001b[0;32m   1994\u001b[0m     \u001b[1;32mdef\u001b[0m \u001b[0m_getitem_column\u001b[0m\u001b[1;33m(\u001b[0m\u001b[0mself\u001b[0m\u001b[1;33m,\u001b[0m \u001b[0mkey\u001b[0m\u001b[1;33m)\u001b[0m\u001b[1;33m:\u001b[0m\u001b[1;33m\u001b[0m\u001b[0m\n",
      "\u001b[1;32mC:\\Users\\sottilep\\AppData\\Local\\Continuum\\Anaconda3\\lib\\site-packages\\pandas\\core\\frame.py\u001b[0m in \u001b[0;36m_getitem_column\u001b[1;34m(self, key)\u001b[0m\n\u001b[0;32m   1997\u001b[0m         \u001b[1;31m# get column\u001b[0m\u001b[1;33m\u001b[0m\u001b[1;33m\u001b[0m\u001b[0m\n\u001b[0;32m   1998\u001b[0m         \u001b[1;32mif\u001b[0m \u001b[0mself\u001b[0m\u001b[1;33m.\u001b[0m\u001b[0mcolumns\u001b[0m\u001b[1;33m.\u001b[0m\u001b[0mis_unique\u001b[0m\u001b[1;33m:\u001b[0m\u001b[1;33m\u001b[0m\u001b[0m\n\u001b[1;32m-> 1999\u001b[1;33m             \u001b[1;32mreturn\u001b[0m \u001b[0mself\u001b[0m\u001b[1;33m.\u001b[0m\u001b[0m_get_item_cache\u001b[0m\u001b[1;33m(\u001b[0m\u001b[0mkey\u001b[0m\u001b[1;33m)\u001b[0m\u001b[1;33m\u001b[0m\u001b[0m\n\u001b[0m\u001b[0;32m   2000\u001b[0m \u001b[1;33m\u001b[0m\u001b[0m\n\u001b[0;32m   2001\u001b[0m         \u001b[1;31m# duplicate columns & possible reduce dimensionality\u001b[0m\u001b[1;33m\u001b[0m\u001b[1;33m\u001b[0m\u001b[0m\n",
      "\u001b[1;32mC:\\Users\\sottilep\\AppData\\Local\\Continuum\\Anaconda3\\lib\\site-packages\\pandas\\core\\generic.py\u001b[0m in \u001b[0;36m_get_item_cache\u001b[1;34m(self, item)\u001b[0m\n\u001b[0;32m   1343\u001b[0m         \u001b[0mres\u001b[0m \u001b[1;33m=\u001b[0m \u001b[0mcache\u001b[0m\u001b[1;33m.\u001b[0m\u001b[0mget\u001b[0m\u001b[1;33m(\u001b[0m\u001b[0mitem\u001b[0m\u001b[1;33m)\u001b[0m\u001b[1;33m\u001b[0m\u001b[0m\n\u001b[0;32m   1344\u001b[0m         \u001b[1;32mif\u001b[0m \u001b[0mres\u001b[0m \u001b[1;32mis\u001b[0m \u001b[1;32mNone\u001b[0m\u001b[1;33m:\u001b[0m\u001b[1;33m\u001b[0m\u001b[0m\n\u001b[1;32m-> 1345\u001b[1;33m             \u001b[0mvalues\u001b[0m \u001b[1;33m=\u001b[0m \u001b[0mself\u001b[0m\u001b[1;33m.\u001b[0m\u001b[0m_data\u001b[0m\u001b[1;33m.\u001b[0m\u001b[0mget\u001b[0m\u001b[1;33m(\u001b[0m\u001b[0mitem\u001b[0m\u001b[1;33m)\u001b[0m\u001b[1;33m\u001b[0m\u001b[0m\n\u001b[0m\u001b[0;32m   1346\u001b[0m             \u001b[0mres\u001b[0m \u001b[1;33m=\u001b[0m \u001b[0mself\u001b[0m\u001b[1;33m.\u001b[0m\u001b[0m_box_item_values\u001b[0m\u001b[1;33m(\u001b[0m\u001b[0mitem\u001b[0m\u001b[1;33m,\u001b[0m \u001b[0mvalues\u001b[0m\u001b[1;33m)\u001b[0m\u001b[1;33m\u001b[0m\u001b[0m\n\u001b[0;32m   1347\u001b[0m             \u001b[0mcache\u001b[0m\u001b[1;33m[\u001b[0m\u001b[0mitem\u001b[0m\u001b[1;33m]\u001b[0m \u001b[1;33m=\u001b[0m \u001b[0mres\u001b[0m\u001b[1;33m\u001b[0m\u001b[0m\n",
      "\u001b[1;32mC:\\Users\\sottilep\\AppData\\Local\\Continuum\\Anaconda3\\lib\\site-packages\\pandas\\core\\internals.py\u001b[0m in \u001b[0;36mget\u001b[1;34m(self, item, fastpath)\u001b[0m\n\u001b[0;32m   3223\u001b[0m \u001b[1;33m\u001b[0m\u001b[0m\n\u001b[0;32m   3224\u001b[0m             \u001b[1;32mif\u001b[0m \u001b[1;32mnot\u001b[0m \u001b[0misnull\u001b[0m\u001b[1;33m(\u001b[0m\u001b[0mitem\u001b[0m\u001b[1;33m)\u001b[0m\u001b[1;33m:\u001b[0m\u001b[1;33m\u001b[0m\u001b[0m\n\u001b[1;32m-> 3225\u001b[1;33m                 \u001b[0mloc\u001b[0m \u001b[1;33m=\u001b[0m \u001b[0mself\u001b[0m\u001b[1;33m.\u001b[0m\u001b[0mitems\u001b[0m\u001b[1;33m.\u001b[0m\u001b[0mget_loc\u001b[0m\u001b[1;33m(\u001b[0m\u001b[0mitem\u001b[0m\u001b[1;33m)\u001b[0m\u001b[1;33m\u001b[0m\u001b[0m\n\u001b[0m\u001b[0;32m   3226\u001b[0m             \u001b[1;32melse\u001b[0m\u001b[1;33m:\u001b[0m\u001b[1;33m\u001b[0m\u001b[0m\n\u001b[0;32m   3227\u001b[0m                 \u001b[0mindexer\u001b[0m \u001b[1;33m=\u001b[0m \u001b[0mnp\u001b[0m\u001b[1;33m.\u001b[0m\u001b[0marange\u001b[0m\u001b[1;33m(\u001b[0m\u001b[0mlen\u001b[0m\u001b[1;33m(\u001b[0m\u001b[0mself\u001b[0m\u001b[1;33m.\u001b[0m\u001b[0mitems\u001b[0m\u001b[1;33m)\u001b[0m\u001b[1;33m)\u001b[0m\u001b[1;33m[\u001b[0m\u001b[0misnull\u001b[0m\u001b[1;33m(\u001b[0m\u001b[0mself\u001b[0m\u001b[1;33m.\u001b[0m\u001b[0mitems\u001b[0m\u001b[1;33m)\u001b[0m\u001b[1;33m]\u001b[0m\u001b[1;33m\u001b[0m\u001b[0m\n",
      "\u001b[1;32mC:\\Users\\sottilep\\AppData\\Local\\Continuum\\Anaconda3\\lib\\site-packages\\pandas\\indexes\\base.py\u001b[0m in \u001b[0;36mget_loc\u001b[1;34m(self, key, method, tolerance)\u001b[0m\n\u001b[0;32m   1876\u001b[0m                 \u001b[1;32mreturn\u001b[0m \u001b[0mself\u001b[0m\u001b[1;33m.\u001b[0m\u001b[0m_engine\u001b[0m\u001b[1;33m.\u001b[0m\u001b[0mget_loc\u001b[0m\u001b[1;33m(\u001b[0m\u001b[0mkey\u001b[0m\u001b[1;33m)\u001b[0m\u001b[1;33m\u001b[0m\u001b[0m\n\u001b[0;32m   1877\u001b[0m             \u001b[1;32mexcept\u001b[0m \u001b[0mKeyError\u001b[0m\u001b[1;33m:\u001b[0m\u001b[1;33m\u001b[0m\u001b[0m\n\u001b[1;32m-> 1878\u001b[1;33m                 \u001b[1;32mreturn\u001b[0m \u001b[0mself\u001b[0m\u001b[1;33m.\u001b[0m\u001b[0m_engine\u001b[0m\u001b[1;33m.\u001b[0m\u001b[0mget_loc\u001b[0m\u001b[1;33m(\u001b[0m\u001b[0mself\u001b[0m\u001b[1;33m.\u001b[0m\u001b[0m_maybe_cast_indexer\u001b[0m\u001b[1;33m(\u001b[0m\u001b[0mkey\u001b[0m\u001b[1;33m)\u001b[0m\u001b[1;33m)\u001b[0m\u001b[1;33m\u001b[0m\u001b[0m\n\u001b[0m\u001b[0;32m   1879\u001b[0m \u001b[1;33m\u001b[0m\u001b[0m\n\u001b[0;32m   1880\u001b[0m         \u001b[0mindexer\u001b[0m \u001b[1;33m=\u001b[0m \u001b[0mself\u001b[0m\u001b[1;33m.\u001b[0m\u001b[0mget_indexer\u001b[0m\u001b[1;33m(\u001b[0m\u001b[1;33m[\u001b[0m\u001b[0mkey\u001b[0m\u001b[1;33m]\u001b[0m\u001b[1;33m,\u001b[0m \u001b[0mmethod\u001b[0m\u001b[1;33m=\u001b[0m\u001b[0mmethod\u001b[0m\u001b[1;33m,\u001b[0m \u001b[0mtolerance\u001b[0m\u001b[1;33m=\u001b[0m\u001b[0mtolerance\u001b[0m\u001b[1;33m)\u001b[0m\u001b[1;33m\u001b[0m\u001b[0m\n",
      "\u001b[1;32mpandas\\index.pyx\u001b[0m in \u001b[0;36mpandas.index.IndexEngine.get_loc (pandas\\index.c:4027)\u001b[1;34m()\u001b[0m\n",
      "\u001b[1;32mpandas\\index.pyx\u001b[0m in \u001b[0;36mpandas.index.IndexEngine.get_loc (pandas\\index.c:3891)\u001b[1;34m()\u001b[0m\n",
      "\u001b[1;32mpandas\\hashtable.pyx\u001b[0m in \u001b[0;36mpandas.hashtable.PyObjectHashTable.get_item (pandas\\hashtable.c:12408)\u001b[1;34m()\u001b[0m\n",
      "\u001b[1;32mpandas\\hashtable.pyx\u001b[0m in \u001b[0;36mpandas.hashtable.PyObjectHashTable.get_item (pandas\\hashtable.c:12359)\u001b[1;34m()\u001b[0m\n",
      "\u001b[1;31mKeyError\u001b[0m: 'ds_lag_12'"
     ]
    }
   ],
   "source": [
    "#resampled_df.dropna(how = 'any', subset = ['fio2'], inplace = True)\n",
    "#resampled_df.replace({0: np.nan}, inplace = True)\n",
    "\n",
    "for times in ['6','12','18','24']:\n",
    "    resampled_df['ds_lag_' + times + '_bin'] = resampled_df['ds_lag_' + times].apply(bin_samples)\n",
    "\n",
    "resampled_df.to_csv('c:\\Research_data\\Analysis\\Lagged_DS\\lagged_analysis_' + ds_types + resample_freq + 'no_extrap.csv')"
   ]
  },
  {
   "cell_type": "code",
   "execution_count": null,
   "metadata": {
    "collapsed": false
   },
   "outputs": [],
   "source": [
    "resampled_df.to_hdf('c:\\Research_data\\Analysis\\Lagged_DS\\ds_lagged_data_' + resample_freq +'no_extrap.h5', 'table', append=False)"
   ]
  },
  {
   "cell_type": "code",
   "execution_count": null,
   "metadata": {
    "collapsed": true
   },
   "outputs": [],
   "source": []
  },
  {
   "cell_type": "code",
   "execution_count": null,
   "metadata": {
    "collapsed": true
   },
   "outputs": [],
   "source": []
  }
 ],
 "metadata": {
  "kernelspec": {
   "display_name": "Python 3",
   "language": "python",
   "name": "python3"
  }
 },
 "nbformat": 4,
 "nbformat_minor": 0
}
