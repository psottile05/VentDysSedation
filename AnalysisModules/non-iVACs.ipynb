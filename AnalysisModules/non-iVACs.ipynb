{
 "cells": [
  {
   "cell_type": "code",
   "execution_count": 1,
   "metadata": {
    "collapsed": false
   },
   "outputs": [],
   "source": [
    "import pymongo\n",
    "import pandas as pd\n",
    "import numpy as np\n",
    "import matplotlib.pyplot as plt\n",
    "import sklearn.preprocessing as skl\n",
    "\n",
    "client = pymongo.MongoClient()\n",
    "db = client.VentDyssynchrony_db\n",
    "ventSettings = db.VentSettings_collection\n",
    "breathData = db.BreathData_collection\n",
    "RT = db.RTData_collection\n",
    "RN = db.RNData_collection\n",
    "patient = db. PatientData_collection\n",
    "\n",
    "%matplotlib inline"
   ]
  },
  {
   "cell_type": "code",
   "execution_count": 79,
   "metadata": {
    "collapsed": true
   },
   "outputs": [],
   "source": [
    "def custom_resampler(dict_like):\n",
    "    return dict_like['analysis.' + ds_types].sum(), dict_like['breath_number'].count(), dict_like['patientID'].max(), \\\n",
    "           dict_like['vent_settings.FiO2'].mean(), dict_like['vent_settings.PEEP'].mean(), \\\n",
    "           dict_like['vent_settings.compliance'].mean(), dict_like['vent_settings.p_peak'].mean(), \\\n",
    "           dict_like['vent_settings.set_VT'].mean()\n",
    "\n",
    "\n",
    "def bin_samples(x):\n",
    "    if x <= 0.05:\n",
    "        return 0\n",
    "    elif x == np.nan:\n",
    "        return np.nan\n",
    "    elif x > 0.05:\n",
    "        return 1\n",
    "\n",
    "\n",
    "def unpack(x):\n",
    "    fio2 = np.nan\n",
    "    set_vt = np.nan\n",
    "    peep = np.nan\n",
    "\n",
    "    for items in x:\n",
    "        for keys, values in items.items():\n",
    "            if keys == 'FiO2':\n",
    "                fio2 = values\n",
    "            elif keys == 'Set Vt':\n",
    "                set_vt = values\n",
    "            elif keys == 'PEEP':\n",
    "                peep = values\n",
    "\n",
    "    return (fio2, peep, set_vt)"
   ]
  },
  {
   "cell_type": "code",
   "execution_count": 3,
   "metadata": {
    "collapsed": false
   },
   "outputs": [
    {
     "data": {
      "text/plain": [
       "1817239"
      ]
     },
     "execution_count": 3,
     "metadata": {},
     "output_type": "execute_result"
    }
   ],
   "source": [
    "breathData.find().count()"
   ]
  },
  {
   "cell_type": "code",
   "execution_count": 4,
   "metadata": {
    "collapsed": false,
    "scrolled": true
   },
   "outputs": [
    {
     "data": {
      "text/html": [
       "<div>\n",
       "<table border=\"1\" class=\"dataframe\">\n",
       "  <thead>\n",
       "    <tr style=\"text-align: right;\">\n",
       "      <th></th>\n",
       "      <th>NMB</th>\n",
       "      <th>Start_End_NMB</th>\n",
       "    </tr>\n",
       "    <tr>\n",
       "      <th>Study ID</th>\n",
       "      <th></th>\n",
       "      <th></th>\n",
       "    </tr>\n",
       "  </thead>\n",
       "  <tbody>\n",
       "    <tr>\n",
       "      <th>100</th>\n",
       "      <td>No</td>\n",
       "      <td>NaN</td>\n",
       "    </tr>\n",
       "    <tr>\n",
       "      <th>101</th>\n",
       "      <td>No</td>\n",
       "      <td>NaN</td>\n",
       "    </tr>\n",
       "    <tr>\n",
       "      <th>102</th>\n",
       "      <td>No</td>\n",
       "      <td>NaN</td>\n",
       "    </tr>\n",
       "    <tr>\n",
       "      <th>103</th>\n",
       "      <td>No</td>\n",
       "      <td>NaN</td>\n",
       "    </tr>\n",
       "    <tr>\n",
       "      <th>104</th>\n",
       "      <td>Yes</td>\n",
       "      <td>7/6/14 17:00, 7/7/14 21:00</td>\n",
       "    </tr>\n",
       "    <tr>\n",
       "      <th>105</th>\n",
       "      <td>No</td>\n",
       "      <td>NaN</td>\n",
       "    </tr>\n",
       "    <tr>\n",
       "      <th>106</th>\n",
       "      <td>No</td>\n",
       "      <td>NaN</td>\n",
       "    </tr>\n",
       "    <tr>\n",
       "      <th>107</th>\n",
       "      <td>No</td>\n",
       "      <td>NaN</td>\n",
       "    </tr>\n",
       "    <tr>\n",
       "      <th>108</th>\n",
       "      <td>No</td>\n",
       "      <td>NaN</td>\n",
       "    </tr>\n",
       "    <tr>\n",
       "      <th>109</th>\n",
       "      <td>No</td>\n",
       "      <td>NaN</td>\n",
       "    </tr>\n",
       "    <tr>\n",
       "      <th>110</th>\n",
       "      <td>Yes</td>\n",
       "      <td>10/19/14 10:00, 10/21/14 13:00</td>\n",
       "    </tr>\n",
       "    <tr>\n",
       "      <th>112</th>\n",
       "      <td>Yes</td>\n",
       "      <td>1/17/15 19:00, 1/18/15 17:00</td>\n",
       "    </tr>\n",
       "    <tr>\n",
       "      <th>113</th>\n",
       "      <td>No</td>\n",
       "      <td>NaN</td>\n",
       "    </tr>\n",
       "    <tr>\n",
       "      <th>114</th>\n",
       "      <td>No</td>\n",
       "      <td>NaN</td>\n",
       "    </tr>\n",
       "    <tr>\n",
       "      <th>115</th>\n",
       "      <td>No</td>\n",
       "      <td>NaN</td>\n",
       "    </tr>\n",
       "  </tbody>\n",
       "</table>\n",
       "</div>"
      ],
      "text/plain": [
       "          NMB                   Start_End_NMB\n",
       "Study ID                                     \n",
       "100        No                             NaN\n",
       "101        No                             NaN\n",
       "102        No                             NaN\n",
       "103        No                             NaN\n",
       "104       Yes      7/6/14 17:00, 7/7/14 21:00\n",
       "105        No                             NaN\n",
       "106        No                             NaN\n",
       "107        No                             NaN\n",
       "108        No                             NaN\n",
       "109        No                             NaN\n",
       "110       Yes  10/19/14 10:00, 10/21/14 13:00\n",
       "112       Yes    1/17/15 19:00, 1/18/15 17:00\n",
       "113        No                             NaN\n",
       "114        No                             NaN\n",
       "115        No                             NaN"
      ]
     },
     "execution_count": 4,
     "metadata": {},
     "output_type": "execute_result"
    }
   ],
   "source": [
    "patient_df = pd.read_csv('C:\\Research_data\\Demographic Data v2.csv', engine = 'c',\n",
    "                             usecols = ['Study ID', 'NMB', 'Start_End_NMB'])\n",
    "patient_df.set_index(['Study ID'], inplace = True)\n",
    "patient_df.head(15)"
   ]
  },
  {
   "cell_type": "code",
   "execution_count": 5,
   "metadata": {
    "collapsed": false
   },
   "outputs": [
    {
     "data": {
      "text/plain": [
       "'7/5/15 13:00, 7/10/15 09:00'"
      ]
     },
     "execution_count": 5,
     "metadata": {},
     "output_type": "execute_result"
    }
   ],
   "source": [
    "patient_df['Start_End_NMB'].ix[125]\n"
   ]
  },
  {
   "cell_type": "code",
   "execution_count": 6,
   "metadata": {
    "collapsed": true
   },
   "outputs": [],
   "source": [
    "ds_types = 'ds'"
   ]
  },
  {
   "cell_type": "code",
   "execution_count": 7,
   "metadata": {
    "collapsed": false
   },
   "outputs": [],
   "source": [
    "    data = breathData.find({},\n",
    "                           {'patientID': 1, 'start_time': 1, 'breath_number': 1, 'vent_settings.PEEP': 1,\n",
    "                            'vent_settings.FiO2': 1, 'vent_settings.compliance': 1, 'vent_settings.set_VT': 1,\n",
    "                            'vent_settings.p_peak': 1, 'analysis.' + ds_types: 1, '_id': 0})\n",
    "\n",
    "    rn = RN.find({'RN_entry.FiO2': {'$exists': 1}},\n",
    "                 {'patientID': 1, 'entry_time': 1, 'RN_entry.FiO2': 1, 'RN_entry.PEEP': 1, 'RN_entry.Set Vt': 1,\n",
    "                  '_id': 0})\n",
    "\n",
    "    rt = RT.find({'RT_entry.FiO2': {'$exists': 1}},\n",
    "                 {'patientID': 1, 'entry_time': 1, 'RT_entry.FiO2': 1, 'RT_entry.PEEP': 1, 'RT_entry.Set Vt': 1,\n",
    "                  '_id': 0})"
   ]
  },
  {
   "cell_type": "code",
   "execution_count": 8,
   "metadata": {
    "collapsed": false
   },
   "outputs": [
    {
     "name": "stdout",
     "output_type": "stream",
     "text": [
      "Pre  (1814900, 9)\n"
     ]
    }
   ],
   "source": [
    "    df = pd.io.json.json_normalize(data)\n",
    "    df['start_time'] = pd.to_datetime(df['start_time'])\n",
    "    df.drop_duplicates(subset = 'start_time', keep = 'last', inplace = True)\n",
    "    df.set_index(['patientID', 'start_time'], inplace = True, verify_integrity = True, drop = False)\n",
    "    df.sort_index(inplace = True)\n",
    "    df['vent_settings.PEEP'] = df['vent_settings.PEEP'].astype(np.float64)\n",
    "    df['breath_number'] = df['breath_number'].astype(np.float64)\n",
    "    df['analysis.' + ds_types] = df['analysis.' + ds_types].astype(np.float64)\n",
    "\n",
    "    print('Pre ', df.shape)\n",
    "\n"
   ]
  },
  {
   "cell_type": "code",
   "execution_count": 9,
   "metadata": {
    "collapsed": false
   },
   "outputs": [
    {
     "name": "stdout",
     "output_type": "stream",
     "text": [
      "Post  (1816616, 8)\n",
      "Index(['analysis.ds', 'breath_number', 'patientID', 'vent_settings.FiO2',\n",
      "       'vent_settings.PEEP', 'vent_settings.compliance',\n",
      "       'vent_settings.p_peak', 'vent_settings.set_VT'],\n",
      "      dtype='object')\n"
     ]
    }
   ],
   "source": [
    "    rt_df = pd.io.json.json_normalize(list(rt))\n",
    "    rn_df = pd.io.json.json_normalize(list(rn))\n",
    "\n",
    "    rt_df['temp'] = rt_df.RT_entry.apply(unpack)\n",
    "    rt_df['vent_settings.FiO2'] = rt_df['temp'].apply(lambda x: x[0])\n",
    "    rt_df['vent_settings.PEEP'] = rt_df['temp'].apply(lambda x: x[1])\n",
    "    rt_df['vent_settings.set_VT'] = rt_df['temp'].apply(lambda x: x[2])\n",
    "    rt_df.drop(['RT_entry', 'temp'], inplace = True, axis = 1)\n",
    "\n",
    "    rn_df['temp'] = rn_df.RN_entry.apply(unpack)\n",
    "    rn_df['vent_settings.FiO2'] = rn_df['temp'].apply(lambda x: x[0])\n",
    "    rn_df['vent_settings.PEEP'] = rn_df['temp'].apply(lambda x: x[1])\n",
    "    rn_df['vent_settings.set_VT'] = rn_df['temp'].apply(lambda x: x[2])\n",
    "    rn_df.drop(['RN_entry', 'temp'], inplace = True, axis = 1)\n",
    "\n",
    "    rt_df.set_index(['patientID', 'entry_time'], inplace = True)\n",
    "    rn_df.set_index(['patientID', 'entry_time'], inplace = True)\n",
    "\n",
    "    final = rt_df.combine_first(rn_df)\n",
    "    final.index.set_names(['patientID', 'start_time'], inplace = True)\n",
    "\n",
    "    df = df.combine_first(final)\n",
    "    df.set_index(['start_time'], inplace = True)\n",
    "\n",
    "    print('Post ', df.shape)\n",
    "    print(df.columns)\n",
    "\n",
    " "
   ]
  },
  {
   "cell_type": "code",
   "execution_count": 80,
   "metadata": {
    "collapsed": false
   },
   "outputs": [
    {
     "data": {
      "text/plain": [
       "count    122.000000\n",
       "mean      11.959016\n",
       "std        6.032142\n",
       "min        1.000000\n",
       "25%        7.000000\n",
       "50%       12.000000\n",
       "75%       18.000000\n",
       "max       18.000000\n",
       "Name: NMB_lag18, dtype: float64"
      ]
     },
     "execution_count": 80,
     "metadata": {},
     "output_type": "execute_result"
    }
   ],
   "source": [
    "    grouped_df = df.groupby('patientID')\n",
    "\n",
    "    resampled_df = pd.DataFrame()\n",
    "    for name, group in grouped_df:       \n",
    "        group = group.resample('2H', how = custom_resampler)\n",
    "        group['NMB'] = 0\n",
    "        \n",
    "        patient_info = patient_df.ix[int(name.strip('P'))]\n",
    "        if patient_info['NMB'] == 'Yes':\n",
    "            start_stop = patient_info['Start_End_NMB'].strip('[]').split(';')\n",
    "\n",
    "            for items in start_stop:\n",
    "                start, stop = items.strip('()').split(',')\n",
    "                start = pd.to_datetime(start)\n",
    "                stop = pd.to_datetime(stop)\n",
    "                \n",
    "                if start < stop:\n",
    "                    group.loc[(group.index >= start) & (group.index <= stop), 'NMB'] = 1\n",
    "                else:\n",
    "                    rn_df.loc[(group.index >= stop) & (group.index <= start), 'NMB'] = 1\n",
    "        group['NMB_sum'] = pd.rolling_sum(group['NMB'], window=18, center=False)        \n",
    "        #print(group[['NMB_sum', 'NMB']])\n",
    "        \n",
    "        try:\n",
    "            group['ds_freq'] = group['analysis.' + ds_types] / group['breath_number']\n",
    "        except ZeroDivisionError:\n",
    "            print(group['analysis.' + ds_types, 'breath_number'])\n",
    "\n",
    "        for lags in [12, 18, 24]:\n",
    "            for items in ['ds', 'FiO2', 'PEEP', 'p_peak', 'set_VT']:\n",
    "                if items == 'ds':\n",
    "                    group[items + '_lag_' + str(lags)] = np.nan\n",
    "                    group[items + '_lag_' + str(lags)] = group['ds_freq'].shift(lags)\n",
    "                    group[items + '_lag_' + str(lags)] = group[items + '_lag_' + str(lags)].astype(np.float64)\n",
    "                else:\n",
    "                    group[items + '_diff_lag_' + str(lags)] = group['vent_settings.' + items] - group[\n",
    "                        'vent_settings.' + items].shift(lags)\n",
    "                    \n",
    "            group['NMB_lag'+str(lags)] = 0\n",
    "            group['NMB_lag'+str(lags)] = group['NMB_sum'].shift(lags)\n",
    "            \n",
    "        resampled_df = pd.concat([resampled_df, group])\n",
    "    resampled_df.NMB_lag18[resampled_df.NMB_lag18 >0].describe()\n",
    "\n",
    " "
   ]
  },
  {
   "cell_type": "code",
   "execution_count": 81,
   "metadata": {
    "collapsed": false
   },
   "outputs": [
    {
     "data": {
      "text/html": [
       "<div>\n",
       "<table border=\"1\" class=\"dataframe\">\n",
       "  <thead>\n",
       "    <tr style=\"text-align: right;\">\n",
       "      <th></th>\n",
       "      <th>analysis.ds</th>\n",
       "      <th>breath_number</th>\n",
       "      <th>vent_settings.FiO2</th>\n",
       "      <th>vent_settings.PEEP</th>\n",
       "      <th>vent_settings.compliance</th>\n",
       "      <th>vent_settings.p_peak</th>\n",
       "      <th>vent_settings.set_VT</th>\n",
       "      <th>NMB</th>\n",
       "      <th>NMB_sum</th>\n",
       "      <th>ds_freq</th>\n",
       "      <th>...</th>\n",
       "      <th>PEEP_diff_lag_18</th>\n",
       "      <th>p_peak_diff_lag_18</th>\n",
       "      <th>set_VT_diff_lag_18</th>\n",
       "      <th>NMB_lag18</th>\n",
       "      <th>ds_lag_24</th>\n",
       "      <th>FiO2_diff_lag_24</th>\n",
       "      <th>PEEP_diff_lag_24</th>\n",
       "      <th>p_peak_diff_lag_24</th>\n",
       "      <th>set_VT_diff_lag_24</th>\n",
       "      <th>NMB_lag24</th>\n",
       "    </tr>\n",
       "  </thead>\n",
       "  <tbody>\n",
       "    <tr>\n",
       "      <th>count</th>\n",
       "      <td>928.000000</td>\n",
       "      <td>928.000000</td>\n",
       "      <td>742.000000</td>\n",
       "      <td>742.000000</td>\n",
       "      <td>740.000000</td>\n",
       "      <td>742.000000</td>\n",
       "      <td>579.000000</td>\n",
       "      <td>928.000000</td>\n",
       "      <td>535.000000</td>\n",
       "      <td>745.000000</td>\n",
       "      <td>...</td>\n",
       "      <td>323.000000</td>\n",
       "      <td>323.000000</td>\n",
       "      <td>183.000000</td>\n",
       "      <td>290.000000</td>\n",
       "      <td>314.000000</td>\n",
       "      <td>253.000000</td>\n",
       "      <td>253.000000</td>\n",
       "      <td>253.000000</td>\n",
       "      <td>140.000000</td>\n",
       "      <td>241.000000</td>\n",
       "    </tr>\n",
       "    <tr>\n",
       "      <th>mean</th>\n",
       "      <td>51.933190</td>\n",
       "      <td>1955.711207</td>\n",
       "      <td>54.310569</td>\n",
       "      <td>8.422606</td>\n",
       "      <td>53.309204</td>\n",
       "      <td>22.889168</td>\n",
       "      <td>415.066879</td>\n",
       "      <td>0.174569</td>\n",
       "      <td>3.405607</td>\n",
       "      <td>0.028903</td>\n",
       "      <td>...</td>\n",
       "      <td>-0.332421</td>\n",
       "      <td>-0.815107</td>\n",
       "      <td>1.065734</td>\n",
       "      <td>5.031034</td>\n",
       "      <td>0.033788</td>\n",
       "      <td>-4.765638</td>\n",
       "      <td>-0.190104</td>\n",
       "      <td>-1.058266</td>\n",
       "      <td>0.015918</td>\n",
       "      <td>5.863071</td>\n",
       "    </tr>\n",
       "    <tr>\n",
       "      <th>std</th>\n",
       "      <td>108.199793</td>\n",
       "      <td>1274.601741</td>\n",
       "      <td>17.759305</td>\n",
       "      <td>2.929940</td>\n",
       "      <td>33.822077</td>\n",
       "      <td>6.195661</td>\n",
       "      <td>75.894508</td>\n",
       "      <td>0.379803</td>\n",
       "      <td>6.261018</td>\n",
       "      <td>0.058193</td>\n",
       "      <td>...</td>\n",
       "      <td>2.585507</td>\n",
       "      <td>5.347440</td>\n",
       "      <td>37.306344</td>\n",
       "      <td>7.085909</td>\n",
       "      <td>0.073980</td>\n",
       "      <td>15.969524</td>\n",
       "      <td>2.415937</td>\n",
       "      <td>5.549162</td>\n",
       "      <td>49.296364</td>\n",
       "      <td>7.419142</td>\n",
       "    </tr>\n",
       "    <tr>\n",
       "      <th>min</th>\n",
       "      <td>0.000000</td>\n",
       "      <td>0.000000</td>\n",
       "      <td>30.000000</td>\n",
       "      <td>0.876777</td>\n",
       "      <td>15.133578</td>\n",
       "      <td>4.000000</td>\n",
       "      <td>270.000000</td>\n",
       "      <td>0.000000</td>\n",
       "      <td>0.000000</td>\n",
       "      <td>0.000000</td>\n",
       "      <td>...</td>\n",
       "      <td>-9.000000</td>\n",
       "      <td>-14.371918</td>\n",
       "      <td>-110.000000</td>\n",
       "      <td>0.000000</td>\n",
       "      <td>0.000000</td>\n",
       "      <td>-60.000000</td>\n",
       "      <td>-6.000000</td>\n",
       "      <td>-18.268650</td>\n",
       "      <td>-110.227801</td>\n",
       "      <td>0.000000</td>\n",
       "    </tr>\n",
       "    <tr>\n",
       "      <th>25%</th>\n",
       "      <td>0.000000</td>\n",
       "      <td>838.750000</td>\n",
       "      <td>40.000000</td>\n",
       "      <td>5.000000</td>\n",
       "      <td>30.094261</td>\n",
       "      <td>18.427871</td>\n",
       "      <td>370.000000</td>\n",
       "      <td>0.000000</td>\n",
       "      <td>0.000000</td>\n",
       "      <td>0.001412</td>\n",
       "      <td>...</td>\n",
       "      <td>-2.000000</td>\n",
       "      <td>-3.871750</td>\n",
       "      <td>0.000000</td>\n",
       "      <td>0.000000</td>\n",
       "      <td>0.000780</td>\n",
       "      <td>-10.000000</td>\n",
       "      <td>-1.837072</td>\n",
       "      <td>-4.747693</td>\n",
       "      <td>0.000000</td>\n",
       "      <td>0.000000</td>\n",
       "    </tr>\n",
       "    <tr>\n",
       "      <th>50%</th>\n",
       "      <td>8.000000</td>\n",
       "      <td>2276.000000</td>\n",
       "      <td>50.000000</td>\n",
       "      <td>8.000000</td>\n",
       "      <td>41.824503</td>\n",
       "      <td>22.859459</td>\n",
       "      <td>420.000000</td>\n",
       "      <td>0.000000</td>\n",
       "      <td>0.000000</td>\n",
       "      <td>0.007673</td>\n",
       "      <td>...</td>\n",
       "      <td>0.000000</td>\n",
       "      <td>-0.440706</td>\n",
       "      <td>0.000000</td>\n",
       "      <td>0.000000</td>\n",
       "      <td>0.006822</td>\n",
       "      <td>0.000000</td>\n",
       "      <td>0.000000</td>\n",
       "      <td>-0.936197</td>\n",
       "      <td>0.000000</td>\n",
       "      <td>0.000000</td>\n",
       "    </tr>\n",
       "    <tr>\n",
       "      <th>75%</th>\n",
       "      <td>45.250000</td>\n",
       "      <td>2887.000000</td>\n",
       "      <td>60.000000</td>\n",
       "      <td>10.000000</td>\n",
       "      <td>66.412446</td>\n",
       "      <td>27.459194</td>\n",
       "      <td>470.000000</td>\n",
       "      <td>0.000000</td>\n",
       "      <td>3.000000</td>\n",
       "      <td>0.031187</td>\n",
       "      <td>...</td>\n",
       "      <td>1.132890</td>\n",
       "      <td>2.070784</td>\n",
       "      <td>0.000000</td>\n",
       "      <td>10.000000</td>\n",
       "      <td>0.033577</td>\n",
       "      <td>0.000000</td>\n",
       "      <td>0.423297</td>\n",
       "      <td>2.083956</td>\n",
       "      <td>0.000000</td>\n",
       "      <td>12.000000</td>\n",
       "    </tr>\n",
       "    <tr>\n",
       "      <th>max</th>\n",
       "      <td>922.000000</td>\n",
       "      <td>4539.000000</td>\n",
       "      <td>100.000000</td>\n",
       "      <td>20.000000</td>\n",
       "      <td>181.382775</td>\n",
       "      <td>41.406943</td>\n",
       "      <td>630.000000</td>\n",
       "      <td>1.000000</td>\n",
       "      <td>18.000000</td>\n",
       "      <td>1.000000</td>\n",
       "      <td>...</td>\n",
       "      <td>6.000000</td>\n",
       "      <td>14.888697</td>\n",
       "      <td>160.000000</td>\n",
       "      <td>18.000000</td>\n",
       "      <td>1.000000</td>\n",
       "      <td>50.000000</td>\n",
       "      <td>6.000000</td>\n",
       "      <td>13.046730</td>\n",
       "      <td>160.000000</td>\n",
       "      <td>18.000000</td>\n",
       "    </tr>\n",
       "  </tbody>\n",
       "</table>\n",
       "<p>8 rows × 28 columns</p>\n",
       "</div>"
      ],
      "text/plain": [
       "       analysis.ds  breath_number  vent_settings.FiO2  vent_settings.PEEP  \\\n",
       "count   928.000000     928.000000          742.000000          742.000000   \n",
       "mean     51.933190    1955.711207           54.310569            8.422606   \n",
       "std     108.199793    1274.601741           17.759305            2.929940   \n",
       "min       0.000000       0.000000           30.000000            0.876777   \n",
       "25%       0.000000     838.750000           40.000000            5.000000   \n",
       "50%       8.000000    2276.000000           50.000000            8.000000   \n",
       "75%      45.250000    2887.000000           60.000000           10.000000   \n",
       "max     922.000000    4539.000000          100.000000           20.000000   \n",
       "\n",
       "       vent_settings.compliance  vent_settings.p_peak  vent_settings.set_VT  \\\n",
       "count                740.000000            742.000000            579.000000   \n",
       "mean                  53.309204             22.889168            415.066879   \n",
       "std                   33.822077              6.195661             75.894508   \n",
       "min                   15.133578              4.000000            270.000000   \n",
       "25%                   30.094261             18.427871            370.000000   \n",
       "50%                   41.824503             22.859459            420.000000   \n",
       "75%                   66.412446             27.459194            470.000000   \n",
       "max                  181.382775             41.406943            630.000000   \n",
       "\n",
       "              NMB     NMB_sum     ds_freq     ...      PEEP_diff_lag_18  \\\n",
       "count  928.000000  535.000000  745.000000     ...            323.000000   \n",
       "mean     0.174569    3.405607    0.028903     ...             -0.332421   \n",
       "std      0.379803    6.261018    0.058193     ...              2.585507   \n",
       "min      0.000000    0.000000    0.000000     ...             -9.000000   \n",
       "25%      0.000000    0.000000    0.001412     ...             -2.000000   \n",
       "50%      0.000000    0.000000    0.007673     ...              0.000000   \n",
       "75%      0.000000    3.000000    0.031187     ...              1.132890   \n",
       "max      1.000000   18.000000    1.000000     ...              6.000000   \n",
       "\n",
       "       p_peak_diff_lag_18  set_VT_diff_lag_18   NMB_lag18   ds_lag_24  \\\n",
       "count          323.000000          183.000000  290.000000  314.000000   \n",
       "mean            -0.815107            1.065734    5.031034    0.033788   \n",
       "std              5.347440           37.306344    7.085909    0.073980   \n",
       "min            -14.371918         -110.000000    0.000000    0.000000   \n",
       "25%             -3.871750            0.000000    0.000000    0.000780   \n",
       "50%             -0.440706            0.000000    0.000000    0.006822   \n",
       "75%              2.070784            0.000000   10.000000    0.033577   \n",
       "max             14.888697          160.000000   18.000000    1.000000   \n",
       "\n",
       "       FiO2_diff_lag_24  PEEP_diff_lag_24  p_peak_diff_lag_24  \\\n",
       "count        253.000000        253.000000          253.000000   \n",
       "mean          -4.765638         -0.190104           -1.058266   \n",
       "std           15.969524          2.415937            5.549162   \n",
       "min          -60.000000         -6.000000          -18.268650   \n",
       "25%          -10.000000         -1.837072           -4.747693   \n",
       "50%            0.000000          0.000000           -0.936197   \n",
       "75%            0.000000          0.423297            2.083956   \n",
       "max           50.000000          6.000000           13.046730   \n",
       "\n",
       "       set_VT_diff_lag_24   NMB_lag24  \n",
       "count          140.000000  241.000000  \n",
       "mean             0.015918    5.863071  \n",
       "std             49.296364    7.419142  \n",
       "min           -110.227801    0.000000  \n",
       "25%              0.000000    0.000000  \n",
       "50%              0.000000    0.000000  \n",
       "75%              0.000000   12.000000  \n",
       "max            160.000000   18.000000  \n",
       "\n",
       "[8 rows x 28 columns]"
      ]
     },
     "execution_count": 81,
     "metadata": {},
     "output_type": "execute_result"
    }
   ],
   "source": [
    "resampled_df.describe()"
   ]
  },
  {
   "cell_type": "code",
   "execution_count": 82,
   "metadata": {
    "collapsed": false
   },
   "outputs": [],
   "source": [
    "    resampled_df.dropna(how = 'any', subset = ['vent_settings.FiO2'], inplace = True)\n",
    "    resampled_df.replace({0: np.nan}, inplace = True)\n",
    "\n",
    "    for times in ['12', '18', '24']:\n",
    "        resampled_df['ds_lag_' + times + '_bin'] = resampled_df['ds_lag_' + times].apply(bin_samples)\n",
    "\n",
    "    resampled_df.to_csv('c:\\Research_data\\lagged_analysis_2_' + ds_types + '.csv')"
   ]
  },
  {
   "cell_type": "code",
   "execution_count": 50,
   "metadata": {
    "collapsed": false
   },
   "outputs": [
    {
     "data": {
      "text/plain": [
       "<matplotlib.axes._subplots.AxesSubplot at 0x515ed320>"
      ]
     },
     "execution_count": 50,
     "metadata": {},
     "output_type": "execute_result"
    },
    {
     "data": {
      "image/png": "[encoded data removed]",
      "text/plain": [
       "<matplotlib.figure.Figure at 0x12817630>"
      ]
     },
     "metadata": {},
     "output_type": "display_data"
    }
   ],
   "source": [
    "resampled_df.plot(x='ds_lag_18', y='PEEP_diff_lag_18', kind='scatter')"
   ]
  },
  {
   "cell_type": "code",
   "execution_count": 51,
   "metadata": {
    "collapsed": false
   },
   "outputs": [
    {
     "data": {
      "text/plain": [
       "<matplotlib.axes._subplots.AxesSubplot at 0x556f5080>"
      ]
     },
     "execution_count": 51,
     "metadata": {},
     "output_type": "execute_result"
    },
    {
     "data": {
      "image/png": "[encoded data removed]",
      "text/plain": [
       "<matplotlib.figure.Figure at 0x12466048>"
      ]
     },
     "metadata": {},
     "output_type": "display_data"
    }
   ],
   "source": [
    "resampled_df.plot(x='ds_lag_18', y='vent_settings.PEEP', kind='scatter')"
   ]
  },
  {
   "cell_type": "code",
   "execution_count": 52,
   "metadata": {
    "collapsed": false
   },
   "outputs": [
    {
     "data": {
      "text/plain": [
       "<matplotlib.axes._subplots.AxesSubplot at 0xcdfbbe0>"
      ]
     },
     "execution_count": 52,
     "metadata": {},
     "output_type": "execute_result"
    },
    {
     "data": {
      "image/png": "[encoded data removed]",
      "text/plain": [
       "<matplotlib.figure.Figure at 0xcd55ef0>"
      ]
     },
     "metadata": {},
     "output_type": "display_data"
    }
   ],
   "source": [
    "resampled_df.plot(x='ds_lag_18', y='vent_settings.p_peak', kind='scatter')"
   ]
  },
  {
   "cell_type": "code",
   "execution_count": 53,
   "metadata": {
    "collapsed": false
   },
   "outputs": [
    {
     "data": {
      "text/plain": [
       "<matplotlib.axes._subplots.AxesSubplot at 0xc969940>"
      ]
     },
     "execution_count": 53,
     "metadata": {},
     "output_type": "execute_result"
    },
    {
     "data": {
      "image/png": "[encoded data removed]",
      "text/plain": [
       "<matplotlib.figure.Figure at 0xc8f2ba8>"
      ]
     },
     "metadata": {},
     "output_type": "display_data"
    }
   ],
   "source": [
    "resampled_df.plot(x='ds_lag_18', y='vent_settings.set_VT', kind='scatter')"
   ]
  },
  {
   "cell_type": "code",
   "execution_count": 54,
   "metadata": {
    "collapsed": false
   },
   "outputs": [
    {
     "data": {
      "text/html": [
       "<div>\n",
       "<table border=\"1\" class=\"dataframe\">\n",
       "  <thead>\n",
       "    <tr style=\"text-align: right;\">\n",
       "      <th></th>\n",
       "      <th>analysis.ds</th>\n",
       "      <th>breath_number</th>\n",
       "      <th>vent_settings.FiO2</th>\n",
       "      <th>vent_settings.PEEP</th>\n",
       "      <th>vent_settings.compliance</th>\n",
       "      <th>vent_settings.p_peak</th>\n",
       "      <th>vent_settings.set_VT</th>\n",
       "      <th>NMB</th>\n",
       "      <th>NMB_sum</th>\n",
       "      <th>ds_freq</th>\n",
       "      <th>...</th>\n",
       "      <th>NMB_lag18</th>\n",
       "      <th>ds_lag_24</th>\n",
       "      <th>FiO2_diff_lag_24</th>\n",
       "      <th>PEEP_diff_lag_24</th>\n",
       "      <th>p_peak_diff_lag_24</th>\n",
       "      <th>set_VT_diff_lag_24</th>\n",
       "      <th>NMB_lag24</th>\n",
       "      <th>ds_lag_12_bin</th>\n",
       "      <th>ds_lag_18_bin</th>\n",
       "      <th>ds_lag_24_bin</th>\n",
       "    </tr>\n",
       "  </thead>\n",
       "  <tbody>\n",
       "    <tr>\n",
       "      <th>count</th>\n",
       "      <td>48.000000</td>\n",
       "      <td>55.000000</td>\n",
       "      <td>55.000000</td>\n",
       "      <td>55.000000</td>\n",
       "      <td>55.000000</td>\n",
       "      <td>55.000000</td>\n",
       "      <td>36.000000</td>\n",
       "      <td>14</td>\n",
       "      <td>14.000000</td>\n",
       "      <td>48.000000</td>\n",
       "      <td>...</td>\n",
       "      <td>0</td>\n",
       "      <td>31.000000</td>\n",
       "      <td>25.000000</td>\n",
       "      <td>20.000000</td>\n",
       "      <td>32.000000</td>\n",
       "      <td>13.000000</td>\n",
       "      <td>1</td>\n",
       "      <td>40.000000</td>\n",
       "      <td>55</td>\n",
       "      <td>31.000000</td>\n",
       "    </tr>\n",
       "    <tr>\n",
       "      <th>mean</th>\n",
       "      <td>163.145833</td>\n",
       "      <td>2333.854545</td>\n",
       "      <td>61.426643</td>\n",
       "      <td>9.306913</td>\n",
       "      <td>68.091479</td>\n",
       "      <td>23.142293</td>\n",
       "      <td>403.571502</td>\n",
       "      <td>1</td>\n",
       "      <td>8.142857</td>\n",
       "      <td>0.062736</td>\n",
       "      <td>...</td>\n",
       "      <td>NaN</td>\n",
       "      <td>0.045601</td>\n",
       "      <td>7.723326</td>\n",
       "      <td>1.537863</td>\n",
       "      <td>1.945800</td>\n",
       "      <td>-44.466349</td>\n",
       "      <td>4</td>\n",
       "      <td>0.350000</td>\n",
       "      <td>1</td>\n",
       "      <td>0.322581</td>\n",
       "    </tr>\n",
       "    <tr>\n",
       "      <th>std</th>\n",
       "      <td>220.072521</td>\n",
       "      <td>977.094093</td>\n",
       "      <td>16.603800</td>\n",
       "      <td>2.449732</td>\n",
       "      <td>50.244431</td>\n",
       "      <td>7.017315</td>\n",
       "      <td>50.513152</td>\n",
       "      <td>0</td>\n",
       "      <td>6.150136</td>\n",
       "      <td>0.070706</td>\n",
       "      <td>...</td>\n",
       "      <td>NaN</td>\n",
       "      <td>0.050174</td>\n",
       "      <td>23.273440</td>\n",
       "      <td>3.182987</td>\n",
       "      <td>7.154104</td>\n",
       "      <td>36.213225</td>\n",
       "      <td>NaN</td>\n",
       "      <td>0.483046</td>\n",
       "      <td>0</td>\n",
       "      <td>0.475191</td>\n",
       "    </tr>\n",
       "    <tr>\n",
       "      <th>min</th>\n",
       "      <td>1.000000</td>\n",
       "      <td>1.000000</td>\n",
       "      <td>40.000000</td>\n",
       "      <td>5.000000</td>\n",
       "      <td>16.123847</td>\n",
       "      <td>12.170987</td>\n",
       "      <td>270.000000</td>\n",
       "      <td>1</td>\n",
       "      <td>1.000000</td>\n",
       "      <td>0.000925</td>\n",
       "      <td>...</td>\n",
       "      <td>NaN</td>\n",
       "      <td>0.000468</td>\n",
       "      <td>-40.124964</td>\n",
       "      <td>-4.000000</td>\n",
       "      <td>-12.801438</td>\n",
       "      <td>-70.000000</td>\n",
       "      <td>4</td>\n",
       "      <td>0.000000</td>\n",
       "      <td>1</td>\n",
       "      <td>0.000000</td>\n",
       "    </tr>\n",
       "    <tr>\n",
       "      <th>25%</th>\n",
       "      <td>10.000000</td>\n",
       "      <td>1605.000000</td>\n",
       "      <td>50.000000</td>\n",
       "      <td>8.000000</td>\n",
       "      <td>23.035677</td>\n",
       "      <td>17.611031</td>\n",
       "      <td>350.000000</td>\n",
       "      <td>1</td>\n",
       "      <td>2.250000</td>\n",
       "      <td>0.005816</td>\n",
       "      <td>...</td>\n",
       "      <td>NaN</td>\n",
       "      <td>0.007810</td>\n",
       "      <td>-10.000000</td>\n",
       "      <td>-0.582154</td>\n",
       "      <td>-2.692090</td>\n",
       "      <td>-70.000000</td>\n",
       "      <td>4</td>\n",
       "      <td>0.000000</td>\n",
       "      <td>1</td>\n",
       "      <td>0.000000</td>\n",
       "    </tr>\n",
       "    <tr>\n",
       "      <th>50%</th>\n",
       "      <td>37.500000</td>\n",
       "      <td>2467.000000</td>\n",
       "      <td>60.000000</td>\n",
       "      <td>10.000000</td>\n",
       "      <td>57.896870</td>\n",
       "      <td>22.027893</td>\n",
       "      <td>420.000000</td>\n",
       "      <td>1</td>\n",
       "      <td>7.000000</td>\n",
       "      <td>0.027510</td>\n",
       "      <td>...</td>\n",
       "      <td>NaN</td>\n",
       "      <td>0.029150</td>\n",
       "      <td>10.000000</td>\n",
       "      <td>1.959632</td>\n",
       "      <td>2.830343</td>\n",
       "      <td>-70.000000</td>\n",
       "      <td>4</td>\n",
       "      <td>0.000000</td>\n",
       "      <td>1</td>\n",
       "      <td>0.000000</td>\n",
       "    </tr>\n",
       "    <tr>\n",
       "      <th>75%</th>\n",
       "      <td>304.750000</td>\n",
       "      <td>3176.500000</td>\n",
       "      <td>70.000000</td>\n",
       "      <td>10.000000</td>\n",
       "      <td>96.485579</td>\n",
       "      <td>29.498664</td>\n",
       "      <td>420.000000</td>\n",
       "      <td>1</td>\n",
       "      <td>13.750000</td>\n",
       "      <td>0.113269</td>\n",
       "      <td>...</td>\n",
       "      <td>NaN</td>\n",
       "      <td>0.067986</td>\n",
       "      <td>21.029594</td>\n",
       "      <td>4.000000</td>\n",
       "      <td>8.463599</td>\n",
       "      <td>-10.723665</td>\n",
       "      <td>4</td>\n",
       "      <td>1.000000</td>\n",
       "      <td>1</td>\n",
       "      <td>1.000000</td>\n",
       "    </tr>\n",
       "    <tr>\n",
       "      <th>max</th>\n",
       "      <td>922.000000</td>\n",
       "      <td>3645.000000</td>\n",
       "      <td>100.000000</td>\n",
       "      <td>14.000000</td>\n",
       "      <td>170.987013</td>\n",
       "      <td>36.153056</td>\n",
       "      <td>480.000000</td>\n",
       "      <td>1</td>\n",
       "      <td>17.000000</td>\n",
       "      <td>0.253785</td>\n",
       "      <td>...</td>\n",
       "      <td>NaN</td>\n",
       "      <td>0.176000</td>\n",
       "      <td>47.225000</td>\n",
       "      <td>6.000000</td>\n",
       "      <td>13.000000</td>\n",
       "      <td>14.190920</td>\n",
       "      <td>4</td>\n",
       "      <td>1.000000</td>\n",
       "      <td>1</td>\n",
       "      <td>1.000000</td>\n",
       "    </tr>\n",
       "  </tbody>\n",
       "</table>\n",
       "<p>8 rows × 31 columns</p>\n",
       "</div>"
      ],
      "text/plain": [
       "       analysis.ds  breath_number  vent_settings.FiO2  vent_settings.PEEP  \\\n",
       "count    48.000000      55.000000           55.000000           55.000000   \n",
       "mean    163.145833    2333.854545           61.426643            9.306913   \n",
       "std     220.072521     977.094093           16.603800            2.449732   \n",
       "min       1.000000       1.000000           40.000000            5.000000   \n",
       "25%      10.000000    1605.000000           50.000000            8.000000   \n",
       "50%      37.500000    2467.000000           60.000000           10.000000   \n",
       "75%     304.750000    3176.500000           70.000000           10.000000   \n",
       "max     922.000000    3645.000000          100.000000           14.000000   \n",
       "\n",
       "       vent_settings.compliance  vent_settings.p_peak  vent_settings.set_VT  \\\n",
       "count                 55.000000             55.000000             36.000000   \n",
       "mean                  68.091479             23.142293            403.571502   \n",
       "std                   50.244431              7.017315             50.513152   \n",
       "min                   16.123847             12.170987            270.000000   \n",
       "25%                   23.035677             17.611031            350.000000   \n",
       "50%                   57.896870             22.027893            420.000000   \n",
       "75%                   96.485579             29.498664            420.000000   \n",
       "max                  170.987013             36.153056            480.000000   \n",
       "\n",
       "       NMB    NMB_sum    ds_freq      ...        NMB_lag18  ds_lag_24  \\\n",
       "count   14  14.000000  48.000000      ...                0  31.000000   \n",
       "mean     1   8.142857   0.062736      ...              NaN   0.045601   \n",
       "std      0   6.150136   0.070706      ...              NaN   0.050174   \n",
       "min      1   1.000000   0.000925      ...              NaN   0.000468   \n",
       "25%      1   2.250000   0.005816      ...              NaN   0.007810   \n",
       "50%      1   7.000000   0.027510      ...              NaN   0.029150   \n",
       "75%      1  13.750000   0.113269      ...              NaN   0.067986   \n",
       "max      1  17.000000   0.253785      ...              NaN   0.176000   \n",
       "\n",
       "       FiO2_diff_lag_24  PEEP_diff_lag_24  p_peak_diff_lag_24  \\\n",
       "count         25.000000         20.000000           32.000000   \n",
       "mean           7.723326          1.537863            1.945800   \n",
       "std           23.273440          3.182987            7.154104   \n",
       "min          -40.124964         -4.000000          -12.801438   \n",
       "25%          -10.000000         -0.582154           -2.692090   \n",
       "50%           10.000000          1.959632            2.830343   \n",
       "75%           21.029594          4.000000            8.463599   \n",
       "max           47.225000          6.000000           13.000000   \n",
       "\n",
       "       set_VT_diff_lag_24  NMB_lag24  ds_lag_12_bin  ds_lag_18_bin  \\\n",
       "count           13.000000          1      40.000000             55   \n",
       "mean           -44.466349          4       0.350000              1   \n",
       "std             36.213225        NaN       0.483046              0   \n",
       "min            -70.000000          4       0.000000              1   \n",
       "25%            -70.000000          4       0.000000              1   \n",
       "50%            -70.000000          4       0.000000              1   \n",
       "75%            -10.723665          4       1.000000              1   \n",
       "max             14.190920          4       1.000000              1   \n",
       "\n",
       "       ds_lag_24_bin  \n",
       "count      31.000000  \n",
       "mean        0.322581  \n",
       "std         0.475191  \n",
       "min         0.000000  \n",
       "25%         0.000000  \n",
       "50%         0.000000  \n",
       "75%         1.000000  \n",
       "max         1.000000  \n",
       "\n",
       "[8 rows x 31 columns]"
      ]
     },
     "execution_count": 54,
     "metadata": {},
     "output_type": "execute_result"
    }
   ],
   "source": [
    "resampled_df[resampled_df['ds_lag_18'] > 0.05].describe()"
   ]
  },
  {
   "cell_type": "code",
   "execution_count": 55,
   "metadata": {
    "collapsed": false
   },
   "outputs": [
    {
     "data": {
      "text/html": [
       "<div>\n",
       "<table border=\"1\" class=\"dataframe\">\n",
       "  <thead>\n",
       "    <tr style=\"text-align: right;\">\n",
       "      <th></th>\n",
       "      <th>analysis.ds</th>\n",
       "      <th>breath_number</th>\n",
       "      <th>vent_settings.FiO2</th>\n",
       "      <th>vent_settings.PEEP</th>\n",
       "      <th>vent_settings.compliance</th>\n",
       "      <th>vent_settings.p_peak</th>\n",
       "      <th>vent_settings.set_VT</th>\n",
       "      <th>NMB</th>\n",
       "      <th>NMB_sum</th>\n",
       "      <th>ds_freq</th>\n",
       "      <th>...</th>\n",
       "      <th>NMB_lag18</th>\n",
       "      <th>ds_lag_24</th>\n",
       "      <th>FiO2_diff_lag_24</th>\n",
       "      <th>PEEP_diff_lag_24</th>\n",
       "      <th>p_peak_diff_lag_24</th>\n",
       "      <th>set_VT_diff_lag_24</th>\n",
       "      <th>NMB_lag24</th>\n",
       "      <th>ds_lag_12_bin</th>\n",
       "      <th>ds_lag_18_bin</th>\n",
       "      <th>ds_lag_24_bin</th>\n",
       "    </tr>\n",
       "  </thead>\n",
       "  <tbody>\n",
       "    <tr>\n",
       "      <th>count</th>\n",
       "      <td>194.000000</td>\n",
       "      <td>220.000000</td>\n",
       "      <td>220.000000</td>\n",
       "      <td>220.000000</td>\n",
       "      <td>219.000000</td>\n",
       "      <td>220.000000</td>\n",
       "      <td>149.000000</td>\n",
       "      <td>24</td>\n",
       "      <td>56.000000</td>\n",
       "      <td>194.000000</td>\n",
       "      <td>...</td>\n",
       "      <td>46.000000</td>\n",
       "      <td>120.000000</td>\n",
       "      <td>98.000000</td>\n",
       "      <td>78.000000</td>\n",
       "      <td>150.000000</td>\n",
       "      <td>23.000000</td>\n",
       "      <td>46.000000</td>\n",
       "      <td>164.000000</td>\n",
       "      <td>220</td>\n",
       "      <td>120.00000</td>\n",
       "    </tr>\n",
       "    <tr>\n",
       "      <th>mean</th>\n",
       "      <td>40.103093</td>\n",
       "      <td>2372.981818</td>\n",
       "      <td>48.991826</td>\n",
       "      <td>8.204956</td>\n",
       "      <td>57.883177</td>\n",
       "      <td>22.569091</td>\n",
       "      <td>434.427545</td>\n",
       "      <td>1</td>\n",
       "      <td>10.678571</td>\n",
       "      <td>0.017295</td>\n",
       "      <td>...</td>\n",
       "      <td>10.608696</td>\n",
       "      <td>0.028205</td>\n",
       "      <td>-6.565199</td>\n",
       "      <td>-0.226422</td>\n",
       "      <td>-0.991135</td>\n",
       "      <td>-0.381648</td>\n",
       "      <td>10.239130</td>\n",
       "      <td>0.182927</td>\n",
       "      <td>0</td>\n",
       "      <td>0.17500</td>\n",
       "    </tr>\n",
       "    <tr>\n",
       "      <th>std</th>\n",
       "      <td>80.019814</td>\n",
       "      <td>883.626277</td>\n",
       "      <td>13.279949</td>\n",
       "      <td>2.663341</td>\n",
       "      <td>37.034599</td>\n",
       "      <td>5.828959</td>\n",
       "      <td>84.223567</td>\n",
       "      <td>0</td>\n",
       "      <td>5.815675</td>\n",
       "      <td>0.030374</td>\n",
       "      <td>...</td>\n",
       "      <td>6.133617</td>\n",
       "      <td>0.043205</td>\n",
       "      <td>16.845914</td>\n",
       "      <td>3.031645</td>\n",
       "      <td>5.389410</td>\n",
       "      <td>97.992898</td>\n",
       "      <td>5.696723</td>\n",
       "      <td>0.387791</td>\n",
       "      <td>0</td>\n",
       "      <td>0.38156</td>\n",
       "    </tr>\n",
       "    <tr>\n",
       "      <th>min</th>\n",
       "      <td>1.000000</td>\n",
       "      <td>1.000000</td>\n",
       "      <td>30.000000</td>\n",
       "      <td>4.740803</td>\n",
       "      <td>15.133578</td>\n",
       "      <td>11.000000</td>\n",
       "      <td>270.000000</td>\n",
       "      <td>1</td>\n",
       "      <td>1.000000</td>\n",
       "      <td>0.000297</td>\n",
       "      <td>...</td>\n",
       "      <td>1.000000</td>\n",
       "      <td>0.000297</td>\n",
       "      <td>-60.000000</td>\n",
       "      <td>-6.000000</td>\n",
       "      <td>-18.268650</td>\n",
       "      <td>-110.227801</td>\n",
       "      <td>1.000000</td>\n",
       "      <td>0.000000</td>\n",
       "      <td>0</td>\n",
       "      <td>0.00000</td>\n",
       "    </tr>\n",
       "    <tr>\n",
       "      <th>25%</th>\n",
       "      <td>6.000000</td>\n",
       "      <td>1877.000000</td>\n",
       "      <td>40.000000</td>\n",
       "      <td>5.000000</td>\n",
       "      <td>35.227736</td>\n",
       "      <td>17.868066</td>\n",
       "      <td>410.000000</td>\n",
       "      <td>1</td>\n",
       "      <td>5.750000</td>\n",
       "      <td>0.002406</td>\n",
       "      <td>...</td>\n",
       "      <td>5.250000</td>\n",
       "      <td>0.001838</td>\n",
       "      <td>-12.763389</td>\n",
       "      <td>-3.000000</td>\n",
       "      <td>-4.437085</td>\n",
       "      <td>-70.000000</td>\n",
       "      <td>5.000000</td>\n",
       "      <td>0.000000</td>\n",
       "      <td>0</td>\n",
       "      <td>0.00000</td>\n",
       "    </tr>\n",
       "    <tr>\n",
       "      <th>50%</th>\n",
       "      <td>17.000000</td>\n",
       "      <td>2588.000000</td>\n",
       "      <td>40.264424</td>\n",
       "      <td>8.000000</td>\n",
       "      <td>44.784998</td>\n",
       "      <td>23.686273</td>\n",
       "      <td>470.000000</td>\n",
       "      <td>1</td>\n",
       "      <td>11.500000</td>\n",
       "      <td>0.006836</td>\n",
       "      <td>...</td>\n",
       "      <td>10.500000</td>\n",
       "      <td>0.009535</td>\n",
       "      <td>-10.000000</td>\n",
       "      <td>0.198149</td>\n",
       "      <td>-0.458327</td>\n",
       "      <td>-50.000000</td>\n",
       "      <td>10.000000</td>\n",
       "      <td>0.000000</td>\n",
       "      <td>0</td>\n",
       "      <td>0.00000</td>\n",
       "    </tr>\n",
       "    <tr>\n",
       "      <th>75%</th>\n",
       "      <td>38.750000</td>\n",
       "      <td>2981.250000</td>\n",
       "      <td>60.000000</td>\n",
       "      <td>10.000000</td>\n",
       "      <td>69.177575</td>\n",
       "      <td>27.100124</td>\n",
       "      <td>480.000000</td>\n",
       "      <td>1</td>\n",
       "      <td>17.250000</td>\n",
       "      <td>0.017511</td>\n",
       "      <td>...</td>\n",
       "      <td>18.000000</td>\n",
       "      <td>0.031594</td>\n",
       "      <td>10.000000</td>\n",
       "      <td>2.000000</td>\n",
       "      <td>2.198401</td>\n",
       "      <td>70.000000</td>\n",
       "      <td>17.250000</td>\n",
       "      <td>0.000000</td>\n",
       "      <td>0</td>\n",
       "      <td>0.00000</td>\n",
       "    </tr>\n",
       "    <tr>\n",
       "      <th>max</th>\n",
       "      <td>715.000000</td>\n",
       "      <td>4342.000000</td>\n",
       "      <td>100.000000</td>\n",
       "      <td>14.000000</td>\n",
       "      <td>181.382775</td>\n",
       "      <td>32.610453</td>\n",
       "      <td>630.000000</td>\n",
       "      <td>1</td>\n",
       "      <td>18.000000</td>\n",
       "      <td>0.227635</td>\n",
       "      <td>...</td>\n",
       "      <td>18.000000</td>\n",
       "      <td>0.203567</td>\n",
       "      <td>50.000000</td>\n",
       "      <td>5.000000</td>\n",
       "      <td>13.046730</td>\n",
       "      <td>160.000000</td>\n",
       "      <td>18.000000</td>\n",
       "      <td>1.000000</td>\n",
       "      <td>0</td>\n",
       "      <td>1.00000</td>\n",
       "    </tr>\n",
       "  </tbody>\n",
       "</table>\n",
       "<p>8 rows × 31 columns</p>\n",
       "</div>"
      ],
      "text/plain": [
       "       analysis.ds  breath_number  vent_settings.FiO2  vent_settings.PEEP  \\\n",
       "count   194.000000     220.000000          220.000000          220.000000   \n",
       "mean     40.103093    2372.981818           48.991826            8.204956   \n",
       "std      80.019814     883.626277           13.279949            2.663341   \n",
       "min       1.000000       1.000000           30.000000            4.740803   \n",
       "25%       6.000000    1877.000000           40.000000            5.000000   \n",
       "50%      17.000000    2588.000000           40.264424            8.000000   \n",
       "75%      38.750000    2981.250000           60.000000           10.000000   \n",
       "max     715.000000    4342.000000          100.000000           14.000000   \n",
       "\n",
       "       vent_settings.compliance  vent_settings.p_peak  vent_settings.set_VT  \\\n",
       "count                219.000000            220.000000            149.000000   \n",
       "mean                  57.883177             22.569091            434.427545   \n",
       "std                   37.034599              5.828959             84.223567   \n",
       "min                   15.133578             11.000000            270.000000   \n",
       "25%                   35.227736             17.868066            410.000000   \n",
       "50%                   44.784998             23.686273            470.000000   \n",
       "75%                   69.177575             27.100124            480.000000   \n",
       "max                  181.382775             32.610453            630.000000   \n",
       "\n",
       "       NMB    NMB_sum     ds_freq      ...        NMB_lag18   ds_lag_24  \\\n",
       "count   24  56.000000  194.000000      ...        46.000000  120.000000   \n",
       "mean     1  10.678571    0.017295      ...        10.608696    0.028205   \n",
       "std      0   5.815675    0.030374      ...         6.133617    0.043205   \n",
       "min      1   1.000000    0.000297      ...         1.000000    0.000297   \n",
       "25%      1   5.750000    0.002406      ...         5.250000    0.001838   \n",
       "50%      1  11.500000    0.006836      ...        10.500000    0.009535   \n",
       "75%      1  17.250000    0.017511      ...        18.000000    0.031594   \n",
       "max      1  18.000000    0.227635      ...        18.000000    0.203567   \n",
       "\n",
       "       FiO2_diff_lag_24  PEEP_diff_lag_24  p_peak_diff_lag_24  \\\n",
       "count         98.000000         78.000000          150.000000   \n",
       "mean          -6.565199         -0.226422           -0.991135   \n",
       "std           16.845914          3.031645            5.389410   \n",
       "min          -60.000000         -6.000000          -18.268650   \n",
       "25%          -12.763389         -3.000000           -4.437085   \n",
       "50%          -10.000000          0.198149           -0.458327   \n",
       "75%           10.000000          2.000000            2.198401   \n",
       "max           50.000000          5.000000           13.046730   \n",
       "\n",
       "       set_VT_diff_lag_24  NMB_lag24  ds_lag_12_bin  ds_lag_18_bin  \\\n",
       "count           23.000000  46.000000     164.000000            220   \n",
       "mean            -0.381648  10.239130       0.182927              0   \n",
       "std             97.992898   5.696723       0.387791              0   \n",
       "min           -110.227801   1.000000       0.000000              0   \n",
       "25%            -70.000000   5.000000       0.000000              0   \n",
       "50%            -50.000000  10.000000       0.000000              0   \n",
       "75%             70.000000  17.250000       0.000000              0   \n",
       "max            160.000000  18.000000       1.000000              0   \n",
       "\n",
       "       ds_lag_24_bin  \n",
       "count      120.00000  \n",
       "mean         0.17500  \n",
       "std          0.38156  \n",
       "min          0.00000  \n",
       "25%          0.00000  \n",
       "50%          0.00000  \n",
       "75%          0.00000  \n",
       "max          1.00000  \n",
       "\n",
       "[8 rows x 31 columns]"
      ]
     },
     "execution_count": 55,
     "metadata": {},
     "output_type": "execute_result"
    }
   ],
   "source": [
    "resampled_df[resampled_df['ds_lag_18'] <= 0.05].describe()"
   ]
  },
  {
   "cell_type": "code",
   "execution_count": 56,
   "metadata": {
    "collapsed": false
   },
   "outputs": [],
   "source": [
    "def bin_samples(x):\n",
    "    if x <=0.05: return 0\n",
    "    elif x==np.nan: return np.nan\n",
    "    elif x>0.05: return 1\n",
    "\n",
    "for times in ['12', '18', '24']:\n",
    "    resampled_df['ds_lag_'+times+'_bin'] = resampled_df['ds_lag_'+times].apply(bin_samples)"
   ]
  },
  {
   "cell_type": "code",
   "execution_count": 57,
   "metadata": {
    "collapsed": true
   },
   "outputs": [],
   "source": [
    "resampled_df.to_csv('c:\\Research_data\\lagged_analysis_2.csv')"
   ]
  },
  {
   "cell_type": "code",
   "execution_count": 22,
   "metadata": {
    "collapsed": false
   },
   "outputs": [],
   "source": [
    "import sklearn.preprocessing as skl"
   ]
  },
  {
   "cell_type": "code",
   "execution_count": 270,
   "metadata": {
    "collapsed": false
   },
   "outputs": [
    {
     "data": {
      "text/plain": [
       "array([ 0.        ,  0.09174698,  0.25689155,  0.4770843 ,  0.73397584,\n",
       "        0.99086739,  0.69727705,  0.42203611,  0.18349396])"
      ]
     },
     "execution_count": 270,
     "metadata": {},
     "output_type": "execute_result"
    }
   ],
   "source": [
    "x = np.array([[1.,2.,3.,4.,5.]])\n",
    "y = np.array([[1.,2.,3.,4.,5.]])\n",
    "\n",
    "#xn = skl.normalize(x, 'l2')\n",
    "#yn = skl.normalize(y, 'l2')\n",
    "\n",
    "np.correlate(xn[0],yn[0], 'full')"
   ]
  },
  {
   "cell_type": "code",
   "execution_count": 246,
   "metadata": {
    "collapsed": false
   },
   "outputs": [
    {
     "data": {
      "text/plain": [
       "array([[ 1.,  1.],\n",
       "       [ 1.,  1.]])"
      ]
     },
     "execution_count": 246,
     "metadata": {},
     "output_type": "execute_result"
    }
   ],
   "source": [
    "np.corrcoef(x, y)"
   ]
  },
  {
   "cell_type": "code",
   "execution_count": 247,
   "metadata": {
    "collapsed": false
   },
   "outputs": [
    {
     "data": {
      "text/plain": [
       "array([[ 1.,  1.],\n",
       "       [ 1.,  1.]])"
      ]
     },
     "execution_count": 247,
     "metadata": {},
     "output_type": "execute_result"
    }
   ],
   "source": [
    "np.corrcoef(xn,yn)"
   ]
  },
  {
   "cell_type": "code",
   "execution_count": 257,
   "metadata": {
    "collapsed": false
   },
   "outputs": [
    {
     "data": {
      "text/plain": [
       "array([ 0.9649505])"
      ]
     },
     "execution_count": 257,
     "metadata": {},
     "output_type": "execute_result"
    }
   ],
   "source": [
    "x = np.array([[1.,2.,3.,4.,5.]])\n",
    "y = np.array([[6.,7.,8.,9.,10.]])\n",
    "\n",
    "xn = skl.normalize(x, 'l2')\n",
    "yn = skl.normalize(y, 'l2')\n",
    "\n",
    "np.correlate(xn[0],yn[0], 'valid')"
   ]
  },
  {
   "cell_type": "code",
   "execution_count": 249,
   "metadata": {
    "collapsed": false
   },
   "outputs": [
    {
     "data": {
      "text/plain": [
       "array([[ 1.,  1.],\n",
       "       [ 1.,  1.]])"
      ]
     },
     "execution_count": 249,
     "metadata": {},
     "output_type": "execute_result"
    }
   ],
   "source": [
    "np.corrcoef(xn, yn)"
   ]
  },
  {
   "cell_type": "code",
   "execution_count": 258,
   "metadata": {
    "collapsed": false
   },
   "outputs": [
    {
     "data": {
      "text/plain": [
       "array([ 0.8849001])"
      ]
     },
     "execution_count": 258,
     "metadata": {},
     "output_type": "execute_result"
    }
   ],
   "source": [
    "x = np.array([[1.,2.,3.,4.,5.]])\n",
    "y = np.array([[1.,8.,9.,64.,125.]])\n",
    "\n",
    "xn = skl.normalize(x, 'l2')\n",
    "yn = skl.normalize(y, 'l2')\n",
    "\n",
    "np.correlate(xn[0],yn[0], 'valid')"
   ]
  },
  {
   "cell_type": "code",
   "execution_count": 251,
   "metadata": {
    "collapsed": false
   },
   "outputs": [
    {
     "data": {
      "text/plain": [
       "array([[ 1.        ,  0.90445752],\n",
       "       [ 0.90445752,  1.        ]])"
      ]
     },
     "execution_count": 251,
     "metadata": {},
     "output_type": "execute_result"
    }
   ],
   "source": [
    "np.corrcoef(xn, yn)"
   ]
  },
  {
   "cell_type": "code",
   "execution_count": 394,
   "metadata": {
    "collapsed": false
   },
   "outputs": [
    {
     "data": {
      "text/plain": [
       "array([ 0.0246183 ,  0.09847319,  0.24618298,  0.49236596,  0.73854895,\n",
       "        0.83702214])"
      ]
     },
     "execution_count": 394,
     "metadata": {},
     "output_type": "execute_result"
    }
   ],
   "source": [
    "x = np.array([[0.,1.,2.,3.,4.,5.]])\n",
    "y = np.array([[4.,3.,2.,1.,0.,0.]])\n",
    "\n",
    "#xn = skl.normalize(x, 'l2')\n",
    "#yn = skl.normalize(y, 'l2')\n",
    "\n",
    "np.correlate(xn[0],yn[0], 'same')"
   ]
  },
  {
   "cell_type": "code",
   "execution_count": 395,
   "metadata": {
    "collapsed": false
   },
   "outputs": [
    {
     "data": {
      "text/plain": [
       "array([[ 1.        , -0.98198051],\n",
       "       [-0.98198051,  1.        ]])"
      ]
     },
     "execution_count": 395,
     "metadata": {},
     "output_type": "execute_result"
    }
   ],
   "source": [
    "np.corrcoef(x, y)"
   ]
  },
  {
   "cell_type": "code",
   "execution_count": 292,
   "metadata": {
    "collapsed": false
   },
   "outputs": [
    {
     "data": {
      "text/plain": [
       "array([[ 0.26726124,  0.53452248,  0.80178373,  0.        ]])"
      ]
     },
     "execution_count": 292,
     "metadata": {},
     "output_type": "execute_result"
    }
   ],
   "source": [
    "skl.normalize(np.nan_to_num(np.array([[1,2,3,np.nan]])))"
   ]
  },
  {
   "cell_type": "code",
   "execution_count": 291,
   "metadata": {
    "collapsed": false
   },
   "outputs": [
    {
     "data": {
      "text/plain": [
       "dtype('int64')"
      ]
     },
     "execution_count": 291,
     "metadata": {},
     "output_type": "execute_result"
    }
   ],
   "source": [
    "np.dtype(np.int64)"
   ]
  },
  {
   "cell_type": "code",
   "execution_count": 400,
   "metadata": {
    "collapsed": false
   },
   "outputs": [
    {
     "data": {
      "text/plain": [
       "['LabData_collection',\n",
       " 'RTData_collection',\n",
       " 'PatientData_collection',\n",
       " 'VentSettings_collection',\n",
       " 'LogData_collection',\n",
       " 'TestData_collection',\n",
       " 'ValidatedData_collection',\n",
       " 'BreathData_collection',\n",
       " 'RNData_collection']"
      ]
     },
     "execution_count": 400,
     "metadata": {},
     "output_type": "execute_result"
    }
   ],
   "source": [
    "db.collection_names()"
   ]
  },
  {
   "cell_type": "code",
   "execution_count": null,
   "metadata": {
    "collapsed": true
   },
   "outputs": [],
   "source": []
  }
 ],
 "metadata": {
  "kernelspec": {
   "display_name": "Python 3",
   "language": "python",
   "name": "python3"
  },
  "language_info": {
   "codemirror_mode": {
    "name": "ipython",
    "version": 3
   },
   "file_extension": ".py",
   "mimetype": "text/x-python",
   "name": "python",
   "nbconvert_exporter": "python",
   "pygments_lexer": "ipython3",
   "version": "3.5.1"
  }
 },
 "nbformat": 4,
 "nbformat_minor": 0
}
