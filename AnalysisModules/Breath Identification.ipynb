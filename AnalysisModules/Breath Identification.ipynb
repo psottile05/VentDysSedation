{
 "cells": [
  {
   "cell_type": "code",
   "execution_count": 1,
   "metadata": {
    "collapsed": false
   },
   "outputs": [
    {
     "data": {
      "text/html": [
       "\n",
       "    <div class=\"bk-banner\">\n",
       "        <a href=\"http://bokeh.pydata.org\" target=\"_blank\" class=\"bk-logo bk-logo-small bk-logo-notebook\"></a>\n",
       "        <span id=\"29f128b7-8f60-4eb2-a1f2-ffd24b543040\">Loading BokehJS ...</span>\n",
       "    </div>"
      ]
     },
     "metadata": {},
     "output_type": "display_data"
    },
    {
     "data": {
      "application/javascript": [
       "\n",
       "(function(global) {\n",
       "  function now() {\n",
       "    return new Date();\n",
       "  }\n",
       "\n",
       "  if (typeof (window._bokeh_onload_callbacks) === \"undefined\") {\n",
       "    window._bokeh_onload_callbacks = [];\n",
       "  }\n",
       "\n",
       "  function run_callbacks() {\n",
       "    window._bokeh_onload_callbacks.forEach(function(callback) { callback() });\n",
       "    delete window._bokeh_onload_callbacks\n",
       "    console.info(\"Bokeh: all callbacks have finished\");\n",
       "  }\n",
       "\n",
       "  function load_libs(js_urls, callback) {\n",
       "    window._bokeh_onload_callbacks.push(callback);\n",
       "    if (window._bokeh_is_loading > 0) {\n",
       "      console.log(\"Bokeh: BokehJS is being loaded, scheduling callback at\", now());\n",
       "      return null;\n",
       "    }\n",
       "    if (js_urls == null || js_urls.length === 0) {\n",
       "      run_callbacks();\n",
       "      return null;\n",
       "    }\n",
       "    console.log(\"Bokeh: BokehJS not loaded, scheduling load and callback at\", now());\n",
       "    window._bokeh_is_loading = js_urls.length;\n",
       "    for (var i = 0; i < js_urls.length; i++) {\n",
       "      var url = js_urls[i];\n",
       "      var s = document.createElement('script');\n",
       "      s.src = url;\n",
       "      s.async = false;\n",
       "      s.onreadystatechange = s.onload = function() {\n",
       "        window._bokeh_is_loading--;\n",
       "        if (window._bokeh_is_loading === 0) {\n",
       "          console.log(\"Bokeh: all BokehJS libraries loaded\");\n",
       "          run_callbacks()\n",
       "        }\n",
       "      };\n",
       "      s.onerror = function() {\n",
       "        console.warn(\"failed to load library \" + url);\n",
       "      };\n",
       "      console.log(\"Bokeh: injecting script tag for BokehJS library: \", url);\n",
       "      document.getElementsByTagName(\"head\")[0].appendChild(s);\n",
       "    }\n",
       "  };\n",
       "\n",
       "  var js_urls = ['https://cdn.pydata.org/bokeh/release/bokeh-0.11.1.min.js', 'https://cdn.pydata.org/bokeh/release/bokeh-widgets-0.11.1.min.js', 'https://cdn.pydata.org/bokeh/release/bokeh-compiler-0.11.1.min.js'];\n",
       "\n",
       "  var inline_js = [\n",
       "    function(Bokeh) {\n",
       "      Bokeh.set_log_level(\"info\");\n",
       "    },\n",
       "    \n",
       "    function(Bokeh) {\n",
       "      Bokeh.$(\"#29f128b7-8f60-4eb2-a1f2-ffd24b543040\").text(\"BokehJS successfully loaded\");\n",
       "    },\n",
       "    function(Bokeh) {\n",
       "      console.log(\"Bokeh: injecting CSS: https://cdn.pydata.org/bokeh/release/bokeh-0.11.1.min.css\");\n",
       "      Bokeh.embed.inject_css(\"https://cdn.pydata.org/bokeh/release/bokeh-0.11.1.min.css\");\n",
       "      console.log(\"Bokeh: injecting CSS: https://cdn.pydata.org/bokeh/release/bokeh-widgets-0.11.1.min.css\");\n",
       "      Bokeh.embed.inject_css(\"https://cdn.pydata.org/bokeh/release/bokeh-widgets-0.11.1.min.css\");\n",
       "    }\n",
       "  ];\n",
       "\n",
       "  function run_inline_js() {\n",
       "    for (var i = 0; i < inline_js.length; i++) {\n",
       "      inline_js[i](window.Bokeh);\n",
       "    }\n",
       "  }\n",
       "\n",
       "  if (window._bokeh_is_loading === 0) {\n",
       "    console.log(\"Bokeh: BokehJS loaded, going straight to plotting\");\n",
       "    run_inline_js();\n",
       "  } else {\n",
       "    load_libs(js_urls, function() {\n",
       "      console.log(\"Bokeh: BokehJS plotting callback run at\", now());\n",
       "      run_inline_js();\n",
       "    });\n",
       "  }\n",
       "}(this));"
      ]
     },
     "metadata": {},
     "output_type": "display_data"
    }
   ],
   "source": [
    "import Visualization as viz\n",
    "from ipywidgets import widgets\n",
    "from IPython.display import display, clear_output\n",
    "from bokeh.plotting import figure, show, output_notebook\n",
    "import pandas as pd\n",
    "\n",
    "output_notebook()"
   ]
  },
  {
   "cell_type": "code",
   "execution_count": 2,
   "metadata": {
    "collapsed": false
   },
   "outputs": [
    {
     "data": {
      "text/plain": [
       "10024"
      ]
     },
     "execution_count": 2,
     "metadata": {},
     "output_type": "execute_result"
    }
   ],
   "source": [
    "from pymongo import MongoClient\n",
    "\n",
    "client = MongoClient()\n",
    "db = client.VentDB\n",
    "breath_db = db.breath_collection\n",
    "train_db = db.train_collection\n",
    "\n",
    "train_db.find().count()"
   ]
  },
  {
   "cell_type": "code",
   "execution_count": 3,
   "metadata": {
    "collapsed": false
   },
   "outputs": [
    {
     "data": {
      "text/plain": [
       "1964338"
      ]
     },
     "execution_count": 3,
     "metadata": {},
     "output_type": "execute_result"
    }
   ],
   "source": [
    "breath_db.find().count()"
   ]
  },
  {
   "cell_type": "code",
   "execution_count": 4,
   "metadata": {
    "collapsed": true
   },
   "outputs": [],
   "source": [
    "def on_button_click(b):\n",
    "    global breaths\n",
    "\n",
    "    clear_output()\n",
    "    if results.alive:\n",
    "        if breaths != 1:\n",
    "            viz.update_database(breaths['_id'], w.selected_labels)\n",
    "\n",
    "        breaths = results.next()\n",
    "        df, breath_start, breath_end = viz.breath_viz(breaths['_id'])\n",
    "        p=viz.make_plot(df, breath_start, breath_end)\n",
    "        show(p)\n",
    "    else:\n",
    "        if breaths != 1:\n",
    "            viz.update_database(breaths['_id'], w.selected_labels)\n",
    "        clear_output()\n",
    "        print('No more')"
   ]
  },
  {
   "cell_type": "code",
   "execution_count": 5,
   "metadata": {
    "collapsed": false
   },
   "outputs": [
    {
     "data": {
      "text/plain": [
       "1873"
      ]
     },
     "execution_count": 5,
     "metadata": {},
     "output_type": "execute_result"
    }
   ],
   "source": [
    "train_db.find({'validation':{'$exists':1}}).count()"
   ]
  },
  {
   "cell_type": "code",
   "execution_count": 6,
   "metadata": {
    "collapsed": false
   },
   "outputs": [],
   "source": [
    "import pandas as pd\n",
    "val_df = pd.io.json.json_normalize(list(train_db.find({'validation':{'$exists':1}}, {'validation':1})))"
   ]
  },
  {
   "cell_type": "code",
   "execution_count": 7,
   "metadata": {
    "collapsed": false
   },
   "outputs": [],
   "source": [
    "val_df.replace({0:False, 1:True}, inplace=True)\n",
    "val_df = val_df[['validation.ds', 'validation.fa', 'validation.garb',\n",
    "       'validation.ie', 'validation.norm', 'validation.pds', 'validation.pfl',\n",
    "       'validation.pvt']].astype(bool)"
   ]
  },
  {
   "cell_type": "code",
   "execution_count": 8,
   "metadata": {
    "collapsed": false,
    "scrolled": true
   },
   "outputs": [
    {
     "data": {
      "text/plain": [
       "False    1721\n",
       "True      152\n",
       "Name: validation.ds, dtype: int64"
      ]
     },
     "execution_count": 8,
     "metadata": {},
     "output_type": "execute_result"
    }
   ],
   "source": [
    "val_df['validation.ds'].value_counts()"
   ]
  },
  {
   "cell_type": "code",
   "execution_count": 9,
   "metadata": {
    "collapsed": false
   },
   "outputs": [
    {
     "data": {
      "text/plain": [
       "False    1849\n",
       "True       24\n",
       "Name: validation.pds, dtype: int64"
      ]
     },
     "execution_count": 9,
     "metadata": {},
     "output_type": "execute_result"
    }
   ],
   "source": [
    "val_df['validation.pds'].value_counts()"
   ]
  },
  {
   "cell_type": "code",
   "execution_count": 10,
   "metadata": {
    "collapsed": false
   },
   "outputs": [
    {
     "data": {
      "text/plain": [
       "False    1403\n",
       "True      470\n",
       "Name: validation.pfl, dtype: int64"
      ]
     },
     "execution_count": 10,
     "metadata": {},
     "output_type": "execute_result"
    }
   ],
   "source": [
    "val_df['validation.pfl'].value_counts()"
   ]
  },
  {
   "cell_type": "code",
   "execution_count": 11,
   "metadata": {
    "collapsed": false
   },
   "outputs": [
    {
     "data": {
      "text/plain": [
       "False    1775\n",
       "True       98\n",
       "Name: validation.pvt, dtype: int64"
      ]
     },
     "execution_count": 11,
     "metadata": {},
     "output_type": "execute_result"
    }
   ],
   "source": [
    "val_df['validation.pvt'].value_counts()"
   ]
  },
  {
   "cell_type": "code",
   "execution_count": 12,
   "metadata": {
    "collapsed": false
   },
   "outputs": [
    {
     "data": {
      "text/plain": [
       "False    1549\n",
       "True      324\n",
       "Name: validation.ie, dtype: int64"
      ]
     },
     "execution_count": 12,
     "metadata": {},
     "output_type": "execute_result"
    }
   ],
   "source": [
    "val_df['validation.ie'].value_counts()"
   ]
  },
  {
   "cell_type": "code",
   "execution_count": 13,
   "metadata": {
    "collapsed": false
   },
   "outputs": [
    {
     "data": {
      "text/plain": [
       "False    989\n",
       "True     884\n",
       "Name: validation.norm, dtype: int64"
      ]
     },
     "execution_count": 13,
     "metadata": {},
     "output_type": "execute_result"
    }
   ],
   "source": [
    "val_df['validation.norm'].value_counts()"
   ]
  },
  {
   "cell_type": "code",
   "execution_count": 14,
   "metadata": {
    "collapsed": false,
    "scrolled": false
   },
   "outputs": [
    {
     "name": "stdout",
     "output_type": "stream",
     "text": [
      "breath error: list index out of range 119/8350/2015-03-08 07:54:09/40374982\n",
      "[{'_id': '119/8350/2015-03-08 07:54:09/40374982', 'file': '/media/veracrypt1/Research_Data/VentDysSedation/RawData/P119/hm_Waveform 15-03-07-20-41.txt', 'breath_num': 8350, 'breath_raw': {'dV/dT': [-375.0, 10.0, 15.0, 17.5, 35.0, 25.0, 47.5, 40.0, 30.0, 52.5, 17.5, 30.0, 10.0, 7.5, -25.0, -15.0, -32.5, -17.5, -30.0, -37.5, -22.5, -40.0, -20.0, -40.0, -27.5, -17.5, -37.5, -27.5, -27.5, -17.5, -27.5, -32.5, -27.5, -22.5, -15.0, -17.5, -17.5, -5.0, -5.0, 0.0], 'dP/dV': [0.007733333333333332, -0.25, 0.026666666666666675, 0.06857142857142856, 0.04857142857142858, 0.028000000000000008, 0.023157894736842096, 0.017500000000000005, 0.03999999999999997, 0.04952380952380955, 0.07428571428571422, 0.11666666666666667, 0.19000000000000003, 0.1599999999999999, 0.2, -0.02000000000000005, -0.009230769230769252, 0.01142857142857149, 0.03999999999999997, 0.021333333333333353, -0.0, 0.019999999999999973, 0.020000000000000018, 0.007500000000000018, -0.0, -0.022857142857142878, 0.002666666666666657, -0.0, 0.007272727272727312, 0.011428571428571389, 0.0036363636363636234, -0.003076923076923066, 0.0036363636363636234, 0.03111111111111116, 0.019999999999999928, 0.02857142857142857, 0.02857142857142857, 0.060000000000000143, 0.15999999999999998, -inf], 'dP/dT': [-2.8999999999999995, -2.5, 0.40000000000000013, 1.1999999999999997, 1.7000000000000002, 0.7000000000000002, 1.0999999999999996, 0.7000000000000002, 1.1999999999999993, 2.6000000000000014, 1.299999999999999, 3.5, 1.9000000000000004, 1.1999999999999993, -5.0, 0.3000000000000007, 0.3000000000000007, -0.20000000000000107, -1.1999999999999993, -0.8000000000000007, 0.0, -0.7999999999999989, -0.40000000000000036, -0.3000000000000007, 0.0, 0.40000000000000036, -0.09999999999999964, 0.0, -0.20000000000000107, -0.1999999999999993, -0.09999999999999964, 0.09999999999999964, -0.09999999999999964, -0.7000000000000011, -0.29999999999999893, -0.5, -0.5, -0.3000000000000007, -0.7999999999999998, -0.2999999999999998], 'time': [40374982.0, 40375014.0, 40375046.0, 40375078.0, 40375110.0, 40375142.0, 40375174.0, 40375206.0, 40375238.0, 40375270.0, 40375302.0, 40375334.0, 40375366.0, 40375398.0, 40375430.0, 40375462.0, 40375494.0, 40375526.0, 40375558.0, 40375590.0, 40375622.0, 40375654.0, 40375686.0, 40375718.0, 40375750.0, 40375782.0, 40375814.0, 40375846.0, 40375878.0, 40375910.0, 40375942.0, 40375974.0, 40376006.0, 40376038.0, 40376070.0, 40376102.0, 40376134.0, 40376166.0, 40376198.0, 40376230.0], 'breath': [8350.0, 8350.0, 8350.0, 8350.0, 8350.0, 8350.0, 8350.0, 8350.0, 8350.0, 8350.0, 8350.0, 8350.0, 8350.0, 8350.0, 8350.0, 8350.0, 8350.0, 8350.0, 8350.0, 8350.0, 8350.0, 8350.0, 8350.0, 8350.0, 8350.0, 8350.0, 8350.0, 8350.0, 8350.0, 8350.0, 8350.0, 8350.0, 8350.0, 8350.0, 8350.0, 8350.0, 8350.0, 8350.0, 8350.0, 8350.0], 'sm_dV/dTT': [nan, nan, 60.83333333333334, 93.9285714285715, -28.33333333333333, 7.857142857142847, 1.1904761904761898, 4.523809523809547, -1.0714285714285836, -4.88095238095238, -5.0, -4.642857142857167, -16.547619047619037, -7.619047619047649, -16.666666666666686, -6.071428571428498, -4.166666666666799, -1.54761904761898, -1.6666666666666856, -2.380952380952351, -0.5952380952381304, 0.23809523809526922, -0.3571428571428612, 2.023809523809504, 2.0238095238095326, -2.142857142857139, 1.7857142857142847, 0.2380952380952408, 0.9523809523809561, 2.619047619047592, -2.619047619047592, -1.6666666666666856, 0.5952380952381304, 5.119047619047592, 3.214285714285751, 3.3333333333333144, 2.976190476190453, -21.190476190476204, 67.26190476190487, 41.428571428571445], 'dF/dP': [-7.448275862068966, 3.0, 44.624999999999986, 6.500000000000002, 6.794117647058821, 5.142857142857143, 7.090909090909091, 1.5000000000000058, -0.3750000000000026, -0.923076923076922, -3.4615384615384643, -4.671428571428572, -5.921052631578946, -19.12500000000001, 10.440000000000001, 11.999999999999977, -21.499999999999957, 5.999999999999947, 4.875000000000004, 3.3750000000000004, -inf, -1.3124999999999982, -9.374999999999991, -0.49999999999999406, inf, -20.624999999999982, -60.00000000000021, -inf, -15.749999999999945, -5.250000000000004, 49.500000000000206, 46.50000000000022, -15.000000000000053, -6.8571428571428426, -14.000000000000059, -16.5, -22.799999999999997, -20.499999999999947, -16.125000000000004, -22.00000000000001], 'flow': [18.45, 10.95, 28.8, 36.6, 48.15, 51.75, 59.55, 60.6, 60.15, 57.75, 53.25, 36.9, 25.65, 2.7, -49.5, -45.9, -52.35, -53.55, -59.4, -62.1, -63.3, -62.25, -58.5, -58.35, -51.6, -59.85, -53.85, -55.2, -52.05, -51.0, -55.95, -51.3, -49.8, -45.0, -40.8, -32.55, -21.15, -15.0, -2.1, 4.5], 'sm_dP/dT': [nan, -1.5809523809523816, -0.3523809523809529, 0.914285714285715, 1.4952380952380966, 1.1523809523809536, 0.8190476190476188, 1.0761904761904777, 1.2857142857142865, 1.8952380952380974, 2.43809523809524, 2.9857142857142893, 1.171428571428569, -0.0952380952380949, -1.2380952380952372, -1.1666666666666679, -0.7952380952380924, 0.08095238095237889, -0.5952380952380967, -0.7428571428571438, -0.6380952380952394, -0.4238095238095241, -0.40952380952380985, -0.261904761904761, 0.033333333333333215, 0.11904761904761862, 0.09999999999999964, -0.047619047619045674, -0.20000000000000284, -0.11904761904761685, -0.03809523809523796, -0.10476190476190617, -0.19523809523809454, -0.34761904761904994, -0.5095238095238077, -0.45238095238095255, -0.45714285714285907, -0.4904761904761914, -0.5142857142857133, -0.4714285714285733], 'paw': [3.7, 1.2, 1.6, 2.8, 4.5, 5.2, 6.3, 7.0, 8.2, 10.8, 12.1, 15.6, 17.5, 18.7, 13.7, 14.0, 14.3, 14.1, 12.9, 12.1, 12.1, 11.3, 10.9, 10.6, 10.6, 11.0, 10.9, 10.9, 10.7, 10.5, 10.4, 10.5, 10.4, 9.7, 9.4, 8.9, 8.4, 8.1, 7.3, 7.0], 'sm_dP/dTT': [nan, nan, 1.2285714285714286, 1.266666666666668, 0.5809523809523816, -0.34285714285714297, -0.3333333333333348, 0.2571428571428589, 0.20952380952380878, 0.6095238095238109, 0.5428571428571427, 0.5476190476190492, -1.8142857142857203, -1.266666666666664, -1.1428571428571423, 0.0714285714285694, 0.37142857142857544, 0.8761904761904713, -0.6761904761904756, -0.1476190476190471, 0.10476190476190439, 0.2142857142857153, 0.014285714285714235, 0.14761904761904887, 0.2952380952380942, 0.08571428571428541, -0.01904761904761898, -0.14761904761904532, -0.15238095238095717, 0.080952380952386, 0.08095238095237889, -0.0666666666666682, -0.09047619047618838, -0.1523809523809554, -0.16190476190475778, 0.057142857142855163, -0.004761904761906521, -0.03333333333333233, -0.02380952380952195, 0.04285714285714004], 'dF/dV': [-0.05759999999999999, -0.75, 1.1900000000000002, 0.44571428571428573, 0.3299999999999999, 0.14400000000000004, 0.16421052631578942, 0.026250000000000107, -0.015000000000000095, -0.045714285714285686, -0.2571428571428571, -0.545, -1.125, -3.06, 2.088, -0.2400000000000001, 0.19846153846153855, 0.06857142857142833, 0.19500000000000003, 0.07200000000000008, 0.05333333333333314, -0.02624999999999993, -0.1875, -0.0037499999999999643, -0.24545454545454545, 0.4714285714285714, -0.16, 0.04909090909090914, -0.11454545454545476, -0.05999999999999984, 0.1800000000000001, -0.14307692307692324, -0.05454545454545454, -0.2133333333333332, -0.2800000000000002, -0.4714285714285714, -0.6514285714285714, -1.2299999999999998, -2.58, inf], 'sm_dV/dT': [nan, -98.452380952381, -37.61904761904766, 56.30952380952384, 27.97619047619051, 35.83333333333336, 37.02380952380955, 41.547619047619094, 40.47619047619051, 35.59523809523813, 30.59523809523813, 25.952380952380963, 9.404761904761926, 1.7857142857142776, -14.880952380952408, -20.952380952380906, -25.119047619047706, -26.666666666666686, -28.33333333333337, -30.714285714285722, -31.309523809523853, -31.071428571428584, -31.428571428571445, -29.40476190476194, -27.380952380952408, -29.523809523809547, -27.738095238095262, -27.50000000000002, -26.547619047619065, -23.928571428571473, -26.547619047619065, -28.21428571428575, -27.61904761904762, -22.50000000000003, -19.285714285714278, -15.952380952380963, -12.97619047619051, -34.166666666666714, 33.09523809523816, 74.5238095238096], 'sm_vol': [132.5000000000001, 34.04761904761911, -3.5714285714285516, 52.73809523809528, 80.7142857142858, 116.54761904761915, 153.5714285714287, 195.1190476190478, 235.5952380952383, 271.19047619047643, 301.78571428571456, 327.7380952380955, 337.14285714285745, 338.92857142857173, 324.0476190476193, 303.0952380952384, 277.9761904761907, 251.30952380952402, 222.97619047619065, 192.26190476190493, 160.95238095238108, 129.8809523809525, 98.45238095238105, 69.04761904761911, 41.6666666666667, 12.142857142857155, -15.595238095238107, -43.09523809523813, -69.6428571428572, -93.57142857142867, -120.11904761904773, -148.33333333333348, -175.9523809523811, -198.45238095238113, -217.7380952380954, -233.69047619047637, -246.66666666666688, -280.8333333333336, -247.73809523809544, -173.21428571428584], 'sm_flow': [9.900000000000007, 19.357142857142872, 28.071428571428594, 35.71428571428575, 47.10000000000004, 53.435714285714326, 58.43571428571434, 60.385714285714336, 61.535714285714334, 57.464285714285765, 51.021428571428615, 42.46428571428575, 19.271428571428586, -7.285714285714291, -31.071428571428598, -48.45000000000003, -55.76428571428576, -54.464285714285765, -59.06428571428577, -61.7428571428572, -62.81428571428577, -62.18571428571434, -58.7571428571429, -57.19285714285719, -55.83571428571433, -55.77142857142863, -55.214285714285765, -54.25000000000005, -52.79285714285719, -53.200000000000045, -52.88571428571433, -52.185714285714326, -49.97857142857147, -45.521428571428615, -39.578571428571465, -32.17857142857145, -22.907142857142876, -12.835714285714298, -3.228571428571432, 4.50714285714286], 'status': [2.0, 2.0, 2.0, 2.0, 2.0, 2.0, 2.0, 2.0, 2.0, 2.0, 2.0, 2.0, 2.0, 0.0, 0.0, 0.0, 0.0, 0.0, 0.0, 0.0, 0.0, 0.0, 0.0, 0.0, 0.0, 0.0, 0.0, 0.0, 0.0, 0.0, 0.0, 0.0, 0.0, 0.0, 0.0, 0.0, 0.0, 0.0, 0.0, 0.0], 'vol': [7.5, 17.5, 32.5, 50.0, 85.0, 110.0, 157.5, 197.5, 227.5, 280.0, 297.5, 327.5, 337.5, 345.0, 320.0, 305.0, 272.5, 255.0, 225.0, 187.5, 165.0, 125.0, 105.0, 65.0, 37.5, 20.0, -17.5, -45.0, -72.5, -90.0, -117.5, -150.0, -177.5, -200.0, -215.0, -232.5, -250.0, -255.0, -260.0, -260.0], 'dF/dT': [21.599999999999998, -7.5, 17.85, 7.800000000000001, 11.549999999999997, 3.6000000000000014, 7.799999999999997, 1.0500000000000043, -0.45000000000000284, -2.3999999999999986, -4.5, -16.35, -11.25, -22.95, -52.2, 3.6000000000000014, -6.450000000000003, -1.1999999999999957, -5.850000000000001, -2.700000000000003, -1.1999999999999957, 1.0499999999999972, 3.75, 0.14999999999999858, 6.75, -8.25, 6.0, -1.3500000000000014, 3.1500000000000057, 1.0499999999999972, -4.950000000000003, 4.650000000000006, 1.5, 4.799999999999997, 4.200000000000003, 8.25, 11.399999999999999, 6.149999999999999, 12.9, 6.6], 'sm_dF/dTT': [nan, nan, -0.742857142857142, -1.0714285714285658, 3.7428571428571296, -5.049999999999997, -1.3357142857142748, -3.0500000000000185, -0.7999999999999972, -5.221428571428568, -2.3714285714285808, -2.114285714285714, -14.6357142857143, -3.364285714285714, 2.7714285714285722, 6.407142857142873, 10.064285714285703, 8.614285714285728, -5.899999999999999, 1.9214285714285708, 1.6071428571428612, 1.6999999999999957, 2.8000000000000114, -1.864285714285728, -0.2071428571428484, -1.2928571428571587, 0.49285714285716153, 0.40714285714285126, 0.4928571428571473, -1.864285714285721, 0.7214285714285751, 0.3857142857142861, 1.5071428571428527, 2.25, 1.4857142857142946, 1.4571428571428626, 1.871428571428563, 0.8000000000000025, -0.4642857142857135, -1.8714285714285728], 'sm_dF/dT': [nan, 9.457142857142864, 8.714285714285722, 7.642857142857157, 11.385714285714286, 6.335714285714289, 5.000000000000014, 1.9499999999999957, 1.1499999999999986, -4.071428571428569, -6.44285714285715, -8.557142857142864, -23.192857142857164, -26.55714285714288, -23.785714285714306, -17.378571428571433, -7.314285714285731, 1.2999999999999972, -4.600000000000001, -2.6785714285714306, -1.0714285714285694, 0.6285714285714263, 3.4285714285714377, 1.5642857142857096, 1.3571428571428612, 0.06428571428570251, 0.557142857142864, 0.9642857142857153, 1.4571428571428626, -0.40714285714285836, 0.3142857142857167, 0.7000000000000028, 2.2071428571428555, 4.4571428571428555, 5.94285714285715, 7.400000000000013, 9.271428571428576, 10.071428571428578, 9.607142857142865, 7.735714285714292], 'sm_paw': [3.65714285714286, 2.0761904761904786, 1.7238095238095257, 2.6380952380952407, 4.133333333333337, 5.285714285714291, 6.10476190476191, 7.180952380952387, 8.466666666666674, 10.361904761904771, 12.800000000000011, 15.7857142857143, 16.95714285714287, 16.861904761904775, 15.623809523809538, 14.45714285714287, 13.661904761904777, 13.742857142857156, 13.14761904761906, 12.404761904761916, 11.766666666666676, 11.342857142857152, 10.933333333333342, 10.671428571428581, 10.704761904761915, 10.823809523809533, 10.923809523809533, 10.876190476190487, 10.676190476190484, 10.557142857142868, 10.51904761904763, 10.414285714285723, 10.219047619047629, 9.871428571428579, 9.361904761904771, 8.909523809523819, 8.45238095238096, 7.961904761904768, 7.447619047619055, 6.976190476190482]}}]\n"
     ]
    },
    {
     "data": {
      "text/html": [
       "\n",
       "\n",
       "    <div class=\"plotdiv\" id=\"8bd9bbd7-debd-4cbd-b7b4-a5632a6a3750\"></div>\n",
       "<script type=\"text/javascript\">\n",
       "  \n",
       "  (function(global) {\n",
       "    function now() {\n",
       "      return new Date();\n",
       "    }\n",
       "  \n",
       "    if (typeof (window._bokeh_onload_callbacks) === \"undefined\") {\n",
       "      window._bokeh_onload_callbacks = [];\n",
       "    }\n",
       "  \n",
       "    function run_callbacks() {\n",
       "      window._bokeh_onload_callbacks.forEach(function(callback) { callback() });\n",
       "      delete window._bokeh_onload_callbacks\n",
       "      console.info(\"Bokeh: all callbacks have finished\");\n",
       "    }\n",
       "  \n",
       "    function load_libs(js_urls, callback) {\n",
       "      window._bokeh_onload_callbacks.push(callback);\n",
       "      if (window._bokeh_is_loading > 0) {\n",
       "        console.log(\"Bokeh: BokehJS is being loaded, scheduling callback at\", now());\n",
       "        return null;\n",
       "      }\n",
       "      if (js_urls == null || js_urls.length === 0) {\n",
       "        run_callbacks();\n",
       "        return null;\n",
       "      }\n",
       "      console.log(\"Bokeh: BokehJS not loaded, scheduling load and callback at\", now());\n",
       "      window._bokeh_is_loading = js_urls.length;\n",
       "      for (var i = 0; i < js_urls.length; i++) {\n",
       "        var url = js_urls[i];\n",
       "        var s = document.createElement('script');\n",
       "        s.src = url;\n",
       "        s.async = false;\n",
       "        s.onreadystatechange = s.onload = function() {\n",
       "          window._bokeh_is_loading--;\n",
       "          if (window._bokeh_is_loading === 0) {\n",
       "            console.log(\"Bokeh: all BokehJS libraries loaded\");\n",
       "            run_callbacks()\n",
       "          }\n",
       "        };\n",
       "        s.onerror = function() {\n",
       "          console.warn(\"failed to load library \" + url);\n",
       "        };\n",
       "        console.log(\"Bokeh: injecting script tag for BokehJS library: \", url);\n",
       "        document.getElementsByTagName(\"head\")[0].appendChild(s);\n",
       "      }\n",
       "    };var element = document.getElementById(\"8bd9bbd7-debd-4cbd-b7b4-a5632a6a3750\");\n",
       "    if (element == null) {\n",
       "      console.log(\"Bokeh: ERROR: autoload.js configured with elementid '8bd9bbd7-debd-4cbd-b7b4-a5632a6a3750' but no matching script tag was found. \")\n",
       "      return false;\n",
       "    }\n",
       "  \n",
       "    var js_urls = [];\n",
       "  \n",
       "    var inline_js = [\n",
       "      function(Bokeh) {\n",
       "        Bokeh.$(function() {\n",
       "            var docs_json = {\"5fb42a63-12ea-40bd-90b2-3ef08c492b8a\":{\"roots\":{\"references\":[{\"attributes\":{\"plot\":{\"id\":\"d9b06a52-0d14-4961-a0e8-29301fd5fb27\",\"subtype\":\"Figure\",\"type\":\"Plot\"}},\"id\":\"678285d6-a809-410f-ac61-23284d783002\",\"type\":\"WheelZoomTool\"},{\"attributes\":{},\"id\":\"a0593403-c1e7-4661-a8c6-d6da13d6894f\",\"type\":\"BasicTicker\"},{\"attributes\":{\"data_source\":{\"id\":\"7a622558-91fe-446a-b946-345e63fea630\",\"type\":\"ColumnDataSource\"},\"glyph\":{\"id\":\"ff5520d4-ddb8-4188-8558-2190c8aea29a\",\"type\":\"Line\"},\"hover_glyph\":null,\"name\":\"Volume\",\"nonselection_glyph\":{\"id\":\"e59a4e01-0be0-453e-9720-5776a1a223ea\",\"type\":\"Line\"},\"selection_glyph\":null},\"id\":\"3e38574a-b6fa-47f8-afdf-7679347ca07d\",\"type\":\"GlyphRenderer\"},{\"attributes\":{\"line_alpha\":{\"value\":0.1},\"line_color\":{\"value\":\"#1f77b4\"},\"x\":{\"field\":\"x\"},\"y\":{\"field\":\"y\"}},\"id\":\"96c88042-cf00-4764-9ae8-9bba9d49dd14\",\"type\":\"Line\"},{\"attributes\":{\"plot\":{\"id\":\"1bd29237-3d34-4ecf-94bc-61dfdc7efb89\",\"subtype\":\"Figure\",\"type\":\"Plot\"}},\"id\":\"18e71d07-ae9a-425d-9bff-1fc8b544ad34\",\"type\":\"WheelZoomTool\"},{\"attributes\":{\"line_alpha\":{\"value\":0.1},\"line_color\":{\"value\":\"#1f77b4\"},\"x\":{\"field\":\"x\"},\"y\":{\"field\":\"y\"}},\"id\":\"e374db7a-4400-451b-8850-6dc389470452\",\"type\":\"Line\"},{\"attributes\":{\"line_alpha\":{\"value\":0.1},\"line_color\":{\"value\":\"#1f77b4\"},\"x\":{\"field\":\"x\"},\"y\":{\"field\":\"y\"}},\"id\":\"72c90141-9c83-4a83-b240-841fc7c4e023\",\"type\":\"Line\"},{\"attributes\":{\"overlay\":{\"id\":\"dcc00f12-4ad3-4d02-9739-350952328660\",\"type\":\"BoxAnnotation\"},\"plot\":{\"id\":\"d9b06a52-0d14-4961-a0e8-29301fd5fb27\",\"subtype\":\"Figure\",\"type\":\"Plot\"}},\"id\":\"2df87b13-6b2c-4307-ade1-ac9b7701dbb9\",\"type\":\"BoxZoomTool\"},{\"attributes\":{\"plot\":{\"id\":\"1bd29237-3d34-4ecf-94bc-61dfdc7efb89\",\"subtype\":\"Figure\",\"type\":\"Plot\"}},\"id\":\"0ca8b1c1-7b81-4811-95fb-da88cdc6c105\",\"type\":\"PreviewSaveTool\"},{\"attributes\":{\"callback\":null,\"column_names\":[\"x\",\"y\"],\"data\":{\"x\":[],\"y\":[]}},\"id\":\"ea9bbc28-0aef-4d33-a8fa-dfd274c0cdef\",\"type\":\"ColumnDataSource\"},{\"attributes\":{\"callback\":null,\"column_names\":[\"x\",\"y\"],\"data\":{\"x\":[0,0],\"y\":[-40,40]}},\"id\":\"1e4996b0-f0e4-4cbf-969e-f405e047a5b5\",\"type\":\"ColumnDataSource\"},{\"attributes\":{\"callback\":null},\"id\":\"e6c32ade-1649-4322-a3ea-0763c2455fad\",\"type\":\"DataRange1d\"},{\"attributes\":{\"data_source\":{\"id\":\"2228ac2f-efe8-4da5-a864-e2225c35748e\",\"type\":\"ColumnDataSource\"},\"glyph\":{\"id\":\"ae462b08-b8d9-4b32-b8c3-b31b6b0981a8\",\"type\":\"Line\"},\"hover_glyph\":null,\"nonselection_glyph\":{\"id\":\"3106a9d0-fa8e-4f44-9227-82be440c3346\",\"type\":\"Line\"},\"selection_glyph\":null},\"id\":\"5466c464-a2c7-4421-950b-01cec564459c\",\"type\":\"GlyphRenderer\"},{\"attributes\":{\"line_color\":{\"value\":\"green\"},\"x\":{\"field\":\"x\"},\"y\":{\"field\":\"y\"}},\"id\":\"44564936-7e83-4457-a471-cf2e9287bc2e\",\"type\":\"Line\"},{\"attributes\":{\"plot\":{\"id\":\"d9b06a52-0d14-4961-a0e8-29301fd5fb27\",\"subtype\":\"Figure\",\"type\":\"Plot\"}},\"id\":\"13b0c3a5-8b14-4156-98c0-bb61f1407f72\",\"type\":\"PanTool\"},{\"attributes\":{\"data_source\":{\"id\":\"ea9bbc28-0aef-4d33-a8fa-dfd274c0cdef\",\"type\":\"ColumnDataSource\"},\"glyph\":{\"id\":\"dca37da6-7afa-4e8a-a81d-55a70fbca94a\",\"type\":\"Line\"},\"hover_glyph\":null,\"name\":\"Paw\",\"nonselection_glyph\":{\"id\":\"72c90141-9c83-4a83-b240-841fc7c4e023\",\"type\":\"Line\"},\"selection_glyph\":null},\"id\":\"17a8ae32-04fe-4a58-a5a8-231c29714736\",\"type\":\"GlyphRenderer\"},{\"attributes\":{\"callback\":null},\"id\":\"6bfebd51-622d-4938-9a25-8167ccc2ac47\",\"type\":\"DataRange1d\"},{\"attributes\":{\"plot\":{\"id\":\"a6df1f4d-6611-43b4-9253-0c69f8f52cda\",\"subtype\":\"Figure\",\"type\":\"Plot\"},\"ticker\":{\"id\":\"95b89c22-a6ae-46d5-9636-07a10d3d04b3\",\"type\":\"BasicTicker\"}},\"id\":\"651a2a4d-b501-4057-94b4-697d686f8178\",\"type\":\"Grid\"},{\"attributes\":{\"line_color\":{\"value\":\"green\"},\"x\":{\"field\":\"x\"},\"y\":{\"field\":\"y\"}},\"id\":\"4a26707c-a1e0-4735-9ce0-b2c46d8eaa56\",\"type\":\"Line\"},{\"attributes\":{\"data_source\":{\"id\":\"cf0f0fd1-1c48-4e42-a2c1-6c150a81a2d8\",\"type\":\"ColumnDataSource\"},\"glyph\":{\"id\":\"313edc57-b5fb-4254-8eae-5dc2a57375a1\",\"type\":\"Line\"},\"hover_glyph\":null,\"nonselection_glyph\":{\"id\":\"9425f568-9769-4ebc-aebb-c0dff6d56fcb\",\"type\":\"Line\"},\"selection_glyph\":null},\"id\":\"73569e42-6c15-4e03-b606-3e708a84d9fe\",\"type\":\"GlyphRenderer\"},{\"attributes\":{\"formatter\":{\"id\":\"d4492ce6-3e6f-4a0d-9274-ca3ca12d0175\",\"type\":\"BasicTickFormatter\"},\"plot\":{\"id\":\"1bd29237-3d34-4ecf-94bc-61dfdc7efb89\",\"subtype\":\"Figure\",\"type\":\"Plot\"},\"ticker\":{\"id\":\"81bc064f-c6b8-4774-ac2f-2a00e81a4a0f\",\"type\":\"BasicTicker\"}},\"id\":\"620eccb2-0860-49bd-b2ea-bde00dafee98\",\"type\":\"LinearAxis\"},{\"attributes\":{\"formatter\":{\"id\":\"457e3467-2c40-47eb-ae13-fdac0c1a81bb\",\"type\":\"BasicTickFormatter\"},\"plot\":{\"id\":\"d9b06a52-0d14-4961-a0e8-29301fd5fb27\",\"subtype\":\"Figure\",\"type\":\"Plot\"},\"ticker\":{\"id\":\"7203518e-8d3f-44df-8c8b-dbfcf54206e2\",\"type\":\"BasicTicker\"}},\"id\":\"2c04e90b-9fa2-49c4-a31f-eaca8af210fc\",\"type\":\"LinearAxis\"},{\"attributes\":{\"callback\":null},\"id\":\"bebf706f-aa1a-46ac-8c05-c8de6479c1ba\",\"type\":\"DataRange1d\"},{\"attributes\":{\"line_alpha\":{\"value\":0.1},\"line_color\":{\"value\":\"#1f77b4\"},\"x\":{\"field\":\"x\"},\"y\":{\"field\":\"y\"}},\"id\":\"e59a4e01-0be0-453e-9720-5776a1a223ea\",\"type\":\"Line\"},{\"attributes\":{\"bottom_units\":\"screen\",\"fill_alpha\":{\"value\":0.5},\"fill_color\":{\"value\":\"lightgrey\"},\"left_units\":\"screen\",\"level\":\"overlay\",\"line_alpha\":{\"value\":1.0},\"line_color\":{\"value\":\"black\"},\"line_dash\":[4,4],\"line_width\":{\"value\":2},\"plot\":null,\"render_mode\":\"css\",\"right_units\":\"screen\",\"top_units\":\"screen\"},\"id\":\"398221e6-4ddd-45f9-bc5a-9ebadb78d7c1\",\"type\":\"BoxAnnotation\"},{\"attributes\":{},\"id\":\"cae7e233-5bc3-41ec-8c9d-0f9d2c94c93a\",\"type\":\"ToolEvents\"},{\"attributes\":{\"data_source\":{\"id\":\"021531c7-b3b2-4c33-8d61-c6781200dfa4\",\"type\":\"ColumnDataSource\"},\"glyph\":{\"id\":\"44564936-7e83-4457-a471-cf2e9287bc2e\",\"type\":\"Line\"},\"hover_glyph\":null,\"nonselection_glyph\":{\"id\":\"96c88042-cf00-4764-9ae8-9bba9d49dd14\",\"type\":\"Line\"},\"selection_glyph\":null},\"id\":\"08d27b0b-f6e2-426f-a689-0fdfbd9c9f23\",\"type\":\"GlyphRenderer\"},{\"attributes\":{\"line_alpha\":{\"value\":0.1},\"line_color\":{\"value\":\"#1f77b4\"},\"x\":{\"field\":\"x\"},\"y\":{\"field\":\"y\"}},\"id\":\"3106a9d0-fa8e-4f44-9227-82be440c3346\",\"type\":\"Line\"},{\"attributes\":{\"plot\":{\"id\":\"1bd29237-3d34-4ecf-94bc-61dfdc7efb89\",\"subtype\":\"Figure\",\"type\":\"Plot\"}},\"id\":\"ce02cb97-9946-403b-ac6b-1b44ae6e5032\",\"type\":\"PanTool\"},{\"attributes\":{\"callback\":null},\"id\":\"dfb00275-7bb5-4f60-8a11-67f0e63470f9\",\"type\":\"DataRange1d\"},{\"attributes\":{\"line_alpha\":{\"value\":0.1},\"line_color\":{\"value\":\"#1f77b4\"},\"x\":{\"field\":\"x\"},\"y\":{\"field\":\"y\"}},\"id\":\"63f20017-3e8a-424d-ba11-12807cb9b560\",\"type\":\"Line\"},{\"attributes\":{\"plot\":{\"id\":\"a6df1f4d-6611-43b4-9253-0c69f8f52cda\",\"subtype\":\"Figure\",\"type\":\"Plot\"}},\"id\":\"0553a25e-aae8-434e-a965-24ac16aff65f\",\"type\":\"WheelZoomTool\"},{\"attributes\":{\"plot\":{\"id\":\"a6df1f4d-6611-43b4-9253-0c69f8f52cda\",\"subtype\":\"Figure\",\"type\":\"Plot\"}},\"id\":\"1692b666-9dcc-46fc-8988-32034959dba8\",\"type\":\"ResetTool\"},{\"attributes\":{\"data_source\":{\"id\":\"1e4996b0-f0e4-4cbf-969e-f405e047a5b5\",\"type\":\"ColumnDataSource\"},\"glyph\":{\"id\":\"a407b7bb-4776-4665-8d8e-c91e03e5aaf1\",\"type\":\"Line\"},\"hover_glyph\":null,\"nonselection_glyph\":{\"id\":\"63f20017-3e8a-424d-ba11-12807cb9b560\",\"type\":\"Line\"},\"selection_glyph\":null},\"id\":\"a54b5a16-e1fd-4356-9162-ef28dc96347d\",\"type\":\"GlyphRenderer\"},{\"attributes\":{\"plot\":{\"id\":\"d9b06a52-0d14-4961-a0e8-29301fd5fb27\",\"subtype\":\"Figure\",\"type\":\"Plot\"}},\"id\":\"72cc72d8-6fdb-46ef-a4cf-623ae790d3b8\",\"type\":\"ResetTool\"},{\"attributes\":{\"below\":[{\"id\":\"2c04e90b-9fa2-49c4-a31f-eaca8af210fc\",\"type\":\"LinearAxis\"}],\"left\":[{\"id\":\"e9c3af3c-38ec-4160-9955-4caf0dbc56e1\",\"type\":\"LinearAxis\"}],\"plot_height\":250,\"renderers\":[{\"id\":\"2c04e90b-9fa2-49c4-a31f-eaca8af210fc\",\"type\":\"LinearAxis\"},{\"id\":\"124be463-7422-461f-b4c8-b5d0d040b297\",\"type\":\"Grid\"},{\"id\":\"e9c3af3c-38ec-4160-9955-4caf0dbc56e1\",\"type\":\"LinearAxis\"},{\"id\":\"a085fd0e-03d5-4ad3-9731-10bd6f54097c\",\"type\":\"Grid\"},{\"id\":\"dcc00f12-4ad3-4d02-9739-350952328660\",\"type\":\"BoxAnnotation\"},{\"id\":\"3e38574a-b6fa-47f8-afdf-7679347ca07d\",\"type\":\"GlyphRenderer\"},{\"id\":\"5466c464-a2c7-4421-950b-01cec564459c\",\"type\":\"GlyphRenderer\"},{\"id\":\"73569e42-6c15-4e03-b606-3e708a84d9fe\",\"type\":\"GlyphRenderer\"}],\"tool_events\":{\"id\":\"cae7e233-5bc3-41ec-8c9d-0f9d2c94c93a\",\"type\":\"ToolEvents\"},\"toolbar_location\":\"right\",\"tools\":[{\"id\":\"13b0c3a5-8b14-4156-98c0-bb61f1407f72\",\"type\":\"PanTool\"},{\"id\":\"678285d6-a809-410f-ac61-23284d783002\",\"type\":\"WheelZoomTool\"},{\"id\":\"2df87b13-6b2c-4307-ade1-ac9b7701dbb9\",\"type\":\"BoxZoomTool\"},{\"id\":\"d9d46512-f6c1-4a39-88ef-33ce6b43b87f\",\"type\":\"PreviewSaveTool\"},{\"id\":\"6b6fbd33-c7cb-4b99-b734-f9b48bb5c331\",\"type\":\"ResizeTool\"},{\"id\":\"72cc72d8-6fdb-46ef-a4cf-623ae790d3b8\",\"type\":\"ResetTool\"},{\"id\":\"392a400d-d41a-4944-8ec1-fb847df0df19\",\"type\":\"HelpTool\"}],\"x_range\":{\"id\":\"dd03da3d-ea52-4efd-9066-5a0c458aafc1\",\"type\":\"DataRange1d\"},\"y_range\":{\"id\":\"6bfebd51-622d-4938-9a25-8167ccc2ac47\",\"type\":\"DataRange1d\"}},\"id\":\"d9b06a52-0d14-4961-a0e8-29301fd5fb27\",\"subtype\":\"Figure\",\"type\":\"Plot\"},{\"attributes\":{\"plot\":{\"id\":\"1bd29237-3d34-4ecf-94bc-61dfdc7efb89\",\"subtype\":\"Figure\",\"type\":\"Plot\"}},\"id\":\"dca98593-1775-42b1-8e44-42e0b1ad54c9\",\"type\":\"HelpTool\"},{\"attributes\":{},\"id\":\"98edf085-2937-48f7-ad7c-9b03ca0c03f1\",\"type\":\"BasicTickFormatter\"},{\"attributes\":{\"callback\":null,\"column_names\":[\"x\",\"y\"],\"data\":{\"x\":[0,0],\"y\":[0,40]}},\"id\":\"021531c7-b3b2-4c33-8d61-c6781200dfa4\",\"type\":\"ColumnDataSource\"},{\"attributes\":{\"plot\":{\"id\":\"a6df1f4d-6611-43b4-9253-0c69f8f52cda\",\"subtype\":\"Figure\",\"type\":\"Plot\"}},\"id\":\"8800e6c9-d1ac-4c24-8345-964bac32ca84\",\"type\":\"ResizeTool\"},{\"attributes\":{\"line_color\":{\"value\":\"navy\"},\"x\":{\"field\":\"x\"},\"y\":{\"field\":\"y\"}},\"id\":\"dca37da6-7afa-4e8a-a81d-55a70fbca94a\",\"type\":\"Line\"},{\"attributes\":{\"bottom_units\":\"screen\",\"fill_alpha\":{\"value\":0.5},\"fill_color\":{\"value\":\"lightgrey\"},\"left_units\":\"screen\",\"level\":\"overlay\",\"line_alpha\":{\"value\":1.0},\"line_color\":{\"value\":\"black\"},\"line_dash\":[4,4],\"line_width\":{\"value\":2},\"plot\":null,\"render_mode\":\"css\",\"right_units\":\"screen\",\"top_units\":\"screen\"},\"id\":\"dcc00f12-4ad3-4d02-9739-350952328660\",\"type\":\"BoxAnnotation\"},{\"attributes\":{},\"id\":\"81bc064f-c6b8-4774-ac2f-2a00e81a4a0f\",\"type\":\"BasicTicker\"},{\"attributes\":{\"dimension\":1,\"plot\":{\"id\":\"d9b06a52-0d14-4961-a0e8-29301fd5fb27\",\"subtype\":\"Figure\",\"type\":\"Plot\"},\"ticker\":{\"id\":\"a0593403-c1e7-4661-a8c6-d6da13d6894f\",\"type\":\"BasicTicker\"}},\"id\":\"a085fd0e-03d5-4ad3-9731-10bd6f54097c\",\"type\":\"Grid\"},{\"attributes\":{\"data_source\":{\"id\":\"e698ab35-1e6f-4d7e-8787-9510cda7134a\",\"type\":\"ColumnDataSource\"},\"glyph\":{\"id\":\"a9dbcd25-9c0d-4aa2-8a12-7bc242755fcb\",\"type\":\"Line\"},\"hover_glyph\":null,\"nonselection_glyph\":{\"id\":\"731b31d0-6f89-427b-a853-b7ed1d26f116\",\"type\":\"Line\"},\"selection_glyph\":null},\"id\":\"18d2cfd0-baf5-4946-8b13-c2a09b88fb3d\",\"type\":\"GlyphRenderer\"},{\"attributes\":{\"children\":[{\"id\":\"a6df1f4d-6611-43b4-9253-0c69f8f52cda\",\"subtype\":\"Figure\",\"type\":\"Plot\"},{\"id\":\"1bd29237-3d34-4ecf-94bc-61dfdc7efb89\",\"subtype\":\"Figure\",\"type\":\"Plot\"},{\"id\":\"d9b06a52-0d14-4961-a0e8-29301fd5fb27\",\"subtype\":\"Figure\",\"type\":\"Plot\"}]},\"id\":\"5fddad69-b5ac-4c93-a9b2-3a3f21c0e595\",\"type\":\"VBox\"},{\"attributes\":{\"plot\":{\"id\":\"1bd29237-3d34-4ecf-94bc-61dfdc7efb89\",\"subtype\":\"Figure\",\"type\":\"Plot\"}},\"id\":\"c0b4883f-8801-4389-8ed2-50b9e8d28dfe\",\"type\":\"ResetTool\"},{\"attributes\":{},\"id\":\"d4492ce6-3e6f-4a0d-9274-ca3ca12d0175\",\"type\":\"BasicTickFormatter\"},{\"attributes\":{\"plot\":{\"id\":\"d9b06a52-0d14-4961-a0e8-29301fd5fb27\",\"subtype\":\"Figure\",\"type\":\"Plot\"}},\"id\":\"6b6fbd33-c7cb-4b99-b734-f9b48bb5c331\",\"type\":\"ResizeTool\"},{\"attributes\":{},\"id\":\"f3cd8f3b-a005-40b7-a6b4-9a319b9ec2db\",\"type\":\"BasicTicker\"},{\"attributes\":{\"callback\":null,\"column_names\":[\"x\",\"y\"],\"data\":{\"x\":[0,0],\"y\":[-40,40]}},\"id\":\"0787e1a0-a394-4564-abef-91a9d1fe82b4\",\"type\":\"ColumnDataSource\"},{\"attributes\":{\"line_alpha\":{\"value\":0.1},\"line_color\":{\"value\":\"#1f77b4\"},\"x\":{\"field\":\"x\"},\"y\":{\"field\":\"y\"}},\"id\":\"0722e6f6-367a-448b-9179-960c61af7946\",\"type\":\"Line\"},{\"attributes\":{\"plot\":{\"id\":\"a6df1f4d-6611-43b4-9253-0c69f8f52cda\",\"subtype\":\"Figure\",\"type\":\"Plot\"}},\"id\":\"e32bfe06-a3cd-4ccf-b1f9-9ff06416d373\",\"type\":\"PanTool\"},{\"attributes\":{\"formatter\":{\"id\":\"4cf32be3-99ac-4a24-8a5e-2d2594417ce9\",\"type\":\"BasicTickFormatter\"},\"plot\":{\"id\":\"a6df1f4d-6611-43b4-9253-0c69f8f52cda\",\"subtype\":\"Figure\",\"type\":\"Plot\"},\"ticker\":{\"id\":\"95b89c22-a6ae-46d5-9636-07a10d3d04b3\",\"type\":\"BasicTicker\"}},\"id\":\"8367fbef-190b-45d9-a0d2-103993e296a4\",\"type\":\"LinearAxis\"},{\"attributes\":{\"bottom_units\":\"screen\",\"fill_alpha\":{\"value\":0.5},\"fill_color\":{\"value\":\"lightgrey\"},\"left_units\":\"screen\",\"level\":\"overlay\",\"line_alpha\":{\"value\":1.0},\"line_color\":{\"value\":\"black\"},\"line_dash\":[4,4],\"line_width\":{\"value\":2},\"plot\":null,\"render_mode\":\"css\",\"right_units\":\"screen\",\"top_units\":\"screen\"},\"id\":\"3b0aef77-00d0-4e84-9991-c52cdb8a659e\",\"type\":\"BoxAnnotation\"},{\"attributes\":{\"line_color\":{\"value\":\"green\"},\"x\":{\"field\":\"x\"},\"y\":{\"field\":\"y\"}},\"id\":\"313edc57-b5fb-4254-8eae-5dc2a57375a1\",\"type\":\"Line\"},{\"attributes\":{\"line_color\":{\"value\":\"green\"},\"x\":{\"field\":\"x\"},\"y\":{\"field\":\"y\"}},\"id\":\"ae462b08-b8d9-4b32-b8c3-b31b6b0981a8\",\"type\":\"Line\"},{\"attributes\":{},\"id\":\"4cf32be3-99ac-4a24-8a5e-2d2594417ce9\",\"type\":\"BasicTickFormatter\"},{\"attributes\":{},\"id\":\"7203518e-8d3f-44df-8c8b-dbfcf54206e2\",\"type\":\"BasicTicker\"},{\"attributes\":{\"callback\":null,\"column_names\":[\"x\",\"y\"],\"data\":{\"x\":[],\"y\":[]}},\"id\":\"7a622558-91fe-446a-b946-345e63fea630\",\"type\":\"ColumnDataSource\"},{\"attributes\":{\"axis_label\":\"Volume\",\"formatter\":{\"id\":\"98edf085-2937-48f7-ad7c-9b03ca0c03f1\",\"type\":\"BasicTickFormatter\"},\"plot\":{\"id\":\"d9b06a52-0d14-4961-a0e8-29301fd5fb27\",\"subtype\":\"Figure\",\"type\":\"Plot\"},\"ticker\":{\"id\":\"a0593403-c1e7-4661-a8c6-d6da13d6894f\",\"type\":\"BasicTicker\"}},\"id\":\"e9c3af3c-38ec-4160-9955-4caf0dbc56e1\",\"type\":\"LinearAxis\"},{\"attributes\":{\"overlay\":{\"id\":\"398221e6-4ddd-45f9-bc5a-9ebadb78d7c1\",\"type\":\"BoxAnnotation\"},\"plot\":{\"id\":\"1bd29237-3d34-4ecf-94bc-61dfdc7efb89\",\"subtype\":\"Figure\",\"type\":\"Plot\"}},\"id\":\"94d7a616-5c49-48d1-8a46-e74c3afe2c8e\",\"type\":\"BoxZoomTool\"},{\"attributes\":{\"plot\":{\"id\":\"1bd29237-3d34-4ecf-94bc-61dfdc7efb89\",\"subtype\":\"Figure\",\"type\":\"Plot\"}},\"id\":\"386d5aca-4816-4511-95e5-ae13dc3775dc\",\"type\":\"ResizeTool\"},{\"attributes\":{},\"id\":\"95b89c22-a6ae-46d5-9636-07a10d3d04b3\",\"type\":\"BasicTicker\"},{\"attributes\":{},\"id\":\"f8752a35-0c00-49ae-bc1a-50ed59bdf07d\",\"type\":\"ToolEvents\"},{\"attributes\":{\"line_color\":{\"value\":\"green\"},\"x\":{\"field\":\"x\"},\"y\":{\"field\":\"y\"}},\"id\":\"a407b7bb-4776-4665-8d8e-c91e03e5aaf1\",\"type\":\"Line\"},{\"attributes\":{\"plot\":{\"id\":\"d9b06a52-0d14-4961-a0e8-29301fd5fb27\",\"subtype\":\"Figure\",\"type\":\"Plot\"}},\"id\":\"392a400d-d41a-4944-8ec1-fb847df0df19\",\"type\":\"HelpTool\"},{\"attributes\":{},\"id\":\"457e3467-2c40-47eb-ae13-fdac0c1a81bb\",\"type\":\"BasicTickFormatter\"},{\"attributes\":{\"line_color\":{\"value\":\"green\"},\"x\":{\"field\":\"x\"},\"y\":{\"field\":\"y\"}},\"id\":\"a9dbcd25-9c0d-4aa2-8a12-7bc242755fcb\",\"type\":\"Line\"},{\"attributes\":{\"below\":[{\"id\":\"8367fbef-190b-45d9-a0d2-103993e296a4\",\"type\":\"LinearAxis\"}],\"left\":[{\"id\":\"74f7a686-f6f7-48e1-8d70-a531ae23e1e9\",\"type\":\"LinearAxis\"}],\"plot_height\":250,\"renderers\":[{\"id\":\"8367fbef-190b-45d9-a0d2-103993e296a4\",\"type\":\"LinearAxis\"},{\"id\":\"651a2a4d-b501-4057-94b4-697d686f8178\",\"type\":\"Grid\"},{\"id\":\"74f7a686-f6f7-48e1-8d70-a531ae23e1e9\",\"type\":\"LinearAxis\"},{\"id\":\"1811e903-5e69-4e71-ba0d-3fd4a727816f\",\"type\":\"Grid\"},{\"id\":\"3b0aef77-00d0-4e84-9991-c52cdb8a659e\",\"type\":\"BoxAnnotation\"},{\"id\":\"ddb256eb-c003-4ddd-b531-2794403db215\",\"type\":\"GlyphRenderer\"},{\"id\":\"ef200996-14a5-4760-a5db-715ca99150ce\",\"type\":\"GlyphRenderer\"},{\"id\":\"a54b5a16-e1fd-4356-9162-ef28dc96347d\",\"type\":\"GlyphRenderer\"}],\"tool_events\":{\"id\":\"f8752a35-0c00-49ae-bc1a-50ed59bdf07d\",\"type\":\"ToolEvents\"},\"toolbar_location\":\"right\",\"tools\":[{\"id\":\"e32bfe06-a3cd-4ccf-b1f9-9ff06416d373\",\"type\":\"PanTool\"},{\"id\":\"0553a25e-aae8-434e-a965-24ac16aff65f\",\"type\":\"WheelZoomTool\"},{\"id\":\"0d14a808-901a-4c11-8205-2970e5583eb3\",\"type\":\"BoxZoomTool\"},{\"id\":\"c830873d-0f21-47bf-bc6c-c173e9a7db1d\",\"type\":\"PreviewSaveTool\"},{\"id\":\"8800e6c9-d1ac-4c24-8345-964bac32ca84\",\"type\":\"ResizeTool\"},{\"id\":\"1692b666-9dcc-46fc-8988-32034959dba8\",\"type\":\"ResetTool\"},{\"id\":\"d7a7bec4-5e2d-40e9-92c9-d27f912af864\",\"type\":\"HelpTool\"}],\"x_range\":{\"id\":\"dfb00275-7bb5-4f60-8a11-67f0e63470f9\",\"type\":\"DataRange1d\"},\"y_range\":{\"id\":\"df7fd367-3b02-41c8-9104-dc903491f573\",\"type\":\"DataRange1d\"}},\"id\":\"a6df1f4d-6611-43b4-9253-0c69f8f52cda\",\"subtype\":\"Figure\",\"type\":\"Plot\"},{\"attributes\":{\"data_source\":{\"id\":\"0787e1a0-a394-4564-abef-91a9d1fe82b4\",\"type\":\"ColumnDataSource\"},\"glyph\":{\"id\":\"4a26707c-a1e0-4735-9ce0-b2c46d8eaa56\",\"type\":\"Line\"},\"hover_glyph\":null,\"nonselection_glyph\":{\"id\":\"e374db7a-4400-451b-8850-6dc389470452\",\"type\":\"Line\"},\"selection_glyph\":null},\"id\":\"ef200996-14a5-4760-a5db-715ca99150ce\",\"type\":\"GlyphRenderer\"},{\"attributes\":{\"line_color\":{\"value\":\"firebrick\"},\"x\":{\"field\":\"x\"},\"y\":{\"field\":\"y\"}},\"id\":\"197c74fe-a71a-469a-aebb-1203cf6049d8\",\"type\":\"Line\"},{\"attributes\":{},\"id\":\"8d110e9f-a2e2-451f-be7c-8c3c7184bf0e\",\"type\":\"BasicTickFormatter\"},{\"attributes\":{\"dimension\":1,\"plot\":{\"id\":\"1bd29237-3d34-4ecf-94bc-61dfdc7efb89\",\"subtype\":\"Figure\",\"type\":\"Plot\"},\"ticker\":{\"id\":\"f3cd8f3b-a005-40b7-a6b4-9a319b9ec2db\",\"type\":\"BasicTicker\"}},\"id\":\"82b3b182-98d7-4c06-8f54-1042e13747f4\",\"type\":\"Grid\"},{\"attributes\":{},\"id\":\"f2bbffa8-654e-4eab-b039-9bfb43c669d3\",\"type\":\"ToolEvents\"},{\"attributes\":{\"line_alpha\":{\"value\":0.1},\"line_color\":{\"value\":\"#1f77b4\"},\"x\":{\"field\":\"x\"},\"y\":{\"field\":\"y\"}},\"id\":\"9425f568-9769-4ebc-aebb-c0dff6d56fcb\",\"type\":\"Line\"},{\"attributes\":{\"callback\":null},\"id\":\"df7fd367-3b02-41c8-9104-dc903491f573\",\"type\":\"DataRange1d\"},{\"attributes\":{\"callback\":null,\"column_names\":[\"x\",\"y\"],\"data\":{\"x\":[0,0],\"y\":[0,400]}},\"id\":\"2228ac2f-efe8-4da5-a864-e2225c35748e\",\"type\":\"ColumnDataSource\"},{\"attributes\":{\"overlay\":{\"id\":\"3b0aef77-00d0-4e84-9991-c52cdb8a659e\",\"type\":\"BoxAnnotation\"},\"plot\":{\"id\":\"a6df1f4d-6611-43b4-9253-0c69f8f52cda\",\"subtype\":\"Figure\",\"type\":\"Plot\"}},\"id\":\"0d14a808-901a-4c11-8205-2970e5583eb3\",\"type\":\"BoxZoomTool\"},{\"attributes\":{\"plot\":{\"id\":\"d9b06a52-0d14-4961-a0e8-29301fd5fb27\",\"subtype\":\"Figure\",\"type\":\"Plot\"},\"ticker\":{\"id\":\"7203518e-8d3f-44df-8c8b-dbfcf54206e2\",\"type\":\"BasicTicker\"}},\"id\":\"124be463-7422-461f-b4c8-b5d0d040b297\",\"type\":\"Grid\"},{\"attributes\":{\"data_source\":{\"id\":\"eac13b18-2222-4f95-a8b8-1364d2b3d454\",\"type\":\"ColumnDataSource\"},\"glyph\":{\"id\":\"197c74fe-a71a-469a-aebb-1203cf6049d8\",\"type\":\"Line\"},\"hover_glyph\":null,\"name\":\"Flow\",\"nonselection_glyph\":{\"id\":\"0722e6f6-367a-448b-9179-960c61af7946\",\"type\":\"Line\"},\"selection_glyph\":null},\"id\":\"ddb256eb-c003-4ddd-b531-2794403db215\",\"type\":\"GlyphRenderer\"},{\"attributes\":{\"axis_label\":\"Paw\",\"formatter\":{\"id\":\"8d110e9f-a2e2-451f-be7c-8c3c7184bf0e\",\"type\":\"BasicTickFormatter\"},\"plot\":{\"id\":\"1bd29237-3d34-4ecf-94bc-61dfdc7efb89\",\"subtype\":\"Figure\",\"type\":\"Plot\"},\"ticker\":{\"id\":\"f3cd8f3b-a005-40b7-a6b4-9a319b9ec2db\",\"type\":\"BasicTicker\"}},\"id\":\"fdc8779b-0d0b-4017-9a9b-12aad74e9fee\",\"type\":\"LinearAxis\"},{\"attributes\":{\"plot\":{\"id\":\"1bd29237-3d34-4ecf-94bc-61dfdc7efb89\",\"subtype\":\"Figure\",\"type\":\"Plot\"},\"ticker\":{\"id\":\"81bc064f-c6b8-4774-ac2f-2a00e81a4a0f\",\"type\":\"BasicTicker\"}},\"id\":\"5de23dba-182e-481c-93c9-6dda7a0d7bdc\",\"type\":\"Grid\"},{\"attributes\":{},\"id\":\"34d1f2e5-b063-4c5a-9c7f-7223fb63b6aa\",\"type\":\"BasicTicker\"},{\"attributes\":{},\"id\":\"a0adc84c-d9be-41c5-88ff-338ee24e256a\",\"type\":\"BasicTickFormatter\"},{\"attributes\":{\"line_alpha\":{\"value\":0.1},\"line_color\":{\"value\":\"#1f77b4\"},\"x\":{\"field\":\"x\"},\"y\":{\"field\":\"y\"}},\"id\":\"731b31d0-6f89-427b-a853-b7ed1d26f116\",\"type\":\"Line\"},{\"attributes\":{\"plot\":{\"id\":\"a6df1f4d-6611-43b4-9253-0c69f8f52cda\",\"subtype\":\"Figure\",\"type\":\"Plot\"}},\"id\":\"c830873d-0f21-47bf-bc6c-c173e9a7db1d\",\"type\":\"PreviewSaveTool\"},{\"attributes\":{\"line_color\":{\"value\":\"olive\"},\"x\":{\"field\":\"x\"},\"y\":{\"field\":\"y\"}},\"id\":\"ff5520d4-ddb8-4188-8558-2190c8aea29a\",\"type\":\"Line\"},{\"attributes\":{\"callback\":null,\"column_names\":[\"x\",\"y\"],\"data\":{\"x\":[],\"y\":[]}},\"id\":\"eac13b18-2222-4f95-a8b8-1364d2b3d454\",\"type\":\"ColumnDataSource\"},{\"attributes\":{\"callback\":null,\"column_names\":[\"x\",\"y\"],\"data\":{\"x\":[0,0],\"y\":[0,40]}},\"id\":\"e698ab35-1e6f-4d7e-8787-9510cda7134a\",\"type\":\"ColumnDataSource\"},{\"attributes\":{\"callback\":null,\"column_names\":[\"x\",\"y\"],\"data\":{\"x\":[0,0],\"y\":[0,400]}},\"id\":\"cf0f0fd1-1c48-4e42-a2c1-6c150a81a2d8\",\"type\":\"ColumnDataSource\"},{\"attributes\":{\"callback\":null},\"id\":\"dd03da3d-ea52-4efd-9066-5a0c458aafc1\",\"type\":\"DataRange1d\"},{\"attributes\":{\"plot\":{\"id\":\"a6df1f4d-6611-43b4-9253-0c69f8f52cda\",\"subtype\":\"Figure\",\"type\":\"Plot\"}},\"id\":\"d7a7bec4-5e2d-40e9-92c9-d27f912af864\",\"type\":\"HelpTool\"},{\"attributes\":{\"below\":[{\"id\":\"620eccb2-0860-49bd-b2ea-bde00dafee98\",\"type\":\"LinearAxis\"}],\"left\":[{\"id\":\"fdc8779b-0d0b-4017-9a9b-12aad74e9fee\",\"type\":\"LinearAxis\"}],\"plot_height\":250,\"renderers\":[{\"id\":\"620eccb2-0860-49bd-b2ea-bde00dafee98\",\"type\":\"LinearAxis\"},{\"id\":\"5de23dba-182e-481c-93c9-6dda7a0d7bdc\",\"type\":\"Grid\"},{\"id\":\"fdc8779b-0d0b-4017-9a9b-12aad74e9fee\",\"type\":\"LinearAxis\"},{\"id\":\"82b3b182-98d7-4c06-8f54-1042e13747f4\",\"type\":\"Grid\"},{\"id\":\"398221e6-4ddd-45f9-bc5a-9ebadb78d7c1\",\"type\":\"BoxAnnotation\"},{\"id\":\"17a8ae32-04fe-4a58-a5a8-231c29714736\",\"type\":\"GlyphRenderer\"},{\"id\":\"18d2cfd0-baf5-4946-8b13-c2a09b88fb3d\",\"type\":\"GlyphRenderer\"},{\"id\":\"08d27b0b-f6e2-426f-a689-0fdfbd9c9f23\",\"type\":\"GlyphRenderer\"}],\"tool_events\":{\"id\":\"f2bbffa8-654e-4eab-b039-9bfb43c669d3\",\"type\":\"ToolEvents\"},\"toolbar_location\":\"right\",\"tools\":[{\"id\":\"ce02cb97-9946-403b-ac6b-1b44ae6e5032\",\"type\":\"PanTool\"},{\"id\":\"18e71d07-ae9a-425d-9bff-1fc8b544ad34\",\"type\":\"WheelZoomTool\"},{\"id\":\"94d7a616-5c49-48d1-8a46-e74c3afe2c8e\",\"type\":\"BoxZoomTool\"},{\"id\":\"0ca8b1c1-7b81-4811-95fb-da88cdc6c105\",\"type\":\"PreviewSaveTool\"},{\"id\":\"386d5aca-4816-4511-95e5-ae13dc3775dc\",\"type\":\"ResizeTool\"},{\"id\":\"c0b4883f-8801-4389-8ed2-50b9e8d28dfe\",\"type\":\"ResetTool\"},{\"id\":\"dca98593-1775-42b1-8e44-42e0b1ad54c9\",\"type\":\"HelpTool\"}],\"x_range\":{\"id\":\"e6c32ade-1649-4322-a3ea-0763c2455fad\",\"type\":\"DataRange1d\"},\"y_range\":{\"id\":\"bebf706f-aa1a-46ac-8c05-c8de6479c1ba\",\"type\":\"DataRange1d\"}},\"id\":\"1bd29237-3d34-4ecf-94bc-61dfdc7efb89\",\"subtype\":\"Figure\",\"type\":\"Plot\"},{\"attributes\":{\"dimension\":1,\"plot\":{\"id\":\"a6df1f4d-6611-43b4-9253-0c69f8f52cda\",\"subtype\":\"Figure\",\"type\":\"Plot\"},\"ticker\":{\"id\":\"34d1f2e5-b063-4c5a-9c7f-7223fb63b6aa\",\"type\":\"BasicTicker\"}},\"id\":\"1811e903-5e69-4e71-ba0d-3fd4a727816f\",\"type\":\"Grid\"},{\"attributes\":{\"plot\":{\"id\":\"d9b06a52-0d14-4961-a0e8-29301fd5fb27\",\"subtype\":\"Figure\",\"type\":\"Plot\"}},\"id\":\"d9d46512-f6c1-4a39-88ef-33ce6b43b87f\",\"type\":\"PreviewSaveTool\"},{\"attributes\":{\"axis_label\":\"Flow\",\"formatter\":{\"id\":\"a0adc84c-d9be-41c5-88ff-338ee24e256a\",\"type\":\"BasicTickFormatter\"},\"plot\":{\"id\":\"a6df1f4d-6611-43b4-9253-0c69f8f52cda\",\"subtype\":\"Figure\",\"type\":\"Plot\"},\"ticker\":{\"id\":\"34d1f2e5-b063-4c5a-9c7f-7223fb63b6aa\",\"type\":\"BasicTicker\"}},\"id\":\"74f7a686-f6f7-48e1-8d70-a531ae23e1e9\",\"type\":\"LinearAxis\"}],\"root_ids\":[\"5fddad69-b5ac-4c93-a9b2-3a3f21c0e595\"]},\"title\":\"Bokeh Application\",\"version\":\"0.11.1\"}};\n",
       "            var render_items = [{\"docid\":\"5fb42a63-12ea-40bd-90b2-3ef08c492b8a\",\"elementid\":\"8bd9bbd7-debd-4cbd-b7b4-a5632a6a3750\",\"modelid\":\"5fddad69-b5ac-4c93-a9b2-3a3f21c0e595\",\"notebook_comms_target\":\"dac257e3-808d-40f1-b6cc-5cc4a3bab5b4\"}];\n",
       "            \n",
       "            Bokeh.embed.embed_items(docs_json, render_items);\n",
       "        });\n",
       "      },\n",
       "      function(Bokeh) {\n",
       "      }\n",
       "    ];\n",
       "  \n",
       "    function run_inline_js() {\n",
       "      for (var i = 0; i < inline_js.length; i++) {\n",
       "        inline_js[i](window.Bokeh);\n",
       "      }\n",
       "    }\n",
       "  \n",
       "    if (window._bokeh_is_loading === 0) {\n",
       "      console.log(\"Bokeh: BokehJS loaded, going straight to plotting\");\n",
       "      run_inline_js();\n",
       "    } else {\n",
       "      load_libs(js_urls, function() {\n",
       "        console.log(\"Bokeh: BokehJS plotting callback run at\", now());\n",
       "        run_inline_js();\n",
       "      });\n",
       "    }\n",
       "  }(this));\n",
       "</script>"
      ]
     },
     "metadata": {},
     "output_type": "display_data"
    }
   ],
   "source": [
    "breaths = 1\n",
    "results = viz.get_breaths(75)\n",
    "w = widgets.SelectMultiple(description='Types', options=['Normal', 'DoubleStacked', 'PostDoubleStacked', \n",
    "                                                         'PressureFlowLimited', 'FlowAbnormal', \n",
    "                                                         'PrematureVentTermination', 'IneffectiveTrigger', 'Garbage'])\n",
    "w.height = 150\n",
    "button = widgets.Button(description='Next')\n",
    "container = widgets.HBox(children=[w, button])\n",
    "\n",
    "button.on_click(on_button_click)\n",
    "display(container)"
   ]
  },
  {
   "cell_type": "markdown",
   "metadata": {
    "collapsed": false
   },
   "source": [
    "# Use PDS breaths to ID DS Breaths"
   ]
  },
  {
   "cell_type": "code",
   "execution_count": 32,
   "metadata": {
    "collapsed": false
   },
   "outputs": [],
   "source": [
    "pds = list(train_db.find({'validation':{'$exists':1}, 'validation.pds':1}, {'patient_id':1, 'date_time':1, 'breath_num':1}))\n",
    "for breath in pds:\n",
    "    ids = breath_db.find_one({'patient_id': breath['patient_id'], \n",
    "                              'date_time': breath['date_time'], 'breath_num':breath['breath_num']}, {'file':1})\n",
    "    data = breath_db.find_one({'patient_id': breath['patient_id'], 'file': ids['file'], 'breath_num':breath['breath_num']-1})\n",
    "    data['validation'] = {'norm': 0,\n",
    "                                'ds': 1,\n",
    "                                'pds': 0,\n",
    "                                'pfl': 0,\n",
    "                                'fa': 0,\n",
    "                                'pvt':0,\n",
    "                                'ie': 0,\n",
    "                                'garb': 0}\n",
    "\n",
    "    try:\n",
    "        train_db.insert_one(data)\n",
    "    except:\n",
    "        train_db.update_one({'patient_id': breath['patient_id'], \n",
    "                             'file':ids['file'], 'breath_num':breath['breath_num']-1}, {'$set':data})"
   ]
  },
  {
   "cell_type": "code",
   "execution_count": null,
   "metadata": {
    "collapsed": true
   },
   "outputs": [],
   "source": [
    "ids = list(train_db.find({'validation':{'$exists':1}}, {'_id':1, 'validation':1}).limit(20))"
   ]
  },
  {
   "cell_type": "code",
   "execution_count": null,
   "metadata": {
    "collapsed": false,
    "scrolled": false
   },
   "outputs": [],
   "source": [
    "for _id in ids:\n",
    "    print(_id['validation'])\n",
    "    df, breath_start, breath_end = viz.breath_viz(_id['_id'])\n",
    "    p=viz.make_plot(df, breath_start, breath_end)\n",
    "    show(p)"
   ]
  },
  {
   "cell_type": "markdown",
   "metadata": {
    "collapsed": true
   },
   "source": [
    "## Pull in additional data from database"
   ]
  },
  {
   "cell_type": "code",
   "execution_count": 33,
   "metadata": {
    "collapsed": false
   },
   "outputs": [],
   "source": [
    "import datetime\n",
    "\n",
    "pds = list(train_db.find({'validation':{'$exists':1}}, {'patient_id':1, 'date_time':1, 'breath_num':1, 'validation':1}))\n",
    "for breath in pds:\n",
    "\n",
    "    if isinstance(breath['date_time'], float):\n",
    "        date_time = datetime.datetime.fromtimestamp(breath['date_time'])\n",
    "        data = breath_db.find({'patient_id': breath['patient_id'], \n",
    "                              'date_time': date_time, 'breath_num':breath['breath_num']})\n",
    "    else: \n",
    "        data = breath_db.find({'patient_id': breath['patient_id'], \n",
    "                              'date_time': breath['date_time'], 'breath_num':breath['breath_num']})\n",
    "    \n",
    "    if data.count() == 1:\n",
    "        data = list(data)[0]\n",
    "        data['validation'] = breath['validation']\n",
    "        data.pop('_id')\n",
    "        train_db.update_one({'_id':breath['_id']}, {'$set':data})\n",
    "    else:\n",
    "        date = re.search('\\d\\d\\d\\d-\\d\\d-\\d\\d \\d\\d:\\d\\d:\\d\\d', breath['_id']).group()\n",
    "        date_time = datetime.datetime.strptime(date, '%Y-%m-%d %H:%M:%S')\n",
    "        data = breath_db.find({'patient_id': breath['patient_id'], \n",
    "                              'date_time': date_time, 'breath_num':breath['breath_num']}) \n",
    "        if data.count() == 1:\n",
    "            data = list(data)[0]\n",
    "            data['validation'] = breath['validation']\n",
    "            data.pop('_id')\n",
    "            train_db.update_one({'_id':breath['_id']}, {'$set':data})\n",
    "        else:\n",
    "            print(breath)\n",
    "            print('Missing data')"
   ]
  },
  {
   "cell_type": "code",
   "execution_count": null,
   "metadata": {
    "collapsed": true
   },
   "outputs": [],
   "source": []
  },
  {
   "cell_type": "code",
   "execution_count": null,
   "metadata": {
    "collapsed": true
   },
   "outputs": [],
   "source": []
  },
  {
   "cell_type": "code",
   "execution_count": null,
   "metadata": {
    "collapsed": true
   },
   "outputs": [],
   "source": []
  },
  {
   "cell_type": "code",
   "execution_count": null,
   "metadata": {
    "collapsed": true
   },
   "outputs": [],
   "source": []
  },
  {
   "cell_type": "code",
   "execution_count": null,
   "metadata": {
    "collapsed": true
   },
   "outputs": [],
   "source": []
  },
  {
   "cell_type": "code",
   "execution_count": null,
   "metadata": {
    "collapsed": true
   },
   "outputs": [],
   "source": []
  },
  {
   "cell_type": "code",
   "execution_count": null,
   "metadata": {
    "collapsed": true
   },
   "outputs": [],
   "source": []
  },
  {
   "cell_type": "code",
   "execution_count": null,
   "metadata": {
    "collapsed": true
   },
   "outputs": [],
   "source": []
  },
  {
   "cell_type": "code",
   "execution_count": null,
   "metadata": {
    "collapsed": true
   },
   "outputs": [],
   "source": []
  },
  {
   "cell_type": "code",
   "execution_count": null,
   "metadata": {
    "collapsed": true
   },
   "outputs": [],
   "source": []
  },
  {
   "cell_type": "code",
   "execution_count": null,
   "metadata": {
    "collapsed": true
   },
   "outputs": [],
   "source": []
  },
  {
   "cell_type": "code",
   "execution_count": null,
   "metadata": {
    "collapsed": true
   },
   "outputs": [],
   "source": []
  },
  {
   "cell_type": "code",
   "execution_count": null,
   "metadata": {
    "collapsed": true
   },
   "outputs": [],
   "source": []
  },
  {
   "cell_type": "code",
   "execution_count": null,
   "metadata": {
    "collapsed": true
   },
   "outputs": [],
   "source": []
  },
  {
   "cell_type": "code",
   "execution_count": null,
   "metadata": {
    "collapsed": true
   },
   "outputs": [],
   "source": []
  },
  {
   "cell_type": "code",
   "execution_count": null,
   "metadata": {
    "collapsed": true
   },
   "outputs": [],
   "source": []
  }
 ],
 "metadata": {
  "kernelspec": {
   "display_name": "Python 3",
   "language": "python",
   "name": "python3"
  },
  "language_info": {
   "codemirror_mode": {
    "name": "ipython",
    "version": 3
   },
   "file_extension": ".py",
   "mimetype": "text/x-python",
   "name": "python",
   "nbconvert_exporter": "python",
   "pygments_lexer": "ipython3",
   "version": "3.5.1"
  }
 },
 "nbformat": 4,
 "nbformat_minor": 0
}
