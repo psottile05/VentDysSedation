{
 "cells": [
  {
   "cell_type": "code",
   "execution_count": 1,
   "metadata": {
    "collapsed": false
   },
   "outputs": [
    {
     "data": {
      "text/html": [
       "\n",
       "    <div class=\"bk-banner\">\n",
       "        <a href=\"http://bokeh.pydata.org\" target=\"_blank\" class=\"bk-logo bk-logo-small bk-logo-notebook\"></a>\n",
       "        <span id=\"5b515bf1-22cb-4660-adf2-10599794547c\">Loading BokehJS ...</span>\n",
       "    </div>"
      ]
     },
     "metadata": {},
     "output_type": "display_data"
    },
    {
     "data": {
      "application/javascript": [
       "\n",
       "(function(global) {\n",
       "  function now() {\n",
       "    return new Date();\n",
       "  }\n",
       "\n",
       "  if (typeof (window._bokeh_onload_callbacks) === \"undefined\") {\n",
       "    window._bokeh_onload_callbacks = [];\n",
       "  }\n",
       "\n",
       "  function run_callbacks() {\n",
       "    window._bokeh_onload_callbacks.forEach(function(callback) { callback() });\n",
       "    delete window._bokeh_onload_callbacks\n",
       "    console.info(\"Bokeh: all callbacks have finished\");\n",
       "  }\n",
       "\n",
       "  function load_libs(js_urls, callback) {\n",
       "    window._bokeh_onload_callbacks.push(callback);\n",
       "    if (window._bokeh_is_loading > 0) {\n",
       "      console.log(\"Bokeh: BokehJS is being loaded, scheduling callback at\", now());\n",
       "      return null;\n",
       "    }\n",
       "    if (js_urls == null || js_urls.length === 0) {\n",
       "      run_callbacks();\n",
       "      return null;\n",
       "    }\n",
       "    console.log(\"Bokeh: BokehJS not loaded, scheduling load and callback at\", now());\n",
       "    window._bokeh_is_loading = js_urls.length;\n",
       "    for (var i = 0; i < js_urls.length; i++) {\n",
       "      var url = js_urls[i];\n",
       "      var s = document.createElement('script');\n",
       "      s.src = url;\n",
       "      s.async = false;\n",
       "      s.onreadystatechange = s.onload = function() {\n",
       "        window._bokeh_is_loading--;\n",
       "        if (window._bokeh_is_loading === 0) {\n",
       "          console.log(\"Bokeh: all BokehJS libraries loaded\");\n",
       "          run_callbacks()\n",
       "        }\n",
       "      };\n",
       "      s.onerror = function() {\n",
       "        console.warn(\"failed to load library \" + url);\n",
       "      };\n",
       "      console.log(\"Bokeh: injecting script tag for BokehJS library: \", url);\n",
       "      document.getElementsByTagName(\"head\")[0].appendChild(s);\n",
       "    }\n",
       "  };\n",
       "\n",
       "  var js_urls = ['https://cdn.pydata.org/bokeh/release/bokeh-0.11.1.min.js', 'https://cdn.pydata.org/bokeh/release/bokeh-widgets-0.11.1.min.js', 'https://cdn.pydata.org/bokeh/release/bokeh-compiler-0.11.1.min.js'];\n",
       "\n",
       "  var inline_js = [\n",
       "    function(Bokeh) {\n",
       "      Bokeh.set_log_level(\"info\");\n",
       "    },\n",
       "    \n",
       "    function(Bokeh) {\n",
       "      Bokeh.$(\"#5b515bf1-22cb-4660-adf2-10599794547c\").text(\"BokehJS successfully loaded\");\n",
       "    },\n",
       "    function(Bokeh) {\n",
       "      console.log(\"Bokeh: injecting CSS: https://cdn.pydata.org/bokeh/release/bokeh-0.11.1.min.css\");\n",
       "      Bokeh.embed.inject_css(\"https://cdn.pydata.org/bokeh/release/bokeh-0.11.1.min.css\");\n",
       "      console.log(\"Bokeh: injecting CSS: https://cdn.pydata.org/bokeh/release/bokeh-widgets-0.11.1.min.css\");\n",
       "      Bokeh.embed.inject_css(\"https://cdn.pydata.org/bokeh/release/bokeh-widgets-0.11.1.min.css\");\n",
       "    }\n",
       "  ];\n",
       "\n",
       "  function run_inline_js() {\n",
       "    for (var i = 0; i < inline_js.length; i++) {\n",
       "      inline_js[i](window.Bokeh);\n",
       "    }\n",
       "  }\n",
       "\n",
       "  if (window._bokeh_is_loading === 0) {\n",
       "    console.log(\"Bokeh: BokehJS loaded, going straight to plotting\");\n",
       "    run_inline_js();\n",
       "  } else {\n",
       "    load_libs(js_urls, function() {\n",
       "      console.log(\"Bokeh: BokehJS plotting callback run at\", now());\n",
       "      run_inline_js();\n",
       "    });\n",
       "  }\n",
       "}(this));"
      ]
     },
     "metadata": {},
     "output_type": "display_data"
    }
   ],
   "source": [
    "import Visualization as viz\n",
    "from ipywidgets import widgets\n",
    "from IPython.display import display, clear_output\n",
    "from bokeh.plotting import figure, show, output_notebook\n",
    "import pandas as pd\n",
    "\n",
    "output_notebook()"
   ]
  },
  {
   "cell_type": "code",
   "execution_count": 2,
   "metadata": {
    "collapsed": false
   },
   "outputs": [
    {
     "data": {
      "text/plain": [
       "10024"
      ]
     },
     "execution_count": 2,
     "metadata": {},
     "output_type": "execute_result"
    }
   ],
   "source": [
    "from pymongo import MongoClient\n",
    "\n",
    "client = MongoClient()\n",
    "db = client.VentDB\n",
    "breath_db = db.breath_collection\n",
    "train_db = db.train_collection\n",
    "\n",
    "train_db.find().count()"
   ]
  },
  {
   "cell_type": "code",
   "execution_count": 3,
   "metadata": {
    "collapsed": false
   },
   "outputs": [
    {
     "data": {
      "text/plain": [
       "1964338"
      ]
     },
     "execution_count": 3,
     "metadata": {},
     "output_type": "execute_result"
    }
   ],
   "source": [
    "breath_db.find().count()"
   ]
  },
  {
   "cell_type": "code",
   "execution_count": 4,
   "metadata": {
    "collapsed": true
   },
   "outputs": [],
   "source": [
    "def on_button_click(b):\n",
    "    global breaths\n",
    "\n",
    "    clear_output()\n",
    "    if results.alive:\n",
    "        if breaths != 1:\n",
    "            viz.update_database(breaths['_id'], w.selected_labels)\n",
    "\n",
    "        breaths = results.next()\n",
    "        df, breath_start, breath_end = viz.breath_viz(breaths['_id'])\n",
    "        p=viz.make_plot(df, breath_start, breath_end)\n",
    "        show(p)\n",
    "    else:\n",
    "        if breaths != 1:\n",
    "            viz.update_database(breaths['_id'], w.selected_labels)\n",
    "        clear_output()\n",
    "        print('No more')"
   ]
  },
  {
   "cell_type": "code",
   "execution_count": 5,
   "metadata": {
    "collapsed": false
   },
   "outputs": [
    {
     "data": {
      "text/plain": [
       "1873"
      ]
     },
     "execution_count": 5,
     "metadata": {},
     "output_type": "execute_result"
    }
   ],
   "source": [
    "train_db.find({'validation':{'$exists':1}}).count()"
   ]
  },
  {
   "cell_type": "code",
   "execution_count": 6,
   "metadata": {
    "collapsed": false
   },
   "outputs": [],
   "source": [
    "import pandas as pd\n",
    "val_df = pd.io.json.json_normalize(list(train_db.find({'validation':{'$exists':1}}, {'validation':1})))"
   ]
  },
  {
   "cell_type": "code",
   "execution_count": 7,
   "metadata": {
    "collapsed": false
   },
   "outputs": [],
   "source": [
    "val_df.replace({0:False, 1:True}, inplace=True)\n",
    "val_df = val_df[['validation.ds', 'validation.fa', 'validation.garb',\n",
    "       'validation.ie', 'validation.norm', 'validation.pds', 'validation.pfl',\n",
    "       'validation.pvt']].astype(bool)"
   ]
  },
  {
   "cell_type": "code",
   "execution_count": 8,
   "metadata": {
    "collapsed": false,
    "scrolled": true
   },
   "outputs": [
    {
     "data": {
      "text/plain": [
       "False    1721\n",
       "True      152\n",
       "Name: validation.ds, dtype: int64"
      ]
     },
     "execution_count": 8,
     "metadata": {},
     "output_type": "execute_result"
    }
   ],
   "source": [
    "val_df['validation.ds'].value_counts()"
   ]
  },
  {
   "cell_type": "code",
   "execution_count": 9,
   "metadata": {
    "collapsed": false
   },
   "outputs": [
    {
     "data": {
      "text/plain": [
       "False    1849\n",
       "True       24\n",
       "Name: validation.pds, dtype: int64"
      ]
     },
     "execution_count": 9,
     "metadata": {},
     "output_type": "execute_result"
    }
   ],
   "source": [
    "val_df['validation.pds'].value_counts()"
   ]
  },
  {
   "cell_type": "code",
   "execution_count": 10,
   "metadata": {
    "collapsed": false
   },
   "outputs": [
    {
     "data": {
      "text/plain": [
       "False    1403\n",
       "True      470\n",
       "Name: validation.pfl, dtype: int64"
      ]
     },
     "execution_count": 10,
     "metadata": {},
     "output_type": "execute_result"
    }
   ],
   "source": [
    "val_df['validation.pfl'].value_counts()"
   ]
  },
  {
   "cell_type": "code",
   "execution_count": 11,
   "metadata": {
    "collapsed": false
   },
   "outputs": [
    {
     "data": {
      "text/plain": [
       "False    1775\n",
       "True       98\n",
       "Name: validation.pvt, dtype: int64"
      ]
     },
     "execution_count": 11,
     "metadata": {},
     "output_type": "execute_result"
    }
   ],
   "source": [
    "val_df['validation.pvt'].value_counts()"
   ]
  },
  {
   "cell_type": "code",
   "execution_count": 12,
   "metadata": {
    "collapsed": false
   },
   "outputs": [
    {
     "data": {
      "text/plain": [
       "False    1549\n",
       "True      324\n",
       "Name: validation.ie, dtype: int64"
      ]
     },
     "execution_count": 12,
     "metadata": {},
     "output_type": "execute_result"
    }
   ],
   "source": [
    "val_df['validation.ie'].value_counts()"
   ]
  },
  {
   "cell_type": "code",
   "execution_count": 13,
   "metadata": {
    "collapsed": false
   },
   "outputs": [
    {
     "data": {
      "text/plain": [
       "False    989\n",
       "True     884\n",
       "Name: validation.norm, dtype: int64"
      ]
     },
     "execution_count": 13,
     "metadata": {},
     "output_type": "execute_result"
    }
   ],
   "source": [
    "val_df['validation.norm'].value_counts()"
   ]
  },
  {
   "cell_type": "code",
   "execution_count": 14,
   "metadata": {
    "collapsed": false,
    "scrolled": false
   },
   "outputs": [
    {
     "name": "stdout",
     "output_type": "stream",
     "text": [
      "find train breath\n",
      "find breath breath\n",
      "breath error: list index out of range 119/8350/2015-03-08 07:54:09/40374982\n",
      "[{'breath_raw': {'sm_dP/dTT': [nan, nan, 1.2285714285714286, 1.266666666666668, 0.5809523809523816, -0.34285714285714297, -0.3333333333333348, 0.2571428571428589, 0.20952380952380878, 0.6095238095238109, 0.5428571428571427, 0.5476190476190492, -1.8142857142857203, -1.266666666666664, -1.1428571428571423, 0.0714285714285694, 0.37142857142857544, 0.8761904761904713, -0.6761904761904756, -0.1476190476190471, 0.10476190476190439, 0.2142857142857153, 0.014285714285714235, 0.14761904761904887, 0.2952380952380942, 0.08571428571428541, -0.01904761904761898, -0.14761904761904532, -0.15238095238095717, 0.080952380952386, 0.08095238095237889, -0.0666666666666682, -0.09047619047618838, -0.1523809523809554, -0.16190476190475778, 0.057142857142855163, -0.004761904761906521, -0.03333333333333233, -0.02380952380952195, 0.04285714285714004], 'dF/dT': [21.599999999999998, -7.5, 17.85, 7.800000000000001, 11.549999999999997, 3.6000000000000014, 7.799999999999997, 1.0500000000000043, -0.45000000000000284, -2.3999999999999986, -4.5, -16.35, -11.25, -22.95, -52.2, 3.6000000000000014, -6.450000000000003, -1.1999999999999957, -5.850000000000001, -2.700000000000003, -1.1999999999999957, 1.0499999999999972, 3.75, 0.14999999999999858, 6.75, -8.25, 6.0, -1.3500000000000014, 3.1500000000000057, 1.0499999999999972, -4.950000000000003, 4.650000000000006, 1.5, 4.799999999999997, 4.200000000000003, 8.25, 11.399999999999999, 6.149999999999999, 12.9, 6.6], 'sm_dF/dT': [nan, 9.457142857142864, 8.714285714285722, 7.642857142857157, 11.385714285714286, 6.335714285714289, 5.000000000000014, 1.9499999999999957, 1.1499999999999986, -4.071428571428569, -6.44285714285715, -8.557142857142864, -23.192857142857164, -26.55714285714288, -23.785714285714306, -17.378571428571433, -7.314285714285731, 1.2999999999999972, -4.600000000000001, -2.6785714285714306, -1.0714285714285694, 0.6285714285714263, 3.4285714285714377, 1.5642857142857096, 1.3571428571428612, 0.06428571428570251, 0.557142857142864, 0.9642857142857153, 1.4571428571428626, -0.40714285714285836, 0.3142857142857167, 0.7000000000000028, 2.2071428571428555, 4.4571428571428555, 5.94285714285715, 7.400000000000013, 9.271428571428576, 10.071428571428578, 9.607142857142865, 7.735714285714292], 'dV/dT': [-375.0, 10.0, 15.0, 17.5, 35.0, 25.0, 47.5, 40.0, 30.0, 52.5, 17.5, 30.0, 10.0, 7.5, -25.0, -15.0, -32.5, -17.5, -30.0, -37.5, -22.5, -40.0, -20.0, -40.0, -27.5, -17.5, -37.5, -27.5, -27.5, -17.5, -27.5, -32.5, -27.5, -22.5, -15.0, -17.5, -17.5, -5.0, -5.0, 0.0], 'dF/dP': [-7.448275862068966, 3.0, 44.624999999999986, 6.500000000000002, 6.794117647058821, 5.142857142857143, 7.090909090909091, 1.5000000000000058, -0.3750000000000026, -0.923076923076922, -3.4615384615384643, -4.671428571428572, -5.921052631578946, -19.12500000000001, 10.440000000000001, 11.999999999999977, -21.499999999999957, 5.999999999999947, 4.875000000000004, 3.3750000000000004, -inf, -1.3124999999999982, -9.374999999999991, -0.49999999999999406, inf, -20.624999999999982, -60.00000000000021, -inf, -15.749999999999945, -5.250000000000004, 49.500000000000206, 46.50000000000022, -15.000000000000053, -6.8571428571428426, -14.000000000000059, -16.5, -22.799999999999997, -20.499999999999947, -16.125000000000004, -22.00000000000001], 'vol': [7.5, 17.5, 32.5, 50.0, 85.0, 110.0, 157.5, 197.5, 227.5, 280.0, 297.5, 327.5, 337.5, 345.0, 320.0, 305.0, 272.5, 255.0, 225.0, 187.5, 165.0, 125.0, 105.0, 65.0, 37.5, 20.0, -17.5, -45.0, -72.5, -90.0, -117.5, -150.0, -177.5, -200.0, -215.0, -232.5, -250.0, -255.0, -260.0, -260.0], 'dF/dV': [-0.05759999999999999, -0.75, 1.1900000000000002, 0.44571428571428573, 0.3299999999999999, 0.14400000000000004, 0.16421052631578942, 0.026250000000000107, -0.015000000000000095, -0.045714285714285686, -0.2571428571428571, -0.545, -1.125, -3.06, 2.088, -0.2400000000000001, 0.19846153846153855, 0.06857142857142833, 0.19500000000000003, 0.07200000000000008, 0.05333333333333314, -0.02624999999999993, -0.1875, -0.0037499999999999643, -0.24545454545454545, 0.4714285714285714, -0.16, 0.04909090909090914, -0.11454545454545476, -0.05999999999999984, 0.1800000000000001, -0.14307692307692324, -0.05454545454545454, -0.2133333333333332, -0.2800000000000002, -0.4714285714285714, -0.6514285714285714, -1.2299999999999998, -2.58, inf], 'sm_dP/dT': [nan, -1.5809523809523816, -0.3523809523809529, 0.914285714285715, 1.4952380952380966, 1.1523809523809536, 0.8190476190476188, 1.0761904761904777, 1.2857142857142865, 1.8952380952380974, 2.43809523809524, 2.9857142857142893, 1.171428571428569, -0.0952380952380949, -1.2380952380952372, -1.1666666666666679, -0.7952380952380924, 0.08095238095237889, -0.5952380952380967, -0.7428571428571438, -0.6380952380952394, -0.4238095238095241, -0.40952380952380985, -0.261904761904761, 0.033333333333333215, 0.11904761904761862, 0.09999999999999964, -0.047619047619045674, -0.20000000000000284, -0.11904761904761685, -0.03809523809523796, -0.10476190476190617, -0.19523809523809454, -0.34761904761904994, -0.5095238095238077, -0.45238095238095255, -0.45714285714285907, -0.4904761904761914, -0.5142857142857133, -0.4714285714285733], 'sm_dF/dTT': [nan, nan, -0.742857142857142, -1.0714285714285658, 3.7428571428571296, -5.049999999999997, -1.3357142857142748, -3.0500000000000185, -0.7999999999999972, -5.221428571428568, -2.3714285714285808, -2.114285714285714, -14.6357142857143, -3.364285714285714, 2.7714285714285722, 6.407142857142873, 10.064285714285703, 8.614285714285728, -5.899999999999999, 1.9214285714285708, 1.6071428571428612, 1.6999999999999957, 2.8000000000000114, -1.864285714285728, -0.2071428571428484, -1.2928571428571587, 0.49285714285716153, 0.40714285714285126, 0.4928571428571473, -1.864285714285721, 0.7214285714285751, 0.3857142857142861, 1.5071428571428527, 2.25, 1.4857142857142946, 1.4571428571428626, 1.871428571428563, 0.8000000000000025, -0.4642857142857135, -1.8714285714285728], 'sm_dV/dT': [nan, -98.452380952381, -37.61904761904766, 56.30952380952384, 27.97619047619051, 35.83333333333336, 37.02380952380955, 41.547619047619094, 40.47619047619051, 35.59523809523813, 30.59523809523813, 25.952380952380963, 9.404761904761926, 1.7857142857142776, -14.880952380952408, -20.952380952380906, -25.119047619047706, -26.666666666666686, -28.33333333333337, -30.714285714285722, -31.309523809523853, -31.071428571428584, -31.428571428571445, -29.40476190476194, -27.380952380952408, -29.523809523809547, -27.738095238095262, -27.50000000000002, -26.547619047619065, -23.928571428571473, -26.547619047619065, -28.21428571428575, -27.61904761904762, -22.50000000000003, -19.285714285714278, -15.952380952380963, -12.97619047619051, -34.166666666666714, 33.09523809523816, 74.5238095238096], 'sm_dV/dTT': [nan, nan, 60.83333333333334, 93.9285714285715, -28.33333333333333, 7.857142857142847, 1.1904761904761898, 4.523809523809547, -1.0714285714285836, -4.88095238095238, -5.0, -4.642857142857167, -16.547619047619037, -7.619047619047649, -16.666666666666686, -6.071428571428498, -4.166666666666799, -1.54761904761898, -1.6666666666666856, -2.380952380952351, -0.5952380952381304, 0.23809523809526922, -0.3571428571428612, 2.023809523809504, 2.0238095238095326, -2.142857142857139, 1.7857142857142847, 0.2380952380952408, 0.9523809523809561, 2.619047619047592, -2.619047619047592, -1.6666666666666856, 0.5952380952381304, 5.119047619047592, 3.214285714285751, 3.3333333333333144, 2.976190476190453, -21.190476190476204, 67.26190476190487, 41.428571428571445], 'sm_vol': [132.5000000000001, 34.04761904761911, -3.5714285714285516, 52.73809523809528, 80.7142857142858, 116.54761904761915, 153.5714285714287, 195.1190476190478, 235.5952380952383, 271.19047619047643, 301.78571428571456, 327.7380952380955, 337.14285714285745, 338.92857142857173, 324.0476190476193, 303.0952380952384, 277.9761904761907, 251.30952380952402, 222.97619047619065, 192.26190476190493, 160.95238095238108, 129.8809523809525, 98.45238095238105, 69.04761904761911, 41.6666666666667, 12.142857142857155, -15.595238095238107, -43.09523809523813, -69.6428571428572, -93.57142857142867, -120.11904761904773, -148.33333333333348, -175.9523809523811, -198.45238095238113, -217.7380952380954, -233.69047619047637, -246.66666666666688, -280.8333333333336, -247.73809523809544, -173.21428571428584], 'sm_paw': [3.65714285714286, 2.0761904761904786, 1.7238095238095257, 2.6380952380952407, 4.133333333333337, 5.285714285714291, 6.10476190476191, 7.180952380952387, 8.466666666666674, 10.361904761904771, 12.800000000000011, 15.7857142857143, 16.95714285714287, 16.861904761904775, 15.623809523809538, 14.45714285714287, 13.661904761904777, 13.742857142857156, 13.14761904761906, 12.404761904761916, 11.766666666666676, 11.342857142857152, 10.933333333333342, 10.671428571428581, 10.704761904761915, 10.823809523809533, 10.923809523809533, 10.876190476190487, 10.676190476190484, 10.557142857142868, 10.51904761904763, 10.414285714285723, 10.219047619047629, 9.871428571428579, 9.361904761904771, 8.909523809523819, 8.45238095238096, 7.961904761904768, 7.447619047619055, 6.976190476190482], 'dP/dT': [-2.8999999999999995, -2.5, 0.40000000000000013, 1.1999999999999997, 1.7000000000000002, 0.7000000000000002, 1.0999999999999996, 0.7000000000000002, 1.1999999999999993, 2.6000000000000014, 1.299999999999999, 3.5, 1.9000000000000004, 1.1999999999999993, -5.0, 0.3000000000000007, 0.3000000000000007, -0.20000000000000107, -1.1999999999999993, -0.8000000000000007, 0.0, -0.7999999999999989, -0.40000000000000036, -0.3000000000000007, 0.0, 0.40000000000000036, -0.09999999999999964, 0.0, -0.20000000000000107, -0.1999999999999993, -0.09999999999999964, 0.09999999999999964, -0.09999999999999964, -0.7000000000000011, -0.29999999999999893, -0.5, -0.5, -0.3000000000000007, -0.7999999999999998, -0.2999999999999998], 'paw': [3.7, 1.2, 1.6, 2.8, 4.5, 5.2, 6.3, 7.0, 8.2, 10.8, 12.1, 15.6, 17.5, 18.7, 13.7, 14.0, 14.3, 14.1, 12.9, 12.1, 12.1, 11.3, 10.9, 10.6, 10.6, 11.0, 10.9, 10.9, 10.7, 10.5, 10.4, 10.5, 10.4, 9.7, 9.4, 8.9, 8.4, 8.1, 7.3, 7.0], 'time': [40374982.0, 40375014.0, 40375046.0, 40375078.0, 40375110.0, 40375142.0, 40375174.0, 40375206.0, 40375238.0, 40375270.0, 40375302.0, 40375334.0, 40375366.0, 40375398.0, 40375430.0, 40375462.0, 40375494.0, 40375526.0, 40375558.0, 40375590.0, 40375622.0, 40375654.0, 40375686.0, 40375718.0, 40375750.0, 40375782.0, 40375814.0, 40375846.0, 40375878.0, 40375910.0, 40375942.0, 40375974.0, 40376006.0, 40376038.0, 40376070.0, 40376102.0, 40376134.0, 40376166.0, 40376198.0, 40376230.0], 'status': [2.0, 2.0, 2.0, 2.0, 2.0, 2.0, 2.0, 2.0, 2.0, 2.0, 2.0, 2.0, 2.0, 0.0, 0.0, 0.0, 0.0, 0.0, 0.0, 0.0, 0.0, 0.0, 0.0, 0.0, 0.0, 0.0, 0.0, 0.0, 0.0, 0.0, 0.0, 0.0, 0.0, 0.0, 0.0, 0.0, 0.0, 0.0, 0.0, 0.0], 'dP/dV': [0.007733333333333332, -0.25, 0.026666666666666675, 0.06857142857142856, 0.04857142857142858, 0.028000000000000008, 0.023157894736842096, 0.017500000000000005, 0.03999999999999997, 0.04952380952380955, 0.07428571428571422, 0.11666666666666667, 0.19000000000000003, 0.1599999999999999, 0.2, -0.02000000000000005, -0.009230769230769252, 0.01142857142857149, 0.03999999999999997, 0.021333333333333353, -0.0, 0.019999999999999973, 0.020000000000000018, 0.007500000000000018, -0.0, -0.022857142857142878, 0.002666666666666657, -0.0, 0.007272727272727312, 0.011428571428571389, 0.0036363636363636234, -0.003076923076923066, 0.0036363636363636234, 0.03111111111111116, 0.019999999999999928, 0.02857142857142857, 0.02857142857142857, 0.060000000000000143, 0.15999999999999998, -inf], 'flow': [18.45, 10.95, 28.8, 36.6, 48.15, 51.75, 59.55, 60.6, 60.15, 57.75, 53.25, 36.9, 25.65, 2.7, -49.5, -45.9, -52.35, -53.55, -59.4, -62.1, -63.3, -62.25, -58.5, -58.35, -51.6, -59.85, -53.85, -55.2, -52.05, -51.0, -55.95, -51.3, -49.8, -45.0, -40.8, -32.55, -21.15, -15.0, -2.1, 4.5], 'breath': [8350.0, 8350.0, 8350.0, 8350.0, 8350.0, 8350.0, 8350.0, 8350.0, 8350.0, 8350.0, 8350.0, 8350.0, 8350.0, 8350.0, 8350.0, 8350.0, 8350.0, 8350.0, 8350.0, 8350.0, 8350.0, 8350.0, 8350.0, 8350.0, 8350.0, 8350.0, 8350.0, 8350.0, 8350.0, 8350.0, 8350.0, 8350.0, 8350.0, 8350.0, 8350.0, 8350.0, 8350.0, 8350.0, 8350.0, 8350.0], 'sm_flow': [9.900000000000007, 19.357142857142872, 28.071428571428594, 35.71428571428575, 47.10000000000004, 53.435714285714326, 58.43571428571434, 60.385714285714336, 61.535714285714334, 57.464285714285765, 51.021428571428615, 42.46428571428575, 19.271428571428586, -7.285714285714291, -31.071428571428598, -48.45000000000003, -55.76428571428576, -54.464285714285765, -59.06428571428577, -61.7428571428572, -62.81428571428577, -62.18571428571434, -58.7571428571429, -57.19285714285719, -55.83571428571433, -55.77142857142863, -55.214285714285765, -54.25000000000005, -52.79285714285719, -53.200000000000045, -52.88571428571433, -52.185714285714326, -49.97857142857147, -45.521428571428615, -39.578571428571465, -32.17857142857145, -22.907142857142876, -12.835714285714298, -3.228571428571432, 4.50714285714286]}, 'file': '/media/veracrypt1/Research_Data/VentDysSedation/RawData/P119/hm_Waveform 15-03-07-20-41.txt', '_id': '119/8350/2015-03-08 07:54:09/40374982', 'breath_num': 8350}]\n"
     ]
    },
    {
     "data": {
      "text/html": [
       "\n",
       "\n",
       "    <div class=\"plotdiv\" id=\"a873efbc-0594-43e2-8ad8-ffc7f55aa47d\"></div>\n",
       "<script type=\"text/javascript\">\n",
       "  \n",
       "  (function(global) {\n",
       "    function now() {\n",
       "      return new Date();\n",
       "    }\n",
       "  \n",
       "    if (typeof (window._bokeh_onload_callbacks) === \"undefined\") {\n",
       "      window._bokeh_onload_callbacks = [];\n",
       "    }\n",
       "  \n",
       "    function run_callbacks() {\n",
       "      window._bokeh_onload_callbacks.forEach(function(callback) { callback() });\n",
       "      delete window._bokeh_onload_callbacks\n",
       "      console.info(\"Bokeh: all callbacks have finished\");\n",
       "    }\n",
       "  \n",
       "    function load_libs(js_urls, callback) {\n",
       "      window._bokeh_onload_callbacks.push(callback);\n",
       "      if (window._bokeh_is_loading > 0) {\n",
       "        console.log(\"Bokeh: BokehJS is being loaded, scheduling callback at\", now());\n",
       "        return null;\n",
       "      }\n",
       "      if (js_urls == null || js_urls.length === 0) {\n",
       "        run_callbacks();\n",
       "        return null;\n",
       "      }\n",
       "      console.log(\"Bokeh: BokehJS not loaded, scheduling load and callback at\", now());\n",
       "      window._bokeh_is_loading = js_urls.length;\n",
       "      for (var i = 0; i < js_urls.length; i++) {\n",
       "        var url = js_urls[i];\n",
       "        var s = document.createElement('script');\n",
       "        s.src = url;\n",
       "        s.async = false;\n",
       "        s.onreadystatechange = s.onload = function() {\n",
       "          window._bokeh_is_loading--;\n",
       "          if (window._bokeh_is_loading === 0) {\n",
       "            console.log(\"Bokeh: all BokehJS libraries loaded\");\n",
       "            run_callbacks()\n",
       "          }\n",
       "        };\n",
       "        s.onerror = function() {\n",
       "          console.warn(\"failed to load library \" + url);\n",
       "        };\n",
       "        console.log(\"Bokeh: injecting script tag for BokehJS library: \", url);\n",
       "        document.getElementsByTagName(\"head\")[0].appendChild(s);\n",
       "      }\n",
       "    };var element = document.getElementById(\"a873efbc-0594-43e2-8ad8-ffc7f55aa47d\");\n",
       "    if (element == null) {\n",
       "      console.log(\"Bokeh: ERROR: autoload.js configured with elementid 'a873efbc-0594-43e2-8ad8-ffc7f55aa47d' but no matching script tag was found. \")\n",
       "      return false;\n",
       "    }\n",
       "  \n",
       "    var js_urls = [];\n",
       "  \n",
       "    var inline_js = [\n",
       "      function(Bokeh) {\n",
       "        Bokeh.$(function() {\n",
       "            var docs_json = {\"41f72ed0-7cf7-4d47-8048-a5d8321b79e1\":{\"roots\":{\"references\":[{\"attributes\":{\"line_alpha\":{\"value\":0.1},\"line_color\":{\"value\":\"#1f77b4\"},\"x\":{\"field\":\"x\"},\"y\":{\"field\":\"y\"}},\"id\":\"d92b3e31-f878-4963-8e80-12ddab1c4cb8\",\"type\":\"Line\"},{\"attributes\":{\"plot\":{\"id\":\"c7dd01af-8251-4eab-ae96-e7c361596acf\",\"subtype\":\"Figure\",\"type\":\"Plot\"},\"ticker\":{\"id\":\"0709033b-eeff-4c13-a245-4ce878d56f53\",\"type\":\"BasicTicker\"}},\"id\":\"b90570a0-78da-4581-aaf2-30d532b6a741\",\"type\":\"Grid\"},{\"attributes\":{\"below\":[{\"id\":\"421f56f7-96e9-421a-8fcf-f1d72ae17afd\",\"type\":\"LinearAxis\"}],\"left\":[{\"id\":\"99d0156e-f39e-4772-9648-b62dcbd0e76e\",\"type\":\"LinearAxis\"}],\"plot_height\":250,\"renderers\":[{\"id\":\"421f56f7-96e9-421a-8fcf-f1d72ae17afd\",\"type\":\"LinearAxis\"},{\"id\":\"b90570a0-78da-4581-aaf2-30d532b6a741\",\"type\":\"Grid\"},{\"id\":\"99d0156e-f39e-4772-9648-b62dcbd0e76e\",\"type\":\"LinearAxis\"},{\"id\":\"041533d4-7a84-447b-a27e-fcd7775da931\",\"type\":\"Grid\"},{\"id\":\"4c088df3-5d30-44ae-9832-916a603cec23\",\"type\":\"BoxAnnotation\"},{\"id\":\"dc9d8816-1ed9-47a3-b03c-6a7694038bd8\",\"type\":\"GlyphRenderer\"},{\"id\":\"283010d4-9293-4059-a1ff-3643ab30e722\",\"type\":\"GlyphRenderer\"},{\"id\":\"0b67142e-c699-48eb-928c-0e7a1b80327f\",\"type\":\"GlyphRenderer\"}],\"tool_events\":{\"id\":\"08047a81-01d3-43cf-8ac2-39d28468d4be\",\"type\":\"ToolEvents\"},\"toolbar_location\":\"right\",\"tools\":[{\"id\":\"b52eb9e6-38af-4588-980a-5b991058c124\",\"type\":\"PanTool\"},{\"id\":\"f41c3718-9064-45ca-8f8b-0d4525441877\",\"type\":\"WheelZoomTool\"},{\"id\":\"3772cb8b-35d6-4128-beff-df1641d1bfcd\",\"type\":\"BoxZoomTool\"},{\"id\":\"99890e19-3f50-4321-a977-3ff819071529\",\"type\":\"PreviewSaveTool\"},{\"id\":\"0d925406-eb75-417d-b7c5-6a69869254b4\",\"type\":\"ResizeTool\"},{\"id\":\"66dc5246-859a-4163-8774-c3daa84deeb2\",\"type\":\"ResetTool\"},{\"id\":\"e3bc1cb1-5f1e-4826-881c-8136438ccb10\",\"type\":\"HelpTool\"}],\"x_range\":{\"id\":\"bdd02ee0-f7e2-41d7-821d-f7756448afc5\",\"type\":\"DataRange1d\"},\"y_range\":{\"id\":\"63ea066a-0857-4a79-9f20-63be1ed7f45f\",\"type\":\"DataRange1d\"}},\"id\":\"c7dd01af-8251-4eab-ae96-e7c361596acf\",\"subtype\":\"Figure\",\"type\":\"Plot\"},{\"attributes\":{\"axis_label\":\"Flow\",\"formatter\":{\"id\":\"eb281e18-f9e4-4228-8457-afa2bce8b578\",\"type\":\"BasicTickFormatter\"},\"plot\":{\"id\":\"c7dd01af-8251-4eab-ae96-e7c361596acf\",\"subtype\":\"Figure\",\"type\":\"Plot\"},\"ticker\":{\"id\":\"d54e6426-c861-4e7d-af57-737c1c0d5f03\",\"type\":\"BasicTicker\"}},\"id\":\"99d0156e-f39e-4772-9648-b62dcbd0e76e\",\"type\":\"LinearAxis\"},{\"attributes\":{},\"id\":\"5cee48b5-a658-4606-b011-fedb9f89fcb8\",\"type\":\"BasicTickFormatter\"},{\"attributes\":{\"plot\":{\"id\":\"f9bcb1c9-3176-4cf6-ad20-d707790768fb\",\"subtype\":\"Figure\",\"type\":\"Plot\"}},\"id\":\"e2f281a2-96c0-4987-9876-e8d719d0aaf2\",\"type\":\"PanTool\"},{\"attributes\":{},\"id\":\"ca828b34-4e06-4ec3-b2e7-52da51dfbd0e\",\"type\":\"BasicTickFormatter\"},{\"attributes\":{\"data_source\":{\"id\":\"a76b400d-d718-497b-822d-7475cfe2927a\",\"type\":\"ColumnDataSource\"},\"glyph\":{\"id\":\"972c4534-1bb1-4f16-bafa-34057c780605\",\"type\":\"Line\"},\"hover_glyph\":null,\"nonselection_glyph\":{\"id\":\"d92b3e31-f878-4963-8e80-12ddab1c4cb8\",\"type\":\"Line\"},\"selection_glyph\":null},\"id\":\"50392ed3-2db2-4f8b-b479-51c4b5586ce8\",\"type\":\"GlyphRenderer\"},{\"attributes\":{},\"id\":\"d54e6426-c861-4e7d-af57-737c1c0d5f03\",\"type\":\"BasicTicker\"},{\"attributes\":{\"line_alpha\":{\"value\":0.1},\"line_color\":{\"value\":\"#1f77b4\"},\"x\":{\"field\":\"x\"},\"y\":{\"field\":\"y\"}},\"id\":\"c5d7c5f8-31f9-48d7-89ea-824ac413ef5a\",\"type\":\"Line\"},{\"attributes\":{\"plot\":{\"id\":\"a76bddc3-7819-42e8-9fe4-2928ed39dc75\",\"subtype\":\"Figure\",\"type\":\"Plot\"}},\"id\":\"4922419d-20f1-414e-a396-11c7cb5f570b\",\"type\":\"ResizeTool\"},{\"attributes\":{\"line_alpha\":{\"value\":0.1},\"line_color\":{\"value\":\"#1f77b4\"},\"x\":{\"field\":\"x\"},\"y\":{\"field\":\"y\"}},\"id\":\"d1fdb689-a10c-4126-8895-3e7f227a5f0b\",\"type\":\"Line\"},{\"attributes\":{\"data_source\":{\"id\":\"d94307ab-4143-4a36-ada8-d862c0ba3f6d\",\"type\":\"ColumnDataSource\"},\"glyph\":{\"id\":\"4ee3419e-bfc9-4b9d-bfc3-0b4dacef76ef\",\"type\":\"Line\"},\"hover_glyph\":null,\"name\":\"Paw\",\"nonselection_glyph\":{\"id\":\"0647c053-ffd4-4ec7-b130-4488a5a54723\",\"type\":\"Line\"},\"selection_glyph\":null},\"id\":\"d0bd0453-ac21-46bc-bd69-a62c266702f7\",\"type\":\"GlyphRenderer\"},{\"attributes\":{\"below\":[{\"id\":\"63cc88b3-ab39-458d-b427-8273662f4f8f\",\"type\":\"LinearAxis\"}],\"left\":[{\"id\":\"aa0894f4-fa4e-410c-9e2e-5abbd2cb8471\",\"type\":\"LinearAxis\"}],\"plot_height\":250,\"renderers\":[{\"id\":\"63cc88b3-ab39-458d-b427-8273662f4f8f\",\"type\":\"LinearAxis\"},{\"id\":\"467720bb-d8ea-4498-a0d4-b535c79a9118\",\"type\":\"Grid\"},{\"id\":\"aa0894f4-fa4e-410c-9e2e-5abbd2cb8471\",\"type\":\"LinearAxis\"},{\"id\":\"5f38248f-6829-4e09-9f28-711c2ad15cdf\",\"type\":\"Grid\"},{\"id\":\"b8842b70-4af6-4db4-9623-7951225b9591\",\"type\":\"BoxAnnotation\"},{\"id\":\"e6510e9f-e3b4-4406-9b4d-c78c582bbc3d\",\"type\":\"GlyphRenderer\"},{\"id\":\"e6bfc565-bcc5-4440-bb3e-d2aeb88ccfec\",\"type\":\"GlyphRenderer\"},{\"id\":\"3ff21c9d-a735-4c8c-b8ae-856b0e1c377b\",\"type\":\"GlyphRenderer\"}],\"tool_events\":{\"id\":\"6428845a-0546-41e5-85e1-bba644ffeae8\",\"type\":\"ToolEvents\"},\"toolbar_location\":\"right\",\"tools\":[{\"id\":\"0da7a4a3-0a18-4bad-b528-19bb435e4416\",\"type\":\"PanTool\"},{\"id\":\"67ee064a-5267-45d5-bf80-9bea79c2decd\",\"type\":\"WheelZoomTool\"},{\"id\":\"ae0d1ec6-2487-48dd-ac7d-46b8e1464341\",\"type\":\"BoxZoomTool\"},{\"id\":\"76da38c7-28e5-4b20-b4b0-1cf944b38564\",\"type\":\"PreviewSaveTool\"},{\"id\":\"4922419d-20f1-414e-a396-11c7cb5f570b\",\"type\":\"ResizeTool\"},{\"id\":\"26ebded9-5676-424d-a28f-39576825b9e0\",\"type\":\"ResetTool\"},{\"id\":\"093eb802-303a-4e8e-b0fb-e26d3ec02c3c\",\"type\":\"HelpTool\"}],\"x_range\":{\"id\":\"fe980994-c1f1-4906-8dd9-a0206f3739a7\",\"type\":\"DataRange1d\"},\"y_range\":{\"id\":\"9fe2a0a6-18f1-48c7-8fdc-6d26f8d8d367\",\"type\":\"DataRange1d\"}},\"id\":\"a76bddc3-7819-42e8-9fe4-2928ed39dc75\",\"subtype\":\"Figure\",\"type\":\"Plot\"},{\"attributes\":{\"formatter\":{\"id\":\"aa84b515-173a-4914-a29d-8415a8b29fee\",\"type\":\"BasicTickFormatter\"},\"plot\":{\"id\":\"c7dd01af-8251-4eab-ae96-e7c361596acf\",\"subtype\":\"Figure\",\"type\":\"Plot\"},\"ticker\":{\"id\":\"0709033b-eeff-4c13-a245-4ce878d56f53\",\"type\":\"BasicTicker\"}},\"id\":\"421f56f7-96e9-421a-8fcf-f1d72ae17afd\",\"type\":\"LinearAxis\"},{\"attributes\":{\"data_source\":{\"id\":\"036ef5e2-7693-4483-8e58-b4e24fd98b83\",\"type\":\"ColumnDataSource\"},\"glyph\":{\"id\":\"3e22bd31-63ae-4d3a-9d62-d2f494e03bad\",\"type\":\"Line\"},\"hover_glyph\":null,\"name\":\"Flow\",\"nonselection_glyph\":{\"id\":\"2d055131-1db7-4ff3-8a89-65ebef146545\",\"type\":\"Line\"},\"selection_glyph\":null},\"id\":\"dc9d8816-1ed9-47a3-b03c-6a7694038bd8\",\"type\":\"GlyphRenderer\"},{\"attributes\":{\"dimension\":1,\"plot\":{\"id\":\"a76bddc3-7819-42e8-9fe4-2928ed39dc75\",\"subtype\":\"Figure\",\"type\":\"Plot\"},\"ticker\":{\"id\":\"60d55990-c66a-46ad-b3b9-e7371d91302a\",\"type\":\"BasicTicker\"}},\"id\":\"5f38248f-6829-4e09-9f28-711c2ad15cdf\",\"type\":\"Grid\"},{\"attributes\":{\"data_source\":{\"id\":\"d5d0965f-6c23-4a62-b14a-4ecd18680906\",\"type\":\"ColumnDataSource\"},\"glyph\":{\"id\":\"758d7a1c-f4c0-4bf0-808a-a1bb21475c63\",\"type\":\"Line\"},\"hover_glyph\":null,\"nonselection_glyph\":{\"id\":\"cf8a160c-67cb-47b2-8e73-6bd9d4b9365f\",\"type\":\"Line\"},\"selection_glyph\":null},\"id\":\"243bae27-8945-4915-94f0-343c2dc42a34\",\"type\":\"GlyphRenderer\"},{\"attributes\":{\"line_color\":{\"value\":\"navy\"},\"x\":{\"field\":\"x\"},\"y\":{\"field\":\"y\"}},\"id\":\"4ee3419e-bfc9-4b9d-bfc3-0b4dacef76ef\",\"type\":\"Line\"},{\"attributes\":{\"callback\":null},\"id\":\"e8cdccea-22ef-480b-abbb-b921b9bfeccf\",\"type\":\"DataRange1d\"},{\"attributes\":{\"plot\":{\"id\":\"c7dd01af-8251-4eab-ae96-e7c361596acf\",\"subtype\":\"Figure\",\"type\":\"Plot\"}},\"id\":\"f41c3718-9064-45ca-8f8b-0d4525441877\",\"type\":\"WheelZoomTool\"},{\"attributes\":{\"line_color\":{\"value\":\"olive\"},\"x\":{\"field\":\"x\"},\"y\":{\"field\":\"y\"}},\"id\":\"5387c01d-4fff-44ed-8584-8d4e3b2d0438\",\"type\":\"Line\"},{\"attributes\":{},\"id\":\"0709033b-eeff-4c13-a245-4ce878d56f53\",\"type\":\"BasicTicker\"},{\"attributes\":{\"callback\":null,\"column_names\":[\"x\",\"y\"],\"data\":{\"x\":[],\"y\":[]}},\"id\":\"036ef5e2-7693-4483-8e58-b4e24fd98b83\",\"type\":\"ColumnDataSource\"},{\"attributes\":{\"axis_label\":\"Volume\",\"formatter\":{\"id\":\"ca828b34-4e06-4ec3-b2e7-52da51dfbd0e\",\"type\":\"BasicTickFormatter\"},\"plot\":{\"id\":\"a76bddc3-7819-42e8-9fe4-2928ed39dc75\",\"subtype\":\"Figure\",\"type\":\"Plot\"},\"ticker\":{\"id\":\"60d55990-c66a-46ad-b3b9-e7371d91302a\",\"type\":\"BasicTicker\"}},\"id\":\"aa0894f4-fa4e-410c-9e2e-5abbd2cb8471\",\"type\":\"LinearAxis\"},{\"attributes\":{\"plot\":{\"id\":\"a76bddc3-7819-42e8-9fe4-2928ed39dc75\",\"subtype\":\"Figure\",\"type\":\"Plot\"},\"ticker\":{\"id\":\"c37cd209-a8ba-47cf-8581-a6a8eef25d32\",\"type\":\"BasicTicker\"}},\"id\":\"467720bb-d8ea-4498-a0d4-b535c79a9118\",\"type\":\"Grid\"},{\"attributes\":{\"below\":[{\"id\":\"aca5bf53-e2e1-4ba3-b2da-f8a9326bd629\",\"type\":\"LinearAxis\"}],\"left\":[{\"id\":\"05dd6b80-25b8-4e6e-b7c5-817086864a8e\",\"type\":\"LinearAxis\"}],\"plot_height\":250,\"renderers\":[{\"id\":\"aca5bf53-e2e1-4ba3-b2da-f8a9326bd629\",\"type\":\"LinearAxis\"},{\"id\":\"0e4dddfb-d879-43c6-9964-e51d3f849162\",\"type\":\"Grid\"},{\"id\":\"05dd6b80-25b8-4e6e-b7c5-817086864a8e\",\"type\":\"LinearAxis\"},{\"id\":\"00dd73e7-b05a-46af-972a-f1af84db0e50\",\"type\":\"Grid\"},{\"id\":\"8bba8754-7625-434e-b80c-041537d78f5a\",\"type\":\"BoxAnnotation\"},{\"id\":\"d0bd0453-ac21-46bc-bd69-a62c266702f7\",\"type\":\"GlyphRenderer\"},{\"id\":\"50392ed3-2db2-4f8b-b479-51c4b5586ce8\",\"type\":\"GlyphRenderer\"},{\"id\":\"243bae27-8945-4915-94f0-343c2dc42a34\",\"type\":\"GlyphRenderer\"}],\"tool_events\":{\"id\":\"fd2424fb-4217-46ad-9603-c3e2b221d107\",\"type\":\"ToolEvents\"},\"toolbar_location\":\"right\",\"tools\":[{\"id\":\"e2f281a2-96c0-4987-9876-e8d719d0aaf2\",\"type\":\"PanTool\"},{\"id\":\"0c722ac6-f393-4d6b-bbe4-9ffecff80062\",\"type\":\"WheelZoomTool\"},{\"id\":\"363cbe74-21d5-4100-9ceb-a517268cf134\",\"type\":\"BoxZoomTool\"},{\"id\":\"b32047b0-93de-4ac8-b9ec-e30ac36d16fa\",\"type\":\"PreviewSaveTool\"},{\"id\":\"6fb81bff-1a24-46cb-a1a5-5edc78b2f1bb\",\"type\":\"ResizeTool\"},{\"id\":\"aaa8509e-060b-4fe9-ba51-3d357486926d\",\"type\":\"ResetTool\"},{\"id\":\"c9dd8f1f-fca9-484c-8390-76d9bd911e07\",\"type\":\"HelpTool\"}],\"x_range\":{\"id\":\"e8cdccea-22ef-480b-abbb-b921b9bfeccf\",\"type\":\"DataRange1d\"},\"y_range\":{\"id\":\"39ab578d-08c1-494e-9f5d-297d4e087c3b\",\"type\":\"DataRange1d\"}},\"id\":\"f9bcb1c9-3176-4cf6-ad20-d707790768fb\",\"subtype\":\"Figure\",\"type\":\"Plot\"},{\"attributes\":{\"line_alpha\":{\"value\":0.1},\"line_color\":{\"value\":\"#1f77b4\"},\"x\":{\"field\":\"x\"},\"y\":{\"field\":\"y\"}},\"id\":\"2d055131-1db7-4ff3-8a89-65ebef146545\",\"type\":\"Line\"},{\"attributes\":{\"plot\":{\"id\":\"a76bddc3-7819-42e8-9fe4-2928ed39dc75\",\"subtype\":\"Figure\",\"type\":\"Plot\"}},\"id\":\"76da38c7-28e5-4b20-b4b0-1cf944b38564\",\"type\":\"PreviewSaveTool\"},{\"attributes\":{\"callback\":null,\"column_names\":[\"x\",\"y\"],\"data\":{\"x\":[0,0],\"y\":[0,400]}},\"id\":\"eafd0536-ce22-4c57-8900-c2fb052e764e\",\"type\":\"ColumnDataSource\"},{\"attributes\":{},\"id\":\"6a2e1597-b393-45cf-86bf-3a2756bf9595\",\"type\":\"BasicTicker\"},{\"attributes\":{\"line_color\":{\"value\":\"green\"},\"x\":{\"field\":\"x\"},\"y\":{\"field\":\"y\"}},\"id\":\"758d7a1c-f4c0-4bf0-808a-a1bb21475c63\",\"type\":\"Line\"},{\"attributes\":{\"line_alpha\":{\"value\":0.1},\"line_color\":{\"value\":\"#1f77b4\"},\"x\":{\"field\":\"x\"},\"y\":{\"field\":\"y\"}},\"id\":\"0647c053-ffd4-4ec7-b130-4488a5a54723\",\"type\":\"Line\"},{\"attributes\":{\"formatter\":{\"id\":\"58473065-9e97-422e-b011-a20d02be16e0\",\"type\":\"BasicTickFormatter\"},\"plot\":{\"id\":\"f9bcb1c9-3176-4cf6-ad20-d707790768fb\",\"subtype\":\"Figure\",\"type\":\"Plot\"},\"ticker\":{\"id\":\"4617007e-df94-4434-b751-4a43b103b069\",\"type\":\"BasicTicker\"}},\"id\":\"aca5bf53-e2e1-4ba3-b2da-f8a9326bd629\",\"type\":\"LinearAxis\"},{\"attributes\":{\"overlay\":{\"id\":\"8bba8754-7625-434e-b80c-041537d78f5a\",\"type\":\"BoxAnnotation\"},\"plot\":{\"id\":\"f9bcb1c9-3176-4cf6-ad20-d707790768fb\",\"subtype\":\"Figure\",\"type\":\"Plot\"}},\"id\":\"363cbe74-21d5-4100-9ceb-a517268cf134\",\"type\":\"BoxZoomTool\"},{\"attributes\":{},\"id\":\"c37cd209-a8ba-47cf-8581-a6a8eef25d32\",\"type\":\"BasicTicker\"},{\"attributes\":{\"plot\":{\"id\":\"f9bcb1c9-3176-4cf6-ad20-d707790768fb\",\"subtype\":\"Figure\",\"type\":\"Plot\"}},\"id\":\"b32047b0-93de-4ac8-b9ec-e30ac36d16fa\",\"type\":\"PreviewSaveTool\"},{\"attributes\":{\"plot\":{\"id\":\"a76bddc3-7819-42e8-9fe4-2928ed39dc75\",\"subtype\":\"Figure\",\"type\":\"Plot\"}},\"id\":\"0da7a4a3-0a18-4bad-b528-19bb435e4416\",\"type\":\"PanTool\"},{\"attributes\":{},\"id\":\"eb281e18-f9e4-4228-8457-afa2bce8b578\",\"type\":\"BasicTickFormatter\"},{\"attributes\":{\"callback\":null,\"column_names\":[\"x\",\"y\"],\"data\":{\"x\":[0,0],\"y\":[0,40]}},\"id\":\"a76b400d-d718-497b-822d-7475cfe2927a\",\"type\":\"ColumnDataSource\"},{\"attributes\":{},\"id\":\"58473065-9e97-422e-b011-a20d02be16e0\",\"type\":\"BasicTickFormatter\"},{\"attributes\":{\"callback\":null},\"id\":\"63ea066a-0857-4a79-9f20-63be1ed7f45f\",\"type\":\"DataRange1d\"},{\"attributes\":{\"bottom_units\":\"screen\",\"fill_alpha\":{\"value\":0.5},\"fill_color\":{\"value\":\"lightgrey\"},\"left_units\":\"screen\",\"level\":\"overlay\",\"line_alpha\":{\"value\":1.0},\"line_color\":{\"value\":\"black\"},\"line_dash\":[4,4],\"line_width\":{\"value\":2},\"plot\":null,\"render_mode\":\"css\",\"right_units\":\"screen\",\"top_units\":\"screen\"},\"id\":\"b8842b70-4af6-4db4-9623-7951225b9591\",\"type\":\"BoxAnnotation\"},{\"attributes\":{\"dimension\":1,\"plot\":{\"id\":\"c7dd01af-8251-4eab-ae96-e7c361596acf\",\"subtype\":\"Figure\",\"type\":\"Plot\"},\"ticker\":{\"id\":\"d54e6426-c861-4e7d-af57-737c1c0d5f03\",\"type\":\"BasicTicker\"}},\"id\":\"041533d4-7a84-447b-a27e-fcd7775da931\",\"type\":\"Grid\"},{\"attributes\":{\"line_color\":{\"value\":\"green\"},\"x\":{\"field\":\"x\"},\"y\":{\"field\":\"y\"}},\"id\":\"c0c29cdb-1995-4d9c-a387-0192d043f2b3\",\"type\":\"Line\"},{\"attributes\":{\"overlay\":{\"id\":\"b8842b70-4af6-4db4-9623-7951225b9591\",\"type\":\"BoxAnnotation\"},\"plot\":{\"id\":\"a76bddc3-7819-42e8-9fe4-2928ed39dc75\",\"subtype\":\"Figure\",\"type\":\"Plot\"}},\"id\":\"ae0d1ec6-2487-48dd-ac7d-46b8e1464341\",\"type\":\"BoxZoomTool\"},{\"attributes\":{\"callback\":null,\"column_names\":[\"x\",\"y\"],\"data\":{\"x\":[0,0],\"y\":[-40,40]}},\"id\":\"e5252720-abfd-4d9a-a063-ac219e0c5264\",\"type\":\"ColumnDataSource\"},{\"attributes\":{\"data_source\":{\"id\":\"6fab2a97-65c5-4fb4-80b4-157474a97fd3\",\"type\":\"ColumnDataSource\"},\"glyph\":{\"id\":\"5387c01d-4fff-44ed-8584-8d4e3b2d0438\",\"type\":\"Line\"},\"hover_glyph\":null,\"name\":\"Volume\",\"nonselection_glyph\":{\"id\":\"614d9c64-5d41-4f10-a518-5b15d65c026a\",\"type\":\"Line\"},\"selection_glyph\":null},\"id\":\"e6510e9f-e3b4-4406-9b4d-c78c582bbc3d\",\"type\":\"GlyphRenderer\"},{\"attributes\":{\"callback\":null,\"column_names\":[\"x\",\"y\"],\"data\":{\"x\":[0,0],\"y\":[-40,40]}},\"id\":\"a52fdfe4-7350-4467-adef-73fd45b1d464\",\"type\":\"ColumnDataSource\"},{\"attributes\":{\"data_source\":{\"id\":\"e5252720-abfd-4d9a-a063-ac219e0c5264\",\"type\":\"ColumnDataSource\"},\"glyph\":{\"id\":\"ed402d52-c123-4cc2-8e83-b88796ee2812\",\"type\":\"Line\"},\"hover_glyph\":null,\"nonselection_glyph\":{\"id\":\"a2a6b2b5-f647-41ef-a3bb-2b33ba8f3374\",\"type\":\"Line\"},\"selection_glyph\":null},\"id\":\"0b67142e-c699-48eb-928c-0e7a1b80327f\",\"type\":\"GlyphRenderer\"},{\"attributes\":{\"dimension\":1,\"plot\":{\"id\":\"f9bcb1c9-3176-4cf6-ad20-d707790768fb\",\"subtype\":\"Figure\",\"type\":\"Plot\"},\"ticker\":{\"id\":\"6a2e1597-b393-45cf-86bf-3a2756bf9595\",\"type\":\"BasicTicker\"}},\"id\":\"00dd73e7-b05a-46af-972a-f1af84db0e50\",\"type\":\"Grid\"},{\"attributes\":{\"line_alpha\":{\"value\":0.1},\"line_color\":{\"value\":\"#1f77b4\"},\"x\":{\"field\":\"x\"},\"y\":{\"field\":\"y\"}},\"id\":\"614d9c64-5d41-4f10-a518-5b15d65c026a\",\"type\":\"Line\"},{\"attributes\":{\"formatter\":{\"id\":\"5cee48b5-a658-4606-b011-fedb9f89fcb8\",\"type\":\"BasicTickFormatter\"},\"plot\":{\"id\":\"a76bddc3-7819-42e8-9fe4-2928ed39dc75\",\"subtype\":\"Figure\",\"type\":\"Plot\"},\"ticker\":{\"id\":\"c37cd209-a8ba-47cf-8581-a6a8eef25d32\",\"type\":\"BasicTicker\"}},\"id\":\"63cc88b3-ab39-458d-b427-8273662f4f8f\",\"type\":\"LinearAxis\"},{\"attributes\":{\"plot\":{\"id\":\"f9bcb1c9-3176-4cf6-ad20-d707790768fb\",\"subtype\":\"Figure\",\"type\":\"Plot\"}},\"id\":\"0c722ac6-f393-4d6b-bbe4-9ffecff80062\",\"type\":\"WheelZoomTool\"},{\"attributes\":{\"plot\":{\"id\":\"a76bddc3-7819-42e8-9fe4-2928ed39dc75\",\"subtype\":\"Figure\",\"type\":\"Plot\"}},\"id\":\"26ebded9-5676-424d-a28f-39576825b9e0\",\"type\":\"ResetTool\"},{\"attributes\":{\"plot\":{\"id\":\"c7dd01af-8251-4eab-ae96-e7c361596acf\",\"subtype\":\"Figure\",\"type\":\"Plot\"}},\"id\":\"e3bc1cb1-5f1e-4826-881c-8136438ccb10\",\"type\":\"HelpTool\"},{\"attributes\":{\"plot\":{\"id\":\"a76bddc3-7819-42e8-9fe4-2928ed39dc75\",\"subtype\":\"Figure\",\"type\":\"Plot\"}},\"id\":\"093eb802-303a-4e8e-b0fb-e26d3ec02c3c\",\"type\":\"HelpTool\"},{\"attributes\":{\"line_color\":{\"value\":\"green\"},\"x\":{\"field\":\"x\"},\"y\":{\"field\":\"y\"}},\"id\":\"93ae353a-f4bc-4723-b58a-77a3e8e34877\",\"type\":\"Line\"},{\"attributes\":{\"line_alpha\":{\"value\":0.1},\"line_color\":{\"value\":\"#1f77b4\"},\"x\":{\"field\":\"x\"},\"y\":{\"field\":\"y\"}},\"id\":\"93920e9a-bf35-4068-b6dc-3f038f2db88e\",\"type\":\"Line\"},{\"attributes\":{},\"id\":\"dd38b830-ab98-4967-9e07-caa6c7907c53\",\"type\":\"BasicTickFormatter\"},{\"attributes\":{\"line_color\":{\"value\":\"green\"},\"x\":{\"field\":\"x\"},\"y\":{\"field\":\"y\"}},\"id\":\"ed402d52-c123-4cc2-8e83-b88796ee2812\",\"type\":\"Line\"},{\"attributes\":{\"callback\":null},\"id\":\"39ab578d-08c1-494e-9f5d-297d4e087c3b\",\"type\":\"DataRange1d\"},{\"attributes\":{\"axis_label\":\"Paw\",\"formatter\":{\"id\":\"dd38b830-ab98-4967-9e07-caa6c7907c53\",\"type\":\"BasicTickFormatter\"},\"plot\":{\"id\":\"f9bcb1c9-3176-4cf6-ad20-d707790768fb\",\"subtype\":\"Figure\",\"type\":\"Plot\"},\"ticker\":{\"id\":\"6a2e1597-b393-45cf-86bf-3a2756bf9595\",\"type\":\"BasicTicker\"}},\"id\":\"05dd6b80-25b8-4e6e-b7c5-817086864a8e\",\"type\":\"LinearAxis\"},{\"attributes\":{},\"id\":\"6428845a-0546-41e5-85e1-bba644ffeae8\",\"type\":\"ToolEvents\"},{\"attributes\":{\"plot\":{\"id\":\"a76bddc3-7819-42e8-9fe4-2928ed39dc75\",\"subtype\":\"Figure\",\"type\":\"Plot\"}},\"id\":\"67ee064a-5267-45d5-bf80-9bea79c2decd\",\"type\":\"WheelZoomTool\"},{\"attributes\":{\"line_alpha\":{\"value\":0.1},\"line_color\":{\"value\":\"#1f77b4\"},\"x\":{\"field\":\"x\"},\"y\":{\"field\":\"y\"}},\"id\":\"a2a6b2b5-f647-41ef-a3bb-2b33ba8f3374\",\"type\":\"Line\"},{\"attributes\":{\"callback\":null,\"column_names\":[\"x\",\"y\"],\"data\":{\"x\":[0,0],\"y\":[0,40]}},\"id\":\"d5d0965f-6c23-4a62-b14a-4ecd18680906\",\"type\":\"ColumnDataSource\"},{\"attributes\":{\"line_alpha\":{\"value\":0.1},\"line_color\":{\"value\":\"#1f77b4\"},\"x\":{\"field\":\"x\"},\"y\":{\"field\":\"y\"}},\"id\":\"cf8a160c-67cb-47b2-8e73-6bd9d4b9365f\",\"type\":\"Line\"},{\"attributes\":{\"callback\":null},\"id\":\"fe980994-c1f1-4906-8dd9-a0206f3739a7\",\"type\":\"DataRange1d\"},{\"attributes\":{\"plot\":{\"id\":\"c7dd01af-8251-4eab-ae96-e7c361596acf\",\"subtype\":\"Figure\",\"type\":\"Plot\"}},\"id\":\"66dc5246-859a-4163-8774-c3daa84deeb2\",\"type\":\"ResetTool\"},{\"attributes\":{\"plot\":{\"id\":\"c7dd01af-8251-4eab-ae96-e7c361596acf\",\"subtype\":\"Figure\",\"type\":\"Plot\"}},\"id\":\"0d925406-eb75-417d-b7c5-6a69869254b4\",\"type\":\"ResizeTool\"},{\"attributes\":{\"plot\":{\"id\":\"f9bcb1c9-3176-4cf6-ad20-d707790768fb\",\"subtype\":\"Figure\",\"type\":\"Plot\"}},\"id\":\"c9dd8f1f-fca9-484c-8390-76d9bd911e07\",\"type\":\"HelpTool\"},{\"attributes\":{\"plot\":{\"id\":\"f9bcb1c9-3176-4cf6-ad20-d707790768fb\",\"subtype\":\"Figure\",\"type\":\"Plot\"}},\"id\":\"6fb81bff-1a24-46cb-a1a5-5edc78b2f1bb\",\"type\":\"ResizeTool\"},{\"attributes\":{},\"id\":\"08047a81-01d3-43cf-8ac2-39d28468d4be\",\"type\":\"ToolEvents\"},{\"attributes\":{\"callback\":null,\"column_names\":[\"x\",\"y\"],\"data\":{\"x\":[0,0],\"y\":[0,400]}},\"id\":\"7a2eed7c-8247-4e33-8be8-652ff295a768\",\"type\":\"ColumnDataSource\"},{\"attributes\":{\"data_source\":{\"id\":\"eafd0536-ce22-4c57-8900-c2fb052e764e\",\"type\":\"ColumnDataSource\"},\"glyph\":{\"id\":\"b8689af0-075f-4520-9fc4-fce692f3accb\",\"type\":\"Line\"},\"hover_glyph\":null,\"nonselection_glyph\":{\"id\":\"d1fdb689-a10c-4126-8895-3e7f227a5f0b\",\"type\":\"Line\"},\"selection_glyph\":null},\"id\":\"3ff21c9d-a735-4c8c-b8ae-856b0e1c377b\",\"type\":\"GlyphRenderer\"},{\"attributes\":{},\"id\":\"4617007e-df94-4434-b751-4a43b103b069\",\"type\":\"BasicTicker\"},{\"attributes\":{\"callback\":null,\"column_names\":[\"x\",\"y\"],\"data\":{\"x\":[],\"y\":[]}},\"id\":\"6fab2a97-65c5-4fb4-80b4-157474a97fd3\",\"type\":\"ColumnDataSource\"},{\"attributes\":{\"plot\":{\"id\":\"f9bcb1c9-3176-4cf6-ad20-d707790768fb\",\"subtype\":\"Figure\",\"type\":\"Plot\"}},\"id\":\"aaa8509e-060b-4fe9-ba51-3d357486926d\",\"type\":\"ResetTool\"},{\"attributes\":{\"line_color\":{\"value\":\"green\"},\"x\":{\"field\":\"x\"},\"y\":{\"field\":\"y\"}},\"id\":\"972c4534-1bb1-4f16-bafa-34057c780605\",\"type\":\"Line\"},{\"attributes\":{\"callback\":null},\"id\":\"bdd02ee0-f7e2-41d7-821d-f7756448afc5\",\"type\":\"DataRange1d\"},{\"attributes\":{\"children\":[{\"id\":\"c7dd01af-8251-4eab-ae96-e7c361596acf\",\"subtype\":\"Figure\",\"type\":\"Plot\"},{\"id\":\"f9bcb1c9-3176-4cf6-ad20-d707790768fb\",\"subtype\":\"Figure\",\"type\":\"Plot\"},{\"id\":\"a76bddc3-7819-42e8-9fe4-2928ed39dc75\",\"subtype\":\"Figure\",\"type\":\"Plot\"}]},\"id\":\"bbc4efb5-fcb5-4217-a4b1-cce432dde3a0\",\"type\":\"VBox\"},{\"attributes\":{},\"id\":\"fd2424fb-4217-46ad-9603-c3e2b221d107\",\"type\":\"ToolEvents\"},{\"attributes\":{\"callback\":null,\"column_names\":[\"x\",\"y\"],\"data\":{\"x\":[],\"y\":[]}},\"id\":\"d94307ab-4143-4a36-ada8-d862c0ba3f6d\",\"type\":\"ColumnDataSource\"},{\"attributes\":{},\"id\":\"aa84b515-173a-4914-a29d-8415a8b29fee\",\"type\":\"BasicTickFormatter\"},{\"attributes\":{\"line_color\":{\"value\":\"green\"},\"x\":{\"field\":\"x\"},\"y\":{\"field\":\"y\"}},\"id\":\"b8689af0-075f-4520-9fc4-fce692f3accb\",\"type\":\"Line\"},{\"attributes\":{\"data_source\":{\"id\":\"a52fdfe4-7350-4467-adef-73fd45b1d464\",\"type\":\"ColumnDataSource\"},\"glyph\":{\"id\":\"c0c29cdb-1995-4d9c-a387-0192d043f2b3\",\"type\":\"Line\"},\"hover_glyph\":null,\"nonselection_glyph\":{\"id\":\"93920e9a-bf35-4068-b6dc-3f038f2db88e\",\"type\":\"Line\"},\"selection_glyph\":null},\"id\":\"283010d4-9293-4059-a1ff-3643ab30e722\",\"type\":\"GlyphRenderer\"},{\"attributes\":{\"plot\":{\"id\":\"f9bcb1c9-3176-4cf6-ad20-d707790768fb\",\"subtype\":\"Figure\",\"type\":\"Plot\"},\"ticker\":{\"id\":\"4617007e-df94-4434-b751-4a43b103b069\",\"type\":\"BasicTicker\"}},\"id\":\"0e4dddfb-d879-43c6-9964-e51d3f849162\",\"type\":\"Grid\"},{\"attributes\":{\"plot\":{\"id\":\"c7dd01af-8251-4eab-ae96-e7c361596acf\",\"subtype\":\"Figure\",\"type\":\"Plot\"}},\"id\":\"99890e19-3f50-4321-a977-3ff819071529\",\"type\":\"PreviewSaveTool\"},{\"attributes\":{\"line_color\":{\"value\":\"firebrick\"},\"x\":{\"field\":\"x\"},\"y\":{\"field\":\"y\"}},\"id\":\"3e22bd31-63ae-4d3a-9d62-d2f494e03bad\",\"type\":\"Line\"},{\"attributes\":{\"overlay\":{\"id\":\"4c088df3-5d30-44ae-9832-916a603cec23\",\"type\":\"BoxAnnotation\"},\"plot\":{\"id\":\"c7dd01af-8251-4eab-ae96-e7c361596acf\",\"subtype\":\"Figure\",\"type\":\"Plot\"}},\"id\":\"3772cb8b-35d6-4128-beff-df1641d1bfcd\",\"type\":\"BoxZoomTool\"},{\"attributes\":{\"callback\":null},\"id\":\"9fe2a0a6-18f1-48c7-8fdc-6d26f8d8d367\",\"type\":\"DataRange1d\"},{\"attributes\":{\"data_source\":{\"id\":\"7a2eed7c-8247-4e33-8be8-652ff295a768\",\"type\":\"ColumnDataSource\"},\"glyph\":{\"id\":\"93ae353a-f4bc-4723-b58a-77a3e8e34877\",\"type\":\"Line\"},\"hover_glyph\":null,\"nonselection_glyph\":{\"id\":\"c5d7c5f8-31f9-48d7-89ea-824ac413ef5a\",\"type\":\"Line\"},\"selection_glyph\":null},\"id\":\"e6bfc565-bcc5-4440-bb3e-d2aeb88ccfec\",\"type\":\"GlyphRenderer\"},{\"attributes\":{\"bottom_units\":\"screen\",\"fill_alpha\":{\"value\":0.5},\"fill_color\":{\"value\":\"lightgrey\"},\"left_units\":\"screen\",\"level\":\"overlay\",\"line_alpha\":{\"value\":1.0},\"line_color\":{\"value\":\"black\"},\"line_dash\":[4,4],\"line_width\":{\"value\":2},\"plot\":null,\"render_mode\":\"css\",\"right_units\":\"screen\",\"top_units\":\"screen\"},\"id\":\"8bba8754-7625-434e-b80c-041537d78f5a\",\"type\":\"BoxAnnotation\"},{\"attributes\":{\"bottom_units\":\"screen\",\"fill_alpha\":{\"value\":0.5},\"fill_color\":{\"value\":\"lightgrey\"},\"left_units\":\"screen\",\"level\":\"overlay\",\"line_alpha\":{\"value\":1.0},\"line_color\":{\"value\":\"black\"},\"line_dash\":[4,4],\"line_width\":{\"value\":2},\"plot\":null,\"render_mode\":\"css\",\"right_units\":\"screen\",\"top_units\":\"screen\"},\"id\":\"4c088df3-5d30-44ae-9832-916a603cec23\",\"type\":\"BoxAnnotation\"},{\"attributes\":{\"plot\":{\"id\":\"c7dd01af-8251-4eab-ae96-e7c361596acf\",\"subtype\":\"Figure\",\"type\":\"Plot\"}},\"id\":\"b52eb9e6-38af-4588-980a-5b991058c124\",\"type\":\"PanTool\"},{\"attributes\":{},\"id\":\"60d55990-c66a-46ad-b3b9-e7371d91302a\",\"type\":\"BasicTicker\"}],\"root_ids\":[\"bbc4efb5-fcb5-4217-a4b1-cce432dde3a0\"]},\"title\":\"Bokeh Application\",\"version\":\"0.11.1\"}};\n",
       "            var render_items = [{\"docid\":\"41f72ed0-7cf7-4d47-8048-a5d8321b79e1\",\"elementid\":\"a873efbc-0594-43e2-8ad8-ffc7f55aa47d\",\"modelid\":\"bbc4efb5-fcb5-4217-a4b1-cce432dde3a0\",\"notebook_comms_target\":\"36a4eeb7-fee3-4856-b393-294eee0d011d\"}];\n",
       "            \n",
       "            Bokeh.embed.embed_items(docs_json, render_items);\n",
       "        });\n",
       "      },\n",
       "      function(Bokeh) {\n",
       "      }\n",
       "    ];\n",
       "  \n",
       "    function run_inline_js() {\n",
       "      for (var i = 0; i < inline_js.length; i++) {\n",
       "        inline_js[i](window.Bokeh);\n",
       "      }\n",
       "    }\n",
       "  \n",
       "    if (window._bokeh_is_loading === 0) {\n",
       "      console.log(\"Bokeh: BokehJS loaded, going straight to plotting\");\n",
       "      run_inline_js();\n",
       "    } else {\n",
       "      load_libs(js_urls, function() {\n",
       "        console.log(\"Bokeh: BokehJS plotting callback run at\", now());\n",
       "        run_inline_js();\n",
       "      });\n",
       "    }\n",
       "  }(this));\n",
       "</script>"
      ]
     },
     "metadata": {},
     "output_type": "display_data"
    }
   ],
   "source": [
    "breaths = 1\n",
    "results = viz.get_breaths(75)\n",
    "w = widgets.SelectMultiple(description='Types', options=['Normal', 'DoubleStacked', 'PostDoubleStacked', \n",
    "                                                         'PressureFlowLimited', 'FlowAbnormal', \n",
    "                                                         'PrematureVentTermination', 'IneffectiveTrigger', 'Garbage'])\n",
    "w.height = 150\n",
    "button = widgets.Button(description='Next')\n",
    "container = widgets.HBox(children=[w, button])\n",
    "\n",
    "button.on_click(on_button_click)\n",
    "display(container)"
   ]
  },
  {
   "cell_type": "markdown",
   "metadata": {
    "collapsed": false
   },
   "source": [
    "# Use PDS breaths to ID DS Breaths"
   ]
  },
  {
   "cell_type": "code",
   "execution_count": 32,
   "metadata": {
    "collapsed": false
   },
   "outputs": [],
   "source": [
    "pds = list(train_db.find({'validation':{'$exists':1}, 'validation.pds':1}, {'patient_id':1, 'date_time':1, 'breath_num':1}))\n",
    "for breath in pds:\n",
    "    ids = breath_db.find_one({'patient_id': breath['patient_id'], \n",
    "                              'date_time': breath['date_time'], 'breath_num':breath['breath_num']}, {'file':1})\n",
    "    data = breath_db.find_one({'patient_id': breath['patient_id'], 'file': ids['file'], 'breath_num':breath['breath_num']-1})\n",
    "    data['validation'] = {'norm': 0,\n",
    "                                'ds': 1,\n",
    "                                'pds': 0,\n",
    "                                'pfl': 0,\n",
    "                                'fa': 0,\n",
    "                                'pvt':0,\n",
    "                                'ie': 0,\n",
    "                                'garb': 0}\n",
    "\n",
    "    try:\n",
    "        train_db.insert_one(data)\n",
    "    except:\n",
    "        train_db.update_one({'patient_id': breath['patient_id'], \n",
    "                             'file':ids['file'], 'breath_num':breath['breath_num']-1}, {'$set':data})"
   ]
  },
  {
   "cell_type": "code",
   "execution_count": null,
   "metadata": {
    "collapsed": true
   },
   "outputs": [],
   "source": [
    "ids = list(train_db.find({'validation':{'$exists':1}}, {'_id':1, 'validation':1}).limit(20))"
   ]
  },
  {
   "cell_type": "code",
   "execution_count": null,
   "metadata": {
    "collapsed": false,
    "scrolled": false
   },
   "outputs": [],
   "source": [
    "for _id in ids:\n",
    "    print(_id['validation'])\n",
    "    df, breath_start, breath_end = viz.breath_viz(_id['_id'])\n",
    "    p=viz.make_plot(df, breath_start, breath_end)\n",
    "    show(p)"
   ]
  },
  {
   "cell_type": "markdown",
   "metadata": {
    "collapsed": true
   },
   "source": [
    "## Pull in additional data from database"
   ]
  },
  {
   "cell_type": "code",
   "execution_count": 33,
   "metadata": {
    "collapsed": false
   },
   "outputs": [],
   "source": [
    "import datetime\n",
    "\n",
    "pds = list(train_db.find({'validation':{'$exists':1}}, {'patient_id':1, 'date_time':1, 'breath_num':1, 'validation':1}))\n",
    "for breath in pds:\n",
    "\n",
    "    if isinstance(breath['date_time'], float):\n",
    "        date_time = datetime.datetime.fromtimestamp(breath['date_time'])\n",
    "        data = breath_db.find({'patient_id': breath['patient_id'], \n",
    "                              'date_time': date_time, 'breath_num':breath['breath_num']})\n",
    "    else: \n",
    "        data = breath_db.find({'patient_id': breath['patient_id'], \n",
    "                              'date_time': breath['date_time'], 'breath_num':breath['breath_num']})\n",
    "    \n",
    "    if data.count() == 1:\n",
    "        data = list(data)[0]\n",
    "        data['validation'] = breath['validation']\n",
    "        data.pop('_id')\n",
    "        train_db.update_one({'_id':breath['_id']}, {'$set':data})\n",
    "    else:\n",
    "        date = re.search('\\d\\d\\d\\d-\\d\\d-\\d\\d \\d\\d:\\d\\d:\\d\\d', breath['_id']).group()\n",
    "        date_time = datetime.datetime.strptime(date, '%Y-%m-%d %H:%M:%S')\n",
    "        data = breath_db.find({'patient_id': breath['patient_id'], \n",
    "                              'date_time': date_time, 'breath_num':breath['breath_num']}) \n",
    "        if data.count() == 1:\n",
    "            data = list(data)[0]\n",
    "            data['validation'] = breath['validation']\n",
    "            data.pop('_id')\n",
    "            train_db.update_one({'_id':breath['_id']}, {'$set':data})\n",
    "        else:\n",
    "            print(breath)\n",
    "            print('Missing data')"
   ]
  },
  {
   "cell_type": "code",
   "execution_count": null,
   "metadata": {
    "collapsed": true
   },
   "outputs": [],
   "source": []
  },
  {
   "cell_type": "code",
   "execution_count": null,
   "metadata": {
    "collapsed": true
   },
   "outputs": [],
   "source": []
  },
  {
   "cell_type": "code",
   "execution_count": null,
   "metadata": {
    "collapsed": true
   },
   "outputs": [],
   "source": []
  },
  {
   "cell_type": "code",
   "execution_count": null,
   "metadata": {
    "collapsed": true
   },
   "outputs": [],
   "source": []
  },
  {
   "cell_type": "code",
   "execution_count": null,
   "metadata": {
    "collapsed": true
   },
   "outputs": [],
   "source": []
  },
  {
   "cell_type": "code",
   "execution_count": null,
   "metadata": {
    "collapsed": true
   },
   "outputs": [],
   "source": []
  },
  {
   "cell_type": "code",
   "execution_count": null,
   "metadata": {
    "collapsed": true
   },
   "outputs": [],
   "source": []
  },
  {
   "cell_type": "code",
   "execution_count": null,
   "metadata": {
    "collapsed": true
   },
   "outputs": [],
   "source": []
  },
  {
   "cell_type": "code",
   "execution_count": null,
   "metadata": {
    "collapsed": true
   },
   "outputs": [],
   "source": []
  },
  {
   "cell_type": "code",
   "execution_count": null,
   "metadata": {
    "collapsed": true
   },
   "outputs": [],
   "source": []
  },
  {
   "cell_type": "code",
   "execution_count": null,
   "metadata": {
    "collapsed": true
   },
   "outputs": [],
   "source": []
  },
  {
   "cell_type": "code",
   "execution_count": null,
   "metadata": {
    "collapsed": true
   },
   "outputs": [],
   "source": []
  },
  {
   "cell_type": "code",
   "execution_count": null,
   "metadata": {
    "collapsed": true
   },
   "outputs": [],
   "source": []
  },
  {
   "cell_type": "code",
   "execution_count": null,
   "metadata": {
    "collapsed": true
   },
   "outputs": [],
   "source": []
  },
  {
   "cell_type": "code",
   "execution_count": null,
   "metadata": {
    "collapsed": true
   },
   "outputs": [],
   "source": []
  },
  {
   "cell_type": "code",
   "execution_count": null,
   "metadata": {
    "collapsed": true
   },
   "outputs": [],
   "source": []
  }
 ],
 "metadata": {
  "kernelspec": {
   "display_name": "Python 3",
   "language": "python",
   "name": "python3"
  },
  "language_info": {
   "codemirror_mode": {
    "name": "ipython",
    "version": 3
   },
   "file_extension": ".py",
   "mimetype": "text/x-python",
   "name": "python",
   "nbconvert_exporter": "python",
   "pygments_lexer": "ipython3",
   "version": "3.5.1"
  }
 },
 "nbformat": 4,
 "nbformat_minor": 0
}
