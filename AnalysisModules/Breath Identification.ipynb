{
 "cells": [
  {
   "cell_type": "code",
   "execution_count": 1,
   "metadata": {
    "collapsed": false
   },
   "outputs": [
    {
     "data": {
      "text/html": [
       "\n",
       "    <div class=\"bk-banner\">\n",
       "        <a href=\"http://bokeh.pydata.org\" target=\"_blank\" class=\"bk-logo bk-logo-small bk-logo-notebook\"></a>\n",
       "        <span id=\"1c4f31ff-991d-491c-a38f-8de4bc78835f\">Loading BokehJS ...</span>\n",
       "    </div>"
      ]
     },
     "metadata": {},
     "output_type": "display_data"
    },
    {
     "data": {
      "application/javascript": [
       "\n",
       "(function(global) {\n",
       "  function now() {\n",
       "    return new Date();\n",
       "  }\n",
       "\n",
       "  if (typeof (window._bokeh_onload_callbacks) === \"undefined\") {\n",
       "    window._bokeh_onload_callbacks = [];\n",
       "  }\n",
       "\n",
       "  function run_callbacks() {\n",
       "    window._bokeh_onload_callbacks.forEach(function(callback) { callback() });\n",
       "    delete window._bokeh_onload_callbacks\n",
       "    console.info(\"Bokeh: all callbacks have finished\");\n",
       "  }\n",
       "\n",
       "  function load_libs(js_urls, callback) {\n",
       "    window._bokeh_onload_callbacks.push(callback);\n",
       "    if (window._bokeh_is_loading > 0) {\n",
       "      console.log(\"Bokeh: BokehJS is being loaded, scheduling callback at\", now());\n",
       "      return null;\n",
       "    }\n",
       "    if (js_urls == null || js_urls.length === 0) {\n",
       "      run_callbacks();\n",
       "      return null;\n",
       "    }\n",
       "    console.log(\"Bokeh: BokehJS not loaded, scheduling load and callback at\", now());\n",
       "    window._bokeh_is_loading = js_urls.length;\n",
       "    for (var i = 0; i < js_urls.length; i++) {\n",
       "      var url = js_urls[i];\n",
       "      var s = document.createElement('script');\n",
       "      s.src = url;\n",
       "      s.async = false;\n",
       "      s.onreadystatechange = s.onload = function() {\n",
       "        window._bokeh_is_loading--;\n",
       "        if (window._bokeh_is_loading === 0) {\n",
       "          console.log(\"Bokeh: all BokehJS libraries loaded\");\n",
       "          run_callbacks()\n",
       "        }\n",
       "      };\n",
       "      s.onerror = function() {\n",
       "        console.warn(\"failed to load library \" + url);\n",
       "      };\n",
       "      console.log(\"Bokeh: injecting script tag for BokehJS library: \", url);\n",
       "      document.getElementsByTagName(\"head\")[0].appendChild(s);\n",
       "    }\n",
       "  };\n",
       "\n",
       "  var js_urls = ['https://cdn.pydata.org/bokeh/release/bokeh-0.11.1.min.js', 'https://cdn.pydata.org/bokeh/release/bokeh-widgets-0.11.1.min.js', 'https://cdn.pydata.org/bokeh/release/bokeh-compiler-0.11.1.min.js'];\n",
       "\n",
       "  var inline_js = [\n",
       "    function(Bokeh) {\n",
       "      Bokeh.set_log_level(\"info\");\n",
       "    },\n",
       "    \n",
       "    function(Bokeh) {\n",
       "      Bokeh.$(\"#1c4f31ff-991d-491c-a38f-8de4bc78835f\").text(\"BokehJS successfully loaded\");\n",
       "    },\n",
       "    function(Bokeh) {\n",
       "      console.log(\"Bokeh: injecting CSS: https://cdn.pydata.org/bokeh/release/bokeh-0.11.1.min.css\");\n",
       "      Bokeh.embed.inject_css(\"https://cdn.pydata.org/bokeh/release/bokeh-0.11.1.min.css\");\n",
       "      console.log(\"Bokeh: injecting CSS: https://cdn.pydata.org/bokeh/release/bokeh-widgets-0.11.1.min.css\");\n",
       "      Bokeh.embed.inject_css(\"https://cdn.pydata.org/bokeh/release/bokeh-widgets-0.11.1.min.css\");\n",
       "    }\n",
       "  ];\n",
       "\n",
       "  function run_inline_js() {\n",
       "    for (var i = 0; i < inline_js.length; i++) {\n",
       "      inline_js[i](window.Bokeh);\n",
       "    }\n",
       "  }\n",
       "\n",
       "  if (window._bokeh_is_loading === 0) {\n",
       "    console.log(\"Bokeh: BokehJS loaded, going straight to plotting\");\n",
       "    run_inline_js();\n",
       "  } else {\n",
       "    load_libs(js_urls, function() {\n",
       "      console.log(\"Bokeh: BokehJS plotting callback run at\", now());\n",
       "      run_inline_js();\n",
       "    });\n",
       "  }\n",
       "}(this));"
      ]
     },
     "metadata": {},
     "output_type": "display_data"
    }
   ],
   "source": [
    "import Visualization as viz\n",
    "from ipywidgets import widgets\n",
    "from IPython.display import display, clear_output\n",
    "from bokeh.plotting import figure, show, output_notebook\n",
    "import pandas as pd\n",
    "\n",
    "output_notebook()"
   ]
  },
  {
   "cell_type": "code",
   "execution_count": 2,
   "metadata": {
    "collapsed": false
   },
   "outputs": [
    {
     "data": {
      "text/plain": [
       "10024"
      ]
     },
     "execution_count": 2,
     "metadata": {},
     "output_type": "execute_result"
    }
   ],
   "source": [
    "from pymongo import MongoClient\n",
    "\n",
    "client = MongoClient()\n",
    "db = client.VentDB\n",
    "breath_db = db.breath_collection\n",
    "train_db = db.train_collection\n",
    "\n",
    "train_db.find().count()"
   ]
  },
  {
   "cell_type": "code",
   "execution_count": 3,
   "metadata": {
    "collapsed": false
   },
   "outputs": [
    {
     "data": {
      "text/plain": [
       "1964338"
      ]
     },
     "execution_count": 3,
     "metadata": {},
     "output_type": "execute_result"
    }
   ],
   "source": [
    "breath_db.find().count()"
   ]
  },
  {
   "cell_type": "code",
   "execution_count": 4,
   "metadata": {
    "collapsed": true
   },
   "outputs": [],
   "source": [
    "def on_button_click(b):\n",
    "    global breaths\n",
    "\n",
    "    clear_output()\n",
    "    if results.alive:\n",
    "        if breaths != 1:\n",
    "            viz.update_database(breaths['_id'], w.selected_labels)\n",
    "\n",
    "        breaths = results.next()\n",
    "        df, breath_start, breath_end = viz.breath_viz(breaths['_id'])\n",
    "        p=viz.make_plot(df, breath_start, breath_end)\n",
    "        show(p)\n",
    "    else:\n",
    "        if breaths != 1:\n",
    "            viz.update_database(breaths['_id'], w.selected_labels)\n",
    "        clear_output()\n",
    "        print('No more')"
   ]
  },
  {
   "cell_type": "code",
   "execution_count": 5,
   "metadata": {
    "collapsed": false
   },
   "outputs": [
    {
     "data": {
      "text/plain": [
       "1873"
      ]
     },
     "execution_count": 5,
     "metadata": {},
     "output_type": "execute_result"
    }
   ],
   "source": [
    "train_db.find({'validation':{'$exists':1}}).count()"
   ]
  },
  {
   "cell_type": "code",
   "execution_count": 6,
   "metadata": {
    "collapsed": false
   },
   "outputs": [],
   "source": [
    "import pandas as pd\n",
    "val_df = pd.io.json.json_normalize(list(train_db.find({'validation':{'$exists':1}}, {'validation':1})))"
   ]
  },
  {
   "cell_type": "code",
   "execution_count": 7,
   "metadata": {
    "collapsed": false
   },
   "outputs": [],
   "source": [
    "val_df.replace({0:False, 1:True}, inplace=True)\n",
    "val_df = val_df[['validation.ds', 'validation.fa', 'validation.garb',\n",
    "       'validation.ie', 'validation.norm', 'validation.pds', 'validation.pfl',\n",
    "       'validation.pvt']].astype(bool)"
   ]
  },
  {
   "cell_type": "code",
   "execution_count": 8,
   "metadata": {
    "collapsed": false,
    "scrolled": true
   },
   "outputs": [
    {
     "data": {
      "text/plain": [
       "False    1721\n",
       "True      152\n",
       "Name: validation.ds, dtype: int64"
      ]
     },
     "execution_count": 8,
     "metadata": {},
     "output_type": "execute_result"
    }
   ],
   "source": [
    "val_df['validation.ds'].value_counts()"
   ]
  },
  {
   "cell_type": "code",
   "execution_count": 9,
   "metadata": {
    "collapsed": false
   },
   "outputs": [
    {
     "data": {
      "text/plain": [
       "False    1849\n",
       "True       24\n",
       "Name: validation.pds, dtype: int64"
      ]
     },
     "execution_count": 9,
     "metadata": {},
     "output_type": "execute_result"
    }
   ],
   "source": [
    "val_df['validation.pds'].value_counts()"
   ]
  },
  {
   "cell_type": "code",
   "execution_count": 10,
   "metadata": {
    "collapsed": false
   },
   "outputs": [
    {
     "data": {
      "text/plain": [
       "False    1403\n",
       "True      470\n",
       "Name: validation.pfl, dtype: int64"
      ]
     },
     "execution_count": 10,
     "metadata": {},
     "output_type": "execute_result"
    }
   ],
   "source": [
    "val_df['validation.pfl'].value_counts()"
   ]
  },
  {
   "cell_type": "code",
   "execution_count": 11,
   "metadata": {
    "collapsed": false
   },
   "outputs": [
    {
     "data": {
      "text/plain": [
       "False    1775\n",
       "True       98\n",
       "Name: validation.pvt, dtype: int64"
      ]
     },
     "execution_count": 11,
     "metadata": {},
     "output_type": "execute_result"
    }
   ],
   "source": [
    "val_df['validation.pvt'].value_counts()"
   ]
  },
  {
   "cell_type": "code",
   "execution_count": 12,
   "metadata": {
    "collapsed": false
   },
   "outputs": [
    {
     "data": {
      "text/plain": [
       "False    1549\n",
       "True      324\n",
       "Name: validation.ie, dtype: int64"
      ]
     },
     "execution_count": 12,
     "metadata": {},
     "output_type": "execute_result"
    }
   ],
   "source": [
    "val_df['validation.ie'].value_counts()"
   ]
  },
  {
   "cell_type": "code",
   "execution_count": 13,
   "metadata": {
    "collapsed": false
   },
   "outputs": [
    {
     "data": {
      "text/plain": [
       "False    989\n",
       "True     884\n",
       "Name: validation.norm, dtype: int64"
      ]
     },
     "execution_count": 13,
     "metadata": {},
     "output_type": "execute_result"
    }
   ],
   "source": [
    "val_df['validation.norm'].value_counts()"
   ]
  },
  {
   "cell_type": "code",
   "execution_count": 14,
   "metadata": {
    "collapsed": false,
    "scrolled": false
   },
   "outputs": [
    {
     "name": "stdout",
     "output_type": "stream",
     "text": [
      "breath error: 119/8350/2015-03-08 07:54:09/40374982\n",
      "[{'file': '/media/veracrypt1/Research_Data/VentDysSedation/RawData/P119/hm_Waveform 15-03-07-20-41.txt', 'breath_raw': {'sm_flow': [9.900000000000007, 19.357142857142872, 28.071428571428594, 35.71428571428575, 47.10000000000004, 53.435714285714326, 58.43571428571434, 60.385714285714336, 61.535714285714334, 57.464285714285765, 51.021428571428615, 42.46428571428575, 19.271428571428586, -7.285714285714291, -31.071428571428598, -48.45000000000003, -55.76428571428576, -54.464285714285765, -59.06428571428577, -61.7428571428572, -62.81428571428577, -62.18571428571434, -58.7571428571429, -57.19285714285719, -55.83571428571433, -55.77142857142863, -55.214285714285765, -54.25000000000005, -52.79285714285719, -53.200000000000045, -52.88571428571433, -52.185714285714326, -49.97857142857147, -45.521428571428615, -39.578571428571465, -32.17857142857145, -22.907142857142876, -12.835714285714298, -3.228571428571432, 4.50714285714286], 'time': [40374982.0, 40375014.0, 40375046.0, 40375078.0, 40375110.0, 40375142.0, 40375174.0, 40375206.0, 40375238.0, 40375270.0, 40375302.0, 40375334.0, 40375366.0, 40375398.0, 40375430.0, 40375462.0, 40375494.0, 40375526.0, 40375558.0, 40375590.0, 40375622.0, 40375654.0, 40375686.0, 40375718.0, 40375750.0, 40375782.0, 40375814.0, 40375846.0, 40375878.0, 40375910.0, 40375942.0, 40375974.0, 40376006.0, 40376038.0, 40376070.0, 40376102.0, 40376134.0, 40376166.0, 40376198.0, 40376230.0], 'sm_paw': [3.65714285714286, 2.0761904761904786, 1.7238095238095257, 2.6380952380952407, 4.133333333333337, 5.285714285714291, 6.10476190476191, 7.180952380952387, 8.466666666666674, 10.361904761904771, 12.800000000000011, 15.7857142857143, 16.95714285714287, 16.861904761904775, 15.623809523809538, 14.45714285714287, 13.661904761904777, 13.742857142857156, 13.14761904761906, 12.404761904761916, 11.766666666666676, 11.342857142857152, 10.933333333333342, 10.671428571428581, 10.704761904761915, 10.823809523809533, 10.923809523809533, 10.876190476190487, 10.676190476190484, 10.557142857142868, 10.51904761904763, 10.414285714285723, 10.219047619047629, 9.871428571428579, 9.361904761904771, 8.909523809523819, 8.45238095238096, 7.961904761904768, 7.447619047619055, 6.976190476190482], 'dF/dV': [-0.05759999999999999, -0.75, 1.1900000000000002, 0.44571428571428573, 0.3299999999999999, 0.14400000000000004, 0.16421052631578942, 0.026250000000000107, -0.015000000000000095, -0.045714285714285686, -0.2571428571428571, -0.545, -1.125, -3.06, 2.088, -0.2400000000000001, 0.19846153846153855, 0.06857142857142833, 0.19500000000000003, 0.07200000000000008, 0.05333333333333314, -0.02624999999999993, -0.1875, -0.0037499999999999643, -0.24545454545454545, 0.4714285714285714, -0.16, 0.04909090909090914, -0.11454545454545476, -0.05999999999999984, 0.1800000000000001, -0.14307692307692324, -0.05454545454545454, -0.2133333333333332, -0.2800000000000002, -0.4714285714285714, -0.6514285714285714, -1.2299999999999998, -2.58, inf], 'sm_dV/dTT': [nan, nan, 60.83333333333334, 93.9285714285715, -28.33333333333333, 7.857142857142847, 1.1904761904761898, 4.523809523809547, -1.0714285714285836, -4.88095238095238, -5.0, -4.642857142857167, -16.547619047619037, -7.619047619047649, -16.666666666666686, -6.071428571428498, -4.166666666666799, -1.54761904761898, -1.6666666666666856, -2.380952380952351, -0.5952380952381304, 0.23809523809526922, -0.3571428571428612, 2.023809523809504, 2.0238095238095326, -2.142857142857139, 1.7857142857142847, 0.2380952380952408, 0.9523809523809561, 2.619047619047592, -2.619047619047592, -1.6666666666666856, 0.5952380952381304, 5.119047619047592, 3.214285714285751, 3.3333333333333144, 2.976190476190453, -21.190476190476204, 67.26190476190487, 41.428571428571445], 'sm_vol': [132.5000000000001, 34.04761904761911, -3.5714285714285516, 52.73809523809528, 80.7142857142858, 116.54761904761915, 153.5714285714287, 195.1190476190478, 235.5952380952383, 271.19047619047643, 301.78571428571456, 327.7380952380955, 337.14285714285745, 338.92857142857173, 324.0476190476193, 303.0952380952384, 277.9761904761907, 251.30952380952402, 222.97619047619065, 192.26190476190493, 160.95238095238108, 129.8809523809525, 98.45238095238105, 69.04761904761911, 41.6666666666667, 12.142857142857155, -15.595238095238107, -43.09523809523813, -69.6428571428572, -93.57142857142867, -120.11904761904773, -148.33333333333348, -175.9523809523811, -198.45238095238113, -217.7380952380954, -233.69047619047637, -246.66666666666688, -280.8333333333336, -247.73809523809544, -173.21428571428584], 'vol': [7.5, 17.5, 32.5, 50.0, 85.0, 110.0, 157.5, 197.5, 227.5, 280.0, 297.5, 327.5, 337.5, 345.0, 320.0, 305.0, 272.5, 255.0, 225.0, 187.5, 165.0, 125.0, 105.0, 65.0, 37.5, 20.0, -17.5, -45.0, -72.5, -90.0, -117.5, -150.0, -177.5, -200.0, -215.0, -232.5, -250.0, -255.0, -260.0, -260.0], 'sm_dP/dTT': [nan, nan, 1.2285714285714286, 1.266666666666668, 0.5809523809523816, -0.34285714285714297, -0.3333333333333348, 0.2571428571428589, 0.20952380952380878, 0.6095238095238109, 0.5428571428571427, 0.5476190476190492, -1.8142857142857203, -1.266666666666664, -1.1428571428571423, 0.0714285714285694, 0.37142857142857544, 0.8761904761904713, -0.6761904761904756, -0.1476190476190471, 0.10476190476190439, 0.2142857142857153, 0.014285714285714235, 0.14761904761904887, 0.2952380952380942, 0.08571428571428541, -0.01904761904761898, -0.14761904761904532, -0.15238095238095717, 0.080952380952386, 0.08095238095237889, -0.0666666666666682, -0.09047619047618838, -0.1523809523809554, -0.16190476190475778, 0.057142857142855163, -0.004761904761906521, -0.03333333333333233, -0.02380952380952195, 0.04285714285714004], 'breath': [8350.0, 8350.0, 8350.0, 8350.0, 8350.0, 8350.0, 8350.0, 8350.0, 8350.0, 8350.0, 8350.0, 8350.0, 8350.0, 8350.0, 8350.0, 8350.0, 8350.0, 8350.0, 8350.0, 8350.0, 8350.0, 8350.0, 8350.0, 8350.0, 8350.0, 8350.0, 8350.0, 8350.0, 8350.0, 8350.0, 8350.0, 8350.0, 8350.0, 8350.0, 8350.0, 8350.0, 8350.0, 8350.0, 8350.0, 8350.0], 'dP/dV': [0.007733333333333332, -0.25, 0.026666666666666675, 0.06857142857142856, 0.04857142857142858, 0.028000000000000008, 0.023157894736842096, 0.017500000000000005, 0.03999999999999997, 0.04952380952380955, 0.07428571428571422, 0.11666666666666667, 0.19000000000000003, 0.1599999999999999, 0.2, -0.02000000000000005, -0.009230769230769252, 0.01142857142857149, 0.03999999999999997, 0.021333333333333353, -0.0, 0.019999999999999973, 0.020000000000000018, 0.007500000000000018, -0.0, -0.022857142857142878, 0.002666666666666657, -0.0, 0.007272727272727312, 0.011428571428571389, 0.0036363636363636234, -0.003076923076923066, 0.0036363636363636234, 0.03111111111111116, 0.019999999999999928, 0.02857142857142857, 0.02857142857142857, 0.060000000000000143, 0.15999999999999998, -inf], 'sm_dF/dT': [nan, 9.457142857142864, 8.714285714285722, 7.642857142857157, 11.385714285714286, 6.335714285714289, 5.000000000000014, 1.9499999999999957, 1.1499999999999986, -4.071428571428569, -6.44285714285715, -8.557142857142864, -23.192857142857164, -26.55714285714288, -23.785714285714306, -17.378571428571433, -7.314285714285731, 1.2999999999999972, -4.600000000000001, -2.6785714285714306, -1.0714285714285694, 0.6285714285714263, 3.4285714285714377, 1.5642857142857096, 1.3571428571428612, 0.06428571428570251, 0.557142857142864, 0.9642857142857153, 1.4571428571428626, -0.40714285714285836, 0.3142857142857167, 0.7000000000000028, 2.2071428571428555, 4.4571428571428555, 5.94285714285715, 7.400000000000013, 9.271428571428576, 10.071428571428578, 9.607142857142865, 7.735714285714292], 'paw': [3.7, 1.2, 1.6, 2.8, 4.5, 5.2, 6.3, 7.0, 8.2, 10.8, 12.1, 15.6, 17.5, 18.7, 13.7, 14.0, 14.3, 14.1, 12.9, 12.1, 12.1, 11.3, 10.9, 10.6, 10.6, 11.0, 10.9, 10.9, 10.7, 10.5, 10.4, 10.5, 10.4, 9.7, 9.4, 8.9, 8.4, 8.1, 7.3, 7.0], 'flow': [18.45, 10.95, 28.8, 36.6, 48.15, 51.75, 59.55, 60.6, 60.15, 57.75, 53.25, 36.9, 25.65, 2.7, -49.5, -45.9, -52.35, -53.55, -59.4, -62.1, -63.3, -62.25, -58.5, -58.35, -51.6, -59.85, -53.85, -55.2, -52.05, -51.0, -55.95, -51.3, -49.8, -45.0, -40.8, -32.55, -21.15, -15.0, -2.1, 4.5], 'dF/dT': [21.599999999999998, -7.5, 17.85, 7.800000000000001, 11.549999999999997, 3.6000000000000014, 7.799999999999997, 1.0500000000000043, -0.45000000000000284, -2.3999999999999986, -4.5, -16.35, -11.25, -22.95, -52.2, 3.6000000000000014, -6.450000000000003, -1.1999999999999957, -5.850000000000001, -2.700000000000003, -1.1999999999999957, 1.0499999999999972, 3.75, 0.14999999999999858, 6.75, -8.25, 6.0, -1.3500000000000014, 3.1500000000000057, 1.0499999999999972, -4.950000000000003, 4.650000000000006, 1.5, 4.799999999999997, 4.200000000000003, 8.25, 11.399999999999999, 6.149999999999999, 12.9, 6.6], 'sm_dF/dTT': [nan, nan, -0.742857142857142, -1.0714285714285658, 3.7428571428571296, -5.049999999999997, -1.3357142857142748, -3.0500000000000185, -0.7999999999999972, -5.221428571428568, -2.3714285714285808, -2.114285714285714, -14.6357142857143, -3.364285714285714, 2.7714285714285722, 6.407142857142873, 10.064285714285703, 8.614285714285728, -5.899999999999999, 1.9214285714285708, 1.6071428571428612, 1.6999999999999957, 2.8000000000000114, -1.864285714285728, -0.2071428571428484, -1.2928571428571587, 0.49285714285716153, 0.40714285714285126, 0.4928571428571473, -1.864285714285721, 0.7214285714285751, 0.3857142857142861, 1.5071428571428527, 2.25, 1.4857142857142946, 1.4571428571428626, 1.871428571428563, 0.8000000000000025, -0.4642857142857135, -1.8714285714285728], 'sm_dV/dT': [nan, -98.452380952381, -37.61904761904766, 56.30952380952384, 27.97619047619051, 35.83333333333336, 37.02380952380955, 41.547619047619094, 40.47619047619051, 35.59523809523813, 30.59523809523813, 25.952380952380963, 9.404761904761926, 1.7857142857142776, -14.880952380952408, -20.952380952380906, -25.119047619047706, -26.666666666666686, -28.33333333333337, -30.714285714285722, -31.309523809523853, -31.071428571428584, -31.428571428571445, -29.40476190476194, -27.380952380952408, -29.523809523809547, -27.738095238095262, -27.50000000000002, -26.547619047619065, -23.928571428571473, -26.547619047619065, -28.21428571428575, -27.61904761904762, -22.50000000000003, -19.285714285714278, -15.952380952380963, -12.97619047619051, -34.166666666666714, 33.09523809523816, 74.5238095238096], 'dP/dT': [-2.8999999999999995, -2.5, 0.40000000000000013, 1.1999999999999997, 1.7000000000000002, 0.7000000000000002, 1.0999999999999996, 0.7000000000000002, 1.1999999999999993, 2.6000000000000014, 1.299999999999999, 3.5, 1.9000000000000004, 1.1999999999999993, -5.0, 0.3000000000000007, 0.3000000000000007, -0.20000000000000107, -1.1999999999999993, -0.8000000000000007, 0.0, -0.7999999999999989, -0.40000000000000036, -0.3000000000000007, 0.0, 0.40000000000000036, -0.09999999999999964, 0.0, -0.20000000000000107, -0.1999999999999993, -0.09999999999999964, 0.09999999999999964, -0.09999999999999964, -0.7000000000000011, -0.29999999999999893, -0.5, -0.5, -0.3000000000000007, -0.7999999999999998, -0.2999999999999998], 'dF/dP': [-7.448275862068966, 3.0, 44.624999999999986, 6.500000000000002, 6.794117647058821, 5.142857142857143, 7.090909090909091, 1.5000000000000058, -0.3750000000000026, -0.923076923076922, -3.4615384615384643, -4.671428571428572, -5.921052631578946, -19.12500000000001, 10.440000000000001, 11.999999999999977, -21.499999999999957, 5.999999999999947, 4.875000000000004, 3.3750000000000004, -inf, -1.3124999999999982, -9.374999999999991, -0.49999999999999406, inf, -20.624999999999982, -60.00000000000021, -inf, -15.749999999999945, -5.250000000000004, 49.500000000000206, 46.50000000000022, -15.000000000000053, -6.8571428571428426, -14.000000000000059, -16.5, -22.799999999999997, -20.499999999999947, -16.125000000000004, -22.00000000000001], 'status': [2.0, 2.0, 2.0, 2.0, 2.0, 2.0, 2.0, 2.0, 2.0, 2.0, 2.0, 2.0, 2.0, 0.0, 0.0, 0.0, 0.0, 0.0, 0.0, 0.0, 0.0, 0.0, 0.0, 0.0, 0.0, 0.0, 0.0, 0.0, 0.0, 0.0, 0.0, 0.0, 0.0, 0.0, 0.0, 0.0, 0.0, 0.0, 0.0, 0.0], 'sm_dP/dT': [nan, -1.5809523809523816, -0.3523809523809529, 0.914285714285715, 1.4952380952380966, 1.1523809523809536, 0.8190476190476188, 1.0761904761904777, 1.2857142857142865, 1.8952380952380974, 2.43809523809524, 2.9857142857142893, 1.171428571428569, -0.0952380952380949, -1.2380952380952372, -1.1666666666666679, -0.7952380952380924, 0.08095238095237889, -0.5952380952380967, -0.7428571428571438, -0.6380952380952394, -0.4238095238095241, -0.40952380952380985, -0.261904761904761, 0.033333333333333215, 0.11904761904761862, 0.09999999999999964, -0.047619047619045674, -0.20000000000000284, -0.11904761904761685, -0.03809523809523796, -0.10476190476190617, -0.19523809523809454, -0.34761904761904994, -0.5095238095238077, -0.45238095238095255, -0.45714285714285907, -0.4904761904761914, -0.5142857142857133, -0.4714285714285733], 'dV/dT': [-375.0, 10.0, 15.0, 17.5, 35.0, 25.0, 47.5, 40.0, 30.0, 52.5, 17.5, 30.0, 10.0, 7.5, -25.0, -15.0, -32.5, -17.5, -30.0, -37.5, -22.5, -40.0, -20.0, -40.0, -27.5, -17.5, -37.5, -27.5, -27.5, -17.5, -27.5, -32.5, -27.5, -22.5, -15.0, -17.5, -17.5, -5.0, -5.0, 0.0]}, '_id': '119/8350/2015-03-08 07:54:09/40374982', 'breath_num': 8350}]\n"
     ]
    },
    {
     "data": {
      "text/html": [
       "\n",
       "\n",
       "    <div class=\"plotdiv\" id=\"b0f12086-2ce1-4740-8e19-5d07f4db4b43\"></div>\n",
       "<script type=\"text/javascript\">\n",
       "  \n",
       "  (function(global) {\n",
       "    function now() {\n",
       "      return new Date();\n",
       "    }\n",
       "  \n",
       "    if (typeof (window._bokeh_onload_callbacks) === \"undefined\") {\n",
       "      window._bokeh_onload_callbacks = [];\n",
       "    }\n",
       "  \n",
       "    function run_callbacks() {\n",
       "      window._bokeh_onload_callbacks.forEach(function(callback) { callback() });\n",
       "      delete window._bokeh_onload_callbacks\n",
       "      console.info(\"Bokeh: all callbacks have finished\");\n",
       "    }\n",
       "  \n",
       "    function load_libs(js_urls, callback) {\n",
       "      window._bokeh_onload_callbacks.push(callback);\n",
       "      if (window._bokeh_is_loading > 0) {\n",
       "        console.log(\"Bokeh: BokehJS is being loaded, scheduling callback at\", now());\n",
       "        return null;\n",
       "      }\n",
       "      if (js_urls == null || js_urls.length === 0) {\n",
       "        run_callbacks();\n",
       "        return null;\n",
       "      }\n",
       "      console.log(\"Bokeh: BokehJS not loaded, scheduling load and callback at\", now());\n",
       "      window._bokeh_is_loading = js_urls.length;\n",
       "      for (var i = 0; i < js_urls.length; i++) {\n",
       "        var url = js_urls[i];\n",
       "        var s = document.createElement('script');\n",
       "        s.src = url;\n",
       "        s.async = false;\n",
       "        s.onreadystatechange = s.onload = function() {\n",
       "          window._bokeh_is_loading--;\n",
       "          if (window._bokeh_is_loading === 0) {\n",
       "            console.log(\"Bokeh: all BokehJS libraries loaded\");\n",
       "            run_callbacks()\n",
       "          }\n",
       "        };\n",
       "        s.onerror = function() {\n",
       "          console.warn(\"failed to load library \" + url);\n",
       "        };\n",
       "        console.log(\"Bokeh: injecting script tag for BokehJS library: \", url);\n",
       "        document.getElementsByTagName(\"head\")[0].appendChild(s);\n",
       "      }\n",
       "    };var element = document.getElementById(\"b0f12086-2ce1-4740-8e19-5d07f4db4b43\");\n",
       "    if (element == null) {\n",
       "      console.log(\"Bokeh: ERROR: autoload.js configured with elementid 'b0f12086-2ce1-4740-8e19-5d07f4db4b43' but no matching script tag was found. \")\n",
       "      return false;\n",
       "    }\n",
       "  \n",
       "    var js_urls = [];\n",
       "  \n",
       "    var inline_js = [\n",
       "      function(Bokeh) {\n",
       "        Bokeh.$(function() {\n",
       "            var docs_json = {\"3e9ebcb6-ba1d-4eb8-b1ee-2acf7f97af2d\":{\"roots\":{\"references\":[{\"attributes\":{\"callback\":null},\"id\":\"2a282806-b8af-48cb-b3c2-4fc412be69bc\",\"type\":\"DataRange1d\"},{\"attributes\":{\"line_color\":{\"value\":\"green\"},\"x\":{\"field\":\"x\"},\"y\":{\"field\":\"y\"}},\"id\":\"0a0850f9-94bf-48eb-8683-855aacffc435\",\"type\":\"Line\"},{\"attributes\":{\"line_alpha\":{\"value\":0.1},\"line_color\":{\"value\":\"#1f77b4\"},\"x\":{\"field\":\"x\"},\"y\":{\"field\":\"y\"}},\"id\":\"80b397be-1db2-4d16-b79e-061ce274400f\",\"type\":\"Line\"},{\"attributes\":{\"data_source\":{\"id\":\"60354855-2e2f-4229-b9ba-71c6fd1fab5c\",\"type\":\"ColumnDataSource\"},\"glyph\":{\"id\":\"3b1148f7-1406-4515-9a35-665064be9a0b\",\"type\":\"Line\"},\"hover_glyph\":null,\"nonselection_glyph\":{\"id\":\"2d79b688-a494-4ba0-bdad-42ed5a8a7220\",\"type\":\"Line\"},\"selection_glyph\":null},\"id\":\"5eb1ff4c-e56e-4c2a-8484-aea22aaa91f8\",\"type\":\"GlyphRenderer\"},{\"attributes\":{\"plot\":{\"id\":\"e3ddeb26-99fd-4b66-a98f-0bb9f1a0305f\",\"subtype\":\"Figure\",\"type\":\"Plot\"}},\"id\":\"5910f6d5-ebf8-47e0-b679-57547a51448b\",\"type\":\"PreviewSaveTool\"},{\"attributes\":{\"plot\":{\"id\":\"699b08da-628d-4040-ae97-d9be5b90d6fe\",\"subtype\":\"Figure\",\"type\":\"Plot\"},\"ticker\":{\"id\":\"be7fdc3b-a807-46a5-92da-9bd5a3bd15d1\",\"type\":\"BasicTicker\"}},\"id\":\"742d507c-65c7-4971-b679-aa2bdff9ad14\",\"type\":\"Grid\"},{\"attributes\":{\"plot\":{\"id\":\"e3ddeb26-99fd-4b66-a98f-0bb9f1a0305f\",\"subtype\":\"Figure\",\"type\":\"Plot\"}},\"id\":\"fa99b584-465a-4ccb-bbc9-1b350c5b960d\",\"type\":\"ResetTool\"},{\"attributes\":{\"bottom_units\":\"screen\",\"fill_alpha\":{\"value\":0.5},\"fill_color\":{\"value\":\"lightgrey\"},\"left_units\":\"screen\",\"level\":\"overlay\",\"line_alpha\":{\"value\":1.0},\"line_color\":{\"value\":\"black\"},\"line_dash\":[4,4],\"line_width\":{\"value\":2},\"plot\":null,\"render_mode\":\"css\",\"right_units\":\"screen\",\"top_units\":\"screen\"},\"id\":\"88e60a43-038f-4aa1-b697-ccf94d6b3adf\",\"type\":\"BoxAnnotation\"},{\"attributes\":{\"line_color\":{\"value\":\"green\"},\"x\":{\"field\":\"x\"},\"y\":{\"field\":\"y\"}},\"id\":\"62e730a2-23e4-42f1-bd64-22bdf21fa3da\",\"type\":\"Line\"},{\"attributes\":{\"callback\":null,\"column_names\":[\"x\",\"y\"],\"data\":{\"x\":[],\"y\":[]}},\"id\":\"65c7a67c-8964-46aa-b27e-ad8033cd47b0\",\"type\":\"ColumnDataSource\"},{\"attributes\":{\"callback\":null},\"id\":\"4a2fc725-f1f8-410c-a61f-a7fc1feaa0a6\",\"type\":\"DataRange1d\"},{\"attributes\":{\"axis_label\":\"Paw\",\"formatter\":{\"id\":\"8a99a934-170b-411b-8c91-54c46330b9ce\",\"type\":\"BasicTickFormatter\"},\"plot\":{\"id\":\"699b08da-628d-4040-ae97-d9be5b90d6fe\",\"subtype\":\"Figure\",\"type\":\"Plot\"},\"ticker\":{\"id\":\"aa4303f1-cb07-43c9-8d11-52ad5a1c2149\",\"type\":\"BasicTicker\"}},\"id\":\"87ff47da-f27e-4579-a584-36318755d268\",\"type\":\"LinearAxis\"},{\"attributes\":{\"dimension\":1,\"plot\":{\"id\":\"699b08da-628d-4040-ae97-d9be5b90d6fe\",\"subtype\":\"Figure\",\"type\":\"Plot\"},\"ticker\":{\"id\":\"aa4303f1-cb07-43c9-8d11-52ad5a1c2149\",\"type\":\"BasicTicker\"}},\"id\":\"a5444fe5-395e-49b1-b2d9-24a8aa06a9a8\",\"type\":\"Grid\"},{\"attributes\":{\"line_alpha\":{\"value\":0.1},\"line_color\":{\"value\":\"#1f77b4\"},\"x\":{\"field\":\"x\"},\"y\":{\"field\":\"y\"}},\"id\":\"2a6a4097-dc07-480d-bbb6-ebd94772792b\",\"type\":\"Line\"},{\"attributes\":{\"data_source\":{\"id\":\"65c7a67c-8964-46aa-b27e-ad8033cd47b0\",\"type\":\"ColumnDataSource\"},\"glyph\":{\"id\":\"815038c4-8eba-4254-a183-21b2103da1b6\",\"type\":\"Line\"},\"hover_glyph\":null,\"name\":\"Volume\",\"nonselection_glyph\":{\"id\":\"2a6a4097-dc07-480d-bbb6-ebd94772792b\",\"type\":\"Line\"},\"selection_glyph\":null},\"id\":\"4edc4622-d8a1-4ff6-bc24-28f9cc55f17f\",\"type\":\"GlyphRenderer\"},{\"attributes\":{\"data_source\":{\"id\":\"9a145e4a-a963-4636-9cd8-6d298fa32a7e\",\"type\":\"ColumnDataSource\"},\"glyph\":{\"id\":\"3244c46f-9339-4a29-8b6b-4c9ec16c6c55\",\"type\":\"Line\"},\"hover_glyph\":null,\"nonselection_glyph\":{\"id\":\"30fa4904-71b2-4e06-bf65-6410d8e3c290\",\"type\":\"Line\"},\"selection_glyph\":null},\"id\":\"90f54ca6-2d1b-4e8a-ba19-6f0e0f7bda95\",\"type\":\"GlyphRenderer\"},{\"attributes\":{\"callback\":null},\"id\":\"83344c8f-fe95-4fb7-b202-ada97c792514\",\"type\":\"DataRange1d\"},{\"attributes\":{\"line_alpha\":{\"value\":0.1},\"line_color\":{\"value\":\"#1f77b4\"},\"x\":{\"field\":\"x\"},\"y\":{\"field\":\"y\"}},\"id\":\"2d79b688-a494-4ba0-bdad-42ed5a8a7220\",\"type\":\"Line\"},{\"attributes\":{\"overlay\":{\"id\":\"88e60a43-038f-4aa1-b697-ccf94d6b3adf\",\"type\":\"BoxAnnotation\"},\"plot\":{\"id\":\"699b08da-628d-4040-ae97-d9be5b90d6fe\",\"subtype\":\"Figure\",\"type\":\"Plot\"}},\"id\":\"42fb1f1b-8a5b-49bd-83e1-8be47ce6a9f5\",\"type\":\"BoxZoomTool\"},{\"attributes\":{},\"id\":\"aadda120-0de5-41a7-9f0b-6819c42aa9b9\",\"type\":\"BasicTicker\"},{\"attributes\":{\"callback\":null,\"column_names\":[\"x\",\"y\"],\"data\":{\"x\":[0,0],\"y\":[-40,40]}},\"id\":\"aacd2644-3416-47ca-b9dc-5b8f2d042999\",\"type\":\"ColumnDataSource\"},{\"attributes\":{\"plot\":{\"id\":\"e3ddeb26-99fd-4b66-a98f-0bb9f1a0305f\",\"subtype\":\"Figure\",\"type\":\"Plot\"}},\"id\":\"26ad4f06-9da8-4966-bd35-30d1eba5c10d\",\"type\":\"ResizeTool\"},{\"attributes\":{\"line_alpha\":{\"value\":0.1},\"line_color\":{\"value\":\"#1f77b4\"},\"x\":{\"field\":\"x\"},\"y\":{\"field\":\"y\"}},\"id\":\"f11edd3f-ceae-4d1b-8312-86a1be23c29a\",\"type\":\"Line\"},{\"attributes\":{\"plot\":{\"id\":\"e3ddeb26-99fd-4b66-a98f-0bb9f1a0305f\",\"subtype\":\"Figure\",\"type\":\"Plot\"}},\"id\":\"9c892ec2-2358-49a2-93d0-bcda04ddf2a4\",\"type\":\"PanTool\"},{\"attributes\":{\"plot\":{\"id\":\"a1e44114-03bc-4fa5-ad2a-4df2defe9f66\",\"subtype\":\"Figure\",\"type\":\"Plot\"}},\"id\":\"93679c66-2d5f-4531-9a9c-47175649d3a6\",\"type\":\"PreviewSaveTool\"},{\"attributes\":{},\"id\":\"af24f30e-b373-40d8-a5d3-8a50829d02e0\",\"type\":\"BasicTickFormatter\"},{\"attributes\":{\"plot\":{\"id\":\"a1e44114-03bc-4fa5-ad2a-4df2defe9f66\",\"subtype\":\"Figure\",\"type\":\"Plot\"}},\"id\":\"7714430d-d017-4fb1-8657-f1c14a408b48\",\"type\":\"ResetTool\"},{\"attributes\":{},\"id\":\"edb69cd1-25a0-4e71-a140-c7a7081cbaa3\",\"type\":\"ToolEvents\"},{\"attributes\":{\"line_alpha\":{\"value\":0.1},\"line_color\":{\"value\":\"#1f77b4\"},\"x\":{\"field\":\"x\"},\"y\":{\"field\":\"y\"}},\"id\":\"1735b4a7-2211-4e71-80a8-cda8a238a7d4\",\"type\":\"Line\"},{\"attributes\":{\"line_color\":{\"value\":\"navy\"},\"x\":{\"field\":\"x\"},\"y\":{\"field\":\"y\"}},\"id\":\"20a2e3e5-6f48-4f1e-93b9-df557b068ff5\",\"type\":\"Line\"},{\"attributes\":{\"plot\":{\"id\":\"699b08da-628d-4040-ae97-d9be5b90d6fe\",\"subtype\":\"Figure\",\"type\":\"Plot\"}},\"id\":\"1acdc2b3-9642-4988-b508-1b1b62aaf847\",\"type\":\"WheelZoomTool\"},{\"attributes\":{\"callback\":null,\"column_names\":[\"x\",\"y\"],\"data\":{\"x\":[],\"y\":[]}},\"id\":\"1adecefc-2fe8-4e38-afd7-313180ca30eb\",\"type\":\"ColumnDataSource\"},{\"attributes\":{\"children\":[{\"id\":\"a1e44114-03bc-4fa5-ad2a-4df2defe9f66\",\"subtype\":\"Figure\",\"type\":\"Plot\"},{\"id\":\"699b08da-628d-4040-ae97-d9be5b90d6fe\",\"subtype\":\"Figure\",\"type\":\"Plot\"},{\"id\":\"e3ddeb26-99fd-4b66-a98f-0bb9f1a0305f\",\"subtype\":\"Figure\",\"type\":\"Plot\"}]},\"id\":\"3d08a957-45f4-4268-af44-6d607a9902e4\",\"type\":\"VBox\"},{\"attributes\":{\"callback\":null},\"id\":\"9ed6f1e2-b332-4c6f-bd4f-0447f6ea3a8c\",\"type\":\"DataRange1d\"},{\"attributes\":{\"callback\":null,\"column_names\":[\"x\",\"y\"],\"data\":{\"x\":[0,0],\"y\":[0,40]}},\"id\":\"60354855-2e2f-4229-b9ba-71c6fd1fab5c\",\"type\":\"ColumnDataSource\"},{\"attributes\":{\"formatter\":{\"id\":\"cd1d90ed-64e0-4c7b-b66f-563b64edca1c\",\"type\":\"BasicTickFormatter\"},\"plot\":{\"id\":\"a1e44114-03bc-4fa5-ad2a-4df2defe9f66\",\"subtype\":\"Figure\",\"type\":\"Plot\"},\"ticker\":{\"id\":\"dc8da5c4-d240-4a27-905c-e8a9adc3263b\",\"type\":\"BasicTicker\"}},\"id\":\"3ded8521-8fc1-4c0d-b0ee-9cc4464190a4\",\"type\":\"LinearAxis\"},{\"attributes\":{\"plot\":{\"id\":\"699b08da-628d-4040-ae97-d9be5b90d6fe\",\"subtype\":\"Figure\",\"type\":\"Plot\"}},\"id\":\"eabfafc8-fc09-4ae3-81de-647ec78a3b2e\",\"type\":\"HelpTool\"},{\"attributes\":{},\"id\":\"60bb4cef-47a3-4b63-b321-6443584d6578\",\"type\":\"BasicTickFormatter\"},{\"attributes\":{\"plot\":{\"id\":\"699b08da-628d-4040-ae97-d9be5b90d6fe\",\"subtype\":\"Figure\",\"type\":\"Plot\"}},\"id\":\"f0dbf9cd-9c3b-4d4c-bdac-acfab21a92ae\",\"type\":\"PanTool\"},{\"attributes\":{\"formatter\":{\"id\":\"60bb4cef-47a3-4b63-b321-6443584d6578\",\"type\":\"BasicTickFormatter\"},\"plot\":{\"id\":\"e3ddeb26-99fd-4b66-a98f-0bb9f1a0305f\",\"subtype\":\"Figure\",\"type\":\"Plot\"},\"ticker\":{\"id\":\"c32ec2fd-f60b-4682-ab85-daa543fa0ed7\",\"type\":\"BasicTicker\"}},\"id\":\"fdc954d2-cfa6-42be-84e8-fafcc7d8d396\",\"type\":\"LinearAxis\"},{\"attributes\":{\"callback\":null,\"column_names\":[\"x\",\"y\"],\"data\":{\"x\":[0,0],\"y\":[-40,40]}},\"id\":\"946577d1-2dd4-4159-bfe7-e380fe77fdfc\",\"type\":\"ColumnDataSource\"},{\"attributes\":{},\"id\":\"0f49bff9-1302-4d06-b143-5d656e3399c0\",\"type\":\"BasicTickFormatter\"},{\"attributes\":{\"plot\":{\"id\":\"a1e44114-03bc-4fa5-ad2a-4df2defe9f66\",\"subtype\":\"Figure\",\"type\":\"Plot\"}},\"id\":\"d1ecdb3e-1a51-424c-b270-75c3d226a25f\",\"type\":\"HelpTool\"},{\"attributes\":{\"overlay\":{\"id\":\"1f433e6d-6a5f-407d-965e-4451223177bf\",\"type\":\"BoxAnnotation\"},\"plot\":{\"id\":\"a1e44114-03bc-4fa5-ad2a-4df2defe9f66\",\"subtype\":\"Figure\",\"type\":\"Plot\"}},\"id\":\"4e068687-aef0-4956-8d69-2c2cf6223a90\",\"type\":\"BoxZoomTool\"},{\"attributes\":{\"data_source\":{\"id\":\"946577d1-2dd4-4159-bfe7-e380fe77fdfc\",\"type\":\"ColumnDataSource\"},\"glyph\":{\"id\":\"62e730a2-23e4-42f1-bd64-22bdf21fa3da\",\"type\":\"Line\"},\"hover_glyph\":null,\"nonselection_glyph\":{\"id\":\"0b49e8a1-5188-4e64-bbc7-592a3a439a52\",\"type\":\"Line\"},\"selection_glyph\":null},\"id\":\"42d1a849-3c94-422a-9bf3-adf6fc6c84d5\",\"type\":\"GlyphRenderer\"},{\"attributes\":{\"line_color\":{\"value\":\"green\"},\"x\":{\"field\":\"x\"},\"y\":{\"field\":\"y\"}},\"id\":\"bbc7d4c1-7f7f-4168-8641-c449ca3452ca\",\"type\":\"Line\"},{\"attributes\":{\"below\":[{\"id\":\"653d59ad-eac0-4b82-ba95-b03734a271bd\",\"type\":\"LinearAxis\"}],\"left\":[{\"id\":\"87ff47da-f27e-4579-a584-36318755d268\",\"type\":\"LinearAxis\"}],\"plot_height\":250,\"renderers\":[{\"id\":\"653d59ad-eac0-4b82-ba95-b03734a271bd\",\"type\":\"LinearAxis\"},{\"id\":\"742d507c-65c7-4971-b679-aa2bdff9ad14\",\"type\":\"Grid\"},{\"id\":\"87ff47da-f27e-4579-a584-36318755d268\",\"type\":\"LinearAxis\"},{\"id\":\"a5444fe5-395e-49b1-b2d9-24a8aa06a9a8\",\"type\":\"Grid\"},{\"id\":\"88e60a43-038f-4aa1-b697-ccf94d6b3adf\",\"type\":\"BoxAnnotation\"},{\"id\":\"63a77b72-99a6-4cf1-a8ba-d108f322b2ef\",\"type\":\"GlyphRenderer\"},{\"id\":\"90f54ca6-2d1b-4e8a-ba19-6f0e0f7bda95\",\"type\":\"GlyphRenderer\"},{\"id\":\"5eb1ff4c-e56e-4c2a-8484-aea22aaa91f8\",\"type\":\"GlyphRenderer\"}],\"tool_events\":{\"id\":\"edb69cd1-25a0-4e71-a140-c7a7081cbaa3\",\"type\":\"ToolEvents\"},\"toolbar_location\":\"right\",\"tools\":[{\"id\":\"f0dbf9cd-9c3b-4d4c-bdac-acfab21a92ae\",\"type\":\"PanTool\"},{\"id\":\"1acdc2b3-9642-4988-b508-1b1b62aaf847\",\"type\":\"WheelZoomTool\"},{\"id\":\"42fb1f1b-8a5b-49bd-83e1-8be47ce6a9f5\",\"type\":\"BoxZoomTool\"},{\"id\":\"c1641f41-12d4-442e-b403-a3c3a038076d\",\"type\":\"PreviewSaveTool\"},{\"id\":\"27628640-5253-45a1-af43-fd07abdc3368\",\"type\":\"ResizeTool\"},{\"id\":\"5d00fd6b-5b8a-4d00-9a64-53850491b71f\",\"type\":\"ResetTool\"},{\"id\":\"eabfafc8-fc09-4ae3-81de-647ec78a3b2e\",\"type\":\"HelpTool\"}],\"x_range\":{\"id\":\"4a2fc725-f1f8-410c-a61f-a7fc1feaa0a6\",\"type\":\"DataRange1d\"},\"y_range\":{\"id\":\"83344c8f-fe95-4fb7-b202-ada97c792514\",\"type\":\"DataRange1d\"}},\"id\":\"699b08da-628d-4040-ae97-d9be5b90d6fe\",\"subtype\":\"Figure\",\"type\":\"Plot\"},{\"attributes\":{\"line_alpha\":{\"value\":0.1},\"line_color\":{\"value\":\"#1f77b4\"},\"x\":{\"field\":\"x\"},\"y\":{\"field\":\"y\"}},\"id\":\"0b49e8a1-5188-4e64-bbc7-592a3a439a52\",\"type\":\"Line\"},{\"attributes\":{\"callback\":null,\"column_names\":[\"x\",\"y\"],\"data\":{\"x\":[0,0],\"y\":[0,400]}},\"id\":\"b3b5478f-01db-4ec3-80e0-a92d87a306c9\",\"type\":\"ColumnDataSource\"},{\"attributes\":{\"line_alpha\":{\"value\":0.1},\"line_color\":{\"value\":\"#1f77b4\"},\"x\":{\"field\":\"x\"},\"y\":{\"field\":\"y\"}},\"id\":\"b0275718-d082-4ebf-b6f0-ad87d9875fb7\",\"type\":\"Line\"},{\"attributes\":{\"plot\":{\"id\":\"e3ddeb26-99fd-4b66-a98f-0bb9f1a0305f\",\"subtype\":\"Figure\",\"type\":\"Plot\"},\"ticker\":{\"id\":\"c32ec2fd-f60b-4682-ab85-daa543fa0ed7\",\"type\":\"BasicTicker\"}},\"id\":\"2b829046-c377-46e6-9a7c-d2ae4b11eba6\",\"type\":\"Grid\"},{\"attributes\":{\"callback\":null,\"column_names\":[\"x\",\"y\"],\"data\":{\"x\":[],\"y\":[]}},\"id\":\"22453055-92ef-46db-9240-c04450618526\",\"type\":\"ColumnDataSource\"},{\"attributes\":{\"overlay\":{\"id\":\"d744d228-509a-4190-a01d-229b0836e330\",\"type\":\"BoxAnnotation\"},\"plot\":{\"id\":\"e3ddeb26-99fd-4b66-a98f-0bb9f1a0305f\",\"subtype\":\"Figure\",\"type\":\"Plot\"}},\"id\":\"046ffa80-f538-4115-8880-b684b73d45d0\",\"type\":\"BoxZoomTool\"},{\"attributes\":{\"plot\":{\"id\":\"a1e44114-03bc-4fa5-ad2a-4df2defe9f66\",\"subtype\":\"Figure\",\"type\":\"Plot\"},\"ticker\":{\"id\":\"dc8da5c4-d240-4a27-905c-e8a9adc3263b\",\"type\":\"BasicTicker\"}},\"id\":\"51fbd1ba-6c6b-4dd3-8dc7-2c5ae47207c2\",\"type\":\"Grid\"},{\"attributes\":{\"below\":[{\"id\":\"fdc954d2-cfa6-42be-84e8-fafcc7d8d396\",\"type\":\"LinearAxis\"}],\"left\":[{\"id\":\"0d1dc564-859e-4601-ae78-2e6873acf703\",\"type\":\"LinearAxis\"}],\"plot_height\":250,\"renderers\":[{\"id\":\"fdc954d2-cfa6-42be-84e8-fafcc7d8d396\",\"type\":\"LinearAxis\"},{\"id\":\"2b829046-c377-46e6-9a7c-d2ae4b11eba6\",\"type\":\"Grid\"},{\"id\":\"0d1dc564-859e-4601-ae78-2e6873acf703\",\"type\":\"LinearAxis\"},{\"id\":\"259a758c-fe52-41dc-aae0-759e01701327\",\"type\":\"Grid\"},{\"id\":\"d744d228-509a-4190-a01d-229b0836e330\",\"type\":\"BoxAnnotation\"},{\"id\":\"4edc4622-d8a1-4ff6-bc24-28f9cc55f17f\",\"type\":\"GlyphRenderer\"},{\"id\":\"36039db6-7b2d-460a-acc3-bfc3371d8a73\",\"type\":\"GlyphRenderer\"},{\"id\":\"f26cf419-f3e6-4b3f-97c0-9a6c5e1d6fe4\",\"type\":\"GlyphRenderer\"}],\"tool_events\":{\"id\":\"b1d3e83a-ee48-441a-8263-037f8f58b2f6\",\"type\":\"ToolEvents\"},\"toolbar_location\":\"right\",\"tools\":[{\"id\":\"9c892ec2-2358-49a2-93d0-bcda04ddf2a4\",\"type\":\"PanTool\"},{\"id\":\"ac1806ec-6f60-4291-8f68-4972fdb1b350\",\"type\":\"WheelZoomTool\"},{\"id\":\"046ffa80-f538-4115-8880-b684b73d45d0\",\"type\":\"BoxZoomTool\"},{\"id\":\"5910f6d5-ebf8-47e0-b679-57547a51448b\",\"type\":\"PreviewSaveTool\"},{\"id\":\"26ad4f06-9da8-4966-bd35-30d1eba5c10d\",\"type\":\"ResizeTool\"},{\"id\":\"fa99b584-465a-4ccb-bbc9-1b350c5b960d\",\"type\":\"ResetTool\"},{\"id\":\"ae9f6ded-eeed-49d0-873c-66534c167f84\",\"type\":\"HelpTool\"}],\"x_range\":{\"id\":\"66516704-9603-44d1-a22d-eb979a39e239\",\"type\":\"DataRange1d\"},\"y_range\":{\"id\":\"2a282806-b8af-48cb-b3c2-4fc412be69bc\",\"type\":\"DataRange1d\"}},\"id\":\"e3ddeb26-99fd-4b66-a98f-0bb9f1a0305f\",\"subtype\":\"Figure\",\"type\":\"Plot\"},{\"attributes\":{\"line_color\":{\"value\":\"green\"},\"x\":{\"field\":\"x\"},\"y\":{\"field\":\"y\"}},\"id\":\"d3ef6b9a-bb10-4316-95a3-d160f337852c\",\"type\":\"Line\"},{\"attributes\":{\"plot\":{\"id\":\"699b08da-628d-4040-ae97-d9be5b90d6fe\",\"subtype\":\"Figure\",\"type\":\"Plot\"}},\"id\":\"27628640-5253-45a1-af43-fd07abdc3368\",\"type\":\"ResizeTool\"},{\"attributes\":{\"line_color\":{\"value\":\"green\"},\"x\":{\"field\":\"x\"},\"y\":{\"field\":\"y\"}},\"id\":\"3b1148f7-1406-4515-9a35-665064be9a0b\",\"type\":\"Line\"},{\"attributes\":{\"bottom_units\":\"screen\",\"fill_alpha\":{\"value\":0.5},\"fill_color\":{\"value\":\"lightgrey\"},\"left_units\":\"screen\",\"level\":\"overlay\",\"line_alpha\":{\"value\":1.0},\"line_color\":{\"value\":\"black\"},\"line_dash\":[4,4],\"line_width\":{\"value\":2},\"plot\":null,\"render_mode\":\"css\",\"right_units\":\"screen\",\"top_units\":\"screen\"},\"id\":\"d744d228-509a-4190-a01d-229b0836e330\",\"type\":\"BoxAnnotation\"},{\"attributes\":{\"line_alpha\":{\"value\":0.1},\"line_color\":{\"value\":\"#1f77b4\"},\"x\":{\"field\":\"x\"},\"y\":{\"field\":\"y\"}},\"id\":\"30fa4904-71b2-4e06-bf65-6410d8e3c290\",\"type\":\"Line\"},{\"attributes\":{\"callback\":null,\"column_names\":[\"x\",\"y\"],\"data\":{\"x\":[0,0],\"y\":[0,40]}},\"id\":\"9a145e4a-a963-4636-9cd8-6d298fa32a7e\",\"type\":\"ColumnDataSource\"},{\"attributes\":{},\"id\":\"be7fdc3b-a807-46a5-92da-9bd5a3bd15d1\",\"type\":\"BasicTicker\"},{\"attributes\":{\"data_source\":{\"id\":\"22453055-92ef-46db-9240-c04450618526\",\"type\":\"ColumnDataSource\"},\"glyph\":{\"id\":\"20a2e3e5-6f48-4f1e-93b9-df557b068ff5\",\"type\":\"Line\"},\"hover_glyph\":null,\"name\":\"Paw\",\"nonselection_glyph\":{\"id\":\"80b397be-1db2-4d16-b79e-061ce274400f\",\"type\":\"Line\"},\"selection_glyph\":null},\"id\":\"63a77b72-99a6-4cf1-a8ba-d108f322b2ef\",\"type\":\"GlyphRenderer\"},{\"attributes\":{\"plot\":{\"id\":\"e3ddeb26-99fd-4b66-a98f-0bb9f1a0305f\",\"subtype\":\"Figure\",\"type\":\"Plot\"}},\"id\":\"ae9f6ded-eeed-49d0-873c-66534c167f84\",\"type\":\"HelpTool\"},{\"attributes\":{\"callback\":null},\"id\":\"66516704-9603-44d1-a22d-eb979a39e239\",\"type\":\"DataRange1d\"},{\"attributes\":{\"axis_label\":\"Flow\",\"formatter\":{\"id\":\"0f49bff9-1302-4d06-b143-5d656e3399c0\",\"type\":\"BasicTickFormatter\"},\"plot\":{\"id\":\"a1e44114-03bc-4fa5-ad2a-4df2defe9f66\",\"subtype\":\"Figure\",\"type\":\"Plot\"},\"ticker\":{\"id\":\"aadda120-0de5-41a7-9f0b-6819c42aa9b9\",\"type\":\"BasicTicker\"}},\"id\":\"f798606a-ee6c-4b6a-9c01-fb469891d873\",\"type\":\"LinearAxis\"},{\"attributes\":{\"below\":[{\"id\":\"3ded8521-8fc1-4c0d-b0ee-9cc4464190a4\",\"type\":\"LinearAxis\"}],\"left\":[{\"id\":\"f798606a-ee6c-4b6a-9c01-fb469891d873\",\"type\":\"LinearAxis\"}],\"plot_height\":250,\"renderers\":[{\"id\":\"3ded8521-8fc1-4c0d-b0ee-9cc4464190a4\",\"type\":\"LinearAxis\"},{\"id\":\"51fbd1ba-6c6b-4dd3-8dc7-2c5ae47207c2\",\"type\":\"Grid\"},{\"id\":\"f798606a-ee6c-4b6a-9c01-fb469891d873\",\"type\":\"LinearAxis\"},{\"id\":\"812583ec-0cfd-4b8d-ae43-5b42c7f6ee7e\",\"type\":\"Grid\"},{\"id\":\"1f433e6d-6a5f-407d-965e-4451223177bf\",\"type\":\"BoxAnnotation\"},{\"id\":\"f39061dd-1eeb-4405-958e-fad1318463d2\",\"type\":\"GlyphRenderer\"},{\"id\":\"09dfe53c-5395-4f50-b4fc-f7978ee3705e\",\"type\":\"GlyphRenderer\"},{\"id\":\"42d1a849-3c94-422a-9bf3-adf6fc6c84d5\",\"type\":\"GlyphRenderer\"}],\"tool_events\":{\"id\":\"52331069-89f5-4a17-a8b4-06d2c3dd0700\",\"type\":\"ToolEvents\"},\"toolbar_location\":\"right\",\"tools\":[{\"id\":\"002e1caf-c88e-495c-828e-aab2ce6d3271\",\"type\":\"PanTool\"},{\"id\":\"4156d270-fb21-4b52-ae5f-87f664ba84ec\",\"type\":\"WheelZoomTool\"},{\"id\":\"4e068687-aef0-4956-8d69-2c2cf6223a90\",\"type\":\"BoxZoomTool\"},{\"id\":\"93679c66-2d5f-4531-9a9c-47175649d3a6\",\"type\":\"PreviewSaveTool\"},{\"id\":\"780f0e28-c6a5-4bf4-9a14-48e06a5e08b1\",\"type\":\"ResizeTool\"},{\"id\":\"7714430d-d017-4fb1-8657-f1c14a408b48\",\"type\":\"ResetTool\"},{\"id\":\"d1ecdb3e-1a51-424c-b270-75c3d226a25f\",\"type\":\"HelpTool\"}],\"x_range\":{\"id\":\"732fefea-a58d-43ef-a55d-49ce976c3f58\",\"type\":\"DataRange1d\"},\"y_range\":{\"id\":\"9ed6f1e2-b332-4c6f-bd4f-0447f6ea3a8c\",\"type\":\"DataRange1d\"}},\"id\":\"a1e44114-03bc-4fa5-ad2a-4df2defe9f66\",\"subtype\":\"Figure\",\"type\":\"Plot\"},{\"attributes\":{\"formatter\":{\"id\":\"4d90c1cc-c27a-47eb-95ab-4be694ef6444\",\"type\":\"BasicTickFormatter\"},\"plot\":{\"id\":\"699b08da-628d-4040-ae97-d9be5b90d6fe\",\"subtype\":\"Figure\",\"type\":\"Plot\"},\"ticker\":{\"id\":\"be7fdc3b-a807-46a5-92da-9bd5a3bd15d1\",\"type\":\"BasicTicker\"}},\"id\":\"653d59ad-eac0-4b82-ba95-b03734a271bd\",\"type\":\"LinearAxis\"},{\"attributes\":{\"plot\":{\"id\":\"e3ddeb26-99fd-4b66-a98f-0bb9f1a0305f\",\"subtype\":\"Figure\",\"type\":\"Plot\"}},\"id\":\"ac1806ec-6f60-4291-8f68-4972fdb1b350\",\"type\":\"WheelZoomTool\"},{\"attributes\":{\"line_alpha\":{\"value\":0.1},\"line_color\":{\"value\":\"#1f77b4\"},\"x\":{\"field\":\"x\"},\"y\":{\"field\":\"y\"}},\"id\":\"b84b30ad-ecfb-4ab8-a7d6-132f3962a926\",\"type\":\"Line\"},{\"attributes\":{\"axis_label\":\"Volume\",\"formatter\":{\"id\":\"af24f30e-b373-40d8-a5d3-8a50829d02e0\",\"type\":\"BasicTickFormatter\"},\"plot\":{\"id\":\"e3ddeb26-99fd-4b66-a98f-0bb9f1a0305f\",\"subtype\":\"Figure\",\"type\":\"Plot\"},\"ticker\":{\"id\":\"eb916a88-75ad-4099-aaa1-14b3faa1068e\",\"type\":\"BasicTicker\"}},\"id\":\"0d1dc564-859e-4601-ae78-2e6873acf703\",\"type\":\"LinearAxis\"},{\"attributes\":{\"line_color\":{\"value\":\"green\"},\"x\":{\"field\":\"x\"},\"y\":{\"field\":\"y\"}},\"id\":\"3244c46f-9339-4a29-8b6b-4c9ec16c6c55\",\"type\":\"Line\"},{\"attributes\":{\"line_color\":{\"value\":\"firebrick\"},\"x\":{\"field\":\"x\"},\"y\":{\"field\":\"y\"}},\"id\":\"0caf6666-e8f3-44cc-960c-200e8c1ec87b\",\"type\":\"Line\"},{\"attributes\":{},\"id\":\"c32ec2fd-f60b-4682-ab85-daa543fa0ed7\",\"type\":\"BasicTicker\"},{\"attributes\":{\"line_color\":{\"value\":\"olive\"},\"x\":{\"field\":\"x\"},\"y\":{\"field\":\"y\"}},\"id\":\"815038c4-8eba-4254-a183-21b2103da1b6\",\"type\":\"Line\"},{\"attributes\":{},\"id\":\"8a99a934-170b-411b-8c91-54c46330b9ce\",\"type\":\"BasicTickFormatter\"},{\"attributes\":{},\"id\":\"cd1d90ed-64e0-4c7b-b66f-563b64edca1c\",\"type\":\"BasicTickFormatter\"},{\"attributes\":{},\"id\":\"4d90c1cc-c27a-47eb-95ab-4be694ef6444\",\"type\":\"BasicTickFormatter\"},{\"attributes\":{},\"id\":\"dc8da5c4-d240-4a27-905c-e8a9adc3263b\",\"type\":\"BasicTicker\"},{\"attributes\":{\"plot\":{\"id\":\"699b08da-628d-4040-ae97-d9be5b90d6fe\",\"subtype\":\"Figure\",\"type\":\"Plot\"}},\"id\":\"c1641f41-12d4-442e-b403-a3c3a038076d\",\"type\":\"PreviewSaveTool\"},{\"attributes\":{\"plot\":{\"id\":\"a1e44114-03bc-4fa5-ad2a-4df2defe9f66\",\"subtype\":\"Figure\",\"type\":\"Plot\"}},\"id\":\"780f0e28-c6a5-4bf4-9a14-48e06a5e08b1\",\"type\":\"ResizeTool\"},{\"attributes\":{\"data_source\":{\"id\":\"aacd2644-3416-47ca-b9dc-5b8f2d042999\",\"type\":\"ColumnDataSource\"},\"glyph\":{\"id\":\"0a0850f9-94bf-48eb-8683-855aacffc435\",\"type\":\"Line\"},\"hover_glyph\":null,\"nonselection_glyph\":{\"id\":\"1735b4a7-2211-4e71-80a8-cda8a238a7d4\",\"type\":\"Line\"},\"selection_glyph\":null},\"id\":\"09dfe53c-5395-4f50-b4fc-f7978ee3705e\",\"type\":\"GlyphRenderer\"},{\"attributes\":{\"data_source\":{\"id\":\"1adecefc-2fe8-4e38-afd7-313180ca30eb\",\"type\":\"ColumnDataSource\"},\"glyph\":{\"id\":\"0caf6666-e8f3-44cc-960c-200e8c1ec87b\",\"type\":\"Line\"},\"hover_glyph\":null,\"name\":\"Flow\",\"nonselection_glyph\":{\"id\":\"b84b30ad-ecfb-4ab8-a7d6-132f3962a926\",\"type\":\"Line\"},\"selection_glyph\":null},\"id\":\"f39061dd-1eeb-4405-958e-fad1318463d2\",\"type\":\"GlyphRenderer\"},{\"attributes\":{\"plot\":{\"id\":\"a1e44114-03bc-4fa5-ad2a-4df2defe9f66\",\"subtype\":\"Figure\",\"type\":\"Plot\"}},\"id\":\"4156d270-fb21-4b52-ae5f-87f664ba84ec\",\"type\":\"WheelZoomTool\"},{\"attributes\":{\"dimension\":1,\"plot\":{\"id\":\"a1e44114-03bc-4fa5-ad2a-4df2defe9f66\",\"subtype\":\"Figure\",\"type\":\"Plot\"},\"ticker\":{\"id\":\"aadda120-0de5-41a7-9f0b-6819c42aa9b9\",\"type\":\"BasicTicker\"}},\"id\":\"812583ec-0cfd-4b8d-ae43-5b42c7f6ee7e\",\"type\":\"Grid\"},{\"attributes\":{},\"id\":\"52331069-89f5-4a17-a8b4-06d2c3dd0700\",\"type\":\"ToolEvents\"},{\"attributes\":{\"dimension\":1,\"plot\":{\"id\":\"e3ddeb26-99fd-4b66-a98f-0bb9f1a0305f\",\"subtype\":\"Figure\",\"type\":\"Plot\"},\"ticker\":{\"id\":\"eb916a88-75ad-4099-aaa1-14b3faa1068e\",\"type\":\"BasicTicker\"}},\"id\":\"259a758c-fe52-41dc-aae0-759e01701327\",\"type\":\"Grid\"},{\"attributes\":{\"bottom_units\":\"screen\",\"fill_alpha\":{\"value\":0.5},\"fill_color\":{\"value\":\"lightgrey\"},\"left_units\":\"screen\",\"level\":\"overlay\",\"line_alpha\":{\"value\":1.0},\"line_color\":{\"value\":\"black\"},\"line_dash\":[4,4],\"line_width\":{\"value\":2},\"plot\":null,\"render_mode\":\"css\",\"right_units\":\"screen\",\"top_units\":\"screen\"},\"id\":\"1f433e6d-6a5f-407d-965e-4451223177bf\",\"type\":\"BoxAnnotation\"},{\"attributes\":{\"callback\":null},\"id\":\"732fefea-a58d-43ef-a55d-49ce976c3f58\",\"type\":\"DataRange1d\"},{\"attributes\":{\"data_source\":{\"id\":\"b3b5478f-01db-4ec3-80e0-a92d87a306c9\",\"type\":\"ColumnDataSource\"},\"glyph\":{\"id\":\"d3ef6b9a-bb10-4316-95a3-d160f337852c\",\"type\":\"Line\"},\"hover_glyph\":null,\"nonselection_glyph\":{\"id\":\"b0275718-d082-4ebf-b6f0-ad87d9875fb7\",\"type\":\"Line\"},\"selection_glyph\":null},\"id\":\"f26cf419-f3e6-4b3f-97c0-9a6c5e1d6fe4\",\"type\":\"GlyphRenderer\"},{\"attributes\":{},\"id\":\"eb916a88-75ad-4099-aaa1-14b3faa1068e\",\"type\":\"BasicTicker\"},{\"attributes\":{\"callback\":null,\"column_names\":[\"x\",\"y\"],\"data\":{\"x\":[0,0],\"y\":[0,400]}},\"id\":\"49d6db23-feaa-4a75-b276-7cbe9e603b5a\",\"type\":\"ColumnDataSource\"},{\"attributes\":{\"data_source\":{\"id\":\"49d6db23-feaa-4a75-b276-7cbe9e603b5a\",\"type\":\"ColumnDataSource\"},\"glyph\":{\"id\":\"bbc7d4c1-7f7f-4168-8641-c449ca3452ca\",\"type\":\"Line\"},\"hover_glyph\":null,\"nonselection_glyph\":{\"id\":\"f11edd3f-ceae-4d1b-8312-86a1be23c29a\",\"type\":\"Line\"},\"selection_glyph\":null},\"id\":\"36039db6-7b2d-460a-acc3-bfc3371d8a73\",\"type\":\"GlyphRenderer\"},{\"attributes\":{},\"id\":\"b1d3e83a-ee48-441a-8263-037f8f58b2f6\",\"type\":\"ToolEvents\"},{\"attributes\":{\"plot\":{\"id\":\"699b08da-628d-4040-ae97-d9be5b90d6fe\",\"subtype\":\"Figure\",\"type\":\"Plot\"}},\"id\":\"5d00fd6b-5b8a-4d00-9a64-53850491b71f\",\"type\":\"ResetTool\"},{\"attributes\":{},\"id\":\"aa4303f1-cb07-43c9-8d11-52ad5a1c2149\",\"type\":\"BasicTicker\"},{\"attributes\":{\"plot\":{\"id\":\"a1e44114-03bc-4fa5-ad2a-4df2defe9f66\",\"subtype\":\"Figure\",\"type\":\"Plot\"}},\"id\":\"002e1caf-c88e-495c-828e-aab2ce6d3271\",\"type\":\"PanTool\"}],\"root_ids\":[\"3d08a957-45f4-4268-af44-6d607a9902e4\"]},\"title\":\"Bokeh Application\",\"version\":\"0.11.1\"}};\n",
       "            var render_items = [{\"docid\":\"3e9ebcb6-ba1d-4eb8-b1ee-2acf7f97af2d\",\"elementid\":\"b0f12086-2ce1-4740-8e19-5d07f4db4b43\",\"modelid\":\"3d08a957-45f4-4268-af44-6d607a9902e4\",\"notebook_comms_target\":\"d6c0f3bc-7571-4ee7-b934-75b6b2caa75b\"}];\n",
       "            \n",
       "            Bokeh.embed.embed_items(docs_json, render_items);\n",
       "        });\n",
       "      },\n",
       "      function(Bokeh) {\n",
       "      }\n",
       "    ];\n",
       "  \n",
       "    function run_inline_js() {\n",
       "      for (var i = 0; i < inline_js.length; i++) {\n",
       "        inline_js[i](window.Bokeh);\n",
       "      }\n",
       "    }\n",
       "  \n",
       "    if (window._bokeh_is_loading === 0) {\n",
       "      console.log(\"Bokeh: BokehJS loaded, going straight to plotting\");\n",
       "      run_inline_js();\n",
       "    } else {\n",
       "      load_libs(js_urls, function() {\n",
       "        console.log(\"Bokeh: BokehJS plotting callback run at\", now());\n",
       "        run_inline_js();\n",
       "      });\n",
       "    }\n",
       "  }(this));\n",
       "</script>"
      ]
     },
     "metadata": {},
     "output_type": "display_data"
    }
   ],
   "source": [
    "breaths = 1\n",
    "results = viz.get_breaths(75)\n",
    "w = widgets.SelectMultiple(description='Types', options=['Normal', 'DoubleStacked', 'PostDoubleStacked', \n",
    "                                                         'PressureFlowLimited', 'FlowAbnormal', \n",
    "                                                         'PrematureVentTermination', 'IneffectiveTrigger', 'Garbage'])\n",
    "w.height = 150\n",
    "button = widgets.Button(description='Next')\n",
    "container = widgets.HBox(children=[w, button])\n",
    "\n",
    "button.on_click(on_button_click)\n",
    "display(container)"
   ]
  },
  {
   "cell_type": "markdown",
   "metadata": {
    "collapsed": false
   },
   "source": [
    "# Use PDS breaths to ID DS Breaths"
   ]
  },
  {
   "cell_type": "code",
   "execution_count": 32,
   "metadata": {
    "collapsed": false
   },
   "outputs": [],
   "source": [
    "pds = list(train_db.find({'validation':{'$exists':1}, 'validation.pds':1}, {'patient_id':1, 'date_time':1, 'breath_num':1}))\n",
    "for breath in pds:\n",
    "    ids = breath_db.find_one({'patient_id': breath['patient_id'], \n",
    "                              'date_time': breath['date_time'], 'breath_num':breath['breath_num']}, {'file':1})\n",
    "    data = breath_db.find_one({'patient_id': breath['patient_id'], 'file': ids['file'], 'breath_num':breath['breath_num']-1})\n",
    "    data['validation'] = {'norm': 0,\n",
    "                                'ds': 1,\n",
    "                                'pds': 0,\n",
    "                                'pfl': 0,\n",
    "                                'fa': 0,\n",
    "                                'pvt':0,\n",
    "                                'ie': 0,\n",
    "                                'garb': 0}\n",
    "\n",
    "    try:\n",
    "        train_db.insert_one(data)\n",
    "    except:\n",
    "        train_db.update_one({'patient_id': breath['patient_id'], \n",
    "                             'file':ids['file'], 'breath_num':breath['breath_num']-1}, {'$set':data})"
   ]
  },
  {
   "cell_type": "code",
   "execution_count": null,
   "metadata": {
    "collapsed": true
   },
   "outputs": [],
   "source": [
    "ids = list(train_db.find({'validation':{'$exists':1}}, {'_id':1, 'validation':1}).limit(20))"
   ]
  },
  {
   "cell_type": "code",
   "execution_count": null,
   "metadata": {
    "collapsed": false,
    "scrolled": false
   },
   "outputs": [],
   "source": [
    "for _id in ids:\n",
    "    print(_id['validation'])\n",
    "    df, breath_start, breath_end = viz.breath_viz(_id['_id'])\n",
    "    p=viz.make_plot(df, breath_start, breath_end)\n",
    "    show(p)"
   ]
  },
  {
   "cell_type": "markdown",
   "metadata": {
    "collapsed": true
   },
   "source": [
    "## Pull in additional data from database"
   ]
  },
  {
   "cell_type": "code",
   "execution_count": 33,
   "metadata": {
    "collapsed": false
   },
   "outputs": [],
   "source": [
    "import datetime\n",
    "\n",
    "pds = list(train_db.find({'validation':{'$exists':1}}, {'patient_id':1, 'date_time':1, 'breath_num':1, 'validation':1}))\n",
    "for breath in pds:\n",
    "\n",
    "    if isinstance(breath['date_time'], float):\n",
    "        date_time = datetime.datetime.fromtimestamp(breath['date_time'])\n",
    "        data = breath_db.find({'patient_id': breath['patient_id'], \n",
    "                              'date_time': date_time, 'breath_num':breath['breath_num']})\n",
    "    else: \n",
    "        data = breath_db.find({'patient_id': breath['patient_id'], \n",
    "                              'date_time': breath['date_time'], 'breath_num':breath['breath_num']})\n",
    "    \n",
    "    if data.count() == 1:\n",
    "        data = list(data)[0]\n",
    "        data['validation'] = breath['validation']\n",
    "        data.pop('_id')\n",
    "        train_db.update_one({'_id':breath['_id']}, {'$set':data})\n",
    "    else:\n",
    "        date = re.search('\\d\\d\\d\\d-\\d\\d-\\d\\d \\d\\d:\\d\\d:\\d\\d', breath['_id']).group()\n",
    "        date_time = datetime.datetime.strptime(date, '%Y-%m-%d %H:%M:%S')\n",
    "        data = breath_db.find({'patient_id': breath['patient_id'], \n",
    "                              'date_time': date_time, 'breath_num':breath['breath_num']}) \n",
    "        if data.count() == 1:\n",
    "            data = list(data)[0]\n",
    "            data['validation'] = breath['validation']\n",
    "            data.pop('_id')\n",
    "            train_db.update_one({'_id':breath['_id']}, {'$set':data})\n",
    "        else:\n",
    "            print(breath)\n",
    "            print('Missing data')"
   ]
  },
  {
   "cell_type": "code",
   "execution_count": null,
   "metadata": {
    "collapsed": true
   },
   "outputs": [],
   "source": []
  },
  {
   "cell_type": "code",
   "execution_count": null,
   "metadata": {
    "collapsed": true
   },
   "outputs": [],
   "source": []
  },
  {
   "cell_type": "code",
   "execution_count": null,
   "metadata": {
    "collapsed": true
   },
   "outputs": [],
   "source": []
  },
  {
   "cell_type": "code",
   "execution_count": null,
   "metadata": {
    "collapsed": true
   },
   "outputs": [],
   "source": []
  },
  {
   "cell_type": "code",
   "execution_count": null,
   "metadata": {
    "collapsed": true
   },
   "outputs": [],
   "source": []
  },
  {
   "cell_type": "code",
   "execution_count": null,
   "metadata": {
    "collapsed": true
   },
   "outputs": [],
   "source": []
  },
  {
   "cell_type": "code",
   "execution_count": null,
   "metadata": {
    "collapsed": true
   },
   "outputs": [],
   "source": []
  },
  {
   "cell_type": "code",
   "execution_count": null,
   "metadata": {
    "collapsed": true
   },
   "outputs": [],
   "source": []
  },
  {
   "cell_type": "code",
   "execution_count": null,
   "metadata": {
    "collapsed": true
   },
   "outputs": [],
   "source": []
  },
  {
   "cell_type": "code",
   "execution_count": null,
   "metadata": {
    "collapsed": true
   },
   "outputs": [],
   "source": []
  },
  {
   "cell_type": "code",
   "execution_count": null,
   "metadata": {
    "collapsed": true
   },
   "outputs": [],
   "source": []
  },
  {
   "cell_type": "code",
   "execution_count": null,
   "metadata": {
    "collapsed": true
   },
   "outputs": [],
   "source": []
  },
  {
   "cell_type": "code",
   "execution_count": null,
   "metadata": {
    "collapsed": true
   },
   "outputs": [],
   "source": []
  },
  {
   "cell_type": "code",
   "execution_count": null,
   "metadata": {
    "collapsed": true
   },
   "outputs": [],
   "source": []
  },
  {
   "cell_type": "code",
   "execution_count": null,
   "metadata": {
    "collapsed": true
   },
   "outputs": [],
   "source": []
  },
  {
   "cell_type": "code",
   "execution_count": null,
   "metadata": {
    "collapsed": true
   },
   "outputs": [],
   "source": []
  }
 ],
 "metadata": {
  "kernelspec": {
   "display_name": "Python 3",
   "language": "python",
   "name": "python3"
  },
  "language_info": {
   "codemirror_mode": {
    "name": "ipython",
    "version": 3
   },
   "file_extension": ".py",
   "mimetype": "text/x-python",
   "name": "python",
   "nbconvert_exporter": "python",
   "pygments_lexer": "ipython3",
   "version": "3.5.1"
  }
 },
 "nbformat": 4,
 "nbformat_minor": 0
}
