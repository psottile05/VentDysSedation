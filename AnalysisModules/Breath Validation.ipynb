{
 "cells": [
  {
   "cell_type": "code",
   "execution_count": 1,
   "metadata": {
    "collapsed": false
   },
   "outputs": [
    {
     "data": {
      "text/html": [
       "\n",
       "    <div class=\"bk-banner\">\n",
       "        <a href=\"http://bokeh.pydata.org\" target=\"_blank\" class=\"bk-logo bk-logo-small bk-logo-notebook\"></a>\n",
       "        <span id=\"6e10468d-5ad8-416a-aebc-7914b98cca03\">Loading BokehJS ...</span>\n",
       "    </div>"
      ]
     },
     "metadata": {},
     "output_type": "display_data"
    },
    {
     "data": {
      "application/javascript": [
       "\n",
       "(function(global) {\n",
       "  function now() {\n",
       "    return new Date();\n",
       "  }\n",
       "\n",
       "  if (typeof (window._bokeh_onload_callbacks) === \"undefined\") {\n",
       "    window._bokeh_onload_callbacks = [];\n",
       "  }\n",
       "\n",
       "  function run_callbacks() {\n",
       "    window._bokeh_onload_callbacks.forEach(function(callback) { callback() });\n",
       "    delete window._bokeh_onload_callbacks\n",
       "    console.info(\"Bokeh: all callbacks have finished\");\n",
       "  }\n",
       "\n",
       "  function load_libs(js_urls, callback) {\n",
       "    window._bokeh_onload_callbacks.push(callback);\n",
       "    if (window._bokeh_is_loading > 0) {\n",
       "      console.log(\"Bokeh: BokehJS is being loaded, scheduling callback at\", now());\n",
       "      return null;\n",
       "    }\n",
       "    if (js_urls == null || js_urls.length === 0) {\n",
       "      run_callbacks();\n",
       "      return null;\n",
       "    }\n",
       "    console.log(\"Bokeh: BokehJS not loaded, scheduling load and callback at\", now());\n",
       "    window._bokeh_is_loading = js_urls.length;\n",
       "    for (var i = 0; i < js_urls.length; i++) {\n",
       "      var url = js_urls[i];\n",
       "      var s = document.createElement('script');\n",
       "      s.src = url;\n",
       "      s.async = false;\n",
       "      s.onreadystatechange = s.onload = function() {\n",
       "        window._bokeh_is_loading--;\n",
       "        if (window._bokeh_is_loading === 0) {\n",
       "          console.log(\"Bokeh: all BokehJS libraries loaded\");\n",
       "          run_callbacks()\n",
       "        }\n",
       "      };\n",
       "      s.onerror = function() {\n",
       "        console.warn(\"failed to load library \" + url);\n",
       "      };\n",
       "      console.log(\"Bokeh: injecting script tag for BokehJS library: \", url);\n",
       "      document.getElementsByTagName(\"head\")[0].appendChild(s);\n",
       "    }\n",
       "  };\n",
       "\n",
       "  var js_urls = ['https://cdn.pydata.org/bokeh/release/bokeh-0.11.1.min.js', 'https://cdn.pydata.org/bokeh/release/bokeh-widgets-0.11.1.min.js', 'https://cdn.pydata.org/bokeh/release/bokeh-compiler-0.11.1.min.js'];\n",
       "\n",
       "  var inline_js = [\n",
       "    function(Bokeh) {\n",
       "      Bokeh.set_log_level(\"info\");\n",
       "    },\n",
       "    \n",
       "    function(Bokeh) {\n",
       "      Bokeh.$(\"#6e10468d-5ad8-416a-aebc-7914b98cca03\").text(\"BokehJS successfully loaded\");\n",
       "    },\n",
       "    function(Bokeh) {\n",
       "      console.log(\"Bokeh: injecting CSS: https://cdn.pydata.org/bokeh/release/bokeh-0.11.1.min.css\");\n",
       "      Bokeh.embed.inject_css(\"https://cdn.pydata.org/bokeh/release/bokeh-0.11.1.min.css\");\n",
       "      console.log(\"Bokeh: injecting CSS: https://cdn.pydata.org/bokeh/release/bokeh-widgets-0.11.1.min.css\");\n",
       "      Bokeh.embed.inject_css(\"https://cdn.pydata.org/bokeh/release/bokeh-widgets-0.11.1.min.css\");\n",
       "    }\n",
       "  ];\n",
       "\n",
       "  function run_inline_js() {\n",
       "    for (var i = 0; i < inline_js.length; i++) {\n",
       "      inline_js[i](window.Bokeh);\n",
       "    }\n",
       "  }\n",
       "\n",
       "  if (window._bokeh_is_loading === 0) {\n",
       "    console.log(\"Bokeh: BokehJS loaded, going straight to plotting\");\n",
       "    run_inline_js();\n",
       "  } else {\n",
       "    load_libs(js_urls, function() {\n",
       "      console.log(\"Bokeh: BokehJS plotting callback run at\", now());\n",
       "      run_inline_js();\n",
       "    });\n",
       "  }\n",
       "}(this));"
      ]
     },
     "metadata": {},
     "output_type": "display_data"
    }
   ],
   "source": [
    "import Visualization as viz\n",
    "from ipywidgets import widgets\n",
    "from IPython.display import display, clear_output\n",
    "from bokeh.plotting import figure, show, output_notebook\n",
    "\n",
    "output_notebook()"
   ]
  },
  {
   "cell_type": "code",
   "execution_count": 2,
   "metadata": {
    "collapsed": false
   },
   "outputs": [
    {
     "data": {
      "text/plain": [
       "10000"
      ]
     },
     "execution_count": 2,
     "metadata": {},
     "output_type": "execute_result"
    }
   ],
   "source": [
    "from pymongo import MongoClient\n",
    "\n",
    "client = MongoClient()\n",
    "db = client.VentDB\n",
    "breath_db = db.breath_collection\n",
    "train_db = db.train_collection\n",
    "\n",
    "train_db.find().count()"
   ]
  },
  {
   "cell_type": "code",
   "execution_count": 3,
   "metadata": {
    "collapsed": false
   },
   "outputs": [
    {
     "data": {
      "text/plain": [
       "1964338"
      ]
     },
     "execution_count": 3,
     "metadata": {},
     "output_type": "execute_result"
    }
   ],
   "source": [
    "breath_db.find().count()"
   ]
  },
  {
   "cell_type": "code",
   "execution_count": 4,
   "metadata": {
    "collapsed": true
   },
   "outputs": [],
   "source": [
    "def on_button_click(b):\n",
    "    global breaths\n",
    "\n",
    "    clear_output()\n",
    "    if results.alive:\n",
    "        if breaths != 1:\n",
    "            viz.update_database(breaths['_id'], w.selected_labels)\n",
    "\n",
    "        breaths = results.next()\n",
    "        df, breath_start, breath_end = viz.breath_viz(breaths['_id'])\n",
    "        p=viz.make_plot(df, breath_start, breath_end)\n",
    "        show(p)\n",
    "    else:\n",
    "        if breaths != 1:\n",
    "            viz.update_database(breaths['_id'], w.selected_labels)\n",
    "        clear_output()\n",
    "        print('No more')"
   ]
  },
  {
   "cell_type": "code",
   "execution_count": 5,
   "metadata": {
    "collapsed": false
   },
   "outputs": [
    {
     "data": {
      "text/plain": [
       "942"
      ]
     },
     "execution_count": 5,
     "metadata": {},
     "output_type": "execute_result"
    }
   ],
   "source": [
    "train_db.find({'validation':{'$exists':0}, 'breath_character.exp_time': {'$lte': 1000}}).count()"
   ]
  },
  {
   "cell_type": "code",
   "execution_count": 6,
   "metadata": {
    "collapsed": false
   },
   "outputs": [],
   "source": [
    "import pandas as pd\n",
    "val_df = pd.io.json.json_normalize(list(train_db.find({'validation':{'$exists':1}}, {'validation':1})))"
   ]
  },
  {
   "cell_type": "code",
   "execution_count": 7,
   "metadata": {
    "collapsed": false
   },
   "outputs": [],
   "source": [
    "val_df.replace({0:False, 1:True}, inplace=True)\n",
    "val_df = val_df[['validation.ds', 'validation.fa', 'validation.garb',\n",
    "       'validation.ie', 'validation.norm', 'validation.pds', 'validation.pfl',\n",
    "       'validation.pvt']].astype(bool)"
   ]
  },
  {
   "cell_type": "code",
   "execution_count": 8,
   "metadata": {
    "collapsed": false,
    "scrolled": true
   },
   "outputs": [
    {
     "data": {
      "text/plain": [
       "False    1568\n",
       "True       25\n",
       "Name: validation.ds, dtype: int64"
      ]
     },
     "execution_count": 8,
     "metadata": {},
     "output_type": "execute_result"
    }
   ],
   "source": [
    "val_df['validation.ds'].value_counts()"
   ]
  },
  {
   "cell_type": "code",
   "execution_count": 9,
   "metadata": {
    "collapsed": false
   },
   "outputs": [
    {
     "data": {
      "text/plain": [
       "False    1574\n",
       "True       19\n",
       "Name: validation.pds, dtype: int64"
      ]
     },
     "execution_count": 9,
     "metadata": {},
     "output_type": "execute_result"
    }
   ],
   "source": [
    "val_df['validation.pds'].value_counts()"
   ]
  },
  {
   "cell_type": "code",
   "execution_count": 10,
   "metadata": {
    "collapsed": false
   },
   "outputs": [
    {
     "data": {
      "text/plain": [
       "False    1179\n",
       "True      414\n",
       "Name: validation.pfl, dtype: int64"
      ]
     },
     "execution_count": 10,
     "metadata": {},
     "output_type": "execute_result"
    }
   ],
   "source": [
    "val_df['validation.pfl'].value_counts()"
   ]
  },
  {
   "cell_type": "code",
   "execution_count": 11,
   "metadata": {
    "collapsed": false
   },
   "outputs": [
    {
     "data": {
      "text/plain": [
       "False    1496\n",
       "True       97\n",
       "Name: validation.pvt, dtype: int64"
      ]
     },
     "execution_count": 11,
     "metadata": {},
     "output_type": "execute_result"
    }
   ],
   "source": [
    "val_df['validation.pvt'].value_counts()"
   ]
  },
  {
   "cell_type": "code",
   "execution_count": 12,
   "metadata": {
    "collapsed": false
   },
   "outputs": [
    {
     "data": {
      "text/plain": [
       "False    1272\n",
       "True      321\n",
       "Name: validation.ie, dtype: int64"
      ]
     },
     "execution_count": 12,
     "metadata": {},
     "output_type": "execute_result"
    }
   ],
   "source": [
    "val_df['validation.ie'].value_counts()"
   ]
  },
  {
   "cell_type": "code",
   "execution_count": 13,
   "metadata": {
    "collapsed": false
   },
   "outputs": [
    {
     "data": {
      "text/plain": [
       "True     831\n",
       "False    762\n",
       "Name: validation.norm, dtype: int64"
      ]
     },
     "execution_count": 13,
     "metadata": {},
     "output_type": "execute_result"
    }
   ],
   "source": [
    "val_df['validation.norm'].value_counts()"
   ]
  },
  {
   "cell_type": "code",
   "execution_count": 14,
   "metadata": {
    "collapsed": false,
    "scrolled": false
   },
   "outputs": [
    {
     "data": {
      "text/html": [
       "\n",
       "\n",
       "    <div class=\"plotdiv\" id=\"b586be42-8113-4a5a-9dbd-b701f3488873\"></div>\n",
       "<script type=\"text/javascript\">\n",
       "  \n",
       "  (function(global) {\n",
       "    function now() {\n",
       "      return new Date();\n",
       "    }\n",
       "  \n",
       "    if (typeof (window._bokeh_onload_callbacks) === \"undefined\") {\n",
       "      window._bokeh_onload_callbacks = [];\n",
       "    }\n",
       "  \n",
       "    function run_callbacks() {\n",
       "      window._bokeh_onload_callbacks.forEach(function(callback) { callback() });\n",
       "      delete window._bokeh_onload_callbacks\n",
       "      console.info(\"Bokeh: all callbacks have finished\");\n",
       "    }\n",
       "  \n",
       "    function load_libs(js_urls, callback) {\n",
       "      window._bokeh_onload_callbacks.push(callback);\n",
       "      if (window._bokeh_is_loading > 0) {\n",
       "        console.log(\"Bokeh: BokehJS is being loaded, scheduling callback at\", now());\n",
       "        return null;\n",
       "      }\n",
       "      if (js_urls == null || js_urls.length === 0) {\n",
       "        run_callbacks();\n",
       "        return null;\n",
       "      }\n",
       "      console.log(\"Bokeh: BokehJS not loaded, scheduling load and callback at\", now());\n",
       "      window._bokeh_is_loading = js_urls.length;\n",
       "      for (var i = 0; i < js_urls.length; i++) {\n",
       "        var url = js_urls[i];\n",
       "        var s = document.createElement('script');\n",
       "        s.src = url;\n",
       "        s.async = false;\n",
       "        s.onreadystatechange = s.onload = function() {\n",
       "          window._bokeh_is_loading--;\n",
       "          if (window._bokeh_is_loading === 0) {\n",
       "            console.log(\"Bokeh: all BokehJS libraries loaded\");\n",
       "            run_callbacks()\n",
       "          }\n",
       "        };\n",
       "        s.onerror = function() {\n",
       "          console.warn(\"failed to load library \" + url);\n",
       "        };\n",
       "        console.log(\"Bokeh: injecting script tag for BokehJS library: \", url);\n",
       "        document.getElementsByTagName(\"head\")[0].appendChild(s);\n",
       "      }\n",
       "    };var element = document.getElementById(\"b586be42-8113-4a5a-9dbd-b701f3488873\");\n",
       "    if (element == null) {\n",
       "      console.log(\"Bokeh: ERROR: autoload.js configured with elementid 'b586be42-8113-4a5a-9dbd-b701f3488873' but no matching script tag was found. \")\n",
       "      return false;\n",
       "    }\n",
       "  \n",
       "    var js_urls = [];\n",
       "  \n",
       "    var inline_js = [\n",
       "      function(Bokeh) {\n",
       "        Bokeh.$(function() {\n",
       "            var docs_json = {\"a76ff762-fc7d-400b-9e4d-5d5798de8975\":{\"roots\":{\"references\":[{\"attributes\":{},\"id\":\"f5b1e174-6dfc-4adf-b119-14e2f0736d8c\",\"type\":\"BasicTickFormatter\"},{\"attributes\":{},\"id\":\"40c8bc13-731a-4b1a-b15a-59680360acf6\",\"type\":\"BasicTicker\"},{\"attributes\":{\"formatter\":{\"id\":\"1b50efa0-11d4-4b96-ab11-8d6d24b4daf5\",\"type\":\"BasicTickFormatter\"},\"plot\":{\"id\":\"6b10deba-7bef-4a9c-8002-20b9b7f64d42\",\"subtype\":\"Figure\",\"type\":\"Plot\"},\"ticker\":{\"id\":\"fbdfcf83-c0e0-460c-9704-db127f452625\",\"type\":\"BasicTicker\"}},\"id\":\"7f5e92cd-cf54-4ae3-965b-3fb12a203faf\",\"type\":\"LinearAxis\"},{\"attributes\":{\"plot\":{\"id\":\"d7c604a1-90b7-484d-ab6d-5a977f82e55b\",\"subtype\":\"Figure\",\"type\":\"Plot\"}},\"id\":\"cb59086d-348b-47ce-b615-a0bf91977a3e\",\"type\":\"HelpTool\"},{\"attributes\":{\"data_source\":{\"id\":\"8bb2c268-38fb-4816-a91b-ab3071de80e4\",\"type\":\"ColumnDataSource\"},\"glyph\":{\"id\":\"c2a6e404-7785-4379-ab45-0c1a90e795d8\",\"type\":\"Line\"},\"hover_glyph\":null,\"name\":\"Paw\",\"nonselection_glyph\":{\"id\":\"4cbf8d04-d2a3-4439-8f29-8bfec90f9b1e\",\"type\":\"Line\"},\"selection_glyph\":null},\"id\":\"b7c1024d-0bf8-4499-9edb-1583f3f16bbe\",\"type\":\"GlyphRenderer\"},{\"attributes\":{\"data_source\":{\"id\":\"e71224f8-d147-4987-b3a6-f823b17d7b6e\",\"type\":\"ColumnDataSource\"},\"glyph\":{\"id\":\"32106624-29b1-4f91-836f-988f28b03a1c\",\"type\":\"Line\"},\"hover_glyph\":null,\"nonselection_glyph\":{\"id\":\"acaa4925-9e8b-4d32-b945-f0d1ecbdcc51\",\"type\":\"Line\"},\"selection_glyph\":null},\"id\":\"6d35d685-b6a8-49d9-bdb9-c73282c8a4ce\",\"type\":\"GlyphRenderer\"},{\"attributes\":{},\"id\":\"46dad77a-51b0-44f7-8d46-8b989f6d1615\",\"type\":\"ToolEvents\"},{\"attributes\":{\"plot\":{\"id\":\"6b10deba-7bef-4a9c-8002-20b9b7f64d42\",\"subtype\":\"Figure\",\"type\":\"Plot\"}},\"id\":\"20ba8ae0-890f-4e9d-a080-441687245867\",\"type\":\"PreviewSaveTool\"},{\"attributes\":{\"plot\":{\"id\":\"6b10deba-7bef-4a9c-8002-20b9b7f64d42\",\"subtype\":\"Figure\",\"type\":\"Plot\"}},\"id\":\"dab794e7-ab20-486e-aa30-3f25e4ef70f6\",\"type\":\"ResizeTool\"},{\"attributes\":{},\"id\":\"33454aa1-80ca-4b56-a8cc-4daeb8c7c1bc\",\"type\":\"BasicTicker\"},{\"attributes\":{\"callback\":null},\"id\":\"450e1bdc-d757-4cb2-8b74-d78fe31a64df\",\"type\":\"DataRange1d\"},{\"attributes\":{\"callback\":null},\"id\":\"a9cebf15-0c80-4070-a12e-2a862a26d5f5\",\"type\":\"DataRange1d\"},{\"attributes\":{\"formatter\":{\"id\":\"b5075a5f-778b-487e-b83f-d77f79c25564\",\"type\":\"BasicTickFormatter\"},\"plot\":{\"id\":\"d7c604a1-90b7-484d-ab6d-5a977f82e55b\",\"subtype\":\"Figure\",\"type\":\"Plot\"},\"ticker\":{\"id\":\"055552b9-e870-4e53-ad11-8310fdd676ae\",\"type\":\"BasicTicker\"}},\"id\":\"eec81107-fb6f-457c-9bad-fbef2157cca4\",\"type\":\"LinearAxis\"},{\"attributes\":{\"callback\":null,\"column_names\":[\"x\",\"y\"],\"data\":{\"x\":[23968.0,23968.0],\"y\":[-40,40]}},\"id\":\"d213f22c-9f38-402a-a159-2e8db7480ef0\",\"type\":\"ColumnDataSource\"},{\"attributes\":{\"plot\":{\"id\":\"d7c604a1-90b7-484d-ab6d-5a977f82e55b\",\"subtype\":\"Figure\",\"type\":\"Plot\"}},\"id\":\"479a32f1-9f07-4ce1-be11-807cb83c412b\",\"type\":\"ResizeTool\"},{\"attributes\":{\"overlay\":{\"id\":\"e7345eda-aeb8-462d-8672-e64cb3aac74c\",\"type\":\"BoxAnnotation\"},\"plot\":{\"id\":\"20277daa-8fdd-4b4a-92d3-69ead7dd14c2\",\"subtype\":\"Figure\",\"type\":\"Plot\"}},\"id\":\"fef58e73-5234-4938-9b2b-fafc66d83bc9\",\"type\":\"BoxZoomTool\"},{\"attributes\":{\"line_alpha\":{\"value\":0.1},\"line_color\":{\"value\":\"#1f77b4\"},\"x\":{\"field\":\"x\"},\"y\":{\"field\":\"y\"}},\"id\":\"acaa4925-9e8b-4d32-b945-f0d1ecbdcc51\",\"type\":\"Line\"},{\"attributes\":{\"plot\":{\"id\":\"6b10deba-7bef-4a9c-8002-20b9b7f64d42\",\"subtype\":\"Figure\",\"type\":\"Plot\"}},\"id\":\"cc77d70e-b2e8-4387-829c-ebf7321f4832\",\"type\":\"WheelZoomTool\"},{\"attributes\":{\"axis_label\":\"Paw\",\"formatter\":{\"id\":\"2f51c241-b49a-49d0-9c6e-33a1601bd623\",\"type\":\"BasicTickFormatter\"},\"plot\":{\"id\":\"6b10deba-7bef-4a9c-8002-20b9b7f64d42\",\"subtype\":\"Figure\",\"type\":\"Plot\"},\"ticker\":{\"id\":\"8240b752-e087-48cc-80b5-d27d619ca92b\",\"type\":\"BasicTicker\"}},\"id\":\"d32553a0-1907-4b39-92cc-50092d9c7d97\",\"type\":\"LinearAxis\"},{\"attributes\":{\"plot\":{\"id\":\"20277daa-8fdd-4b4a-92d3-69ead7dd14c2\",\"subtype\":\"Figure\",\"type\":\"Plot\"}},\"id\":\"88bcfcd4-43e4-4521-8cd8-7e4dc08fe255\",\"type\":\"PanTool\"},{\"attributes\":{\"line_color\":{\"value\":\"green\"},\"x\":{\"field\":\"x\"},\"y\":{\"field\":\"y\"}},\"id\":\"61b053c3-2323-47a9-bb18-73f59bec00a2\",\"type\":\"Line\"},{\"attributes\":{\"bottom_units\":\"screen\",\"fill_alpha\":{\"value\":0.5},\"fill_color\":{\"value\":\"lightgrey\"},\"left_units\":\"screen\",\"level\":\"overlay\",\"line_alpha\":{\"value\":1.0},\"line_color\":{\"value\":\"black\"},\"line_dash\":[4,4],\"line_width\":{\"value\":2},\"plot\":null,\"render_mode\":\"css\",\"right_units\":\"screen\",\"top_units\":\"screen\"},\"id\":\"f0bfbed1-6d56-4e67-8d48-6d267484e8fa\",\"type\":\"BoxAnnotation\"},{\"attributes\":{\"line_alpha\":{\"value\":0.1},\"line_color\":{\"value\":\"#1f77b4\"},\"x\":{\"field\":\"x\"},\"y\":{\"field\":\"y\"}},\"id\":\"ffe2ba1e-8487-45e2-854a-38b0347c2fe8\",\"type\":\"Line\"},{\"attributes\":{\"plot\":{\"id\":\"20277daa-8fdd-4b4a-92d3-69ead7dd14c2\",\"subtype\":\"Figure\",\"type\":\"Plot\"}},\"id\":\"48cd1b27-7d4c-4d80-b65a-8713d5e33382\",\"type\":\"WheelZoomTool\"},{\"attributes\":{\"plot\":{\"id\":\"20277daa-8fdd-4b4a-92d3-69ead7dd14c2\",\"subtype\":\"Figure\",\"type\":\"Plot\"}},\"id\":\"71eb316d-4b6a-4466-9481-0ed446fd42a7\",\"type\":\"HelpTool\"},{\"attributes\":{},\"id\":\"8240b752-e087-48cc-80b5-d27d619ca92b\",\"type\":\"BasicTicker\"},{\"attributes\":{\"callback\":null,\"column_names\":[\"x\",\"y\"],\"data\":{\"x\":[21152.0,21184.0,21216.0,21248.0,21280.0,21312.0,21344.0,21376.0,21408.0,21440.0,21472.0,21504.0,21536.0,21568.0,21600.0,21632.0,21664.0,21696.0,21728.0,21760.0,21792.0,21824.0,21856.0,21888.0,21920.0,21952.0,21984.0,22016.0,22048.0,22080.0,22112.0,22144.0,22176.0,22208.0,22240.0,22272.0,22304.0,22336.0,22368.0,22400.0,22432.0,22464.0,22496.0,22528.0,22560.0,22592.0,22624.0,22656.0,22688.0,22720.0,22752.0,22784.0,22816.0,22848.0,22880.0,22912.0,22944.0,22976.0,23008.0,23040.0,23072.0,23104.0,23136.0,23168.0,23200.0,23232.0,23264.0,23296.0,23328.0,23360.0,23392.0,23424.0,23456.0,23488.0,23520.0,23552.0,23584.0,23616.0,23648.0,23680.0,23712.0,23744.0,23776.0,23808.0,23840.0,23872.0,23904.0,23936.0,23968.0],\"y\":[-2.2428571428571438,3.9357142857142904,12.928571428571441,22.271428571428594,30.1214285714286,36.08571428571432,40.11428571428575,42.30714285714289,43.1071428571429,42.39285714285718,41.46428571428575,40.79285714285719,39.30714285714289,38.51428571428575,37.43571428571431,35.90000000000003,34.20000000000003,32.46428571428574,30.73571428571431,29.200000000000024,28.08571428571431,27.09285714285717,25.97857142857145,24.742857142857165,23.457142857142877,22.278571428571446,21.264285714285734,20.500000000000018,19.328571428571443,18.05714285714287,16.814285714285727,15.37857142857144,14.071428571428585,12.721428571428582,11.607142857142868,10.600000000000009,9.985714285714295,9.250000000000007,8.67142857142858,7.957142857142863,7.485714285714293,6.878571428571435,7.178571428571434,8.578571428571433,2.335714285714285,-11.878571428571439,-28.542857142857166,-42.30000000000003,-49.48571428571433,-48.671428571428606,-48.085714285714324,-48.22857142857147,-47.185714285714326,-44.80000000000004,-42.70000000000004,-40.55000000000004,-38.642857142857174,-36.742857142857176,-34.885714285714315,-33.40714285714289,-32.07857142857146,-30.81428571428574,-29.6214285714286,-28.442857142857168,-27.107142857142883,-26.00000000000002,-24.621428571428595,-23.05714285714288,-21.450000000000017,-20.171428571428592,-18.907142857142876,-18.057142857142875,-17.4857142857143,-16.56428571428573,-15.871428571428584,-14.964285714285728,-13.650000000000011,-11.964285714285726,-10.407142857142865,-8.914285714285723,-7.94285714285715,-7.464285714285721,-7.328571428571435,-7.16428571428572,-6.992857142857149,-6.607142857142863,-6.207142857142863,-6.028571428571434,-6.928571428571434]}},\"id\":\"a777cfc7-fd74-4bb9-beb0-a185c50bf8ce\",\"type\":\"ColumnDataSource\"},{\"attributes\":{\"line_color\":{\"value\":\"firebrick\"},\"x\":{\"field\":\"x\"},\"y\":{\"field\":\"y\"}},\"id\":\"1a571efa-12c3-49da-92e3-88106011b951\",\"type\":\"Line\"},{\"attributes\":{\"line_alpha\":{\"value\":0.1},\"line_color\":{\"value\":\"#1f77b4\"},\"x\":{\"field\":\"x\"},\"y\":{\"field\":\"y\"}},\"id\":\"b59c3b73-41ef-4c18-872d-8bc8f46356e3\",\"type\":\"Line\"},{\"attributes\":{\"data_source\":{\"id\":\"a777cfc7-fd74-4bb9-beb0-a185c50bf8ce\",\"type\":\"ColumnDataSource\"},\"glyph\":{\"id\":\"1a571efa-12c3-49da-92e3-88106011b951\",\"type\":\"Line\"},\"hover_glyph\":null,\"name\":\"Flow\",\"nonselection_glyph\":{\"id\":\"5d69081e-7b85-4840-8c88-925f4cccd574\",\"type\":\"Line\"},\"selection_glyph\":null},\"id\":\"1e5262b1-02a8-49c5-acfe-9f783733b7e5\",\"type\":\"GlyphRenderer\"},{\"attributes\":{\"data_source\":{\"id\":\"b14b5215-a2fc-4a29-b570-f0ecea8818f2\",\"type\":\"ColumnDataSource\"},\"glyph\":{\"id\":\"c8de6c00-5b4b-47ef-a078-cce3c68d016a\",\"type\":\"Line\"},\"hover_glyph\":null,\"name\":\"Volume\",\"nonselection_glyph\":{\"id\":\"ffe2ba1e-8487-45e2-854a-38b0347c2fe8\",\"type\":\"Line\"},\"selection_glyph\":null},\"id\":\"c7c8b973-0bf9-40b3-b83f-251b8cfc438c\",\"type\":\"GlyphRenderer\"},{\"attributes\":{\"data_source\":{\"id\":\"d213f22c-9f38-402a-a159-2e8db7480ef0\",\"type\":\"ColumnDataSource\"},\"glyph\":{\"id\":\"e6e9b808-9dec-4d8e-b8ee-add50368c0b8\",\"type\":\"Line\"},\"hover_glyph\":null,\"nonselection_glyph\":{\"id\":\"2a16364d-d68c-4339-9f5c-44ae8476dbb1\",\"type\":\"Line\"},\"selection_glyph\":null},\"id\":\"95222727-8ed7-408f-b4a3-88e7a1973981\",\"type\":\"GlyphRenderer\"},{\"attributes\":{\"plot\":{\"id\":\"d7c604a1-90b7-484d-ab6d-5a977f82e55b\",\"subtype\":\"Figure\",\"type\":\"Plot\"}},\"id\":\"d47318a8-73fc-4e01-811d-26b66f894baa\",\"type\":\"PanTool\"},{\"attributes\":{\"line_color\":{\"value\":\"green\"},\"x\":{\"field\":\"x\"},\"y\":{\"field\":\"y\"}},\"id\":\"225c7ff2-a81e-4609-8803-9129a6e053a0\",\"type\":\"Line\"},{\"attributes\":{\"dimension\":1,\"plot\":{\"id\":\"6b10deba-7bef-4a9c-8002-20b9b7f64d42\",\"subtype\":\"Figure\",\"type\":\"Plot\"},\"ticker\":{\"id\":\"8240b752-e087-48cc-80b5-d27d619ca92b\",\"type\":\"BasicTicker\"}},\"id\":\"06c461b4-2cc1-4785-98c4-7d3bb64e5e83\",\"type\":\"Grid\"},{\"attributes\":{\"line_alpha\":{\"value\":0.1},\"line_color\":{\"value\":\"#1f77b4\"},\"x\":{\"field\":\"x\"},\"y\":{\"field\":\"y\"}},\"id\":\"5d69081e-7b85-4840-8c88-925f4cccd574\",\"type\":\"Line\"},{\"attributes\":{},\"id\":\"1b50efa0-11d4-4b96-ab11-8d6d24b4daf5\",\"type\":\"BasicTickFormatter\"},{\"attributes\":{\"line_alpha\":{\"value\":0.1},\"line_color\":{\"value\":\"#1f77b4\"},\"x\":{\"field\":\"x\"},\"y\":{\"field\":\"y\"}},\"id\":\"3c97efd7-8d18-49d3-9db1-23de28dc259e\",\"type\":\"Line\"},{\"attributes\":{\"data_source\":{\"id\":\"426000a4-bf81-4678-88ea-6c0240d2647f\",\"type\":\"ColumnDataSource\"},\"glyph\":{\"id\":\"225c7ff2-a81e-4609-8803-9129a6e053a0\",\"type\":\"Line\"},\"hover_glyph\":null,\"nonselection_glyph\":{\"id\":\"93a6fa33-9fa2-445c-9be4-f4c3e999dbd8\",\"type\":\"Line\"},\"selection_glyph\":null},\"id\":\"f40112b1-eb48-4625-a590-26d35654ab3d\",\"type\":\"GlyphRenderer\"},{\"attributes\":{\"data_source\":{\"id\":\"439f570d-93e9-4bab-979b-471ac2bb6517\",\"type\":\"ColumnDataSource\"},\"glyph\":{\"id\":\"61b053c3-2323-47a9-bb18-73f59bec00a2\",\"type\":\"Line\"},\"hover_glyph\":null,\"nonselection_glyph\":{\"id\":\"3c97efd7-8d18-49d3-9db1-23de28dc259e\",\"type\":\"Line\"},\"selection_glyph\":null},\"id\":\"ce01e5a8-e536-4092-b58f-c96669f3487c\",\"type\":\"GlyphRenderer\"},{\"attributes\":{\"callback\":null,\"column_names\":[\"x\",\"y\"],\"data\":{\"x\":[21152.0,21152.0],\"y\":[0,40]}},\"id\":\"2d4b6c25-6c43-4c4d-bab2-3be518aa2f2b\",\"type\":\"ColumnDataSource\"},{\"attributes\":{},\"id\":\"ed242c32-a84e-490e-838b-a6b5d401ec79\",\"type\":\"BasicTickFormatter\"},{\"attributes\":{\"dimension\":1,\"plot\":{\"id\":\"d7c604a1-90b7-484d-ab6d-5a977f82e55b\",\"subtype\":\"Figure\",\"type\":\"Plot\"},\"ticker\":{\"id\":\"33454aa1-80ca-4b56-a8cc-4daeb8c7c1bc\",\"type\":\"BasicTicker\"}},\"id\":\"cbd53f53-501e-4248-ad57-ad3c5cf18abc\",\"type\":\"Grid\"},{\"attributes\":{},\"id\":\"0485181f-59d5-45b6-8a33-b37c1df8a9fb\",\"type\":\"ToolEvents\"},{\"attributes\":{},\"id\":\"c4cb58ad-b5dc-4a5d-9d5b-0379d2b5522d\",\"type\":\"BasicTicker\"},{\"attributes\":{\"plot\":{\"id\":\"d7c604a1-90b7-484d-ab6d-5a977f82e55b\",\"subtype\":\"Figure\",\"type\":\"Plot\"},\"ticker\":{\"id\":\"055552b9-e870-4e53-ad11-8310fdd676ae\",\"type\":\"BasicTicker\"}},\"id\":\"40a4a384-53b1-40d6-a695-24fd28080e8f\",\"type\":\"Grid\"},{\"attributes\":{\"bottom_units\":\"screen\",\"fill_alpha\":{\"value\":0.5},\"fill_color\":{\"value\":\"lightgrey\"},\"left_units\":\"screen\",\"level\":\"overlay\",\"line_alpha\":{\"value\":1.0},\"line_color\":{\"value\":\"black\"},\"line_dash\":[4,4],\"line_width\":{\"value\":2},\"plot\":null,\"render_mode\":\"css\",\"right_units\":\"screen\",\"top_units\":\"screen\"},\"id\":\"8671082f-5305-4d70-a79e-d9933554aa7e\",\"type\":\"BoxAnnotation\"},{\"attributes\":{\"line_alpha\":{\"value\":0.1},\"line_color\":{\"value\":\"#1f77b4\"},\"x\":{\"field\":\"x\"},\"y\":{\"field\":\"y\"}},\"id\":\"4cbf8d04-d2a3-4439-8f29-8bfec90f9b1e\",\"type\":\"Line\"},{\"attributes\":{\"plot\":{\"id\":\"6b10deba-7bef-4a9c-8002-20b9b7f64d42\",\"subtype\":\"Figure\",\"type\":\"Plot\"}},\"id\":\"5fb7b4db-92e9-4517-83ae-f63dde645729\",\"type\":\"HelpTool\"},{\"attributes\":{\"plot\":{\"id\":\"d7c604a1-90b7-484d-ab6d-5a977f82e55b\",\"subtype\":\"Figure\",\"type\":\"Plot\"}},\"id\":\"6e37e10d-ac53-472e-8f8c-1009eb6fa2df\",\"type\":\"WheelZoomTool\"},{\"attributes\":{\"line_color\":{\"value\":\"green\"},\"x\":{\"field\":\"x\"},\"y\":{\"field\":\"y\"}},\"id\":\"32106624-29b1-4f91-836f-988f28b03a1c\",\"type\":\"Line\"},{\"attributes\":{\"line_color\":{\"value\":\"green\"},\"x\":{\"field\":\"x\"},\"y\":{\"field\":\"y\"}},\"id\":\"e6e9b808-9dec-4d8e-b8ee-add50368c0b8\",\"type\":\"Line\"},{\"attributes\":{},\"id\":\"68122e1e-ca49-4fe5-9b6a-486b885a891a\",\"type\":\"ToolEvents\"},{\"attributes\":{\"below\":[{\"id\":\"eec81107-fb6f-457c-9bad-fbef2157cca4\",\"type\":\"LinearAxis\"}],\"left\":[{\"id\":\"b10ede9c-4c24-4596-a9e9-6dd0414252fc\",\"type\":\"LinearAxis\"}],\"plot_height\":250,\"renderers\":[{\"id\":\"eec81107-fb6f-457c-9bad-fbef2157cca4\",\"type\":\"LinearAxis\"},{\"id\":\"40a4a384-53b1-40d6-a695-24fd28080e8f\",\"type\":\"Grid\"},{\"id\":\"b10ede9c-4c24-4596-a9e9-6dd0414252fc\",\"type\":\"LinearAxis\"},{\"id\":\"cbd53f53-501e-4248-ad57-ad3c5cf18abc\",\"type\":\"Grid\"},{\"id\":\"f0bfbed1-6d56-4e67-8d48-6d267484e8fa\",\"type\":\"BoxAnnotation\"},{\"id\":\"c7c8b973-0bf9-40b3-b83f-251b8cfc438c\",\"type\":\"GlyphRenderer\"},{\"id\":\"6d35d685-b6a8-49d9-bdb9-c73282c8a4ce\",\"type\":\"GlyphRenderer\"},{\"id\":\"f40112b1-eb48-4625-a590-26d35654ab3d\",\"type\":\"GlyphRenderer\"}],\"tool_events\":{\"id\":\"68122e1e-ca49-4fe5-9b6a-486b885a891a\",\"type\":\"ToolEvents\"},\"toolbar_location\":\"right\",\"tools\":[{\"id\":\"d47318a8-73fc-4e01-811d-26b66f894baa\",\"type\":\"PanTool\"},{\"id\":\"6e37e10d-ac53-472e-8f8c-1009eb6fa2df\",\"type\":\"WheelZoomTool\"},{\"id\":\"a182fe36-9794-48e4-bad9-e706999e3ef7\",\"type\":\"BoxZoomTool\"},{\"id\":\"197551b1-825b-4c8a-b90d-49219eec4598\",\"type\":\"PreviewSaveTool\"},{\"id\":\"479a32f1-9f07-4ce1-be11-807cb83c412b\",\"type\":\"ResizeTool\"},{\"id\":\"ee1b60bb-9896-448c-8bee-eadb69bb92cb\",\"type\":\"ResetTool\"},{\"id\":\"cb59086d-348b-47ce-b615-a0bf91977a3e\",\"type\":\"HelpTool\"}],\"x_range\":{\"id\":\"a9cebf15-0c80-4070-a12e-2a862a26d5f5\",\"type\":\"DataRange1d\"},\"y_range\":{\"id\":\"b6a39815-b261-429c-aeb0-28466ffd2fa0\",\"type\":\"DataRange1d\"}},\"id\":\"d7c604a1-90b7-484d-ab6d-5a977f82e55b\",\"subtype\":\"Figure\",\"type\":\"Plot\"},{\"attributes\":{\"line_color\":{\"value\":\"olive\"},\"x\":{\"field\":\"x\"},\"y\":{\"field\":\"y\"}},\"id\":\"c8de6c00-5b4b-47ef-a078-cce3c68d016a\",\"type\":\"Line\"},{\"attributes\":{\"line_color\":{\"value\":\"green\"},\"x\":{\"field\":\"x\"},\"y\":{\"field\":\"y\"}},\"id\":\"125174fe-2395-43ec-8533-591838b05646\",\"type\":\"Line\"},{\"attributes\":{\"callback\":null,\"column_names\":[\"x\",\"y\"],\"data\":{\"x\":[21152.0,21152.0],\"y\":[0,400]}},\"id\":\"e71224f8-d147-4987-b3a6-f823b17d7b6e\",\"type\":\"ColumnDataSource\"},{\"attributes\":{\"callback\":null},\"id\":\"b6a39815-b261-429c-aeb0-28466ffd2fa0\",\"type\":\"DataRange1d\"},{\"attributes\":{\"overlay\":{\"id\":\"f0bfbed1-6d56-4e67-8d48-6d267484e8fa\",\"type\":\"BoxAnnotation\"},\"plot\":{\"id\":\"d7c604a1-90b7-484d-ab6d-5a977f82e55b\",\"subtype\":\"Figure\",\"type\":\"Plot\"}},\"id\":\"a182fe36-9794-48e4-bad9-e706999e3ef7\",\"type\":\"BoxZoomTool\"},{\"attributes\":{\"plot\":{\"id\":\"20277daa-8fdd-4b4a-92d3-69ead7dd14c2\",\"subtype\":\"Figure\",\"type\":\"Plot\"}},\"id\":\"41ac18e6-20f2-4522-b07b-e069c0d8a03c\",\"type\":\"ResetTool\"},{\"attributes\":{\"plot\":{\"id\":\"6b10deba-7bef-4a9c-8002-20b9b7f64d42\",\"subtype\":\"Figure\",\"type\":\"Plot\"},\"ticker\":{\"id\":\"fbdfcf83-c0e0-460c-9704-db127f452625\",\"type\":\"BasicTicker\"}},\"id\":\"d7b15d28-a09b-4aad-bf85-11b7e0d90e7e\",\"type\":\"Grid\"},{\"attributes\":{\"overlay\":{\"id\":\"8671082f-5305-4d70-a79e-d9933554aa7e\",\"type\":\"BoxAnnotation\"},\"plot\":{\"id\":\"6b10deba-7bef-4a9c-8002-20b9b7f64d42\",\"subtype\":\"Figure\",\"type\":\"Plot\"}},\"id\":\"383d023a-fd49-4677-a5c8-c7e6d760b680\",\"type\":\"BoxZoomTool\"},{\"attributes\":{},\"id\":\"055552b9-e870-4e53-ad11-8310fdd676ae\",\"type\":\"BasicTicker\"},{\"attributes\":{\"formatter\":{\"id\":\"f5b1e174-6dfc-4adf-b119-14e2f0736d8c\",\"type\":\"BasicTickFormatter\"},\"plot\":{\"id\":\"20277daa-8fdd-4b4a-92d3-69ead7dd14c2\",\"subtype\":\"Figure\",\"type\":\"Plot\"},\"ticker\":{\"id\":\"c4cb58ad-b5dc-4a5d-9d5b-0379d2b5522d\",\"type\":\"BasicTicker\"}},\"id\":\"1c3df2ec-bb5e-466f-818e-e04694d148d0\",\"type\":\"LinearAxis\"},{\"attributes\":{\"plot\":{\"id\":\"20277daa-8fdd-4b4a-92d3-69ead7dd14c2\",\"subtype\":\"Figure\",\"type\":\"Plot\"}},\"id\":\"b61aaa5c-4a8d-4872-a28f-f7a5e508553c\",\"type\":\"ResizeTool\"},{\"attributes\":{\"line_color\":{\"value\":\"green\"},\"x\":{\"field\":\"x\"},\"y\":{\"field\":\"y\"}},\"id\":\"307d532d-602a-4002-b3a7-cfa765489fca\",\"type\":\"Line\"},{\"attributes\":{},\"id\":\"fbdfcf83-c0e0-460c-9704-db127f452625\",\"type\":\"BasicTicker\"},{\"attributes\":{\"axis_label\":\"Flow\",\"formatter\":{\"id\":\"ed242c32-a84e-490e-838b-a6b5d401ec79\",\"type\":\"BasicTickFormatter\"},\"plot\":{\"id\":\"20277daa-8fdd-4b4a-92d3-69ead7dd14c2\",\"subtype\":\"Figure\",\"type\":\"Plot\"},\"ticker\":{\"id\":\"40c8bc13-731a-4b1a-b15a-59680360acf6\",\"type\":\"BasicTicker\"}},\"id\":\"a31eb3b3-1254-450b-8d19-7d6bee0e0f89\",\"type\":\"LinearAxis\"},{\"attributes\":{\"line_alpha\":{\"value\":0.1},\"line_color\":{\"value\":\"#1f77b4\"},\"x\":{\"field\":\"x\"},\"y\":{\"field\":\"y\"}},\"id\":\"2a16364d-d68c-4339-9f5c-44ae8476dbb1\",\"type\":\"Line\"},{\"attributes\":{\"bottom_units\":\"screen\",\"fill_alpha\":{\"value\":0.5},\"fill_color\":{\"value\":\"lightgrey\"},\"left_units\":\"screen\",\"level\":\"overlay\",\"line_alpha\":{\"value\":1.0},\"line_color\":{\"value\":\"black\"},\"line_dash\":[4,4],\"line_width\":{\"value\":2},\"plot\":null,\"render_mode\":\"css\",\"right_units\":\"screen\",\"top_units\":\"screen\"},\"id\":\"e7345eda-aeb8-462d-8672-e64cb3aac74c\",\"type\":\"BoxAnnotation\"},{\"attributes\":{\"callback\":null,\"column_names\":[\"x\",\"y\"],\"data\":{\"x\":[23968.0,23968.0],\"y\":[0,400]}},\"id\":\"426000a4-bf81-4678-88ea-6c0240d2647f\",\"type\":\"ColumnDataSource\"},{\"attributes\":{\"axis_label\":\"Volume\",\"formatter\":{\"id\":\"f703ab6f-d363-417f-99b5-36a877c861b0\",\"type\":\"BasicTickFormatter\"},\"plot\":{\"id\":\"d7c604a1-90b7-484d-ab6d-5a977f82e55b\",\"subtype\":\"Figure\",\"type\":\"Plot\"},\"ticker\":{\"id\":\"33454aa1-80ca-4b56-a8cc-4daeb8c7c1bc\",\"type\":\"BasicTicker\"}},\"id\":\"b10ede9c-4c24-4596-a9e9-6dd0414252fc\",\"type\":\"LinearAxis\"},{\"attributes\":{\"line_alpha\":{\"value\":0.1},\"line_color\":{\"value\":\"#1f77b4\"},\"x\":{\"field\":\"x\"},\"y\":{\"field\":\"y\"}},\"id\":\"93a6fa33-9fa2-445c-9be4-f4c3e999dbd8\",\"type\":\"Line\"},{\"attributes\":{\"plot\":{\"id\":\"d7c604a1-90b7-484d-ab6d-5a977f82e55b\",\"subtype\":\"Figure\",\"type\":\"Plot\"}},\"id\":\"ee1b60bb-9896-448c-8bee-eadb69bb92cb\",\"type\":\"ResetTool\"},{\"attributes\":{\"callback\":null,\"column_names\":[\"x\",\"y\"],\"data\":{\"x\":[21152.0,21152.0],\"y\":[-40,40]}},\"id\":\"439f570d-93e9-4bab-979b-471ac2bb6517\",\"type\":\"ColumnDataSource\"},{\"attributes\":{\"callback\":null,\"column_names\":[\"x\",\"y\"],\"data\":{\"x\":[21152.0,21184.0,21216.0,21248.0,21280.0,21312.0,21344.0,21376.0,21408.0,21440.0,21472.0,21504.0,21536.0,21568.0,21600.0,21632.0,21664.0,21696.0,21728.0,21760.0,21792.0,21824.0,21856.0,21888.0,21920.0,21952.0,21984.0,22016.0,22048.0,22080.0,22112.0,22144.0,22176.0,22208.0,22240.0,22272.0,22304.0,22336.0,22368.0,22400.0,22432.0,22464.0,22496.0,22528.0,22560.0,22592.0,22624.0,22656.0,22688.0,22720.0,22752.0,22784.0,22816.0,22848.0,22880.0,22912.0,22944.0,22976.0,23008.0,23040.0,23072.0,23104.0,23136.0,23168.0,23200.0,23232.0,23264.0,23296.0,23328.0,23360.0,23392.0,23424.0,23456.0,23488.0,23520.0,23552.0,23584.0,23616.0,23648.0,23680.0,23712.0,23744.0,23776.0,23808.0,23840.0,23872.0,23904.0,23936.0,23968.0],\"y\":[13.914285714285727,14.5857142857143,15.776190476190491,17.428571428571445,19.271428571428586,21.114285714285735,22.857142857142875,24.023809523809547,24.80476190476193,25.257142857142878,25.585714285714307,25.98571428571431,26.323809523809548,26.609523809523836,26.79523809523812,26.86190476190479,26.928571428571452,27.05714285714288,27.20952380952383,27.409523809523833,27.552380952380975,27.642857142857167,27.7809523809524,27.93809523809526,28.071428571428598,28.15714285714288,28.114285714285742,28.200000000000024,28.352380952380976,28.519047619047644,28.719047619047647,28.84285714285717,28.81428571428574,28.890476190476214,28.919047619047646,28.94285714285717,28.923809523809553,28.928571428571455,28.904761904761934,28.919047619047646,28.976190476190503,29.06666666666669,29.08571428571431,29.676190476190502,29.471428571428596,26.890476190476214,23.514285714285737,20.26190476190478,17.67142857142859,16.92857142857144,16.742857142857154,15.809523809523824,15.333333333333346,15.1857142857143,15.000000000000014,14.909523809523824,14.790476190476205,14.747619047619061,14.719047619047632,14.728571428571442,14.695238095238107,14.67619047619049,14.547619047619062,14.442857142857157,14.357142857142872,14.30476190476192,14.238095238095251,14.247619047619061,14.242857142857156,14.200000000000012,14.223809523809535,14.223809523809537,14.142857142857155,14.07619047619049,14.023809523809538,13.995238095238108,14.066666666666679,14.176190476190488,14.228571428571442,14.300000000000015,14.328571428571443,14.352380952380965,14.195238095238109,13.980952380952392,13.790476190476202,13.723809523809535,13.700000000000014,13.77619047619049,13.614285714285726]}},\"id\":\"8bb2c268-38fb-4816-a91b-ab3071de80e4\",\"type\":\"ColumnDataSource\"},{\"attributes\":{\"plot\":{\"id\":\"20277daa-8fdd-4b4a-92d3-69ead7dd14c2\",\"subtype\":\"Figure\",\"type\":\"Plot\"},\"ticker\":{\"id\":\"c4cb58ad-b5dc-4a5d-9d5b-0379d2b5522d\",\"type\":\"BasicTicker\"}},\"id\":\"5bccda47-c105-4c0c-9c7f-a209a7601e15\",\"type\":\"Grid\"},{\"attributes\":{},\"id\":\"f703ab6f-d363-417f-99b5-36a877c861b0\",\"type\":\"BasicTickFormatter\"},{\"attributes\":{\"plot\":{\"id\":\"d7c604a1-90b7-484d-ab6d-5a977f82e55b\",\"subtype\":\"Figure\",\"type\":\"Plot\"}},\"id\":\"197551b1-825b-4c8a-b90d-49219eec4598\",\"type\":\"PreviewSaveTool\"},{\"attributes\":{\"data_source\":{\"id\":\"2d4b6c25-6c43-4c4d-bab2-3be518aa2f2b\",\"type\":\"ColumnDataSource\"},\"glyph\":{\"id\":\"125174fe-2395-43ec-8533-591838b05646\",\"type\":\"Line\"},\"hover_glyph\":null,\"nonselection_glyph\":{\"id\":\"b59c3b73-41ef-4c18-872d-8bc8f46356e3\",\"type\":\"Line\"},\"selection_glyph\":null},\"id\":\"024d6b42-16ed-41aa-b509-968bd44da8fe\",\"type\":\"GlyphRenderer\"},{\"attributes\":{\"callback\":null},\"id\":\"0a97cd92-57f2-4221-991a-58cf7a26c21d\",\"type\":\"DataRange1d\"},{\"attributes\":{\"below\":[{\"id\":\"7f5e92cd-cf54-4ae3-965b-3fb12a203faf\",\"type\":\"LinearAxis\"}],\"left\":[{\"id\":\"d32553a0-1907-4b39-92cc-50092d9c7d97\",\"type\":\"LinearAxis\"}],\"plot_height\":250,\"renderers\":[{\"id\":\"7f5e92cd-cf54-4ae3-965b-3fb12a203faf\",\"type\":\"LinearAxis\"},{\"id\":\"d7b15d28-a09b-4aad-bf85-11b7e0d90e7e\",\"type\":\"Grid\"},{\"id\":\"d32553a0-1907-4b39-92cc-50092d9c7d97\",\"type\":\"LinearAxis\"},{\"id\":\"06c461b4-2cc1-4785-98c4-7d3bb64e5e83\",\"type\":\"Grid\"},{\"id\":\"8671082f-5305-4d70-a79e-d9933554aa7e\",\"type\":\"BoxAnnotation\"},{\"id\":\"b7c1024d-0bf8-4499-9edb-1583f3f16bbe\",\"type\":\"GlyphRenderer\"},{\"id\":\"024d6b42-16ed-41aa-b509-968bd44da8fe\",\"type\":\"GlyphRenderer\"},{\"id\":\"6f7cafe1-3726-45ed-8f25-9efff03376a5\",\"type\":\"GlyphRenderer\"}],\"tool_events\":{\"id\":\"46dad77a-51b0-44f7-8d46-8b989f6d1615\",\"type\":\"ToolEvents\"},\"toolbar_location\":\"right\",\"tools\":[{\"id\":\"b47167fc-27f5-4c88-8e3c-5bb45db84fab\",\"type\":\"PanTool\"},{\"id\":\"cc77d70e-b2e8-4387-829c-ebf7321f4832\",\"type\":\"WheelZoomTool\"},{\"id\":\"383d023a-fd49-4677-a5c8-c7e6d760b680\",\"type\":\"BoxZoomTool\"},{\"id\":\"20ba8ae0-890f-4e9d-a080-441687245867\",\"type\":\"PreviewSaveTool\"},{\"id\":\"dab794e7-ab20-486e-aa30-3f25e4ef70f6\",\"type\":\"ResizeTool\"},{\"id\":\"2926c5ce-92f8-4e67-9959-e800ce5a9bbe\",\"type\":\"ResetTool\"},{\"id\":\"5fb7b4db-92e9-4517-83ae-f63dde645729\",\"type\":\"HelpTool\"}],\"x_range\":{\"id\":\"450e1bdc-d757-4cb2-8b74-d78fe31a64df\",\"type\":\"DataRange1d\"},\"y_range\":{\"id\":\"89ec7f02-2416-4d9d-9f00-9ca0a5856c4b\",\"type\":\"DataRange1d\"}},\"id\":\"6b10deba-7bef-4a9c-8002-20b9b7f64d42\",\"subtype\":\"Figure\",\"type\":\"Plot\"},{\"attributes\":{\"plot\":{\"id\":\"20277daa-8fdd-4b4a-92d3-69ead7dd14c2\",\"subtype\":\"Figure\",\"type\":\"Plot\"}},\"id\":\"82e22aea-4066-486d-9e14-57f1d2050280\",\"type\":\"PreviewSaveTool\"},{\"attributes\":{\"dimension\":1,\"plot\":{\"id\":\"20277daa-8fdd-4b4a-92d3-69ead7dd14c2\",\"subtype\":\"Figure\",\"type\":\"Plot\"},\"ticker\":{\"id\":\"40c8bc13-731a-4b1a-b15a-59680360acf6\",\"type\":\"BasicTicker\"}},\"id\":\"76ec45bf-8df0-497a-869b-c22d156286ee\",\"type\":\"Grid\"},{\"attributes\":{\"callback\":null,\"column_names\":[\"x\",\"y\"],\"data\":{\"x\":[23968.0,23968.0],\"y\":[0,40]}},\"id\":\"236bb1a3-3b24-408c-836f-a1e140b14028\",\"type\":\"ColumnDataSource\"},{\"attributes\":{\"plot\":{\"id\":\"6b10deba-7bef-4a9c-8002-20b9b7f64d42\",\"subtype\":\"Figure\",\"type\":\"Plot\"}},\"id\":\"2926c5ce-92f8-4e67-9959-e800ce5a9bbe\",\"type\":\"ResetTool\"},{\"attributes\":{\"line_color\":{\"value\":\"navy\"},\"x\":{\"field\":\"x\"},\"y\":{\"field\":\"y\"}},\"id\":\"c2a6e404-7785-4379-ab45-0c1a90e795d8\",\"type\":\"Line\"},{\"attributes\":{\"plot\":{\"id\":\"6b10deba-7bef-4a9c-8002-20b9b7f64d42\",\"subtype\":\"Figure\",\"type\":\"Plot\"}},\"id\":\"b47167fc-27f5-4c88-8e3c-5bb45db84fab\",\"type\":\"PanTool\"},{\"attributes\":{\"callback\":null,\"column_names\":[\"x\",\"y\"],\"data\":{\"x\":[21152.0,21184.0,21216.0,21248.0,21280.0,21312.0,21344.0,21376.0,21408.0,21440.0,21472.0,21504.0,21536.0,21568.0,21600.0,21632.0,21664.0,21696.0,21728.0,21760.0,21792.0,21824.0,21856.0,21888.0,21920.0,21952.0,21984.0,22016.0,22048.0,22080.0,22112.0,22144.0,22176.0,22208.0,22240.0,22272.0,22304.0,22336.0,22368.0,22400.0,22432.0,22464.0,22496.0,22528.0,22560.0,22592.0,22624.0,22656.0,22688.0,22720.0,22752.0,22784.0,22816.0,22848.0,22880.0,22912.0,22944.0,22976.0,23008.0,23040.0,23072.0,23104.0,23136.0,23168.0,23200.0,23232.0,23264.0,23296.0,23328.0,23360.0,23392.0,23424.0,23456.0,23488.0,23520.0,23552.0,23584.0,23616.0,23648.0,23680.0,23712.0,23744.0,23776.0,23808.0,23840.0,23872.0,23904.0,23936.0,23968.0],\"y\":[-13.333333333333346,-2.7380952380952412,5.714285714285719,10.119047619047631,22.61904761904764,41.07142857142861,61.30952380952386,82.85714285714293,102.0238095238096,120.95238095238106,141.7857142857144,163.80952380952397,185.95238095238113,207.02380952380972,223.809523809524,241.7857142857145,259.04761904761926,276.4285714285717,294.6428571428574,311.1904761904765,325.8333333333336,340.2380952380955,352.7380952380955,365.83333333333366,377.7380952380955,389.1666666666671,399.52380952380986,409.7619047619051,421.3095238095242,432.0238095238099,441.3095238095242,449.88095238095275,457.0238095238099,463.57142857142895,469.7619047619052,475.4761904761909,480.2380952380957,484.8809523809528,489.16666666666714,493.571428571429,497.7380952380957,501.5476190476195,505.11904761904805,508.69047619047666,512.8571428571433,509.4047619047624,498.0952380952385,479.8809523809528,454.4047619047623,429.04761904761943,408.09523809523847,383.69047619047655,357.9761904761908,331.9047619047622,304.28571428571456,279.40476190476215,260.83333333333354,243.33333333333357,226.54761904761926,209.52380952380972,192.26190476190493,174.88095238095252,159.5238095238097,146.19047619047632,133.8095238095239,121.1904761904763,108.80952380952391,96.19047619047629,84.76190476190484,75.47619047619054,65.59523809523816,56.071428571428626,45.59523809523814,35.35714285714289,27.142857142857167,20.357142857142875,14.40476190476192,8.809523809523817,2.3809523809523836,-3.3333333333333357,-7.500000000000006,-10.357142857142867,-13.452380952380965,-17.261904761904777,-21.904761904761926,-25.595238095238116,-32.26190476190479,-29.761904761904784,-22.26190476190478]}},\"id\":\"b14b5215-a2fc-4a29-b570-f0ecea8818f2\",\"type\":\"ColumnDataSource\"},{\"attributes\":{},\"id\":\"2f51c241-b49a-49d0-9c6e-33a1601bd623\",\"type\":\"BasicTickFormatter\"},{\"attributes\":{\"callback\":null},\"id\":\"ccba5d59-72fd-4d43-ac35-a3ea56961ccf\",\"type\":\"DataRange1d\"},{\"attributes\":{\"callback\":null},\"id\":\"89ec7f02-2416-4d9d-9f00-9ca0a5856c4b\",\"type\":\"DataRange1d\"},{\"attributes\":{\"children\":[{\"id\":\"20277daa-8fdd-4b4a-92d3-69ead7dd14c2\",\"subtype\":\"Figure\",\"type\":\"Plot\"},{\"id\":\"6b10deba-7bef-4a9c-8002-20b9b7f64d42\",\"subtype\":\"Figure\",\"type\":\"Plot\"},{\"id\":\"d7c604a1-90b7-484d-ab6d-5a977f82e55b\",\"subtype\":\"Figure\",\"type\":\"Plot\"}]},\"id\":\"302edf5c-abf3-4522-b131-32be15f238d9\",\"type\":\"VBox\"},{\"attributes\":{\"line_alpha\":{\"value\":0.1},\"line_color\":{\"value\":\"#1f77b4\"},\"x\":{\"field\":\"x\"},\"y\":{\"field\":\"y\"}},\"id\":\"1a5cc5e5-ea63-4ca8-98ec-330dc58d4d58\",\"type\":\"Line\"},{\"attributes\":{},\"id\":\"b5075a5f-778b-487e-b83f-d77f79c25564\",\"type\":\"BasicTickFormatter\"},{\"attributes\":{\"data_source\":{\"id\":\"236bb1a3-3b24-408c-836f-a1e140b14028\",\"type\":\"ColumnDataSource\"},\"glyph\":{\"id\":\"307d532d-602a-4002-b3a7-cfa765489fca\",\"type\":\"Line\"},\"hover_glyph\":null,\"nonselection_glyph\":{\"id\":\"1a5cc5e5-ea63-4ca8-98ec-330dc58d4d58\",\"type\":\"Line\"},\"selection_glyph\":null},\"id\":\"6f7cafe1-3726-45ed-8f25-9efff03376a5\",\"type\":\"GlyphRenderer\"},{\"attributes\":{\"below\":[{\"id\":\"1c3df2ec-bb5e-466f-818e-e04694d148d0\",\"type\":\"LinearAxis\"}],\"left\":[{\"id\":\"a31eb3b3-1254-450b-8d19-7d6bee0e0f89\",\"type\":\"LinearAxis\"}],\"plot_height\":250,\"renderers\":[{\"id\":\"1c3df2ec-bb5e-466f-818e-e04694d148d0\",\"type\":\"LinearAxis\"},{\"id\":\"5bccda47-c105-4c0c-9c7f-a209a7601e15\",\"type\":\"Grid\"},{\"id\":\"a31eb3b3-1254-450b-8d19-7d6bee0e0f89\",\"type\":\"LinearAxis\"},{\"id\":\"76ec45bf-8df0-497a-869b-c22d156286ee\",\"type\":\"Grid\"},{\"id\":\"e7345eda-aeb8-462d-8672-e64cb3aac74c\",\"type\":\"BoxAnnotation\"},{\"id\":\"1e5262b1-02a8-49c5-acfe-9f783733b7e5\",\"type\":\"GlyphRenderer\"},{\"id\":\"ce01e5a8-e536-4092-b58f-c96669f3487c\",\"type\":\"GlyphRenderer\"},{\"id\":\"95222727-8ed7-408f-b4a3-88e7a1973981\",\"type\":\"GlyphRenderer\"}],\"tool_events\":{\"id\":\"0485181f-59d5-45b6-8a33-b37c1df8a9fb\",\"type\":\"ToolEvents\"},\"toolbar_location\":\"right\",\"tools\":[{\"id\":\"88bcfcd4-43e4-4521-8cd8-7e4dc08fe255\",\"type\":\"PanTool\"},{\"id\":\"48cd1b27-7d4c-4d80-b65a-8713d5e33382\",\"type\":\"WheelZoomTool\"},{\"id\":\"fef58e73-5234-4938-9b2b-fafc66d83bc9\",\"type\":\"BoxZoomTool\"},{\"id\":\"82e22aea-4066-486d-9e14-57f1d2050280\",\"type\":\"PreviewSaveTool\"},{\"id\":\"b61aaa5c-4a8d-4872-a28f-f7a5e508553c\",\"type\":\"ResizeTool\"},{\"id\":\"41ac18e6-20f2-4522-b07b-e069c0d8a03c\",\"type\":\"ResetTool\"},{\"id\":\"71eb316d-4b6a-4466-9481-0ed446fd42a7\",\"type\":\"HelpTool\"}],\"x_range\":{\"id\":\"0a97cd92-57f2-4221-991a-58cf7a26c21d\",\"type\":\"DataRange1d\"},\"y_range\":{\"id\":\"ccba5d59-72fd-4d43-ac35-a3ea56961ccf\",\"type\":\"DataRange1d\"}},\"id\":\"20277daa-8fdd-4b4a-92d3-69ead7dd14c2\",\"subtype\":\"Figure\",\"type\":\"Plot\"}],\"root_ids\":[\"302edf5c-abf3-4522-b131-32be15f238d9\"]},\"title\":\"Bokeh Application\",\"version\":\"0.11.1\"}};\n",
       "            var render_items = [{\"docid\":\"a76ff762-fc7d-400b-9e4d-5d5798de8975\",\"elementid\":\"b586be42-8113-4a5a-9dbd-b701f3488873\",\"modelid\":\"302edf5c-abf3-4522-b131-32be15f238d9\",\"notebook_comms_target\":\"57ce54f8-a197-4564-9748-c9c8d98ed1ab\"}];\n",
       "            \n",
       "            Bokeh.embed.embed_items(docs_json, render_items);\n",
       "        });\n",
       "      },\n",
       "      function(Bokeh) {\n",
       "      }\n",
       "    ];\n",
       "  \n",
       "    function run_inline_js() {\n",
       "      for (var i = 0; i < inline_js.length; i++) {\n",
       "        inline_js[i](window.Bokeh);\n",
       "      }\n",
       "    }\n",
       "  \n",
       "    if (window._bokeh_is_loading === 0) {\n",
       "      console.log(\"Bokeh: BokehJS loaded, going straight to plotting\");\n",
       "      run_inline_js();\n",
       "    } else {\n",
       "      load_libs(js_urls, function() {\n",
       "        console.log(\"Bokeh: BokehJS plotting callback run at\", now());\n",
       "        run_inline_js();\n",
       "      });\n",
       "    }\n",
       "  }(this));\n",
       "</script>"
      ]
     },
     "metadata": {},
     "output_type": "display_data"
    }
   ],
   "source": [
    "breaths = 1\n",
    "results = viz.get_breaths(75)\n",
    "w = widgets.SelectMultiple(description='Types', options=['Normal', 'DoubleStacked', 'PostDoubleStacked', \n",
    "                                                         'PressureFlowLimited', 'FlowAbnormal', \n",
    "                                                         'PrematureVentTermination', 'IneffectiveTrigger', 'Garbage'])\n",
    "w.height = 150\n",
    "button = widgets.Button(description='Next')\n",
    "container = widgets.HBox(children=[w, button])\n",
    "\n",
    "button.on_click(on_button_click)\n",
    "display(container)"
   ]
  },
  {
   "cell_type": "markdown",
   "metadata": {
    "collapsed": false
   },
   "source": [
    "# Use PDS breaths to ID DS Breaths"
   ]
  },
  {
   "cell_type": "code",
   "execution_count": null,
   "metadata": {
    "collapsed": false
   },
   "outputs": [],
   "source": [
    "pds = list(train_db.find({'validation':{'$exists':1}, 'validation.pds':1}, {'file':1, 'breath_num':1}))\n",
    "for breath in pds:\n",
    "    data = breath_db.find_one({'file': breath['file'], 'breath_num':breath['breath_num']-1})\n",
    "    data['validation'] = {'norm':0,\n",
    "                                'ds': 1,\n",
    "                                'pds': 0,\n",
    "                                'pfl': 0,\n",
    "                                'fa': 0,\n",
    "                                'pvt':0,\n",
    "                                'ie': 0,\n",
    "                                'garb': 0}\n",
    "\n",
    "    try:\n",
    "        train_db.insert_one(data)\n",
    "    except:\n",
    "        train_db.update_one({'file': breath['file'], 'breath_num':breath['breath_num']-1}, {'$set':data})"
   ]
  },
  {
   "cell_type": "code",
   "execution_count": null,
   "metadata": {
    "collapsed": true
   },
   "outputs": [],
   "source": [
    "ids = list(train_db.find({'validation':{'$exists':1}}, {'_id':1, 'validation':1}).limit(20))"
   ]
  },
  {
   "cell_type": "code",
   "execution_count": null,
   "metadata": {
    "collapsed": false,
    "scrolled": false
   },
   "outputs": [],
   "source": [
    "for _id in ids:\n",
    "    print(_id['validation'])\n",
    "    df, breath_start, breath_end = viz.breath_viz(_id['_id'])\n",
    "    p=viz.make_plot(df, breath_start, breath_end)\n",
    "    show(p)"
   ]
  },
  {
   "cell_type": "code",
   "execution_count": null,
   "metadata": {
    "collapsed": true
   },
   "outputs": [],
   "source": []
  },
  {
   "cell_type": "code",
   "execution_count": null,
   "metadata": {
    "collapsed": true
   },
   "outputs": [],
   "source": []
  },
  {
   "cell_type": "code",
   "execution_count": null,
   "metadata": {
    "collapsed": true
   },
   "outputs": [],
   "source": []
  },
  {
   "cell_type": "code",
   "execution_count": null,
   "metadata": {
    "collapsed": true
   },
   "outputs": [],
   "source": []
  },
  {
   "cell_type": "code",
   "execution_count": null,
   "metadata": {
    "collapsed": true
   },
   "outputs": [],
   "source": []
  },
  {
   "cell_type": "code",
   "execution_count": null,
   "metadata": {
    "collapsed": true
   },
   "outputs": [],
   "source": []
  },
  {
   "cell_type": "code",
   "execution_count": null,
   "metadata": {
    "collapsed": true
   },
   "outputs": [],
   "source": []
  },
  {
   "cell_type": "code",
   "execution_count": null,
   "metadata": {
    "collapsed": true
   },
   "outputs": [],
   "source": []
  },
  {
   "cell_type": "code",
   "execution_count": null,
   "metadata": {
    "collapsed": true
   },
   "outputs": [],
   "source": []
  },
  {
   "cell_type": "code",
   "execution_count": null,
   "metadata": {
    "collapsed": true
   },
   "outputs": [],
   "source": []
  },
  {
   "cell_type": "code",
   "execution_count": null,
   "metadata": {
    "collapsed": true
   },
   "outputs": [],
   "source": []
  },
  {
   "cell_type": "code",
   "execution_count": null,
   "metadata": {
    "collapsed": true
   },
   "outputs": [],
   "source": []
  },
  {
   "cell_type": "code",
   "execution_count": null,
   "metadata": {
    "collapsed": true
   },
   "outputs": [],
   "source": []
  },
  {
   "cell_type": "code",
   "execution_count": null,
   "metadata": {
    "collapsed": true
   },
   "outputs": [],
   "source": []
  },
  {
   "cell_type": "code",
   "execution_count": null,
   "metadata": {
    "collapsed": true
   },
   "outputs": [],
   "source": []
  },
  {
   "cell_type": "code",
   "execution_count": null,
   "metadata": {
    "collapsed": true
   },
   "outputs": [],
   "source": []
  },
  {
   "cell_type": "code",
   "execution_count": null,
   "metadata": {
    "collapsed": true
   },
   "outputs": [],
   "source": []
  },
  {
   "cell_type": "code",
   "execution_count": null,
   "metadata": {
    "collapsed": true
   },
   "outputs": [],
   "source": []
  },
  {
   "cell_type": "code",
   "execution_count": null,
   "metadata": {
    "collapsed": true
   },
   "outputs": [],
   "source": []
  }
 ],
 "metadata": {
  "kernelspec": {
   "display_name": "Python 3",
   "language": "python",
   "name": "python3"
  },
  "language_info": {
   "codemirror_mode": {
    "name": "ipython",
    "version": 3
   },
   "file_extension": ".py",
   "mimetype": "text/x-python",
   "name": "python",
   "nbconvert_exporter": "python",
   "pygments_lexer": "ipython3",
   "version": "3.5.1"
  }
 },
 "nbformat": 4,
 "nbformat_minor": 0
}
