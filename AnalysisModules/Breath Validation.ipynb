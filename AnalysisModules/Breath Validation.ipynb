{
 "cells": [
  {
   "cell_type": "code",
   "execution_count": 1,
   "metadata": {
    "collapsed": false
   },
   "outputs": [
    {
     "data": {
      "text/html": [
       "\n",
       "    <div class=\"bk-banner\">\n",
       "        <a href=\"http://bokeh.pydata.org\" target=\"_blank\" class=\"bk-logo bk-logo-small bk-logo-notebook\"></a>\n",
       "        <span id=\"73916471-ef69-4645-a5a0-235b3babfeb9\">Loading BokehJS ...</span>\n",
       "    </div>"
      ]
     },
     "metadata": {},
     "output_type": "display_data"
    },
    {
     "data": {
      "application/javascript": [
       "\n",
       "(function(global) {\n",
       "  function now() {\n",
       "    return new Date();\n",
       "  }\n",
       "\n",
       "  if (typeof (window._bokeh_onload_callbacks) === \"undefined\") {\n",
       "    window._bokeh_onload_callbacks = [];\n",
       "  }\n",
       "\n",
       "  function run_callbacks() {\n",
       "    window._bokeh_onload_callbacks.forEach(function(callback) { callback() });\n",
       "    delete window._bokeh_onload_callbacks\n",
       "    console.info(\"Bokeh: all callbacks have finished\");\n",
       "  }\n",
       "\n",
       "  function load_libs(js_urls, callback) {\n",
       "    window._bokeh_onload_callbacks.push(callback);\n",
       "    if (window._bokeh_is_loading > 0) {\n",
       "      console.log(\"Bokeh: BokehJS is being loaded, scheduling callback at\", now());\n",
       "      return null;\n",
       "    }\n",
       "    if (js_urls == null || js_urls.length === 0) {\n",
       "      run_callbacks();\n",
       "      return null;\n",
       "    }\n",
       "    console.log(\"Bokeh: BokehJS not loaded, scheduling load and callback at\", now());\n",
       "    window._bokeh_is_loading = js_urls.length;\n",
       "    for (var i = 0; i < js_urls.length; i++) {\n",
       "      var url = js_urls[i];\n",
       "      var s = document.createElement('script');\n",
       "      s.src = url;\n",
       "      s.async = false;\n",
       "      s.onreadystatechange = s.onload = function() {\n",
       "        window._bokeh_is_loading--;\n",
       "        if (window._bokeh_is_loading === 0) {\n",
       "          console.log(\"Bokeh: all BokehJS libraries loaded\");\n",
       "          run_callbacks()\n",
       "        }\n",
       "      };\n",
       "      s.onerror = function() {\n",
       "        console.warn(\"failed to load library \" + url);\n",
       "      };\n",
       "      console.log(\"Bokeh: injecting script tag for BokehJS library: \", url);\n",
       "      document.getElementsByTagName(\"head\")[0].appendChild(s);\n",
       "    }\n",
       "  };\n",
       "\n",
       "  var js_urls = ['https://cdn.pydata.org/bokeh/release/bokeh-0.11.1.min.js', 'https://cdn.pydata.org/bokeh/release/bokeh-widgets-0.11.1.min.js', 'https://cdn.pydata.org/bokeh/release/bokeh-compiler-0.11.1.min.js'];\n",
       "\n",
       "  var inline_js = [\n",
       "    function(Bokeh) {\n",
       "      Bokeh.set_log_level(\"info\");\n",
       "    },\n",
       "    \n",
       "    function(Bokeh) {\n",
       "      Bokeh.$(\"#73916471-ef69-4645-a5a0-235b3babfeb9\").text(\"BokehJS successfully loaded\");\n",
       "    },\n",
       "    function(Bokeh) {\n",
       "      console.log(\"Bokeh: injecting CSS: https://cdn.pydata.org/bokeh/release/bokeh-0.11.1.min.css\");\n",
       "      Bokeh.embed.inject_css(\"https://cdn.pydata.org/bokeh/release/bokeh-0.11.1.min.css\");\n",
       "      console.log(\"Bokeh: injecting CSS: https://cdn.pydata.org/bokeh/release/bokeh-widgets-0.11.1.min.css\");\n",
       "      Bokeh.embed.inject_css(\"https://cdn.pydata.org/bokeh/release/bokeh-widgets-0.11.1.min.css\");\n",
       "    }\n",
       "  ];\n",
       "\n",
       "  function run_inline_js() {\n",
       "    for (var i = 0; i < inline_js.length; i++) {\n",
       "      inline_js[i](window.Bokeh);\n",
       "    }\n",
       "  }\n",
       "\n",
       "  if (window._bokeh_is_loading === 0) {\n",
       "    console.log(\"Bokeh: BokehJS loaded, going straight to plotting\");\n",
       "    run_inline_js();\n",
       "  } else {\n",
       "    load_libs(js_urls, function() {\n",
       "      console.log(\"Bokeh: BokehJS plotting callback run at\", now());\n",
       "      run_inline_js();\n",
       "    });\n",
       "  }\n",
       "}(this));"
      ]
     },
     "metadata": {},
     "output_type": "display_data"
    }
   ],
   "source": [
    "import Visualization as viz\n",
    "from ipywidgets import widgets\n",
    "from IPython.display import display, clear_output\n",
    "from bokeh.plotting import figure, show, output_notebook\n",
    "\n",
    "output_notebook()"
   ]
  },
  {
   "cell_type": "code",
   "execution_count": 2,
   "metadata": {
    "collapsed": false
   },
   "outputs": [
    {
     "data": {
      "text/plain": [
       "10000"
      ]
     },
     "execution_count": 2,
     "metadata": {},
     "output_type": "execute_result"
    }
   ],
   "source": [
    "from pymongo import MongoClient\n",
    "\n",
    "client = MongoClient()\n",
    "db = client.VentDB\n",
    "breath_db = db.breath_collection\n",
    "train_db = db.train_collection\n",
    "\n",
    "train_db.find().count()"
   ]
  },
  {
   "cell_type": "code",
   "execution_count": 3,
   "metadata": {
    "collapsed": false
   },
   "outputs": [
    {
     "data": {
      "text/plain": [
       "1964338"
      ]
     },
     "execution_count": 3,
     "metadata": {},
     "output_type": "execute_result"
    }
   ],
   "source": [
    "breath_db.find().count()"
   ]
  },
  {
   "cell_type": "code",
   "execution_count": 4,
   "metadata": {
    "collapsed": true
   },
   "outputs": [],
   "source": [
    "def on_button_click(b):\n",
    "    global breaths\n",
    "\n",
    "    clear_output()\n",
    "    if results.alive:\n",
    "        if breaths != 1:\n",
    "            viz.update_database(breaths['_id'], w.selected_labels)\n",
    "\n",
    "        breaths = results.next()\n",
    "        df, breath_start, breath_end = viz.breath_viz(breaths['_id'])\n",
    "        p=viz.make_plot(df, breath_start, breath_end)\n",
    "        show(p)\n",
    "    else:\n",
    "        if breaths != 1:\n",
    "            viz.update_database(breaths['_id'], w.selected_labels)\n",
    "        clear_output()\n",
    "        print('No more')"
   ]
  },
  {
   "cell_type": "code",
   "execution_count": 5,
   "metadata": {
    "collapsed": false
   },
   "outputs": [
    {
     "data": {
      "text/plain": [
       "942"
      ]
     },
     "execution_count": 5,
     "metadata": {},
     "output_type": "execute_result"
    }
   ],
   "source": [
    "train_db.find({'validation':{'$exists':0}, 'breath_character.exp_time': {'$lte': 1000}}).count()"
   ]
  },
  {
   "cell_type": "code",
   "execution_count": 6,
   "metadata": {
    "collapsed": false
   },
   "outputs": [],
   "source": [
    "import pandas as pd\n",
    "val_df = pd.io.json.json_normalize(list(train_db.find({'validation':{'$exists':1}}, {'validation':1})))"
   ]
  },
  {
   "cell_type": "code",
   "execution_count": 7,
   "metadata": {
    "collapsed": false
   },
   "outputs": [],
   "source": [
    "val_df.replace({0:False, 1:True}, inplace=True)\n",
    "val_df = val_df[['validation.ds', 'validation.fa', 'validation.garb',\n",
    "       'validation.ie', 'validation.norm', 'validation.pds', 'validation.pfl',\n",
    "       'validation.pvt']].astype(bool)"
   ]
  },
  {
   "cell_type": "code",
   "execution_count": 8,
   "metadata": {
    "collapsed": false,
    "scrolled": true
   },
   "outputs": [
    {
     "data": {
      "text/plain": [
       "False    1568\n",
       "True       25\n",
       "Name: validation.ds, dtype: int64"
      ]
     },
     "execution_count": 8,
     "metadata": {},
     "output_type": "execute_result"
    }
   ],
   "source": [
    "val_df['validation.ds'].value_counts()"
   ]
  },
  {
   "cell_type": "code",
   "execution_count": 9,
   "metadata": {
    "collapsed": false
   },
   "outputs": [
    {
     "data": {
      "text/plain": [
       "False    1574\n",
       "True       19\n",
       "Name: validation.pds, dtype: int64"
      ]
     },
     "execution_count": 9,
     "metadata": {},
     "output_type": "execute_result"
    }
   ],
   "source": [
    "val_df['validation.pds'].value_counts()"
   ]
  },
  {
   "cell_type": "code",
   "execution_count": 10,
   "metadata": {
    "collapsed": false
   },
   "outputs": [
    {
     "data": {
      "text/plain": [
       "False    1179\n",
       "True      414\n",
       "Name: validation.pfl, dtype: int64"
      ]
     },
     "execution_count": 10,
     "metadata": {},
     "output_type": "execute_result"
    }
   ],
   "source": [
    "val_df['validation.pfl'].value_counts()"
   ]
  },
  {
   "cell_type": "code",
   "execution_count": 11,
   "metadata": {
    "collapsed": false
   },
   "outputs": [
    {
     "data": {
      "text/plain": [
       "False    1496\n",
       "True       97\n",
       "Name: validation.pvt, dtype: int64"
      ]
     },
     "execution_count": 11,
     "metadata": {},
     "output_type": "execute_result"
    }
   ],
   "source": [
    "val_df['validation.pvt'].value_counts()"
   ]
  },
  {
   "cell_type": "code",
   "execution_count": 12,
   "metadata": {
    "collapsed": false
   },
   "outputs": [
    {
     "data": {
      "text/plain": [
       "False    1272\n",
       "True      321\n",
       "Name: validation.ie, dtype: int64"
      ]
     },
     "execution_count": 12,
     "metadata": {},
     "output_type": "execute_result"
    }
   ],
   "source": [
    "val_df['validation.ie'].value_counts()"
   ]
  },
  {
   "cell_type": "code",
   "execution_count": 13,
   "metadata": {
    "collapsed": false
   },
   "outputs": [
    {
     "data": {
      "text/plain": [
       "True     831\n",
       "False    762\n",
       "Name: validation.norm, dtype: int64"
      ]
     },
     "execution_count": 13,
     "metadata": {},
     "output_type": "execute_result"
    }
   ],
   "source": [
    "val_df['validation.norm'].value_counts()"
   ]
  },
  {
   "cell_type": "code",
   "execution_count": 14,
   "metadata": {
    "collapsed": false,
    "scrolled": false
   },
   "outputs": [
    {
     "name": "stdout",
     "output_type": "stream",
     "text": [
      "breath error: 661    122\n",
      "Name: patient_ID, dtype: int64/8/2015-04-18 11:42:12/21152\n",
      "[{'date_time': 1429378932.0, 'file': '/media/veracrypt1/Research_Data/VentDysSedation/RawData/P122/hm_Waveform 15-04-18-11-41.txt', '_id': '661    122\\nName: patient_ID, dtype: int64/8/2015-04-18 11:42:12/21152', 'breath_num': 8}]\n"
     ]
    },
    {
     "data": {
      "text/html": [
       "\n",
       "\n",
       "    <div class=\"plotdiv\" id=\"38b2cc14-5c5a-4f19-be08-5f5ca088b010\"></div>\n",
       "<script type=\"text/javascript\">\n",
       "  \n",
       "  (function(global) {\n",
       "    function now() {\n",
       "      return new Date();\n",
       "    }\n",
       "  \n",
       "    if (typeof (window._bokeh_onload_callbacks) === \"undefined\") {\n",
       "      window._bokeh_onload_callbacks = [];\n",
       "    }\n",
       "  \n",
       "    function run_callbacks() {\n",
       "      window._bokeh_onload_callbacks.forEach(function(callback) { callback() });\n",
       "      delete window._bokeh_onload_callbacks\n",
       "      console.info(\"Bokeh: all callbacks have finished\");\n",
       "    }\n",
       "  \n",
       "    function load_libs(js_urls, callback) {\n",
       "      window._bokeh_onload_callbacks.push(callback);\n",
       "      if (window._bokeh_is_loading > 0) {\n",
       "        console.log(\"Bokeh: BokehJS is being loaded, scheduling callback at\", now());\n",
       "        return null;\n",
       "      }\n",
       "      if (js_urls == null || js_urls.length === 0) {\n",
       "        run_callbacks();\n",
       "        return null;\n",
       "      }\n",
       "      console.log(\"Bokeh: BokehJS not loaded, scheduling load and callback at\", now());\n",
       "      window._bokeh_is_loading = js_urls.length;\n",
       "      for (var i = 0; i < js_urls.length; i++) {\n",
       "        var url = js_urls[i];\n",
       "        var s = document.createElement('script');\n",
       "        s.src = url;\n",
       "        s.async = false;\n",
       "        s.onreadystatechange = s.onload = function() {\n",
       "          window._bokeh_is_loading--;\n",
       "          if (window._bokeh_is_loading === 0) {\n",
       "            console.log(\"Bokeh: all BokehJS libraries loaded\");\n",
       "            run_callbacks()\n",
       "          }\n",
       "        };\n",
       "        s.onerror = function() {\n",
       "          console.warn(\"failed to load library \" + url);\n",
       "        };\n",
       "        console.log(\"Bokeh: injecting script tag for BokehJS library: \", url);\n",
       "        document.getElementsByTagName(\"head\")[0].appendChild(s);\n",
       "      }\n",
       "    };var element = document.getElementById(\"38b2cc14-5c5a-4f19-be08-5f5ca088b010\");\n",
       "    if (element == null) {\n",
       "      console.log(\"Bokeh: ERROR: autoload.js configured with elementid '38b2cc14-5c5a-4f19-be08-5f5ca088b010' but no matching script tag was found. \")\n",
       "      return false;\n",
       "    }\n",
       "  \n",
       "    var js_urls = [];\n",
       "  \n",
       "    var inline_js = [\n",
       "      function(Bokeh) {\n",
       "        Bokeh.$(function() {\n",
       "            var docs_json = {\"d14c7836-3b3e-4e04-9522-75b790579c32\":{\"roots\":{\"references\":[{\"attributes\":{},\"id\":\"a1a33492-f19b-45f9-8142-5c65fff59df1\",\"type\":\"ToolEvents\"},{\"attributes\":{\"overlay\":{\"id\":\"0932bbf8-45f6-4df0-af72-43a28976fcc9\",\"type\":\"BoxAnnotation\"},\"plot\":{\"id\":\"aad00040-c43e-401e-a3fc-0ffd2a14b41d\",\"subtype\":\"Figure\",\"type\":\"Plot\"}},\"id\":\"ebe7d644-96a3-46f1-b563-3266c4e2e426\",\"type\":\"BoxZoomTool\"},{\"attributes\":{\"plot\":{\"id\":\"41151f77-df6f-4d7e-a36c-2d3c8821464c\",\"subtype\":\"Figure\",\"type\":\"Plot\"}},\"id\":\"34e0c959-7917-4b9e-9f88-e114d2ddc0eb\",\"type\":\"ResetTool\"},{\"attributes\":{\"children\":[{\"id\":\"aad00040-c43e-401e-a3fc-0ffd2a14b41d\",\"subtype\":\"Figure\",\"type\":\"Plot\"},{\"id\":\"263c6ee3-a30b-4476-8004-ef3255404f29\",\"subtype\":\"Figure\",\"type\":\"Plot\"},{\"id\":\"41151f77-df6f-4d7e-a36c-2d3c8821464c\",\"subtype\":\"Figure\",\"type\":\"Plot\"}]},\"id\":\"4d6e7bb1-95e7-4cde-a31b-78a52df46efc\",\"type\":\"VBox\"},{\"attributes\":{\"formatter\":{\"id\":\"999ebea1-ee7d-49fd-a3f2-f9624478a311\",\"type\":\"BasicTickFormatter\"},\"plot\":{\"id\":\"41151f77-df6f-4d7e-a36c-2d3c8821464c\",\"subtype\":\"Figure\",\"type\":\"Plot\"},\"ticker\":{\"id\":\"a19d99ad-452c-4d79-89d8-471342690374\",\"type\":\"BasicTicker\"}},\"id\":\"e9803bbd-343f-4b52-a042-d48cebb38e1b\",\"type\":\"LinearAxis\"},{\"attributes\":{\"callback\":null},\"id\":\"a4ef57af-aa6a-44ca-bf9c-9677cc006399\",\"type\":\"DataRange1d\"},{\"attributes\":{\"overlay\":{\"id\":\"9fdffcc8-43ca-4b90-bf0c-2680616f99e6\",\"type\":\"BoxAnnotation\"},\"plot\":{\"id\":\"41151f77-df6f-4d7e-a36c-2d3c8821464c\",\"subtype\":\"Figure\",\"type\":\"Plot\"}},\"id\":\"4563faec-fca9-4b8f-9e06-f9c191de0171\",\"type\":\"BoxZoomTool\"},{\"attributes\":{\"below\":[{\"id\":\"e9803bbd-343f-4b52-a042-d48cebb38e1b\",\"type\":\"LinearAxis\"}],\"left\":[{\"id\":\"e683de23-5de3-4669-b9fc-7615b397e696\",\"type\":\"LinearAxis\"}],\"plot_height\":250,\"renderers\":[{\"id\":\"e9803bbd-343f-4b52-a042-d48cebb38e1b\",\"type\":\"LinearAxis\"},{\"id\":\"da7f1e37-2c47-44d8-b8f0-dfb2d3326c11\",\"type\":\"Grid\"},{\"id\":\"e683de23-5de3-4669-b9fc-7615b397e696\",\"type\":\"LinearAxis\"},{\"id\":\"64e471c1-fb71-4590-af97-29a2ed8db95c\",\"type\":\"Grid\"},{\"id\":\"9fdffcc8-43ca-4b90-bf0c-2680616f99e6\",\"type\":\"BoxAnnotation\"},{\"id\":\"f9069f67-2e5a-431f-892b-1ca16090112f\",\"type\":\"GlyphRenderer\"},{\"id\":\"473e650f-e414-4aab-9b25-6a4b9238b7ae\",\"type\":\"GlyphRenderer\"},{\"id\":\"5f365ad8-2c6e-460c-b44a-1283555ce3a6\",\"type\":\"GlyphRenderer\"}],\"tool_events\":{\"id\":\"0b2326d0-1d3a-4979-95ca-aac8f63124e0\",\"type\":\"ToolEvents\"},\"toolbar_location\":\"right\",\"tools\":[{\"id\":\"e77da2f7-5e20-41d3-920f-ea8e3ae6e3d1\",\"type\":\"PanTool\"},{\"id\":\"b6240ce0-85a9-48e8-8018-7cbf5fe9e734\",\"type\":\"WheelZoomTool\"},{\"id\":\"4563faec-fca9-4b8f-9e06-f9c191de0171\",\"type\":\"BoxZoomTool\"},{\"id\":\"ef6d1efb-9708-41ff-b6fb-28e6e5c440d6\",\"type\":\"PreviewSaveTool\"},{\"id\":\"f272e230-1fc4-4470-877a-b09d31662d28\",\"type\":\"ResizeTool\"},{\"id\":\"34e0c959-7917-4b9e-9f88-e114d2ddc0eb\",\"type\":\"ResetTool\"},{\"id\":\"f2a2b3a7-5813-45ad-8a0e-de4711b2de02\",\"type\":\"HelpTool\"}],\"x_range\":{\"id\":\"2783381d-47e1-4780-8187-c4e71b9fa3c1\",\"type\":\"DataRange1d\"},\"y_range\":{\"id\":\"f14a939e-b3da-4324-9bcd-cc7efb2af1ed\",\"type\":\"DataRange1d\"}},\"id\":\"41151f77-df6f-4d7e-a36c-2d3c8821464c\",\"subtype\":\"Figure\",\"type\":\"Plot\"},{\"attributes\":{\"plot\":{\"id\":\"aad00040-c43e-401e-a3fc-0ffd2a14b41d\",\"subtype\":\"Figure\",\"type\":\"Plot\"}},\"id\":\"87d6d821-86ed-4813-8cc2-588a9bcd3e61\",\"type\":\"HelpTool\"},{\"attributes\":{\"axis_label\":\"Paw\",\"formatter\":{\"id\":\"a278d429-8ca6-4a16-9297-127d4de0af1f\",\"type\":\"BasicTickFormatter\"},\"plot\":{\"id\":\"263c6ee3-a30b-4476-8004-ef3255404f29\",\"subtype\":\"Figure\",\"type\":\"Plot\"},\"ticker\":{\"id\":\"7d17d61e-1094-41f9-bbe2-bbefec99af0a\",\"type\":\"BasicTicker\"}},\"id\":\"2d788a46-c06d-4c91-96df-fa71cf4284b1\",\"type\":\"LinearAxis\"},{\"attributes\":{\"line_alpha\":{\"value\":0.1},\"line_color\":{\"value\":\"#1f77b4\"},\"x\":{\"field\":\"x\"},\"y\":{\"field\":\"y\"}},\"id\":\"9a570cd7-c04c-49b7-be9d-6fa5f7a36d7d\",\"type\":\"Line\"},{\"attributes\":{\"line_color\":{\"value\":\"green\"},\"x\":{\"field\":\"x\"},\"y\":{\"field\":\"y\"}},\"id\":\"69e696b1-6b86-4c7e-837a-9b7ee91abd76\",\"type\":\"Line\"},{\"attributes\":{\"callback\":null},\"id\":\"6df28c54-5971-4e36-9846-b8b98aa92cf1\",\"type\":\"DataRange1d\"},{\"attributes\":{\"dimension\":1,\"plot\":{\"id\":\"aad00040-c43e-401e-a3fc-0ffd2a14b41d\",\"subtype\":\"Figure\",\"type\":\"Plot\"},\"ticker\":{\"id\":\"4ea3b206-d5a0-4571-8f2c-9c4e136bcb2d\",\"type\":\"BasicTicker\"}},\"id\":\"6142f244-b65a-452a-9ce9-7979863fdf39\",\"type\":\"Grid\"},{\"attributes\":{\"plot\":{\"id\":\"41151f77-df6f-4d7e-a36c-2d3c8821464c\",\"subtype\":\"Figure\",\"type\":\"Plot\"}},\"id\":\"ef6d1efb-9708-41ff-b6fb-28e6e5c440d6\",\"type\":\"PreviewSaveTool\"},{\"attributes\":{\"line_color\":{\"value\":\"green\"},\"x\":{\"field\":\"x\"},\"y\":{\"field\":\"y\"}},\"id\":\"6cb70447-62b7-4743-be31-e08cf5ee334d\",\"type\":\"Line\"},{\"attributes\":{\"callback\":null},\"id\":\"26af80d2-d774-44c9-9afa-2f3b971f2f22\",\"type\":\"DataRange1d\"},{\"attributes\":{\"dimension\":1,\"plot\":{\"id\":\"41151f77-df6f-4d7e-a36c-2d3c8821464c\",\"subtype\":\"Figure\",\"type\":\"Plot\"},\"ticker\":{\"id\":\"cd2af2da-813b-4950-9dc0-e19d07b4703b\",\"type\":\"BasicTicker\"}},\"id\":\"64e471c1-fb71-4590-af97-29a2ed8db95c\",\"type\":\"Grid\"},{\"attributes\":{\"data_source\":{\"id\":\"372fbb32-7366-4d2e-a4b9-a897b04ab47c\",\"type\":\"ColumnDataSource\"},\"glyph\":{\"id\":\"9f8062ea-afe4-4b92-a873-43bccbdf730e\",\"type\":\"Line\"},\"hover_glyph\":null,\"nonselection_glyph\":{\"id\":\"3256a401-6726-40f5-a859-4a789a8fc3fa\",\"type\":\"Line\"},\"selection_glyph\":null},\"id\":\"2e797f29-6706-4d73-80de-87d23a4a8851\",\"type\":\"GlyphRenderer\"},{\"attributes\":{\"plot\":{\"id\":\"aad00040-c43e-401e-a3fc-0ffd2a14b41d\",\"subtype\":\"Figure\",\"type\":\"Plot\"}},\"id\":\"c0283ad3-0d5d-41ed-8f02-de50da916c66\",\"type\":\"ResizeTool\"},{\"attributes\":{\"plot\":{\"id\":\"263c6ee3-a30b-4476-8004-ef3255404f29\",\"subtype\":\"Figure\",\"type\":\"Plot\"}},\"id\":\"cabd508b-fb8a-412d-9785-1c6e86e44b3c\",\"type\":\"PanTool\"},{\"attributes\":{},\"id\":\"545be64e-df06-449d-9db4-034611ddae99\",\"type\":\"BasicTicker\"},{\"attributes\":{\"data_source\":{\"id\":\"d6fc6145-6a5d-48f1-966a-540ad73abaf3\",\"type\":\"ColumnDataSource\"},\"glyph\":{\"id\":\"f98d4518-7d57-4103-9e13-05a3226e9ee1\",\"type\":\"Line\"},\"hover_glyph\":null,\"name\":\"Volume\",\"nonselection_glyph\":{\"id\":\"f6819e0c-ee8f-4b26-a027-0e23f70d5480\",\"type\":\"Line\"},\"selection_glyph\":null},\"id\":\"f9069f67-2e5a-431f-892b-1ca16090112f\",\"type\":\"GlyphRenderer\"},{\"attributes\":{\"data_source\":{\"id\":\"01ba5904-f3b2-4af7-89dd-2ad01367d899\",\"type\":\"ColumnDataSource\"},\"glyph\":{\"id\":\"aa28dc4a-d34b-4214-af01-03332f8b92b1\",\"type\":\"Line\"},\"hover_glyph\":null,\"nonselection_glyph\":{\"id\":\"9a570cd7-c04c-49b7-be9d-6fa5f7a36d7d\",\"type\":\"Line\"},\"selection_glyph\":null},\"id\":\"f5b52a91-e3b1-449b-97ba-2f86ba323a72\",\"type\":\"GlyphRenderer\"},{\"attributes\":{},\"id\":\"a19d99ad-452c-4d79-89d8-471342690374\",\"type\":\"BasicTicker\"},{\"attributes\":{\"line_color\":{\"value\":\"olive\"},\"x\":{\"field\":\"x\"},\"y\":{\"field\":\"y\"}},\"id\":\"f98d4518-7d57-4103-9e13-05a3226e9ee1\",\"type\":\"Line\"},{\"attributes\":{\"data_source\":{\"id\":\"247f6aef-8a9b-439b-b27d-44ee85797e9e\",\"type\":\"ColumnDataSource\"},\"glyph\":{\"id\":\"6cb70447-62b7-4743-be31-e08cf5ee334d\",\"type\":\"Line\"},\"hover_glyph\":null,\"nonselection_glyph\":{\"id\":\"9ccd87af-2a5c-4551-a673-8bc2589d1547\",\"type\":\"Line\"},\"selection_glyph\":null},\"id\":\"5f365ad8-2c6e-460c-b44a-1283555ce3a6\",\"type\":\"GlyphRenderer\"},{\"attributes\":{\"plot\":{\"id\":\"41151f77-df6f-4d7e-a36c-2d3c8821464c\",\"subtype\":\"Figure\",\"type\":\"Plot\"}},\"id\":\"f2a2b3a7-5813-45ad-8a0e-de4711b2de02\",\"type\":\"HelpTool\"},{\"attributes\":{\"axis_label\":\"Flow\",\"formatter\":{\"id\":\"bf076cb6-4d1e-4b2e-a6f4-d5b3279e0f5f\",\"type\":\"BasicTickFormatter\"},\"plot\":{\"id\":\"aad00040-c43e-401e-a3fc-0ffd2a14b41d\",\"subtype\":\"Figure\",\"type\":\"Plot\"},\"ticker\":{\"id\":\"4ea3b206-d5a0-4571-8f2c-9c4e136bcb2d\",\"type\":\"BasicTicker\"}},\"id\":\"80fa0d2d-4998-43a8-8385-e62ddf245f28\",\"type\":\"LinearAxis\"},{\"attributes\":{\"plot\":{\"id\":\"263c6ee3-a30b-4476-8004-ef3255404f29\",\"subtype\":\"Figure\",\"type\":\"Plot\"},\"ticker\":{\"id\":\"545be64e-df06-449d-9db4-034611ddae99\",\"type\":\"BasicTicker\"}},\"id\":\"3b008763-a268-4b26-b00a-4dcaed24cfce\",\"type\":\"Grid\"},{\"attributes\":{\"axis_label\":\"Volume\",\"formatter\":{\"id\":\"186745b8-23cb-4c99-8802-04250c320103\",\"type\":\"BasicTickFormatter\"},\"plot\":{\"id\":\"41151f77-df6f-4d7e-a36c-2d3c8821464c\",\"subtype\":\"Figure\",\"type\":\"Plot\"},\"ticker\":{\"id\":\"cd2af2da-813b-4950-9dc0-e19d07b4703b\",\"type\":\"BasicTicker\"}},\"id\":\"e683de23-5de3-4669-b9fc-7615b397e696\",\"type\":\"LinearAxis\"},{\"attributes\":{\"data_source\":{\"id\":\"1f082f2f-61ee-4665-8108-705b0dacddbf\",\"type\":\"ColumnDataSource\"},\"glyph\":{\"id\":\"d37161f6-df9f-4883-95ce-dbb7e590c5ec\",\"type\":\"Line\"},\"hover_glyph\":null,\"name\":\"Flow\",\"nonselection_glyph\":{\"id\":\"45edb60e-859c-4388-9063-3d71ae29fff3\",\"type\":\"Line\"},\"selection_glyph\":null},\"id\":\"7f693810-23e3-4e5a-aeb4-bff0158a681d\",\"type\":\"GlyphRenderer\"},{\"attributes\":{\"below\":[{\"id\":\"efa2c9b6-0884-48df-b591-cb44fa775e57\",\"type\":\"LinearAxis\"}],\"left\":[{\"id\":\"80fa0d2d-4998-43a8-8385-e62ddf245f28\",\"type\":\"LinearAxis\"}],\"plot_height\":250,\"renderers\":[{\"id\":\"efa2c9b6-0884-48df-b591-cb44fa775e57\",\"type\":\"LinearAxis\"},{\"id\":\"a726a984-44e1-48e7-8aa5-f6cd86e4af66\",\"type\":\"Grid\"},{\"id\":\"80fa0d2d-4998-43a8-8385-e62ddf245f28\",\"type\":\"LinearAxis\"},{\"id\":\"6142f244-b65a-452a-9ce9-7979863fdf39\",\"type\":\"Grid\"},{\"id\":\"0932bbf8-45f6-4df0-af72-43a28976fcc9\",\"type\":\"BoxAnnotation\"},{\"id\":\"7f693810-23e3-4e5a-aeb4-bff0158a681d\",\"type\":\"GlyphRenderer\"},{\"id\":\"f5b52a91-e3b1-449b-97ba-2f86ba323a72\",\"type\":\"GlyphRenderer\"},{\"id\":\"f6e9011c-aba6-4a2f-989f-b80c30c8776a\",\"type\":\"GlyphRenderer\"}],\"tool_events\":{\"id\":\"a1a33492-f19b-45f9-8142-5c65fff59df1\",\"type\":\"ToolEvents\"},\"toolbar_location\":\"right\",\"tools\":[{\"id\":\"e0c26338-e5d8-4a42-9571-26ec4fb8dac1\",\"type\":\"PanTool\"},{\"id\":\"64b30dc2-b771-4237-b7eb-ff070865d788\",\"type\":\"WheelZoomTool\"},{\"id\":\"ebe7d644-96a3-46f1-b563-3266c4e2e426\",\"type\":\"BoxZoomTool\"},{\"id\":\"f685b701-ce74-4c57-87a3-af62b50969f2\",\"type\":\"PreviewSaveTool\"},{\"id\":\"c0283ad3-0d5d-41ed-8f02-de50da916c66\",\"type\":\"ResizeTool\"},{\"id\":\"7cfd9728-aa0b-43e9-ab74-e901d7be6902\",\"type\":\"ResetTool\"},{\"id\":\"87d6d821-86ed-4813-8cc2-588a9bcd3e61\",\"type\":\"HelpTool\"}],\"x_range\":{\"id\":\"26af80d2-d774-44c9-9afa-2f3b971f2f22\",\"type\":\"DataRange1d\"},\"y_range\":{\"id\":\"6df28c54-5971-4e36-9846-b8b98aa92cf1\",\"type\":\"DataRange1d\"}},\"id\":\"aad00040-c43e-401e-a3fc-0ffd2a14b41d\",\"subtype\":\"Figure\",\"type\":\"Plot\"},{\"attributes\":{\"plot\":{\"id\":\"263c6ee3-a30b-4476-8004-ef3255404f29\",\"subtype\":\"Figure\",\"type\":\"Plot\"}},\"id\":\"a3c1070e-4a0a-4958-a247-0e0f00389c2a\",\"type\":\"PreviewSaveTool\"},{\"attributes\":{\"overlay\":{\"id\":\"b28a4db0-bc64-4e28-838f-8361453c4f07\",\"type\":\"BoxAnnotation\"},\"plot\":{\"id\":\"263c6ee3-a30b-4476-8004-ef3255404f29\",\"subtype\":\"Figure\",\"type\":\"Plot\"}},\"id\":\"9cf2cbad-dca5-42cb-950e-bc7372041289\",\"type\":\"BoxZoomTool\"},{\"attributes\":{\"plot\":{\"id\":\"41151f77-df6f-4d7e-a36c-2d3c8821464c\",\"subtype\":\"Figure\",\"type\":\"Plot\"}},\"id\":\"e77da2f7-5e20-41d3-920f-ea8e3ae6e3d1\",\"type\":\"PanTool\"},{\"attributes\":{\"callback\":null,\"column_names\":[\"y\",\"x\"],\"data\":{\"x\":[0,0],\"y\":[0,400]}},\"id\":\"247f6aef-8a9b-439b-b27d-44ee85797e9e\",\"type\":\"ColumnDataSource\"},{\"attributes\":{\"callback\":null,\"column_names\":[\"y\",\"x\"],\"data\":{\"x\":[],\"y\":[]}},\"id\":\"e78e84fe-1790-4174-9f38-920a677e9c86\",\"type\":\"ColumnDataSource\"},{\"attributes\":{\"bottom_units\":\"screen\",\"fill_alpha\":{\"value\":0.5},\"fill_color\":{\"value\":\"lightgrey\"},\"left_units\":\"screen\",\"level\":\"overlay\",\"line_alpha\":{\"value\":1.0},\"line_color\":{\"value\":\"black\"},\"line_dash\":[4,4],\"line_width\":{\"value\":2},\"plot\":null,\"render_mode\":\"css\",\"right_units\":\"screen\",\"top_units\":\"screen\"},\"id\":\"9fdffcc8-43ca-4b90-bf0c-2680616f99e6\",\"type\":\"BoxAnnotation\"},{\"attributes\":{\"data_source\":{\"id\":\"efff3009-a396-4e03-b228-a685622479a5\",\"type\":\"ColumnDataSource\"},\"glyph\":{\"id\":\"69e696b1-6b86-4c7e-837a-9b7ee91abd76\",\"type\":\"Line\"},\"hover_glyph\":null,\"nonselection_glyph\":{\"id\":\"4f9264a2-b87e-4dc7-b0b9-02caabce04f9\",\"type\":\"Line\"},\"selection_glyph\":null},\"id\":\"a96d4b0d-95d0-41ff-b63b-10322d077810\",\"type\":\"GlyphRenderer\"},{\"attributes\":{\"line_alpha\":{\"value\":0.1},\"line_color\":{\"value\":\"#1f77b4\"},\"x\":{\"field\":\"x\"},\"y\":{\"field\":\"y\"}},\"id\":\"4f9264a2-b87e-4dc7-b0b9-02caabce04f9\",\"type\":\"Line\"},{\"attributes\":{\"data_source\":{\"id\":\"d636f173-cb98-44ee-bdf1-f34ca542db28\",\"type\":\"ColumnDataSource\"},\"glyph\":{\"id\":\"85d8c3c5-e219-4b5b-b5df-fc7220e5c7e4\",\"type\":\"Line\"},\"hover_glyph\":null,\"nonselection_glyph\":{\"id\":\"b74ad640-2c38-4c74-a48a-be80c5f61354\",\"type\":\"Line\"},\"selection_glyph\":null},\"id\":\"f6e9011c-aba6-4a2f-989f-b80c30c8776a\",\"type\":\"GlyphRenderer\"},{\"attributes\":{\"line_alpha\":{\"value\":0.1},\"line_color\":{\"value\":\"#1f77b4\"},\"x\":{\"field\":\"x\"},\"y\":{\"field\":\"y\"}},\"id\":\"9ccd87af-2a5c-4551-a673-8bc2589d1547\",\"type\":\"Line\"},{\"attributes\":{\"plot\":{\"id\":\"263c6ee3-a30b-4476-8004-ef3255404f29\",\"subtype\":\"Figure\",\"type\":\"Plot\"}},\"id\":\"63d4d932-c56a-4cd2-95da-729e342e120a\",\"type\":\"ResizeTool\"},{\"attributes\":{\"plot\":{\"id\":\"aad00040-c43e-401e-a3fc-0ffd2a14b41d\",\"subtype\":\"Figure\",\"type\":\"Plot\"},\"ticker\":{\"id\":\"269283c9-114a-4621-b703-3a37d7756770\",\"type\":\"BasicTicker\"}},\"id\":\"a726a984-44e1-48e7-8aa5-f6cd86e4af66\",\"type\":\"Grid\"},{\"attributes\":{\"line_color\":{\"value\":\"firebrick\"},\"x\":{\"field\":\"x\"},\"y\":{\"field\":\"y\"}},\"id\":\"d37161f6-df9f-4883-95ce-dbb7e590c5ec\",\"type\":\"Line\"},{\"attributes\":{\"formatter\":{\"id\":\"056d801b-dc79-4559-b008-deeb9d4dcb42\",\"type\":\"BasicTickFormatter\"},\"plot\":{\"id\":\"aad00040-c43e-401e-a3fc-0ffd2a14b41d\",\"subtype\":\"Figure\",\"type\":\"Plot\"},\"ticker\":{\"id\":\"269283c9-114a-4621-b703-3a37d7756770\",\"type\":\"BasicTicker\"}},\"id\":\"efa2c9b6-0884-48df-b591-cb44fa775e57\",\"type\":\"LinearAxis\"},{\"attributes\":{\"plot\":{\"id\":\"aad00040-c43e-401e-a3fc-0ffd2a14b41d\",\"subtype\":\"Figure\",\"type\":\"Plot\"}},\"id\":\"7cfd9728-aa0b-43e9-ab74-e901d7be6902\",\"type\":\"ResetTool\"},{\"attributes\":{},\"id\":\"999ebea1-ee7d-49fd-a3f2-f9624478a311\",\"type\":\"BasicTickFormatter\"},{\"attributes\":{\"line_color\":{\"value\":\"green\"},\"x\":{\"field\":\"x\"},\"y\":{\"field\":\"y\"}},\"id\":\"9f8062ea-afe4-4b92-a873-43bccbdf730e\",\"type\":\"Line\"},{\"attributes\":{\"line_color\":{\"value\":\"green\"},\"x\":{\"field\":\"x\"},\"y\":{\"field\":\"y\"}},\"id\":\"85d8c3c5-e219-4b5b-b5df-fc7220e5c7e4\",\"type\":\"Line\"},{\"attributes\":{\"formatter\":{\"id\":\"3d711bfe-a452-4dc2-a913-6767dc1aba02\",\"type\":\"BasicTickFormatter\"},\"plot\":{\"id\":\"263c6ee3-a30b-4476-8004-ef3255404f29\",\"subtype\":\"Figure\",\"type\":\"Plot\"},\"ticker\":{\"id\":\"545be64e-df06-449d-9db4-034611ddae99\",\"type\":\"BasicTicker\"}},\"id\":\"021331e0-6ade-4f98-ba0a-539fe249e671\",\"type\":\"LinearAxis\"},{\"attributes\":{\"callback\":null,\"column_names\":[\"y\",\"x\"],\"data\":{\"x\":[0,0],\"y\":[0,40]}},\"id\":\"372fbb32-7366-4d2e-a4b9-a897b04ab47c\",\"type\":\"ColumnDataSource\"},{\"attributes\":{\"line_alpha\":{\"value\":0.1},\"line_color\":{\"value\":\"#1f77b4\"},\"x\":{\"field\":\"x\"},\"y\":{\"field\":\"y\"}},\"id\":\"3256a401-6726-40f5-a859-4a789a8fc3fa\",\"type\":\"Line\"},{\"attributes\":{\"plot\":{\"id\":\"263c6ee3-a30b-4476-8004-ef3255404f29\",\"subtype\":\"Figure\",\"type\":\"Plot\"}},\"id\":\"4c105296-76e8-4a45-8276-53b6f597620f\",\"type\":\"HelpTool\"},{\"attributes\":{},\"id\":\"a278d429-8ca6-4a16-9297-127d4de0af1f\",\"type\":\"BasicTickFormatter\"},{\"attributes\":{\"line_color\":{\"value\":\"green\"},\"x\":{\"field\":\"x\"},\"y\":{\"field\":\"y\"}},\"id\":\"34842d10-a402-4373-80d3-49b9ca623808\",\"type\":\"Line\"},{\"attributes\":{\"callback\":null},\"id\":\"6d4d12e6-8f7c-43f2-b330-7682897d2df7\",\"type\":\"DataRange1d\"},{\"attributes\":{\"callback\":null,\"column_names\":[\"y\",\"x\"],\"data\":{\"x\":[0,0],\"y\":[0,40]}},\"id\":\"efff3009-a396-4e03-b228-a685622479a5\",\"type\":\"ColumnDataSource\"},{\"attributes\":{\"plot\":{\"id\":\"41151f77-df6f-4d7e-a36c-2d3c8821464c\",\"subtype\":\"Figure\",\"type\":\"Plot\"},\"ticker\":{\"id\":\"a19d99ad-452c-4d79-89d8-471342690374\",\"type\":\"BasicTicker\"}},\"id\":\"da7f1e37-2c47-44d8-b8f0-dfb2d3326c11\",\"type\":\"Grid\"},{\"attributes\":{\"callback\":null,\"column_names\":[\"y\",\"x\"],\"data\":{\"x\":[0,0],\"y\":[-40,40]}},\"id\":\"01ba5904-f3b2-4af7-89dd-2ad01367d899\",\"type\":\"ColumnDataSource\"},{\"attributes\":{\"line_color\":{\"value\":\"green\"},\"x\":{\"field\":\"x\"},\"y\":{\"field\":\"y\"}},\"id\":\"aa28dc4a-d34b-4214-af01-03332f8b92b1\",\"type\":\"Line\"},{\"attributes\":{},\"id\":\"269283c9-114a-4621-b703-3a37d7756770\",\"type\":\"BasicTicker\"},{\"attributes\":{\"line_alpha\":{\"value\":0.1},\"line_color\":{\"value\":\"#1f77b4\"},\"x\":{\"field\":\"x\"},\"y\":{\"field\":\"y\"}},\"id\":\"96d90de6-1b04-4be6-9991-4a4407f1f4de\",\"type\":\"Line\"},{\"attributes\":{\"line_alpha\":{\"value\":0.1},\"line_color\":{\"value\":\"#1f77b4\"},\"x\":{\"field\":\"x\"},\"y\":{\"field\":\"y\"}},\"id\":\"45edb60e-859c-4388-9063-3d71ae29fff3\",\"type\":\"Line\"},{\"attributes\":{\"callback\":null,\"column_names\":[\"y\",\"x\"],\"data\":{\"x\":[],\"y\":[]}},\"id\":\"d6fc6145-6a5d-48f1-966a-540ad73abaf3\",\"type\":\"ColumnDataSource\"},{\"attributes\":{},\"id\":\"cd2af2da-813b-4950-9dc0-e19d07b4703b\",\"type\":\"BasicTicker\"},{\"attributes\":{},\"id\":\"186745b8-23cb-4c99-8802-04250c320103\",\"type\":\"BasicTickFormatter\"},{\"attributes\":{},\"id\":\"056d801b-dc79-4559-b008-deeb9d4dcb42\",\"type\":\"BasicTickFormatter\"},{\"attributes\":{\"plot\":{\"id\":\"41151f77-df6f-4d7e-a36c-2d3c8821464c\",\"subtype\":\"Figure\",\"type\":\"Plot\"}},\"id\":\"f272e230-1fc4-4470-877a-b09d31662d28\",\"type\":\"ResizeTool\"},{\"attributes\":{},\"id\":\"4ea3b206-d5a0-4571-8f2c-9c4e136bcb2d\",\"type\":\"BasicTicker\"},{\"attributes\":{\"bottom_units\":\"screen\",\"fill_alpha\":{\"value\":0.5},\"fill_color\":{\"value\":\"lightgrey\"},\"left_units\":\"screen\",\"level\":\"overlay\",\"line_alpha\":{\"value\":1.0},\"line_color\":{\"value\":\"black\"},\"line_dash\":[4,4],\"line_width\":{\"value\":2},\"plot\":null,\"render_mode\":\"css\",\"right_units\":\"screen\",\"top_units\":\"screen\"},\"id\":\"b28a4db0-bc64-4e28-838f-8361453c4f07\",\"type\":\"BoxAnnotation\"},{\"attributes\":{},\"id\":\"3d711bfe-a452-4dc2-a913-6767dc1aba02\",\"type\":\"BasicTickFormatter\"},{\"attributes\":{\"line_alpha\":{\"value\":0.1},\"line_color\":{\"value\":\"#1f77b4\"},\"x\":{\"field\":\"x\"},\"y\":{\"field\":\"y\"}},\"id\":\"f6819e0c-ee8f-4b26-a027-0e23f70d5480\",\"type\":\"Line\"},{\"attributes\":{},\"id\":\"bf076cb6-4d1e-4b2e-a6f4-d5b3279e0f5f\",\"type\":\"BasicTickFormatter\"},{\"attributes\":{\"line_color\":{\"value\":\"navy\"},\"x\":{\"field\":\"x\"},\"y\":{\"field\":\"y\"}},\"id\":\"d55fe820-d130-467a-8f4d-d4af9d9ff19d\",\"type\":\"Line\"},{\"attributes\":{\"plot\":{\"id\":\"263c6ee3-a30b-4476-8004-ef3255404f29\",\"subtype\":\"Figure\",\"type\":\"Plot\"}},\"id\":\"26269157-4a7c-4a42-bb0c-9075220dbe10\",\"type\":\"ResetTool\"},{\"attributes\":{\"callback\":null,\"column_names\":[\"y\",\"x\"],\"data\":{\"x\":[],\"y\":[]}},\"id\":\"1f082f2f-61ee-4665-8108-705b0dacddbf\",\"type\":\"ColumnDataSource\"},{\"attributes\":{\"callback\":null},\"id\":\"2783381d-47e1-4780-8187-c4e71b9fa3c1\",\"type\":\"DataRange1d\"},{\"attributes\":{\"data_source\":{\"id\":\"357f4482-22bb-44b7-bfba-3f3c654cb07b\",\"type\":\"ColumnDataSource\"},\"glyph\":{\"id\":\"34842d10-a402-4373-80d3-49b9ca623808\",\"type\":\"Line\"},\"hover_glyph\":null,\"nonselection_glyph\":{\"id\":\"f5c39403-2e31-4989-96d4-e0ab0ada7277\",\"type\":\"Line\"},\"selection_glyph\":null},\"id\":\"473e650f-e414-4aab-9b25-6a4b9238b7ae\",\"type\":\"GlyphRenderer\"},{\"attributes\":{\"callback\":null,\"column_names\":[\"y\",\"x\"],\"data\":{\"x\":[0,0],\"y\":[0,400]}},\"id\":\"357f4482-22bb-44b7-bfba-3f3c654cb07b\",\"type\":\"ColumnDataSource\"},{\"attributes\":{\"callback\":null,\"column_names\":[\"y\",\"x\"],\"data\":{\"x\":[0,0],\"y\":[-40,40]}},\"id\":\"d636f173-cb98-44ee-bdf1-f34ca542db28\",\"type\":\"ColumnDataSource\"},{\"attributes\":{\"plot\":{\"id\":\"aad00040-c43e-401e-a3fc-0ffd2a14b41d\",\"subtype\":\"Figure\",\"type\":\"Plot\"}},\"id\":\"e0c26338-e5d8-4a42-9571-26ec4fb8dac1\",\"type\":\"PanTool\"},{\"attributes\":{\"dimension\":1,\"plot\":{\"id\":\"263c6ee3-a30b-4476-8004-ef3255404f29\",\"subtype\":\"Figure\",\"type\":\"Plot\"},\"ticker\":{\"id\":\"7d17d61e-1094-41f9-bbe2-bbefec99af0a\",\"type\":\"BasicTicker\"}},\"id\":\"142db413-f917-45e9-a661-fb24ba28754c\",\"type\":\"Grid\"},{\"attributes\":{\"plot\":{\"id\":\"aad00040-c43e-401e-a3fc-0ffd2a14b41d\",\"subtype\":\"Figure\",\"type\":\"Plot\"}},\"id\":\"f685b701-ce74-4c57-87a3-af62b50969f2\",\"type\":\"PreviewSaveTool\"},{\"attributes\":{\"plot\":{\"id\":\"41151f77-df6f-4d7e-a36c-2d3c8821464c\",\"subtype\":\"Figure\",\"type\":\"Plot\"}},\"id\":\"b6240ce0-85a9-48e8-8018-7cbf5fe9e734\",\"type\":\"WheelZoomTool\"},{\"attributes\":{\"bottom_units\":\"screen\",\"fill_alpha\":{\"value\":0.5},\"fill_color\":{\"value\":\"lightgrey\"},\"left_units\":\"screen\",\"level\":\"overlay\",\"line_alpha\":{\"value\":1.0},\"line_color\":{\"value\":\"black\"},\"line_dash\":[4,4],\"line_width\":{\"value\":2},\"plot\":null,\"render_mode\":\"css\",\"right_units\":\"screen\",\"top_units\":\"screen\"},\"id\":\"0932bbf8-45f6-4df0-af72-43a28976fcc9\",\"type\":\"BoxAnnotation\"},{\"attributes\":{\"line_alpha\":{\"value\":0.1},\"line_color\":{\"value\":\"#1f77b4\"},\"x\":{\"field\":\"x\"},\"y\":{\"field\":\"y\"}},\"id\":\"f5c39403-2e31-4989-96d4-e0ab0ada7277\",\"type\":\"Line\"},{\"attributes\":{\"data_source\":{\"id\":\"e78e84fe-1790-4174-9f38-920a677e9c86\",\"type\":\"ColumnDataSource\"},\"glyph\":{\"id\":\"d55fe820-d130-467a-8f4d-d4af9d9ff19d\",\"type\":\"Line\"},\"hover_glyph\":null,\"name\":\"Paw\",\"nonselection_glyph\":{\"id\":\"96d90de6-1b04-4be6-9991-4a4407f1f4de\",\"type\":\"Line\"},\"selection_glyph\":null},\"id\":\"87f024f7-dc50-4a81-9c7b-0a2b45c7de6b\",\"type\":\"GlyphRenderer\"},{\"attributes\":{\"plot\":{\"id\":\"aad00040-c43e-401e-a3fc-0ffd2a14b41d\",\"subtype\":\"Figure\",\"type\":\"Plot\"}},\"id\":\"64b30dc2-b771-4237-b7eb-ff070865d788\",\"type\":\"WheelZoomTool\"},{\"attributes\":{},\"id\":\"612d4274-476a-44be-817b-619efe7622ce\",\"type\":\"ToolEvents\"},{\"attributes\":{\"plot\":{\"id\":\"263c6ee3-a30b-4476-8004-ef3255404f29\",\"subtype\":\"Figure\",\"type\":\"Plot\"}},\"id\":\"6e2bbb26-7ad0-4c07-8454-ecded7d297bc\",\"type\":\"WheelZoomTool\"},{\"attributes\":{},\"id\":\"7d17d61e-1094-41f9-bbe2-bbefec99af0a\",\"type\":\"BasicTicker\"},{\"attributes\":{\"line_alpha\":{\"value\":0.1},\"line_color\":{\"value\":\"#1f77b4\"},\"x\":{\"field\":\"x\"},\"y\":{\"field\":\"y\"}},\"id\":\"b74ad640-2c38-4c74-a48a-be80c5f61354\",\"type\":\"Line\"},{\"attributes\":{\"below\":[{\"id\":\"021331e0-6ade-4f98-ba0a-539fe249e671\",\"type\":\"LinearAxis\"}],\"left\":[{\"id\":\"2d788a46-c06d-4c91-96df-fa71cf4284b1\",\"type\":\"LinearAxis\"}],\"plot_height\":250,\"renderers\":[{\"id\":\"021331e0-6ade-4f98-ba0a-539fe249e671\",\"type\":\"LinearAxis\"},{\"id\":\"3b008763-a268-4b26-b00a-4dcaed24cfce\",\"type\":\"Grid\"},{\"id\":\"2d788a46-c06d-4c91-96df-fa71cf4284b1\",\"type\":\"LinearAxis\"},{\"id\":\"142db413-f917-45e9-a661-fb24ba28754c\",\"type\":\"Grid\"},{\"id\":\"b28a4db0-bc64-4e28-838f-8361453c4f07\",\"type\":\"BoxAnnotation\"},{\"id\":\"87f024f7-dc50-4a81-9c7b-0a2b45c7de6b\",\"type\":\"GlyphRenderer\"},{\"id\":\"a96d4b0d-95d0-41ff-b63b-10322d077810\",\"type\":\"GlyphRenderer\"},{\"id\":\"2e797f29-6706-4d73-80de-87d23a4a8851\",\"type\":\"GlyphRenderer\"}],\"tool_events\":{\"id\":\"612d4274-476a-44be-817b-619efe7622ce\",\"type\":\"ToolEvents\"},\"toolbar_location\":\"right\",\"tools\":[{\"id\":\"cabd508b-fb8a-412d-9785-1c6e86e44b3c\",\"type\":\"PanTool\"},{\"id\":\"6e2bbb26-7ad0-4c07-8454-ecded7d297bc\",\"type\":\"WheelZoomTool\"},{\"id\":\"9cf2cbad-dca5-42cb-950e-bc7372041289\",\"type\":\"BoxZoomTool\"},{\"id\":\"a3c1070e-4a0a-4958-a247-0e0f00389c2a\",\"type\":\"PreviewSaveTool\"},{\"id\":\"63d4d932-c56a-4cd2-95da-729e342e120a\",\"type\":\"ResizeTool\"},{\"id\":\"26269157-4a7c-4a42-bb0c-9075220dbe10\",\"type\":\"ResetTool\"},{\"id\":\"4c105296-76e8-4a45-8276-53b6f597620f\",\"type\":\"HelpTool\"}],\"x_range\":{\"id\":\"a4ef57af-aa6a-44ca-bf9c-9677cc006399\",\"type\":\"DataRange1d\"},\"y_range\":{\"id\":\"6d4d12e6-8f7c-43f2-b330-7682897d2df7\",\"type\":\"DataRange1d\"}},\"id\":\"263c6ee3-a30b-4476-8004-ef3255404f29\",\"subtype\":\"Figure\",\"type\":\"Plot\"},{\"attributes\":{},\"id\":\"0b2326d0-1d3a-4979-95ca-aac8f63124e0\",\"type\":\"ToolEvents\"},{\"attributes\":{\"callback\":null},\"id\":\"f14a939e-b3da-4324-9bcd-cc7efb2af1ed\",\"type\":\"DataRange1d\"}],\"root_ids\":[\"4d6e7bb1-95e7-4cde-a31b-78a52df46efc\"]},\"title\":\"Bokeh Application\",\"version\":\"0.11.1\"}};\n",
       "            var render_items = [{\"docid\":\"d14c7836-3b3e-4e04-9522-75b790579c32\",\"elementid\":\"38b2cc14-5c5a-4f19-be08-5f5ca088b010\",\"modelid\":\"4d6e7bb1-95e7-4cde-a31b-78a52df46efc\",\"notebook_comms_target\":\"00799958-493d-4810-bee7-951cb274c67f\"}];\n",
       "            \n",
       "            Bokeh.embed.embed_items(docs_json, render_items);\n",
       "        });\n",
       "      },\n",
       "      function(Bokeh) {\n",
       "      }\n",
       "    ];\n",
       "  \n",
       "    function run_inline_js() {\n",
       "      for (var i = 0; i < inline_js.length; i++) {\n",
       "        inline_js[i](window.Bokeh);\n",
       "      }\n",
       "    }\n",
       "  \n",
       "    if (window._bokeh_is_loading === 0) {\n",
       "      console.log(\"Bokeh: BokehJS loaded, going straight to plotting\");\n",
       "      run_inline_js();\n",
       "    } else {\n",
       "      load_libs(js_urls, function() {\n",
       "        console.log(\"Bokeh: BokehJS plotting callback run at\", now());\n",
       "        run_inline_js();\n",
       "      });\n",
       "    }\n",
       "  }(this));\n",
       "</script>"
      ]
     },
     "metadata": {},
     "output_type": "display_data"
    }
   ],
   "source": [
    "breaths = 1\n",
    "results = viz.get_breaths(75)\n",
    "w = widgets.SelectMultiple(description='Types', options=['Normal', 'DoubleStacked', 'PostDoubleStacked', \n",
    "                                                         'PressureFlowLimited', 'FlowAbnormal', \n",
    "                                                         'PrematureVentTermination', 'IneffectiveTrigger', 'Garbage'])\n",
    "w.height = 150\n",
    "button = widgets.Button(description='Next')\n",
    "container = widgets.HBox(children=[w, button])\n",
    "\n",
    "button.on_click(on_button_click)\n",
    "display(container)"
   ]
  },
  {
   "cell_type": "markdown",
   "metadata": {
    "collapsed": false
   },
   "source": [
    "# Use PDS breaths to ID DS Breaths"
   ]
  },
  {
   "cell_type": "code",
   "execution_count": null,
   "metadata": {
    "collapsed": false
   },
   "outputs": [],
   "source": [
    "pds = list(train_db.find({'validation':{'$exists':1}, 'validation.pds':1}, {'file':1, 'breath_num':1}))\n",
    "for breath in pds:\n",
    "    data = breath_db.find_one({'file': breath['file'], 'breath_num':breath['breath_num']-1})\n",
    "    data['validation'] = {'norm':0,\n",
    "                                'ds': 1,\n",
    "                                'pds': 0,\n",
    "                                'pfl': 0,\n",
    "                                'fa': 0,\n",
    "                                'pvt':0,\n",
    "                                'ie': 0,\n",
    "                                'garb': 0}\n",
    "\n",
    "    try:\n",
    "        train_db.insert_one(data)\n",
    "    except:\n",
    "        train_db.update_one({'file': breath['file'], 'breath_num':breath['breath_num']-1}, {'$set':data})"
   ]
  },
  {
   "cell_type": "code",
   "execution_count": null,
   "metadata": {
    "collapsed": true
   },
   "outputs": [],
   "source": [
    "ids = list(train_db.find({'validation':{'$exists':1}}, {'_id':1, 'validation':1}).limit(20))"
   ]
  },
  {
   "cell_type": "code",
   "execution_count": null,
   "metadata": {
    "collapsed": false,
    "scrolled": false
   },
   "outputs": [],
   "source": [
    "for _id in ids:\n",
    "    print(_id['validation'])\n",
    "    df, breath_start, breath_end = viz.breath_viz(_id['_id'])\n",
    "    p=viz.make_plot(df, breath_start, breath_end)\n",
    "    show(p)"
   ]
  },
  {
   "cell_type": "code",
   "execution_count": null,
   "metadata": {
    "collapsed": true
   },
   "outputs": [],
   "source": []
  },
  {
   "cell_type": "code",
   "execution_count": null,
   "metadata": {
    "collapsed": true
   },
   "outputs": [],
   "source": []
  },
  {
   "cell_type": "code",
   "execution_count": null,
   "metadata": {
    "collapsed": true
   },
   "outputs": [],
   "source": []
  },
  {
   "cell_type": "code",
   "execution_count": null,
   "metadata": {
    "collapsed": true
   },
   "outputs": [],
   "source": []
  },
  {
   "cell_type": "code",
   "execution_count": null,
   "metadata": {
    "collapsed": true
   },
   "outputs": [],
   "source": []
  },
  {
   "cell_type": "code",
   "execution_count": null,
   "metadata": {
    "collapsed": true
   },
   "outputs": [],
   "source": []
  },
  {
   "cell_type": "code",
   "execution_count": null,
   "metadata": {
    "collapsed": true
   },
   "outputs": [],
   "source": []
  },
  {
   "cell_type": "code",
   "execution_count": null,
   "metadata": {
    "collapsed": true
   },
   "outputs": [],
   "source": []
  },
  {
   "cell_type": "code",
   "execution_count": null,
   "metadata": {
    "collapsed": true
   },
   "outputs": [],
   "source": []
  },
  {
   "cell_type": "code",
   "execution_count": null,
   "metadata": {
    "collapsed": true
   },
   "outputs": [],
   "source": []
  },
  {
   "cell_type": "code",
   "execution_count": null,
   "metadata": {
    "collapsed": true
   },
   "outputs": [],
   "source": []
  },
  {
   "cell_type": "code",
   "execution_count": null,
   "metadata": {
    "collapsed": true
   },
   "outputs": [],
   "source": []
  },
  {
   "cell_type": "code",
   "execution_count": null,
   "metadata": {
    "collapsed": true
   },
   "outputs": [],
   "source": []
  },
  {
   "cell_type": "code",
   "execution_count": null,
   "metadata": {
    "collapsed": true
   },
   "outputs": [],
   "source": []
  },
  {
   "cell_type": "code",
   "execution_count": null,
   "metadata": {
    "collapsed": true
   },
   "outputs": [],
   "source": []
  },
  {
   "cell_type": "code",
   "execution_count": null,
   "metadata": {
    "collapsed": true
   },
   "outputs": [],
   "source": []
  },
  {
   "cell_type": "code",
   "execution_count": null,
   "metadata": {
    "collapsed": true
   },
   "outputs": [],
   "source": []
  },
  {
   "cell_type": "code",
   "execution_count": null,
   "metadata": {
    "collapsed": true
   },
   "outputs": [],
   "source": []
  },
  {
   "cell_type": "code",
   "execution_count": null,
   "metadata": {
    "collapsed": true
   },
   "outputs": [],
   "source": []
  }
 ],
 "metadata": {
  "kernelspec": {
   "display_name": "Python 3",
   "language": "python",
   "name": "python3"
  },
  "language_info": {
   "codemirror_mode": {
    "name": "ipython",
    "version": 3
   },
   "file_extension": ".py",
   "mimetype": "text/x-python",
   "name": "python",
   "nbconvert_exporter": "python",
   "pygments_lexer": "ipython3",
   "version": "3.5.1"
  }
 },
 "nbformat": 4,
 "nbformat_minor": 0
}
