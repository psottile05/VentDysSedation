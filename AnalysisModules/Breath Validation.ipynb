{
 "cells": [
  {
   "cell_type": "code",
   "execution_count": 1,
   "metadata": {
    "collapsed": false
   },
   "outputs": [
    {
     "data": {
      "text/html": [
       "\n",
       "    <div class=\"bk-banner\">\n",
       "        <a href=\"http://bokeh.pydata.org\" target=\"_blank\" class=\"bk-logo bk-logo-small bk-logo-notebook\"></a>\n",
       "        <span id=\"73b37ef3-0ccc-4ee5-b9d7-2e0fcc4ca87e\">Loading BokehJS ...</span>\n",
       "    </div>"
      ]
     },
     "metadata": {},
     "output_type": "display_data"
    },
    {
     "data": {
      "application/javascript": [
       "\n",
       "(function(global) {\n",
       "  function now() {\n",
       "    return new Date();\n",
       "  }\n",
       "\n",
       "  if (typeof (window._bokeh_onload_callbacks) === \"undefined\") {\n",
       "    window._bokeh_onload_callbacks = [];\n",
       "  }\n",
       "\n",
       "  function run_callbacks() {\n",
       "    window._bokeh_onload_callbacks.forEach(function(callback) { callback() });\n",
       "    delete window._bokeh_onload_callbacks\n",
       "    console.info(\"Bokeh: all callbacks have finished\");\n",
       "  }\n",
       "\n",
       "  function load_libs(js_urls, callback) {\n",
       "    window._bokeh_onload_callbacks.push(callback);\n",
       "    if (window._bokeh_is_loading > 0) {\n",
       "      console.log(\"Bokeh: BokehJS is being loaded, scheduling callback at\", now());\n",
       "      return null;\n",
       "    }\n",
       "    if (js_urls == null || js_urls.length === 0) {\n",
       "      run_callbacks();\n",
       "      return null;\n",
       "    }\n",
       "    console.log(\"Bokeh: BokehJS not loaded, scheduling load and callback at\", now());\n",
       "    window._bokeh_is_loading = js_urls.length;\n",
       "    for (var i = 0; i < js_urls.length; i++) {\n",
       "      var url = js_urls[i];\n",
       "      var s = document.createElement('script');\n",
       "      s.src = url;\n",
       "      s.async = false;\n",
       "      s.onreadystatechange = s.onload = function() {\n",
       "        window._bokeh_is_loading--;\n",
       "        if (window._bokeh_is_loading === 0) {\n",
       "          console.log(\"Bokeh: all BokehJS libraries loaded\");\n",
       "          run_callbacks()\n",
       "        }\n",
       "      };\n",
       "      s.onerror = function() {\n",
       "        console.warn(\"failed to load library \" + url);\n",
       "      };\n",
       "      console.log(\"Bokeh: injecting script tag for BokehJS library: \", url);\n",
       "      document.getElementsByTagName(\"head\")[0].appendChild(s);\n",
       "    }\n",
       "  };\n",
       "\n",
       "  var js_urls = ['https://cdn.pydata.org/bokeh/release/bokeh-0.11.1.min.js', 'https://cdn.pydata.org/bokeh/release/bokeh-widgets-0.11.1.min.js', 'https://cdn.pydata.org/bokeh/release/bokeh-compiler-0.11.1.min.js'];\n",
       "\n",
       "  var inline_js = [\n",
       "    function(Bokeh) {\n",
       "      Bokeh.set_log_level(\"info\");\n",
       "    },\n",
       "    \n",
       "    function(Bokeh) {\n",
       "      Bokeh.$(\"#73b37ef3-0ccc-4ee5-b9d7-2e0fcc4ca87e\").text(\"BokehJS successfully loaded\");\n",
       "    },\n",
       "    function(Bokeh) {\n",
       "      console.log(\"Bokeh: injecting CSS: https://cdn.pydata.org/bokeh/release/bokeh-0.11.1.min.css\");\n",
       "      Bokeh.embed.inject_css(\"https://cdn.pydata.org/bokeh/release/bokeh-0.11.1.min.css\");\n",
       "      console.log(\"Bokeh: injecting CSS: https://cdn.pydata.org/bokeh/release/bokeh-widgets-0.11.1.min.css\");\n",
       "      Bokeh.embed.inject_css(\"https://cdn.pydata.org/bokeh/release/bokeh-widgets-0.11.1.min.css\");\n",
       "    }\n",
       "  ];\n",
       "\n",
       "  function run_inline_js() {\n",
       "    for (var i = 0; i < inline_js.length; i++) {\n",
       "      inline_js[i](window.Bokeh);\n",
       "    }\n",
       "  }\n",
       "\n",
       "  if (window._bokeh_is_loading === 0) {\n",
       "    console.log(\"Bokeh: BokehJS loaded, going straight to plotting\");\n",
       "    run_inline_js();\n",
       "  } else {\n",
       "    load_libs(js_urls, function() {\n",
       "      console.log(\"Bokeh: BokehJS plotting callback run at\", now());\n",
       "      run_inline_js();\n",
       "    });\n",
       "  }\n",
       "}(this));"
      ]
     },
     "metadata": {},
     "output_type": "display_data"
    }
   ],
   "source": [
    "import Visualization as viz\n",
    "from ipywidgets import widgets\n",
    "from IPython.display import display, clear_output\n",
    "from bokeh.plotting import figure, show, output_notebook\n",
    "\n",
    "output_notebook()"
   ]
  },
  {
   "cell_type": "code",
   "execution_count": 2,
   "metadata": {
    "collapsed": false
   },
   "outputs": [
    {
     "data": {
      "text/plain": [
       "10000"
      ]
     },
     "execution_count": 2,
     "metadata": {},
     "output_type": "execute_result"
    }
   ],
   "source": [
    "from pymongo import MongoClient\n",
    "\n",
    "client = MongoClient()\n",
    "db = client.VentDB\n",
    "breath_db = db.breath_collection\n",
    "train_db = db.train_collection\n",
    "\n",
    "train_db.find().count()"
   ]
  },
  {
   "cell_type": "code",
   "execution_count": 3,
   "metadata": {
    "collapsed": false
   },
   "outputs": [
    {
     "data": {
      "text/plain": [
       "1964338"
      ]
     },
     "execution_count": 3,
     "metadata": {},
     "output_type": "execute_result"
    }
   ],
   "source": [
    "breath_db.find().count()"
   ]
  },
  {
   "cell_type": "code",
   "execution_count": 4,
   "metadata": {
    "collapsed": true
   },
   "outputs": [],
   "source": [
    "def on_button_click(b):\n",
    "    global breaths\n",
    "\n",
    "    clear_output()\n",
    "    if results.alive:\n",
    "        if breaths != 1:\n",
    "            viz.update_database(breaths['_id'], w.selected_labels)\n",
    "\n",
    "        breaths = results.next()\n",
    "        df, breath_start, breath_end = viz.breath_viz(breaths['_id'])\n",
    "        p=viz.make_plot(df, breath_start, breath_end)\n",
    "        show(p)\n",
    "    else:\n",
    "        if breaths != 1:\n",
    "            viz.update_database(breaths['_id'], w.selected_labels)\n",
    "        clear_output()\n",
    "        print('No more')"
   ]
  },
  {
   "cell_type": "code",
   "execution_count": 5,
   "metadata": {
    "collapsed": false
   },
   "outputs": [
    {
     "data": {
      "text/plain": [
       "942"
      ]
     },
     "execution_count": 5,
     "metadata": {},
     "output_type": "execute_result"
    }
   ],
   "source": [
    "train_db.find({'validation':{'$exists':0}, 'breath_character.exp_time': {'$lte': 1000}}).count()"
   ]
  },
  {
   "cell_type": "code",
   "execution_count": 6,
   "metadata": {
    "collapsed": false
   },
   "outputs": [],
   "source": [
    "import pandas as pd\n",
    "val_df = pd.io.json.json_normalize(list(train_db.find({'validation':{'$exists':1}}, {'validation':1})))"
   ]
  },
  {
   "cell_type": "code",
   "execution_count": 7,
   "metadata": {
    "collapsed": false
   },
   "outputs": [],
   "source": [
    "val_df.replace({0:False, 1:True}, inplace=True)\n",
    "val_df = val_df[['validation.ds', 'validation.fa', 'validation.garb',\n",
    "       'validation.ie', 'validation.norm', 'validation.pds', 'validation.pfl',\n",
    "       'validation.pvt']].astype(bool)"
   ]
  },
  {
   "cell_type": "code",
   "execution_count": 8,
   "metadata": {
    "collapsed": false
   },
   "outputs": [
    {
     "data": {
      "text/plain": [
       "False    1567\n",
       "True       25\n",
       "Name: validation.ds, dtype: int64"
      ]
     },
     "execution_count": 8,
     "metadata": {},
     "output_type": "execute_result"
    }
   ],
   "source": [
    "val_df['validation.ds'].value_counts()"
   ]
  },
  {
   "cell_type": "code",
   "execution_count": 9,
   "metadata": {
    "collapsed": false
   },
   "outputs": [
    {
     "data": {
      "text/plain": [
       "False    1573\n",
       "True       19\n",
       "Name: validation.pds, dtype: int64"
      ]
     },
     "execution_count": 9,
     "metadata": {},
     "output_type": "execute_result"
    }
   ],
   "source": [
    "val_df['validation.pds'].value_counts()"
   ]
  },
  {
   "cell_type": "code",
   "execution_count": 10,
   "metadata": {
    "collapsed": false
   },
   "outputs": [
    {
     "data": {
      "text/plain": [
       "False    1179\n",
       "True      413\n",
       "Name: validation.pfl, dtype: int64"
      ]
     },
     "execution_count": 10,
     "metadata": {},
     "output_type": "execute_result"
    }
   ],
   "source": [
    "val_df['validation.pfl'].value_counts()"
   ]
  },
  {
   "cell_type": "code",
   "execution_count": 11,
   "metadata": {
    "collapsed": false
   },
   "outputs": [
    {
     "data": {
      "text/plain": [
       "False    1495\n",
       "True       97\n",
       "Name: validation.pvt, dtype: int64"
      ]
     },
     "execution_count": 11,
     "metadata": {},
     "output_type": "execute_result"
    }
   ],
   "source": [
    "val_df['validation.pvt'].value_counts()"
   ]
  },
  {
   "cell_type": "code",
   "execution_count": 12,
   "metadata": {
    "collapsed": false
   },
   "outputs": [
    {
     "data": {
      "text/plain": [
       "False    1272\n",
       "True      320\n",
       "Name: validation.ie, dtype: int64"
      ]
     },
     "execution_count": 12,
     "metadata": {},
     "output_type": "execute_result"
    }
   ],
   "source": [
    "val_df['validation.ie'].value_counts()"
   ]
  },
  {
   "cell_type": "code",
   "execution_count": 13,
   "metadata": {
    "collapsed": false
   },
   "outputs": [
    {
     "data": {
      "text/plain": [
       "True     831\n",
       "False    761\n",
       "Name: validation.norm, dtype: int64"
      ]
     },
     "execution_count": 13,
     "metadata": {},
     "output_type": "execute_result"
    }
   ],
   "source": [
    "val_df['validation.norm'].value_counts()"
   ]
  },
  {
   "cell_type": "code",
   "execution_count": 14,
   "metadata": {
    "collapsed": false
   },
   "outputs": [
    {
     "data": {
      "text/html": [
       "\n",
       "\n",
       "    <div class=\"plotdiv\" id=\"7379ed92-085d-419c-9553-df8ac6f02187\"></div>\n",
       "<script type=\"text/javascript\">\n",
       "  \n",
       "  (function(global) {\n",
       "    function now() {\n",
       "      return new Date();\n",
       "    }\n",
       "  \n",
       "    if (typeof (window._bokeh_onload_callbacks) === \"undefined\") {\n",
       "      window._bokeh_onload_callbacks = [];\n",
       "    }\n",
       "  \n",
       "    function run_callbacks() {\n",
       "      window._bokeh_onload_callbacks.forEach(function(callback) { callback() });\n",
       "      delete window._bokeh_onload_callbacks\n",
       "      console.info(\"Bokeh: all callbacks have finished\");\n",
       "    }\n",
       "  \n",
       "    function load_libs(js_urls, callback) {\n",
       "      window._bokeh_onload_callbacks.push(callback);\n",
       "      if (window._bokeh_is_loading > 0) {\n",
       "        console.log(\"Bokeh: BokehJS is being loaded, scheduling callback at\", now());\n",
       "        return null;\n",
       "      }\n",
       "      if (js_urls == null || js_urls.length === 0) {\n",
       "        run_callbacks();\n",
       "        return null;\n",
       "      }\n",
       "      console.log(\"Bokeh: BokehJS not loaded, scheduling load and callback at\", now());\n",
       "      window._bokeh_is_loading = js_urls.length;\n",
       "      for (var i = 0; i < js_urls.length; i++) {\n",
       "        var url = js_urls[i];\n",
       "        var s = document.createElement('script');\n",
       "        s.src = url;\n",
       "        s.async = false;\n",
       "        s.onreadystatechange = s.onload = function() {\n",
       "          window._bokeh_is_loading--;\n",
       "          if (window._bokeh_is_loading === 0) {\n",
       "            console.log(\"Bokeh: all BokehJS libraries loaded\");\n",
       "            run_callbacks()\n",
       "          }\n",
       "        };\n",
       "        s.onerror = function() {\n",
       "          console.warn(\"failed to load library \" + url);\n",
       "        };\n",
       "        console.log(\"Bokeh: injecting script tag for BokehJS library: \", url);\n",
       "        document.getElementsByTagName(\"head\")[0].appendChild(s);\n",
       "      }\n",
       "    };var element = document.getElementById(\"7379ed92-085d-419c-9553-df8ac6f02187\");\n",
       "    if (element == null) {\n",
       "      console.log(\"Bokeh: ERROR: autoload.js configured with elementid '7379ed92-085d-419c-9553-df8ac6f02187' but no matching script tag was found. \")\n",
       "      return false;\n",
       "    }\n",
       "  \n",
       "    var js_urls = [];\n",
       "  \n",
       "    var inline_js = [\n",
       "      function(Bokeh) {\n",
       "        Bokeh.$(function() {\n",
       "            var docs_json = {\"1aeb937e-427e-41dc-a53e-d2c2b910c4e8\":{\"roots\":{\"references\":[{\"attributes\":{\"callback\":null,\"column_names\":[\"y\",\"x\"],\"data\":{\"x\":[4791616.0,4791616.0],\"y\":[0,40]}},\"id\":\"ea011a77-0617-4c2f-be7d-299a39d4dc44\",\"type\":\"ColumnDataSource\"},{\"attributes\":{\"data_source\":{\"id\":\"6d4e258b-c946-4c8d-9d12-e20fec3c75e7\",\"type\":\"ColumnDataSource\"},\"glyph\":{\"id\":\"1f2b3d9a-e030-42dc-ab01-cbbb7d417eda\",\"type\":\"Line\"},\"hover_glyph\":null,\"nonselection_glyph\":{\"id\":\"db1e7dd2-805f-471a-87c5-2443de7ea480\",\"type\":\"Line\"},\"selection_glyph\":null},\"id\":\"ac87e4fe-8435-4dee-adb2-0fc4c787c7b7\",\"type\":\"GlyphRenderer\"},{\"attributes\":{\"data_source\":{\"id\":\"ccecd1bd-b087-4439-a76d-842b73e85226\",\"type\":\"ColumnDataSource\"},\"glyph\":{\"id\":\"1ac2575d-8c55-4c04-bfb7-b61cdbadbe8a\",\"type\":\"Line\"},\"hover_glyph\":null,\"nonselection_glyph\":{\"id\":\"bc4bcb0d-d35f-4c95-b3d9-adb0bb2ef5a3\",\"type\":\"Line\"},\"selection_glyph\":null},\"id\":\"46e94983-83b1-44f1-a586-9eda3f05bf73\",\"type\":\"GlyphRenderer\"},{\"attributes\":{\"callback\":null},\"id\":\"ecaac0e5-eb26-4244-ba4a-b68359f5ca23\",\"type\":\"DataRange1d\"},{\"attributes\":{\"line_alpha\":{\"value\":0.1},\"line_color\":{\"value\":\"#1f77b4\"},\"x\":{\"field\":\"x\"},\"y\":{\"field\":\"y\"}},\"id\":\"5bf55691-063a-43a9-b34a-c9b08c6983c6\",\"type\":\"Line\"},{\"attributes\":{\"line_alpha\":{\"value\":0.1},\"line_color\":{\"value\":\"#1f77b4\"},\"x\":{\"field\":\"x\"},\"y\":{\"field\":\"y\"}},\"id\":\"bc4bcb0d-d35f-4c95-b3d9-adb0bb2ef5a3\",\"type\":\"Line\"},{\"attributes\":{\"plot\":{\"id\":\"96230e9c-bf20-4bbb-965a-a2f8d805481b\",\"subtype\":\"Figure\",\"type\":\"Plot\"}},\"id\":\"1bff1c18-f8e2-458e-8860-30be425e3709\",\"type\":\"PanTool\"},{\"attributes\":{\"axis_label\":\"Flow\",\"formatter\":{\"id\":\"b8379a7b-523b-4870-aeef-7263fbcda052\",\"type\":\"BasicTickFormatter\"},\"plot\":{\"id\":\"5f216b76-8a7d-4b62-a90b-68861018a092\",\"subtype\":\"Figure\",\"type\":\"Plot\"},\"ticker\":{\"id\":\"41d88987-a4f0-4546-9538-21e340213cc5\",\"type\":\"BasicTicker\"}},\"id\":\"2fe49f75-013f-4b25-bf7a-33c3b82e2d00\",\"type\":\"LinearAxis\"},{\"attributes\":{\"data_source\":{\"id\":\"d1fa47ef-5a6e-4f0f-ab2e-60ce2f62aa2b\",\"type\":\"ColumnDataSource\"},\"glyph\":{\"id\":\"b68c991c-f40c-4742-912b-c1cc48db47ce\",\"type\":\"Line\"},\"hover_glyph\":null,\"nonselection_glyph\":{\"id\":\"3621acec-117b-442c-bc6e-1f1f93446d71\",\"type\":\"Line\"},\"selection_glyph\":null},\"id\":\"b9eafa4c-d493-4d2d-91d1-4b2c3ba6ad2e\",\"type\":\"GlyphRenderer\"},{\"attributes\":{\"axis_label\":\"Paw\",\"formatter\":{\"id\":\"d526aa71-a922-484e-8a0e-c978c55f073d\",\"type\":\"BasicTickFormatter\"},\"plot\":{\"id\":\"96230e9c-bf20-4bbb-965a-a2f8d805481b\",\"subtype\":\"Figure\",\"type\":\"Plot\"},\"ticker\":{\"id\":\"aa195948-0c52-4b83-bd97-4cc1f508a460\",\"type\":\"BasicTicker\"}},\"id\":\"a6cb50a8-6222-41c4-9389-b12410760484\",\"type\":\"LinearAxis\"},{\"attributes\":{\"formatter\":{\"id\":\"8b88dbee-ef45-4ca8-b2fe-fd3e647ca81b\",\"type\":\"BasicTickFormatter\"},\"plot\":{\"id\":\"cf8f533f-6637-4c08-a174-97a9123985e0\",\"subtype\":\"Figure\",\"type\":\"Plot\"},\"ticker\":{\"id\":\"ae9158aa-ff64-4035-87fa-1c32deb84293\",\"type\":\"BasicTicker\"}},\"id\":\"8da369ad-7e65-4738-8b6e-67d6cbc261ad\",\"type\":\"LinearAxis\"},{\"attributes\":{},\"id\":\"01d17b1e-c98a-4c44-b748-f72ca0a072de\",\"type\":\"BasicTickFormatter\"},{\"attributes\":{},\"id\":\"21252438-2528-4b16-9759-4578fbead3b8\",\"type\":\"BasicTicker\"},{\"attributes\":{\"plot\":{\"id\":\"5f216b76-8a7d-4b62-a90b-68861018a092\",\"subtype\":\"Figure\",\"type\":\"Plot\"}},\"id\":\"5d0c131f-23bb-4022-a9fe-39e53b941f39\",\"type\":\"PreviewSaveTool\"},{\"attributes\":{\"callback\":null},\"id\":\"bd098ca4-4be4-4e99-a182-75fbbfa30c47\",\"type\":\"DataRange1d\"},{\"attributes\":{\"formatter\":{\"id\":\"53be163d-2dd4-455a-9c03-ec8d5b16a491\",\"type\":\"BasicTickFormatter\"},\"plot\":{\"id\":\"96230e9c-bf20-4bbb-965a-a2f8d805481b\",\"subtype\":\"Figure\",\"type\":\"Plot\"},\"ticker\":{\"id\":\"21252438-2528-4b16-9759-4578fbead3b8\",\"type\":\"BasicTicker\"}},\"id\":\"b228c4c3-7491-494b-939a-d9db1526404d\",\"type\":\"LinearAxis\"},{\"attributes\":{},\"id\":\"ca84db11-90d0-488a-96b7-a3fe74ed9117\",\"type\":\"BasicTicker\"},{\"attributes\":{\"line_alpha\":{\"value\":0.1},\"line_color\":{\"value\":\"#1f77b4\"},\"x\":{\"field\":\"x\"},\"y\":{\"field\":\"y\"}},\"id\":\"ed449ede-a080-44dc-b4c6-cb54dc21da03\",\"type\":\"Line\"},{\"attributes\":{\"plot\":{\"id\":\"cf8f533f-6637-4c08-a174-97a9123985e0\",\"subtype\":\"Figure\",\"type\":\"Plot\"}},\"id\":\"02efd8d2-1ea5-4159-b7d6-148449dcb3a0\",\"type\":\"ResetTool\"},{\"attributes\":{\"callback\":null},\"id\":\"5631a0eb-e6bc-4faa-8dfa-00dd430a41b7\",\"type\":\"DataRange1d\"},{\"attributes\":{\"dimension\":1,\"plot\":{\"id\":\"cf8f533f-6637-4c08-a174-97a9123985e0\",\"subtype\":\"Figure\",\"type\":\"Plot\"},\"ticker\":{\"id\":\"8fa02d3a-b8f2-403d-bb3c-f7a295a797b6\",\"type\":\"BasicTicker\"}},\"id\":\"6dd69dda-d79c-45c2-ad35-ea286880b877\",\"type\":\"Grid\"},{\"attributes\":{\"line_color\":{\"value\":\"green\"},\"x\":{\"field\":\"x\"},\"y\":{\"field\":\"y\"}},\"id\":\"b68c991c-f40c-4742-912b-c1cc48db47ce\",\"type\":\"Line\"},{\"attributes\":{\"line_color\":{\"value\":\"olive\"},\"x\":{\"field\":\"x\"},\"y\":{\"field\":\"y\"}},\"id\":\"857622f6-6630-49da-aa7d-c4d043dfafc5\",\"type\":\"Line\"},{\"attributes\":{\"line_alpha\":{\"value\":0.1},\"line_color\":{\"value\":\"#1f77b4\"},\"x\":{\"field\":\"x\"},\"y\":{\"field\":\"y\"}},\"id\":\"ba1c6671-58e6-4d79-aa3a-0e4b564f7918\",\"type\":\"Line\"},{\"attributes\":{\"callback\":null,\"column_names\":[\"y\",\"x\"],\"data\":{\"x\":[4787328.0,4787328.0],\"y\":[0,40]}},\"id\":\"2eec2633-a8b6-413f-88e1-f333201973dd\",\"type\":\"ColumnDataSource\"},{\"attributes\":{\"line_alpha\":{\"value\":0.1},\"line_color\":{\"value\":\"#1f77b4\"},\"x\":{\"field\":\"x\"},\"y\":{\"field\":\"y\"}},\"id\":\"db1e7dd2-805f-471a-87c5-2443de7ea480\",\"type\":\"Line\"},{\"attributes\":{},\"id\":\"53be163d-2dd4-455a-9c03-ec8d5b16a491\",\"type\":\"BasicTickFormatter\"},{\"attributes\":{\"line_color\":{\"value\":\"green\"},\"x\":{\"field\":\"x\"},\"y\":{\"field\":\"y\"}},\"id\":\"1f2b3d9a-e030-42dc-ab01-cbbb7d417eda\",\"type\":\"Line\"},{\"attributes\":{\"line_color\":{\"value\":\"green\"},\"x\":{\"field\":\"x\"},\"y\":{\"field\":\"y\"}},\"id\":\"ccc47370-dfe7-4186-9c5d-79d429f85dea\",\"type\":\"Line\"},{\"attributes\":{},\"id\":\"b8379a7b-523b-4870-aeef-7263fbcda052\",\"type\":\"BasicTickFormatter\"},{\"attributes\":{},\"id\":\"aa195948-0c52-4b83-bd97-4cc1f508a460\",\"type\":\"BasicTicker\"},{\"attributes\":{\"line_color\":{\"value\":\"navy\"},\"x\":{\"field\":\"x\"},\"y\":{\"field\":\"y\"}},\"id\":\"f9f0cb4d-10bb-4c08-98eb-7217664b9978\",\"type\":\"Line\"},{\"attributes\":{\"line_color\":{\"value\":\"green\"},\"x\":{\"field\":\"x\"},\"y\":{\"field\":\"y\"}},\"id\":\"f57bbb7d-301f-4cfb-b60e-a2a2ec036b4a\",\"type\":\"Line\"},{\"attributes\":{\"plot\":{\"id\":\"5f216b76-8a7d-4b62-a90b-68861018a092\",\"subtype\":\"Figure\",\"type\":\"Plot\"}},\"id\":\"205e8e98-a3f7-48b9-89ff-eacc8d79f1ff\",\"type\":\"PanTool\"},{\"attributes\":{},\"id\":\"8b88dbee-ef45-4ca8-b2fe-fd3e647ca81b\",\"type\":\"BasicTickFormatter\"},{\"attributes\":{\"plot\":{\"id\":\"96230e9c-bf20-4bbb-965a-a2f8d805481b\",\"subtype\":\"Figure\",\"type\":\"Plot\"}},\"id\":\"52892e8f-57fa-4f3d-81c4-e1bf6f95e724\",\"type\":\"ResetTool\"},{\"attributes\":{\"line_alpha\":{\"value\":0.1},\"line_color\":{\"value\":\"#1f77b4\"},\"x\":{\"field\":\"x\"},\"y\":{\"field\":\"y\"}},\"id\":\"320c0061-22ce-4534-8b7a-f220fc7488f4\",\"type\":\"Line\"},{\"attributes\":{\"callback\":null,\"column_names\":[\"y\",\"x\"],\"data\":{\"x\":[4791616.0,4791616.0],\"y\":[0,400]}},\"id\":\"d1fa47ef-5a6e-4f0f-ab2e-60ce2f62aa2b\",\"type\":\"ColumnDataSource\"},{\"attributes\":{},\"id\":\"e25ff6c8-e11e-4bac-809b-2f30e9f034ec\",\"type\":\"ToolEvents\"},{\"attributes\":{\"callback\":null,\"column_names\":[\"y\",\"x\"],\"data\":{\"x\":[4787328.0,4787360.0,4787392.0,4787424.0,4787456.0,4787488.0,4787520.0,4787552.0,4787584.0,4787616.0,4787648.0,4787680.0,4787712.0,4787744.0,4787776.0,4787808.0,4787840.0,4787872.0,4787904.0,4787936.0,4787968.0,4788000.0,4788032.0,4788064.0,4788096.0,4788128.0,4788160.0,4788192.0,4788224.0,4788256.0,4788288.0,4788320.0,4788352.0,4788384.0,4788416.0,4788448.0,4788480.0,4788512.0,4788544.0,4788576.0,4788608.0,4788640.0,4788672.0,4788704.0,4788736.0,4788768.0,4788800.0,4788832.0,4788864.0,4788896.0,4788928.0,4788960.0,4788992.0,4789024.0,4789056.0,4789088.0,4789120.0,4789152.0,4789184.0,4789216.0,4789248.0,4789280.0,4789312.0,4789344.0,4789376.0,4789408.0,4789440.0,4789472.0,4789504.0,4789536.0,4789568.0,4789600.0,4789632.0,4789664.0,4789696.0,4789728.0,4789760.0,4789792.0,4789824.0,4789856.0,4789888.0,4789920.0,4789952.0,4789984.0,4790016.0,4790048.0,4790080.0,4790112.0,4790144.0,4790176.0,4790208.0,4790240.0,4790272.0,4790304.0,4790336.0,4790368.0,4790400.0,4790432.0,4790464.0,4790496.0,4790528.0,4790560.0,4790592.0,4790624.0,4790656.0,4790688.0,4790720.0,4790752.0,4790784.0,4790816.0,4790848.0,4790880.0,4790912.0,4790944.0,4790976.0,4791008.0,4791040.0,4791072.0,4791104.0,4791136.0,4791168.0,4791200.0,4791232.0,4791264.0,4791296.0,4791328.0,4791360.0,4791392.0,4791424.0,4791456.0,4791488.0,4791520.0,4791552.0,4791584.0,4791616.0],\"y\":[-13.571428571428584,2.5000000000000013,15.952380952380967,22.261904761904784,35.95238095238099,53.69047619047624,74.40476190476197,98.8095238095239,129.1666666666668,160.47619047619062,192.85714285714303,225.83333333333354,258.5714285714288,291.19047619047643,328.45238095238125,364.7619047619051,401.4285714285718,438.0952380952385,474.2857142857147,513.571428571429,556.1904761904766,595.9523809523814,633.0952380952386,666.428571428572,702.6190476190482,738.8095238095245,779.0476190476197,817.8571428571436,854.8809523809532,892.6190476190484,930.4761904761913,960.9523809523818,988.4523809523819,1011.0714285714295,1028.8095238095248,1045.9523809523819,1055.000000000001,1057.1428571428582,1051.54761904762,1039.2857142857151,1023.3333333333342,1005.0000000000009,986.0714285714294,968.3333333333342,951.0714285714294,934.5238095238103,918.3333333333342,898.9285714285721,878.690476190477,859.5238095238103,841.6666666666674,825.833333333334,809.5238095238103,790.5952380952388,772.0238095238101,755.0000000000007,740.1190476190483,724.7619047619054,708.2142857142863,690.8333333333339,674.6428571428578,658.6904761904767,642.0238095238101,625.0000000000005,607.5000000000006,591.9047619047624,578.0952380952386,563.3333333333338,548.3333333333338,533.3333333333338,517.02380952381,502.2619047619052,486.9047619047623,471.071428571429,454.40476190476227,437.38095238095275,421.666666666667,404.7619047619051,388.3333333333337,371.19047619047655,354.28571428571456,338.0952380952384,324.28571428571456,310.47619047619077,298.69047619047643,286.78571428571456,276.4285714285717,265.9523809523812,256.90476190476215,248.57142857142878,240.47619047619068,232.73809523809544,223.92857142857162,215.35714285714306,207.6190476190478,201.30952380952397,196.78571428571445,192.0238095238097,186.66666666666683,180.9523809523811,176.19047619047637,171.30952380952397,166.5476190476192,161.07142857142873,155.11904761904776,149.7619047619049,145.0000000000001,140.0000000000001,135.0000000000001,129.76190476190487,124.8809523809525,120.95238095238106,117.26190476190487,114.404761904762,110.35714285714295,106.30952380952391,102.38095238095246,98.45238095238105,94.64285714285722,91.07142857142865,86.78571428571436,82.97619047619055,79.28571428571436,75.8333333333334,72.7380952380953,68.57142857142863,65.35714285714292,61.904761904761955,58.333333333333385,54.523809523809575,50.59523809523814,45.59523809523814,44.64285714285718,35.833333333333364,23.214285714285737]}},\"id\":\"061bb2ea-58ab-408f-94dd-a8b37f565b15\",\"type\":\"ColumnDataSource\"},{\"attributes\":{\"plot\":{\"id\":\"cf8f533f-6637-4c08-a174-97a9123985e0\",\"subtype\":\"Figure\",\"type\":\"Plot\"}},\"id\":\"4a69ebe5-aeac-4ea0-a9a3-d5e82505e5b0\",\"type\":\"PreviewSaveTool\"},{\"attributes\":{\"plot\":{\"id\":\"96230e9c-bf20-4bbb-965a-a2f8d805481b\",\"subtype\":\"Figure\",\"type\":\"Plot\"}},\"id\":\"c770ecfa-de8f-464e-b3c1-061fe82897c8\",\"type\":\"PreviewSaveTool\"},{\"attributes\":{},\"id\":\"8fa02d3a-b8f2-403d-bb3c-f7a295a797b6\",\"type\":\"BasicTicker\"},{\"attributes\":{\"line_alpha\":{\"value\":0.1},\"line_color\":{\"value\":\"#1f77b4\"},\"x\":{\"field\":\"x\"},\"y\":{\"field\":\"y\"}},\"id\":\"c02203ca-1d98-4dfd-aefc-50476d103f8d\",\"type\":\"Line\"},{\"attributes\":{\"callback\":null,\"column_names\":[\"y\",\"x\"],\"data\":{\"x\":[4787328.0,4787360.0,4787392.0,4787424.0,4787456.0,4787488.0,4787520.0,4787552.0,4787584.0,4787616.0,4787648.0,4787680.0,4787712.0,4787744.0,4787776.0,4787808.0,4787840.0,4787872.0,4787904.0,4787936.0,4787968.0,4788000.0,4788032.0,4788064.0,4788096.0,4788128.0,4788160.0,4788192.0,4788224.0,4788256.0,4788288.0,4788320.0,4788352.0,4788384.0,4788416.0,4788448.0,4788480.0,4788512.0,4788544.0,4788576.0,4788608.0,4788640.0,4788672.0,4788704.0,4788736.0,4788768.0,4788800.0,4788832.0,4788864.0,4788896.0,4788928.0,4788960.0,4788992.0,4789024.0,4789056.0,4789088.0,4789120.0,4789152.0,4789184.0,4789216.0,4789248.0,4789280.0,4789312.0,4789344.0,4789376.0,4789408.0,4789440.0,4789472.0,4789504.0,4789536.0,4789568.0,4789600.0,4789632.0,4789664.0,4789696.0,4789728.0,4789760.0,4789792.0,4789824.0,4789856.0,4789888.0,4789920.0,4789952.0,4789984.0,4790016.0,4790048.0,4790080.0,4790112.0,4790144.0,4790176.0,4790208.0,4790240.0,4790272.0,4790304.0,4790336.0,4790368.0,4790400.0,4790432.0,4790464.0,4790496.0,4790528.0,4790560.0,4790592.0,4790624.0,4790656.0,4790688.0,4790720.0,4790752.0,4790784.0,4790816.0,4790848.0,4790880.0,4790912.0,4790944.0,4790976.0,4791008.0,4791040.0,4791072.0,4791104.0,4791136.0,4791168.0,4791200.0,4791232.0,4791264.0,4791296.0,4791328.0,4791360.0,4791392.0,4791424.0,4791456.0,4791488.0,4791520.0,4791552.0,4791584.0,4791616.0],\"y\":[7.214285714285721,5.500000000000004,3.6809523809523848,2.695238095238098,2.8952380952380983,3.990476190476194,5.4809523809523855,6.604761904761911,7.333333333333339,7.82380952380953,8.190476190476197,8.576190476190483,9.038095238095245,9.547619047619056,10.004761904761914,10.319047619047627,10.557142857142868,10.761904761904772,10.909523809523819,11.090476190476199,11.285714285714297,11.514285714285725,11.742857142857154,11.976190476190489,12.057142857142868,12.066666666666677,12.109523809523822,12.190476190476202,12.380952380952392,12.995238095238108,13.823809523809535,14.857142857142872,15.96666666666668,16.880952380952394,17.67142857142859,18.838095238095256,18.847619047619062,17.971428571428586,16.39523809523811,14.666666666666679,13.580952380952393,13.452380952380963,13.071428571428584,12.723809523809535,12.304761904761916,12.004761904761917,11.857142857142868,11.747619047619057,11.776190476190488,11.82857142857144,11.909523809523822,11.952380952380963,11.890476190476203,11.81904761904763,11.771428571428583,11.723809523809534,11.704761904761915,11.6904761904762,11.70000000000001,11.70952380952382,11.704761904761915,11.661904761904772,11.60952380952382,11.533333333333344,11.471428571428582,11.409523809523819,11.357142857142868,11.357142857142868,11.414285714285725,11.557142857142868,11.771428571428583,11.928571428571438,12.061904761904774,12.223809523809535,12.271428571428583,12.261904761904773,12.204761904761916,12.02857142857144,11.81904761904763,11.628571428571439,11.419047619047628,11.223809523809532,11.076190476190487,10.87142857142858,10.676190476190486,10.495238095238104,10.347619047619057,10.276190476190486,10.280952380952392,10.266666666666676,10.257142857142867,10.214285714285722,10.090476190476199,10.066666666666675,9.938095238095247,9.533333333333342,9.447619047619057,9.98095238095239,10.961904761904771,12.180952380952393,12.938095238095247,12.761904761904773,12.190476190476202,11.542857142857153,10.857142857142867,10.414285714285725,10.000000000000009,9.676190476190484,9.366666666666674,9.20952380952382,9.166666666666675,9.314285714285724,9.414285714285722,9.57142857142858,9.600000000000009,9.676190476190484,9.75238095238096,9.75238095238096,9.661904761904772,9.519047619047628,9.338095238095246,9.176190476190484,9.08095238095239,9.047619047619055,9.095238095238104,9.233333333333341,9.347619047619055,9.45238095238096,9.519047619047628,9.519047619047626,9.485714285714295,9.476190476190485,9.38095238095239,9.161904761904768,8.595238095238102]}},\"id\":\"ac78a56a-2419-47e5-9d8c-67180fca35d8\",\"type\":\"ColumnDataSource\"},{\"attributes\":{\"data_source\":{\"id\":\"f4f69261-97c3-4596-8354-746eb22c3920\",\"type\":\"ColumnDataSource\"},\"glyph\":{\"id\":\"ccc47370-dfe7-4186-9c5d-79d429f85dea\",\"type\":\"Line\"},\"hover_glyph\":null,\"nonselection_glyph\":{\"id\":\"ba1c6671-58e6-4d79-aa3a-0e4b564f7918\",\"type\":\"Line\"},\"selection_glyph\":null},\"id\":\"e9142de1-b341-4be6-8c61-79e730448862\",\"type\":\"GlyphRenderer\"},{\"attributes\":{\"plot\":{\"id\":\"96230e9c-bf20-4bbb-965a-a2f8d805481b\",\"subtype\":\"Figure\",\"type\":\"Plot\"}},\"id\":\"46e52c93-da6d-4952-b650-e98f297c04e3\",\"type\":\"HelpTool\"},{\"attributes\":{\"plot\":{\"id\":\"5f216b76-8a7d-4b62-a90b-68861018a092\",\"subtype\":\"Figure\",\"type\":\"Plot\"}},\"id\":\"fac8982e-0ea3-4bb0-9b8c-9510981354aa\",\"type\":\"HelpTool\"},{\"attributes\":{\"below\":[{\"id\":\"ebe15505-15c4-4aff-84ec-0896ef69293d\",\"type\":\"LinearAxis\"}],\"left\":[{\"id\":\"2fe49f75-013f-4b25-bf7a-33c3b82e2d00\",\"type\":\"LinearAxis\"}],\"plot_height\":250,\"renderers\":[{\"id\":\"ebe15505-15c4-4aff-84ec-0896ef69293d\",\"type\":\"LinearAxis\"},{\"id\":\"26f55d64-65ec-4758-b43c-8c76a85be4ce\",\"type\":\"Grid\"},{\"id\":\"2fe49f75-013f-4b25-bf7a-33c3b82e2d00\",\"type\":\"LinearAxis\"},{\"id\":\"251d9a0f-9830-488b-a18a-ce619009b4df\",\"type\":\"Grid\"},{\"id\":\"5bd9ac06-265b-4550-a60f-e0dc10bb4b18\",\"type\":\"BoxAnnotation\"},{\"id\":\"675761e8-fedc-4985-9840-5c9b27f53f27\",\"type\":\"GlyphRenderer\"},{\"id\":\"46e94983-83b1-44f1-a586-9eda3f05bf73\",\"type\":\"GlyphRenderer\"},{\"id\":\"ac87e4fe-8435-4dee-adb2-0fc4c787c7b7\",\"type\":\"GlyphRenderer\"}],\"tool_events\":{\"id\":\"6ec43767-3c98-4fba-b18b-7f38463c56fa\",\"type\":\"ToolEvents\"},\"toolbar_location\":\"right\",\"tools\":[{\"id\":\"205e8e98-a3f7-48b9-89ff-eacc8d79f1ff\",\"type\":\"PanTool\"},{\"id\":\"8c6a17a8-610c-4d8e-bb9d-1af03650ab23\",\"type\":\"WheelZoomTool\"},{\"id\":\"057f7537-3c4f-4bf9-915c-c2e25ea81960\",\"type\":\"BoxZoomTool\"},{\"id\":\"5d0c131f-23bb-4022-a9fe-39e53b941f39\",\"type\":\"PreviewSaveTool\"},{\"id\":\"df5a9b8f-e8ca-436f-8443-ff207099cc67\",\"type\":\"ResizeTool\"},{\"id\":\"d18f807f-830e-475e-8421-ccc685af5212\",\"type\":\"ResetTool\"},{\"id\":\"fac8982e-0ea3-4bb0-9b8c-9510981354aa\",\"type\":\"HelpTool\"}],\"x_range\":{\"id\":\"b2d86928-ca3e-42ba-94ff-4b93b69f632b\",\"type\":\"DataRange1d\"},\"y_range\":{\"id\":\"3c0921f3-09c1-4012-947a-3575448c5733\",\"type\":\"DataRange1d\"}},\"id\":\"5f216b76-8a7d-4b62-a90b-68861018a092\",\"subtype\":\"Figure\",\"type\":\"Plot\"},{\"attributes\":{\"plot\":{\"id\":\"cf8f533f-6637-4c08-a174-97a9123985e0\",\"subtype\":\"Figure\",\"type\":\"Plot\"}},\"id\":\"fce80296-bf7c-4531-bd15-ecdc78a421c7\",\"type\":\"WheelZoomTool\"},{\"attributes\":{\"callback\":null},\"id\":\"3c0921f3-09c1-4012-947a-3575448c5733\",\"type\":\"DataRange1d\"},{\"attributes\":{\"children\":[{\"id\":\"5f216b76-8a7d-4b62-a90b-68861018a092\",\"subtype\":\"Figure\",\"type\":\"Plot\"},{\"id\":\"96230e9c-bf20-4bbb-965a-a2f8d805481b\",\"subtype\":\"Figure\",\"type\":\"Plot\"},{\"id\":\"cf8f533f-6637-4c08-a174-97a9123985e0\",\"subtype\":\"Figure\",\"type\":\"Plot\"}]},\"id\":\"9ec7ca32-04dd-4949-9ff6-78da0bdcf69f\",\"type\":\"VBox\"},{\"attributes\":{\"callback\":null,\"column_names\":[\"y\",\"x\"],\"data\":{\"x\":[4787328.0,4787328.0],\"y\":[0,400]}},\"id\":\"f4f69261-97c3-4596-8354-746eb22c3920\",\"type\":\"ColumnDataSource\"},{\"attributes\":{\"plot\":{\"id\":\"cf8f533f-6637-4c08-a174-97a9123985e0\",\"subtype\":\"Figure\",\"type\":\"Plot\"}},\"id\":\"153a80d6-a3f7-4981-a4e6-eecd7b5313c4\",\"type\":\"ResizeTool\"},{\"attributes\":{\"below\":[{\"id\":\"b228c4c3-7491-494b-939a-d9db1526404d\",\"type\":\"LinearAxis\"}],\"left\":[{\"id\":\"a6cb50a8-6222-41c4-9389-b12410760484\",\"type\":\"LinearAxis\"}],\"plot_height\":250,\"renderers\":[{\"id\":\"b228c4c3-7491-494b-939a-d9db1526404d\",\"type\":\"LinearAxis\"},{\"id\":\"e62bf754-7d21-44b5-9f19-9fe5fcda44b7\",\"type\":\"Grid\"},{\"id\":\"a6cb50a8-6222-41c4-9389-b12410760484\",\"type\":\"LinearAxis\"},{\"id\":\"ad824a4e-4055-4eb6-b569-c5eea1d8bd40\",\"type\":\"Grid\"},{\"id\":\"0f24c5a1-07e4-4b90-98a3-72e144e5d715\",\"type\":\"BoxAnnotation\"},{\"id\":\"0b25d7ed-1c2f-45ef-9e87-78aa6e2db792\",\"type\":\"GlyphRenderer\"},{\"id\":\"41597693-c0ee-4c24-89c0-361fe8e72a6f\",\"type\":\"GlyphRenderer\"},{\"id\":\"f7fe1530-94b0-4af8-9d7e-54ea52f005e5\",\"type\":\"GlyphRenderer\"}],\"tool_events\":{\"id\":\"e25ff6c8-e11e-4bac-809b-2f30e9f034ec\",\"type\":\"ToolEvents\"},\"toolbar_location\":\"right\",\"tools\":[{\"id\":\"1bff1c18-f8e2-458e-8860-30be425e3709\",\"type\":\"PanTool\"},{\"id\":\"4a0599e5-ab69-4f76-8d84-c26a64c5fe6d\",\"type\":\"WheelZoomTool\"},{\"id\":\"c0d7d575-6358-4189-98b7-712dd7e1151b\",\"type\":\"BoxZoomTool\"},{\"id\":\"c770ecfa-de8f-464e-b3c1-061fe82897c8\",\"type\":\"PreviewSaveTool\"},{\"id\":\"eb829082-9ecf-4001-b07d-8411a1c701aa\",\"type\":\"ResizeTool\"},{\"id\":\"52892e8f-57fa-4f3d-81c4-e1bf6f95e724\",\"type\":\"ResetTool\"},{\"id\":\"46e52c93-da6d-4952-b650-e98f297c04e3\",\"type\":\"HelpTool\"}],\"x_range\":{\"id\":\"bd098ca4-4be4-4e99-a182-75fbbfa30c47\",\"type\":\"DataRange1d\"},\"y_range\":{\"id\":\"5631a0eb-e6bc-4faa-8dfa-00dd430a41b7\",\"type\":\"DataRange1d\"}},\"id\":\"96230e9c-bf20-4bbb-965a-a2f8d805481b\",\"subtype\":\"Figure\",\"type\":\"Plot\"},{\"attributes\":{\"callback\":null},\"id\":\"3acf207c-ed53-4ee5-9a5c-6320ac893d02\",\"type\":\"DataRange1d\"},{\"attributes\":{},\"id\":\"6ec43767-3c98-4fba-b18b-7f38463c56fa\",\"type\":\"ToolEvents\"},{\"attributes\":{\"overlay\":{\"id\":\"5bd9ac06-265b-4550-a60f-e0dc10bb4b18\",\"type\":\"BoxAnnotation\"},\"plot\":{\"id\":\"5f216b76-8a7d-4b62-a90b-68861018a092\",\"subtype\":\"Figure\",\"type\":\"Plot\"}},\"id\":\"057f7537-3c4f-4bf9-915c-c2e25ea81960\",\"type\":\"BoxZoomTool\"},{\"attributes\":{\"dimension\":1,\"plot\":{\"id\":\"96230e9c-bf20-4bbb-965a-a2f8d805481b\",\"subtype\":\"Figure\",\"type\":\"Plot\"},\"ticker\":{\"id\":\"aa195948-0c52-4b83-bd97-4cc1f508a460\",\"type\":\"BasicTicker\"}},\"id\":\"ad824a4e-4055-4eb6-b569-c5eea1d8bd40\",\"type\":\"Grid\"},{\"attributes\":{\"callback\":null},\"id\":\"b2d86928-ca3e-42ba-94ff-4b93b69f632b\",\"type\":\"DataRange1d\"},{\"attributes\":{\"plot\":{\"id\":\"5f216b76-8a7d-4b62-a90b-68861018a092\",\"subtype\":\"Figure\",\"type\":\"Plot\"}},\"id\":\"d18f807f-830e-475e-8421-ccc685af5212\",\"type\":\"ResetTool\"},{\"attributes\":{\"data_source\":{\"id\":\"e0ce0d52-4290-40cc-a16f-eeeb28351a57\",\"type\":\"ColumnDataSource\"},\"glyph\":{\"id\":\"74f6a118-4815-4c8f-bf93-f31b1d8b05e6\",\"type\":\"Line\"},\"hover_glyph\":null,\"name\":\"Flow\",\"nonselection_glyph\":{\"id\":\"22f4732a-a22e-4a0d-b3ab-88ca4cec2dca\",\"type\":\"Line\"},\"selection_glyph\":null},\"id\":\"675761e8-fedc-4985-9840-5c9b27f53f27\",\"type\":\"GlyphRenderer\"},{\"attributes\":{\"line_color\":{\"value\":\"green\"},\"x\":{\"field\":\"x\"},\"y\":{\"field\":\"y\"}},\"id\":\"1ac2575d-8c55-4c04-bfb7-b61cdbadbe8a\",\"type\":\"Line\"},{\"attributes\":{\"plot\":{\"id\":\"5f216b76-8a7d-4b62-a90b-68861018a092\",\"subtype\":\"Figure\",\"type\":\"Plot\"},\"ticker\":{\"id\":\"ca84db11-90d0-488a-96b7-a3fe74ed9117\",\"type\":\"BasicTicker\"}},\"id\":\"26f55d64-65ec-4758-b43c-8c76a85be4ce\",\"type\":\"Grid\"},{\"attributes\":{\"bottom_units\":\"screen\",\"fill_alpha\":{\"value\":0.5},\"fill_color\":{\"value\":\"lightgrey\"},\"left_units\":\"screen\",\"level\":\"overlay\",\"line_alpha\":{\"value\":1.0},\"line_color\":{\"value\":\"black\"},\"line_dash\":[4,4],\"line_width\":{\"value\":2},\"plot\":null,\"render_mode\":\"css\",\"right_units\":\"screen\",\"top_units\":\"screen\"},\"id\":\"5bd9ac06-265b-4550-a60f-e0dc10bb4b18\",\"type\":\"BoxAnnotation\"},{\"attributes\":{\"line_alpha\":{\"value\":0.1},\"line_color\":{\"value\":\"#1f77b4\"},\"x\":{\"field\":\"x\"},\"y\":{\"field\":\"y\"}},\"id\":\"22f4732a-a22e-4a0d-b3ab-88ca4cec2dca\",\"type\":\"Line\"},{\"attributes\":{\"plot\":{\"id\":\"cf8f533f-6637-4c08-a174-97a9123985e0\",\"subtype\":\"Figure\",\"type\":\"Plot\"}},\"id\":\"678dc109-2f20-4c8b-94d8-14e7f6c35fd1\",\"type\":\"HelpTool\"},{\"attributes\":{\"plot\":{\"id\":\"cf8f533f-6637-4c08-a174-97a9123985e0\",\"subtype\":\"Figure\",\"type\":\"Plot\"}},\"id\":\"ebf91d2b-af92-40ae-8e5a-871a3c0c9083\",\"type\":\"PanTool\"},{\"attributes\":{},\"id\":\"378f4a57-39f9-44b3-8519-f27c89040535\",\"type\":\"BasicTickFormatter\"},{\"attributes\":{\"plot\":{\"id\":\"96230e9c-bf20-4bbb-965a-a2f8d805481b\",\"subtype\":\"Figure\",\"type\":\"Plot\"}},\"id\":\"eb829082-9ecf-4001-b07d-8411a1c701aa\",\"type\":\"ResizeTool\"},{\"attributes\":{\"formatter\":{\"id\":\"01d17b1e-c98a-4c44-b748-f72ca0a072de\",\"type\":\"BasicTickFormatter\"},\"plot\":{\"id\":\"5f216b76-8a7d-4b62-a90b-68861018a092\",\"subtype\":\"Figure\",\"type\":\"Plot\"},\"ticker\":{\"id\":\"ca84db11-90d0-488a-96b7-a3fe74ed9117\",\"type\":\"BasicTicker\"}},\"id\":\"ebe15505-15c4-4aff-84ec-0896ef69293d\",\"type\":\"LinearAxis\"},{\"attributes\":{\"line_alpha\":{\"value\":0.1},\"line_color\":{\"value\":\"#1f77b4\"},\"x\":{\"field\":\"x\"},\"y\":{\"field\":\"y\"}},\"id\":\"3621acec-117b-442c-bc6e-1f1f93446d71\",\"type\":\"Line\"},{\"attributes\":{},\"id\":\"d526aa71-a922-484e-8a0e-c978c55f073d\",\"type\":\"BasicTickFormatter\"},{\"attributes\":{\"data_source\":{\"id\":\"ea011a77-0617-4c2f-be7d-299a39d4dc44\",\"type\":\"ColumnDataSource\"},\"glyph\":{\"id\":\"f5132b94-86e6-47eb-8133-dc52fa3a03aa\",\"type\":\"Line\"},\"hover_glyph\":null,\"nonselection_glyph\":{\"id\":\"320c0061-22ce-4534-8b7a-f220fc7488f4\",\"type\":\"Line\"},\"selection_glyph\":null},\"id\":\"f7fe1530-94b0-4af8-9d7e-54ea52f005e5\",\"type\":\"GlyphRenderer\"},{\"attributes\":{\"below\":[{\"id\":\"8da369ad-7e65-4738-8b6e-67d6cbc261ad\",\"type\":\"LinearAxis\"}],\"left\":[{\"id\":\"247f03bc-da27-4b3a-b810-7276a994e1ae\",\"type\":\"LinearAxis\"}],\"plot_height\":250,\"renderers\":[{\"id\":\"8da369ad-7e65-4738-8b6e-67d6cbc261ad\",\"type\":\"LinearAxis\"},{\"id\":\"c23c3813-8067-43dc-8409-8f70ccc09f7e\",\"type\":\"Grid\"},{\"id\":\"247f03bc-da27-4b3a-b810-7276a994e1ae\",\"type\":\"LinearAxis\"},{\"id\":\"6dd69dda-d79c-45c2-ad35-ea286880b877\",\"type\":\"Grid\"},{\"id\":\"c87d7679-b206-47bb-ad2d-a602a2f1b718\",\"type\":\"BoxAnnotation\"},{\"id\":\"619d536e-61e8-4cda-9693-c583e18a3cb0\",\"type\":\"GlyphRenderer\"},{\"id\":\"e9142de1-b341-4be6-8c61-79e730448862\",\"type\":\"GlyphRenderer\"},{\"id\":\"b9eafa4c-d493-4d2d-91d1-4b2c3ba6ad2e\",\"type\":\"GlyphRenderer\"}],\"tool_events\":{\"id\":\"0a35b877-ae86-4481-8029-045cea485423\",\"type\":\"ToolEvents\"},\"toolbar_location\":\"right\",\"tools\":[{\"id\":\"ebf91d2b-af92-40ae-8e5a-871a3c0c9083\",\"type\":\"PanTool\"},{\"id\":\"fce80296-bf7c-4531-bd15-ecdc78a421c7\",\"type\":\"WheelZoomTool\"},{\"id\":\"39fdd785-bca5-4fae-a1b5-6db16ff60757\",\"type\":\"BoxZoomTool\"},{\"id\":\"4a69ebe5-aeac-4ea0-a9a3-d5e82505e5b0\",\"type\":\"PreviewSaveTool\"},{\"id\":\"153a80d6-a3f7-4981-a4e6-eecd7b5313c4\",\"type\":\"ResizeTool\"},{\"id\":\"02efd8d2-1ea5-4159-b7d6-148449dcb3a0\",\"type\":\"ResetTool\"},{\"id\":\"678dc109-2f20-4c8b-94d8-14e7f6c35fd1\",\"type\":\"HelpTool\"}],\"x_range\":{\"id\":\"3acf207c-ed53-4ee5-9a5c-6320ac893d02\",\"type\":\"DataRange1d\"},\"y_range\":{\"id\":\"ecaac0e5-eb26-4244-ba4a-b68359f5ca23\",\"type\":\"DataRange1d\"}},\"id\":\"cf8f533f-6637-4c08-a174-97a9123985e0\",\"subtype\":\"Figure\",\"type\":\"Plot\"},{\"attributes\":{\"bottom_units\":\"screen\",\"fill_alpha\":{\"value\":0.5},\"fill_color\":{\"value\":\"lightgrey\"},\"left_units\":\"screen\",\"level\":\"overlay\",\"line_alpha\":{\"value\":1.0},\"line_color\":{\"value\":\"black\"},\"line_dash\":[4,4],\"line_width\":{\"value\":2},\"plot\":null,\"render_mode\":\"css\",\"right_units\":\"screen\",\"top_units\":\"screen\"},\"id\":\"0f24c5a1-07e4-4b90-98a3-72e144e5d715\",\"type\":\"BoxAnnotation\"},{\"attributes\":{\"data_source\":{\"id\":\"2eec2633-a8b6-413f-88e1-f333201973dd\",\"type\":\"ColumnDataSource\"},\"glyph\":{\"id\":\"f57bbb7d-301f-4cfb-b60e-a2a2ec036b4a\",\"type\":\"Line\"},\"hover_glyph\":null,\"nonselection_glyph\":{\"id\":\"ed449ede-a080-44dc-b4c6-cb54dc21da03\",\"type\":\"Line\"},\"selection_glyph\":null},\"id\":\"41597693-c0ee-4c24-89c0-361fe8e72a6f\",\"type\":\"GlyphRenderer\"},{\"attributes\":{\"plot\":{\"id\":\"5f216b76-8a7d-4b62-a90b-68861018a092\",\"subtype\":\"Figure\",\"type\":\"Plot\"}},\"id\":\"df5a9b8f-e8ca-436f-8443-ff207099cc67\",\"type\":\"ResizeTool\"},{\"attributes\":{\"callback\":null,\"column_names\":[\"y\",\"x\"],\"data\":{\"x\":[4791616.0,4791616.0],\"y\":[-40,40]}},\"id\":\"6d4e258b-c946-4c8d-9d12-e20fec3c75e7\",\"type\":\"ColumnDataSource\"},{\"attributes\":{\"plot\":{\"id\":\"5f216b76-8a7d-4b62-a90b-68861018a092\",\"subtype\":\"Figure\",\"type\":\"Plot\"}},\"id\":\"8c6a17a8-610c-4d8e-bb9d-1af03650ab23\",\"type\":\"WheelZoomTool\"},{\"attributes\":{\"data_source\":{\"id\":\"ac78a56a-2419-47e5-9d8c-67180fca35d8\",\"type\":\"ColumnDataSource\"},\"glyph\":{\"id\":\"f9f0cb4d-10bb-4c08-98eb-7217664b9978\",\"type\":\"Line\"},\"hover_glyph\":null,\"name\":\"Paw\",\"nonselection_glyph\":{\"id\":\"5bf55691-063a-43a9-b34a-c9b08c6983c6\",\"type\":\"Line\"},\"selection_glyph\":null},\"id\":\"0b25d7ed-1c2f-45ef-9e87-78aa6e2db792\",\"type\":\"GlyphRenderer\"},{\"attributes\":{\"plot\":{\"id\":\"96230e9c-bf20-4bbb-965a-a2f8d805481b\",\"subtype\":\"Figure\",\"type\":\"Plot\"},\"ticker\":{\"id\":\"21252438-2528-4b16-9759-4578fbead3b8\",\"type\":\"BasicTicker\"}},\"id\":\"e62bf754-7d21-44b5-9f19-9fe5fcda44b7\",\"type\":\"Grid\"},{\"attributes\":{\"overlay\":{\"id\":\"0f24c5a1-07e4-4b90-98a3-72e144e5d715\",\"type\":\"BoxAnnotation\"},\"plot\":{\"id\":\"96230e9c-bf20-4bbb-965a-a2f8d805481b\",\"subtype\":\"Figure\",\"type\":\"Plot\"}},\"id\":\"c0d7d575-6358-4189-98b7-712dd7e1151b\",\"type\":\"BoxZoomTool\"},{\"attributes\":{\"line_color\":{\"value\":\"green\"},\"x\":{\"field\":\"x\"},\"y\":{\"field\":\"y\"}},\"id\":\"f5132b94-86e6-47eb-8133-dc52fa3a03aa\",\"type\":\"Line\"},{\"attributes\":{\"axis_label\":\"Volume\",\"formatter\":{\"id\":\"378f4a57-39f9-44b3-8519-f27c89040535\",\"type\":\"BasicTickFormatter\"},\"plot\":{\"id\":\"cf8f533f-6637-4c08-a174-97a9123985e0\",\"subtype\":\"Figure\",\"type\":\"Plot\"},\"ticker\":{\"id\":\"8fa02d3a-b8f2-403d-bb3c-f7a295a797b6\",\"type\":\"BasicTicker\"}},\"id\":\"247f03bc-da27-4b3a-b810-7276a994e1ae\",\"type\":\"LinearAxis\"},{\"attributes\":{\"data_source\":{\"id\":\"061bb2ea-58ab-408f-94dd-a8b37f565b15\",\"type\":\"ColumnDataSource\"},\"glyph\":{\"id\":\"857622f6-6630-49da-aa7d-c4d043dfafc5\",\"type\":\"Line\"},\"hover_glyph\":null,\"name\":\"Volume\",\"nonselection_glyph\":{\"id\":\"c02203ca-1d98-4dfd-aefc-50476d103f8d\",\"type\":\"Line\"},\"selection_glyph\":null},\"id\":\"619d536e-61e8-4cda-9693-c583e18a3cb0\",\"type\":\"GlyphRenderer\"},{\"attributes\":{\"line_color\":{\"value\":\"firebrick\"},\"x\":{\"field\":\"x\"},\"y\":{\"field\":\"y\"}},\"id\":\"74f6a118-4815-4c8f-bf93-f31b1d8b05e6\",\"type\":\"Line\"},{\"attributes\":{\"callback\":null,\"column_names\":[\"y\",\"x\"],\"data\":{\"x\":[4787328.0,4787360.0,4787392.0,4787424.0,4787456.0,4787488.0,4787520.0,4787552.0,4787584.0,4787616.0,4787648.0,4787680.0,4787712.0,4787744.0,4787776.0,4787808.0,4787840.0,4787872.0,4787904.0,4787936.0,4787968.0,4788000.0,4788032.0,4788064.0,4788096.0,4788128.0,4788160.0,4788192.0,4788224.0,4788256.0,4788288.0,4788320.0,4788352.0,4788384.0,4788416.0,4788448.0,4788480.0,4788512.0,4788544.0,4788576.0,4788608.0,4788640.0,4788672.0,4788704.0,4788736.0,4788768.0,4788800.0,4788832.0,4788864.0,4788896.0,4788928.0,4788960.0,4788992.0,4789024.0,4789056.0,4789088.0,4789120.0,4789152.0,4789184.0,4789216.0,4789248.0,4789280.0,4789312.0,4789344.0,4789376.0,4789408.0,4789440.0,4789472.0,4789504.0,4789536.0,4789568.0,4789600.0,4789632.0,4789664.0,4789696.0,4789728.0,4789760.0,4789792.0,4789824.0,4789856.0,4789888.0,4789920.0,4789952.0,4789984.0,4790016.0,4790048.0,4790080.0,4790112.0,4790144.0,4790176.0,4790208.0,4790240.0,4790272.0,4790304.0,4790336.0,4790368.0,4790400.0,4790432.0,4790464.0,4790496.0,4790528.0,4790560.0,4790592.0,4790624.0,4790656.0,4790688.0,4790720.0,4790752.0,4790784.0,4790816.0,4790848.0,4790880.0,4790912.0,4790944.0,4790976.0,4791008.0,4791040.0,4791072.0,4791104.0,4791136.0,4791168.0,4791200.0,4791232.0,4791264.0,4791296.0,4791328.0,4791360.0,4791392.0,4791424.0,4791456.0,4791488.0,4791520.0,4791552.0,4791584.0,4791616.0],\"y\":[3.521428571428576,9.564285714285724,16.528571428571446,23.957142857142877,31.85000000000003,40.21428571428575,46.4571428571429,52.92142857142862,58.114285714285764,62.02857142857148,65.12142857142862,67.53571428571433,68.82142857142863,70.18571428571434,71.97857142857148,73.25714285714291,73.7928571428572,74.7928571428572,74.93571428571437,75.07142857142864,74.82857142857148,74.6785714285715,74.37142857142864,74.61428571428578,74.45714285714291,74.50714285714292,73.54285714285722,72.5785714285715,71.0428571428572,68.30000000000005,64.55714285714292,60.02857142857148,52.83571428571433,44.7214285714286,34.385714285714315,26.657142857142876,12.614285714285725,-3.7857142857142883,-19.492857142857158,-30.942857142857168,-36.77857142857146,-34.11428571428574,-34.30000000000003,-34.84285714285718,-35.714285714285744,-36.43571428571431,-36.3714285714286,-36.35000000000003,-36.22857142857147,-35.61428571428575,-35.35714285714289,-35.02857142857147,-34.76428571428575,-34.44285714285718,-34.064285714285745,-33.74285714285717,-33.064285714285745,-33.00714285714289,-33.32857142857145,-33.35000000000003,-33.18571428571431,-33.15714285714289,-32.564285714285745,-32.4214285714286,-31.650000000000027,-31.09285714285717,-30.507142857142888,-30.200000000000028,-30.0214285714286,-30.18571428571431,-29.93571428571431,-30.228571428571456,-30.900000000000027,-31.392857142857174,-32.35714285714288,-33.16428571428574,-33.6714285714286,-33.83571428571432,-33.650000000000034,-32.7714285714286,-31.92857142857146,-30.942857142857168,-28.907142857142883,-26.807142857142882,-24.55714285714288,-22.35714285714288,-20.42857142857145,-19.514285714285734,-18.028571428571446,-17.157142857142873,-16.664285714285732,-16.650000000000013,-15.65714285714287,-15.421428571428585,-13.107142857142868,-10.978571428571438,-9.921428571428581,-9.892857142857153,-9.892857142857151,-10.964285714285722,-10.457142857142866,-10.27857142857144,-10.657142857142867,-10.85000000000001,-10.671428571428581,-10.814285714285724,-9.84285714285715,-9.94285714285715,-9.464285714285722,-8.77142857142858,-8.14285714285715,-7.978571428571436,-7.271428571428578,-7.685714285714292,-7.721428571428579,-7.785714285714293,-7.885714285714292,-7.8928571428571495,-7.4571428571428635,-6.971428571428578,-6.907142857142864,-6.735714285714293,-6.671428571428578,-6.621428571428577,-6.542857142857148,-6.142857142857148,-6.157142857142863,-6.21428571428572,-6.107142857142863,-5.985714285714291,-5.978571428571435,-5.678571428571433,-5.928571428571433,-5.035714285714289,-2.128571428571429]}},\"id\":\"e0ce0d52-4290-40cc-a16f-eeeb28351a57\",\"type\":\"ColumnDataSource\"},{\"attributes\":{},\"id\":\"41d88987-a4f0-4546-9538-21e340213cc5\",\"type\":\"BasicTicker\"},{\"attributes\":{},\"id\":\"0a35b877-ae86-4481-8029-045cea485423\",\"type\":\"ToolEvents\"},{\"attributes\":{},\"id\":\"ae9158aa-ff64-4035-87fa-1c32deb84293\",\"type\":\"BasicTicker\"},{\"attributes\":{\"dimension\":1,\"plot\":{\"id\":\"5f216b76-8a7d-4b62-a90b-68861018a092\",\"subtype\":\"Figure\",\"type\":\"Plot\"},\"ticker\":{\"id\":\"41d88987-a4f0-4546-9538-21e340213cc5\",\"type\":\"BasicTicker\"}},\"id\":\"251d9a0f-9830-488b-a18a-ce619009b4df\",\"type\":\"Grid\"},{\"attributes\":{\"bottom_units\":\"screen\",\"fill_alpha\":{\"value\":0.5},\"fill_color\":{\"value\":\"lightgrey\"},\"left_units\":\"screen\",\"level\":\"overlay\",\"line_alpha\":{\"value\":1.0},\"line_color\":{\"value\":\"black\"},\"line_dash\":[4,4],\"line_width\":{\"value\":2},\"plot\":null,\"render_mode\":\"css\",\"right_units\":\"screen\",\"top_units\":\"screen\"},\"id\":\"c87d7679-b206-47bb-ad2d-a602a2f1b718\",\"type\":\"BoxAnnotation\"},{\"attributes\":{\"plot\":{\"id\":\"96230e9c-bf20-4bbb-965a-a2f8d805481b\",\"subtype\":\"Figure\",\"type\":\"Plot\"}},\"id\":\"4a0599e5-ab69-4f76-8d84-c26a64c5fe6d\",\"type\":\"WheelZoomTool\"},{\"attributes\":{\"plot\":{\"id\":\"cf8f533f-6637-4c08-a174-97a9123985e0\",\"subtype\":\"Figure\",\"type\":\"Plot\"},\"ticker\":{\"id\":\"ae9158aa-ff64-4035-87fa-1c32deb84293\",\"type\":\"BasicTicker\"}},\"id\":\"c23c3813-8067-43dc-8409-8f70ccc09f7e\",\"type\":\"Grid\"},{\"attributes\":{\"overlay\":{\"id\":\"c87d7679-b206-47bb-ad2d-a602a2f1b718\",\"type\":\"BoxAnnotation\"},\"plot\":{\"id\":\"cf8f533f-6637-4c08-a174-97a9123985e0\",\"subtype\":\"Figure\",\"type\":\"Plot\"}},\"id\":\"39fdd785-bca5-4fae-a1b5-6db16ff60757\",\"type\":\"BoxZoomTool\"},{\"attributes\":{\"callback\":null,\"column_names\":[\"y\",\"x\"],\"data\":{\"x\":[4787328.0,4787328.0],\"y\":[-40,40]}},\"id\":\"ccecd1bd-b087-4439-a76d-842b73e85226\",\"type\":\"ColumnDataSource\"}],\"root_ids\":[\"9ec7ca32-04dd-4949-9ff6-78da0bdcf69f\"]},\"title\":\"Bokeh Application\",\"version\":\"0.11.1\"}};\n",
       "            var render_items = [{\"docid\":\"1aeb937e-427e-41dc-a53e-d2c2b910c4e8\",\"elementid\":\"7379ed92-085d-419c-9553-df8ac6f02187\",\"modelid\":\"9ec7ca32-04dd-4949-9ff6-78da0bdcf69f\",\"notebook_comms_target\":\"5d19c6af-1319-4f35-9118-f02c4a00db38\"}];\n",
       "            \n",
       "            Bokeh.embed.embed_items(docs_json, render_items);\n",
       "        });\n",
       "      },\n",
       "      function(Bokeh) {\n",
       "      }\n",
       "    ];\n",
       "  \n",
       "    function run_inline_js() {\n",
       "      for (var i = 0; i < inline_js.length; i++) {\n",
       "        inline_js[i](window.Bokeh);\n",
       "      }\n",
       "    }\n",
       "  \n",
       "    if (window._bokeh_is_loading === 0) {\n",
       "      console.log(\"Bokeh: BokehJS loaded, going straight to plotting\");\n",
       "      run_inline_js();\n",
       "    } else {\n",
       "      load_libs(js_urls, function() {\n",
       "        console.log(\"Bokeh: BokehJS plotting callback run at\", now());\n",
       "        run_inline_js();\n",
       "      });\n",
       "    }\n",
       "  }(this));\n",
       "</script>"
      ]
     },
     "metadata": {},
     "output_type": "display_data"
    }
   ],
   "source": [
    "breaths = 1\n",
    "results = viz.get_breaths(75)\n",
    "w = widgets.SelectMultiple(description='Types', options=['Normal', 'DoubleStacked', 'PostDoubleStacked', \n",
    "                                                         'PressureFlowLimited', 'FlowAbnormal', \n",
    "                                                         'PrematureVentTermination', 'IneffectiveTrigger', 'Garbage'])\n",
    "w.height = 150\n",
    "button = widgets.Button(description='Next')\n",
    "container = widgets.HBox(children=[w, button])\n",
    "\n",
    "button.on_click(on_button_click)\n",
    "display(container)"
   ]
  },
  {
   "cell_type": "markdown",
   "metadata": {
    "collapsed": false
   },
   "source": [
    "# Use PDS breaths to ID DS Breaths"
   ]
  },
  {
   "cell_type": "code",
   "execution_count": null,
   "metadata": {
    "collapsed": false
   },
   "outputs": [],
   "source": [
    "pds = list(train_db.find({'validation':{'$exists':1}, 'validation.pds':1}, {'file':1, 'breath_num':1}))\n",
    "for breath in pds:\n",
    "    data = breath_db.find_one({'file': breath['file'], 'breath_num':breath['breath_num']-1})\n",
    "    data['validation'] = {'norm':0,\n",
    "                                'ds': 1,\n",
    "                                'pds': 0,\n",
    "                                'pfl': 0,\n",
    "                                'fa': 0,\n",
    "                                'pvt':0,\n",
    "                                'ie': 0,\n",
    "                                'garb': 0}\n",
    "\n",
    "    try:\n",
    "        train_db.insert_one(data)\n",
    "    except:\n",
    "        train_db.update_one({'file': breath['file'], 'breath_num':breath['breath_num']-1}, {'$set':data})"
   ]
  },
  {
   "cell_type": "code",
   "execution_count": null,
   "metadata": {
    "collapsed": true
   },
   "outputs": [],
   "source": [
    "ids = list(train_db.find({'validation':{'$exists':1}}, {'_id':1, 'validation':1}).limit(20))"
   ]
  },
  {
   "cell_type": "code",
   "execution_count": null,
   "metadata": {
    "collapsed": false,
    "scrolled": false
   },
   "outputs": [],
   "source": [
    "for _id in ids:\n",
    "    print(_id['validation'])\n",
    "    df, breath_start, breath_end = viz.breath_viz(_id['_id'])\n",
    "    p=viz.make_plot(df, breath_start, breath_end)\n",
    "    show(p)"
   ]
  },
  {
   "cell_type": "code",
   "execution_count": null,
   "metadata": {
    "collapsed": true
   },
   "outputs": [],
   "source": []
  },
  {
   "cell_type": "code",
   "execution_count": null,
   "metadata": {
    "collapsed": true
   },
   "outputs": [],
   "source": []
  },
  {
   "cell_type": "code",
   "execution_count": null,
   "metadata": {
    "collapsed": true
   },
   "outputs": [],
   "source": []
  },
  {
   "cell_type": "code",
   "execution_count": null,
   "metadata": {
    "collapsed": true
   },
   "outputs": [],
   "source": []
  },
  {
   "cell_type": "code",
   "execution_count": null,
   "metadata": {
    "collapsed": true
   },
   "outputs": [],
   "source": []
  },
  {
   "cell_type": "code",
   "execution_count": null,
   "metadata": {
    "collapsed": true
   },
   "outputs": [],
   "source": []
  },
  {
   "cell_type": "code",
   "execution_count": null,
   "metadata": {
    "collapsed": true
   },
   "outputs": [],
   "source": []
  },
  {
   "cell_type": "code",
   "execution_count": null,
   "metadata": {
    "collapsed": true
   },
   "outputs": [],
   "source": []
  },
  {
   "cell_type": "code",
   "execution_count": null,
   "metadata": {
    "collapsed": true
   },
   "outputs": [],
   "source": []
  },
  {
   "cell_type": "code",
   "execution_count": null,
   "metadata": {
    "collapsed": true
   },
   "outputs": [],
   "source": []
  },
  {
   "cell_type": "code",
   "execution_count": null,
   "metadata": {
    "collapsed": true
   },
   "outputs": [],
   "source": []
  },
  {
   "cell_type": "code",
   "execution_count": null,
   "metadata": {
    "collapsed": true
   },
   "outputs": [],
   "source": []
  },
  {
   "cell_type": "code",
   "execution_count": null,
   "metadata": {
    "collapsed": true
   },
   "outputs": [],
   "source": []
  },
  {
   "cell_type": "code",
   "execution_count": null,
   "metadata": {
    "collapsed": true
   },
   "outputs": [],
   "source": []
  },
  {
   "cell_type": "code",
   "execution_count": null,
   "metadata": {
    "collapsed": true
   },
   "outputs": [],
   "source": []
  },
  {
   "cell_type": "code",
   "execution_count": null,
   "metadata": {
    "collapsed": true
   },
   "outputs": [],
   "source": []
  },
  {
   "cell_type": "code",
   "execution_count": null,
   "metadata": {
    "collapsed": true
   },
   "outputs": [],
   "source": []
  },
  {
   "cell_type": "code",
   "execution_count": null,
   "metadata": {
    "collapsed": true
   },
   "outputs": [],
   "source": []
  },
  {
   "cell_type": "code",
   "execution_count": null,
   "metadata": {
    "collapsed": true
   },
   "outputs": [],
   "source": []
  }
 ],
 "metadata": {
  "kernelspec": {
   "display_name": "Python 3",
   "language": "python",
   "name": "python3"
  },
  "language_info": {
   "codemirror_mode": {
    "name": "ipython",
    "version": 3
   },
   "file_extension": ".py",
   "mimetype": "text/x-python",
   "name": "python",
   "nbconvert_exporter": "python",
   "pygments_lexer": "ipython3",
   "version": "3.5.1"
  }
 },
 "nbformat": 4,
 "nbformat_minor": 0
}
