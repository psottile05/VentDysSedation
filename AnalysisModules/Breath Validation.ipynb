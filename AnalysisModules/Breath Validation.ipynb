{
 "cells": [
  {
   "cell_type": "code",
   "execution_count": 1,
   "metadata": {
    "collapsed": false
   },
   "outputs": [
    {
     "data": {
      "text/html": [
       "\n",
       "    <div class=\"bk-banner\">\n",
       "        <a href=\"http://bokeh.pydata.org\" target=\"_blank\" class=\"bk-logo bk-logo-small bk-logo-notebook\"></a>\n",
       "        <span id=\"fb0f353a-3f2e-426c-8778-e3205c19ab48\">Loading BokehJS ...</span>\n",
       "    </div>"
      ]
     },
     "metadata": {},
     "output_type": "display_data"
    },
    {
     "data": {
      "application/javascript": [
       "\n",
       "(function(global) {\n",
       "  function now() {\n",
       "    return new Date();\n",
       "  }\n",
       "\n",
       "  if (typeof (window._bokeh_onload_callbacks) === \"undefined\") {\n",
       "    window._bokeh_onload_callbacks = [];\n",
       "  }\n",
       "\n",
       "  function run_callbacks() {\n",
       "    window._bokeh_onload_callbacks.forEach(function(callback) { callback() });\n",
       "    delete window._bokeh_onload_callbacks\n",
       "    console.info(\"Bokeh: all callbacks have finished\");\n",
       "  }\n",
       "\n",
       "  function load_libs(js_urls, callback) {\n",
       "    window._bokeh_onload_callbacks.push(callback);\n",
       "    if (window._bokeh_is_loading > 0) {\n",
       "      console.log(\"Bokeh: BokehJS is being loaded, scheduling callback at\", now());\n",
       "      return null;\n",
       "    }\n",
       "    if (js_urls == null || js_urls.length === 0) {\n",
       "      run_callbacks();\n",
       "      return null;\n",
       "    }\n",
       "    console.log(\"Bokeh: BokehJS not loaded, scheduling load and callback at\", now());\n",
       "    window._bokeh_is_loading = js_urls.length;\n",
       "    for (var i = 0; i < js_urls.length; i++) {\n",
       "      var url = js_urls[i];\n",
       "      var s = document.createElement('script');\n",
       "      s.src = url;\n",
       "      s.async = false;\n",
       "      s.onreadystatechange = s.onload = function() {\n",
       "        window._bokeh_is_loading--;\n",
       "        if (window._bokeh_is_loading === 0) {\n",
       "          console.log(\"Bokeh: all BokehJS libraries loaded\");\n",
       "          run_callbacks()\n",
       "        }\n",
       "      };\n",
       "      s.onerror = function() {\n",
       "        console.warn(\"failed to load library \" + url);\n",
       "      };\n",
       "      console.log(\"Bokeh: injecting script tag for BokehJS library: \", url);\n",
       "      document.getElementsByTagName(\"head\")[0].appendChild(s);\n",
       "    }\n",
       "  };\n",
       "\n",
       "  var js_urls = ['https://cdn.pydata.org/bokeh/release/bokeh-0.11.1.min.js', 'https://cdn.pydata.org/bokeh/release/bokeh-widgets-0.11.1.min.js', 'https://cdn.pydata.org/bokeh/release/bokeh-compiler-0.11.1.min.js'];\n",
       "\n",
       "  var inline_js = [\n",
       "    function(Bokeh) {\n",
       "      Bokeh.set_log_level(\"info\");\n",
       "    },\n",
       "    \n",
       "    function(Bokeh) {\n",
       "      Bokeh.$(\"#fb0f353a-3f2e-426c-8778-e3205c19ab48\").text(\"BokehJS successfully loaded\");\n",
       "    },\n",
       "    function(Bokeh) {\n",
       "      console.log(\"Bokeh: injecting CSS: https://cdn.pydata.org/bokeh/release/bokeh-0.11.1.min.css\");\n",
       "      Bokeh.embed.inject_css(\"https://cdn.pydata.org/bokeh/release/bokeh-0.11.1.min.css\");\n",
       "      console.log(\"Bokeh: injecting CSS: https://cdn.pydata.org/bokeh/release/bokeh-widgets-0.11.1.min.css\");\n",
       "      Bokeh.embed.inject_css(\"https://cdn.pydata.org/bokeh/release/bokeh-widgets-0.11.1.min.css\");\n",
       "    }\n",
       "  ];\n",
       "\n",
       "  function run_inline_js() {\n",
       "    for (var i = 0; i < inline_js.length; i++) {\n",
       "      inline_js[i](window.Bokeh);\n",
       "    }\n",
       "  }\n",
       "\n",
       "  if (window._bokeh_is_loading === 0) {\n",
       "    console.log(\"Bokeh: BokehJS loaded, going straight to plotting\");\n",
       "    run_inline_js();\n",
       "  } else {\n",
       "    load_libs(js_urls, function() {\n",
       "      console.log(\"Bokeh: BokehJS plotting callback run at\", now());\n",
       "      run_inline_js();\n",
       "    });\n",
       "  }\n",
       "}(this));"
      ]
     },
     "metadata": {},
     "output_type": "display_data"
    }
   ],
   "source": [
    "import Visualization as viz\n",
    "from ipywidgets import widgets\n",
    "from IPython.display import display, clear_output\n",
    "from bokeh.plotting import figure, show, output_notebook\n",
    "\n",
    "output_notebook()"
   ]
  },
  {
   "cell_type": "code",
   "execution_count": 2,
   "metadata": {
    "collapsed": false
   },
   "outputs": [
    {
     "data": {
      "text/plain": [
       "10000"
      ]
     },
     "execution_count": 2,
     "metadata": {},
     "output_type": "execute_result"
    }
   ],
   "source": [
    "from pymongo import MongoClient\n",
    "\n",
    "client = MongoClient()\n",
    "db = client.VentDB\n",
    "breath_db = db.breath_collection\n",
    "train_db = db.train_collection\n",
    "\n",
    "train_db.find().count()"
   ]
  },
  {
   "cell_type": "code",
   "execution_count": 3,
   "metadata": {
    "collapsed": false
   },
   "outputs": [
    {
     "data": {
      "text/plain": [
       "1964338"
      ]
     },
     "execution_count": 3,
     "metadata": {},
     "output_type": "execute_result"
    }
   ],
   "source": [
    "breath_db.find().count()"
   ]
  },
  {
   "cell_type": "code",
   "execution_count": 4,
   "metadata": {
    "collapsed": true
   },
   "outputs": [],
   "source": [
    "def on_button_click(b):\n",
    "    global breaths\n",
    "\n",
    "    clear_output()\n",
    "    if results.alive:\n",
    "        if breaths != 1:\n",
    "            viz.update_database(breaths['_id'], w.selected_labels)\n",
    "\n",
    "        breaths = results.next()\n",
    "        df, breath_start, breath_end = viz.breath_viz(breaths['_id'])\n",
    "        p=viz.make_plot(df, breath_start, breath_end)\n",
    "        show(p)\n",
    "    else:\n",
    "        if breaths != 1:\n",
    "            viz.update_database(breaths['_id'], w.selected_labels)\n",
    "        clear_output()\n",
    "        print('No more')"
   ]
  },
  {
   "cell_type": "code",
   "execution_count": 5,
   "metadata": {
    "collapsed": false
   },
   "outputs": [
    {
     "data": {
      "text/plain": [
       "942"
      ]
     },
     "execution_count": 5,
     "metadata": {},
     "output_type": "execute_result"
    }
   ],
   "source": [
    "train_db.find({'validation':{'$exists':0}, 'breath_character.exp_time': {'$lte': 1000}}).count()"
   ]
  },
  {
   "cell_type": "code",
   "execution_count": 6,
   "metadata": {
    "collapsed": false
   },
   "outputs": [],
   "source": [
    "import pandas as pd\n",
    "val_df = pd.io.json.json_normalize(list(train_db.find({'validation':{'$exists':1}}, {'validation':1})))"
   ]
  },
  {
   "cell_type": "code",
   "execution_count": 7,
   "metadata": {
    "collapsed": false
   },
   "outputs": [],
   "source": [
    "val_df.replace({0:False, 1:True}, inplace=True)\n",
    "val_df = val_df[['validation.ds', 'validation.fa', 'validation.garb',\n",
    "       'validation.ie', 'validation.norm', 'validation.pds', 'validation.pfl',\n",
    "       'validation.pvt']].astype(bool)"
   ]
  },
  {
   "cell_type": "code",
   "execution_count": 8,
   "metadata": {
    "collapsed": false
   },
   "outputs": [
    {
     "data": {
      "text/plain": [
       "False    1568\n",
       "True       25\n",
       "Name: validation.ds, dtype: int64"
      ]
     },
     "execution_count": 8,
     "metadata": {},
     "output_type": "execute_result"
    }
   ],
   "source": [
    "val_df['validation.ds'].value_counts()"
   ]
  },
  {
   "cell_type": "code",
   "execution_count": 9,
   "metadata": {
    "collapsed": false
   },
   "outputs": [
    {
     "data": {
      "text/plain": [
       "False    1574\n",
       "True       19\n",
       "Name: validation.pds, dtype: int64"
      ]
     },
     "execution_count": 9,
     "metadata": {},
     "output_type": "execute_result"
    }
   ],
   "source": [
    "val_df['validation.pds'].value_counts()"
   ]
  },
  {
   "cell_type": "code",
   "execution_count": 10,
   "metadata": {
    "collapsed": false
   },
   "outputs": [
    {
     "data": {
      "text/plain": [
       "False    1179\n",
       "True      414\n",
       "Name: validation.pfl, dtype: int64"
      ]
     },
     "execution_count": 10,
     "metadata": {},
     "output_type": "execute_result"
    }
   ],
   "source": [
    "val_df['validation.pfl'].value_counts()"
   ]
  },
  {
   "cell_type": "code",
   "execution_count": 11,
   "metadata": {
    "collapsed": false
   },
   "outputs": [
    {
     "data": {
      "text/plain": [
       "False    1496\n",
       "True       97\n",
       "Name: validation.pvt, dtype: int64"
      ]
     },
     "execution_count": 11,
     "metadata": {},
     "output_type": "execute_result"
    }
   ],
   "source": [
    "val_df['validation.pvt'].value_counts()"
   ]
  },
  {
   "cell_type": "code",
   "execution_count": 12,
   "metadata": {
    "collapsed": false
   },
   "outputs": [
    {
     "data": {
      "text/plain": [
       "False    1272\n",
       "True      321\n",
       "Name: validation.ie, dtype: int64"
      ]
     },
     "execution_count": 12,
     "metadata": {},
     "output_type": "execute_result"
    }
   ],
   "source": [
    "val_df['validation.ie'].value_counts()"
   ]
  },
  {
   "cell_type": "code",
   "execution_count": 13,
   "metadata": {
    "collapsed": false
   },
   "outputs": [
    {
     "data": {
      "text/plain": [
       "True     831\n",
       "False    762\n",
       "Name: validation.norm, dtype: int64"
      ]
     },
     "execution_count": 13,
     "metadata": {},
     "output_type": "execute_result"
    }
   ],
   "source": [
    "val_df['validation.norm'].value_counts()"
   ]
  },
  {
   "cell_type": "code",
   "execution_count": 14,
   "metadata": {
    "collapsed": false
   },
   "outputs": [
    {
     "name": "stdout",
     "output_type": "stream",
     "text": [
      "pre missing\n",
      "post missing\n"
     ]
    },
    {
     "data": {
      "text/html": [
       "\n",
       "\n",
       "    <div class=\"plotdiv\" id=\"4f6a25a9-8eaa-4239-82ab-0b0f36e100e2\"></div>\n",
       "<script type=\"text/javascript\">\n",
       "  \n",
       "  (function(global) {\n",
       "    function now() {\n",
       "      return new Date();\n",
       "    }\n",
       "  \n",
       "    if (typeof (window._bokeh_onload_callbacks) === \"undefined\") {\n",
       "      window._bokeh_onload_callbacks = [];\n",
       "    }\n",
       "  \n",
       "    function run_callbacks() {\n",
       "      window._bokeh_onload_callbacks.forEach(function(callback) { callback() });\n",
       "      delete window._bokeh_onload_callbacks\n",
       "      console.info(\"Bokeh: all callbacks have finished\");\n",
       "    }\n",
       "  \n",
       "    function load_libs(js_urls, callback) {\n",
       "      window._bokeh_onload_callbacks.push(callback);\n",
       "      if (window._bokeh_is_loading > 0) {\n",
       "        console.log(\"Bokeh: BokehJS is being loaded, scheduling callback at\", now());\n",
       "        return null;\n",
       "      }\n",
       "      if (js_urls == null || js_urls.length === 0) {\n",
       "        run_callbacks();\n",
       "        return null;\n",
       "      }\n",
       "      console.log(\"Bokeh: BokehJS not loaded, scheduling load and callback at\", now());\n",
       "      window._bokeh_is_loading = js_urls.length;\n",
       "      for (var i = 0; i < js_urls.length; i++) {\n",
       "        var url = js_urls[i];\n",
       "        var s = document.createElement('script');\n",
       "        s.src = url;\n",
       "        s.async = false;\n",
       "        s.onreadystatechange = s.onload = function() {\n",
       "          window._bokeh_is_loading--;\n",
       "          if (window._bokeh_is_loading === 0) {\n",
       "            console.log(\"Bokeh: all BokehJS libraries loaded\");\n",
       "            run_callbacks()\n",
       "          }\n",
       "        };\n",
       "        s.onerror = function() {\n",
       "          console.warn(\"failed to load library \" + url);\n",
       "        };\n",
       "        console.log(\"Bokeh: injecting script tag for BokehJS library: \", url);\n",
       "        document.getElementsByTagName(\"head\")[0].appendChild(s);\n",
       "      }\n",
       "    };var element = document.getElementById(\"4f6a25a9-8eaa-4239-82ab-0b0f36e100e2\");\n",
       "    if (element == null) {\n",
       "      console.log(\"Bokeh: ERROR: autoload.js configured with elementid '4f6a25a9-8eaa-4239-82ab-0b0f36e100e2' but no matching script tag was found. \")\n",
       "      return false;\n",
       "    }\n",
       "  \n",
       "    var js_urls = [];\n",
       "  \n",
       "    var inline_js = [\n",
       "      function(Bokeh) {\n",
       "        Bokeh.$(function() {\n",
       "            var docs_json = {\"44de98b2-9511-464a-a00b-e8b964ffe453\":{\"roots\":{\"references\":[{\"attributes\":{\"plot\":{\"id\":\"52a5c9fe-b417-426c-b95c-0320e323bddc\",\"subtype\":\"Figure\",\"type\":\"Plot\"}},\"id\":\"7d4fecc4-24b5-4866-914e-60d12bfbbcda\",\"type\":\"PanTool\"},{\"attributes\":{\"plot\":{\"id\":\"f023d115-0c1f-49c1-87e6-31c745879178\",\"subtype\":\"Figure\",\"type\":\"Plot\"}},\"id\":\"c04aa37c-e580-43e8-8ab0-551fb70a3821\",\"type\":\"HelpTool\"},{\"attributes\":{\"axis_label\":\"Volume\",\"formatter\":{\"id\":\"aa2bddbd-694b-4e31-820c-e49afbf4cd1a\",\"type\":\"BasicTickFormatter\"},\"plot\":{\"id\":\"52a5c9fe-b417-426c-b95c-0320e323bddc\",\"subtype\":\"Figure\",\"type\":\"Plot\"},\"ticker\":{\"id\":\"c372c679-edcd-4000-b921-f65b3d16e0a0\",\"type\":\"BasicTicker\"}},\"id\":\"c549f355-4e18-4efa-a31d-b3a179eab229\",\"type\":\"LinearAxis\"},{\"attributes\":{\"data_source\":{\"id\":\"0f52ba7c-e822-442b-9c26-42d521d28a0b\",\"type\":\"ColumnDataSource\"},\"glyph\":{\"id\":\"79409bc6-0ca8-44ee-8e9f-d1e4ea0f599f\",\"type\":\"Line\"},\"hover_glyph\":null,\"name\":\"Flow\",\"nonselection_glyph\":{\"id\":\"2ec67fb5-c95c-433a-9616-383150daf495\",\"type\":\"Line\"},\"selection_glyph\":null},\"id\":\"4cdb8d37-920c-4031-b178-22bf8b9648b8\",\"type\":\"GlyphRenderer\"},{\"attributes\":{\"data_source\":{\"id\":\"2b52aa7c-6093-4653-a766-22a9efafec31\",\"type\":\"ColumnDataSource\"},\"glyph\":{\"id\":\"bdcf842b-5c90-4f02-b0b4-7709bcd48bb1\",\"type\":\"Line\"},\"hover_glyph\":null,\"nonselection_glyph\":{\"id\":\"bbe6931e-c741-4120-9cfd-4434c7c409e1\",\"type\":\"Line\"},\"selection_glyph\":null},\"id\":\"bf19668d-8b85-4e1d-82f4-3650eaf82e6b\",\"type\":\"GlyphRenderer\"},{\"attributes\":{\"callback\":null},\"id\":\"b1fb76ed-2de8-44ba-abaf-c49ecbb9f155\",\"type\":\"DataRange1d\"},{\"attributes\":{\"plot\":{\"id\":\"763a035d-22d2-4ed2-873f-2cac18fa3bf0\",\"subtype\":\"Figure\",\"type\":\"Plot\"},\"ticker\":{\"id\":\"87c6a35d-164b-43c6-a434-25eae1fc4d96\",\"type\":\"BasicTicker\"}},\"id\":\"121583a8-eed0-430c-9862-69c195586db6\",\"type\":\"Grid\"},{\"attributes\":{\"line_color\":{\"value\":\"firebrick\"},\"x\":{\"field\":\"x\"},\"y\":{\"field\":\"y\"}},\"id\":\"79409bc6-0ca8-44ee-8e9f-d1e4ea0f599f\",\"type\":\"Line\"},{\"attributes\":{},\"id\":\"db130855-f7e1-4d2a-a6ff-8d8b1d20a7ec\",\"type\":\"BasicTicker\"},{\"attributes\":{\"below\":[{\"id\":\"8461e138-a496-4ad4-9cdc-63b44157915f\",\"type\":\"LinearAxis\"}],\"left\":[{\"id\":\"c549f355-4e18-4efa-a31d-b3a179eab229\",\"type\":\"LinearAxis\"}],\"plot_height\":250,\"renderers\":[{\"id\":\"8461e138-a496-4ad4-9cdc-63b44157915f\",\"type\":\"LinearAxis\"},{\"id\":\"fee0e61e-e3da-43ca-98cf-c8b9ba71af84\",\"type\":\"Grid\"},{\"id\":\"c549f355-4e18-4efa-a31d-b3a179eab229\",\"type\":\"LinearAxis\"},{\"id\":\"382748fe-43b4-439f-980b-7a569f8df271\",\"type\":\"Grid\"},{\"id\":\"4b145122-d44c-4a18-9f0c-03f82185b25f\",\"type\":\"BoxAnnotation\"},{\"id\":\"2c92d159-4f97-4c76-aa30-692adaf4caea\",\"type\":\"GlyphRenderer\"},{\"id\":\"89c8ea8f-70e7-4325-ae4a-9d20690b7c36\",\"type\":\"GlyphRenderer\"},{\"id\":\"74a92aaa-cf72-40a6-b32c-6d0e153be195\",\"type\":\"GlyphRenderer\"}],\"tool_events\":{\"id\":\"83a7c856-6d8a-440e-8591-11432de1ab4b\",\"type\":\"ToolEvents\"},\"toolbar_location\":\"right\",\"tools\":[{\"id\":\"7d4fecc4-24b5-4866-914e-60d12bfbbcda\",\"type\":\"PanTool\"},{\"id\":\"9c06d084-5117-4eed-ad1d-e631a060973a\",\"type\":\"WheelZoomTool\"},{\"id\":\"f5c23d6c-21c4-49fe-82f7-dbbc69a9273e\",\"type\":\"BoxZoomTool\"},{\"id\":\"02543aba-5a6d-432c-bc3d-b14343f130e2\",\"type\":\"PreviewSaveTool\"},{\"id\":\"56a09c73-424c-49df-8a0a-ffc2483c03d1\",\"type\":\"ResizeTool\"},{\"id\":\"7950cc04-7a70-4ee4-b916-b1775d7d48af\",\"type\":\"ResetTool\"},{\"id\":\"6e5578e4-3ba3-43b1-ba67-df810e903565\",\"type\":\"HelpTool\"}],\"x_range\":{\"id\":\"474bcf2b-e375-4532-8c07-a48545110ecf\",\"type\":\"DataRange1d\"},\"y_range\":{\"id\":\"7456d204-fe6d-4673-a78b-069a241c0d7f\",\"type\":\"DataRange1d\"}},\"id\":\"52a5c9fe-b417-426c-b95c-0320e323bddc\",\"subtype\":\"Figure\",\"type\":\"Plot\"},{\"attributes\":{},\"id\":\"c372c679-edcd-4000-b921-f65b3d16e0a0\",\"type\":\"BasicTicker\"},{\"attributes\":{},\"id\":\"d44bfca9-001f-45af-820b-2e5db0f6646e\",\"type\":\"BasicTicker\"},{\"attributes\":{\"line_color\":{\"value\":\"green\"},\"x\":{\"field\":\"x\"},\"y\":{\"field\":\"y\"}},\"id\":\"89bf4f9c-0e3a-48de-9ea5-5debd5b214c3\",\"type\":\"Line\"},{\"attributes\":{\"plot\":{\"id\":\"52a5c9fe-b417-426c-b95c-0320e323bddc\",\"subtype\":\"Figure\",\"type\":\"Plot\"}},\"id\":\"6e5578e4-3ba3-43b1-ba67-df810e903565\",\"type\":\"HelpTool\"},{\"attributes\":{\"children\":[{\"id\":\"763a035d-22d2-4ed2-873f-2cac18fa3bf0\",\"subtype\":\"Figure\",\"type\":\"Plot\"},{\"id\":\"f023d115-0c1f-49c1-87e6-31c745879178\",\"subtype\":\"Figure\",\"type\":\"Plot\"},{\"id\":\"52a5c9fe-b417-426c-b95c-0320e323bddc\",\"subtype\":\"Figure\",\"type\":\"Plot\"}]},\"id\":\"8c5fcf21-d949-497d-8444-89df33f0173e\",\"type\":\"VBox\"},{\"attributes\":{\"data_source\":{\"id\":\"dc796c41-67eb-4233-b685-60741131175f\",\"type\":\"ColumnDataSource\"},\"glyph\":{\"id\":\"13bb41cd-38df-4b26-80b0-58ef8ae681b4\",\"type\":\"Line\"},\"hover_glyph\":null,\"name\":\"Volume\",\"nonselection_glyph\":{\"id\":\"afa8ac49-4ab6-45e3-a87b-2f0581c7d06c\",\"type\":\"Line\"},\"selection_glyph\":null},\"id\":\"2c92d159-4f97-4c76-aa30-692adaf4caea\",\"type\":\"GlyphRenderer\"},{\"attributes\":{\"line_alpha\":{\"value\":0.1},\"line_color\":{\"value\":\"#1f77b4\"},\"x\":{\"field\":\"x\"},\"y\":{\"field\":\"y\"}},\"id\":\"b27c3e78-5a9e-4359-b05b-5178f184e32c\",\"type\":\"Line\"},{\"attributes\":{\"plot\":{\"id\":\"763a035d-22d2-4ed2-873f-2cac18fa3bf0\",\"subtype\":\"Figure\",\"type\":\"Plot\"}},\"id\":\"8d8738a3-881f-4500-a1a7-a92f162b211c\",\"type\":\"ResetTool\"},{\"attributes\":{\"data_source\":{\"id\":\"bcc231fc-bcd9-44b4-83e7-b6c282cb6951\",\"type\":\"ColumnDataSource\"},\"glyph\":{\"id\":\"89bf4f9c-0e3a-48de-9ea5-5debd5b214c3\",\"type\":\"Line\"},\"hover_glyph\":null,\"nonselection_glyph\":{\"id\":\"b27c3e78-5a9e-4359-b05b-5178f184e32c\",\"type\":\"Line\"},\"selection_glyph\":null},\"id\":\"f5ae17bc-2280-4724-9c1c-606a935e6808\",\"type\":\"GlyphRenderer\"},{\"attributes\":{\"plot\":{\"id\":\"52a5c9fe-b417-426c-b95c-0320e323bddc\",\"subtype\":\"Figure\",\"type\":\"Plot\"}},\"id\":\"02543aba-5a6d-432c-bc3d-b14343f130e2\",\"type\":\"PreviewSaveTool\"},{\"attributes\":{\"plot\":{\"id\":\"52a5c9fe-b417-426c-b95c-0320e323bddc\",\"subtype\":\"Figure\",\"type\":\"Plot\"}},\"id\":\"9c06d084-5117-4eed-ad1d-e631a060973a\",\"type\":\"WheelZoomTool\"},{\"attributes\":{\"formatter\":{\"id\":\"dfa00389-7628-4a8f-8a21-c1b78bb412dd\",\"type\":\"BasicTickFormatter\"},\"plot\":{\"id\":\"52a5c9fe-b417-426c-b95c-0320e323bddc\",\"subtype\":\"Figure\",\"type\":\"Plot\"},\"ticker\":{\"id\":\"80f913df-c58f-433b-905e-49a0ee6ffc83\",\"type\":\"BasicTicker\"}},\"id\":\"8461e138-a496-4ad4-9cdc-63b44157915f\",\"type\":\"LinearAxis\"},{\"attributes\":{\"data_source\":{\"id\":\"ff62184e-2020-4c8f-a6d2-720836375799\",\"type\":\"ColumnDataSource\"},\"glyph\":{\"id\":\"90ccb4e9-2cdc-4af8-9e0a-f614b9bcbd26\",\"type\":\"Line\"},\"hover_glyph\":null,\"nonselection_glyph\":{\"id\":\"8da6bb7f-db96-4fa3-8e0d-5de579c22640\",\"type\":\"Line\"},\"selection_glyph\":null},\"id\":\"5a546a09-c48e-4fc7-8b75-e368e6fe68fe\",\"type\":\"GlyphRenderer\"},{\"attributes\":{\"line_alpha\":{\"value\":0.1},\"line_color\":{\"value\":\"#1f77b4\"},\"x\":{\"field\":\"x\"},\"y\":{\"field\":\"y\"}},\"id\":\"3f66f082-a22c-404e-9716-925d123bf25f\",\"type\":\"Line\"},{\"attributes\":{\"line_color\":{\"value\":\"green\"},\"x\":{\"field\":\"x\"},\"y\":{\"field\":\"y\"}},\"id\":\"90ccb4e9-2cdc-4af8-9e0a-f614b9bcbd26\",\"type\":\"Line\"},{\"attributes\":{\"callback\":null},\"id\":\"05bc5002-79e0-42ac-81fc-f9d35950a99e\",\"type\":\"DataRange1d\"},{\"attributes\":{\"below\":[{\"id\":\"e3c10e9b-163a-476f-ad77-1669730c5432\",\"type\":\"LinearAxis\"}],\"left\":[{\"id\":\"33c864b5-2f01-4034-8806-7ea1377ab668\",\"type\":\"LinearAxis\"}],\"plot_height\":250,\"renderers\":[{\"id\":\"e3c10e9b-163a-476f-ad77-1669730c5432\",\"type\":\"LinearAxis\"},{\"id\":\"121583a8-eed0-430c-9862-69c195586db6\",\"type\":\"Grid\"},{\"id\":\"33c864b5-2f01-4034-8806-7ea1377ab668\",\"type\":\"LinearAxis\"},{\"id\":\"3ce50810-d26a-43dc-8018-e510a999e519\",\"type\":\"Grid\"},{\"id\":\"2bfb174a-6c99-41b6-ba18-dc2034b64fd1\",\"type\":\"BoxAnnotation\"},{\"id\":\"4cdb8d37-920c-4031-b178-22bf8b9648b8\",\"type\":\"GlyphRenderer\"},{\"id\":\"f5ae17bc-2280-4724-9c1c-606a935e6808\",\"type\":\"GlyphRenderer\"},{\"id\":\"bf19668d-8b85-4e1d-82f4-3650eaf82e6b\",\"type\":\"GlyphRenderer\"}],\"tool_events\":{\"id\":\"5219cd8b-5de3-43d6-be0a-72b6a90673f4\",\"type\":\"ToolEvents\"},\"toolbar_location\":\"right\",\"tools\":[{\"id\":\"bc43aad9-0bf4-495e-b763-1ef82ac3fdff\",\"type\":\"PanTool\"},{\"id\":\"a3684f45-4500-4e9b-bdc8-b3c7668bfa6e\",\"type\":\"WheelZoomTool\"},{\"id\":\"ae69991f-a0b7-4c9e-aaca-b3007d086636\",\"type\":\"BoxZoomTool\"},{\"id\":\"a201f485-85f7-4495-a676-1b29e75ad7e6\",\"type\":\"PreviewSaveTool\"},{\"id\":\"79ca8c61-3a4d-4b5a-996d-e8134f193093\",\"type\":\"ResizeTool\"},{\"id\":\"8d8738a3-881f-4500-a1a7-a92f162b211c\",\"type\":\"ResetTool\"},{\"id\":\"3bd24856-a3d5-4b2a-9ac9-8cebad4142f6\",\"type\":\"HelpTool\"}],\"x_range\":{\"id\":\"5251f46b-2c1f-4c58-b553-f9cc83a2e5df\",\"type\":\"DataRange1d\"},\"y_range\":{\"id\":\"05bc5002-79e0-42ac-81fc-f9d35950a99e\",\"type\":\"DataRange1d\"}},\"id\":\"763a035d-22d2-4ed2-873f-2cac18fa3bf0\",\"subtype\":\"Figure\",\"type\":\"Plot\"},{\"attributes\":{\"plot\":{\"id\":\"763a035d-22d2-4ed2-873f-2cac18fa3bf0\",\"subtype\":\"Figure\",\"type\":\"Plot\"}},\"id\":\"79ca8c61-3a4d-4b5a-996d-e8134f193093\",\"type\":\"ResizeTool\"},{\"attributes\":{\"line_alpha\":{\"value\":0.1},\"line_color\":{\"value\":\"#1f77b4\"},\"x\":{\"field\":\"x\"},\"y\":{\"field\":\"y\"}},\"id\":\"afa8ac49-4ab6-45e3-a87b-2f0581c7d06c\",\"type\":\"Line\"},{\"attributes\":{\"callback\":null,\"column_names\":[\"y\",\"x\"],\"data\":{\"x\":[21152.0,21152.0],\"y\":[0,40]}},\"id\":\"ff62184e-2020-4c8f-a6d2-720836375799\",\"type\":\"ColumnDataSource\"},{\"attributes\":{\"line_color\":{\"value\":\"green\"},\"x\":{\"field\":\"x\"},\"y\":{\"field\":\"y\"}},\"id\":\"08656f7f-9cac-448c-92f9-1b3e58431685\",\"type\":\"Line\"},{\"attributes\":{\"dimension\":1,\"plot\":{\"id\":\"763a035d-22d2-4ed2-873f-2cac18fa3bf0\",\"subtype\":\"Figure\",\"type\":\"Plot\"},\"ticker\":{\"id\":\"d26f0cbc-4b56-41ff-be08-320102386985\",\"type\":\"BasicTicker\"}},\"id\":\"3ce50810-d26a-43dc-8018-e510a999e519\",\"type\":\"Grid\"},{\"attributes\":{},\"id\":\"83a7c856-6d8a-440e-8591-11432de1ab4b\",\"type\":\"ToolEvents\"},{\"attributes\":{},\"id\":\"a289008a-e37f-4961-92af-235cf1284b9f\",\"type\":\"BasicTickFormatter\"},{\"attributes\":{\"plot\":{\"id\":\"f023d115-0c1f-49c1-87e6-31c745879178\",\"subtype\":\"Figure\",\"type\":\"Plot\"},\"ticker\":{\"id\":\"db130855-f7e1-4d2a-a6ff-8d8b1d20a7ec\",\"type\":\"BasicTicker\"}},\"id\":\"b629a0b1-bb0a-4bad-ba9c-93e580f1dc27\",\"type\":\"Grid\"},{\"attributes\":{\"dimension\":1,\"plot\":{\"id\":\"52a5c9fe-b417-426c-b95c-0320e323bddc\",\"subtype\":\"Figure\",\"type\":\"Plot\"},\"ticker\":{\"id\":\"c372c679-edcd-4000-b921-f65b3d16e0a0\",\"type\":\"BasicTicker\"}},\"id\":\"382748fe-43b4-439f-980b-7a569f8df271\",\"type\":\"Grid\"},{\"attributes\":{\"line_color\":{\"value\":\"green\"},\"x\":{\"field\":\"x\"},\"y\":{\"field\":\"y\"}},\"id\":\"bdcf842b-5c90-4f02-b0b4-7709bcd48bb1\",\"type\":\"Line\"},{\"attributes\":{\"plot\":{\"id\":\"763a035d-22d2-4ed2-873f-2cac18fa3bf0\",\"subtype\":\"Figure\",\"type\":\"Plot\"}},\"id\":\"bc43aad9-0bf4-495e-b763-1ef82ac3fdff\",\"type\":\"PanTool\"},{\"attributes\":{\"plot\":{\"id\":\"f023d115-0c1f-49c1-87e6-31c745879178\",\"subtype\":\"Figure\",\"type\":\"Plot\"}},\"id\":\"f764722d-03cd-432b-b19c-865ae7c5d81f\",\"type\":\"WheelZoomTool\"},{\"attributes\":{\"axis_label\":\"Flow\",\"formatter\":{\"id\":\"c55b5658-c897-417a-9055-3c95cf267691\",\"type\":\"BasicTickFormatter\"},\"plot\":{\"id\":\"763a035d-22d2-4ed2-873f-2cac18fa3bf0\",\"subtype\":\"Figure\",\"type\":\"Plot\"},\"ticker\":{\"id\":\"d26f0cbc-4b56-41ff-be08-320102386985\",\"type\":\"BasicTicker\"}},\"id\":\"33c864b5-2f01-4034-8806-7ea1377ab668\",\"type\":\"LinearAxis\"},{\"attributes\":{\"plot\":{\"id\":\"763a035d-22d2-4ed2-873f-2cac18fa3bf0\",\"subtype\":\"Figure\",\"type\":\"Plot\"}},\"id\":\"a201f485-85f7-4495-a676-1b29e75ad7e6\",\"type\":\"PreviewSaveTool\"},{\"attributes\":{\"line_alpha\":{\"value\":0.1},\"line_color\":{\"value\":\"#1f77b4\"},\"x\":{\"field\":\"x\"},\"y\":{\"field\":\"y\"}},\"id\":\"5d63cccd-aa30-4aaa-8af5-b280a9262f17\",\"type\":\"Line\"},{\"attributes\":{\"callback\":null},\"id\":\"24be7ccb-2498-4c18-b879-7ee6b0c0574a\",\"type\":\"DataRange1d\"},{\"attributes\":{\"line_color\":{\"value\":\"green\"},\"x\":{\"field\":\"x\"},\"y\":{\"field\":\"y\"}},\"id\":\"8ce2c129-8c71-42d1-bcc3-4aa3bd43e805\",\"type\":\"Line\"},{\"attributes\":{\"formatter\":{\"id\":\"720a4670-90d0-4314-89cf-5d0a7ff30338\",\"type\":\"BasicTickFormatter\"},\"plot\":{\"id\":\"f023d115-0c1f-49c1-87e6-31c745879178\",\"subtype\":\"Figure\",\"type\":\"Plot\"},\"ticker\":{\"id\":\"db130855-f7e1-4d2a-a6ff-8d8b1d20a7ec\",\"type\":\"BasicTicker\"}},\"id\":\"9dc5a8ca-b806-4f67-ae06-325cf4a71a46\",\"type\":\"LinearAxis\"},{\"attributes\":{\"data_source\":{\"id\":\"e1e4da96-f1d6-46d3-aac9-857df6500440\",\"type\":\"ColumnDataSource\"},\"glyph\":{\"id\":\"8ce2c129-8c71-42d1-bcc3-4aa3bd43e805\",\"type\":\"Line\"},\"hover_glyph\":null,\"nonselection_glyph\":{\"id\":\"9ec38825-5a20-4da9-9e36-243a3044edba\",\"type\":\"Line\"},\"selection_glyph\":null},\"id\":\"89c8ea8f-70e7-4325-ae4a-9d20690b7c36\",\"type\":\"GlyphRenderer\"},{\"attributes\":{\"axis_label\":\"Paw\",\"formatter\":{\"id\":\"a289008a-e37f-4961-92af-235cf1284b9f\",\"type\":\"BasicTickFormatter\"},\"plot\":{\"id\":\"f023d115-0c1f-49c1-87e6-31c745879178\",\"subtype\":\"Figure\",\"type\":\"Plot\"},\"ticker\":{\"id\":\"d44bfca9-001f-45af-820b-2e5db0f6646e\",\"type\":\"BasicTicker\"}},\"id\":\"36f3696b-41ae-4fd3-b40b-52e38ffd8f74\",\"type\":\"LinearAxis\"},{\"attributes\":{\"callback\":null,\"column_names\":[\"y\",\"x\"],\"data\":{\"x\":[21152.0,21184.0,21216.0,21248.0,21280.0,21312.0,21344.0,21376.0,21408.0,21440.0,21472.0,21504.0,21536.0,21568.0,21600.0,21632.0,21664.0,21696.0,21728.0,21760.0,21792.0,21824.0,21856.0,21888.0,21920.0,21952.0,21984.0,22016.0,22048.0,22080.0,22112.0,22144.0,22176.0,22208.0,22240.0,22272.0,22304.0,22336.0,22368.0,22400.0,22432.0,22464.0,22496.0,22528.0,22560.0,22592.0,22624.0,22656.0,22688.0,22720.0,22752.0,22784.0,22816.0,22848.0,22880.0,22912.0,22944.0,22976.0,23008.0,23040.0,23072.0,23104.0,23136.0,23168.0,23200.0,23232.0,23264.0,23296.0,23328.0,23360.0,23392.0,23424.0,23456.0,23488.0,23520.0,23552.0,23584.0,23616.0,23648.0,23680.0,23712.0,23744.0,23776.0,23808.0,23840.0,23872.0,23904.0,23936.0,23968.0],\"y\":[-2.2428571428571438,3.9357142857142904,12.928571428571441,22.271428571428594,30.1214285714286,36.08571428571432,40.11428571428575,42.30714285714289,43.1071428571429,42.39285714285718,41.46428571428575,40.79285714285719,39.30714285714289,38.51428571428575,37.43571428571431,35.90000000000003,34.20000000000003,32.46428571428574,30.73571428571431,29.200000000000024,28.08571428571431,27.09285714285717,25.97857142857145,24.742857142857165,23.457142857142877,22.278571428571446,21.264285714285734,20.500000000000018,19.328571428571443,18.05714285714287,16.814285714285727,15.37857142857144,14.071428571428585,12.721428571428582,11.607142857142868,10.600000000000009,9.985714285714295,9.250000000000007,8.67142857142858,7.957142857142863,7.485714285714293,6.878571428571435,7.178571428571434,8.578571428571433,2.335714285714285,-11.878571428571439,-28.542857142857166,-42.30000000000003,-49.48571428571433,-48.671428571428606,-48.085714285714324,-48.22857142857147,-47.185714285714326,-44.80000000000004,-42.70000000000004,-40.55000000000004,-38.642857142857174,-36.742857142857176,-34.885714285714315,-33.40714285714289,-32.07857142857146,-30.81428571428574,-29.6214285714286,-28.442857142857168,-27.107142857142883,-26.00000000000002,-24.621428571428595,-23.05714285714288,-21.450000000000017,-20.171428571428592,-18.907142857142876,-18.057142857142875,-17.4857142857143,-16.56428571428573,-15.871428571428584,-14.964285714285728,-13.650000000000011,-11.964285714285726,-10.407142857142865,-8.914285714285723,-7.94285714285715,-7.464285714285721,-7.328571428571435,-7.16428571428572,-6.992857142857149,-6.607142857142863,-6.207142857142863,-6.028571428571434,-6.928571428571434]}},\"id\":\"0f52ba7c-e822-442b-9c26-42d521d28a0b\",\"type\":\"ColumnDataSource\"},{\"attributes\":{\"below\":[{\"id\":\"9dc5a8ca-b806-4f67-ae06-325cf4a71a46\",\"type\":\"LinearAxis\"}],\"left\":[{\"id\":\"36f3696b-41ae-4fd3-b40b-52e38ffd8f74\",\"type\":\"LinearAxis\"}],\"plot_height\":250,\"renderers\":[{\"id\":\"9dc5a8ca-b806-4f67-ae06-325cf4a71a46\",\"type\":\"LinearAxis\"},{\"id\":\"b629a0b1-bb0a-4bad-ba9c-93e580f1dc27\",\"type\":\"Grid\"},{\"id\":\"36f3696b-41ae-4fd3-b40b-52e38ffd8f74\",\"type\":\"LinearAxis\"},{\"id\":\"a2a6782d-709f-4dfa-a5c1-189202030df5\",\"type\":\"Grid\"},{\"id\":\"5c95e1d6-9287-4fc6-9b8b-7d386b6417f1\",\"type\":\"BoxAnnotation\"},{\"id\":\"37c97710-6140-40c5-81a8-842382ada005\",\"type\":\"GlyphRenderer\"},{\"id\":\"5a546a09-c48e-4fc7-8b75-e368e6fe68fe\",\"type\":\"GlyphRenderer\"},{\"id\":\"00ab3918-91b0-4e42-9543-e109f13057dd\",\"type\":\"GlyphRenderer\"}],\"tool_events\":{\"id\":\"b50e7ca0-0ef2-47be-80ea-0dfb75a04acd\",\"type\":\"ToolEvents\"},\"toolbar_location\":\"right\",\"tools\":[{\"id\":\"164f71fc-9d0d-4463-9470-3e6be270e132\",\"type\":\"PanTool\"},{\"id\":\"f764722d-03cd-432b-b19c-865ae7c5d81f\",\"type\":\"WheelZoomTool\"},{\"id\":\"312e2f27-3772-4b67-8b11-03a9932a54f8\",\"type\":\"BoxZoomTool\"},{\"id\":\"982b0405-dec1-4cb1-9c3b-08a64595d948\",\"type\":\"PreviewSaveTool\"},{\"id\":\"56eee530-080b-4e35-b3e2-72c7c622d2cc\",\"type\":\"ResizeTool\"},{\"id\":\"1da25140-ebf7-4e30-8fe0-07fea29fa279\",\"type\":\"ResetTool\"},{\"id\":\"c04aa37c-e580-43e8-8ab0-551fb70a3821\",\"type\":\"HelpTool\"}],\"x_range\":{\"id\":\"24be7ccb-2498-4c18-b879-7ee6b0c0574a\",\"type\":\"DataRange1d\"},\"y_range\":{\"id\":\"b1fb76ed-2de8-44ba-abaf-c49ecbb9f155\",\"type\":\"DataRange1d\"}},\"id\":\"f023d115-0c1f-49c1-87e6-31c745879178\",\"subtype\":\"Figure\",\"type\":\"Plot\"},{\"attributes\":{\"callback\":null,\"column_names\":[\"y\",\"x\"],\"data\":{\"x\":[21152.0,21184.0,21216.0,21248.0,21280.0,21312.0,21344.0,21376.0,21408.0,21440.0,21472.0,21504.0,21536.0,21568.0,21600.0,21632.0,21664.0,21696.0,21728.0,21760.0,21792.0,21824.0,21856.0,21888.0,21920.0,21952.0,21984.0,22016.0,22048.0,22080.0,22112.0,22144.0,22176.0,22208.0,22240.0,22272.0,22304.0,22336.0,22368.0,22400.0,22432.0,22464.0,22496.0,22528.0,22560.0,22592.0,22624.0,22656.0,22688.0,22720.0,22752.0,22784.0,22816.0,22848.0,22880.0,22912.0,22944.0,22976.0,23008.0,23040.0,23072.0,23104.0,23136.0,23168.0,23200.0,23232.0,23264.0,23296.0,23328.0,23360.0,23392.0,23424.0,23456.0,23488.0,23520.0,23552.0,23584.0,23616.0,23648.0,23680.0,23712.0,23744.0,23776.0,23808.0,23840.0,23872.0,23904.0,23936.0,23968.0],\"y\":[13.914285714285727,14.5857142857143,15.776190476190491,17.428571428571445,19.271428571428586,21.114285714285735,22.857142857142875,24.023809523809547,24.80476190476193,25.257142857142878,25.585714285714307,25.98571428571431,26.323809523809548,26.609523809523836,26.79523809523812,26.86190476190479,26.928571428571452,27.05714285714288,27.20952380952383,27.409523809523833,27.552380952380975,27.642857142857167,27.7809523809524,27.93809523809526,28.071428571428598,28.15714285714288,28.114285714285742,28.200000000000024,28.352380952380976,28.519047619047644,28.719047619047647,28.84285714285717,28.81428571428574,28.890476190476214,28.919047619047646,28.94285714285717,28.923809523809553,28.928571428571455,28.904761904761934,28.919047619047646,28.976190476190503,29.06666666666669,29.08571428571431,29.676190476190502,29.471428571428596,26.890476190476214,23.514285714285737,20.26190476190478,17.67142857142859,16.92857142857144,16.742857142857154,15.809523809523824,15.333333333333346,15.1857142857143,15.000000000000014,14.909523809523824,14.790476190476205,14.747619047619061,14.719047619047632,14.728571428571442,14.695238095238107,14.67619047619049,14.547619047619062,14.442857142857157,14.357142857142872,14.30476190476192,14.238095238095251,14.247619047619061,14.242857142857156,14.200000000000012,14.223809523809535,14.223809523809537,14.142857142857155,14.07619047619049,14.023809523809538,13.995238095238108,14.066666666666679,14.176190476190488,14.228571428571442,14.300000000000015,14.328571428571443,14.352380952380965,14.195238095238109,13.980952380952392,13.790476190476202,13.723809523809535,13.700000000000014,13.77619047619049,13.614285714285726]}},\"id\":\"cbf92b3a-2a46-489b-a8d6-176b4c7cdb82\",\"type\":\"ColumnDataSource\"},{\"attributes\":{},\"id\":\"aa2bddbd-694b-4e31-820c-e49afbf4cd1a\",\"type\":\"BasicTickFormatter\"},{\"attributes\":{\"line_alpha\":{\"value\":0.1},\"line_color\":{\"value\":\"#1f77b4\"},\"x\":{\"field\":\"x\"},\"y\":{\"field\":\"y\"}},\"id\":\"bbe6931e-c741-4120-9cfd-4434c7c409e1\",\"type\":\"Line\"},{\"attributes\":{\"callback\":null,\"column_names\":[\"y\",\"x\"],\"data\":{\"x\":[23968.0,23968.0],\"y\":[-40,40]}},\"id\":\"2b52aa7c-6093-4653-a766-22a9efafec31\",\"type\":\"ColumnDataSource\"},{\"attributes\":{\"plot\":{\"id\":\"f023d115-0c1f-49c1-87e6-31c745879178\",\"subtype\":\"Figure\",\"type\":\"Plot\"}},\"id\":\"56eee530-080b-4e35-b3e2-72c7c622d2cc\",\"type\":\"ResizeTool\"},{\"attributes\":{\"plot\":{\"id\":\"f023d115-0c1f-49c1-87e6-31c745879178\",\"subtype\":\"Figure\",\"type\":\"Plot\"}},\"id\":\"164f71fc-9d0d-4463-9470-3e6be270e132\",\"type\":\"PanTool\"},{\"attributes\":{},\"id\":\"481935f7-59f0-494e-9c67-75c54f700e62\",\"type\":\"BasicTickFormatter\"},{\"attributes\":{\"data_source\":{\"id\":\"90491864-2e9a-4b4b-9689-4996afebdafe\",\"type\":\"ColumnDataSource\"},\"glyph\":{\"id\":\"08656f7f-9cac-448c-92f9-1b3e58431685\",\"type\":\"Line\"},\"hover_glyph\":null,\"nonselection_glyph\":{\"id\":\"cce420cd-16fe-4e99-8ea3-2d07d0a5541a\",\"type\":\"Line\"},\"selection_glyph\":null},\"id\":\"00ab3918-91b0-4e42-9543-e109f13057dd\",\"type\":\"GlyphRenderer\"},{\"attributes\":{},\"id\":\"b50e7ca0-0ef2-47be-80ea-0dfb75a04acd\",\"type\":\"ToolEvents\"},{\"attributes\":{\"overlay\":{\"id\":\"4b145122-d44c-4a18-9f0c-03f82185b25f\",\"type\":\"BoxAnnotation\"},\"plot\":{\"id\":\"52a5c9fe-b417-426c-b95c-0320e323bddc\",\"subtype\":\"Figure\",\"type\":\"Plot\"}},\"id\":\"f5c23d6c-21c4-49fe-82f7-dbbc69a9273e\",\"type\":\"BoxZoomTool\"},{\"attributes\":{\"line_alpha\":{\"value\":0.1},\"line_color\":{\"value\":\"#1f77b4\"},\"x\":{\"field\":\"x\"},\"y\":{\"field\":\"y\"}},\"id\":\"cce420cd-16fe-4e99-8ea3-2d07d0a5541a\",\"type\":\"Line\"},{\"attributes\":{},\"id\":\"720a4670-90d0-4314-89cf-5d0a7ff30338\",\"type\":\"BasicTickFormatter\"},{\"attributes\":{\"plot\":{\"id\":\"763a035d-22d2-4ed2-873f-2cac18fa3bf0\",\"subtype\":\"Figure\",\"type\":\"Plot\"}},\"id\":\"3bd24856-a3d5-4b2a-9ac9-8cebad4142f6\",\"type\":\"HelpTool\"},{\"attributes\":{\"callback\":null},\"id\":\"7456d204-fe6d-4673-a78b-069a241c0d7f\",\"type\":\"DataRange1d\"},{\"attributes\":{\"line_color\":{\"value\":\"navy\"},\"x\":{\"field\":\"x\"},\"y\":{\"field\":\"y\"}},\"id\":\"84f78438-8ecf-40a9-9dfd-434af8a46f75\",\"type\":\"Line\"},{\"attributes\":{\"callback\":null,\"column_names\":[\"y\",\"x\"],\"data\":{\"x\":[23968.0,23968.0],\"y\":[0,40]}},\"id\":\"90491864-2e9a-4b4b-9689-4996afebdafe\",\"type\":\"ColumnDataSource\"},{\"attributes\":{\"data_source\":{\"id\":\"cbf92b3a-2a46-489b-a8d6-176b4c7cdb82\",\"type\":\"ColumnDataSource\"},\"glyph\":{\"id\":\"84f78438-8ecf-40a9-9dfd-434af8a46f75\",\"type\":\"Line\"},\"hover_glyph\":null,\"name\":\"Paw\",\"nonselection_glyph\":{\"id\":\"3f66f082-a22c-404e-9716-925d123bf25f\",\"type\":\"Line\"},\"selection_glyph\":null},\"id\":\"37c97710-6140-40c5-81a8-842382ada005\",\"type\":\"GlyphRenderer\"},{\"attributes\":{\"callback\":null},\"id\":\"474bcf2b-e375-4532-8c07-a48545110ecf\",\"type\":\"DataRange1d\"},{\"attributes\":{\"bottom_units\":\"screen\",\"fill_alpha\":{\"value\":0.5},\"fill_color\":{\"value\":\"lightgrey\"},\"left_units\":\"screen\",\"level\":\"overlay\",\"line_alpha\":{\"value\":1.0},\"line_color\":{\"value\":\"black\"},\"line_dash\":[4,4],\"line_width\":{\"value\":2},\"plot\":null,\"render_mode\":\"css\",\"right_units\":\"screen\",\"top_units\":\"screen\"},\"id\":\"2bfb174a-6c99-41b6-ba18-dc2034b64fd1\",\"type\":\"BoxAnnotation\"},{\"attributes\":{\"plot\":{\"id\":\"52a5c9fe-b417-426c-b95c-0320e323bddc\",\"subtype\":\"Figure\",\"type\":\"Plot\"},\"ticker\":{\"id\":\"80f913df-c58f-433b-905e-49a0ee6ffc83\",\"type\":\"BasicTicker\"}},\"id\":\"fee0e61e-e3da-43ca-98cf-c8b9ba71af84\",\"type\":\"Grid\"},{\"attributes\":{},\"id\":\"d26f0cbc-4b56-41ff-be08-320102386985\",\"type\":\"BasicTicker\"},{\"attributes\":{\"callback\":null,\"column_names\":[\"y\",\"x\"],\"data\":{\"x\":[21152.0,21152.0],\"y\":[-40,40]}},\"id\":\"bcc231fc-bcd9-44b4-83e7-b6c282cb6951\",\"type\":\"ColumnDataSource\"},{\"attributes\":{\"formatter\":{\"id\":\"481935f7-59f0-494e-9c67-75c54f700e62\",\"type\":\"BasicTickFormatter\"},\"plot\":{\"id\":\"763a035d-22d2-4ed2-873f-2cac18fa3bf0\",\"subtype\":\"Figure\",\"type\":\"Plot\"},\"ticker\":{\"id\":\"87c6a35d-164b-43c6-a434-25eae1fc4d96\",\"type\":\"BasicTicker\"}},\"id\":\"e3c10e9b-163a-476f-ad77-1669730c5432\",\"type\":\"LinearAxis\"},{\"attributes\":{\"line_color\":{\"value\":\"green\"},\"x\":{\"field\":\"x\"},\"y\":{\"field\":\"y\"}},\"id\":\"a4bc14d2-eba8-4a29-9d2a-b0cdce854675\",\"type\":\"Line\"},{\"attributes\":{\"bottom_units\":\"screen\",\"fill_alpha\":{\"value\":0.5},\"fill_color\":{\"value\":\"lightgrey\"},\"left_units\":\"screen\",\"level\":\"overlay\",\"line_alpha\":{\"value\":1.0},\"line_color\":{\"value\":\"black\"},\"line_dash\":[4,4],\"line_width\":{\"value\":2},\"plot\":null,\"render_mode\":\"css\",\"right_units\":\"screen\",\"top_units\":\"screen\"},\"id\":\"5c95e1d6-9287-4fc6-9b8b-7d386b6417f1\",\"type\":\"BoxAnnotation\"},{\"attributes\":{\"bottom_units\":\"screen\",\"fill_alpha\":{\"value\":0.5},\"fill_color\":{\"value\":\"lightgrey\"},\"left_units\":\"screen\",\"level\":\"overlay\",\"line_alpha\":{\"value\":1.0},\"line_color\":{\"value\":\"black\"},\"line_dash\":[4,4],\"line_width\":{\"value\":2},\"plot\":null,\"render_mode\":\"css\",\"right_units\":\"screen\",\"top_units\":\"screen\"},\"id\":\"4b145122-d44c-4a18-9f0c-03f82185b25f\",\"type\":\"BoxAnnotation\"},{\"attributes\":{},\"id\":\"5219cd8b-5de3-43d6-be0a-72b6a90673f4\",\"type\":\"ToolEvents\"},{\"attributes\":{\"dimension\":1,\"plot\":{\"id\":\"f023d115-0c1f-49c1-87e6-31c745879178\",\"subtype\":\"Figure\",\"type\":\"Plot\"},\"ticker\":{\"id\":\"d44bfca9-001f-45af-820b-2e5db0f6646e\",\"type\":\"BasicTicker\"}},\"id\":\"a2a6782d-709f-4dfa-a5c1-189202030df5\",\"type\":\"Grid\"},{\"attributes\":{\"line_alpha\":{\"value\":0.1},\"line_color\":{\"value\":\"#1f77b4\"},\"x\":{\"field\":\"x\"},\"y\":{\"field\":\"y\"}},\"id\":\"2ec67fb5-c95c-433a-9616-383150daf495\",\"type\":\"Line\"},{\"attributes\":{\"plot\":{\"id\":\"52a5c9fe-b417-426c-b95c-0320e323bddc\",\"subtype\":\"Figure\",\"type\":\"Plot\"}},\"id\":\"7950cc04-7a70-4ee4-b916-b1775d7d48af\",\"type\":\"ResetTool\"},{\"attributes\":{\"plot\":{\"id\":\"f023d115-0c1f-49c1-87e6-31c745879178\",\"subtype\":\"Figure\",\"type\":\"Plot\"}},\"id\":\"1da25140-ebf7-4e30-8fe0-07fea29fa279\",\"type\":\"ResetTool\"},{\"attributes\":{\"plot\":{\"id\":\"763a035d-22d2-4ed2-873f-2cac18fa3bf0\",\"subtype\":\"Figure\",\"type\":\"Plot\"}},\"id\":\"a3684f45-4500-4e9b-bdc8-b3c7668bfa6e\",\"type\":\"WheelZoomTool\"},{\"attributes\":{},\"id\":\"dfa00389-7628-4a8f-8a21-c1b78bb412dd\",\"type\":\"BasicTickFormatter\"},{\"attributes\":{\"line_alpha\":{\"value\":0.1},\"line_color\":{\"value\":\"#1f77b4\"},\"x\":{\"field\":\"x\"},\"y\":{\"field\":\"y\"}},\"id\":\"8da6bb7f-db96-4fa3-8e0d-5de579c22640\",\"type\":\"Line\"},{\"attributes\":{},\"id\":\"c55b5658-c897-417a-9055-3c95cf267691\",\"type\":\"BasicTickFormatter\"},{\"attributes\":{},\"id\":\"80f913df-c58f-433b-905e-49a0ee6ffc83\",\"type\":\"BasicTicker\"},{\"attributes\":{\"callback\":null,\"column_names\":[\"y\",\"x\"],\"data\":{\"x\":[21152.0,21152.0],\"y\":[0,400]}},\"id\":\"e1e4da96-f1d6-46d3-aac9-857df6500440\",\"type\":\"ColumnDataSource\"},{\"attributes\":{\"overlay\":{\"id\":\"5c95e1d6-9287-4fc6-9b8b-7d386b6417f1\",\"type\":\"BoxAnnotation\"},\"plot\":{\"id\":\"f023d115-0c1f-49c1-87e6-31c745879178\",\"subtype\":\"Figure\",\"type\":\"Plot\"}},\"id\":\"312e2f27-3772-4b67-8b11-03a9932a54f8\",\"type\":\"BoxZoomTool\"},{\"attributes\":{\"plot\":{\"id\":\"52a5c9fe-b417-426c-b95c-0320e323bddc\",\"subtype\":\"Figure\",\"type\":\"Plot\"}},\"id\":\"56a09c73-424c-49df-8a0a-ffc2483c03d1\",\"type\":\"ResizeTool\"},{\"attributes\":{\"overlay\":{\"id\":\"2bfb174a-6c99-41b6-ba18-dc2034b64fd1\",\"type\":\"BoxAnnotation\"},\"plot\":{\"id\":\"763a035d-22d2-4ed2-873f-2cac18fa3bf0\",\"subtype\":\"Figure\",\"type\":\"Plot\"}},\"id\":\"ae69991f-a0b7-4c9e-aaca-b3007d086636\",\"type\":\"BoxZoomTool\"},{\"attributes\":{\"line_color\":{\"value\":\"olive\"},\"x\":{\"field\":\"x\"},\"y\":{\"field\":\"y\"}},\"id\":\"13bb41cd-38df-4b26-80b0-58ef8ae681b4\",\"type\":\"Line\"},{\"attributes\":{\"line_alpha\":{\"value\":0.1},\"line_color\":{\"value\":\"#1f77b4\"},\"x\":{\"field\":\"x\"},\"y\":{\"field\":\"y\"}},\"id\":\"9ec38825-5a20-4da9-9e36-243a3044edba\",\"type\":\"Line\"},{\"attributes\":{},\"id\":\"87c6a35d-164b-43c6-a434-25eae1fc4d96\",\"type\":\"BasicTicker\"},{\"attributes\":{\"callback\":null,\"column_names\":[\"y\",\"x\"],\"data\":{\"x\":[21152.0,21184.0,21216.0,21248.0,21280.0,21312.0,21344.0,21376.0,21408.0,21440.0,21472.0,21504.0,21536.0,21568.0,21600.0,21632.0,21664.0,21696.0,21728.0,21760.0,21792.0,21824.0,21856.0,21888.0,21920.0,21952.0,21984.0,22016.0,22048.0,22080.0,22112.0,22144.0,22176.0,22208.0,22240.0,22272.0,22304.0,22336.0,22368.0,22400.0,22432.0,22464.0,22496.0,22528.0,22560.0,22592.0,22624.0,22656.0,22688.0,22720.0,22752.0,22784.0,22816.0,22848.0,22880.0,22912.0,22944.0,22976.0,23008.0,23040.0,23072.0,23104.0,23136.0,23168.0,23200.0,23232.0,23264.0,23296.0,23328.0,23360.0,23392.0,23424.0,23456.0,23488.0,23520.0,23552.0,23584.0,23616.0,23648.0,23680.0,23712.0,23744.0,23776.0,23808.0,23840.0,23872.0,23904.0,23936.0,23968.0],\"y\":[-13.333333333333346,-2.7380952380952412,5.714285714285719,10.119047619047631,22.61904761904764,41.07142857142861,61.30952380952386,82.85714285714293,102.0238095238096,120.95238095238106,141.7857142857144,163.80952380952397,185.95238095238113,207.02380952380972,223.809523809524,241.7857142857145,259.04761904761926,276.4285714285717,294.6428571428574,311.1904761904765,325.8333333333336,340.2380952380955,352.7380952380955,365.83333333333366,377.7380952380955,389.1666666666671,399.52380952380986,409.7619047619051,421.3095238095242,432.0238095238099,441.3095238095242,449.88095238095275,457.0238095238099,463.57142857142895,469.7619047619052,475.4761904761909,480.2380952380957,484.8809523809528,489.16666666666714,493.571428571429,497.7380952380957,501.5476190476195,505.11904761904805,508.69047619047666,512.8571428571433,509.4047619047624,498.0952380952385,479.8809523809528,454.4047619047623,429.04761904761943,408.09523809523847,383.69047619047655,357.9761904761908,331.9047619047622,304.28571428571456,279.40476190476215,260.83333333333354,243.33333333333357,226.54761904761926,209.52380952380972,192.26190476190493,174.88095238095252,159.5238095238097,146.19047619047632,133.8095238095239,121.1904761904763,108.80952380952391,96.19047619047629,84.76190476190484,75.47619047619054,65.59523809523816,56.071428571428626,45.59523809523814,35.35714285714289,27.142857142857167,20.357142857142875,14.40476190476192,8.809523809523817,2.3809523809523836,-3.3333333333333357,-7.500000000000006,-10.357142857142867,-13.452380952380965,-17.261904761904777,-21.904761904761926,-25.595238095238116,-32.26190476190479,-29.761904761904784,-22.26190476190478]}},\"id\":\"dc796c41-67eb-4233-b685-60741131175f\",\"type\":\"ColumnDataSource\"},{\"attributes\":{\"data_source\":{\"id\":\"2a100276-df66-4612-a3bb-b8b7fe645602\",\"type\":\"ColumnDataSource\"},\"glyph\":{\"id\":\"a4bc14d2-eba8-4a29-9d2a-b0cdce854675\",\"type\":\"Line\"},\"hover_glyph\":null,\"nonselection_glyph\":{\"id\":\"5d63cccd-aa30-4aaa-8af5-b280a9262f17\",\"type\":\"Line\"},\"selection_glyph\":null},\"id\":\"74a92aaa-cf72-40a6-b32c-6d0e153be195\",\"type\":\"GlyphRenderer\"},{\"attributes\":{\"plot\":{\"id\":\"f023d115-0c1f-49c1-87e6-31c745879178\",\"subtype\":\"Figure\",\"type\":\"Plot\"}},\"id\":\"982b0405-dec1-4cb1-9c3b-08a64595d948\",\"type\":\"PreviewSaveTool\"},{\"attributes\":{\"callback\":null},\"id\":\"5251f46b-2c1f-4c58-b553-f9cc83a2e5df\",\"type\":\"DataRange1d\"},{\"attributes\":{\"callback\":null,\"column_names\":[\"y\",\"x\"],\"data\":{\"x\":[23968.0,23968.0],\"y\":[0,400]}},\"id\":\"2a100276-df66-4612-a3bb-b8b7fe645602\",\"type\":\"ColumnDataSource\"}],\"root_ids\":[\"8c5fcf21-d949-497d-8444-89df33f0173e\"]},\"title\":\"Bokeh Application\",\"version\":\"0.11.1\"}};\n",
       "            var render_items = [{\"docid\":\"44de98b2-9511-464a-a00b-e8b964ffe453\",\"elementid\":\"4f6a25a9-8eaa-4239-82ab-0b0f36e100e2\",\"modelid\":\"8c5fcf21-d949-497d-8444-89df33f0173e\",\"notebook_comms_target\":\"ac2f6f6a-2ffc-4c9d-9b5b-5ec7a2afebc0\"}];\n",
       "            \n",
       "            Bokeh.embed.embed_items(docs_json, render_items);\n",
       "        });\n",
       "      },\n",
       "      function(Bokeh) {\n",
       "      }\n",
       "    ];\n",
       "  \n",
       "    function run_inline_js() {\n",
       "      for (var i = 0; i < inline_js.length; i++) {\n",
       "        inline_js[i](window.Bokeh);\n",
       "      }\n",
       "    }\n",
       "  \n",
       "    if (window._bokeh_is_loading === 0) {\n",
       "      console.log(\"Bokeh: BokehJS loaded, going straight to plotting\");\n",
       "      run_inline_js();\n",
       "    } else {\n",
       "      load_libs(js_urls, function() {\n",
       "        console.log(\"Bokeh: BokehJS plotting callback run at\", now());\n",
       "        run_inline_js();\n",
       "      });\n",
       "    }\n",
       "  }(this));\n",
       "</script>"
      ]
     },
     "metadata": {},
     "output_type": "display_data"
    }
   ],
   "source": [
    "breaths = 1\n",
    "results = viz.get_breaths(75)\n",
    "w = widgets.SelectMultiple(description='Types', options=['Normal', 'DoubleStacked', 'PostDoubleStacked', \n",
    "                                                         'PressureFlowLimited', 'FlowAbnormal', \n",
    "                                                         'PrematureVentTermination', 'IneffectiveTrigger', 'Garbage'])\n",
    "w.height = 150\n",
    "button = widgets.Button(description='Next')\n",
    "container = widgets.HBox(children=[w, button])\n",
    "\n",
    "button.on_click(on_button_click)\n",
    "display(container)"
   ]
  },
  {
   "cell_type": "markdown",
   "metadata": {
    "collapsed": false
   },
   "source": [
    "# Use PDS breaths to ID DS Breaths"
   ]
  },
  {
   "cell_type": "code",
   "execution_count": null,
   "metadata": {
    "collapsed": false
   },
   "outputs": [],
   "source": [
    "pds = list(train_db.find({'validation':{'$exists':1}, 'validation.pds':1}, {'file':1, 'breath_num':1}))\n",
    "for breath in pds:\n",
    "    data = breath_db.find_one({'file': breath['file'], 'breath_num':breath['breath_num']-1})\n",
    "    data['validation'] = {'norm':0,\n",
    "                                'ds': 1,\n",
    "                                'pds': 0,\n",
    "                                'pfl': 0,\n",
    "                                'fa': 0,\n",
    "                                'pvt':0,\n",
    "                                'ie': 0,\n",
    "                                'garb': 0}\n",
    "\n",
    "    try:\n",
    "        train_db.insert_one(data)\n",
    "    except:\n",
    "        train_db.update_one({'file': breath['file'], 'breath_num':breath['breath_num']-1}, {'$set':data})"
   ]
  },
  {
   "cell_type": "code",
   "execution_count": null,
   "metadata": {
    "collapsed": true
   },
   "outputs": [],
   "source": [
    "ids = list(train_db.find({'validation':{'$exists':1}}, {'_id':1, 'validation':1}).limit(20))"
   ]
  },
  {
   "cell_type": "code",
   "execution_count": null,
   "metadata": {
    "collapsed": false,
    "scrolled": false
   },
   "outputs": [],
   "source": [
    "for _id in ids:\n",
    "    print(_id['validation'])\n",
    "    df, breath_start, breath_end = viz.breath_viz(_id['_id'])\n",
    "    p=viz.make_plot(df, breath_start, breath_end)\n",
    "    show(p)"
   ]
  },
  {
   "cell_type": "code",
   "execution_count": null,
   "metadata": {
    "collapsed": true
   },
   "outputs": [],
   "source": []
  },
  {
   "cell_type": "code",
   "execution_count": null,
   "metadata": {
    "collapsed": true
   },
   "outputs": [],
   "source": []
  },
  {
   "cell_type": "code",
   "execution_count": null,
   "metadata": {
    "collapsed": true
   },
   "outputs": [],
   "source": []
  },
  {
   "cell_type": "code",
   "execution_count": null,
   "metadata": {
    "collapsed": true
   },
   "outputs": [],
   "source": []
  },
  {
   "cell_type": "code",
   "execution_count": null,
   "metadata": {
    "collapsed": true
   },
   "outputs": [],
   "source": []
  },
  {
   "cell_type": "code",
   "execution_count": null,
   "metadata": {
    "collapsed": true
   },
   "outputs": [],
   "source": []
  },
  {
   "cell_type": "code",
   "execution_count": null,
   "metadata": {
    "collapsed": true
   },
   "outputs": [],
   "source": []
  },
  {
   "cell_type": "code",
   "execution_count": null,
   "metadata": {
    "collapsed": true
   },
   "outputs": [],
   "source": []
  },
  {
   "cell_type": "code",
   "execution_count": null,
   "metadata": {
    "collapsed": true
   },
   "outputs": [],
   "source": []
  },
  {
   "cell_type": "code",
   "execution_count": null,
   "metadata": {
    "collapsed": true
   },
   "outputs": [],
   "source": []
  },
  {
   "cell_type": "code",
   "execution_count": null,
   "metadata": {
    "collapsed": true
   },
   "outputs": [],
   "source": []
  },
  {
   "cell_type": "code",
   "execution_count": null,
   "metadata": {
    "collapsed": true
   },
   "outputs": [],
   "source": []
  },
  {
   "cell_type": "code",
   "execution_count": null,
   "metadata": {
    "collapsed": true
   },
   "outputs": [],
   "source": []
  },
  {
   "cell_type": "code",
   "execution_count": null,
   "metadata": {
    "collapsed": true
   },
   "outputs": [],
   "source": []
  },
  {
   "cell_type": "code",
   "execution_count": null,
   "metadata": {
    "collapsed": true
   },
   "outputs": [],
   "source": []
  },
  {
   "cell_type": "code",
   "execution_count": null,
   "metadata": {
    "collapsed": true
   },
   "outputs": [],
   "source": []
  },
  {
   "cell_type": "code",
   "execution_count": null,
   "metadata": {
    "collapsed": true
   },
   "outputs": [],
   "source": []
  },
  {
   "cell_type": "code",
   "execution_count": null,
   "metadata": {
    "collapsed": true
   },
   "outputs": [],
   "source": []
  },
  {
   "cell_type": "code",
   "execution_count": null,
   "metadata": {
    "collapsed": true
   },
   "outputs": [],
   "source": []
  }
 ],
 "metadata": {
  "kernelspec": {
   "display_name": "Python 3",
   "language": "python",
   "name": "python3"
  },
  "language_info": {
   "codemirror_mode": {
    "name": "ipython",
    "version": 3
   },
   "file_extension": ".py",
   "mimetype": "text/x-python",
   "name": "python",
   "nbconvert_exporter": "python",
   "pygments_lexer": "ipython3",
   "version": "3.5.1"
  }
 },
 "nbformat": 4,
 "nbformat_minor": 0
}
