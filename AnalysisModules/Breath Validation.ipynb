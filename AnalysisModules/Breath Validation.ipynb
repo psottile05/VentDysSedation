{
 "cells": [
  {
   "cell_type": "code",
   "execution_count": null,
   "metadata": {
    "collapsed": false
   },
   "outputs": [],
   "source": [
    "import Visualization as viz\n",
    "from ipywidgets import widgets\n",
    "from IPython.display import display, clear_output\n",
    "from bokeh.plotting import figure, show, output_notebook\n",
    "\n",
    "output_notebook()"
   ]
  },
  {
   "cell_type": "code",
   "execution_count": 2,
   "metadata": {
    "collapsed": true
   },
   "outputs": [],
   "source": [
    "def on_button_click(b):\n",
    "    global breaths\n",
    "\n",
    "    clear_output()\n",
    "    if results.alive:\n",
    "        if breaths != 1:\n",
    "            viz.update_database(breaths['_id'], w.selected_labels)\n",
    "\n",
    "        breaths = results.next()\n",
    "        df, breath_start, breath_end = viz.breath_viz(breaths['_id'])\n",
    "        p=viz.make_plot(df, breath_start, breath_end)\n",
    "        show(p)\n",
    "    else:\n",
    "        if breaths != 1:\n",
    "            viz.update_database(breaths['_id'], w.selected_labels)\n",
    "        clear_output()\n",
    "        print('No more')"
   ]
  },
  {
   "cell_type": "code",
   "execution_count": 7,
   "metadata": {
    "collapsed": false
   },
   "outputs": [
    {
     "name": "stdout",
     "output_type": "stream",
     "text": [
      "No more\n"
     ]
    }
   ],
   "source": [
    "breaths = 1\n",
    "results = viz.get_breaths(8)\n",
    "w = widgets.SelectMultiple(description='Types', options=['Normal', 'DoubleStacked', 'PostDoubleStacked', \n",
    "                                                         'PressureFlowLimited', 'FlowAbnormal', \n",
    "                                                         'PrematureVentTermination', 'IneffectiveTrigger', 'Garbage'])\n",
    "button = widgets.Button(description='Next')\n",
    "container = widgets.HBox(children=[w, button])\n",
    "\n",
    "button.on_click(on_button_click)\n",
    "display(container)"
   ]
  }
 ],
 "metadata": {
  "kernelspec": {
   "display_name": "Python 3",
   "language": "python",
   "name": "python3"
  },
  "language_info": {
   "codemirror_mode": {
    "name": "ipython",
    "version": 3
   },
   "file_extension": ".py",
   "mimetype": "text/x-python",
   "name": "python",
   "nbconvert_exporter": "python",
   "pygments_lexer": "ipython3",
   "version": "3.5.1"
  }
 },
 "nbformat": 4,
 "nbformat_minor": 0
}
