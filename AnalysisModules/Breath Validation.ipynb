{
 "cells": [
  {
   "cell_type": "code",
   "execution_count": 4,
   "metadata": {
    "collapsed": false
   },
   "outputs": [
    {
     "data": {
      "text/html": [
       "\n",
       "\n",
       "    <script type=\"text/javascript\">\n",
       "      \n",
       "      (function(global) {\n",
       "        function now() {\n",
       "          return new Date();\n",
       "        }\n",
       "      \n",
       "        if (typeof (window._bokeh_onload_callbacks) === \"undefined\") {\n",
       "          window._bokeh_onload_callbacks = [];\n",
       "        }\n",
       "      \n",
       "        function run_callbacks() {\n",
       "          window._bokeh_onload_callbacks.forEach(function(callback) { callback() });\n",
       "          delete window._bokeh_onload_callbacks\n",
       "          console.info(\"Bokeh: all callbacks have finished\");\n",
       "        }\n",
       "      \n",
       "        function load_libs(js_urls, callback) {\n",
       "          window._bokeh_onload_callbacks.push(callback);\n",
       "          if (window._bokeh_is_loading > 0) {\n",
       "            console.log(\"Bokeh: BokehJS is being loaded, scheduling callback at\", now());\n",
       "            return null;\n",
       "          }\n",
       "          if (js_urls == null || js_urls.length === 0) {\n",
       "            run_callbacks();\n",
       "            return null;\n",
       "          }\n",
       "          console.log(\"Bokeh: BokehJS not loaded, scheduling load and callback at\", now());\n",
       "          window._bokeh_is_loading = js_urls.length;\n",
       "          for (var i = 0; i < js_urls.length; i++) {\n",
       "            var url = js_urls[i];\n",
       "            var s = document.createElement('script');\n",
       "            s.src = url;\n",
       "            s.async = false;\n",
       "            s.onreadystatechange = s.onload = function() {\n",
       "              window._bokeh_is_loading--;\n",
       "              if (window._bokeh_is_loading === 0) {\n",
       "                console.log(\"Bokeh: all BokehJS libraries loaded\");\n",
       "                run_callbacks()\n",
       "              }\n",
       "            };\n",
       "            s.onerror = function() {\n",
       "              console.warn(\"failed to load library \" + url);\n",
       "            };\n",
       "            console.log(\"Bokeh: injecting script tag for BokehJS library: \", url);\n",
       "            document.getElementsByTagName(\"head\")[0].appendChild(s);\n",
       "          }\n",
       "        };var js_urls = ['https://cdn.pydata.org/bokeh/release/bokeh-0.11.0.min.js', 'https://cdn.pydata.org/bokeh/release/bokeh-widgets-0.11.0.min.js', 'https://cdn.pydata.org/bokeh/release/bokeh-compiler-0.11.0.min.js'];\n",
       "      \n",
       "        var inline_js = [\n",
       "          function(Bokeh) {\n",
       "            Bokeh.set_log_level(\"info\");\n",
       "          },\n",
       "          function(Bokeh) {\n",
       "            console.log(\"Bokeh: injecting CSS: https://cdn.pydata.org/bokeh/release/bokeh-0.11.0.min.css\");\n",
       "            Bokeh.embed.inject_css(\"https://cdn.pydata.org/bokeh/release/bokeh-0.11.0.min.css\");\n",
       "            console.log(\"Bokeh: injecting CSS: https://cdn.pydata.org/bokeh/release/bokeh-widgets-0.11.0.min.css\");\n",
       "            Bokeh.embed.inject_css(\"https://cdn.pydata.org/bokeh/release/bokeh-widgets-0.11.0.min.css\");\n",
       "          }\n",
       "        ];\n",
       "      \n",
       "        function run_inline_js() {\n",
       "          for (var i = 0; i < inline_js.length; i++) {\n",
       "            inline_js[i](window.Bokeh);\n",
       "          }\n",
       "        }\n",
       "      \n",
       "        if (window._bokeh_is_loading === 0) {\n",
       "          console.log(\"Bokeh: BokehJS loaded, going straight to plotting\");\n",
       "          run_inline_js();\n",
       "        } else {\n",
       "          load_libs(js_urls, function() {\n",
       "            console.log(\"Bokeh: BokehJS plotting callback run at\", now());\n",
       "            run_inline_js();\n",
       "          });\n",
       "        }\n",
       "      }(this));\n",
       "    </script>\n",
       "    <div>\n",
       "        <a href=\"http://bokeh.pydata.org\" target=\"_blank\" class=\"bk-logo bk-logo-small bk-logo-notebook\"></a>\n",
       "        <span>BokehJS successfully loaded.</span>\n",
       "    </div>"
      ]
     },
     "metadata": {},
     "output_type": "display_data"
    }
   ],
   "source": [
    "import Visualization as viz\n",
    "from ipywidgets import widgets\n",
    "from IPython.display import display, clear_output\n",
    "from bokeh.plotting import figure, show, output_notebook\n",
    "\n",
    "output_notebook()"
   ]
  },
  {
   "cell_type": "code",
   "execution_count": 5,
   "metadata": {
    "collapsed": false
   },
   "outputs": [
    {
     "data": {
      "text/plain": [
       "10000"
      ]
     },
     "execution_count": 5,
     "metadata": {},
     "output_type": "execute_result"
    }
   ],
   "source": [
    "from pymongo import MongoClient\n",
    "\n",
    "client = MongoClient()\n",
    "db = client.VentDB\n",
    "breath_db = db.breath_collection\n",
    "train_db = db.train_collection\n",
    "\n",
    "train_db.find().count()"
   ]
  },
  {
   "cell_type": "code",
   "execution_count": 6,
   "metadata": {
    "collapsed": true
   },
   "outputs": [],
   "source": [
    "def on_button_click(b):\n",
    "    global breaths\n",
    "\n",
    "    clear_output()\n",
    "    if results.alive:\n",
    "        if breaths != 1:\n",
    "            viz.update_database(breaths['_id'], w.selected_labels)\n",
    "\n",
    "        breaths = results.next()\n",
    "        df, breath_start, breath_end = viz.breath_viz(breaths['_id'])\n",
    "        p=viz.make_plot(df, breath_start, breath_end)\n",
    "        show(p)\n",
    "    else:\n",
    "        if breaths != 1:\n",
    "            viz.update_database(breaths['_id'], w.selected_labels)\n",
    "        clear_output()\n",
    "        print('No more')"
   ]
  },
  {
   "cell_type": "code",
   "execution_count": 7,
   "metadata": {
    "collapsed": false
   },
   "outputs": [
    {
     "ename": "IndexError",
     "evalue": "list index out of range",
     "output_type": "error",
     "traceback": [
      "\u001b[1;31m---------------------------------------------------------------------------\u001b[0m",
      "\u001b[1;31mIndexError\u001b[0m                                Traceback (most recent call last)",
      "\u001b[1;32m<ipython-input-6-29d0f1bd0cd0>\u001b[0m in \u001b[0;36mon_button_click\u001b[1;34m(b)\u001b[0m\n\u001b[0;32m      8\u001b[0m \u001b[1;33m\u001b[0m\u001b[0m\n\u001b[0;32m      9\u001b[0m         \u001b[0mbreaths\u001b[0m \u001b[1;33m=\u001b[0m \u001b[0mresults\u001b[0m\u001b[1;33m.\u001b[0m\u001b[0mnext\u001b[0m\u001b[1;33m(\u001b[0m\u001b[1;33m)\u001b[0m\u001b[1;33m\u001b[0m\u001b[0m\n\u001b[1;32m---> 10\u001b[1;33m         \u001b[0mdf\u001b[0m\u001b[1;33m,\u001b[0m \u001b[0mbreath_start\u001b[0m\u001b[1;33m,\u001b[0m \u001b[0mbreath_end\u001b[0m \u001b[1;33m=\u001b[0m \u001b[0mviz\u001b[0m\u001b[1;33m.\u001b[0m\u001b[0mbreath_viz\u001b[0m\u001b[1;33m(\u001b[0m\u001b[0mbreaths\u001b[0m\u001b[1;33m[\u001b[0m\u001b[1;34m'_id'\u001b[0m\u001b[1;33m]\u001b[0m\u001b[1;33m)\u001b[0m\u001b[1;33m\u001b[0m\u001b[0m\n\u001b[0m\u001b[0;32m     11\u001b[0m         \u001b[0mp\u001b[0m\u001b[1;33m=\u001b[0m\u001b[0mviz\u001b[0m\u001b[1;33m.\u001b[0m\u001b[0mmake_plot\u001b[0m\u001b[1;33m(\u001b[0m\u001b[0mdf\u001b[0m\u001b[1;33m,\u001b[0m \u001b[0mbreath_start\u001b[0m\u001b[1;33m,\u001b[0m \u001b[0mbreath_end\u001b[0m\u001b[1;33m)\u001b[0m\u001b[1;33m\u001b[0m\u001b[0m\n\u001b[0;32m     12\u001b[0m         \u001b[0mshow\u001b[0m\u001b[1;33m(\u001b[0m\u001b[0mp\u001b[0m\u001b[1;33m)\u001b[0m\u001b[1;33m\u001b[0m\u001b[0m\n",
      "\u001b[1;32mC:\\Users\\sottilep\\PycharmProjects\\VentDysSedation\\AnalysisModules\\Visualization.py\u001b[0m in \u001b[0;36mbreath_viz\u001b[1;34m(id)\u001b[0m\n\u001b[0;32m     25\u001b[0m \u001b[1;33m\u001b[0m\u001b[0m\n\u001b[0;32m     26\u001b[0m \u001b[1;32mdef\u001b[0m \u001b[0mbreath_viz\u001b[0m\u001b[1;33m(\u001b[0m\u001b[0mid\u001b[0m\u001b[1;33m)\u001b[0m\u001b[1;33m:\u001b[0m\u001b[1;33m\u001b[0m\u001b[0m\n\u001b[1;32m---> 27\u001b[1;33m     \u001b[0mbreath\u001b[0m \u001b[1;33m=\u001b[0m \u001b[0mlist\u001b[0m\u001b[1;33m(\u001b[0m\u001b[0mbreath_db\u001b[0m\u001b[1;33m.\u001b[0m\u001b[0mfind\u001b[0m\u001b[1;33m(\u001b[0m\u001b[1;33m{\u001b[0m\u001b[1;34m'_id'\u001b[0m\u001b[1;33m:\u001b[0m \u001b[0mid\u001b[0m\u001b[1;33m}\u001b[0m\u001b[1;33m,\u001b[0m \u001b[1;33m{\u001b[0m\u001b[1;34m'file'\u001b[0m\u001b[1;33m:\u001b[0m \u001b[1;36m1\u001b[0m\u001b[1;33m,\u001b[0m \u001b[1;34m'breath_num'\u001b[0m\u001b[1;33m:\u001b[0m \u001b[1;36m1\u001b[0m\u001b[1;33m,\u001b[0m \u001b[1;34m'breath_raw'\u001b[0m\u001b[1;33m:\u001b[0m \u001b[1;36m1\u001b[0m\u001b[1;33m}\u001b[0m\u001b[1;33m)\u001b[0m\u001b[1;33m)\u001b[0m\u001b[1;33m[\u001b[0m\u001b[1;36m0\u001b[0m\u001b[1;33m]\u001b[0m\u001b[1;33m\u001b[0m\u001b[0m\n\u001b[0m\u001b[0;32m     28\u001b[0m     \u001b[0mbreath_start\u001b[0m \u001b[1;33m=\u001b[0m \u001b[0mbreath\u001b[0m\u001b[1;33m[\u001b[0m\u001b[1;34m'breath_raw'\u001b[0m\u001b[1;33m]\u001b[0m\u001b[1;33m[\u001b[0m\u001b[1;34m'time'\u001b[0m\u001b[1;33m]\u001b[0m\u001b[1;33m[\u001b[0m\u001b[1;36m0\u001b[0m\u001b[1;33m]\u001b[0m\u001b[1;33m\u001b[0m\u001b[0m\n\u001b[0;32m     29\u001b[0m     \u001b[0mbreath_end\u001b[0m \u001b[1;33m=\u001b[0m \u001b[0mbreath\u001b[0m\u001b[1;33m[\u001b[0m\u001b[1;34m'breath_raw'\u001b[0m\u001b[1;33m]\u001b[0m\u001b[1;33m[\u001b[0m\u001b[1;34m'time'\u001b[0m\u001b[1;33m]\u001b[0m\u001b[1;33m[\u001b[0m\u001b[1;33m-\u001b[0m\u001b[1;36m1\u001b[0m\u001b[1;33m]\u001b[0m\u001b[1;33m\u001b[0m\u001b[0m\n",
      "\u001b[1;31mIndexError\u001b[0m: list index out of range"
     ]
    }
   ],
   "source": [
    "breaths = 1\n",
    "results = viz.get_breaths(1000)\n",
    "w = widgets.SelectMultiple(description='Types', options=['Normal', 'DoubleStacked', 'PostDoubleStacked', \n",
    "                                                         'PressureFlowLimited', 'FlowAbnormal', \n",
    "                                                         'PrematureVentTermination', 'IneffectiveTrigger', 'Garbage'])\n",
    "w.height = 150\n",
    "button = widgets.Button(description='Next')\n",
    "container = widgets.HBox(children=[w, button])\n",
    "\n",
    "button.on_click(on_button_click)\n",
    "display(container)"
   ]
  },
  {
   "cell_type": "code",
   "execution_count": 8,
   "metadata": {
    "collapsed": false
   },
   "outputs": [
    {
     "data": {
      "text/plain": [
       "205"
      ]
     },
     "execution_count": 8,
     "metadata": {},
     "output_type": "execute_result"
    }
   ],
   "source": [
    "train_db.find({'validation':{'$exists':1}}).count()"
   ]
  },
  {
   "cell_type": "code",
   "execution_count": 11,
   "metadata": {
    "collapsed": false
   },
   "outputs": [
    {
     "name": "stdout",
     "output_type": "stream",
     "text": [
      "[{'_id': '113/9396/2015-01-21 20:29:52/15323512', 'validation': {'pvt': 0, 'ie': 0, 'fa': 0, 'norm': 1, 'pfl': 0, 'pds': 0, 'garb': 0, 'ds': 0}}, {'_id': '317210    122\\nName: patient_ID, dtype: int64/3793/2015-04-19 16:08:00/10150720', 'validation': {'pvt': 0, 'ie': 0, 'fa': 0, 'norm': 1, 'pfl': 0, 'pds': 0, 'garb': 0, 'ds': 0}}, {'_id': '112/5895/2015-01-18 15:34:30/12597103', 'validation': {'pvt': 0, 'ie': 0, 'fa': 0, 'norm': 1, 'pfl': 0, 'pds': 0, 'garb': 0, 'ds': 0}}, {'_id': '119/6406/2015-03-06 21:11:59/18001044', 'validation': {'pvt': 0, 'ie': 0, 'fa': 0, 'norm': 1, 'pfl': 0, 'pds': 0, 'garb': 0, 'ds': 0}}, {'_id': '119/5180/2015-03-11 06:17:24/14418749', 'validation': {'pvt': 0, 'ie': 0, 'fa': 0, 'norm': 0, 'pfl': 1, 'pds': 0, 'garb': 0, 'ds': 0}}, {'_id': '101/1072/2014-04-23 13:09:37/2597701', 'validation': {'pvt': 0, 'ie': 0, 'fa': 0, 'norm': 0, 'pfl': 1, 'pds': 0, 'garb': 0, 'ds': 0}}, {'_id': '120/1843/2015-03-11 20:36:58/3768256', 'validation': {'pvt': 0, 'ie': 0, 'fa': 0, 'norm': 1, 'pfl': 0, 'pds': 0, 'garb': 0, 'ds': 0}}, {'_id': '103/1746/2014-05-27 21:31:33/5722400', 'validation': {'pvt': 0, 'ie': 0, 'fa': 0, 'norm': 1, 'pfl': 0, 'pds': 0, 'garb': 0, 'ds': 0}}, {'_id': '101/5852/2014-04-23 19:37:39/15074285', 'validation': {'pvt': 1, 'ie': 0, 'fa': 0, 'norm': 0, 'pfl': 0, 'pds': 0, 'garb': 0, 'ds': 0}}, {'_id': '119/4010/2015-03-06 11:21:46/11678400', 'validation': {'pvt': 0, 'ie': 0, 'fa': 0, 'norm': 1, 'pfl': 0, 'pds': 0, 'garb': 0, 'ds': 0}}, {'_id': '101/344/2014-04-26 12:16:52/1012640', 'validation': {'pvt': 0, 'ie': 0, 'fa': 0, 'norm': 1, 'pfl': 0, 'pds': 0, 'garb': 0, 'ds': 0}}, {'_id': '113/3685/2015-01-21 11:16:58/7318348', 'validation': {'pvt': 0, 'ie': 0, 'fa': 0, 'norm': 1, 'pfl': 0, 'pds': 0, 'garb': 0, 'ds': 0}}, {'_id': '148284    122\\nName: patient_ID, dtype: int64/1741/2015-04-19 21:00:20/4745088', 'validation': {'pvt': 0, 'ie': 0, 'fa': 0, 'norm': 1, 'pfl': 0, 'pds': 0, 'garb': 0, 'ds': 0}}, {'_id': '109/2875/2014-10-09 19:37:11/9374320', 'validation': {'pvt': 0, 'ie': 0, 'fa': 0, 'norm': 1, 'pfl': 0, 'pds': 0, 'garb': 0, 'ds': 0}}, {'_id': '110/3270/2014-10-18 23:48:36/8013481', 'validation': {'pvt': 0, 'ie': 0, 'fa': 0, 'norm': 1, 'pfl': 0, 'pds': 0, 'garb': 0, 'ds': 0}}, {'_id': '813449    122\\nName: patient_ID, dtype: int64/9543/2015-04-18 02:41:52/26030368', 'validation': {'pvt': 0, 'ie': 0, 'fa': 0, 'norm': 1, 'pfl': 0, 'pds': 0, 'garb': 0, 'ds': 0}}, {'_id': '109/1894/2014-10-09 16:09:10/6215668', 'validation': {'pvt': 0, 'ie': 0, 'fa': 0, 'norm': 1, 'pfl': 0, 'pds': 0, 'garb': 0, 'ds': 0}}, {'_id': '118/1674/2015-02-25 20:04:41/4078688', 'validation': {'pvt': 0, 'ie': 0, 'fa': 0, 'norm': 1, 'pfl': 0, 'pds': 0, 'garb': 0, 'ds': 0}}, {'_id': '112/1562/2015-01-18 05:36:13/3341216', 'validation': {'pvt': 0, 'ie': 0, 'fa': 0, 'norm': 1, 'pfl': 0, 'pds': 0, 'garb': 0, 'ds': 0}}, {'_id': '113/5146/2015-01-22 12:24:06/9585837', 'validation': {'pvt': 0, 'ie': 0, 'fa': 0, 'norm': 0, 'pfl': 0, 'pds': 0, 'garb': 1, 'ds': 0}}, {'_id': '113/9481/2015-01-21 05:28:15/22395424', 'validation': {'pvt': 0, 'ie': 0, 'fa': 0, 'norm': 1, 'pfl': 0, 'pds': 0, 'garb': 0, 'ds': 0}}, {'_id': '119/4210/2015-03-06 11:31:41/12273472', 'validation': {'pvt': 0, 'ie': 0, 'fa': 0, 'norm': 1, 'pfl': 0, 'pds': 0, 'garb': 0, 'ds': 0}}, {'_id': '112/9934/2015-01-18 04:02:45/20199648', 'validation': {'pvt': 0, 'ie': 0, 'fa': 0, 'norm': 1, 'pfl': 0, 'pds': 0, 'garb': 0, 'ds': 0}}, {'_id': '101/6184/2014-04-25 12:46:19/17667103', 'validation': {'pvt': 1, 'ie': 1, 'fa': 0, 'norm': 0, 'pfl': 0, 'pds': 0, 'garb': 0, 'ds': 0}}, {'_id': '113/3540/2015-01-20 18:44:45/8503104', 'validation': {'pvt': 0, 'ie': 0, 'fa': 0, 'norm': 1, 'pfl': 0, 'pds': 0, 'garb': 0, 'ds': 0}}, {'_id': '1636042    124\\nName: patient_ID, dtype: int64/13439/2015-06-04 04:09:03/52369765', 'validation': {'pvt': 0, 'ie': 0, 'fa': 0, 'norm': 0, 'pfl': 1, 'pds': 0, 'garb': 0, 'ds': 0}}, {'_id': '122/3945/2015-04-17 22:27:27/10765024', 'validation': {'pvt': 0, 'ie': 0, 'fa': 0, 'norm': 1, 'pfl': 0, 'pds': 0, 'garb': 0, 'ds': 0}}, {'_id': '113/793/2015-01-22 10:11:12/1612320', 'validation': {'pvt': 0, 'ie': 0, 'fa': 0, 'norm': 1, 'pfl': 0, 'pds': 0, 'garb': 0, 'ds': 0}}, {'_id': '113/1133/2015-01-20 17:10:12/2830176', 'validation': {'pvt': 0, 'ie': 0, 'fa': 0, 'norm': 1, 'pfl': 0, 'pds': 0, 'garb': 0, 'ds': 0}}, {'_id': '118/1022/2015-02-26 07:45:06/1776413', 'validation': {'pvt': 0, 'ie': 0, 'fa': 0, 'norm': 0, 'pfl': 1, 'pds': 0, 'garb': 0, 'ds': 0}}, {'_id': '119/2245/2015-03-10 00:23:02/7835712', 'validation': {'pvt': 0, 'ie': 0, 'fa': 0, 'norm': 0, 'pfl': 1, 'pds': 0, 'garb': 0, 'ds': 0}}, {'_id': '118/2686/2015-02-25 12:42:12/4246079', 'validation': {'pvt': 0, 'ie': 0, 'fa': 0, 'norm': 0, 'pfl': 1, 'pds': 0, 'garb': 0, 'ds': 0}}, {'_id': '109/2341/2014-10-09 19:08:54/7676811', 'validation': {'pvt': 0, 'ie': 0, 'fa': 0, 'norm': 1, 'pfl': 0, 'pds': 0, 'garb': 0, 'ds': 0}}, {'_id': '103/6533/2014-05-28 01:51:01/21290295', 'validation': {'pvt': 0, 'ie': 0, 'fa': 0, 'norm': 1, 'pfl': 0, 'pds': 0, 'garb': 0, 'ds': 0}}, {'_id': '120/8695/2015-03-13 03:55:10/21526148', 'validation': {'pvt': 0, 'ie': 1, 'fa': 0, 'norm': 0, 'pfl': 0, 'pds': 0, 'garb': 0, 'ds': 0}}, {'_id': '113/981/2015-01-20 17:03:52/2450272', 'validation': {'pvt': 0, 'ie': 0, 'fa': 0, 'norm': 1, 'pfl': 0, 'pds': 0, 'garb': 0, 'ds': 0}}, {'_id': '119/1697/2015-03-09 23:50:48/5901088', 'validation': {'pvt': 0, 'ie': 0, 'fa': 0, 'norm': 0, 'pfl': 1, 'pds': 0, 'garb': 0, 'ds': 0}}, {'_id': '113/3756/2015-01-23 12:54:01/9355744', 'validation': {'pvt': 0, 'ie': 1, 'fa': 0, 'norm': 0, 'pfl': 1, 'pds': 0, 'garb': 0, 'ds': 0}}, {'_id': '119/9684/2015-03-08 09:28:07/46013168', 'validation': {'pvt': 0, 'ie': 1, 'fa': 0, 'norm': 0, 'pfl': 1, 'pds': 0, 'garb': 0, 'ds': 0}}, {'_id': '110/5461/2014-10-17 02:20:30/17556199', 'validation': {'pvt': 0, 'ds': 0, 'fa': 0, 'norm': 1, 'pfl': 0, 'pds': 0, 'garb': 0, 'ie': 0}}, {'_id': '106/12877/2014-09-20 06:13:33/30691872', 'validation': {'pvt': 0, 'ds': 0, 'fa': 0, 'norm': 1, 'pfl': 0, 'pds': 0, 'garb': 0, 'ie': 0}}, {'_id': '119/9346/2015-03-07 05:13:12/25835040', 'validation': {'pvt': 1, 'ds': 0, 'fa': 0, 'norm': 0, 'pfl': 0, 'pds': 0, 'garb': 0, 'ie': 0}}, {'_id': '112/6997/2015-01-18 08:37:22/14210556', 'validation': {'pvt': 1, 'ds': 0, 'fa': 0, 'norm': 0, 'pfl': 0, 'pds': 0, 'garb': 0, 'ie': 0}}, {'_id': '119/2844/2015-03-11 08:53:40/7913248', 'validation': {'pvt': 0, 'ds': 0, 'fa': 0, 'norm': 0, 'pfl': 1, 'pds': 0, 'garb': 0, 'ie': 1}}, {'_id': '113/2834/2015-01-20 23:11:39/7059584', 'validation': {'pvt': 0, 'ds': 0, 'fa': 0, 'norm': 1, 'pfl': 0, 'pds': 0, 'garb': 0, 'ie': 0}}, {'_id': '122/8786/2015-04-19 07:03:01/25295821', 'validation': {'pvt': 0, 'ds': 0, 'fa': 0, 'norm': 1, 'pfl': 0, 'pds': 0, 'garb': 0, 'ie': 0}}, {'_id': '63030    122\\nName: patient_ID, dtype: int64/741/2015-04-19 20:14:51/2016960', 'validation': {'pvt': 0, 'ds': 0, 'fa': 0, 'norm': 0, 'pfl': 0, 'pds': 0, 'garb': 1, 'ie': 0}}, {'_id': '102/246/2014-05-10 17:06:03/540928', 'validation': {'pvt': 1, 'ds': 0, 'fa': 1, 'norm': 0, 'pfl': 0, 'pds': 0, 'garb': 0, 'ie': 0}}, {'_id': '103/3905/2014-05-28 21:24:55/12586016', 'validation': {'pvt': 1, 'ds': 0, 'fa': 0, 'norm': 0, 'pfl': 0, 'pds': 0, 'garb': 0, 'ie': 0}}, {'_id': '119/5265/2015-03-08 03:24:20/24185855', 'validation': {'pvt': 0, 'ds': 0, 'fa': 0, 'norm': 1, 'pfl': 0, 'pds': 0, 'garb': 0, 'ie': 0}}, {'_id': '120/1849/2015-03-11 16:10:49/3493472', 'validation': {'pvt': 0, 'ds': 0, 'fa': 0, 'norm': 0, 'pfl': 1, 'pds': 0, 'garb': 0, 'ie': 0}}, {'_id': '120/5355/2015-03-11 22:26:08/10317485', 'validation': {'pvt': 0, 'ds': 0, 'fa': 0, 'norm': 0, 'pfl': 1, 'pds': 0, 'garb': 0, 'ie': 0}}, {'_id': '113/4843/2015-01-21 15:33:05/8126416', 'validation': {'pvt': 0, 'ds': 0, 'fa': 0, 'norm': 0, 'pfl': 1, 'pds': 0, 'garb': 0, 'ie': 0}}, {'_id': '110/1272/2014-10-21 14:19:10/2509920', 'validation': {'pvt': 0, 'ds': 0, 'fa': 0, 'norm': 1, 'pfl': 0, 'pds': 0, 'garb': 0, 'ie': 0}}, {'_id': '113/481/2015-01-21 06:51:31/1073216', 'validation': {'pvt': 0, 'ds': 1, 'fa': 0, 'norm': 0, 'pfl': 1, 'pds': 0, 'garb': 0, 'ie': 0}}, {'_id': '120/2343/2015-03-12 23:30:03/5619520', 'validation': {'pvt': 0, 'ds': 0, 'fa': 1, 'norm': 0, 'pfl': 0, 'pds': 0, 'garb': 0, 'ie': 0}}, {'_id': '118/612/2015-02-25 11:47:57/991904', 'validation': {'pvt': 0, 'ds': 0, 'fa': 0, 'norm': 0, 'pfl': 1, 'pds': 0, 'garb': 0, 'ie': 0}}, {'_id': '119/5550/2015-03-11 06:36:29/15563485', 'validation': {'pvt': 0, 'ds': 0, 'fa': 0, 'norm': 0, 'pfl': 1, 'pds': 0, 'garb': 0, 'ie': 0}}, {'_id': '106/6423/2014-09-20 01:49:07/14826240', 'validation': {'pvt': 0, 'ds': 0, 'fa': 0, 'norm': 0, 'pfl': 1, 'pds': 0, 'garb': 0, 'ie': 0}}, {'_id': '119/319/2015-03-11 02:33:20/974784', 'validation': {'pvt': 0, 'ds': 0, 'fa': 0, 'norm': 1, 'pfl': 0, 'pds': 0, 'garb': 0, 'ie': 0}}, {'_id': '112/7247/2015-01-17 18:26:19/12621724', 'validation': {'pvt': 0, 'ds': 0, 'fa': 0, 'norm': 0, 'pfl': 1, 'pds': 0, 'garb': 0, 'ie': 0}}, {'_id': '113/8490/2015-01-21 04:48:24/20004096', 'validation': {'pvt': 0, 'ds': 0, 'fa': 0, 'norm': 1, 'pfl': 0, 'pds': 0, 'garb': 0, 'ie': 0}}, {'_id': '119/437/2015-03-08 10:50:23/1765280', 'validation': {'pvt': 0, 'ds': 0, 'fa': 0, 'norm': 0, 'pfl': 1, 'pds': 0, 'garb': 0, 'ie': 0}}, {'_id': '249300    122\\nName: patient_ID, dtype: int64/2477/2015-04-22 15:11:36/8063974', 'validation': {'pvt': 0, 'ds': 0, 'fa': 0, 'norm': 0, 'pfl': 1, 'pds': 0, 'garb': 0, 'ie': 1}}, {'_id': '119/2680/2015-03-08 13:41:00/12002402', 'validation': {'pvt': 0, 'ds': 0, 'fa': 0, 'norm': 0, 'pfl': 1, 'pds': 0, 'garb': 0, 'ie': 0}}, {'_id': '371625    122\\nName: patient_ID, dtype: int64/4360/2015-04-17 06:55:51/11892000', 'validation': {'pvt': 0, 'ds': 0, 'fa': 0, 'norm': 1, 'pfl': 0, 'pds': 0, 'garb': 0, 'ie': 0}}, {'_id': '119/5912/2015-03-09 20:09:08/16134206', 'validation': {'pvt': 0, 'ds': 0, 'fa': 0, 'norm': 0, 'pfl': 1, 'pds': 0, 'garb': 0, 'ie': 0}}, {'_id': '120/5081/2015-03-12 08:50:22/11221479', 'validation': {'pvt': 0, 'ds': 0, 'fa': 0, 'norm': 0, 'pfl': 0, 'pds': 0, 'garb': 0, 'ie': 1}}, {'_id': '177791    122\\nName: patient_ID, dtype: int64/2127/2015-04-21 00:45:23/5769232', 'validation': {'pvt': 0, 'ds': 0, 'fa': 0, 'norm': 0, 'pfl': 0, 'pds': 0, 'garb': 0, 'ie': 1}}, {'_id': '120/4105/2015-03-13 11:57:46/13644800', 'validation': {'pvt': 0, 'ds': 0, 'fa': 0, 'norm': 1, 'pfl': 0, 'pds': 0, 'garb': 0, 'ie': 0}}, {'_id': '119/2429/2015-03-11 04:16:17/7152096', 'validation': {'pvt': 0, 'ds': 0, 'fa': 0, 'norm': 0, 'pfl': 1, 'pds': 0, 'garb': 0, 'ie': 0}}, {'_id': '112/4165/2015-01-18 00:36:40/7834304', 'validation': {'pvt': 0, 'ds': 0, 'fa': 0, 'norm': 1, 'pfl': 0, 'pds': 0, 'garb': 0, 'ie': 0}}, {'_id': '120/1315/2015-03-12 15:36:54/2973017', 'validation': {'pvt': 0, 'ds': 0, 'fa': 0, 'norm': 0, 'pfl': 0, 'pds': 0, 'garb': 0, 'ie': 1}}, {'_id': '120/1710/2015-03-13 14:31:46/5685440', 'validation': {'pvt': 0, 'ds': 0, 'fa': 0, 'norm': 0, 'pfl': 1, 'pds': 0, 'garb': 0, 'ie': 0}}, {'_id': '110/6430/2014-10-17 03:14:11/20777511', 'validation': {'pvt': 0, 'ds': 0, 'fa': 0, 'norm': 1, 'pfl': 0, 'pds': 0, 'garb': 0, 'ie': 0}}, {'_id': '119/1006/2015-03-08 11:37:31/4593216', 'validation': {'pvt': 0, 'ds': 0, 'fa': 0, 'norm': 0, 'pfl': 1, 'pds': 0, 'garb': 0, 'ie': 0}}, {'_id': '119/2665/2015-03-08 18:46:50/11147680', 'validation': {'pvt': 0, 'ds': 0, 'fa': 0, 'norm': 0, 'pfl': 1, 'pds': 0, 'garb': 0, 'ie': 0}}, {'_id': '101/3296/2014-04-24 20:26:22/13507028', 'validation': {'pvt': 0, 'ds': 0, 'fa': 1, 'norm': 0, 'pfl': 1, 'pds': 0, 'garb': 0, 'ie': 0}}, {'_id': '1271984    122\\nName: patient_ID, dtype: int64/15012/2015-04-20 06:59:40/40705811', 'validation': {'pvt': 0, 'ds': 0, 'fa': 0, 'norm': 1, 'pfl': 0, 'pds': 0, 'garb': 0, 'ie': 0}}, {'_id': '112/3942/2015-01-18 00:29:37/7410880', 'validation': {'pvt': 0, 'ds': 0, 'fa': 0, 'norm': 1, 'pfl': 0, 'pds': 0, 'garb': 0, 'ie': 0}}, {'_id': '119/286/2015-03-10 20:24:49/733760', 'validation': {'pvt': 0, 'ds': 0, 'fa': 0, 'norm': 0, 'pfl': 1, 'pds': 0, 'garb': 0, 'ie': 0}}, {'_id': '122/11470/2015-04-20 04:18:38/31043260', 'validation': {'pvt': 0, 'ds': 0, 'fa': 1, 'norm': 0, 'pfl': 0, 'pds': 0, 'garb': 0, 'ie': 0}}, {'_id': '101/1602/2014-04-25 09:09:12/4639649', 'validation': {'pvt': 1, 'ds': 0, 'fa': 1, 'norm': 0, 'pfl': 1, 'pds': 0, 'garb': 0, 'ie': 0}}, {'_id': '803551    122\\nName: patient_ID, dtype: int64/9427/2015-04-18 02:36:35/25713632', 'validation': {'pvt': 0, 'ds': 0, 'fa': 0, 'norm': 1, 'pfl': 0, 'pds': 0, 'garb': 0, 'ie': 0}}, {'_id': '119/6025/2015-03-07 02:38:18/16541024', 'validation': {'pvt': 1, 'ds': 0, 'fa': 1, 'norm': 0, 'pfl': 0, 'pds': 0, 'garb': 0, 'ie': 0}}, {'_id': '113/3141/2015-01-23 12:28:29/7823328', 'validation': {'pvt': 0, 'ds': 0, 'fa': 0, 'norm': 1, 'pfl': 0, 'pds': 0, 'garb': 0, 'ie': 0}}, {'_id': '113/9162/2015-01-21 05:15:36/21636896', 'validation': {'pvt': 0, 'ds': 0, 'fa': 0, 'norm': 0, 'pfl': 1, 'pds': 0, 'garb': 0, 'ie': 0}}, {'_id': '600921    124\\nName: patient_ID, dtype: int64/4016/2015-06-03 12:22:02/19229977', 'validation': {'pvt': 0, 'ds': 0, 'fa': 0, 'norm': 0, 'pfl': 1, 'pds': 0, 'garb': 0, 'ie': 0}}, {'_id': '74997    122\\nName: patient_ID, dtype: int64/880/2015-04-17 12:39:58/2399904', 'validation': {'pvt': 0, 'ds': 0, 'fa': 0, 'norm': 1, 'pfl': 0, 'pds': 0, 'garb': 0, 'ie': 0}}, {'_id': '430593    122\\nName: patient_ID, dtype: int64/5480/2015-04-22 05:19:21/13842927', 'validation': {'pvt': 0, 'ds': 0, 'fa': 0, 'norm': 0, 'pfl': 0, 'pds': 0, 'garb': 0, 'ie': 1}}, {'_id': '120/1289/2015-03-12 19:44:56/3732358', 'validation': {'pvt': 0, 'ds': 0, 'fa': 0, 'norm': 1, 'pfl': 0, 'pds': 0, 'garb': 0, 'ie': 0}}, {'_id': '228057    124\\nName: patient_ID, dtype: int64/3017/2015-06-02 18:43:16/7326988', 'validation': {'pvt': 0, 'ds': 0, 'fa': 0, 'norm': 0, 'pfl': 1, 'pds': 0, 'garb': 0, 'ie': 0}}, {'_id': '122/2901/2015-04-19 19:16:46/7885598', 'validation': {'pvt': 0, 'ds': 0, 'fa': 0, 'norm': 1, 'pfl': 0, 'pds': 0, 'garb': 0, 'ie': 0}}, {'_id': '106/3507/2014-09-19 23:56:51/8090016', 'validation': {'pvt': 0, 'ds': 0, 'fa': 0, 'norm': 1, 'pfl': 0, 'pds': 0, 'garb': 0, 'ie': 0}}, {'_id': '112/3506/2015-01-18 00:15:57/6591040', 'validation': {'pvt': 0, 'ds': 0, 'fa': 0, 'norm': 1, 'pfl': 0, 'pds': 0, 'garb': 0, 'ie': 0}}, {'_id': '490564    122\\nName: patient_ID, dtype: int64/5270/2015-04-19 04:23:04/15699485', 'validation': {'pvt': 0, 'ds': 0, 'fa': 0, 'norm': 1, 'pfl': 0, 'pds': 0, 'garb': 0, 'ie': 0}}, {'_id': '351080    122\\nName: patient_ID, dtype: int64/4125/2015-04-19 22:48:29/11234560', 'validation': {'pvt': 0, 'ds': 0, 'fa': 0, 'norm': 1, 'pfl': 0, 'pds': 0, 'garb': 0, 'ie': 0}}, {'_id': '122/9613/2015-04-20 02:54:19/25984668', 'validation': {'pvt': 0, 'ds': 0, 'fa': 0, 'norm': 1, 'pfl': 0, 'pds': 0, 'garb': 0, 'ie': 0}}, {'_id': '112/891/2015-01-18 16:22:25/1889984', 'validation': {'pvt': 0, 'ds': 0, 'fa': 0, 'norm': 1, 'pfl': 0, 'pds': 0, 'garb': 0, 'ie': 0}}, {'_id': '119/2963/2015-03-05 16:18:56/9146310', 'validation': {'pvt': 0, 'ds': 0, 'fa': 0, 'norm': 1, 'pfl': 0, 'pds': 0, 'garb': 0, 'ie': 0}}, {'_id': '119/3633/2015-03-11 00:45:12/9059136', 'validation': {'pvt': 0, 'ds': 0, 'fa': 0, 'norm': 0, 'pfl': 1, 'pds': 0, 'garb': 0, 'ie': 0}}, {'_id': '113/7125/2015-01-21 12:59:37/13476539', 'validation': {'pvt': 0, 'ds': 0, 'fa': 0, 'norm': 0, 'pfl': 1, 'pds': 0, 'garb': 0, 'ie': 0}}, {'_id': '120/4795/2015-03-11 22:10:19/9369101', 'validation': {'pvt': 0, 'ds': 0, 'fa': 0, 'norm': 0, 'pfl': 1, 'pds': 0, 'garb': 0, 'ie': 0}}, {'_id': '119/2579/2015-03-10 23:55:16/6062880', 'validation': {'pvt': 0, 'ds': 0, 'fa': 0, 'norm': 0, 'pfl': 1, 'pds': 0, 'garb': 0, 'ie': 0}}, {'_id': '120/2087/2015-03-12 16:06:36/4754553', 'validation': {'pvt': 0, 'ds': 0, 'fa': 0, 'norm': 0, 'pfl': 1, 'pds': 0, 'garb': 0, 'ie': 0}}, {'_id': '119/17580/2015-03-06 06:59:15/51603783', 'validation': {'pvt': 0, 'ds': 0, 'fa': 0, 'norm': 1, 'pfl': 0, 'pds': 0, 'garb': 0, 'ie': 0}}, {'_id': '113/5909/2015-01-21 03:10:09/14109728', 'validation': {'pvt': 0, 'ds': 0, 'fa': 0, 'norm': 1, 'pfl': 0, 'pds': 0, 'garb': 0, 'ie': 0}}, {'_id': '119/37/2015-03-06 08:08:57/109760', 'validation': {'pvt': 0, 'ds': 0, 'fa': 0, 'norm': 1, 'pfl': 0, 'pds': 0, 'garb': 0, 'ie': 0}}, {'_id': '119/17967/2015-03-06 07:18:36/52764743', 'validation': {'pvt': 1, 'ds': 0, 'fa': 0, 'norm': 0, 'pfl': 0, 'pds': 0, 'garb': 0, 'ie': 0}}, {'_id': '119/14548/2015-03-06 04:28:44/42572711', 'validation': {'pvt': 0, 'ds': 0, 'fa': 0, 'norm': 1, 'pfl': 0, 'pds': 0, 'garb': 0, 'ie': 0}}, {'_id': '109/1184/2014-10-09 14:13:22/3600176', 'validation': {'pvt': 0, 'ds': 0, 'fa': 0, 'norm': 0, 'pfl': 0, 'pds': 0, 'garb': 0, 'ie': 1}}, {'_id': '619906    124\\nName: patient_ID, dtype: int64/4130/2015-06-03 12:32:09/19837497', 'validation': {'pvt': 0, 'ds': 0, 'fa': 0, 'norm': 0, 'pfl': 1, 'pds': 0, 'garb': 0, 'ie': 1}}, {'_id': '120/9156/2015-03-13 04:13:16/22612068', 'validation': {'pvt': 0, 'ds': 0, 'fa': 0, 'norm': 1, 'pfl': 0, 'pds': 0, 'garb': 0, 'ie': 0}}, {'_id': '110/5230/2014-10-17 02:07:42/16788039', 'validation': {'pvt': 0, 'ds': 0, 'fa': 0, 'norm': 1, 'pfl': 0, 'pds': 0, 'garb': 0, 'ie': 0}}, {'_id': '119/6497/2015-03-09 20:35:42/17727934', 'validation': {'pvt': 0, 'ds': 0, 'fa': 0, 'norm': 0, 'pfl': 1, 'pds': 0, 'garb': 0, 'ie': 0}}, {'_id': '113/3778/2015-01-21 23:03:26/7208016', 'validation': {'pvt': 0, 'ds': 0, 'fa': 0, 'norm': 1, 'pfl': 0, 'pds': 0, 'garb': 0, 'ie': 0}}, {'_id': '120/7342/2015-03-13 03:04:47/18502628', 'validation': {'pvt': 1, 'ds': 0, 'fa': 0, 'norm': 0, 'pfl': 1, 'pds': 0, 'garb': 0, 'ie': 0}}, {'_id': '122/9282/2015-04-18 23:35:14/26188695', 'validation': {'pvt': 0, 'ds': 0, 'fa': 0, 'norm': 1, 'pfl': 0, 'pds': 0, 'garb': 0, 'ie': 0}}, {'_id': '101/8222/2014-04-23 21:16:48/21023667', 'validation': {'pvt': 0, 'ds': 0, 'fa': 0, 'norm': 0, 'pfl': 1, 'pds': 0, 'garb': 0, 'ie': 0}}, {'_id': '119/1123/2015-03-09 16:37:22/3428382', 'validation': {'pvt': 0, 'ds': 0, 'fa': 0, 'norm': 0, 'pfl': 1, 'pds': 0, 'garb': 0, 'ie': 0}}, {'_id': '120/14749/2015-03-12 05:09:35/34524399', 'validation': {'pvt': 0, 'ds': 0, 'fa': 0, 'norm': 0, 'pfl': 1, 'pds': 0, 'garb': 0, 'ie': 0}}, {'_id': '231450    122\\nName: patient_ID, dtype: int64/2726/2015-04-19 19:08:48/7407806', 'validation': {'pvt': 0, 'ds': 0, 'fa': 0, 'norm': 1, 'pfl': 0, 'pds': 0, 'garb': 0, 'ie': 0}}, {'_id': '151018    124\\nName: patient_ID, dtype: int64/934/2015-06-03 08:22:05/4832780', 'validation': {'pvt': 0, 'ds': 0, 'fa': 0, 'norm': 0, 'pfl': 1, 'pds': 0, 'garb': 0, 'ie': 0}}, {'_id': '46276    122\\nName: patient_ID, dtype: int64/559/2015-04-18 16:43:26/1480832', 'validation': {'pvt': 0, 'ds': 0, 'fa': 0, 'norm': 0, 'pfl': 0, 'pds': 1, 'garb': 0, 'ie': 0}}, {'_id': '13519    122\\nName: patient_ID, dtype: int64/159/2015-04-19 17:12:33/432608', 'validation': {'pvt': 0, 'ds': 0, 'fa': 0, 'norm': 1, 'pfl': 0, 'pds': 0, 'garb': 0, 'ie': 0}}, {'_id': '122/3647/2015-04-17 22:13:53/9951456', 'validation': {'pvt': 0, 'ds': 0, 'fa': 0, 'norm': 1, 'pfl': 0, 'pds': 0, 'garb': 0, 'ie': 0}}, {'_id': '119/2728/2015-03-10 06:05:53/9529266', 'validation': {'pvt': 0, 'ds': 0, 'fa': 0, 'norm': 0, 'pfl': 1, 'pds': 0, 'garb': 0, 'ie': 0}}, {'_id': '339182    124\\nName: patient_ID, dtype: int64/3445/2015-06-02 23:13:39/10854012', 'validation': {'pvt': 0, 'ds': 0, 'fa': 0, 'norm': 0, 'pfl': 1, 'pds': 0, 'garb': 0, 'ie': 0}}, {'_id': '113/14995/2015-01-22 04:47:18/27840119', 'validation': {'pvt': 0, 'ds': 0, 'fa': 0, 'norm': 1, 'pfl': 0, 'pds': 0, 'garb': 0, 'ie': 0}}, {'_id': '122/2856/2015-04-18 07:50:51/7787072', 'validation': {'pvt': 0, 'ds': 0, 'fa': 1, 'norm': 0, 'pfl': 1, 'pds': 0, 'garb': 0, 'ie': 1}}, {'_id': '199020    122\\nName: patient_ID, dtype: int64/2651/2015-04-22 03:15:09/6390269', 'validation': {'pvt': 0, 'ds': 0, 'fa': 0, 'norm': 1, 'pfl': 0, 'pds': 0, 'garb': 0, 'ie': 0}}, {'_id': '101/3062/2014-04-23 14:31:27/7507154', 'validation': {'pvt': 0, 'ds': 0, 'fa': 0, 'norm': 0, 'pfl': 1, 'pds': 0, 'garb': 0, 'ie': 0}}, {'_id': '103/5468/2014-05-28 00:51:58/17746999', 'validation': {'pvt': 0, 'ds': 0, 'fa': 0, 'norm': 1, 'pfl': 0, 'pds': 0, 'garb': 0, 'ie': 0}}, {'_id': '103/705/2014-05-27 20:34:32/2301184', 'validation': {'pvt': 0, 'ds': 0, 'fa': 0, 'norm': 1, 'pfl': 0, 'pds': 0, 'garb': 0, 'ie': 0}}, {'_id': '92880    122\\nName: patient_ID, dtype: int64/1112/2015-04-20 23:59:23/3009415', 'validation': {'pvt': 0, 'ds': 0, 'fa': 0, 'norm': 0, 'pfl': 0, 'pds': 0, 'garb': 0, 'ie': 1}}, {'_id': '101/6179/2014-04-23 19:51:38/15913204', 'validation': {'pvt': 0, 'ds': 0, 'fa': 0, 'norm': 0, 'pfl': 1, 'pds': 0, 'garb': 0, 'ie': 0}}, {'_id': '119/7348/2015-03-07 03:41:02/20305280', 'validation': {'pvt': 0, 'ie': 1, 'fa': 0, 'norm': 0, 'pfl': 0, 'pds': 0, 'garb': 0, 'ds': 0}}, {'_id': '120/1220/2015-03-12 15:33:44/2782937', 'validation': {'pvt': 0, 'ie': 0, 'fa': 0, 'norm': 0, 'pfl': 0, 'pds': 0, 'garb': 0, 'ds': 1}}, {'_id': '120/2300/2015-03-13 15:04:31/7650240', 'validation': {'pvt': 0, 'ie': 0, 'fa': 0, 'norm': 1, 'pfl': 0, 'pds': 0, 'garb': 0, 'ds': 0}}, {'_id': '110/4277/2014-10-21 16:06:30/8949472', 'validation': {'pvt': 0, 'ie': 1, 'fa': 1, 'norm': 0, 'pfl': 0, 'pds': 0, 'garb': 0, 'ds': 0}}, {'_id': '120/5167/2015-03-12 18:29:03/13301689', 'validation': {'pvt': 0, 'ie': 0, 'fa': 0, 'norm': 0, 'pfl': 0, 'pds': 0, 'garb': 0, 'ds': 1}}, {'_id': '119/4187/2015-03-11 05:31:37/11672320', 'validation': {'pvt': 0, 'ie': 0, 'fa': 0, 'norm': 0, 'pfl': 0, 'pds': 0, 'garb': 0, 'ds': 1}}, {'_id': '120/4167/2015-03-13 12:01:13/13851392', 'validation': {'pvt': 0, 'ie': 0, 'fa': 0, 'norm': 1, 'pfl': 0, 'pds': 0, 'garb': 0, 'ds': 0}}, {'_id': '119/2432/2015-03-05 15:54:02/7652902', 'validation': {'pvt': 0, 'ie': 0, 'fa': 0, 'norm': 1, 'pfl': 0, 'pds': 0, 'garb': 0, 'ds': 0}}, {'_id': '122/3686/2015-04-18 08:26:21/9917856', 'validation': {'pvt': 0, 'ie': 0, 'fa': 0, 'norm': 0, 'pfl': 0, 'pds': 0, 'garb': 1, 'ds': 0}}, {'_id': '769785    124\\nName: patient_ID, dtype: int64/5643/2015-06-04 20:16:51/24633120', 'validation': {'pvt': 0, 'ie': 0, 'fa': 0, 'norm': 0, 'pfl': 1, 'pds': 0, 'garb': 0, 'ds': 0}}, {'_id': '285289    122\\nName: patient_ID, dtype: int64/3369/2015-04-19 15:50:58/9129248', 'validation': {'pvt': 0, 'ie': 1, 'fa': 0, 'norm': 0, 'pfl': 0, 'pds': 0, 'garb': 0, 'ds': 0}}, {'_id': '119/2012/2015-03-10 09:35:35/4427232', 'validation': {'pvt': 0, 'ie': 0, 'fa': 0, 'norm': 0, 'pfl': 1, 'pds': 0, 'garb': 0, 'ds': 0}}, {'_id': '119/4323/2015-03-10 17:57:57/9417088', 'validation': {'pvt': 0, 'ie': 0, 'fa': 0, 'norm': 0, 'pfl': 1, 'pds': 0, 'garb': 0, 'ds': 0}}, {'_id': '119/3526/2015-03-10 06:43:18/11774482', 'validation': {'pvt': 0, 'ie': 1, 'fa': 0, 'norm': 0, 'pfl': 1, 'pds': 0, 'garb': 0, 'ds': 0}}, {'_id': '120/4918/2015-03-13 12:42:52/16350432', 'validation': {'pvt': 0, 'ie': 0, 'fa': 0, 'norm': 1, 'pfl': 0, 'pds': 0, 'garb': 0, 'ds': 0}}, {'_id': '427027    122\\nName: patient_ID, dtype: int64/5161/2015-04-22 10:37:40/13792241', 'validation': {'pvt': 0, 'ie': 0, 'fa': 0, 'norm': 0, 'pfl': 1, 'pds': 0, 'garb': 0, 'ds': 0}}, {'_id': '106/891/2014-09-19 22:16:17/2055712', 'validation': {'pvt': 0, 'ie': 0, 'fa': 0, 'norm': 1, 'pfl': 0, 'pds': 0, 'garb': 0, 'ds': 0}}, {'_id': '122/1020/2015-04-18 15:17:43/2783520', 'validation': {'pvt': 0, 'ie': 0, 'fa': 0, 'norm': 1, 'pfl': 0, 'pds': 0, 'garb': 0, 'ds': 0}}, {'_id': '113/1253/2015-01-20 22:06:10/3130784', 'validation': {'pvt': 0, 'ie': 0, 'fa': 0, 'norm': 1, 'pfl': 0, 'pds': 0, 'garb': 0, 'ds': 0}}, {'_id': '122/1574/2015-04-19 20:52:44/4289184', 'validation': {'pvt': 0, 'ie': 0, 'fa': 0, 'norm': 1, 'pfl': 0, 'pds': 0, 'garb': 0, 'ds': 0}}, {'_id': '113/4618/2015-01-21 09:09:04/9325577', 'validation': {'pvt': 1, 'ie': 0, 'fa': 0, 'norm': 0, 'pfl': 0, 'pds': 0, 'garb': 0, 'ds': 0}}, {'_id': '120/4203/2015-03-13 16:50:08/13987296', 'validation': {'pvt': 0, 'ie': 0, 'fa': 0, 'norm': 1, 'pfl': 0, 'pds': 0, 'garb': 0, 'ds': 0}}, {'_id': '113/597/2015-01-20 13:41:27/1489152', 'validation': {'pvt': 0, 'ie': 0, 'fa': 0, 'norm': 1, 'pfl': 0, 'pds': 0, 'garb': 0, 'ds': 0}}, {'_id': '120/4370/2015-03-12 17:50:26/10985177', 'validation': {'pvt': 0, 'ie': 1, 'fa': 0, 'norm': 0, 'pfl': 0, 'pds': 0, 'garb': 0, 'ds': 0}}, {'_id': '119/14219/2015-03-06 04:12:27/41595143', 'validation': {'pvt': 0, 'ie': 0, 'fa': 0, 'norm': 1, 'pfl': 0, 'pds': 0, 'garb': 0, 'ds': 0}}, {'_id': '119/5931/2015-03-07 02:33:52/16275648', 'validation': {'pvt': 0, 'ie': 0, 'fa': 0, 'norm': 1, 'pfl': 0, 'pds': 0, 'garb': 0, 'ds': 0}}, {'_id': '980796    122\\nName: patient_ID, dtype: int64/11507/2015-04-18 04:11:07/31385472', 'validation': {'pvt': 0, 'ie': 0, 'fa': 0, 'norm': 1, 'pfl': 0, 'pds': 0, 'garb': 0, 'ds': 0}}, {'_id': '119/4217/2015-03-06 11:32:02/12294560', 'validation': {'pvt': 0, 'ie': 0, 'fa': 0, 'norm': 1, 'pfl': 0, 'pds': 0, 'garb': 0, 'ds': 0}}, {'_id': '113/1233/2015-01-23 11:09:24/3078304', 'validation': {'pvt': 0, 'ie': 0, 'fa': 0, 'norm': 1, 'pfl': 0, 'pds': 0, 'garb': 0, 'ds': 0}}, {'_id': '122/6946/2015-04-19 05:39:17/20271741', 'validation': {'pvt': 0, 'ie': 0, 'fa': 0, 'norm': 1, 'pfl': 0, 'pds': 0, 'garb': 0, 'ds': 0}}, {'_id': '119/848/2015-03-10 15:49:47/1726144', 'validation': {'pvt': 0, 'ie': 0, 'fa': 0, 'norm': 0, 'pfl': 1, 'pds': 0, 'garb': 0, 'ds': 0}}, {'_id': '109/156/2014-10-09 14:34:11/517088', 'validation': {'pvt': 0, 'ie': 1, 'fa': 0, 'norm': 0, 'pfl': 0, 'pds': 0, 'garb': 0, 'ds': 0}}, {'_id': '153415    124\\nName: patient_ID, dtype: int64/1313/2015-06-05 09:34:55/4909280', 'validation': {'pvt': 0, 'ie': 0, 'fa': 0, 'norm': 0, 'pfl': 1, 'pds': 0, 'garb': 0, 'ds': 0}}, {'_id': '122/5851/2015-04-17 23:54:10/15967872', 'validation': {'pvt': 0, 'ie': 0, 'fa': 0, 'norm': 1, 'pfl': 0, 'pds': 0, 'garb': 0, 'ds': 0}}, {'_id': '113/4358/2015-01-22 08:56:41/8525373', 'validation': {'pvt': 0, 'ie': 0, 'fa': 0, 'norm': 1, 'pfl': 0, 'pds': 0, 'garb': 0, 'ds': 0}}, {'_id': '112/681/2015-01-18 16:14:59/1443552', 'validation': {'pvt': 0, 'ie': 0, 'fa': 0, 'norm': 1, 'pfl': 0, 'pds': 0, 'garb': 0, 'ds': 0}}, {'_id': '374519    122\\nName: patient_ID, dtype: int64/4481/2015-04-18 19:38:30/11984608', 'validation': {'pvt': 0, 'ie': 0, 'fa': 0, 'norm': 1, 'pfl': 0, 'pds': 0, 'garb': 0, 'ds': 0}}, {'_id': '120/13983/2015-03-12 04:41:36/32846287', 'validation': {'pvt': 0, 'ie': 0, 'fa': 0, 'norm': 1, 'pfl': 0, 'pds': 0, 'garb': 0, 'ds': 0}}, {'_id': '110/706/2014-10-16 22:03:04/2110464', 'validation': {'pvt': 0, 'ie': 0, 'fa': 0, 'norm': 0, 'pfl': 1, 'pds': 0, 'garb': 0, 'ds': 0}}, {'_id': '113/5973/2015-01-22 00:15:09/11510908', 'validation': {'pvt': 0, 'ie': 0, 'fa': 0, 'norm': 0, 'pfl': 1, 'pds': 0, 'garb': 0, 'ds': 0}}, {'_id': '120/7739/2015-03-12 00:08:05/16434409', 'validation': {'pvt': 0, 'ie': 0, 'fa': 0, 'norm': 1, 'pfl': 0, 'pds': 0, 'garb': 0, 'ds': 0}}, {'_id': '109/3792/2014-10-09 20:26:39/12341778', 'validation': {'pvt': 0, 'ie': 0, 'fa': 0, 'norm': 1, 'pfl': 0, 'pds': 0, 'garb': 0, 'ds': 0}}, {'_id': '110/5022/2014-10-21 16:34:20/10620224', 'validation': {'pvt': 0, 'ie': 0, 'fa': 0, 'norm': 1, 'pfl': 0, 'pds': 0, 'garb': 0, 'ds': 0}}, {'_id': '119/3187/2015-03-08 00:58:03/15409183', 'validation': {'pvt': 0, 'ie': 0, 'fa': 0, 'norm': 1, 'pfl': 0, 'pds': 0, 'garb': 0, 'ds': 0}}, {'_id': '120/4495/2015-03-13 01:02:32/11167840', 'validation': {'pvt': 0, 'ie': 1, 'fa': 0, 'norm': 0, 'pfl': 0, 'pds': 0, 'garb': 0, 'ds': 0}}, {'_id': '417714    124\\nName: patient_ID, dtype: int64/2836/2015-06-03 10:44:19/13367353', 'validation': {'pvt': 0, 'ie': 0, 'fa': 0, 'norm': 0, 'pfl': 1, 'pds': 0, 'garb': 0, 'ds': 0}}, {'_id': '122/8578/2015-04-18 23:00:02/24076599', 'validation': {'pvt': 0, 'ie': 0, 'fa': 0, 'norm': 1, 'pfl': 0, 'pds': 0, 'garb': 0, 'ds': 0}}, {'_id': '120/2438/2015-03-12 10:37:08/5305693', 'validation': {'pvt': 0, 'ie': 1, 'fa': 0, 'norm': 0, 'pfl': 0, 'pds': 0, 'garb': 0, 'ds': 0}}, {'_id': '119/4428/2015-03-10 11:04:45/9776960', 'validation': {'pvt': 0, 'ie': 0, 'fa': 0, 'norm': 0, 'pfl': 1, 'pds': 0, 'garb': 0, 'ds': 0}}, {'_id': '112/2875/2015-01-18 06:23:02/6150720', 'validation': {'pvt': 0, 'ie': 1, 'fa': 0, 'norm': 0, 'pfl': 0, 'pds': 0, 'garb': 0, 'ds': 0}}, {'_id': '113/3799/2015-01-22 11:46:17/7317625', 'validation': {'pvt': 0, 'ie': 0, 'fa': 0, 'norm': 1, 'pfl': 0, 'pds': 0, 'garb': 0, 'ds': 0}}, {'_id': '119/6599/2015-03-09 20:40:09/17995518', 'validation': {'pvt': 0, 'ie': 0, 'fa': 0, 'norm': 0, 'pfl': 1, 'pds': 0, 'garb': 0, 'ds': 0}}, {'_id': '100606    122\\nName: patient_ID, dtype: int64/1184/2015-04-19 14:12:29/3219392', 'validation': {'pvt': 0, 'ie': 1, 'fa': 0, 'norm': 0, 'pfl': 1, 'pds': 0, 'garb': 0, 'ds': 0}}, {'_id': '113/5590/2015-01-20 20:05:04/13323008', 'validation': {'pvt': 0, 'ie': 0, 'fa': 0, 'norm': 0, 'pfl': 1, 'pds': 0, 'garb': 0, 'ds': 0}}, {'_id': '110/6964/2014-10-19 02:09:08/16445545', 'validation': {'pvt': 0, 'ie': 0, 'fa': 0, 'norm': 0, 'pfl': 1, 'pds': 0, 'garb': 0, 'ds': 0}}, {'_id': '119/2845/2015-03-06 10:24:29/8241152', 'validation': {'pvt': 0, 'ie': 0, 'fa': 0, 'norm': 1, 'pfl': 0, 'pds': 0, 'garb': 0, 'ds': 0}}, {'_id': '7630    124\\nName: patient_ID, dtype: int64/78/2015-06-02 16:45:13/244277', 'validation': {'pvt': 0, 'ie': 0, 'fa': 0, 'norm': 0, 'pfl': 1, 'pds': 0, 'garb': 0, 'ds': 0}}, {'_id': '110/7997/2014-10-17 04:40:19/25945740', 'validation': {'pvt': 0, 'ie': 0, 'fa': 0, 'norm': 1, 'pfl': 0, 'pds': 0, 'garb': 0, 'ds': 0}}, {'_id': '998876    122\\nName: patient_ID, dtype: int64/11719/2015-04-18 04:20:46/31964032', 'validation': {'pvt': 0, 'ie': 0, 'fa': 0, 'norm': 1, 'pfl': 0, 'pds': 0, 'garb': 0, 'ds': 0}}, {'_id': '119/9148/2015-03-09 07:34:36/36202466', 'validation': {'pvt': 0, 'ie': 0, 'fa': 0, 'norm': 0, 'pfl': 1, 'pds': 0, 'garb': 0, 'ds': 0}}, {'_id': '120/6471/2015-03-11 23:05:48/12697677', 'validation': {'pvt': 0, 'ie': 0, 'fa': 0, 'norm': 1, 'pfl': 0, 'pds': 0, 'garb': 0, 'ds': 0}}, {'_id': '120/6224/2015-03-13 02:16:50/15626144', 'validation': {'pvt': 0, 'ie': 1, 'fa': 0, 'norm': 0, 'pfl': 0, 'pds': 0, 'garb': 0, 'ds': 0}}, {'_id': '838353    122\\nName: patient_ID, dtype: int64/9835/2015-04-18 02:55:09/26827296', 'validation': {'pvt': 0, 'ie': 0, 'fa': 0, 'norm': 1, 'pfl': 0, 'pds': 0, 'garb': 0, 'ds': 0}}, {'_id': '1081918    124\\nName: patient_ID, dtype: int64/8405/2015-06-04 23:03:26/34628502', 'validation': {'pvt': 0, 'ie': 0, 'fa': 0, 'norm': 0, 'pfl': 1, 'pds': 0, 'garb': 0, 'ds': 0}}, {'_id': '112/2224/2015-01-17 19:39:38/3600384', 'validation': {'pvt': 0, 'ie': 0, 'fa': 0, 'norm': 0, 'pfl': 1, 'pds': 0, 'garb': 0, 'ds': 0}}, {'_id': '122/3110/2015-04-17 21:49:27/8485536', 'validation': {'pvt': 0, 'ie': 0, 'fa': 0, 'norm': 1, 'pfl': 0, 'pds': 0, 'garb': 0, 'ds': 0}}, {'_id': '113/4341/2015-01-21 23:21:47/8309133', 'validation': {'pvt': 0, 'ie': 0, 'fa': 0, 'norm': 1, 'pfl': 0, 'pds': 0, 'garb': 0, 'ds': 0}}, {'_id': '120/2000/2015-03-11 12:34:25/4365984', 'validation': {'pvt': 0, 'ie': 0, 'fa': 0, 'norm': 0, 'pfl': 1, 'pds': 0, 'garb': 0, 'ds': 0}}, {'_id': '109/1309/2014-10-09 12:41:34/4355008', 'validation': {'pvt': 0, 'ie': 0, 'fa': 0, 'norm': 1, 'pfl': 0, 'pds': 0, 'garb': 0, 'ds': 0}}]\n"
     ]
    }
   ],
   "source": [
    "print(list(train_db.find({'validation':{'$exists':1}}, {'validation':1})))"
   ]
  },
  {
   "cell_type": "code",
   "execution_count": null,
   "metadata": {
    "collapsed": true
   },
   "outputs": [],
   "source": []
  }
 ],
 "metadata": {
  "kernelspec": {
   "display_name": "Python 3",
   "language": "python",
   "name": "python3"
  },
  "language_info": {
   "codemirror_mode": {
    "name": "ipython",
    "version": 3
   },
   "file_extension": ".py",
   "mimetype": "text/x-python",
   "name": "python",
   "nbconvert_exporter": "python",
   "pygments_lexer": "ipython3",
   "version": "3.5.1"
  }
 },
 "nbformat": 4,
 "nbformat_minor": 0
}
