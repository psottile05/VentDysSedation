{
 "cells": [
  {
   "cell_type": "code",
   "execution_count": 1,
   "metadata": {},
   "outputs": [],
   "source": [
    "from pymongo import MongoClient\n",
    "import pymongo\n",
    "import pandas as pd\n",
    "import numpy as np\n",
    "import pprint\n",
    "import os\n",
    "from odo import odo"
   ]
  },
  {
   "cell_type": "code",
   "execution_count": 2,
   "metadata": {},
   "outputs": [],
   "source": [
    "client = MongoClient()\n",
    "db = client.VentDyssynchrony_db\n",
    "breath_data = db.BreathData_collection\n",
    "patient_data = db.PatientData_collection\n",
    "RN_data = db.RNData_collection\n",
    "RT_data = db.RTData_collection\n",
    "Lab_data = db.LabData_collection"
   ]
  },
  {
   "cell_type": "code",
   "execution_count": 3,
   "metadata": {},
   "outputs": [
    {
     "name": "stdout",
     "output_type": "stream",
     "text": [
      "['P100', 'P101', 'P102', 'P103', 'P104', 'P105', 'P106', 'P107', 'P108', 'P109', 'P110', 'P112', 'P113', 'P114', 'P115', 'P116', 'P117', 'P118', 'P119', 'P120', 'P121', 'P122']\n"
     ]
    }
   ],
   "source": [
    "patients = patient_data.distinct('_id')\n",
    "print(patients)\n",
    "#patients = ['P100']\n",
    "\n",
    "#path = 'e:\\Research_Data\\Vent_Dyssynchrony\\Data\\Davids_Data\\\\'\n",
    "path = '/media/veracrypt1/Research_Data/Vent_Dyssynchrony/Data/Davids_Data/'"
   ]
  },
  {
   "cell_type": "code",
   "execution_count": 4,
   "metadata": {},
   "outputs": [],
   "source": [
    "all_lab_types= {'Lab_entry: nucleated cell count csf', 'Lab_entry: absolute neutrophil count', 'Lab_entry: eosinophils', \n",
    "            'Lab_entry: haptoglobin serum', 'Lab_entry: monocytes', 'Lab_entry: hyaline casts', 'Lab_entry: immature granulocyte absolute',\n",
    "            'Lab_entry: adenovirus pcr plasma', 'Lab_entry: specific gravity urine c500', 'Lab_entry: screening culture', \n",
    "            'Lab_entry: white blood cells urine', 'Lab_entry:act partial thromboplastin tme', 'Lab_entry: culture for identification', \n",
    "            'Lab_entry: hsv type 1 and/or 2 abs - igm', 'Lab_entry: protein total bf', 'Lab_entry: cryo # of units prepared', \n",
    "            'Lab_entry: afp tumor marker', 'Lab_entry: herpes (hsv) culture', 'Lab_entry: i stat creatinine', \n",
    "            'Lab_entry: act partial thromboplastin tme', 'Lab_entry: reticulocyte percentage', 'Lab_entry: glucose urine iris', \n",
    "            'Lab_entry: bk virus pcr plasma', 'Lab_entry: ionized calcium whole blood', 'Lab_entry: po2 arterial', \n",
    "            'Lab_entry: vancomycin trough', 'Lab_entry: fibrinogen', 'Lab_entry:DateTime', 'Lab_entry: epstein-barr virus quant pcr', \n",
    "            'Lab_entry: prealbumn serum', 'Lab_entry: gamma glutamyltransferase', 'Lab_entry: mesothelial cells body fluid', \n",
    "            'Lab_entry: procalcitonin', 'Lab_entry: white blood cells per hpf', 'Lab_entry: a1c glycohemoglobin', \n",
    "            'Lab_entry: metamyelocytes', 'Lab_entry: total iron binding capacity', 'Lab_entry: glucose random serum/plasma', \n",
    "            'Lab_entry: glucose urine c500', 'Lab_entry: absolute lymphocyte count', 'Lab_entry: phosphorus serum/plasma', \n",
    "            'Lab_entry: poc troponin i', 'Lab_entry: carbon dioxide', 'Lab_entry: target cells', 'Lab_entry:a1c glycohemoglobin', \n",
    "            'Lab_entry: po2 venous', 'Lab_entry: r axis', 'Lab_entry: i stat venous pco2', 'Lab_entry: lactate dehydrogenase', \n",
    "            'Lab_entry: absolute basophil count', 'Lab_entry: p-r interval', 'Lab_entry: cellular casts', \n",
    "            'Lab_entry: plt # of units prepared', 'Lab_entry: hepatitis b surface antibody', 'Lab_entry: osmolality urine', \n",
    "            'Lab_entry: lipase plasma', 'Lab_entry: oxygen index', 'Lab_entry:index', 'Lab_entry: lymph percent', \n",
    "            'Lab_entry: lactate whole blood venous', 'Lab_entry: coccidioides antibodies igm', 'Lab_entry: red blood cell ct body fluid', \n",
    "            'Lab_entry: potassium serum/plasma', 'Lab_entry: absolute lymphocytes', 'Lab_entry: volume csf', 'Lab_entry: non hdl cholesterol', \n",
    "            'Lab_entry: fungus culture', 'Lab_entry: brucella antibody', 'Lab_entry: white blood cell count', 'Lab_entry: total co2', \n",
    "            'Lab_entry: tsh ultrasensitive', 'Lab_entry: hemoglobin', 'Lab_entry: albumin bf', 'Lab_entry: i stat venous hco3', \n",
    "            'Lab_entry: alk phos serum/plasma', 'Lab_entry: low density lipoprotein chol', 'Lab_entry: bilirubin indirect', \n",
    "            'Lab_entry: nrbc percent', 'Lab_entry: anti-soluble liver antigen igg', 'Lab_entry: hepatitis c virus genotype', \n",
    "            'Lab_entry: reactive lymphocytes', 'Lab_entry: alpha-1 antitrypsin level', 'Lab_entry: bicarbonate venous', \n",
    "            'Lab_entry: bands body fluid', 'Lab_entry: bicarbonate arterial', 'Lab_entry: i stat arterial po2', \n",
    "            'Lab_entry: coccidioides antibodies igg', 'Lab_entry: respiratory culture', 'Lab_entry: i stat urea nitrogen', \n",
    "            'Lab_entry: potassium random urine', 'Lab_entry: pco2 arterial', 'Lab_entry: eosinophil percent', 'Lab_entry: folate', \n",
    "            'Lab_entry: alanine aminotransferase', 'Lab_entry: red cell distribution width sd', 'Lab_entry: csf tube number', \n",
    "            'Lab_entry: measured o2sat arterial', 'Lab_entry: segmented neutrophils', 'Lab_entry: mean airway pressure', \n",
    "            'Lab_entry: unsat iron binding capacity', 'Lab_entry: alpha-1-antitrypsin', 'Lab_entry: lymphocytes', \n",
    "            'Lab_entry: absolute basophils', 'Lab_entry: red blood cells urine', 'Lab_entry: breath alcohol', \n",
    "            'Lab_entry: giardia/cryptosporidium ag', 'Lab_entry: lymphocytes csf', 'Lab_entry: specific gravity urine iris', \n",
    "            'Lab_entry: vitamin b12', 'Lab_entry: estimated average glucose', 'Lab_entry:absolute lymphocytes', \n",
    "            'Lab_entry:% saturation', 'Lab_entry:absolute eosinophils', 'Lab_entry: hypochromasia', 'Lab_entry: fio2 arterial', \n",
    "            'Lab_entry: pco2 venous', 'Lab_entry: gs', 'Lab_entry: ethanol blood', 'Lab_entry: glucose body fluid', \n",
    "            'Lab_entry: sedimentation rate', 'Lab_entry: monocytes/macrophages csf', 'Lab_entry: i stat venous po2', \n",
    "            'Lab_entry: i stat tco2', 'Lab_entry: ferritin serum/plasma', 'Lab_entry: blood culture', \n",
    "            'Lab_entry: high density lipoprotein chol', 'Lab_entry: cholesterol', 'Lab_entry: cortisol', \n",
    "            'Lab_entry: triglycerides', 'Lab_entry: volume body fluid', 'Lab_entry: red blood cell count csf', \n",
    "            'Lab_entry: neutrophil percent', 'Lab_entry: urea random urine', 'Lab_entry: protein total csf', \n",
    "            'Lab_entry: chloride serum/plasma', 'Lab_entry: congestive heart failure bnp', 'Lab_entry: base excess venous', \n",
    "            'Lab_entry: polychromasia', 'Lab_entry: csf culture', 'Lab_entry: coccidioides ab by comp fix', 'Lab_entry: thrombin time', \n",
    "            \"Lab_entry: urine culture cont'd\", 'Lab_entry: anisocytosis', 'Lab_entry: temperature venous', 'Lab_entry: magnesium serum', \n",
    "            'Lab_entry: gentamicin peak', 'Lab_entry: total co2 arterial', 'Lab_entry: protein urine', 'Lab_entry: ph urine', \n",
    "            'Lab_entry: eosinophils body fluid', 'Lab_entry: chloride random urine', 'Lab_entry: international normalized ratio', \n",
    "            'Lab_entry: platelet count', 'Lab_entry: temperature arterial', 'Lab_entry: i stat art pco2', 'Lab_entry: d dimer', \n",
    "            'Lab_entry:absolute basophils', 'Lab_entry: hematocrit', 'Lab_entry: qtc', 'Lab_entry: i stat arterial be',\n",
    "            'Lab_entry: epstein-barr pcr blood', 'Lab_entry: hiv quant pcr', 'Lab_entry: burr cells', 'Lab_entry: absolute neutrophils', \n",
    "            'Lab_entry: reticulocyte absolute calc', 'Lab_entry: aspartate aminotransferase', 'Lab_entry: lactate dehydrogenase body fl',\n",
    "            'Lab_entry: absolute eosinophil count', 'Lab_entry: other mononuclear cells bf', 'Lab_entry: uric acid serum', \n",
    "            'Lab_entry: sirolimus level', 'Lab_entry: lactate whole blood arterial', 'Lab_entry: estradiol', 'Lab_entry: c-reactive protein',\n",
    "            'Lab_entry: atrial rate', 'Lab_entry: bilirubin total', 'Lab_entry: bands', 'Lab_entry: i stat sodium', \n",
    "            'Lab_entry: plasma # of units prepared', 'Lab_entry: protein total serum/plasma', 'Lab_entry: troponin i', \n",
    "            'Lab_entry: myelocyte', 'Lab_entry: mean platelet volume', 'Lab_entry: blood urea nitrogen', 'Lab_entry: nrbc absolute', \n",
    "            'Lab_entry: vancomycin', 'Lab_entry: monocyte percent', 'Lab_entry: i stat troponin', 'Lab_entry: oxygen', \n",
    "            'Lab_entry: qrs duration', 'Lab_entry: transferrin', 'Lab_entry: glycated hemoglobin - a1c', 'Lab_entry: ph venous', \n",
    "            'Lab_entry: basophil body fluid', 'Lab_entry: sodium random urine', 'Lab_entry: iron serum', 'Lab_entry: absolute monocytes', \n",
    "            'Lab_entry: red blood cell count', 'Lab_entry:alanine aminotransferase', 'Lab_entry: i stat glucose', \n",
    "            'Lab_entry: segmented neutrophils csf', 'Lab_entry: bands csf', 'Lab_entry: crossmatched # of units', \n",
    "            'Lab_entry: i stat venous ph', 'Lab_entry: urobilinogen urine', 'Lab_entry: red cell distribution width cv', \n",
    "            'Lab_entry: istat arterial tco2', 'Lab_entry: reticulocyte hemoglobin equiva', 'Lab_entry: nucleated cells fluid', \n",
    "            'Lab_entry: irf', 'Lab_entry: adenovirus by pcr', 'Lab_entry: lymphoctyes body fluid', 'Lab_entry: t axis', 'entry_number', \n",
    "            'Lab_entry: i stat potassium', 'Lab_entry: specimen expiration date', 'Lab_entry: measured o2sat mixed venous', \n",
    "            'Lab_entry: ketones urine', 'Lab_entry: granular casts', 'Lab_entry: body fluid culture', 'Lab_entry: ceruloplasmin', \n",
    "            'Lab_entry: acetaminophen bld', 'Lab_entry: i stat venous so2', 'Lab_entry: howell jolly bodies', \n",
    "            'Lab_entry: body fld culture - anaerobic', 'Lab_entry: i stat arterial so2', 'Lab_entry: cystatin c', \n",
    "            'Lab_entry: tobramycin random', 'Lab_entry: ph body fluid', 'Lab_entry: sodiumserum/plasma', \n",
    "            'Lab_entry: creatinine random urine', 'Lab_entry: immature granulocyte percent', 'Lab_entry: calcium serum/plasma', \n",
    "            'patientID', 'Lab_entry: bilirubin direct', 'Lab_entry: glucose cerebrospinal fluid', \n",
    "            'Lab_entry: thyroxine/t4 free', 'Lab_entry: prothrombin time', 'Lab_entry: creatine kinase', 'Lab_entry: creatinine serum/plasma', \n",
    "            'Lab_entry: %cd4+ t cells', 'Lab_entry: ammonia plasma', 'Lab_entry: p axis', 'Lab_entry: ph arterial', \n",
    "            'Lab_entry: mean corpuscular volume', 'Lab_entry: microcytes', 'Lab_entry: eosinophil% urine', 'Lab_entry: schistocytes', \n",
    "            'Lab_entry: creatine kinase - mb', 'Lab_entry: hepatitis c quant pcr', 'Lab_entry: ventricular rate', 'Lab_entry: basophils', \n",
    "            'Lab_entry: i stat chloride', 'Lab_entry: mean corpuscular hgb concentrn', 'entry_time', 'Lab_entry: asp galactomannan index', \n",
    "            'Lab_entry: qt', 'Lab_entry: culture resp cystic fibrosis', 'Lab_entry: mean corpuscular hgb', 'Lab_entry: absolute monocyte count',\n",
    "            'Lab_entry: albumin', 'Lab_entry:absolute basophil count', 'Lab_entry: subunit id', 'Lab_entry: i stat arterial ph', \n",
    "            'Lab_entry: anion gap', 'Lab_entry: base excess arterial', 'Lab_entry: macrocytes', 'Lab_entry: i stat arterial hco3', \n",
    "            'Lab_entry: monocytes/macrophages bf', 'Lab_entry: osmolality serum', 'Lab_entry: absolute eosinophils', \n",
    "            'Lab_entry: stool culture', 'Lab_entry: protein random urine', 'Lab_entry: csf culture - anaerobic', \n",
    "            'Lab_entry: basophil percent', 'Lab_entry: i stat venous tco2', 'Lab_entry: point of care glucose'}\n",
    "\n",
    "key_lab_types= {'Lab_entry: nucleated cell count csf', 'Lab_entry: absolute neutrophil count', 'Lab_entry: eosinophils', \n",
    "            'Lab_entry: haptoglobin serum', \n",
    "            'Lab_entry: white blood cells urine', 'Lab_entry:act partial thromboplastin tme', \n",
    "            'Lab_entry: protein total bf', \n",
    "            'Lab_entry: i stat creatinine', \n",
    "            'Lab_entry: act partial thromboplastin tme', 'Lab_entry: reticulocyte percentage', \n",
    "            'Lab_entry: ionized calcium whole blood', 'Lab_entry: po2 arterial', \n",
    "            'Lab_entry: vancomycin trough', 'Lab_entry: fibrinogen',\n",
    "            'Lab_entry: prealbumn serum', 'Lab_entry: gamma glutamyltransferase', \n",
    "            'Lab_entry: procalcitonin', 'Lab_entry: a1c glycohemoglobin', \n",
    "            'Lab_entry: total iron binding capacity', 'Lab_entry: glucose random serum/plasma', \n",
    "            'Lab_entry: absolute lymphocyte count', 'Lab_entry: phosphorus serum/plasma', \n",
    "            'Lab_entry: poc troponin i', 'Lab_entry: carbon dioxide', 'Lab_entry:a1c glycohemoglobin', \n",
    "            'Lab_entry: po2 venous', 'Lab_entry: i stat venous pco2', 'Lab_entry: lactate dehydrogenase',\n",
    "            'Lab_entry: osmolality urine', \n",
    "            'Lab_entry: lipase plasma',\n",
    "            'Lab_entry: lactate whole blood venous', \n",
    "            'Lab_entry: potassium serum/plasma', 'Lab_entry: absolute lymphocytes',\n",
    "            'Lab_entry: white blood cell count', 'Lab_entry: total co2', \n",
    "            'Lab_entry: tsh ultrasensitive', 'Lab_entry: hemoglobin', 'Lab_entry: albumin bf', 'Lab_entry: i stat venous hco3', \n",
    "            'Lab_entry: alk phos serum/plasma', 'Lab_entry: bilirubin indirect', \n",
    "            'Lab_entry: bicarbonate venous', \n",
    "            'Lab_entry: bands body fluid', 'Lab_entry: bicarbonate arterial', 'Lab_entry: i stat arterial po2', \n",
    "            'Lab_entry: i stat urea nitrogen', \n",
    "            'Lab_entry: pco2 arterial', 'Lab_entry: eosinophil percent', 'Lab_entry: folate', \n",
    "            'Lab_entry: alanine aminotransferase',\n",
    "            'Lab_entry: measured o2sat arterial', 'Lab_entry: segmented neutrophils', \n",
    "            'Lab_entry: unsat iron binding capacity', 'Lab_entry: lymphocytes', \n",
    "            'Lab_entry: absolute basophils', 'Lab_entry: red blood cells urine', 'Lab_entry: breath alcohol', \n",
    "            'Lab_entry: lymphocytes csf', 'Lab_entry: specific gravity urine iris', \n",
    "            'Lab_entry:absolute lymphocytes', \n",
    "            'Lab_entry:% saturation', 'Lab_entry:absolute eosinophils', 'Lab_entry: fio2 arterial', \n",
    "            'Lab_entry: pco2 venous', 'Lab_entry: ethanol blood', 'Lab_entry: glucose body fluid', \n",
    "            'Lab_entry: sedimentation rate', 'Lab_entry: i stat venous po2', \n",
    "            'Lab_entry: i stat tco2', 'Lab_entry: ferritin serum/plasma',  \n",
    "            'Lab_entry: cortisol', \n",
    "            'Lab_entry: red blood cell count csf', \n",
    "            'Lab_entry: neutrophil percent', 'Lab_entry: urea random urine', 'Lab_entry: protein total csf', \n",
    "            'Lab_entry: chloride serum/plasma', 'Lab_entry: congestive heart failure bnp', 'Lab_entry: base excess venous', \n",
    "            'Lab_entry: polychromasia', 'Lab_entry: thrombin time', \n",
    "            'Lab_entry: magnesium serum', \n",
    "            'Lab_entry: gentamicin peak', 'Lab_entry: total co2 arterial', 'Lab_entry: protein urine', 'Lab_entry: ph urine', \n",
    "            'Lab_entry: eosinophils body fluid', 'Lab_entry: chloride random urine', 'Lab_entry: international normalized ratio', \n",
    "            'Lab_entry: platelet count', 'Lab_entry: i stat art pco2', 'Lab_entry: d dimer', \n",
    "            'Lab_entry: hematocrit', 'Lab_entry: i stat arterial be',\n",
    "            'Lab_entry: hiv quant pcr', 'Lab_entry: absolute neutrophils', \n",
    "            'Lab_entry: reticulocyte absolute calc', 'Lab_entry: aspartate aminotransferase', 'Lab_entry: lactate dehydrogenase body fl',\n",
    "            'Lab_entry: absolute eosinophil count', 'Lab_entry: other mononuclear cells bf', 'Lab_entry: uric acid serum', \n",
    "            'Lab_entry: lactate whole blood arterial', 'Lab_entry: c-reactive protein',\n",
    "            'Lab_entry: bilirubin total', 'Lab_entry: bands', 'Lab_entry: i stat sodium', \n",
    "            'Lab_entry: protein total serum/plasma', 'Lab_entry: troponin i', \n",
    "            'Lab_entry: blood urea nitrogen', 'Lab_entry: nrbc absolute', \n",
    "            'Lab_entry: i stat troponin', 'Lab_entry: oxygen', \n",
    "            'Lab_entry: transferrin', 'Lab_entry: glycated hemoglobin - a1c', 'Lab_entry: ph venous', \n",
    "            'Lab_entry: sodium random urine', 'Lab_entry: iron serum', \n",
    "            'Lab_entry: red blood cell count', 'Lab_entry:alanine aminotransferase', 'Lab_entry: i stat glucose', \n",
    "            'Lab_entry: segmented neutrophils csf', 'Lab_entry: bands csf',\n",
    "            'Lab_entry: i stat venous ph', 'Lab_entry: urobilinogen urine',\n",
    "            'Lab_entry: istat arterial tco2', 'Lab_entry: nucleated cells fluid', \n",
    "            'Lab_entry: lymphoctyes body fluid',\n",
    "            'Lab_entry: i stat potassium', 'Lab_entry: measured o2sat mixed venous', \n",
    "            'Lab_entry: ketones urine',  'Lab_entry: ceruloplasmin', \n",
    "            'Lab_entry: acetaminophen bld', 'Lab_entry: i stat venous so2', \n",
    "            'Lab_entry: i stat arterial so2', \n",
    "            'Lab_entry: ph body fluid', 'Lab_entry: sodiumserum/plasma', \n",
    "            'Lab_entry: creatinine random urine', 'Lab_entry: calcium serum/plasma', \n",
    "            'patientID', 'Lab_entry: bilirubin direct', 'Lab_entry: glucose cerebrospinal fluid', \n",
    "            'Lab_entry: thyroxine/t4 free', 'Lab_entry: prothrombin time', 'Lab_entry: creatine kinase', 'Lab_entry: creatinine serum/plasma', \n",
    "            'Lab_entry: %cd4+ t cells', 'Lab_entry: ammonia plasma', 'Lab_entry: ph arterial', \n",
    "            'Lab_entry: mean corpuscular volume','Lab_entry: eosinophil% urine', 'Lab_entry: schistocytes', \n",
    "            'Lab_entry: creatine kinase - mb', \n",
    "            'Lab_entry: i stat chloride',\n",
    "            'Lab_entry: albumin', 'Lab_entry: i stat arterial ph', \n",
    "            'Lab_entry: anion gap', 'Lab_entry: base excess arterial', 'Lab_entry: i stat arterial hco3', \n",
    "            'Lab_entry: monocytes/macrophages bf', 'Lab_entry: osmolality serum', 'Lab_entry: absolute eosinophils', \n",
    "            'Lab_entry: protein random urine', \n",
    "            'Lab_entry: i stat venous tco2', 'Lab_entry: point of care glucose'}"
   ]
  },
  {
   "cell_type": "code",
   "execution_count": 5,
   "metadata": {},
   "outputs": [],
   "source": [
    "unpack_col = []\n",
    "\n",
    "def unpack(breath, unpack_col=unpack_col):\n",
    "    for col in unpack_col:\n",
    "        key_names = set()\n",
    "        \n",
    "        if ('RT' in col) or ('RN' in col) or ('Lab' in col):\n",
    "            keys = breath[col].apply(lambda x: set(list(x[0].keys()))).tolist()\n",
    "            \n",
    "            for items in keys:\n",
    "                key_names.update(items)\n",
    "\n",
    "            for key in key_names:\n",
    "                breath[col +':'+ key] = breath[col].apply(lambda x: x[0][key] if key in x[0] else np.nan)\n",
    "        else:\n",
    "            keys = breath[col].apply(lambda x: set(list(x.keys()))).tolist()\n",
    "            \n",
    "            for items in keys:\n",
    "                key_names.update(items)\n",
    "\n",
    "            for key in key_names:\n",
    "                breath[col +':'+ key] = breath[col].apply(lambda x: x[key] if key in x else np.nan)\n",
    "\n",
    "        breath.drop(col, inplace=True, axis=1)\n",
    "    \n",
    "    return breath"
   ]
  },
  {
   "cell_type": "code",
   "execution_count": 7,
   "metadata": {},
   "outputs": [
    {
     "name": "stdout",
     "output_type": "stream",
     "text": [
      "P105 RNData\nRNData P105\nerror"
     ]
    },
    {
     "name": "stdout",
     "output_type": "stream",
     "text": [
      "\nP105"
     ]
    },
    {
     "name": "stdout",
     "output_type": "stream",
     "text": [
      " RawVentData\nRawVentData P105\nP105"
     ]
    },
    {
     "name": "stdout",
     "output_type": "stream",
     "text": [
      " RTData\nRTData P105\nerror"
     ]
    },
    {
     "name": "stdout",
     "output_type": "stream",
     "text": [
      "\nP106\nP106 VentData\nVentData P106\nP106"
     ]
    },
    {
     "name": "stdout",
     "output_type": "stream",
     "text": [
      " LabData\nLabData P106\nP106"
     ]
    },
    {
     "name": "stdout",
     "output_type": "stream",
     "text": [
      " VentModes\nVentModes P106\nP106"
     ]
    },
    {
     "name": "stdout",
     "output_type": "stream",
     "text": [
      " RNData\nRNData P106\nP106"
     ]
    },
    {
     "name": "stdout",
     "output_type": "stream",
     "text": [
      " RawVentData\nRawVentData P106\nP106"
     ]
    },
    {
     "name": "stdout",
     "output_type": "stream",
     "text": [
      " RTData\nRTData P106\nP107"
     ]
    },
    {
     "name": "stdout",
     "output_type": "stream",
     "text": [
      "\nP107 VentData\nVentData P107\nP107"
     ]
    },
    {
     "name": "stdout",
     "output_type": "stream",
     "text": [
      " LabData\nLabData P107\nP107"
     ]
    },
    {
     "name": "stdout",
     "output_type": "stream",
     "text": [
      " VentModes\nVentModes P107\nP107"
     ]
    },
    {
     "name": "stdout",
     "output_type": "stream",
     "text": [
      " RNData\nRNData P107\nP107"
     ]
    },
    {
     "name": "stdout",
     "output_type": "stream",
     "text": [
      " RawVentData\nRawVentData P107\nP107"
     ]
    },
    {
     "name": "stdout",
     "output_type": "stream",
     "text": [
      " RTData\nRTData P107\nP108"
     ]
    },
    {
     "name": "stdout",
     "output_type": "stream",
     "text": [
      "\nP108 VentData\nVentData P108\nP108"
     ]
    },
    {
     "name": "stdout",
     "output_type": "stream",
     "text": [
      " LabData\nLabData P108\nP108"
     ]
    },
    {
     "name": "stdout",
     "output_type": "stream",
     "text": [
      " VentModes\nVentModes P108\nP108"
     ]
    },
    {
     "name": "stdout",
     "output_type": "stream",
     "text": [
      " RNData\nRNData P108\nP108"
     ]
    },
    {
     "name": "stdout",
     "output_type": "stream",
     "text": [
      " RawVentData\nRawVentData P108\nP108"
     ]
    },
    {
     "name": "stdout",
     "output_type": "stream",
     "text": [
      " RTData\nRTData P108\nP109\nP109 VentData\nVentData P109\nP109"
     ]
    },
    {
     "name": "stdout",
     "output_type": "stream",
     "text": [
      " LabData\nLabData P109\nP109"
     ]
    },
    {
     "name": "stdout",
     "output_type": "stream",
     "text": [
      " VentModes\nVentModes P109\nP109"
     ]
    },
    {
     "name": "stdout",
     "output_type": "stream",
     "text": [
      " RNData\nRNData P109\nerror"
     ]
    },
    {
     "name": "stdout",
     "output_type": "stream",
     "text": [
      "\nP109"
     ]
    },
    {
     "name": "stdout",
     "output_type": "stream",
     "text": [
      " RawVentData\nRawVentData P109\nP109"
     ]
    },
    {
     "name": "stdout",
     "output_type": "stream",
     "text": [
      " RTData\nRTData P109\nerror"
     ]
    },
    {
     "name": "stdout",
     "output_type": "stream",
     "text": [
      "\nP110\nP110 VentData\nVentData P110\nP110"
     ]
    },
    {
     "name": "stdout",
     "output_type": "stream",
     "text": [
      " LabData\nLabData P110\nP110"
     ]
    },
    {
     "name": "stdout",
     "output_type": "stream",
     "text": [
      " VentModes\nVentModes P110\nP110"
     ]
    },
    {
     "name": "stdout",
     "output_type": "stream",
     "text": [
      " RNData\nRNData P110\nP110"
     ]
    },
    {
     "name": "stdout",
     "output_type": "stream",
     "text": [
      " RawVentData\nRawVentData P110\nP110"
     ]
    },
    {
     "name": "stdout",
     "output_type": "stream",
     "text": [
      " RTData\nRTData P110\nP112"
     ]
    },
    {
     "name": "stdout",
     "output_type": "stream",
     "text": [
      "\nP112 VentData\nVentData P112\nP112"
     ]
    },
    {
     "name": "stdout",
     "output_type": "stream",
     "text": [
      " LabData\nLabData P112\nP112"
     ]
    },
    {
     "name": "stdout",
     "output_type": "stream",
     "text": [
      " VentModes\nVentModes P112\nP112"
     ]
    },
    {
     "name": "stdout",
     "output_type": "stream",
     "text": [
      " RNData\nRNData P112\nP112"
     ]
    },
    {
     "name": "stdout",
     "output_type": "stream",
     "text": [
      " RawVentData\nRawVentData P112\nP112"
     ]
    },
    {
     "name": "stdout",
     "output_type": "stream",
     "text": [
      " RTData\nRTData P112\nP113"
     ]
    },
    {
     "name": "stdout",
     "output_type": "stream",
     "text": [
      "\nP113 VentData\nVentData P113\nP113"
     ]
    },
    {
     "name": "stdout",
     "output_type": "stream",
     "text": [
      " LabData\nLabData P113\nP113"
     ]
    },
    {
     "name": "stdout",
     "output_type": "stream",
     "text": [
      " VentModes\nVentModes P113\nP113"
     ]
    },
    {
     "name": "stdout",
     "output_type": "stream",
     "text": [
      " RNData\nRNData P113\nP113"
     ]
    },
    {
     "name": "stdout",
     "output_type": "stream",
     "text": [
      " RawVentData\nRawVentData P113\nP113"
     ]
    },
    {
     "name": "stdout",
     "output_type": "stream",
     "text": [
      " RTData\nRTData P113\nP114"
     ]
    },
    {
     "name": "stdout",
     "output_type": "stream",
     "text": [
      "\nP114 VentData\nVentData P114\nP114"
     ]
    },
    {
     "name": "stdout",
     "output_type": "stream",
     "text": [
      " LabData\nLabData P114\nP114"
     ]
    },
    {
     "name": "stdout",
     "output_type": "stream",
     "text": [
      " VentModes\nVentModes P114\nP114"
     ]
    },
    {
     "name": "stdout",
     "output_type": "stream",
     "text": [
      " RNData\nRNData P114\nerror"
     ]
    },
    {
     "name": "stdout",
     "output_type": "stream",
     "text": [
      "\nP114"
     ]
    },
    {
     "name": "stdout",
     "output_type": "stream",
     "text": [
      " RawVentData\nRawVentData P114\nP114"
     ]
    },
    {
     "name": "stdout",
     "output_type": "stream",
     "text": [
      " RTData\nRTData P114\nerror"
     ]
    },
    {
     "name": "stdout",
     "output_type": "stream",
     "text": [
      "\nP115\nP115 VentData\nVentData P115\nP115"
     ]
    },
    {
     "name": "stdout",
     "output_type": "stream",
     "text": [
      " LabData\nLabData P115\nP115"
     ]
    },
    {
     "name": "stdout",
     "output_type": "stream",
     "text": [
      " VentModes\nVentModes P115\nP115"
     ]
    },
    {
     "name": "stdout",
     "output_type": "stream",
     "text": [
      " RNData\nRNData P115\nP115"
     ]
    },
    {
     "name": "stdout",
     "output_type": "stream",
     "text": [
      " RawVentData\nRawVentData P115\nP115"
     ]
    },
    {
     "name": "stdout",
     "output_type": "stream",
     "text": [
      " RTData\nRTData P115\nP116"
     ]
    },
    {
     "name": "stdout",
     "output_type": "stream",
     "text": [
      "\nP116 VentData\nVentData P116\nP116"
     ]
    },
    {
     "name": "stdout",
     "output_type": "stream",
     "text": [
      " LabData\nLabData P116\nP116"
     ]
    },
    {
     "name": "stdout",
     "output_type": "stream",
     "text": [
      " VentModes\nVentModes P116\nP116"
     ]
    },
    {
     "name": "stdout",
     "output_type": "stream",
     "text": [
      " RNData\nRNData P116\nP116"
     ]
    },
    {
     "name": "stdout",
     "output_type": "stream",
     "text": [
      " RawVentData\nRawVentData P116\nP116"
     ]
    },
    {
     "name": "stdout",
     "output_type": "stream",
     "text": [
      " RTData\nRTData P116\nP117\nP117 VentData\nVentData P117\nP117"
     ]
    },
    {
     "name": "stdout",
     "output_type": "stream",
     "text": [
      " LabData\nLabData P117\nP117"
     ]
    },
    {
     "name": "stdout",
     "output_type": "stream",
     "text": [
      " VentModes\nVentModes P117\nP117"
     ]
    },
    {
     "name": "stdout",
     "output_type": "stream",
     "text": [
      " RNData\nRNData P117\nP117"
     ]
    },
    {
     "name": "stdout",
     "output_type": "stream",
     "text": [
      " RawVentData\nRawVentData P117\nP117"
     ]
    },
    {
     "name": "stdout",
     "output_type": "stream",
     "text": [
      " RTData\nRTData P117\nP118\nP118 VentData\nVentData P118\nP118"
     ]
    },
    {
     "name": "stdout",
     "output_type": "stream",
     "text": [
      " LabData\nLabData P118\nP118"
     ]
    },
    {
     "name": "stdout",
     "output_type": "stream",
     "text": [
      " VentModes\nVentModes P118\nP118"
     ]
    },
    {
     "name": "stdout",
     "output_type": "stream",
     "text": [
      " RNData\nRNData P118\nP118"
     ]
    },
    {
     "name": "stdout",
     "output_type": "stream",
     "text": [
      " RawVentData\nRawVentData P118\nP118"
     ]
    },
    {
     "name": "stdout",
     "output_type": "stream",
     "text": [
      " RTData\nRTData P118\nP119"
     ]
    },
    {
     "name": "stdout",
     "output_type": "stream",
     "text": [
      "\nP119 VentData\nVentData P119\nP119"
     ]
    },
    {
     "name": "stdout",
     "output_type": "stream",
     "text": [
      " LabData\nLabData P119\nP119"
     ]
    },
    {
     "name": "stdout",
     "output_type": "stream",
     "text": [
      " VentModes\nVentModes P119\nP119"
     ]
    },
    {
     "name": "stdout",
     "output_type": "stream",
     "text": [
      " RNData\nRNData P119\nP119"
     ]
    },
    {
     "name": "stdout",
     "output_type": "stream",
     "text": [
      " RawVentData\nRawVentData P119\nP119"
     ]
    },
    {
     "name": "stdout",
     "output_type": "stream",
     "text": [
      " RTData\nRTData P119\nP120"
     ]
    },
    {
     "name": "stdout",
     "output_type": "stream",
     "text": [
      "\nP120 VentData\nVentData P120\nP120"
     ]
    },
    {
     "name": "stdout",
     "output_type": "stream",
     "text": [
      " LabData\nLabData P120\nP120"
     ]
    },
    {
     "name": "stdout",
     "output_type": "stream",
     "text": [
      " VentModes\nVentModes P120\nP120"
     ]
    },
    {
     "name": "stdout",
     "output_type": "stream",
     "text": [
      " RNData\nRNData P120\nerror\nP120"
     ]
    },
    {
     "name": "stdout",
     "output_type": "stream",
     "text": [
      " RawVentData\nRawVentData P120\nP120"
     ]
    },
    {
     "name": "stdout",
     "output_type": "stream",
     "text": [
      " RTData\nRTData P120\nerror\nP121"
     ]
    },
    {
     "name": "stdout",
     "output_type": "stream",
     "text": [
      "\nP121 VentData\nVentData P121\nP121"
     ]
    },
    {
     "name": "stdout",
     "output_type": "stream",
     "text": [
      " LabData\nLabData P121\nP121"
     ]
    },
    {
     "name": "stdout",
     "output_type": "stream",
     "text": [
      " VentModes\nVentModes P121\nP121"
     ]
    },
    {
     "name": "stdout",
     "output_type": "stream",
     "text": [
      " RNData\nRNData P121\nerror"
     ]
    },
    {
     "name": "stdout",
     "output_type": "stream",
     "text": [
      "\nP121"
     ]
    },
    {
     "name": "stdout",
     "output_type": "stream",
     "text": [
      " RawVentData\nRawVentData P121\nP121"
     ]
    },
    {
     "name": "stdout",
     "output_type": "stream",
     "text": [
      " RTData\nRTData P121\nerror\nP122"
     ]
    },
    {
     "name": "stdout",
     "output_type": "stream",
     "text": [
      "\nP122 VentData\nVentData P122\nP122"
     ]
    },
    {
     "name": "stdout",
     "output_type": "stream",
     "text": [
      " LabData\nLabData P122\nP122"
     ]
    },
    {
     "name": "stdout",
     "output_type": "stream",
     "text": [
      " VentModes\nVentModes P122\nP122"
     ]
    },
    {
     "name": "stdout",
     "output_type": "stream",
     "text": [
      " RNData\nRNData P122\nP122"
     ]
    },
    {
     "name": "stdout",
     "output_type": "stream",
     "text": [
      " RawVentData\nRawVentData P122\nP122"
     ]
    },
    {
     "name": "stdout",
     "output_type": "stream",
     "text": [
      " RTData\nRTData P122\n"
     ]
    }
   ],
   "source": [
    "def dataCleanUp(path, patient, fileType, dataBase):\n",
    "    # sets up the headings to unpack or drop, as well as data types to confirm for each file type\n",
    "    files_params = {'unpack': {'VentData': ['characteristics', 'vent_settings', 'analysis'],\n",
    "                               'RawVentData': ['data_frame'],\n",
    "                               'VentModes': ['vent_settings'],\n",
    "                               'RTData': ['RT_entry'],\n",
    "                               'RNData': ['RN_entry'],\n",
    "                               'LabData': ['Lab_entry']},\n",
    "                    'drop': {'VentData': \"['_id', 'file_name', 'data_frame', 'vent_settings:file_name',\"\n",
    "                                         \"'vent_settings:reference_doc','vent_settings:distance',\"\n",
    "                                         \"'characteristics:max_flow', 'characteristics:min_flow',\"\n",
    "                                         \"'characteristics:max_pressure', 'characteristics:min_pressure',\"\n",
    "                                         \"'vent_settings:load_errors', 'vent_settings:ie', 'vent_settings:vent_mode',\"\n",
    "                                         \"'analysis:validation']\",\n",
    "                             'RawVentData': \"['_id', 'file_name', 'characteristics', 'vent_settings', 'analysis', 'analysis:validation',\"\n",
    "                                            \" 'data_frame:DateTime', 'location', 'characteristics:ds_vol', 'end_time']\",\n",
    "                             'VentModes': \"breath.drop(set(breath.columns) - {'breath_number', 'patientID',\"\n",
    "                                          \"'start_time', 'vent_settings:vent_mode'}, inplace=True, axis=1)\",\n",
    "                             'RTData': \"['_id', 'file_name', 'location']\",\n",
    "                             'RNData': \"['_id', 'file_name', 'location']\",\n",
    "                             'LabData': \"['_id', 'file_name', 'location']\"},\n",
    "                    'data_types': {'VentData': {'breath_number': int, 'characteristics:ds_vol': float,\n",
    "                                                'end_time': int, 'patientID': int, 'start_time': float,\n",
    "                                                'characteristics:max_vol': float,\n",
    "                                                'characteristics:peak_insp_flow': float,\n",
    "                                                'characteristics:exp_time': float,\n",
    "                                                'characteristics:min_exp_flow': float,\n",
    "                                                'characteristics:min_vol': float, 'characteristics:end_insp_vol': float,\n",
    "                                                'characteristics:peak_pressure': float,\n",
    "                                                'characteristics:insp_time': float,\n",
    "                                                'characteristics:breath_time': float, 'vent_settings:trigger': int,\n",
    "                                                'vent_settings:p_mean': int,\n",
    "                                                'vent_settings:PEEP': float, 'vent_settings:ramp': int,\n",
    "                                                'vent_settings:ti': float, 'vent_settings:p_peak': int,\n",
    "                                                'vent_settings:compliance': int, 'vent_settings:set_VT': int,\n",
    "                                                'vent_settings:FiO2': int, 'vent_settings:p_plat': int,\n",
    "                                                'vent_settings:te': float, 'vent_settings:set_rate': float,\n",
    "                                                'analysis:pl': int, 'analysis:pvt': int, 'analysis:ie': int,\n",
    "                                                'analysis:fl': int, 'analysis:ds': int, 'analysis:pds': int},\n",
    "                                   'VentModes': {'breath_number': int, 'patientID': int}}\n",
    "                    }\n",
    "\n",
    "    print(fileType, patient)\n",
    "    if fileType == 'RawVentData':\n",
    "        results = breath_data.find({'patientID': 'P100'},{'_id':0, 'breath_number':1, 'patientID':1, 'start_time':1, \n",
    "                                                      'data_frame.Time':1, 'data_frame.Flow':1, 'data_frame.Paw':1, 'data_frame.Volume':1, 'data_frame.Status':1})\n",
    "\n",
    "        breath = pd.DataFrame()\n",
    "        \n",
    "        for items in results:    \n",
    "            test = pd.DataFrame(items['data_frame'])\n",
    "            test['breath_number'] = items['breath_number']\n",
    "            test['patientID'] = items['patientID']\n",
    "            test['start_time'] = items['start_time']\n",
    "            \n",
    "            breath = breath.append(test)\n",
    "    \n",
    "    else:\n",
    "        results = dataBase.find({'patientID': patient})\n",
    "        raw_data = pd.DataFrame(list(results))\n",
    "    \n",
    "        breath = unpack(raw_data, unpack_col=files_params['unpack'][fileType])\n",
    "        breath.drop(eval(files_params['drop'][fileType]), inplace=True, axis=1, errors='ignore')\n",
    "    \n",
    "    admit_date = patient_data.find_one({'_id': patient}, {'_id': 0, 'admit_date': 1})['admit_date']\n",
    "    date_col = {'Lab_entry:DateTime', 'RN_entry:DateTime', 'RT_entry:DateTime', 'entry_time', 'start_time',\n",
    "                'end_time'} & set(breath.columns)\n",
    "\n",
    "    for col in date_col:\n",
    "        breath[col] = breath[col].apply(lambda x: (x - admit_date).value / 1000000000)\n",
    "\n",
    "    breath['patientID'] = breath['patientID'].str.strip('P')\n",
    "\n",
    "    if fileType == 'VentData':\n",
    "        dyssync_type = ['ds', 'pds', 'fl', 'pl', 'pvt', 'ie']\n",
    "        for types in dyssync_type:\n",
    "            breath['analysis:' + types].fillna(value=0, inplace=True)\n",
    "            breath['analysis:' + types] = breath['analysis:' + types].astype(int, copy=False)\n",
    "\n",
    "        breath.fillna(value=-999, inplace=True)\n",
    "        for col, key in files_params['data_types'][fileType].items():\n",
    "            try:\n",
    "                breath[col].astype(key)\n",
    "            except:\n",
    "                print(col, key)\n",
    "        breath.replace(to_replace=-999, value=np.nan, inplace=True)\n",
    "\n",
    "        breath.rename(columns={'vent_settings:p_plat': 'characteristics:p_plat',\n",
    "                               'vent_settings:compliance': 'characteristics:compliance',\n",
    "                               'vent_settings:leak': 'characteristics:leak',\n",
    "                               'vent_settings:p_peak': 'characteristics:p_peak',\n",
    "                               'vent_settings:p_mean': 'characteristics:p_mean'}, inplace=True)\n",
    "\n",
    "    if fileType == 'RTData':\n",
    "        breath.drop(['RT_entry:DateTime', 'RT_entry:index', 'entry_number'], axis=1, inplace=True)\n",
    "        try:\n",
    "            breath['A-SBP'] = breath['RT_entry:A-line'].apply(lambda x: str(x).split('/')[0] if len(str(x).split('/')) == 2 else np.nan)\n",
    "            breath['A-DBP'] = breath['RT_entry:A-line'].apply(lambda x: str(x).split('/')[1] if len(str(x).split('/')) == 2 else np.nan)\n",
    "        except:\n",
    "            print('error')\n",
    "           \n",
    "        try:    \n",
    "            breath['SBP'] = breath['RT_entry:BP'].apply(lambda x: str(x).split('/')[0] if len(str(x).split('/')) == 2 else np.nan)\n",
    "            breath['DBP'] = breath['RT_entry:BP'].apply(lambda x: str(x).split('/')[1] if len(str(x).split('/')) == 2 else np.nan)\n",
    "\n",
    "        except:\n",
    "            print('error')\n",
    "\n",
    "    if fileType == 'RNData':\n",
    "        breath.drop(['RN_entry:DateTime', 'RN_entry:index', 'entry_number'], axis=1, inplace=True)\n",
    "        try:\n",
    "            breath['A-SBP'] = breath['RN_entry:A-line'].apply(lambda x: str(x).split('/')[0] if len(str(x).split('/')) == 2 else np.nan)\n",
    "            breath['A-DBP'] = breath['RN_entry:A-line'].apply(lambda x: str(x).split('/')[1] if len(str(x).split('/')) == 2 else np.nan)\n",
    "        except:\n",
    "            print('error')\n",
    "        try:   \n",
    "            breath['SBP'] = breath['RN_entry:BP'].apply(lambda x: str(x).split('/')[0] if len(str(x).split('/')) == 2 else np.nan)\n",
    "            breath['DBP'] = breath['RN_entry:BP'].apply( lambda x: str(x).split('/')[1] if len(str(x).split('/')) == 2 else np.nan)\n",
    "        except:\n",
    "            print('error')\n",
    "            \n",
    "    if fileType == 'LabData':\n",
    "        breath.drop(['Lab_entry:DateTime', 'Lab_entry:index', 'entry_number'], axis=1, inplace=True)\n",
    "\n",
    "    if fileType != 'VentModes':\n",
    "        for col in breath.columns:\n",
    "            try:\n",
    "                breath[col].astype(float)\n",
    "            except ValueError:\n",
    "                breath.drop(col, axis=1, inplace=True)\n",
    "\n",
    "    return breath\n",
    "\n",
    "#, \n",
    "files = {'VentData': breath_data, 'RawVentData': breath_data, 'VentModes': breath_data, 'RTData': RT_data,\n",
    "         'RNData': RN_data, 'LabData': Lab_data}\n",
    "\n",
    "#files = {'RNData': RN_data}\n",
    "\n",
    "\n",
    "for patient in patients:\n",
    "    if not os.path.exists(path + patient):\n",
    "        print(patient)\n",
    "        os.makedirs(path + patient)\n",
    "\n",
    "    for file, database in files.items():\n",
    "        if not os.path.exists(path + patient + '/' + file + '.csv'):\n",
    "            print(patient, file)\n",
    "            df = dataCleanUp(path, patient, file, database)\n",
    "            df.to_csv(path + patient + '/' + file + '.csv')"
   ]
  },
  {
   "cell_type": "code",
   "execution_count": 8,
   "metadata": {},
   "outputs": [
    {
     "ename": "NameError",
     "evalue": "name 'patient_df' is not defined",
     "output_type": "error",
     "traceback": [
      "\u001b[1;31m---------------------------------------------------------------------------\u001b[0m",
      "\u001b[1;31mNameError\u001b[0m                                 Traceback (most recent call last)",
      "\u001b[1;32m<ipython-input-8-8fe89053ce27>\u001b[0m in \u001b[0;36m<module>\u001b[1;34m()\u001b[0m\n\u001b[0;32m      1\u001b[0m \u001b[0mdate_col\u001b[0m \u001b[1;33m=\u001b[0m \u001b[1;33m[\u001b[0m\u001b[1;34m'recording_date'\u001b[0m\u001b[1;33m,\u001b[0m \u001b[1;34m'intubation_date'\u001b[0m\u001b[1;33m,\u001b[0m\u001b[1;34m'icu_admit_date'\u001b[0m\u001b[1;33m,\u001b[0m \u001b[1;34m'icu_dc_time'\u001b[0m\u001b[1;33m,\u001b[0m \u001b[1;34m'hospital_dc_time'\u001b[0m\u001b[1;33m,\u001b[0m \u001b[1;34m'extubation_date'\u001b[0m\u001b[1;33m,\u001b[0m \u001b[1;34m'admit_date'\u001b[0m\u001b[1;33m]\u001b[0m\u001b[1;33m\u001b[0m\u001b[0m\n\u001b[0;32m      2\u001b[0m \u001b[1;33m\u001b[0m\u001b[0m\n\u001b[1;32m----> 3\u001b[1;33m \u001b[0mpatient_df\u001b[0m\u001b[1;33m[\u001b[0m\u001b[1;34m'admit_date'\u001b[0m\u001b[1;33m]\u001b[0m \u001b[1;33m=\u001b[0m \u001b[0mpd\u001b[0m\u001b[1;33m.\u001b[0m\u001b[0mto_datetime\u001b[0m\u001b[1;33m(\u001b[0m\u001b[0mpatient_df\u001b[0m\u001b[1;33m[\u001b[0m\u001b[1;34m'admit_date'\u001b[0m\u001b[1;33m]\u001b[0m\u001b[1;33m)\u001b[0m\u001b[1;33m\u001b[0m\u001b[0m\n\u001b[0m\u001b[0;32m      4\u001b[0m \u001b[1;32mfor\u001b[0m \u001b[0mcol\u001b[0m \u001b[1;32min\u001b[0m \u001b[0mdate_col\u001b[0m\u001b[1;33m:\u001b[0m\u001b[1;33m\u001b[0m\u001b[0m\n\u001b[0;32m      5\u001b[0m     \u001b[0mpatient_df\u001b[0m\u001b[1;33m[\u001b[0m\u001b[0mcol\u001b[0m\u001b[1;33m]\u001b[0m \u001b[1;33m=\u001b[0m \u001b[0mpd\u001b[0m\u001b[1;33m.\u001b[0m\u001b[0mto_datetime\u001b[0m\u001b[1;33m(\u001b[0m\u001b[0mpatient_df\u001b[0m\u001b[1;33m[\u001b[0m\u001b[0mcol\u001b[0m\u001b[1;33m]\u001b[0m\u001b[1;33m)\u001b[0m\u001b[1;33m\u001b[0m\u001b[0m\n",
      "\u001b[1;31mNameError\u001b[0m: name 'patient_df' is not defined"
     ]
    }
   ],
   "source": [
    "date_col = ['recording_date', 'intubation_date','icu_admit_date', 'icu_dc_time', 'hospital_dc_time', 'extubation_date', 'admit_date']\n",
    "\n",
    "patient_df['admit_date'] = pd.to_datetime(patient_df['admit_date'])\n",
    "for col in date_col:\n",
    "    patient_df[col] = pd.to_datetime(patient_df[col])\n",
    "    patient_df[col] = patient_df.apply(lambda x: x[col] - x['admit_date'], axis=1)"
   ]
  },
  {
   "cell_type": "code",
   "execution_count": 10,
   "metadata": {},
   "outputs": [],
   "source": [
    "patient_df.to_csv(path + 'demographics.csv')"
   ]
  },
  {
   "cell_type": "code",
   "execution_count": 24,
   "metadata": {},
   "outputs": [
    {
     "data": {
      "text/plain": [
       "155260800.0"
      ]
     },
     "execution_count": 24,
     "output_type": "execute_result",
     "metadata": {}
    }
   ],
   "source": [
    "(pd.to_datetime('1/13/15')-pd.to_datetime('2/11/10')).total_seconds()"
   ]
  },
  {
   "cell_type": "code",
   "execution_count": 23,
   "metadata": {},
   "outputs": [
    {
     "data": {
      "text/plain": [
       "155260800000000000"
      ]
     },
     "execution_count": 23,
     "output_type": "execute_result",
     "metadata": {}
    }
   ],
   "source": [
    "(pd.to_datetime('1/13/15')-pd.to_datetime('2/11/10')).value"
   ]
  },
  {
   "cell_type": "code",
   "execution_count": 20,
   "metadata": {},
   "outputs": [
    {
     "ename": "KeyError",
     "evalue": "'A-SBP'",
     "output_type": "error",
     "traceback": [
      "\u001b[1;31m---------------------------------------------------------------------------\u001b[0m",
      "\u001b[1;31mKeyError\u001b[0m                                  Traceback (most recent call last)",
      "\u001b[1;32m<ipython-input-20-8bae87967e20>\u001b[0m in \u001b[0;36m<module>\u001b[1;34m()\u001b[0m\n\u001b[1;32m----> 1\u001b[1;33m \u001b[0mdf\u001b[0m\u001b[1;33m[\u001b[0m\u001b[1;34m'A-SBP'\u001b[0m\u001b[1;33m]\u001b[0m\u001b[1;33m\u001b[0m\u001b[0m\n\u001b[0m",
      "\u001b[1;32m/home/sottile/anaconda3/lib/python3.4/site-packages/pandas/core/frame.py\u001b[0m in \u001b[0;36m__getitem__\u001b[1;34m(self, key)\u001b[0m\n\u001b[0;32m   1795\u001b[0m             \u001b[1;32mreturn\u001b[0m \u001b[0mself\u001b[0m\u001b[1;33m.\u001b[0m\u001b[0m_getitem_multilevel\u001b[0m\u001b[1;33m(\u001b[0m\u001b[0mkey\u001b[0m\u001b[1;33m)\u001b[0m\u001b[1;33m\u001b[0m\u001b[0m\n\u001b[0;32m   1796\u001b[0m         \u001b[1;32melse\u001b[0m\u001b[1;33m:\u001b[0m\u001b[1;33m\u001b[0m\u001b[0m\n\u001b[1;32m-> 1797\u001b[1;33m             \u001b[1;32mreturn\u001b[0m \u001b[0mself\u001b[0m\u001b[1;33m.\u001b[0m\u001b[0m_getitem_column\u001b[0m\u001b[1;33m(\u001b[0m\u001b[0mkey\u001b[0m\u001b[1;33m)\u001b[0m\u001b[1;33m\u001b[0m\u001b[0m\n\u001b[0m\u001b[0;32m   1798\u001b[0m \u001b[1;33m\u001b[0m\u001b[0m\n\u001b[0;32m   1799\u001b[0m     \u001b[1;32mdef\u001b[0m \u001b[0m_getitem_column\u001b[0m\u001b[1;33m(\u001b[0m\u001b[0mself\u001b[0m\u001b[1;33m,\u001b[0m \u001b[0mkey\u001b[0m\u001b[1;33m)\u001b[0m\u001b[1;33m:\u001b[0m\u001b[1;33m\u001b[0m\u001b[0m\n",
      "\u001b[1;32m/home/sottile/anaconda3/lib/python3.4/site-packages/pandas/core/frame.py\u001b[0m in \u001b[0;36m_getitem_column\u001b[1;34m(self, key)\u001b[0m\n\u001b[0;32m   1802\u001b[0m         \u001b[1;31m# get column\u001b[0m\u001b[1;33m\u001b[0m\u001b[1;33m\u001b[0m\u001b[0m\n\u001b[0;32m   1803\u001b[0m         \u001b[1;32mif\u001b[0m \u001b[0mself\u001b[0m\u001b[1;33m.\u001b[0m\u001b[0mcolumns\u001b[0m\u001b[1;33m.\u001b[0m\u001b[0mis_unique\u001b[0m\u001b[1;33m:\u001b[0m\u001b[1;33m\u001b[0m\u001b[0m\n\u001b[1;32m-> 1804\u001b[1;33m             \u001b[1;32mreturn\u001b[0m \u001b[0mself\u001b[0m\u001b[1;33m.\u001b[0m\u001b[0m_get_item_cache\u001b[0m\u001b[1;33m(\u001b[0m\u001b[0mkey\u001b[0m\u001b[1;33m)\u001b[0m\u001b[1;33m\u001b[0m\u001b[0m\n\u001b[0m\u001b[0;32m   1805\u001b[0m \u001b[1;33m\u001b[0m\u001b[0m\n\u001b[0;32m   1806\u001b[0m         \u001b[1;31m# duplicate columns & possible reduce dimensionaility\u001b[0m\u001b[1;33m\u001b[0m\u001b[1;33m\u001b[0m\u001b[0m\n",
      "\u001b[1;32m/home/sottile/anaconda3/lib/python3.4/site-packages/pandas/core/generic.py\u001b[0m in \u001b[0;36m_get_item_cache\u001b[1;34m(self, item)\u001b[0m\n\u001b[0;32m   1082\u001b[0m         \u001b[0mres\u001b[0m \u001b[1;33m=\u001b[0m \u001b[0mcache\u001b[0m\u001b[1;33m.\u001b[0m\u001b[0mget\u001b[0m\u001b[1;33m(\u001b[0m\u001b[0mitem\u001b[0m\u001b[1;33m)\u001b[0m\u001b[1;33m\u001b[0m\u001b[0m\n\u001b[0;32m   1083\u001b[0m         \u001b[1;32mif\u001b[0m \u001b[0mres\u001b[0m \u001b[1;32mis\u001b[0m \u001b[1;32mNone\u001b[0m\u001b[1;33m:\u001b[0m\u001b[1;33m\u001b[0m\u001b[0m\n\u001b[1;32m-> 1084\u001b[1;33m             \u001b[0mvalues\u001b[0m \u001b[1;33m=\u001b[0m \u001b[0mself\u001b[0m\u001b[1;33m.\u001b[0m\u001b[0m_data\u001b[0m\u001b[1;33m.\u001b[0m\u001b[0mget\u001b[0m\u001b[1;33m(\u001b[0m\u001b[0mitem\u001b[0m\u001b[1;33m)\u001b[0m\u001b[1;33m\u001b[0m\u001b[0m\n\u001b[0m\u001b[0;32m   1085\u001b[0m             \u001b[0mres\u001b[0m \u001b[1;33m=\u001b[0m \u001b[0mself\u001b[0m\u001b[1;33m.\u001b[0m\u001b[0m_box_item_values\u001b[0m\u001b[1;33m(\u001b[0m\u001b[0mitem\u001b[0m\u001b[1;33m,\u001b[0m \u001b[0mvalues\u001b[0m\u001b[1;33m)\u001b[0m\u001b[1;33m\u001b[0m\u001b[0m\n\u001b[0;32m   1086\u001b[0m             \u001b[0mcache\u001b[0m\u001b[1;33m[\u001b[0m\u001b[0mitem\u001b[0m\u001b[1;33m]\u001b[0m \u001b[1;33m=\u001b[0m \u001b[0mres\u001b[0m\u001b[1;33m\u001b[0m\u001b[0m\n",
      "\u001b[1;32m/home/sottile/anaconda3/lib/python3.4/site-packages/pandas/core/internals.py\u001b[0m in \u001b[0;36mget\u001b[1;34m(self, item, fastpath)\u001b[0m\n\u001b[0;32m   2849\u001b[0m \u001b[1;33m\u001b[0m\u001b[0m\n\u001b[0;32m   2850\u001b[0m             \u001b[1;32mif\u001b[0m \u001b[1;32mnot\u001b[0m \u001b[0misnull\u001b[0m\u001b[1;33m(\u001b[0m\u001b[0mitem\u001b[0m\u001b[1;33m)\u001b[0m\u001b[1;33m:\u001b[0m\u001b[1;33m\u001b[0m\u001b[0m\n\u001b[1;32m-> 2851\u001b[1;33m                 \u001b[0mloc\u001b[0m \u001b[1;33m=\u001b[0m \u001b[0mself\u001b[0m\u001b[1;33m.\u001b[0m\u001b[0mitems\u001b[0m\u001b[1;33m.\u001b[0m\u001b[0mget_loc\u001b[0m\u001b[1;33m(\u001b[0m\u001b[0mitem\u001b[0m\u001b[1;33m)\u001b[0m\u001b[1;33m\u001b[0m\u001b[0m\n\u001b[0m\u001b[0;32m   2852\u001b[0m             \u001b[1;32melse\u001b[0m\u001b[1;33m:\u001b[0m\u001b[1;33m\u001b[0m\u001b[0m\n\u001b[0;32m   2853\u001b[0m                 \u001b[0mindexer\u001b[0m \u001b[1;33m=\u001b[0m \u001b[0mnp\u001b[0m\u001b[1;33m.\u001b[0m\u001b[0marange\u001b[0m\u001b[1;33m(\u001b[0m\u001b[0mlen\u001b[0m\u001b[1;33m(\u001b[0m\u001b[0mself\u001b[0m\u001b[1;33m.\u001b[0m\u001b[0mitems\u001b[0m\u001b[1;33m)\u001b[0m\u001b[1;33m)\u001b[0m\u001b[1;33m[\u001b[0m\u001b[0misnull\u001b[0m\u001b[1;33m(\u001b[0m\u001b[0mself\u001b[0m\u001b[1;33m.\u001b[0m\u001b[0mitems\u001b[0m\u001b[1;33m)\u001b[0m\u001b[1;33m]\u001b[0m\u001b[1;33m\u001b[0m\u001b[0m\n",
      "\u001b[1;32m/home/sottile/anaconda3/lib/python3.4/site-packages/pandas/core/index.py\u001b[0m in \u001b[0;36mget_loc\u001b[1;34m(self, key, method)\u001b[0m\n\u001b[0;32m   1570\u001b[0m         \"\"\"\n\u001b[0;32m   1571\u001b[0m         \u001b[1;32mif\u001b[0m \u001b[0mmethod\u001b[0m \u001b[1;32mis\u001b[0m \u001b[1;32mNone\u001b[0m\u001b[1;33m:\u001b[0m\u001b[1;33m\u001b[0m\u001b[0m\n\u001b[1;32m-> 1572\u001b[1;33m             \u001b[1;32mreturn\u001b[0m \u001b[0mself\u001b[0m\u001b[1;33m.\u001b[0m\u001b[0m_engine\u001b[0m\u001b[1;33m.\u001b[0m\u001b[0mget_loc\u001b[0m\u001b[1;33m(\u001b[0m\u001b[0m_values_from_object\u001b[0m\u001b[1;33m(\u001b[0m\u001b[0mkey\u001b[0m\u001b[1;33m)\u001b[0m\u001b[1;33m)\u001b[0m\u001b[1;33m\u001b[0m\u001b[0m\n\u001b[0m\u001b[0;32m   1573\u001b[0m \u001b[1;33m\u001b[0m\u001b[0m\n\u001b[0;32m   1574\u001b[0m         \u001b[0mindexer\u001b[0m \u001b[1;33m=\u001b[0m \u001b[0mself\u001b[0m\u001b[1;33m.\u001b[0m\u001b[0mget_indexer\u001b[0m\u001b[1;33m(\u001b[0m\u001b[1;33m[\u001b[0m\u001b[0mkey\u001b[0m\u001b[1;33m]\u001b[0m\u001b[1;33m,\u001b[0m \u001b[0mmethod\u001b[0m\u001b[1;33m=\u001b[0m\u001b[0mmethod\u001b[0m\u001b[1;33m)\u001b[0m\u001b[1;33m\u001b[0m\u001b[0m\n",
      "\u001b[1;32mpandas/index.pyx\u001b[0m in \u001b[0;36mpandas.index.IndexEngine.get_loc (pandas/index.c:3824)\u001b[1;34m()\u001b[0m\n",
      "\u001b[1;32mpandas/index.pyx\u001b[0m in \u001b[0;36mpandas.index.IndexEngine.get_loc (pandas/index.c:3704)\u001b[1;34m()\u001b[0m\n",
      "\u001b[1;32mpandas/hashtable.pyx\u001b[0m in \u001b[0;36mpandas.hashtable.PyObjectHashTable.get_item (pandas/hashtable.c:12280)\u001b[1;34m()\u001b[0m\n",
      "\u001b[1;32mpandas/hashtable.pyx\u001b[0m in \u001b[0;36mpandas.hashtable.PyObjectHashTable.get_item (pandas/hashtable.c:12231)\u001b[1;34m()\u001b[0m\n",
      "\u001b[1;31mKeyError\u001b[0m: 'A-SBP'"
     ]
    }
   ],
   "source": [
    "df['A-SBP']"
   ]
  },
  {
   "cell_type": "code",
   "execution_count": 17,
   "metadata": {},
   "outputs": [
    {
     "name": "stdout",
     "output_type": "stream",
     "text": [
      "123 56\n"
     ]
    }
   ],
   "source": [
    "print(one, two)"
   ]
  },
  {
   "cell_type": "code",
   "execution_count": null,
   "metadata": {},
   "outputs": [],
   "source": [
    ""
   ]
  }
 ],
 "metadata": {
  "kernelspec": {
   "display_name": "Python 3",
   "language": "python",
   "name": "python3"
  },
  "language_info": {
   "codemirror_mode": {
    "name": "ipython",
    "version": 3.0
   },
   "file_extension": ".py",
   "mimetype": "text/x-python",
   "name": "python",
   "nbconvert_exporter": "python",
   "pygments_lexer": "ipython3",
   "version": "3.4.3"
  }
 },
 "nbformat": 4,
 "nbformat_minor": 0
}