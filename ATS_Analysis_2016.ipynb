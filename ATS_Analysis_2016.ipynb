{
 "cells": [
  {
   "cell_type": "code",
   "execution_count": 1,
   "metadata": {
    "collapsed": false
   },
   "outputs": [],
   "source": [
    "import ATS_Analysis as ats\n",
    "import pandas as pd\n",
    "import numpy as np\n",
    "\n",
    "%matplotlib inline"
   ]
  },
  {
   "cell_type": "code",
   "execution_count": 2,
   "metadata": {
    "collapsed": false
   },
   "outputs": [
    {
     "name": "stdout",
     "output_type": "stream",
     "text": [
      "Index(['analysis.ds', 'analysis.fl', 'analysis.ie', 'analysis.pl',\n",
      "       'analysis.pvt', 'patientID', 'ds_rolling', 'ds_tot_rolling',\n",
      "       'ds_ds_freq'],\n",
      "      dtype='object')\n",
      "Index(['analysis.ds', 'analysis.fl', 'analysis.ie', 'analysis.pl',\n",
      "       'analysis.pvt', 'patientID', 'ds_rolling', 'ds_tot_rolling',\n",
      "       'ds_ds_freq', 'pl_rolling', 'pl_tot_rolling', 'pl_ds_freq'],\n",
      "      dtype='object')\n",
      "Index(['analysis.ds', 'analysis.fl', 'analysis.ie', 'analysis.pl',\n",
      "       'analysis.pvt', 'patientID', 'ds_rolling', 'ds_tot_rolling',\n",
      "       'ds_ds_freq', 'pl_rolling', 'pl_tot_rolling', 'pl_ds_freq',\n",
      "       'ie_rolling', 'ie_tot_rolling', 'ie_ds_freq'],\n",
      "      dtype='object')\n"
     ]
    },
    {
     "ename": "KeyError",
     "evalue": "['ds_freq']",
     "output_type": "error",
     "traceback": [
      "\u001b[1;31m---------------------------------------------------------------------------\u001b[0m",
      "\u001b[1;31mKeyError\u001b[0m                                  Traceback (most recent call last)",
      "\u001b[1;32m<ipython-input-2-429956ffbefe>\u001b[0m in \u001b[0;36m<module>\u001b[1;34m()\u001b[0m\n\u001b[0;32m      1\u001b[0m \u001b[0mpatient_list\u001b[0m \u001b[1;33m=\u001b[0m \u001b[1;33m[\u001b[0m\u001b[1;34m'P110'\u001b[0m\u001b[1;33m,\u001b[0m \u001b[1;34m'P112'\u001b[0m\u001b[1;33m,\u001b[0m \u001b[1;34m'P113'\u001b[0m\u001b[1;33m,\u001b[0m \u001b[1;34m'P114'\u001b[0m\u001b[1;33m,\u001b[0m \u001b[1;34m'P115'\u001b[0m\u001b[1;33m,\u001b[0m \u001b[1;34m'P116'\u001b[0m\u001b[1;33m,\u001b[0m \u001b[1;34m'P117'\u001b[0m\u001b[1;33m,\u001b[0m\u001b[1;34m'P118'\u001b[0m\u001b[1;33m,\u001b[0m \u001b[1;34m'P119'\u001b[0m\u001b[1;33m,\u001b[0m \u001b[1;34m'P120'\u001b[0m\u001b[1;33m]\u001b[0m\u001b[1;33m\u001b[0m\u001b[0m\n\u001b[1;32m----> 2\u001b[1;33m \u001b[0mdf\u001b[0m \u001b[1;33m=\u001b[0m \u001b[0mats\u001b[0m\u001b[1;33m.\u001b[0m\u001b[0mget_data\u001b[0m\u001b[1;33m(\u001b[0m\u001b[1;33m[\u001b[0m\u001b[1;34m'P110'\u001b[0m\u001b[1;33m]\u001b[0m\u001b[1;33m,\u001b[0m \u001b[1;33m[\u001b[0m\u001b[1;36m1\u001b[0m\u001b[1;33m,\u001b[0m \u001b[1;36m10\u001b[0m\u001b[1;33m,\u001b[0m \u001b[1;36m30\u001b[0m\u001b[1;33m,\u001b[0m \u001b[1;36m60\u001b[0m\u001b[1;33m,\u001b[0m \u001b[1;36m120\u001b[0m\u001b[1;33m,\u001b[0m \u001b[1;36m240\u001b[0m\u001b[1;33m]\u001b[0m\u001b[1;33m)\u001b[0m\u001b[1;33m\u001b[0m\u001b[0m\n\u001b[0m",
      "\u001b[1;32mC:\\Users\\sottilep\\PycharmProjects\\VentDysSedation\\ATS_Analysis.py\u001b[0m in \u001b[0;36mget_data\u001b[1;34m(patient_list, win_range)\u001b[0m\n\u001b[0;32m     59\u001b[0m         \u001b[1;32mfor\u001b[0m \u001b[0mwin\u001b[0m \u001b[1;32min\u001b[0m \u001b[0mwin_range\u001b[0m\u001b[1;33m:\u001b[0m\u001b[1;33m\u001b[0m\u001b[0m\n\u001b[0;32m     60\u001b[0m             \u001b[0mbreath_df\u001b[0m \u001b[1;33m=\u001b[0m \u001b[0mcollection_freq\u001b[0m\u001b[1;33m(\u001b[0m\u001b[0mbreath_df\u001b[0m\u001b[1;33m,\u001b[0m \u001b[0mwin\u001b[0m\u001b[1;33m)\u001b[0m\u001b[1;33m\u001b[0m\u001b[0m\n\u001b[1;32m---> 61\u001b[1;33m             \u001b[0mcombi_df\u001b[0m \u001b[1;33m=\u001b[0m \u001b[0mrolling_rass_combi\u001b[0m\u001b[1;33m(\u001b[0m\u001b[0mbreath_df\u001b[0m\u001b[1;33m,\u001b[0m \u001b[0mrn_df\u001b[0m\u001b[1;33m)\u001b[0m\u001b[1;33m\u001b[0m\u001b[0m\n\u001b[0m\u001b[0;32m     62\u001b[0m             \u001b[0mcombi_df\u001b[0m\u001b[1;33m[\u001b[0m\u001b[1;34m'patientID'\u001b[0m\u001b[1;33m]\u001b[0m\u001b[1;33m.\u001b[0m\u001b[0mfillna\u001b[0m\u001b[1;33m(\u001b[0m\u001b[0mmethod\u001b[0m \u001b[1;33m=\u001b[0m \u001b[1;34m'pad'\u001b[0m\u001b[1;33m,\u001b[0m \u001b[0minplace\u001b[0m \u001b[1;33m=\u001b[0m \u001b[1;32mTrue\u001b[0m\u001b[1;33m)\u001b[0m\u001b[1;33m\u001b[0m\u001b[0m\n\u001b[0;32m     63\u001b[0m             \u001b[0mcombi_df\u001b[0m\u001b[1;33m[\u001b[0m\u001b[1;34m'win'\u001b[0m\u001b[1;33m]\u001b[0m \u001b[1;33m=\u001b[0m \u001b[0mwin\u001b[0m\u001b[1;33m\u001b[0m\u001b[0m\n",
      "\u001b[1;32mC:\\Users\\sottilep\\PycharmProjects\\VentDysSedation\\ATS_Analysis.py\u001b[0m in \u001b[0;36mrolling_rass_combi\u001b[1;34m(breath_df, rn_df)\u001b[0m\n\u001b[0;32m     48\u001b[0m         \u001b[1;33m[\u001b[0m\u001b[1;34m'analysis.ds'\u001b[0m\u001b[1;33m,\u001b[0m \u001b[1;34m'analysis.fl'\u001b[0m\u001b[1;33m,\u001b[0m \u001b[1;34m'analysis.ie'\u001b[0m\u001b[1;33m,\u001b[0m \u001b[1;34m'analysis.pl'\u001b[0m\u001b[1;33m,\u001b[0m \u001b[1;34m'analysis.pvt'\u001b[0m\u001b[1;33m,\u001b[0m \u001b[1;34m'RN_entry'\u001b[0m\u001b[1;33m,\u001b[0m \u001b[1;34m'patientID_l'\u001b[0m\u001b[1;33m]\u001b[0m\u001b[1;33m,\u001b[0m\u001b[1;33m\u001b[0m\u001b[0m\n\u001b[0;32m     49\u001b[0m         axis = 1, inplace = True)\n\u001b[1;32m---> 50\u001b[1;33m     \u001b[0mcombi_df\u001b[0m\u001b[1;33m.\u001b[0m\u001b[0mdropna\u001b[0m\u001b[1;33m(\u001b[0m\u001b[0maxis\u001b[0m \u001b[1;33m=\u001b[0m \u001b[1;36m0\u001b[0m\u001b[1;33m,\u001b[0m \u001b[0mhow\u001b[0m \u001b[1;33m=\u001b[0m \u001b[1;34m'any'\u001b[0m\u001b[1;33m,\u001b[0m \u001b[0msubset\u001b[0m \u001b[1;33m=\u001b[0m \u001b[1;33m[\u001b[0m\u001b[1;34m'ds_freq'\u001b[0m\u001b[1;33m]\u001b[0m\u001b[1;33m,\u001b[0m \u001b[0minplace\u001b[0m \u001b[1;33m=\u001b[0m \u001b[1;32mTrue\u001b[0m\u001b[1;33m)\u001b[0m\u001b[1;33m\u001b[0m\u001b[0m\n\u001b[0m\u001b[0;32m     51\u001b[0m \u001b[1;33m\u001b[0m\u001b[0m\n\u001b[0;32m     52\u001b[0m     \u001b[1;32mreturn\u001b[0m \u001b[0mcombi_df\u001b[0m\u001b[1;33m\u001b[0m\u001b[0m\n",
      "\u001b[1;32mC:\\Users\\sottilep\\AppData\\Local\\Continuum\\Anaconda3\\lib\\site-packages\\pandas\\core\\frame.py\u001b[0m in \u001b[0;36mdropna\u001b[1;34m(self, axis, how, thresh, subset, inplace)\u001b[0m\n\u001b[0;32m   2899\u001b[0m                 \u001b[0mcheck\u001b[0m \u001b[1;33m=\u001b[0m \u001b[0mindices\u001b[0m \u001b[1;33m==\u001b[0m \u001b[1;33m-\u001b[0m\u001b[1;36m1\u001b[0m\u001b[1;33m\u001b[0m\u001b[0m\n\u001b[0;32m   2900\u001b[0m                 \u001b[1;32mif\u001b[0m \u001b[0mcheck\u001b[0m\u001b[1;33m.\u001b[0m\u001b[0many\u001b[0m\u001b[1;33m(\u001b[0m\u001b[1;33m)\u001b[0m\u001b[1;33m:\u001b[0m\u001b[1;33m\u001b[0m\u001b[0m\n\u001b[1;32m-> 2901\u001b[1;33m                     \u001b[1;32mraise\u001b[0m \u001b[0mKeyError\u001b[0m\u001b[1;33m(\u001b[0m\u001b[0mlist\u001b[0m\u001b[1;33m(\u001b[0m\u001b[0mnp\u001b[0m\u001b[1;33m.\u001b[0m\u001b[0mcompress\u001b[0m\u001b[1;33m(\u001b[0m\u001b[0mcheck\u001b[0m\u001b[1;33m,\u001b[0m\u001b[0msubset\u001b[0m\u001b[1;33m)\u001b[0m\u001b[1;33m)\u001b[0m\u001b[1;33m)\u001b[0m\u001b[1;33m\u001b[0m\u001b[0m\n\u001b[0m\u001b[0;32m   2902\u001b[0m                 \u001b[0magg_obj\u001b[0m \u001b[1;33m=\u001b[0m \u001b[0mself\u001b[0m\u001b[1;33m.\u001b[0m\u001b[0mtake\u001b[0m\u001b[1;33m(\u001b[0m\u001b[0mindices\u001b[0m\u001b[1;33m,\u001b[0m\u001b[0maxis\u001b[0m\u001b[1;33m=\u001b[0m\u001b[0magg_axis\u001b[0m\u001b[1;33m)\u001b[0m\u001b[1;33m\u001b[0m\u001b[0m\n\u001b[0;32m   2903\u001b[0m \u001b[1;33m\u001b[0m\u001b[0m\n",
      "\u001b[1;31mKeyError\u001b[0m: ['ds_freq']"
     ]
    }
   ],
   "source": [
    "patient_list = ['P110', 'P112', 'P113', 'P114', 'P115', 'P116', 'P117','P118', 'P119', 'P120']\n",
    "df = ats.get_data(['P110'], [1, 10, 30, 60, 120, 240])"
   ]
  },
  {
   "cell_type": "code",
   "execution_count": null,
   "metadata": {
    "collapsed": false
   },
   "outputs": [],
   "source": [
    "df.win.value_counts()"
   ]
  },
  {
   "cell_type": "code",
   "execution_count": null,
   "metadata": {
    "collapsed": false
   },
   "outputs": [],
   "source": [
    "df.columns"
   ]
  },
  {
   "cell_type": "code",
   "execution_count": null,
   "metadata": {
    "collapsed": true
   },
   "outputs": [],
   "source": [
    "grouped = df.groupby(['win', 'RASS'])"
   ]
  },
  {
   "cell_type": "code",
   "execution_count": null,
   "metadata": {
    "collapsed": false
   },
   "outputs": [],
   "source": [
    "grouped.boxplot(column='ds_freq', layout=(9,9), figsize=(10,15))"
   ]
  },
  {
   "cell_type": "code",
   "execution_count": null,
   "metadata": {
    "collapsed": false
   },
   "outputs": [],
   "source": [
    "grouped.boxplot(column='ie_freq', layout=(9,9), figsize=(10,15))"
   ]
  },
  {
   "cell_type": "code",
   "execution_count": null,
   "metadata": {
    "collapsed": false,
    "scrolled": true
   },
   "outputs": [],
   "source": [
    "grouped[['ds_rolling','tot_rolling', 'ds_freq']].mean().unstack(level=0)"
   ]
  },
  {
   "cell_type": "code",
   "execution_count": null,
   "metadata": {
    "collapsed": false
   },
   "outputs": [],
   "source": [
    "grouped[['ds_rolling','tot_rolling', 'ds_freq']].min().unstack(level=0)"
   ]
  },
  {
   "cell_type": "code",
   "execution_count": null,
   "metadata": {
    "collapsed": false
   },
   "outputs": [],
   "source": [
    "grouped[['ds_rolling','tot_rolling', 'ds_freq']].max().unstack(level=0)"
   ]
  },
  {
   "cell_type": "code",
   "execution_count": null,
   "metadata": {
    "collapsed": false
   },
   "outputs": [],
   "source": [
    "grouped[['ds_rolling','tot_rolling', 'ds_freq']].median().unstack(level=0)"
   ]
  },
  {
   "cell_type": "code",
   "execution_count": null,
   "metadata": {
    "collapsed": false
   },
   "outputs": [],
   "source": [
    "test['data'] = pd.DataFrame(np.random.randn(20))\n",
    "test['roll_cent'] = pd.rolling_sum(test['data'], window=3, center=True)\n",
    "test['roll_left'] = pd.rolling_sum(test['data'], window=3, center=False)\n",
    "test"
   ]
  },
  {
   "cell_type": "code",
   "execution_count": null,
   "metadata": {
    "collapsed": true
   },
   "outputs": [],
   "source": []
  }
 ],
 "metadata": {
  "kernelspec": {
   "display_name": "Python 3",
   "language": "python",
   "name": "python3"
  },
  "language_info": {
   "codemirror_mode": {
    "name": "ipython",
    "version": 3
   },
   "file_extension": ".py",
   "mimetype": "text/x-python",
   "name": "python",
   "nbconvert_exporter": "python",
   "pygments_lexer": "ipython3",
   "version": "3.4.3"
  }
 },
 "nbformat": 4,
 "nbformat_minor": 0
}
