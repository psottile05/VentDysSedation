{
 "cells": [
  {
   "cell_type": "code",
   "execution_count": 5,
   "metadata": {
    "collapsed": false
   },
   "outputs": [],
   "source": [
    "import ATS_Analysis as ats\n",
    "import pandas as pd\n",
    "import numpy as np\n",
    "\n",
    "%matplotlib inline"
   ]
  },
  {
   "cell_type": "code",
   "execution_count": 22,
   "metadata": {
    "collapsed": false
   },
   "outputs": [
    {
     "name": "stdout",
     "output_type": "stream",
     "text": [
      "P110 95 33 27\n",
      "P112 23 7 7\n",
      "P113 88 35 29\n",
      "P114 51 13 13\n",
      "P115 77 10 9\n",
      "P116 8 5 5\n",
      "P117 56 41 41\n"
     ]
    }
   ],
   "source": [
    "df = ats.get_data(['P110', 'P112', 'P113', 'P114', 'P115', 'P116', 'P117'], 10)"
   ]
  },
  {
   "cell_type": "code",
   "execution_count": 23,
   "metadata": {
    "collapsed": false
   },
   "outputs": [
    {
     "data": {
      "text/html": [
       "<div>\n",
       "<table border=\"1\" class=\"dataframe\">\n",
       "  <thead>\n",
       "    <tr style=\"text-align: right;\">\n",
       "      <th></th>\n",
       "      <th>RASS</th>\n",
       "      <th>patientID</th>\n",
       "      <th>ds_rolling</th>\n",
       "      <th>tot_rolling</th>\n",
       "      <th>ds_freq</th>\n",
       "    </tr>\n",
       "  </thead>\n",
       "  <tbody>\n",
       "    <tr>\n",
       "      <th>2014-10-16 16:30:00</th>\n",
       "      <td>-2</td>\n",
       "      <td>NaN</td>\n",
       "      <td>87</td>\n",
       "      <td>170</td>\n",
       "      <td>0.511765</td>\n",
       "    </tr>\n",
       "    <tr>\n",
       "      <th>2014-10-16 20:00:00</th>\n",
       "      <td>-2</td>\n",
       "      <td>NaN</td>\n",
       "      <td>108</td>\n",
       "      <td>176</td>\n",
       "      <td>0.613636</td>\n",
       "    </tr>\n",
       "    <tr>\n",
       "      <th>2014-10-17 00:00:00</th>\n",
       "      <td>-2</td>\n",
       "      <td>NaN</td>\n",
       "      <td>53</td>\n",
       "      <td>177</td>\n",
       "      <td>0.299435</td>\n",
       "    </tr>\n",
       "    <tr>\n",
       "      <th>2014-10-17 04:00:00</th>\n",
       "      <td>-2</td>\n",
       "      <td>NaN</td>\n",
       "      <td>96</td>\n",
       "      <td>180</td>\n",
       "      <td>0.533333</td>\n",
       "    </tr>\n",
       "    <tr>\n",
       "      <th>2014-10-17 07:45:00</th>\n",
       "      <td>-2</td>\n",
       "      <td>NaN</td>\n",
       "      <td>103</td>\n",
       "      <td>186</td>\n",
       "      <td>0.553763</td>\n",
       "    </tr>\n",
       "  </tbody>\n",
       "</table>\n",
       "</div>"
      ],
      "text/plain": [
       "                     RASS  patientID  ds_rolling  tot_rolling   ds_freq\n",
       "2014-10-16 16:30:00    -2        NaN          87          170  0.511765\n",
       "2014-10-16 20:00:00    -2        NaN         108          176  0.613636\n",
       "2014-10-17 00:00:00    -2        NaN          53          177  0.299435\n",
       "2014-10-17 04:00:00    -2        NaN          96          180  0.533333\n",
       "2014-10-17 07:45:00    -2        NaN         103          186  0.553763"
      ]
     },
     "execution_count": 23,
     "metadata": {},
     "output_type": "execute_result"
    }
   ],
   "source": [
    "df.head()"
   ]
  },
  {
   "cell_type": "code",
   "execution_count": 49,
   "metadata": {
    "collapsed": false
   },
   "outputs": [
    {
     "data": {
      "text/plain": [
       "<matplotlib.axes._subplots.AxesSubplot at 0xcd2e5c0>"
      ]
     },
     "execution_count": 49,
     "metadata": {},
     "output_type": "execute_result"
    },
    {
     "data": {
      "image/png": "[encoded data removed]",
      "text/plain": [
       "<matplotlib.figure.Figure at 0xcc730b8>"
      ]
     },
     "metadata": {},
     "output_type": "display_data"
    }
   ],
   "source": [
    "pd.DataFrame.boxplot(df, column='ds_freq', by='RASS')"
   ]
  },
  {
   "cell_type": "code",
   "execution_count": 50,
   "metadata": {
    "collapsed": false
   },
   "outputs": [
    {
     "data": {
      "text/plain": [
       "<matplotlib.axes._subplots.AxesSubplot at 0xd010748>"
      ]
     },
     "execution_count": 50,
     "metadata": {},
     "output_type": "execute_result"
    },
    {
     "name": "stderr",
     "output_type": "stream",
     "text": [
      "C:\\Users\\sottilep\\AppData\\Local\\Continuum\\Anaconda3\\lib\\site-packages\\matplotlib\\collections.py:590: FutureWarning: elementwise comparison failed; returning scalar instead, but in the future will perform elementwise comparison\n",
      "  if self._edgecolors == str('face'):\n"
     ]
    },
    {
     "data": {
      "image/png": "[encoded data removed]",
      "text/plain": [
       "<matplotlib.figure.Figure at 0xd01c4a8>"
      ]
     },
     "metadata": {},
     "output_type": "display_data"
    }
   ],
   "source": [
    "df.plot(kind='scatter', x='RASS', y='ds_freq')"
   ]
  },
  {
   "cell_type": "code",
   "execution_count": null,
   "metadata": {
    "collapsed": true
   },
   "outputs": [],
   "source": []
  }
 ],
 "metadata": {
  "kernelspec": {
   "display_name": "Python 3",
   "language": "python",
   "name": "python3"
  },
  "language_info": {
   "codemirror_mode": {
    "name": "ipython",
    "version": 3
   },
   "file_extension": ".py",
   "mimetype": "text/x-python",
   "name": "python",
   "nbconvert_exporter": "python",
   "pygments_lexer": "ipython3",
   "version": "3.4.3"
  }
 },
 "nbformat": 4,
 "nbformat_minor": 0
}
